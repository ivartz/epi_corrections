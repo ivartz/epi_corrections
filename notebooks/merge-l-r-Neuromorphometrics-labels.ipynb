{
 "cells": [
  {
   "cell_type": "code",
   "execution_count": 271,
   "metadata": {},
   "outputs": [],
   "source": [
    "corrections_base_directory = \"../../epi_corrections_out_2019_07_02_tumor_exluded_from_rcbv\"\n",
    "neuromorphometrics_file = corrections_base_directory + \"/labels_Neuromorphometrics.nii\"\n",
    "neuromorphometrics_xml_file = corrections_base_directory + \"/labels_Neuromorphometrics.xml\""
   ]
  },
  {
   "cell_type": "code",
   "execution_count": 272,
   "metadata": {},
   "outputs": [],
   "source": [
    "%run utils.py\n",
    "%run visualization.py"
   ]
  },
  {
   "cell_type": "markdown",
   "metadata": {},
   "source": [
    "Load data"
   ]
  },
  {
   "cell_type": "code",
   "execution_count": 273,
   "metadata": {},
   "outputs": [],
   "source": [
    "nm_data, nm_pixdim, nm_header = load_nifti(neuromorphometrics_file)"
   ]
  },
  {
   "cell_type": "markdown",
   "metadata": {},
   "source": [
    "Visualize"
   ]
  },
  {
   "cell_type": "code",
   "execution_count": 275,
   "metadata": {},
   "outputs": [],
   "source": [
    "#%gui qt5"
   ]
  },
  {
   "cell_type": "code",
   "execution_count": 276,
   "metadata": {},
   "outputs": [],
   "source": [
    "#spimagine_show_mni_volume_numpy(nm_data, stackUnits=nm_pixdim)"
   ]
  },
  {
   "cell_type": "markdown",
   "metadata": {},
   "source": [
    "Count number of regions"
   ]
  },
  {
   "cell_type": "code",
   "execution_count": 277,
   "metadata": {},
   "outputs": [],
   "source": [
    "region_values = np.unique(nm_data)"
   ]
  },
  {
   "cell_type": "markdown",
   "metadata": {},
   "source": [
    "Get region names from the xml file and remove region values from region_values that are not found in the xml file. This is only non-brain region if original Neuromorphometrics file is used"
   ]
  },
  {
   "cell_type": "code",
   "execution_count": 278,
   "metadata": {},
   "outputs": [],
   "source": [
    "import xml.etree.ElementTree as ET\n",
    "tree = ET.parse(neuromorphometrics_xml_file)\n",
    "region_names = []\n",
    "region_values_temp = []\n",
    "for i in tree.iter():\n",
    "    index = i.find(\"index\")\n",
    "    if index != None:\n",
    "        index_int = np.int(index.text)\n",
    "        if index_int in region_values:\n",
    "            name = i.find(\"name\")\n",
    "            region_values_temp += [index_int]\n",
    "            region_names += [name.text]\n",
    "region_values = np.array(region_values_temp) # Update region_values. Removes 0 (outside of the brain) region from region_values, since it does not have a name\n",
    "region_names = np.array(region_names)"
   ]
  },
  {
   "cell_type": "code",
   "execution_count": 279,
   "metadata": {},
   "outputs": [],
   "source": [
    "#region_names"
   ]
  },
  {
   "cell_type": "markdown",
   "metadata": {},
   "source": [
    "Verify that we have the same amount of regions with name and values"
   ]
  },
  {
   "cell_type": "code",
   "execution_count": 280,
   "metadata": {},
   "outputs": [
    {
     "data": {
      "text/plain": [
       "True"
      ]
     },
     "execution_count": 280,
     "metadata": {},
     "output_type": "execute_result"
    }
   ],
   "source": [
    "region_values.shape == region_names.shape"
   ]
  },
  {
   "cell_type": "markdown",
   "metadata": {},
   "source": [
    "Create empty array to place the merged data"
   ]
  },
  {
   "cell_type": "code",
   "execution_count": 281,
   "metadata": {},
   "outputs": [],
   "source": [
    "nm_data_lrmerged = np.zeros_like(nm_data)"
   ]
  },
  {
   "cell_type": "markdown",
   "metadata": {},
   "source": [
    "Create empty array to place the merged names"
   ]
  },
  {
   "cell_type": "code",
   "execution_count": 282,
   "metadata": {},
   "outputs": [],
   "source": [
    "region_names_merged = []"
   ]
  },
  {
   "cell_type": "markdown",
   "metadata": {},
   "source": [
    "Perform the merge"
   ]
  },
  {
   "cell_type": "code",
   "execution_count": 283,
   "metadata": {},
   "outputs": [],
   "source": [
    "value = 1\n",
    "for name in region_names:\n",
    "    if \"Left\" in name:\n",
    "        left_name = name\n",
    "        right_name = region_names[region_names == \"Right\" + name[len(\"Left\"):]][0]\n",
    "        left_name_value = region_values[np.where(region_names == left_name)][0]\n",
    "        right_name_value = region_values[np.where(region_names == right_name)][0]\n",
    "        \"\"\"\n",
    "        print(left_name)\n",
    "        print(left_name_value)\n",
    "        print(right_name)\n",
    "        print(right_name_value)\n",
    "        \"\"\"\n",
    "        # Set left and right regions to the value of the left region,\n",
    "        # thereby merging left and right region into one region.\n",
    "        #nm_data_lrmerged[nm_data == left_name_value] = left_name_value\n",
    "        #nm_data_lrmerged[nm_data == right_name_value] = left_name_value\n",
    "        \n",
    "        nm_data_lrmerged[nm_data == left_name_value] = value\n",
    "        nm_data_lrmerged[nm_data == right_name_value] = value\n",
    "        \n",
    "        # Append region names list\n",
    "        region_names_merged += [\"Left & right\" + name[len(\"Left\"):]]\n",
    "        \n",
    "        # Increment value\n",
    "        value += 1\n",
    "    elif not \"Right\" in name:\n",
    "        name_value = region_values[np.where(region_names == name)][0]\n",
    "        #nm_data_lrmerged[nm_data == name_value] = name_value\n",
    "        nm_data_lrmerged[nm_data == name_value] = value\n",
    "        region_names_merged += [name]\n",
    "        \n",
    "        # Incremnt value\n",
    "        value += 1\n",
    "region_names_merged = np.array(region_names_merged)"
   ]
  },
  {
   "cell_type": "markdown",
   "metadata": {},
   "source": [
    "Visualize the merged volume"
   ]
  },
  {
   "cell_type": "code",
   "execution_count": 284,
   "metadata": {},
   "outputs": [],
   "source": [
    "#spimagine_show_mni_volume_numpy(nm_data_lrmerged)"
   ]
  },
  {
   "cell_type": "markdown",
   "metadata": {},
   "source": [
    "Verify that we have the same amount of regions with merged name and values"
   ]
  },
  {
   "cell_type": "code",
   "execution_count": 285,
   "metadata": {},
   "outputs": [
    {
     "data": {
      "text/plain": [
       "True"
      ]
     },
     "execution_count": 285,
     "metadata": {},
     "output_type": "execute_result"
    }
   ],
   "source": [
    "region_names_merged.shape == np.unique(nm_data_lrmerged)[1:].shape"
   ]
  },
  {
   "cell_type": "code",
   "execution_count": 296,
   "metadata": {},
   "outputs": [
    {
     "data": {
      "text/plain": [
       "array([ 1.,  2.,  3.,  4.,  5.,  6.,  7.,  8.,  9., 10., 11., 12., 13.,\n",
       "       14., 15., 16., 17., 18., 19., 20., 21., 22., 23., 24., 25., 26.,\n",
       "       27., 28., 29., 30., 31., 32., 33., 34., 35., 36., 37., 38., 39.,\n",
       "       40., 41., 42., 43., 44., 45., 46., 47., 48., 49., 50., 51., 52.,\n",
       "       53., 54., 55., 56., 57., 58., 59., 60., 61., 62., 63., 64., 65.,\n",
       "       66., 67., 68., 69., 70., 71., 72.])"
      ]
     },
     "execution_count": 296,
     "metadata": {},
     "output_type": "execute_result"
    }
   ],
   "source": [
    "np.unique(nm_data_lrmerged)[1:]"
   ]
  },
  {
   "cell_type": "code",
   "execution_count": 300,
   "metadata": {},
   "outputs": [
    {
     "data": {
      "text/plain": [
       "array(['3rd Ventricle', '4th Ventricle', 'Left & right Accumbens Area',\n",
       "       'Left & right Amygdala', 'Brain Stem', 'Left & right Caudate',\n",
       "       'Left & right Cerebellum Exterior',\n",
       "       'Left & right Cerebellum White Matter',\n",
       "       'Left & right Cerebral White Matter', 'CSF',\n",
       "       'Left & right Hippocampus', 'Left & right Inf Lat Vent',\n",
       "       'Left & right Lateral Ventricle', 'Left & right Pallidum',\n",
       "       'Left & right Putamen', 'Left & right Thalamus Proper',\n",
       "       'Left & right Ventral DC', 'Left & right vessel', 'Optic Chiasm',\n",
       "       'Cerebellar Vermal Lobules I-V',\n",
       "       'Cerebellar Vermal Lobules VI-VII',\n",
       "       'Cerebellar Vermal Lobules VIII-X', 'Left & right Basal Forebrain',\n",
       "       'Left & right ACgG anterior cingulate gyrus',\n",
       "       'Left & right AIns anterior insula',\n",
       "       'Left & right AOrG anterior orbital gyrus',\n",
       "       'Left & right AnG angular gyrus',\n",
       "       'Left & right Calc calcarine cortex',\n",
       "       'Left & right CO central operculum', 'Left & right Cun cuneus',\n",
       "       'Left & right Ent entorhinal area',\n",
       "       'Left & right FO frontal operculum',\n",
       "       'Left & right FRP frontal pole', 'Left & right FuG fusiform gyrus',\n",
       "       'Left & right GRe gyrus rectus',\n",
       "       'Left & right IOG inferior occipital gyrus',\n",
       "       'Left & right ITG inferior temporal gyrus',\n",
       "       'Left & right LiG lingual gyrus',\n",
       "       'Left & right LOrG lateral orbital gyrus',\n",
       "       'Left & right MCgG middle cingulate gyrus',\n",
       "       'Left & right MFC medial frontal cortex',\n",
       "       'Left & right MFG middle frontal gyrus',\n",
       "       'Left & right MOG middle occipital gyrus',\n",
       "       'Left & right MOrG medial orbital gyrus',\n",
       "       'Left & right MPoG postcentral gyrus medial segment',\n",
       "       'Left & right MPrG precentral gyrus medial segment',\n",
       "       'Left & right MSFG superior frontal gyrus medial segment',\n",
       "       'Left & right MTG middle temporal gyrus',\n",
       "       'Left & right OCP occipital pole',\n",
       "       'Left & right OFuG occipital fusiform gyrus',\n",
       "       'Left & right OpIFG opercular part of the inferior frontal gyrus',\n",
       "       'Left & right OrIFG orbital part of the inferior frontal gyrus',\n",
       "       'Left & right PCgG posterior cingulate gyrus',\n",
       "       'Left & right PCu precuneus',\n",
       "       'Left & right PHG parahippocampal gyrus',\n",
       "       'Left & right PIns posterior insula',\n",
       "       'Left & right PO parietal operculum',\n",
       "       'Left & right PoG postcentral gyrus',\n",
       "       'Left & right POrG posterior orbital gyrus',\n",
       "       'Left & right PP planum polare',\n",
       "       'Left & right PrG precentral gyrus',\n",
       "       'Left & right PT planum temporale',\n",
       "       'Left & right SCA subcallosal area',\n",
       "       'Left & right SFG superior frontal gyrus',\n",
       "       'Left & right SMC supplementary motor cortex',\n",
       "       'Left & right SMG supramarginal gyrus',\n",
       "       'Left & right SOG superior occipital gyrus',\n",
       "       'Left & right SPL superior parietal lobule',\n",
       "       'Left & right STG superior temporal gyrus',\n",
       "       'Left & right TMP temporal pole',\n",
       "       'Left & right TrIFG triangular part of the inferior frontal gyrus',\n",
       "       'Left & right TTG transverse temporal gyrus'], dtype='<U64')"
      ]
     },
     "execution_count": 300,
     "metadata": {},
     "output_type": "execute_result"
    }
   ],
   "source": [
    "region_names_merged"
   ]
  },
  {
   "cell_type": "code",
   "execution_count": 287,
   "metadata": {},
   "outputs": [
    {
     "name": "stdout",
     "output_type": "stream",
     "text": [
      "Went from 136 to 72 regions by merging left and right\n"
     ]
    }
   ],
   "source": [
    "print(\"Went from %i to %i regions by merging left and right\" % (region_names.shape[0], region_names_merged.shape[0]))"
   ]
  },
  {
   "cell_type": "markdown",
   "metadata": {},
   "source": [
    "Save merged file using existing header and affine information"
   ]
  },
  {
   "cell_type": "code",
   "execution_count": 288,
   "metadata": {},
   "outputs": [],
   "source": [
    "# Need affine information\n",
    "nm_affine = nib.load(neuromorphometrics_file).affine\n",
    "\n",
    "# Create Nifti image class instance\n",
    "#nm_lrmerged_img = nib.spatialimages.SpatialImage(nm_data_lrmerged, affine=nm_affine, header=nm_header)\n",
    "nm_lrmerged_img = nib.Nifti1Image(nm_data_lrmerged.astype(np.uint8), nm_affine, header=nm_header)\n",
    "\n",
    "# Save cbv by overwriting original cbv file\n",
    "nib.save(nm_lrmerged_img, corrections_base_directory + \"/labels_Neuromorphometrics_lrmerged.nii\")"
   ]
  },
  {
   "cell_type": "code",
   "execution_count": 289,
   "metadata": {},
   "outputs": [],
   "source": [
    "# https://stackoverflow.com/questions/44397617/change-data-type-in-numpy-and-nibabel\n",
    "#nm_header['sizeof_hdr']"
   ]
  },
  {
   "cell_type": "code",
   "execution_count": 290,
   "metadata": {},
   "outputs": [],
   "source": [
    "#image.get_data_dtype()"
   ]
  }
 ],
 "metadata": {
  "kernelspec": {
   "display_name": "Python 3",
   "language": "python",
   "name": "python3"
  },
  "language_info": {
   "codemirror_mode": {
    "name": "ipython",
    "version": 3
   },
   "file_extension": ".py",
   "mimetype": "text/x-python",
   "name": "python",
   "nbconvert_exporter": "python",
   "pygments_lexer": "ipython3",
   "version": "3.6.7"
  }
 },
 "nbformat": 4,
 "nbformat_minor": 4
}
