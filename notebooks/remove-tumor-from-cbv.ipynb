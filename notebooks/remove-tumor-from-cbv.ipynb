{
 "cells": [
  {
   "cell_type": "markdown",
   "metadata": {},
   "source": [
    "This notebook contains code for removing tumor rCBV (setting values to 0)"
   ]
  },
  {
   "cell_type": "markdown",
   "metadata": {},
   "source": [
    "1. Specify epi_corrections output directory"
   ]
  },
  {
   "cell_type": "code",
   "execution_count": 1,
   "metadata": {},
   "outputs": [
    {
     "data": {
      "text/plain": [
       "'../../epi_corrections_out_2019_07_02_native_tumor_excluded_from_rcbv'"
      ]
     },
     "execution_count": 1,
     "metadata": {},
     "output_type": "execute_result"
    }
   ],
   "source": [
    "output_directory_suffix = \"2019_07_02_native_tumor_excluded_from_rcbv\"\n",
    "# On local file system:\n",
    "corrections_base_directory = \"../../epi_corrections_out_\" + output_directory_suffix\n",
    "\n",
    "# On samba share (remote file sytem):\n",
    "#corrections_base_directory = \"/run/user/1000/gvfs/smb-share:server=192.168.1.207,share=hdd3tb1/data/IVS_EPI_BASELINE/epi_corrections_out_\" + output_directory_suffix\n",
    "corrections_base_directory"
   ]
  },
  {
   "cell_type": "markdown",
   "metadata": {},
   "source": [
    "2. Find the ROIs in DSC space"
   ]
  },
  {
   "cell_type": "code",
   "execution_count": 36,
   "metadata": {},
   "outputs": [],
   "source": [
    "%run utils.py\n",
    "%run search.py"
   ]
  },
  {
   "cell_type": "code",
   "execution_count": 37,
   "metadata": {},
   "outputs": [],
   "source": [
    "[raw_segment_files_e1, \\\n",
    " topup_segment_files_e1, \\\n",
    " epic_segment_files_e1, \\\n",
    " raw_segment_files_e2, \\\n",
    " topup_segment_files_e2, \\\n",
    " epic_segment_files_e2] = find_segment_files_native(corrections_base_directory)"
   ]
  },
  {
   "cell_type": "code",
   "execution_count": 20,
   "metadata": {},
   "outputs": [
    {
     "data": {
      "text/plain": [
       "45"
      ]
     },
     "execution_count": 20,
     "metadata": {},
     "output_type": "execute_result"
    }
   ],
   "source": [
    "len(raw_segment_files_e1)"
   ]
  },
  {
   "cell_type": "code",
   "execution_count": 23,
   "metadata": {},
   "outputs": [],
   "source": [
    "[raw_cbv_files_e1, \\\n",
    " topup_cbv_files_e1, \\\n",
    " epic_cbv_files_e1, \\\n",
    " raw_cbv_files_e2, \\\n",
    " topup_cbv_files_e2, \\\n",
    " epic_cbv_files_e2] = find_cbv_files_native(corrections_base_directory)"
   ]
  },
  {
   "cell_type": "code",
   "execution_count": 26,
   "metadata": {},
   "outputs": [
    {
     "name": "stdout",
     "output_type": "stream",
     "text": [
      "Equal number of detected CBV files for raw (uncorrected), topup, and epic correction methods: True\n",
      "Number of subject CBVs: 45\n"
     ]
    }
   ],
   "source": [
    "# A check\n",
    "print(\"Equal number of detected CBV files for raw (uncorrected), topup, and epic correction methods: %r\" % \\\n",
    "      (len(raw_cbv_files_e1) == \\\n",
    "       len(raw_cbv_files_e2) == \\\n",
    "       len(topup_cbv_files_e1) == \\\n",
    "       len(topup_cbv_files_e2) == \\\n",
    "       len(epic_cbv_files_e1) == \\\n",
    "       len(epic_cbv_files_e2)))\n",
    "print(\"Number of subject CBVs: %i\" % len(raw_cbv_files_e1))"
   ]
  },
  {
   "cell_type": "code",
   "execution_count": 41,
   "metadata": {},
   "outputs": [
    {
     "data": {
      "text/plain": [
       "'\\nfor c, s, in zip(raw_cbv_files_e1, raw_segment_files_e1):\\n    print(c)\\n    print(s)\\n    print(\"----\")\\nfor c, s, in zip(raw_cbv_files_e2, raw_segment_files_e2):\\n    print(c)\\n    print(s)\\n    print(\"----\")\\nfor c, s, in zip(topup_cbv_files_e1, topup_segment_files_e1):\\n    print(c)\\n    print(s)\\n    print(\"----\")\\nfor c, s, in zip(topup_cbv_files_e2, topup_segment_files_e2):\\n    print(c)\\n    print(s)\\n    print(\"----\")\\nfor c, s, in zip(epic_cbv_files_e1, epic_segment_files_e1):\\n    print(c)\\n    print(s)\\n    print(\"----\")\\nfor c, s, in zip(epic_cbv_files_e2, epic_segment_files_e2):\\n    print(c)\\n    print(s)\\n    print(\"----\")\\n'"
      ]
     },
     "execution_count": 41,
     "metadata": {},
     "output_type": "execute_result"
    }
   ],
   "source": [
    "\"\"\"\n",
    "for c, s, in zip(raw_cbv_files_e1, raw_segment_files_e1):\n",
    "    print(c)\n",
    "    print(s)\n",
    "    print(\"----\")\n",
    "for c, s, in zip(raw_cbv_files_e2, raw_segment_files_e2):\n",
    "    print(c)\n",
    "    print(s)\n",
    "    print(\"----\")\n",
    "for c, s, in zip(topup_cbv_files_e1, topup_segment_files_e1):\n",
    "    print(c)\n",
    "    print(s)\n",
    "    print(\"----\")\n",
    "for c, s, in zip(topup_cbv_files_e2, topup_segment_files_e2):\n",
    "    print(c)\n",
    "    print(s)\n",
    "    print(\"----\")\n",
    "for c, s, in zip(epic_cbv_files_e1, epic_segment_files_e1):\n",
    "    print(c)\n",
    "    print(s)\n",
    "    print(\"----\")\n",
    "for c, s, in zip(epic_cbv_files_e2, epic_segment_files_e2):\n",
    "    print(c)\n",
    "    print(s)\n",
    "    print(\"----\")\n",
    "\"\"\""
   ]
  },
  {
   "cell_type": "markdown",
   "metadata": {},
   "source": [
    "3. Remove tumors from rCBVs using ROIs"
   ]
  },
  {
   "cell_type": "code",
   "execution_count": 42,
   "metadata": {},
   "outputs": [],
   "source": [
    "remove_tumors_from_files(raw_cbv_files_e1, raw_segment_files_e1)\n",
    "remove_tumors_from_files(raw_cbv_files_e2, raw_segment_files_e2)\n",
    "\n",
    "remove_tumors_from_files(topup_cbv_files_e1, topup_segment_files_e1)\n",
    "remove_tumors_from_files(topup_cbv_files_e2, topup_segment_files_e2)\n",
    "\n",
    "remove_tumors_from_files(epic_cbv_files_e1, epic_segment_files_e1)\n",
    "remove_tumors_from_files(epic_cbv_files_e2, epic_segment_files_e2)"
   ]
  }
 ],
 "metadata": {
  "kernelspec": {
   "display_name": "Python 3",
   "language": "python",
   "name": "python3"
  },
  "language_info": {
   "codemirror_mode": {
    "name": "ipython",
    "version": 3
   },
   "file_extension": ".py",
   "mimetype": "text/x-python",
   "name": "python",
   "nbconvert_exporter": "python",
   "pygments_lexer": "ipython3",
   "version": "3.6.7"
  }
 },
 "nbformat": 4,
 "nbformat_minor": 4
}
