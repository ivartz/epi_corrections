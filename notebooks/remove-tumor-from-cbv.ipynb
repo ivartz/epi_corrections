{
 "cells": [
  {
   "cell_type": "markdown",
   "metadata": {},
   "source": [
    "This notebook contains code for removing tumor rCBV (setting values to 0)"
   ]
  },
  {
   "cell_type": "markdown",
   "metadata": {},
   "source": [
    "1. Specify epi_corrections output directory"
   ]
  },
  {
   "cell_type": "code",
   "execution_count": 79,
   "metadata": {},
   "outputs": [
    {
     "data": {
      "text/plain": [
       "'../../epi_corrections_out_2019_12_03_tumor_exluded_from_rcbv_better_rois'"
      ]
     },
     "execution_count": 79,
     "metadata": {},
     "output_type": "execute_result"
    }
   ],
   "source": [
    "output_directory_suffix = \"2019_12_03_tumor_exluded_from_rcbv_better_rois\"\n",
    "# On local file system:\n",
    "corrections_base_directory = \"../../epi_corrections_out_\" + output_directory_suffix\n",
    "\n",
    "# On samba share (remote file sytem):\n",
    "#corrections_base_directory = \"/run/user/1000/gvfs/smb-share:server=192.168.1.207,share=hdd3tb1/data/IVS_EPI_BASELINE/epi_corrections_out_\" + output_directory_suffix\n",
    "corrections_base_directory"
   ]
  },
  {
   "cell_type": "markdown",
   "metadata": {},
   "source": [
    "2. Find the MNI-normalized ROIs."
   ]
  },
  {
   "cell_type": "code",
   "execution_count": 80,
   "metadata": {},
   "outputs": [],
   "source": [
    "%run utils.py\n",
    "%run search.py"
   ]
  },
  {
   "cell_type": "code",
   "execution_count": 81,
   "metadata": {},
   "outputs": [],
   "source": [
    "#ONCOHabitats_results_folder = \"ONCOHabitats_tumor_segments_from_flair_native\"\n",
    "\n",
    "ONCOHabitats_results_folder = \"ONCOHabitats_tumor_segments_from_flair_native\"\n",
    "segment_files_relative = find_segment_files(corrections_base_directory + \"/\" + ONCOHabitats_results_folder)\n",
    "segment_paths_relative = [Path(file) for file in segment_files_relative]\n",
    "segments_files_full = [str(Path.joinpath(Path.cwd().parent.parent, *relative.parts[2:])) for relative in segment_paths_relative]"
   ]
  },
  {
   "cell_type": "markdown",
   "metadata": {},
   "source": [
    "Removed 5464565466 from segments_files_full"
   ]
  },
  {
   "cell_type": "code",
   "execution_count": 82,
   "metadata": {},
   "outputs": [
    {
     "data": {
      "text/plain": [
       "45"
      ]
     },
     "execution_count": 82,
     "metadata": {},
     "output_type": "execute_result"
    }
   ],
   "source": [
    "len(segments_files_full)"
   ]
  },
  {
   "cell_type": "code",
   "execution_count": 83,
   "metadata": {},
   "outputs": [],
   "source": [
    "[raw_cbv_files_e1, \\\n",
    " topup_cbv_files_e1, \\\n",
    " epic_cbv_files_e1, \\\n",
    " raw_cbv_files_e2, \\\n",
    " topup_cbv_files_e2, \\\n",
    " epic_cbv_files_e2] = find_cbv_files(corrections_base_directory)"
   ]
  },
  {
   "cell_type": "code",
   "execution_count": 84,
   "metadata": {},
   "outputs": [
    {
     "name": "stdout",
     "output_type": "stream",
     "text": [
      "Equal number of detected CBV files for raw (uncorrected), topup, and epic correction methods: True\n",
      "Number of subject CBVs: 45\n"
     ]
    }
   ],
   "source": [
    "# A check\n",
    "print(\"Equal number of detected CBV files for raw (uncorrected), topup, and epic correction methods: %r\" % \\\n",
    "      (len(raw_cbv_files_e1) == \\\n",
    "       len(raw_cbv_files_e2) == \\\n",
    "       len(topup_cbv_files_e1) == \\\n",
    "       len(topup_cbv_files_e2) == \\\n",
    "       len(epic_cbv_files_e1) == \\\n",
    "       len(epic_cbv_files_e2)))\n",
    "print(\"Number of subject CBVs: %i\" % len(raw_cbv_files_e1))"
   ]
  },
  {
   "cell_type": "markdown",
   "metadata": {},
   "source": [
    "3. Remove tumors"
   ]
  },
  {
   "cell_type": "code",
   "execution_count": 85,
   "metadata": {},
   "outputs": [],
   "source": [
    "remove_tumors_from_files(raw_cbv_files_e1, segments_files_full)\n",
    "remove_tumors_from_files(raw_cbv_files_e2, segments_files_full)\n",
    "\n",
    "remove_tumors_from_files(topup_cbv_files_e1, segments_files_full)\n",
    "remove_tumors_from_files(topup_cbv_files_e2, segments_files_full)\n",
    "\n",
    "remove_tumors_from_files(epic_cbv_files_e1, segments_files_full)\n",
    "remove_tumors_from_files(epic_cbv_files_e2, segments_files_full)"
   ]
  }
 ],
 "metadata": {
  "kernelspec": {
   "display_name": "Python 3",
   "language": "python",
   "name": "python3"
  },
  "language_info": {
   "codemirror_mode": {
    "name": "ipython",
    "version": 3
   },
   "file_extension": ".py",
   "mimetype": "text/x-python",
   "name": "python",
   "nbconvert_exporter": "python",
   "pygments_lexer": "ipython3",
   "version": "3.6.8"
  }
 },
 "nbformat": 4,
 "nbformat_minor": 4
}
