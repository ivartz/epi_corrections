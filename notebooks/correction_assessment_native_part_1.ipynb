{
 "cells": [
  {
   "cell_type": "markdown",
   "metadata": {},
   "source": [
    "1. #### Matlab SPM pipeline for making brain regions and tumor regions in uncorrected, corrected and ground truth DSC space"
   ]
  },
  {
   "cell_type": "code",
   "execution_count": 2,
   "metadata": {},
   "outputs": [],
   "source": [
    "# Run once to store stdout\n",
    "import sys\n",
    "nb_stdout = sys.stdout"
   ]
  },
  {
   "cell_type": "code",
   "execution_count": 3,
   "metadata": {},
   "outputs": [],
   "source": [
    "# Redirect stdout to console, to not get too much text output in the notebook\n",
    "# This means that the notebook will not output any text. Text will be redirected\n",
    "# to the terminal where the notebook was started.\n",
    "sys.stdout = open(1, 'w')"
   ]
  },
  {
   "cell_type": "code",
   "execution_count": 4,
   "metadata": {},
   "outputs": [
    {
     "data": {
      "text/plain": [
       "'../epi_corrections_out_2019_07_02_native'"
      ]
     },
     "execution_count": 4,
     "metadata": {},
     "output_type": "execute_result"
    }
   ],
   "source": [
    "output_directory_suffix = \"2019_07_02_native\"\n",
    "corrections_base_directory = \"../epi_corrections_out_\" + output_directory_suffix\n",
    "corrections_base_directory"
   ]
  },
  {
   "cell_type": "code",
   "execution_count": 5,
   "metadata": {},
   "outputs": [
    {
     "data": {
      "text/plain": [
       "'/media/loek/HDD3TB1/data/IVS_EPI_BASELINE/epi_corrections'"
      ]
     },
     "execution_count": 5,
     "metadata": {},
     "output_type": "execute_result"
    }
   ],
   "source": [
    "from os import getcwd\n",
    "from os.path import abspath\n",
    "epi_corrections_root_directory = abspath(getcwd() + \"/..\") # Go one directory up from current working directory\n",
    "epi_corrections_root_directory"
   ]
  },
  {
   "cell_type": "code",
   "execution_count": 11,
   "metadata": {},
   "outputs": [],
   "source": [
    "%%bash -s \"$epi_corrections_root_directory\" \"$corrections_base_directory\" \"$output_directory_suffix\"\n",
    "epi_corrections_root_directory=$1\n",
    "corrections_base_directory=../$2\n",
    "output_directory_suffix=$3\n",
    "\n",
    "spm_path=/media/loek/HDD3TB1/apps/spm12 # This needs to be changed\n",
    "cd $epi_corrections_root_directory\n",
    "pipeline_report_file=$2/pipeline_report_spm_$output_directory_suffix.txt\n",
    "run_command='matlab \n",
    "                -nodisplay \n",
    "                -nosplash \n",
    "                -nodesktop \n",
    "                -r \"cd('\"'spm_pipeline'\"'); \n",
    "                    addpath('\"'$spm_path'\"'); \n",
    "                    myCluster = parcluster; \n",
    "                    myCluster.NumWorkers = 4; \n",
    "                    saveProfile(myCluster); \n",
    "                    parpool(4); \n",
    "                    make_dsc_rois('\"'$corrections_base_directory'\"'); \n",
    "                    exit;\" \n",
    "                2>&1 | tee $pipeline_report_file'\n",
    "eval $run_command"
   ]
  },
  {
   "cell_type": "markdown",
   "metadata": {},
   "source": [
    "To see the log, run from corrections_base_directory\n",
    "\n",
    "tail -f pipeline_report_spm*.txt"
   ]
  },
  {
   "cell_type": "markdown",
   "metadata": {},
   "source": [
    "2. #### Copy over EPI_raw_DSC, EPI_applytopup and EPI_applyepic to a separate directory"
   ]
  },
  {
   "cell_type": "code",
   "execution_count": 3,
   "metadata": {},
   "outputs": [],
   "source": [
    "corrections_base_new_directory = \\\n",
    "\"../epi_corrections_out_2019_07_02_native_tumor_excluded_from_rcbv\""
   ]
  },
  {
   "cell_type": "markdown",
   "metadata": {},
   "source": [
    "3. #### Run remove-tumor-from-cbv.ipynb on this separate directory to remove rCBV based on tumor GT-ROIs"
   ]
  },
  {
   "cell_type": "markdown",
   "metadata": {},
   "source": [
    "4. #### compute-roi-medians.sh using brain and tumor GT ROIs"
   ]
  },
  {
   "cell_type": "code",
   "execution_count": 36,
   "metadata": {},
   "outputs": [],
   "source": [
    "%%bash -s \"$epi_corrections_root_directory\" \"$corrections_base_new_directory\"\n",
    "epi_corrections_root_directory=$1\n",
    "corrections_base_new_directory=$2\n",
    "cd $epi_corrections_root_directory\n",
    "command=\"bash scripts/compute-roi-medians.sh \\\n",
    "$corrections_base_new_directory \\\n",
    "2>&1 | tee $corrections_base_new_directory/computegtroismedianslog.txt\"\n",
    "eval $command"
   ]
  },
  {
   "cell_type": "markdown",
   "metadata": {},
   "source": [
    "5. #### compute-dice-between-rois.sh using brain and tumor GT and uncorrected and corrected ROIs"
   ]
  },
  {
   "cell_type": "code",
   "execution_count": 42,
   "metadata": {},
   "outputs": [],
   "source": [
    "%%bash -s \"$epi_corrections_root_directory\" \"$corrections_base_new_directory\"\n",
    "epi_corrections_root_directory=$1\n",
    "corrections_base_new_directory=$2\n",
    "cd $epi_corrections_root_directory\n",
    "command=\"bash scripts/compute-dice-between-rois.sh \\\n",
    "$corrections_base_new_directory \\\n",
    "2>&1 | tee $corrections_base_new_directory/computedicelog.txt\"\n",
    "eval $command"
   ]
  },
  {
   "cell_type": "markdown",
   "metadata": {},
   "source": [
    "6. #### analyze-medians-and-dice-scores.sh"
   ]
  },
  {
   "cell_type": "markdown",
   "metadata": {},
   "source": [
    "7. #### analyze-dice-gt-cor.sh"
   ]
  },
  {
   "cell_type": "markdown",
   "metadata": {},
   "source": [
    "8. #### Additional analysis of GT tumor roi rCBV change from correction (2020-08-31)\n",
    "\n",
    "See {epi_corrections_root_directory}/notes.txt"
   ]
  },
  {
   "cell_type": "code",
   "execution_count": 6,
   "metadata": {},
   "outputs": [],
   "source": [
    "corrections_base_new_directory = \\\n",
    "\"../epi_corrections_out_2019_07_02_native_wtumor\""
   ]
  },
  {
   "cell_type": "code",
   "execution_count": 10,
   "metadata": {},
   "outputs": [],
   "source": [
    "print(epi_corrections_root_directory + corrections_base_new_directory)"
   ]
  },
  {
   "cell_type": "markdown",
   "metadata": {},
   "source": [
    "8. #### a) compute-roi-medians.sh using brain and tumor GT ROIs"
   ]
  },
  {
   "cell_type": "code",
   "execution_count": 11,
   "metadata": {},
   "outputs": [],
   "source": [
    "%%bash -s \"$epi_corrections_root_directory\" \"$corrections_base_new_directory\"\n",
    "epi_corrections_root_directory=$1\n",
    "corrections_base_new_directory=$2\n",
    "cd $epi_corrections_root_directory\n",
    "command=\"bash scripts/compute-roi-medians.sh \\\n",
    "$corrections_base_new_directory \\\n",
    "2>&1 | tee $corrections_base_new_directory/computegtroismedianslog.txt\"\n",
    "eval $command"
   ]
  },
  {
   "cell_type": "markdown",
   "metadata": {},
   "source": [
    "8. #### b) analyze tumor gt median change"
   ]
  },
  {
   "cell_type": "code",
   "execution_count": 12,
   "metadata": {},
   "outputs": [],
   "source": [
    "corrections_base_old_directory = \\\n",
    "\"../epi_corrections_out_2019_07_02_native_tumor_excluded_from_rcbv\""
   ]
  },
  {
   "cell_type": "code",
   "execution_count": 78,
   "metadata": {},
   "outputs": [
    {
     "name": "stderr",
     "output_type": "stream",
     "text": [
      "/media/loek/HDD3TB1/data/IVS_EPI_BASELINE/epi_corrections/scripts/wilcoxon-tumor-gt-rois-analysis.py:90: RuntimeWarning: invalid value encountered in less\n",
      "  top = np.argwhere(np.sort(wilcoxonresults[1, :]) < cutoff)[-1][0] + 1\n",
      "Traceback (most recent call last):\n",
      "  File \"/media/loek/HDD3TB1/data/IVS_EPI_BASELINE/epi_corrections/scripts/wilcoxon-tumor-gt-rois-analysis.py\", line 90, in <module>\n",
      "    top = np.argwhere(np.sort(wilcoxonresults[1, :]) < cutoff)[-1][0] + 1\n",
      "IndexError: index -1 is out of bounds for axis 0 with size 0\n"
     ]
    },
    {
     "ename": "CalledProcessError",
     "evalue": "Command 'b'epi_corrections_root_directory=$1\\ncorrections_base_new_directory=$2\\n#echo $epi_corrections_root_directory\\n#echo $corrections_base_new_directory\\n\\ncd $epi_corrections_root_directory\\n\\n# Gradient echo (e1) and Spin echo (e2)\\n\\nfor (( i = 1 ; i < 3 ; i++ )) ; do\\n\\n    # MNI ROI median rCBV files\\n    readarray epic_tumor_median_files_arr_e${i} < <(find $corrections_base_new_directory/EPI_applyepic -type d -name *e${i}_applyepic_perf | xargs -I {} echo {}/tumorroismedians.txt)\\n\\n    readarray topup_tumor_median_files_arr_e${i} < <(find $corrections_base_new_directory/EPI_applytopup -type d -name *e${i}_prep_topup_applytopup_postp_perf | xargs -I {} echo {}/tumorroismedians.txt)\\n\\n    readarray raw_tumor_median_files_arr_e${i} < <(find $corrections_base_new_directory/EPI_raw_DSC -type d -name *e${i}_perf | xargs -I {} echo {}/tumorroismedians.txt)\\n\\ndone\\n\\nnum1=${#epic_tumor_median_files_arr_e1[*]}\\n#num2=${#topup_tumor_median_files_arr_e1[*]}\\n#num3=${#raw_tumor_median_files_arr_e1[*]}\\n#echo $num1\\n#echo $num2\\n#echo $num3\\n\\nscript=$epi_corrections_root_directory/scripts/wilcoxon-tumor-gt-rois-analysis.py\\n\\ncommand=\"python $script --rawmedians ${raw_tumor_median_files_arr_e1[@]} --cormedians ${topup_tumor_median_files_arr_e1[@]}\"\\n\\n#echo $command\\neval $command\\n'' returned non-zero exit status 1.",
     "output_type": "error",
     "traceback": [
      "\u001b[0;31m---------------------------------------------------------------------------\u001b[0m",
      "\u001b[0;31mCalledProcessError\u001b[0m                        Traceback (most recent call last)",
      "\u001b[0;32m<ipython-input-78-5d3fc5cf7f88>\u001b[0m in \u001b[0;36m<module>\u001b[0;34m\u001b[0m\n\u001b[0;32m----> 1\u001b[0;31m \u001b[0mget_ipython\u001b[0m\u001b[0;34m(\u001b[0m\u001b[0;34m)\u001b[0m\u001b[0;34m.\u001b[0m\u001b[0mrun_cell_magic\u001b[0m\u001b[0;34m(\u001b[0m\u001b[0;34m'bash'\u001b[0m\u001b[0;34m,\u001b[0m \u001b[0;34m'-s \"$epi_corrections_root_directory\" \"$corrections_base_new_directory\"'\u001b[0m\u001b[0;34m,\u001b[0m \u001b[0;34m'epi_corrections_root_directory=$1\\ncorrections_base_new_directory=$2\\n#echo $epi_corrections_root_directory\\n#echo $corrections_base_new_directory\\n\\ncd $epi_corrections_root_directory\\n\\n# Gradient echo (e1) and Spin echo (e2)\\n\\nfor (( i = 1 ; i < 3 ; i++ )) ; do\\n\\n    # MNI ROI median rCBV files\\n    readarray epic_tumor_median_files_arr_e${i} < <(find $corrections_base_new_directory/EPI_applyepic -type d -name *e${i}_applyepic_perf | xargs -I {} echo {}/tumorroismedians.txt)\\n\\n    readarray topup_tumor_median_files_arr_e${i} < <(find $corrections_base_new_directory/EPI_applytopup -type d -name *e${i}_prep_topup_applytopup_postp_perf | xargs -I {} echo {}/tumorroismedians.txt)\\n\\n    readarray raw_tumor_median_files_arr_e${i} < <(find $corrections_base_new_directory/EPI_raw_DSC -type d -name *e${i}_perf | xargs -I {} echo {}/tumorroismedians.txt)\\n\\ndone\\n\\nnum1=${#epic_tumor_median_files_arr_e1[*]}\\n#num2=${#topup_tumor_median_files_arr_e1[*]}\\n#num3=${#raw_tumor_median_files_arr_e1[*]}\\n#echo $num1\\n#echo $num2\\n#echo $num3\\n\\nscript=$epi_corrections_root_directory/scripts/wilcoxon-tumor-gt-rois-analysis.py\\n\\ncommand=\"python $script --rawmedians ${raw_tumor_median_files_arr_e1[@]} --cormedians ${topup_tumor_median_files_arr_e1[@]}\"\\n\\n#echo $command\\neval $command\\n'\u001b[0m\u001b[0;34m)\u001b[0m\u001b[0;34m\u001b[0m\u001b[0;34m\u001b[0m\u001b[0m\n\u001b[0m",
      "\u001b[0;32m~/anaconda3/lib/python3.6/site-packages/IPython/core/interactiveshell.py\u001b[0m in \u001b[0;36mrun_cell_magic\u001b[0;34m(self, magic_name, line, cell)\u001b[0m\n\u001b[1;32m   2321\u001b[0m             \u001b[0mmagic_arg_s\u001b[0m \u001b[0;34m=\u001b[0m \u001b[0mself\u001b[0m\u001b[0;34m.\u001b[0m\u001b[0mvar_expand\u001b[0m\u001b[0;34m(\u001b[0m\u001b[0mline\u001b[0m\u001b[0;34m,\u001b[0m \u001b[0mstack_depth\u001b[0m\u001b[0;34m)\u001b[0m\u001b[0;34m\u001b[0m\u001b[0;34m\u001b[0m\u001b[0m\n\u001b[1;32m   2322\u001b[0m             \u001b[0;32mwith\u001b[0m \u001b[0mself\u001b[0m\u001b[0;34m.\u001b[0m\u001b[0mbuiltin_trap\u001b[0m\u001b[0;34m:\u001b[0m\u001b[0;34m\u001b[0m\u001b[0;34m\u001b[0m\u001b[0m\n\u001b[0;32m-> 2323\u001b[0;31m                 \u001b[0mresult\u001b[0m \u001b[0;34m=\u001b[0m \u001b[0mfn\u001b[0m\u001b[0;34m(\u001b[0m\u001b[0mmagic_arg_s\u001b[0m\u001b[0;34m,\u001b[0m \u001b[0mcell\u001b[0m\u001b[0;34m)\u001b[0m\u001b[0;34m\u001b[0m\u001b[0;34m\u001b[0m\u001b[0m\n\u001b[0m\u001b[1;32m   2324\u001b[0m             \u001b[0;32mreturn\u001b[0m \u001b[0mresult\u001b[0m\u001b[0;34m\u001b[0m\u001b[0;34m\u001b[0m\u001b[0m\n\u001b[1;32m   2325\u001b[0m \u001b[0;34m\u001b[0m\u001b[0m\n",
      "\u001b[0;32m~/anaconda3/lib/python3.6/site-packages/IPython/core/magics/script.py\u001b[0m in \u001b[0;36mnamed_script_magic\u001b[0;34m(line, cell)\u001b[0m\n\u001b[1;32m    140\u001b[0m             \u001b[0;32melse\u001b[0m\u001b[0;34m:\u001b[0m\u001b[0;34m\u001b[0m\u001b[0;34m\u001b[0m\u001b[0m\n\u001b[1;32m    141\u001b[0m                 \u001b[0mline\u001b[0m \u001b[0;34m=\u001b[0m \u001b[0mscript\u001b[0m\u001b[0;34m\u001b[0m\u001b[0;34m\u001b[0m\u001b[0m\n\u001b[0;32m--> 142\u001b[0;31m             \u001b[0;32mreturn\u001b[0m \u001b[0mself\u001b[0m\u001b[0;34m.\u001b[0m\u001b[0mshebang\u001b[0m\u001b[0;34m(\u001b[0m\u001b[0mline\u001b[0m\u001b[0;34m,\u001b[0m \u001b[0mcell\u001b[0m\u001b[0;34m)\u001b[0m\u001b[0;34m\u001b[0m\u001b[0;34m\u001b[0m\u001b[0m\n\u001b[0m\u001b[1;32m    143\u001b[0m \u001b[0;34m\u001b[0m\u001b[0m\n\u001b[1;32m    144\u001b[0m         \u001b[0;31m# write a basic docstring:\u001b[0m\u001b[0;34m\u001b[0m\u001b[0;34m\u001b[0m\u001b[0;34m\u001b[0m\u001b[0m\n",
      "\u001b[0;32m<decorator-gen-109>\u001b[0m in \u001b[0;36mshebang\u001b[0;34m(self, line, cell)\u001b[0m\n",
      "\u001b[0;32m~/anaconda3/lib/python3.6/site-packages/IPython/core/magic.py\u001b[0m in \u001b[0;36m<lambda>\u001b[0;34m(f, *a, **k)\u001b[0m\n\u001b[1;32m    185\u001b[0m     \u001b[0;31m# but it's overkill for just that one bit of state.\u001b[0m\u001b[0;34m\u001b[0m\u001b[0;34m\u001b[0m\u001b[0;34m\u001b[0m\u001b[0m\n\u001b[1;32m    186\u001b[0m     \u001b[0;32mdef\u001b[0m \u001b[0mmagic_deco\u001b[0m\u001b[0;34m(\u001b[0m\u001b[0marg\u001b[0m\u001b[0;34m)\u001b[0m\u001b[0;34m:\u001b[0m\u001b[0;34m\u001b[0m\u001b[0;34m\u001b[0m\u001b[0m\n\u001b[0;32m--> 187\u001b[0;31m         \u001b[0mcall\u001b[0m \u001b[0;34m=\u001b[0m \u001b[0;32mlambda\u001b[0m \u001b[0mf\u001b[0m\u001b[0;34m,\u001b[0m \u001b[0;34m*\u001b[0m\u001b[0ma\u001b[0m\u001b[0;34m,\u001b[0m \u001b[0;34m**\u001b[0m\u001b[0mk\u001b[0m\u001b[0;34m:\u001b[0m \u001b[0mf\u001b[0m\u001b[0;34m(\u001b[0m\u001b[0;34m*\u001b[0m\u001b[0ma\u001b[0m\u001b[0;34m,\u001b[0m \u001b[0;34m**\u001b[0m\u001b[0mk\u001b[0m\u001b[0;34m)\u001b[0m\u001b[0;34m\u001b[0m\u001b[0;34m\u001b[0m\u001b[0m\n\u001b[0m\u001b[1;32m    188\u001b[0m \u001b[0;34m\u001b[0m\u001b[0m\n\u001b[1;32m    189\u001b[0m         \u001b[0;32mif\u001b[0m \u001b[0mcallable\u001b[0m\u001b[0;34m(\u001b[0m\u001b[0marg\u001b[0m\u001b[0;34m)\u001b[0m\u001b[0;34m:\u001b[0m\u001b[0;34m\u001b[0m\u001b[0;34m\u001b[0m\u001b[0m\n",
      "\u001b[0;32m~/anaconda3/lib/python3.6/site-packages/IPython/core/magics/script.py\u001b[0m in \u001b[0;36mshebang\u001b[0;34m(self, line, cell)\u001b[0m\n\u001b[1;32m    243\u001b[0m             \u001b[0msys\u001b[0m\u001b[0;34m.\u001b[0m\u001b[0mstderr\u001b[0m\u001b[0;34m.\u001b[0m\u001b[0mflush\u001b[0m\u001b[0;34m(\u001b[0m\u001b[0;34m)\u001b[0m\u001b[0;34m\u001b[0m\u001b[0;34m\u001b[0m\u001b[0m\n\u001b[1;32m    244\u001b[0m         \u001b[0;32mif\u001b[0m \u001b[0margs\u001b[0m\u001b[0;34m.\u001b[0m\u001b[0mraise_error\u001b[0m \u001b[0;32mand\u001b[0m \u001b[0mp\u001b[0m\u001b[0;34m.\u001b[0m\u001b[0mreturncode\u001b[0m\u001b[0;34m!=\u001b[0m\u001b[0;36m0\u001b[0m\u001b[0;34m:\u001b[0m\u001b[0;34m\u001b[0m\u001b[0;34m\u001b[0m\u001b[0m\n\u001b[0;32m--> 245\u001b[0;31m             \u001b[0;32mraise\u001b[0m \u001b[0mCalledProcessError\u001b[0m\u001b[0;34m(\u001b[0m\u001b[0mp\u001b[0m\u001b[0;34m.\u001b[0m\u001b[0mreturncode\u001b[0m\u001b[0;34m,\u001b[0m \u001b[0mcell\u001b[0m\u001b[0;34m,\u001b[0m \u001b[0moutput\u001b[0m\u001b[0;34m=\u001b[0m\u001b[0mout\u001b[0m\u001b[0;34m,\u001b[0m \u001b[0mstderr\u001b[0m\u001b[0;34m=\u001b[0m\u001b[0merr\u001b[0m\u001b[0;34m)\u001b[0m\u001b[0;34m\u001b[0m\u001b[0;34m\u001b[0m\u001b[0m\n\u001b[0m\u001b[1;32m    246\u001b[0m \u001b[0;34m\u001b[0m\u001b[0m\n\u001b[1;32m    247\u001b[0m     \u001b[0;32mdef\u001b[0m \u001b[0m_run_script\u001b[0m\u001b[0;34m(\u001b[0m\u001b[0mself\u001b[0m\u001b[0;34m,\u001b[0m \u001b[0mp\u001b[0m\u001b[0;34m,\u001b[0m \u001b[0mcell\u001b[0m\u001b[0;34m,\u001b[0m \u001b[0mto_close\u001b[0m\u001b[0;34m)\u001b[0m\u001b[0;34m:\u001b[0m\u001b[0;34m\u001b[0m\u001b[0;34m\u001b[0m\u001b[0m\n",
      "\u001b[0;31mCalledProcessError\u001b[0m: Command 'b'epi_corrections_root_directory=$1\\ncorrections_base_new_directory=$2\\n#echo $epi_corrections_root_directory\\n#echo $corrections_base_new_directory\\n\\ncd $epi_corrections_root_directory\\n\\n# Gradient echo (e1) and Spin echo (e2)\\n\\nfor (( i = 1 ; i < 3 ; i++ )) ; do\\n\\n    # MNI ROI median rCBV files\\n    readarray epic_tumor_median_files_arr_e${i} < <(find $corrections_base_new_directory/EPI_applyepic -type d -name *e${i}_applyepic_perf | xargs -I {} echo {}/tumorroismedians.txt)\\n\\n    readarray topup_tumor_median_files_arr_e${i} < <(find $corrections_base_new_directory/EPI_applytopup -type d -name *e${i}_prep_topup_applytopup_postp_perf | xargs -I {} echo {}/tumorroismedians.txt)\\n\\n    readarray raw_tumor_median_files_arr_e${i} < <(find $corrections_base_new_directory/EPI_raw_DSC -type d -name *e${i}_perf | xargs -I {} echo {}/tumorroismedians.txt)\\n\\ndone\\n\\nnum1=${#epic_tumor_median_files_arr_e1[*]}\\n#num2=${#topup_tumor_median_files_arr_e1[*]}\\n#num3=${#raw_tumor_median_files_arr_e1[*]}\\n#echo $num1\\n#echo $num2\\n#echo $num3\\n\\nscript=$epi_corrections_root_directory/scripts/wilcoxon-tumor-gt-rois-analysis.py\\n\\ncommand=\"python $script --rawmedians ${raw_tumor_median_files_arr_e1[@]} --cormedians ${topup_tumor_median_files_arr_e1[@]}\"\\n\\n#echo $command\\neval $command\\n'' returned non-zero exit status 1."
     ]
    }
   ],
   "source": [
    "%%bash -s \"$epi_corrections_root_directory\" \"$corrections_base_new_directory\"\n",
    "epi_corrections_root_directory=$1\n",
    "corrections_base_new_directory=$2\n",
    "#echo $epi_corrections_root_directory\n",
    "#echo $corrections_base_new_directory\n",
    "\n",
    "cd $epi_corrections_root_directory\n",
    "\n",
    "# Gradient echo (e1) and Spin echo (e2)\n",
    "\n",
    "for (( i = 1 ; i < 3 ; i++ )) ; do\n",
    "\n",
    "    # MNI ROI median rCBV files\n",
    "    readarray epic_tumor_median_files_arr_e${i} < <(find $corrections_base_new_directory/EPI_applyepic -type d -name *e${i}_applyepic_perf | xargs -I {} echo {}/tumorroismedians.txt)\n",
    "\n",
    "    readarray topup_tumor_median_files_arr_e${i} < <(find $corrections_base_new_directory/EPI_applytopup -type d -name *e${i}_prep_topup_applytopup_postp_perf | xargs -I {} echo {}/tumorroismedians.txt)\n",
    "\n",
    "    readarray raw_tumor_median_files_arr_e${i} < <(find $corrections_base_new_directory/EPI_raw_DSC -type d -name *e${i}_perf | xargs -I {} echo {}/tumorroismedians.txt)\n",
    "\n",
    "done\n",
    "\n",
    "num1=${#epic_tumor_median_files_arr_e1[*]}\n",
    "#num2=${#topup_tumor_median_files_arr_e1[*]}\n",
    "#num3=${#raw_tumor_median_files_arr_e1[*]}\n",
    "#echo $num1\n",
    "#echo $num2\n",
    "#echo $num3\n",
    "\n",
    "script=$epi_corrections_root_directory/scripts/wilcoxon-tumor-gt-rois-analysis.py\n",
    "\n",
    "command=\"python $script --rawmedians ${raw_tumor_median_files_arr_e1[@]} --cormedians ${topup_tumor_median_files_arr_e1[@]}\"\n",
    "\n",
    "#echo $command\n",
    "eval $command"
   ]
  }
 ],
 "metadata": {
  "kernelspec": {
   "display_name": "Python 3",
   "language": "python",
   "name": "python3"
  },
  "language_info": {
   "codemirror_mode": {
    "name": "ipython",
    "version": 3
   },
   "file_extension": ".py",
   "mimetype": "text/x-python",
   "name": "python",
   "nbconvert_exporter": "python",
   "pygments_lexer": "ipython3",
   "version": "3.6.7"
  }
 },
 "nbformat": 4,
 "nbformat_minor": 2
}
