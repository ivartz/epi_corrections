{
 "cells": [
  {
   "cell_type": "markdown",
   "metadata": {},
   "source": [
    "![banner](/custom/banner.png)\n",
    "\n",
    "\n",
    "# FSLeyes Jupyter notebook\n",
    "\n",
    "\n",
    "## Help\n",
    "\n",
    "\n",
    "Use the built-in `help` function to get help on anything in the shell\n",
    "environment, whether it is a module, function, class, or object:\n",
    "\n",
    "    help(load)\n",
    "\n",
    "\n",
    "\n",
    "## Overlays\n",
    "\n",
    "\n",
    "The `overlayList` is a list which contains all of the overlays that have been\n",
    "loaded into FSLeyes.  You can load overlays by using the `load` function,\n",
    "e.g.:\n",
    "\n",
    "    std = load('MNI152_T1_2mm.nii.gz')\n",
    "\n",
    "\n",
    "You can remove an overlay simply by removing it from the `overlayList`:\n",
    "\n",
    "    del overlayList[0]\n",
    "\n",
    "\n",
    "## Display settings\n",
    "\n",
    "\n",
    "You can use the `displayCtx` to access the display settings for an\n",
    "overlay. Display settings for an overlay are divided between two objects:\n",
    "\n",
    " - A `Display` object, which contains general display settings\n",
    " - A `DisplayOpts` object, which contains display settings specific to the\n",
    "   overlay type\n",
    "\n",
    "\n",
    "You can access these objects like so:\n",
    "\n",
    "    overlay = overlayList[0]\n",
    "    display = displayCtx.getDisplay(overlay)\n",
    "    opts    = displayCtx.getOpts(   overlay)\n",
    "\n",
    "\n",
    "Then adjusting the overlay display settings is easy:\n",
    "\n",
    "\n",
    "    display.brightness = 75\n",
    "    opts.cmap          = 'hot'\n",
    "\n",
    "\n",
    "## FSL commands\n",
    "\n",
    "\n",
    "Many FSL commands can be called through Python functions, e.g.:\n",
    "\n",
    "    flirt('src.nii.gz', 'ref.nii.gz', applyxfm=True, init='src2ref.mat')\n",
    "\n",
    "\n",
    "For commands which produce output images, you can have the outputs loaded\n",
    "directly into FSLeyes by using the special `LOAD` symbol:\n",
    "\n",
    "    struc = Image('struct.nii.gz')\n",
    "    bet(struc, LOAD)\n",
    "\n",
    "\n",
    "To submit a command as a cluster job, use the `submit` flag:\n",
    "\n",
    "    fnirt('src.nii.gz', 'ref.nii.gz', submit=True)\n",
    "\n",
    "\n",
    "## User interface\n",
    "\n",
    "\n",
    "You can access the current views in FSLeyes through the ``frame`` object:\n",
    "\n",
    "    ortho = frame.viewPanels[0]\n",
    "\n",
    "\n",
    "You also can add/remove views through the ``frame``:\n",
    "\n",
    "\n",
    "    frame.removeViewPanel(ortho)\n",
    "    frame.addViewPanel(Scene3DPanel)\n",
    "\n",
    "\n",
    "## Screenshots\n",
    "\n",
    "\n",
    "To insert a screenshot of the currently displayed scene into the notebook, use\n",
    "the `screenshot` function:\n",
    "\n",
    "    ortho = frame.viewPanels[0]\n",
    "    screenshot(ortho)\n",
    "\n",
    "\n",
    "## Reproducing a scene\n",
    "\n",
    "\n",
    "The `getState` function returns a string which describes the current FSLeyes\n",
    "state. This string describes the current FSLeyes user interface (views,\n",
    "controls, and toolbars) as well as all loaded overlays and their display\n",
    "settings.\n",
    "\n",
    "\n",
    "You can also use the `setState` function to reproduce a previously generated\n",
    "FSLeyes state.\n",
    "\n",
    "\n",
    "To make your notebook reproduce your FSLeyes setup, set up your user interface\n",
    "and overlays how you want, and then call `getState` to get a description of\n",
    "the current FSLeyes setup:\n",
    "\n",
    "\n",
    "    getState()\n",
    "\n",
    "\n",
    "Now copy the string that `getState` generates, and then at the top of your\n",
    "notebook add a call to `setState`, passing in that string, e.g.:\n",
    "\n",
    "    fsleyesState = 'OrthoPanel\\nlayout2|name=OrthoPanel 1;caption=...'\n",
    "    setState(fsleyesState)\n",
    "\n",
    "\n",
    "## For more information\n",
    "\n",
    "See the FSLeyes and `fslpy` API documentation:\n",
    "\n",
    " - https://users.fmrib.ox.ac.uk/~paulmc/fsleyes/apidoc/latest/\n",
    " - https://users.fmrib.ox.ac.uk/~paulmc/fsleyes/fslpy/latest/"
   ]
  },
  {
   "cell_type": "code",
   "execution_count": 4,
   "metadata": {},
   "outputs": [
    {
     "data": {
      "text/plain": [
       "Image(r_e2_labels_Neuromorphometrics, /home/ivar/Desktop/temp/r_e2_labels_Neuromorphometrics.nii)"
      ]
     },
     "execution_count": 4,
     "metadata": {},
     "output_type": "execute_result"
    }
   ],
   "source": [
    "load(\"temp/r_e2_labels_Neuromorphometrics.nii\")"
   ]
  },
  {
   "cell_type": "code",
   "execution_count": 5,
   "metadata": {},
   "outputs": [
    {
     "data": {
      "text/plain": [
       "[Image(r_e2_labels_Neuromorphometrics, /home/ivar/Desktop/temp/r_e2_labels_Neuromorphometrics.nii)]"
      ]
     },
     "execution_count": 5,
     "metadata": {},
     "output_type": "execute_result"
    }
   ],
   "source": [
    "overlayList"
   ]
  },
  {
   "cell_type": "code",
   "execution_count": 35,
   "metadata": {},
   "outputs": [
    {
     "data": {
      "text/plain": [
       "Image(wr_coregest_145923_GE-SE_EPI_SSH_v1_32CH_V2_scan_1001_e1_prep_topup_applytopup_postp, /home/ivar/Desktop/temp/wr_coregest_145923_GE-SE_EPI_SSH_v1_32CH_V2_scan_1001_e1_prep_topup_applytopup_postp.nii)"
      ]
     },
     "execution_count": 35,
     "metadata": {},
     "output_type": "execute_result"
    }
   ],
   "source": [
    "load(\"temp/wr_coregest_145923_GE-SE_EPI_SSH_v1_32CH_V2_scan_1001_e1_prep_topup_applytopup_postp.nii\")"
   ]
  },
  {
   "cell_type": "code",
   "execution_count": 36,
   "metadata": {},
   "outputs": [
    {
     "data": {
      "text/plain": [
       "Image(wr_coregest_145923_GE-SE_EPI_SSH_v1_32CH_V2_scan_1001_e2_prep_topup_applytopup_postp, /home/ivar/Desktop/temp/wr_coregest_145923_GE-SE_EPI_SSH_v1_32CH_V2_scan_1001_e2_prep_topup_applytopup_postp.nii)"
      ]
     },
     "execution_count": 36,
     "metadata": {},
     "output_type": "execute_result"
    }
   ],
   "source": [
    "load(\"temp/wr_coregest_145923_GE-SE_EPI_SSH_v1_32CH_V2_scan_1001_e2_prep_topup_applytopup_postp.nii\")"
   ]
  },
  {
   "cell_type": "code",
   "execution_count": 51,
   "metadata": {},
   "outputs": [],
   "source": [
    "from fsl.data.image import Image\n",
    "myimg = Image(\"temp/wr_coregest_145923_GE-SE_EPI_SSH_v1_32CH_V2_scan_prescan_1001_901_e2_0000_prep_topup_field_postp.nii\")"
   ]
  },
  {
   "cell_type": "code",
   "execution_count": 52,
   "metadata": {},
   "outputs": [],
   "source": [
    "myimg.save(\"temp/test.nii\")"
   ]
  },
  {
   "cell_type": "code",
   "execution_count": 198,
   "metadata": {},
   "outputs": [],
   "source": [
    "import time"
   ]
  },
  {
   "cell_type": "code",
   "execution_count": 4,
   "metadata": {},
   "outputs": [],
   "source": [
    "overlay = overlayList[0]\n",
    "display = displayCtx.getDisplay(overlay)\n",
    "opts    = displayCtx.getOpts(   overlay)"
   ]
  },
  {
   "cell_type": "code",
   "execution_count": null,
   "metadata": {},
   "outputs": [],
   "source": [
    "on = True\n",
    "\n",
    "while True:\n",
    "    if on:\n",
    "        del overlayList[0]\n",
    "        load(\"temp/test.nii\")\n",
    "    else:\n",
    "        del overlayList[0]\n",
    "        load(\"temp/r_e2_labels_Neuromorphometrics.nii\")\n",
    "    time.sleep(2)\n",
    "\n",
    "#while True:"
   ]
  },
  {
   "cell_type": "code",
   "execution_count": 196,
   "metadata": {},
   "outputs": [],
   "source": [
    "overlayList.append(Image(\"temp/test.nii\"))"
   ]
  },
  {
   "cell_type": "code",
   "execution_count": 190,
   "metadata": {},
   "outputs": [
    {
     "data": {
      "text/plain": [
       "Image(test, /home/ivar/Desktop/temp/test.nii)"
      ]
     },
     "execution_count": 190,
     "metadata": {},
     "output_type": "execute_result"
    }
   ],
   "source": [
    "load(\"temp/test.nii\")"
   ]
  },
  {
   "cell_type": "code",
   "execution_count": 201,
   "metadata": {},
   "outputs": [],
   "source": [
    "del overlayList[0]"
   ]
  },
  {
   "cell_type": "code",
   "execution_count": 208,
   "metadata": {},
   "outputs": [],
   "source": [
    "overlayList.clear()"
   ]
  },
  {
   "cell_type": "code",
   "execution_count": 1,
   "metadata": {},
   "outputs": [],
   "source": [
    "overlayList.clear()\n",
    "overlayList.append(Image(\"temp/test.nii\"))"
   ]
  },
  {
   "cell_type": "code",
   "execution_count": 1,
   "metadata": {},
   "outputs": [],
   "source": [
    "overlayList.clear()\n",
    "overlayList.append(Image(\"temp/r_e2_labels_Neuromorphometrics.nii\"))"
   ]
  },
  {
   "cell_type": "code",
   "execution_count": 257,
   "metadata": {},
   "outputs": [],
   "source": []
  },
  {
   "cell_type": "code",
   "execution_count": 2,
   "metadata": {},
   "outputs": [
    {
     "name": "stdout",
     "output_type": "stream",
     "text": [
      "sdf\n"
     ]
    }
   ],
   "source": [
    "import multiprocessing as mp \n",
    "    \n",
    "def listen(q):\n",
    "    while True:\n",
    "        message = q.get()\n",
    "        if message == \"kill\":\n",
    "            print(\"exiting listener process\")\n",
    "            break\n",
    "        print(\"Updating overlay\")\n",
    "        overlayList.clear()\n",
    "        overlayList.append(Image(message))\n",
    "\n",
    "if __name__ == '__main__':\n",
    "        \n",
    "    manager = mp.Manager()\n",
    "\n",
    "    q = manager.Queue()\n",
    "\n",
    "    p = mp.Pool(1, maxtasksperchild=1)\n",
    "\n",
    "    res = p.apply_async(listen, args=(q,))\n",
    "\n",
    "    print(\"sdf\")\n"
   ]
  },
  {
   "cell_type": "code",
   "execution_count": null,
   "metadata": {},
   "outputs": [],
   "source": [
    "q.put(\"temp/test.nii\")"
   ]
  },
  {
   "cell_type": "code",
   "execution_count": 4,
   "metadata": {},
   "outputs": [],
   "source": [
    "q.put(\"kill\")\n",
    "p.close()"
   ]
  },
  {
   "cell_type": "code",
   "execution_count": 8,
   "metadata": {},
   "outputs": [
    {
     "name": "stdout",
     "output_type": "stream",
     "text": [
      "400\n",
      "Now the pool is closed and no longer available\n"
     ]
    }
   ],
   "source": [
    "from multiprocessing import Pool, TimeoutError\n",
    "import time\n",
    "import os\n",
    "\n",
    "def f(x):\n",
    "    return x*x\n",
    "\n",
    "if __name__ == '__main__':\n",
    "    # start 4 worker processes\n",
    "    with Pool(processes=1) as pool:\n",
    "\n",
    "        # evaluate \"f(20)\" asynchronously\n",
    "        res = pool.apply_async(f, (20,))      # runs in *only* one process\n",
    "        print(res.get(timeout=1))             # prints \"400\"\n",
    "\n",
    "    # exiting the 'with'-block has stopped the pool\n",
    "    print(\"Now the pool is closed and no longer available\")"
   ]
  },
  {
   "cell_type": "code",
   "execution_count": 1,
   "metadata": {},
   "outputs": [
    {
     "data": {
      "text/plain": [
       "[]"
      ]
     },
     "execution_count": 1,
     "metadata": {},
     "output_type": "execute_result"
    }
   ],
   "source": [
    "overlayList"
   ]
  }
 ],
 "metadata": {
  "kernelspec": {
   "display_name": "Python 3",
   "language": "python",
   "name": "python3"
  },
  "language_info": {
   "codemirror_mode": {
    "name": "ipython",
    "version": 3
   },
   "file_extension": ".py",
   "mimetype": "text/x-python",
   "name": "python",
   "nbconvert_exporter": "python",
   "pygments_lexer": "ipython3",
   "version": "3.6.8"
  }
 },
 "nbformat": 4,
 "nbformat_minor": 2
}
