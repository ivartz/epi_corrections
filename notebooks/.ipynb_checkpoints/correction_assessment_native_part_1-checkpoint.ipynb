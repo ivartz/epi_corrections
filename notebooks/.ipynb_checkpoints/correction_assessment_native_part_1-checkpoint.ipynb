{
 "cells": [
  {
   "cell_type": "markdown",
   "metadata": {},
   "source": [
    "#### Matlab SPM coregistration + warping ROIs to native (patient) Flair space"
   ]
  },
  {
   "cell_type": "code",
   "execution_count": 1,
   "metadata": {},
   "outputs": [
    {
     "data": {
      "text/plain": [
       "'../epi_corrections_out_2019_07_02_native'"
      ]
     },
     "execution_count": 1,
     "metadata": {},
     "output_type": "execute_result"
    }
   ],
   "source": [
    "output_directory_suffix = \"2019_07_02_native\"\n",
    "corrections_base_directory = \"../epi_corrections_out_\" + output_directory_suffix\n",
    "corrections_base_directory"
   ]
  },
  {
   "cell_type": "code",
   "execution_count": 2,
   "metadata": {},
   "outputs": [
    {
     "data": {
      "text/plain": [
       "'/media/loek/HDD3TB1/data/IVS_EPI_BASELINE/epi_corrections'"
      ]
     },
     "execution_count": 2,
     "metadata": {},
     "output_type": "execute_result"
    }
   ],
   "source": [
    "from os import getcwd\n",
    "from os.path import abspath\n",
    "epi_corrections_root_directory = abspath(getcwd() + \"/..\") # Go one directory up from current working directory\n",
    "epi_corrections_root_directory"
   ]
  },
  {
   "cell_type": "code",
   "execution_count": 3,
   "metadata": {},
   "outputs": [
    {
     "name": "stdout",
     "output_type": "stream",
     "text": [
      "ERROR! Session/line number was not unique in database. History logging moved to new session 440\n"
     ]
    }
   ],
   "source": [
    "%%bash -s \"$epi_corrections_root_directory\" \"$corrections_base_directory\" \"$output_directory_suffix\"\n",
    "epi_corrections_root_directory=$1\n",
    "corrections_base_directory=../$2\n",
    "output_directory_suffix=$3\n",
    "\n",
    "spm_path=/media/loek/HDD3TB1/apps/spm12 # This needs to be changed\n",
    "cd $epi_corrections_root_directory\n",
    "pipeline_report_file=$2/pipeline_report_spm_$output_directory_suffix.txt\n",
    "run_command='matlab \n",
    "                -nodisplay \n",
    "                -nosplash \n",
    "                -nodesktop \n",
    "                -r \"cd('\"'spm_pipeline'\"'); \n",
    "                    addpath('\"'$spm_path'\"'); \n",
    "                    myCluster = parcluster; \n",
    "                    myCluster.NumWorkers = 6; \n",
    "                    saveProfile(myCluster); \n",
    "                    parpool(6); \n",
    "                    coreg_native_and_warp_rois('\"'$corrections_base_directory'\"'); \n",
    "                    exit;\" \n",
    "                2>&1 | tee -a $pipeline_report_file'\n",
    "eval $run_command"
   ]
  },
  {
   "cell_type": "markdown",
   "metadata": {},
   "source": [
    "To see the log, run from corrections_base_directory\n",
    "\n",
    "tail -f pipeline_report_spm*.txt"
   ]
  }
 ],
 "metadata": {
  "kernelspec": {
   "display_name": "Python 3",
   "language": "python",
   "name": "python3"
  },
  "language_info": {
   "codemirror_mode": {
    "name": "ipython",
    "version": 3
   },
   "file_extension": ".py",
   "mimetype": "text/x-python",
   "name": "python",
   "nbconvert_exporter": "python",
   "pygments_lexer": "ipython3",
   "version": "3.6.7"
  }
 },
 "nbformat": 4,
 "nbformat_minor": 2
}
