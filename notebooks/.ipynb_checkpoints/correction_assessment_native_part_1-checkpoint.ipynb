{
 "cells": [
  {
   "cell_type": "markdown",
   "metadata": {},
   "source": [
    "1. #### Matlab SPM pipeline for making brain regions and tumor regions in uncorrected, corrected and ground truth DSC space"
   ]
  },
  {
   "cell_type": "code",
   "execution_count": 1,
   "metadata": {},
   "outputs": [],
   "source": [
    "# Run once to store stdout\n",
    "import sys\n",
    "nb_stdout = sys.stdout"
   ]
  },
  {
   "cell_type": "code",
   "execution_count": 2,
   "metadata": {},
   "outputs": [],
   "source": [
    "# Redirect stdout to console, to not get too much text output in the notebook\n",
    "# This means that the notebook will not output any text. Text will be redirected\n",
    "# to the terminal where the notebook was started.\n",
    "sys.stdout = open(1, 'w')"
   ]
  },
  {
   "cell_type": "code",
   "execution_count": 3,
   "metadata": {},
   "outputs": [
    {
     "data": {
      "text/plain": [
       "'../epi_corrections_out_2019_07_02_native'"
      ]
     },
     "execution_count": 3,
     "metadata": {},
     "output_type": "execute_result"
    }
   ],
   "source": [
    "output_directory_suffix = \"2019_07_02_native\"\n",
    "corrections_base_directory = \"../epi_corrections_out_\" + output_directory_suffix\n",
    "corrections_base_directory"
   ]
  },
  {
   "cell_type": "code",
   "execution_count": 4,
   "metadata": {},
   "outputs": [
    {
     "data": {
      "text/plain": [
       "'/media/loek/HDD3TB1/data/IVS_EPI_BASELINE/epi_corrections'"
      ]
     },
     "execution_count": 4,
     "metadata": {},
     "output_type": "execute_result"
    }
   ],
   "source": [
    "from os import getcwd\n",
    "from os.path import abspath\n",
    "epi_corrections_root_directory = abspath(getcwd() + \"/..\") # Go one directory up from current working directory\n",
    "epi_corrections_root_directory"
   ]
  },
  {
   "cell_type": "code",
   "execution_count": 11,
   "metadata": {},
   "outputs": [],
   "source": [
    "%%bash -s \"$epi_corrections_root_directory\" \"$corrections_base_directory\" \"$output_directory_suffix\"\n",
    "epi_corrections_root_directory=$1\n",
    "corrections_base_directory=../$2\n",
    "output_directory_suffix=$3\n",
    "\n",
    "spm_path=/media/loek/HDD3TB1/apps/spm12 # This needs to be changed\n",
    "cd $epi_corrections_root_directory\n",
    "pipeline_report_file=$2/pipeline_report_spm_$output_directory_suffix.txt\n",
    "run_command='matlab \n",
    "                -nodisplay \n",
    "                -nosplash \n",
    "                -nodesktop \n",
    "                -r \"cd('\"'spm_pipeline'\"'); \n",
    "                    addpath('\"'$spm_path'\"'); \n",
    "                    myCluster = parcluster; \n",
    "                    myCluster.NumWorkers = 4; \n",
    "                    saveProfile(myCluster); \n",
    "                    parpool(4); \n",
    "                    make_dsc_rois('\"'$corrections_base_directory'\"'); \n",
    "                    exit;\" \n",
    "                2>&1 | tee $pipeline_report_file'\n",
    "eval $run_command"
   ]
  },
  {
   "cell_type": "markdown",
   "metadata": {},
   "source": [
    "To see the log, run from corrections_base_directory\n",
    "\n",
    "tail -f pipeline_report_spm*.txt"
   ]
  },
  {
   "cell_type": "markdown",
   "metadata": {},
   "source": [
    "2. #### Copy over EPI_raw_DSC, EPI_applytopup and EPI_applyepic to a separate directory"
   ]
  },
  {
   "cell_type": "code",
   "execution_count": 12,
   "metadata": {},
   "outputs": [],
   "source": [
    "corrections_base_new_directory = \\\n",
    "\"../epi_corrections_out_2019_07_02_native_tumor_excluded_from_rcbv\""
   ]
  },
  {
   "cell_type": "markdown",
   "metadata": {},
   "source": [
    "3. #### Run remove-tumor-from-cbv.ipynb on this separate directory to remove rCBV based on tumor GT-ROIs"
   ]
  },
  {
   "cell_type": "markdown",
   "metadata": {},
   "source": [
    "4. #### compute-roi-medians.sh using brain and tumor GT ROIs"
   ]
  },
  {
   "cell_type": "code",
   "execution_count": 36,
   "metadata": {},
   "outputs": [],
   "source": [
    "%%bash -s \"$epi_corrections_root_directory\" \"$corrections_base_new_directory\"\n",
    "epi_corrections_root_directory=$1\n",
    "corrections_base_new_directory=$2\n",
    "cd $epi_corrections_root_directory\n",
    "command=\"bash scripts/compute-roi-medians.sh \\\n",
    "$corrections_base_new_directory \\\n",
    "2>&1 | tee $corrections_base_new_directory/computegtroismedianslog.txt\"\n",
    "eval $command"
   ]
  },
  {
   "cell_type": "markdown",
   "metadata": {},
   "source": [
    "5. #### compute-dice-between-rois.sh using brain and tumor GT and uncorrected and corrected ROIs"
   ]
  },
  {
   "cell_type": "code",
   "execution_count": 40,
   "metadata": {},
   "outputs": [],
   "source": [
    "%%bash -s \"$epi_corrections_root_directory\" \"$corrections_base_new_directory\"\n",
    "epi_corrections_root_directory=$1\n",
    "corrections_base_new_directory=$2\n",
    "cd $epi_corrections_root_directory\n",
    "command=\"bash scripts/compute-dice-between-rois.sh \\\n",
    "$corrections_base_new_directory \\\n",
    "2>&1 | tee $corrections_base_new_directory/computedicelog.txt\"\n",
    "eval $command"
   ]
  },
  {
   "cell_type": "markdown",
   "metadata": {},
   "source": [
    "6. #### analyze-medians-and-dice-scores.sh"
   ]
  },
  {
   "cell_type": "markdown",
   "metadata": {},
   "source": [
    "7. #### analyze-dice-gt-cor.sh"
   ]
  }
 ],
 "metadata": {
  "kernelspec": {
   "display_name": "Python 3",
   "language": "python",
   "name": "python3"
  },
  "language_info": {
   "codemirror_mode": {
    "name": "ipython",
    "version": 3
   },
   "file_extension": ".py",
   "mimetype": "text/x-python",
   "name": "python",
   "nbconvert_exporter": "python",
   "pygments_lexer": "ipython3",
   "version": "3.6.7"
  }
 },
 "nbformat": 4,
 "nbformat_minor": 2
}
