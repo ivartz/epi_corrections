{
 "cells": [
  {
   "cell_type": "markdown",
   "metadata": {},
   "source": [
    "# Simple volume rendering of NIFTI and numpy arrays\n",
    "This notebook is intended to be run within:\n",
    "https://github.com/ivartz/spimagine-jupyter-docker or in an environment with spimagine installed"
   ]
  },
  {
   "cell_type": "markdown",
   "metadata": {},
   "source": [
    "### __Dependencies & Setup__"
   ]
  },
  {
   "cell_type": "code",
   "execution_count": 10,
   "metadata": {
    "scrolled": true
   },
   "outputs": [],
   "source": [
    "# Install some pip packages in the current Jupyter kernel.\n",
    "#import sys\n",
    "#!{sys.executable} -m pip install pandas\n",
    "#!{sys.executable} -m pip install nibabel"
   ]
  },
  {
   "cell_type": "code",
   "execution_count": 11,
   "metadata": {},
   "outputs": [],
   "source": [
    "%gui qt5\n",
    "%run utils.py\n",
    "%run visualiztion.py"
   ]
  },
  {
   "cell_type": "markdown",
   "metadata": {},
   "source": [
    "### __Load NIFTI file and header__"
   ]
  },
  {
   "cell_type": "code",
   "execution_count": 12,
   "metadata": {},
   "outputs": [],
   "source": [
    "corrections_base_directory = \"../../epi_corrections_out_2019_06_05_372114315\"\n",
    "CBV_out_dir = corrections_base_directory + \"/\" + \"CBV_histograms\";\n",
    "regions_file = corrections_base_directory + \"/\" + \"labels_Neuromorphometrics.nii\""
   ]
  },
  {
   "cell_type": "code",
   "execution_count": 13,
   "metadata": {},
   "outputs": [],
   "source": [
    "regions_class = nib.load(regions_file)"
   ]
  },
  {
   "cell_type": "code",
   "execution_count": 14,
   "metadata": {},
   "outputs": [],
   "source": [
    "regions_data, pixdim, header = load_nifti(regions_file)"
   ]
  },
  {
   "cell_type": "code",
   "execution_count": 15,
   "metadata": {},
   "outputs": [
    {
     "data": {
      "text/plain": [
       "(1.5, 1.5, 1.5)"
      ]
     },
     "execution_count": 15,
     "metadata": {},
     "output_type": "execute_result"
    }
   ],
   "source": [
    "pixdim"
   ]
  },
  {
   "cell_type": "code",
   "execution_count": 16,
   "metadata": {},
   "outputs": [
    {
     "name": "stdout",
     "output_type": "stream",
     "text": [
      "<class 'nibabel.nifti1.Nifti1Header'> object, endian='<'\n",
      "sizeof_hdr      : 348\n",
      "data_type       : b''\n",
      "db_name         : b''\n",
      "extents         : 0\n",
      "session_error   : 0\n",
      "regular         : b'r'\n",
      "dim_info        : 0\n",
      "dim             : [  3 121 145 121   1   1   1   1]\n",
      "intent_p1       : 0.0\n",
      "intent_p2       : 0.0\n",
      "intent_p3       : 0.0\n",
      "intent_code     : none\n",
      "datatype        : uint8\n",
      "bitpix          : 8\n",
      "slice_start     : 0\n",
      "pixdim          : [-1.   1.5  1.5  1.5  0.   0.   0.   0. ]\n",
      "vox_offset      : 0.0\n",
      "scl_slope       : nan\n",
      "scl_inter       : nan\n",
      "slice_end       : 0\n",
      "slice_code      : unknown\n",
      "xyzt_units      : 10\n",
      "cal_max         : 0.0\n",
      "cal_min         : 0.0\n",
      "slice_duration  : 0.0\n",
      "toffset         : 0.0\n",
      "glmax           : 0\n",
      "glmin           : 0\n",
      "descrip         : b'Max Probability Labels (http://Neuromorphometrics.com/)'\n",
      "aux_file        : b''\n",
      "qform_code      : mni\n",
      "sform_code      : mni\n",
      "quatern_b       : 0.0\n",
      "quatern_c       : 1.0\n",
      "quatern_d       : 0.0\n",
      "qoffset_x       : 90.0\n",
      "qoffset_y       : -126.0\n",
      "qoffset_z       : -72.0\n",
      "srow_x          : [-1.5  0.   0.  90. ]\n",
      "srow_y          : [   0.     1.5    0.  -126. ]\n",
      "srow_z          : [  0.    0.    1.5 -72. ]\n",
      "intent_name     : b''\n",
      "magic           : b'n+1'\n"
     ]
    }
   ],
   "source": [
    "print(header)"
   ]
  },
  {
   "cell_type": "markdown",
   "metadata": {},
   "source": [
    "### __Render NIFTI volume__"
   ]
  },
  {
   "cell_type": "code",
   "execution_count": 17,
   "metadata": {},
   "outputs": [],
   "source": [
    "spimagine_show_volume_numpy(xyz_to_zyx(regions_data), stackUnits=pixdim)"
   ]
  },
  {
   "cell_type": "markdown",
   "metadata": {},
   "source": [
    "### __Render numpy array__"
   ]
  },
  {
   "cell_type": "code",
   "execution_count": 18,
   "metadata": {
    "collapsed": true,
    "jupyter": {
     "outputs_hidden": true
    }
   },
   "outputs": [
    {
     "name": "stdout",
     "output_type": "stream",
     "text": [
      "active:  blur {'sigma': 4.0}\n",
      "pos already there: 0.17\n",
      "pos already there: 0.17\n",
      "pos already there: 0.17\n",
      "pos already there: 0.17\n",
      "pos already there: 0.17\n",
      "pos already there: 0.17\n",
      "pos already there: 0.17\n",
      "pos already there: 0.18\n",
      "pos already there: 0.18\n",
      "pos already there: 0.18\n",
      "pos already there: 0.18\n",
      "pos already there: 0.18\n",
      "pos already there: 0.18\n",
      "pos already there: 0.18\n",
      "pos already there: 0.19\n",
      "pos already there: 0.19\n",
      "pos already there: 0.19\n",
      "pos already there: 0.19\n",
      "pos already there: 0.19\n",
      "pos already there: 0.19\n",
      "pos already there: 0.19\n",
      "pos already there: 0.19\n",
      "pos already there: 0.19\n",
      "pos already there: 0.19\n",
      "pos already there: 0.19\n",
      "pos already there: 0.19\n",
      "pos already there: 0.19\n",
      "pos already there: 0.19\n",
      "pos already there: 0.19\n",
      "pos already there: 0.19\n",
      "pos already there: 0.19\n",
      "pos already there: 0.19\n",
      "pos already there: 0.19\n",
      "pos already there: 0.2\n",
      "pos already there: 0.2\n",
      "pos already there: 0.2\n",
      "pos already there: 0.2\n",
      "pos already there: 0.2\n",
      "pos already there: 0.2\n",
      "pos already there: 0.2\n",
      "pos already there: 0.2\n",
      "pos already there: 0.2\n",
      "pos already there: 0.2\n",
      "pos already there: 0.2\n",
      "pos already there: 0.21\n",
      "pos already there: 0.21\n",
      "pos already there: 0.21\n",
      "pos already there: 0.21\n",
      "pos already there: 0.21\n",
      "pos already there: 0.21\n",
      "pos already there: 0.21\n",
      "pos already there: 0.21\n",
      "pos already there: 0.21\n",
      "pos already there: 0.21\n",
      "pos already there: 0.21\n",
      "pos already there: 0.21\n",
      "pos already there: 0.21\n",
      "pos already there: 0.21\n",
      "pos already there: 0.21\n",
      "pos already there: 0.22\n",
      "pos already there: 0.22\n",
      "pos already there: 0.22\n",
      "pos already there: 0.22\n",
      "pos already there: 0.22\n",
      "pos already there: 0.23\n",
      "pos already there: 0.23\n",
      "pos already there: 0.23\n",
      "pos already there: 0.23\n",
      "pos already there: 0.23\n",
      "pos already there: 0.23\n",
      "pos already there: 0.23\n",
      "pos already there: 0.24\n",
      "pos already there: 0.24\n",
      "pos already there: 0.24\n",
      "pos already there: 0.24\n",
      "pos already there: 0.24\n",
      "pos already there: 0.25\n",
      "pos already there: 0.25\n",
      "pos already there: 0.25\n",
      "pos already there: 0.25\n",
      "pos already there: 0.25\n",
      "pos already there: 0.26\n",
      "pos already there: 0.26\n",
      "pos already there: 0.26\n",
      "pos already there: 0.26\n",
      "pos already there: 0.26\n",
      "pos already there: 0.26\n",
      "pos already there: 0.26\n",
      "pos already there: 0.26\n",
      "pos already there: 0.26\n",
      "pos already there: 0.26\n",
      "pos already there: 0.26\n",
      "pos already there: 0.27\n",
      "pos already there: 0.27\n",
      "pos already there: 0.27\n",
      "pos already there: 0.27\n",
      "pos already there: 0.27\n",
      "pos already there: 0.27\n",
      "pos already there: 0.27\n",
      "pos already there: 0.27\n",
      "pos already there: 0.27\n",
      "pos already there: 0.27\n",
      "pos already there: 0.27\n",
      "pos already there: 0.27\n",
      "pos already there: 0.27\n",
      "pos already there: 0.27\n",
      "pos already there: 0.27\n",
      "pos already there: 0.27\n",
      "pos already there: 0.27\n",
      "pos already there: 0.27\n",
      "pos already there: 0.27\n",
      "pos already there: 0.27\n",
      "pos already there: 0.27\n",
      "pos already there: 0.06\n",
      "pos already there: 0.06\n",
      "pos already there: 0.06\n",
      "pos already there: 0.06\n",
      "pos already there: 0.06\n",
      "pos already there: 0.06\n",
      "pos already there: 0.06\n",
      "pos already there: 0.07\n",
      "pos already there: 0.07\n",
      "pos already there: 0.07\n",
      "pos already there: 0.07\n",
      "pos already there: 0.07\n",
      "pos already there: 0.07\n",
      "pos already there: 0.07\n",
      "pos already there: 0.07\n",
      "pos already there: 0.07\n",
      "pos already there: 0.08\n",
      "pos already there: 0.08\n",
      "pos already there: 0.08\n",
      "pos already there: 0.08\n",
      "pos already there: 0.08\n",
      "pos already there: 0.08\n",
      "pos already there: 0.08\n",
      "pos already there: 0.08\n",
      "pos already there: 0.08\n",
      "pos already there: 0.08\n",
      "pos already there: 0.08\n",
      "pos already there: 0.09\n",
      "pos already there: 0.09\n",
      "pos already there: 0.09\n",
      "pos already there: 0.09\n",
      "pos already there: 0.09\n",
      "pos already there: 0.09\n",
      "pos already there: 0.09\n",
      "pos already there: 0.09\n",
      "pos already there: 0.09\n",
      "pos already there: 0.09\n",
      "pos already there: 0.09\n",
      "pos already there: 0.09\n",
      "pos already there: 0.09\n",
      "pos already there: 0.09\n",
      "pos already there: 0.09\n",
      "pos already there: 0.09\n",
      "pos already there: 0.09\n",
      "pos already there: 0.09\n",
      "pos already there: 0.09\n",
      "pos already there: 0.1\n",
      "pos already there: 0.1\n",
      "pos already there: 0.1\n",
      "pos already there: 0.1\n",
      "pos already there: 0.1\n",
      "pos already there: 0.1\n",
      "pos already there: 0.1\n",
      "pos already there: 0.1\n",
      "pos already there: 0.1\n",
      "pos already there: 0.1\n",
      "pos already there: 0.1\n",
      "pos already there: 0.1\n",
      "pos already there: 0.1\n",
      "pos already there: 0.11\n",
      "pos already there: 0.11\n",
      "pos already there: 0.11\n",
      "pos already there: 0.11\n",
      "pos already there: 0.11\n",
      "pos already there: 0.11\n",
      "pos already there: 0.11\n",
      "pos already there: 0.11\n",
      "pos already there: 0.11\n",
      "pos already there: 0.11\n",
      "pos already there: 0.11\n",
      "pos already there: 0.11\n",
      "pos already there: 0.11\n",
      "pos already there: 0.12\n",
      "pos already there: 0.12\n",
      "pos already there: 0.12\n",
      "pos already there: 0.12\n",
      "pos already there: 0.12\n",
      "pos already there: 0.12\n",
      "pos already there: 0.12\n",
      "pos already there: 0.12\n",
      "pos already there: 0.12\n",
      "pos already there: 0.12\n",
      "pos already there: 0.12\n",
      "pos already there: 0.13\n",
      "pos already there: 0.13\n",
      "pos already there: 0.13\n",
      "pos already there: 0.13\n",
      "pos already there: 0.13\n",
      "pos already there: 0.13\n",
      "pos already there: 0.13\n",
      "pos already there: 0.13\n",
      "pos already there: 0.13\n",
      "pos already there: 0.13\n",
      "pos already there: 0.13\n",
      "pos already there: 0.13\n",
      "pos already there: 0.13\n",
      "pos already there: 0.14\n",
      "pos already there: 0.14\n",
      "pos already there: 0.14\n",
      "pos already there: 0.14\n",
      "pos already there: 0.14\n",
      "pos already there: 0.14\n",
      "pos already there: 0.14\n",
      "pos already there: 0.14\n",
      "pos already there: 0.14\n",
      "pos already there: 0.15\n",
      "pos already there: 0.15\n",
      "pos already there: 0.15\n",
      "pos already there: 0.15\n",
      "pos already there: 0.15\n",
      "pos already there: 0.15\n",
      "pos already there: 0.15\n",
      "pos already there: 0.15\n",
      "pos already there: 0.15\n",
      "pos already there: 0.15\n",
      "pos already there: 0.15\n",
      "pos already there: 0.15\n",
      "pos already there: 0.15\n",
      "pos already there: 0.15\n",
      "pos already there: 0.15\n",
      "pos already there: 0.15\n",
      "pos already there: 0.15\n",
      "pos already there: 0.16\n",
      "pos already there: 0.16\n",
      "pos already there: 0.16\n",
      "pos already there: 0.16\n",
      "pos already there: 0.16\n",
      "pos already there: 0.16\n",
      "pos already there: 0.16\n",
      "pos already there: 0.16\n",
      "pos already there: 0.16\n",
      "pos already there: 0.16\n",
      "pos already there: 0.16\n",
      "pos already there: 0.16\n",
      "pos already there: 0.16\n",
      "pos already there: 0.16\n",
      "pos already there: 0.16\n",
      "pos already there: 0.16\n",
      "pos already there: 0.16\n",
      "pos already there: 0.16\n",
      "pos already there: 0.16\n",
      "pos already there: 0.16\n",
      "pos already there: 0.16\n",
      "pos already there: 0.16\n",
      "pos already there: 0.16\n",
      "pos already there: 0.16\n",
      "pos already there: 0.16\n",
      "pos already there: 0.16\n",
      "pos already there: 0.16\n",
      "pos already there: 0.16\n",
      "pos already there: 0.16\n",
      "pos already there: 0.16\n",
      "pos already there: 0.16\n",
      "pos already there: 0.16\n",
      "pos already there: 0.16\n",
      "pos already there: 0.15\n",
      "pos already there: 0.15\n",
      "pos already there: 0.15\n",
      "pos already there: 0.27\n",
      "pos already there: 0.27\n",
      "pos already there: 0.27\n",
      "pos already there: 0.27\n",
      "pos already there: 0.28\n",
      "pos already there: 0.28\n",
      "pos already there: 0.28\n",
      "pos already there: 0.28\n",
      "pos already there: 0.28\n",
      "pos already there: 0.29\n",
      "pos already there: 0.29\n",
      "pos already there: 0.29\n",
      "pos already there: 0.29\n",
      "pos already there: 0.29\n",
      "pos already there: 0.29\n",
      "pos already there: 0.29\n",
      "pos already there: 0.29\n",
      "pos already there: 0.29\n",
      "pos already there: 0.3\n",
      "pos already there: 0.3\n",
      "pos already there: 0.3\n",
      "pos already there: 0.3\n",
      "pos already there: 0.3\n",
      "pos already there: 0.3\n",
      "pos already there: 0.3\n",
      "pos already there: 0.3\n",
      "pos already there: 0.3\n",
      "pos already there: 0.3\n",
      "pos already there: 0.3\n",
      "pos already there: 0.3\n",
      "pos already there: 0.3\n",
      "pos already there: 0.3\n",
      "pos already there: 0.3\n",
      "pos already there: 0.31\n",
      "pos already there: 0.31\n",
      "pos already there: 0.31\n",
      "pos already there: 0.31\n",
      "pos already there: 0.31\n",
      "pos already there: 0.31\n",
      "pos already there: 0.31\n",
      "pos already there: 0.31\n",
      "pos already there: 0.31\n",
      "pos already there: 0.31\n",
      "pos already there: 0.31\n",
      "pos already there: 0.31\n",
      "pos already there: 0.31\n",
      "pos already there: 0.31\n",
      "pos already there: 0.31\n",
      "pos already there: 0.32\n",
      "pos already there: 0.31\n",
      "pos already there: 0.31\n",
      "pos already there: 0.31\n",
      "pos already there: 0.31\n",
      "pos already there: 0.31\n",
      "pos already there: 0.31\n",
      "pos already there: 0.31\n",
      "pos already there: 0.31\n",
      "pos already there: 0.31\n",
      "pos already there: 0.31\n",
      "pos already there: 0.31\n",
      "pos already there: 0.31\n",
      "pos already there: 0.31\n",
      "pos already there: 0.31\n",
      "pos already there: 0.31\n",
      "pos already there: 0.31\n",
      "pos already there: 0.31\n",
      "pos already there: 0.3\n",
      "pos already there: 0.3\n",
      "pos already there: 0.3\n",
      "pos already there: 0.3\n",
      "pos already there: 0.3\n",
      "pos already there: 0.3\n",
      "pos already there: 0.3\n",
      "pos already there: 0.3\n",
      "pos already there: 0.3\n",
      "pos already there: 0.3\n",
      "pos already there: 0.3\n",
      "pos already there: 0.3\n",
      "pos already there: 0.3\n",
      "pos already there: 0.3\n",
      "pos already there: 0.3\n",
      "pos already there: 0.3\n",
      "pos already there: 0.3\n",
      "pos already there: 0.15\n",
      "pos already there: 0.15\n",
      "pos already there: 0.15\n",
      "pos already there: 0.15\n",
      "pos already there: 0.14\n",
      "pos already there: 0.14\n",
      "pos already there: 0.14\n",
      "pos already there: 0.14\n",
      "pos already there: 0.14\n",
      "pos already there: 0.14\n",
      "pos already there: 0.14\n",
      "pos already there: 0.14\n",
      "pos already there: 0.14\n",
      "pos already there: 0.14\n",
      "pos already there: 0.14\n",
      "pos already there: 0.14\n",
      "pos already there: 0.14\n",
      "pos already there: 0.14\n",
      "pos already there: 0.14\n",
      "pos already there: 0.13\n",
      "pos already there: 0.13\n",
      "pos already there: 0.13\n",
      "pos already there: 0.13\n",
      "pos already there: 0.13\n",
      "pos already there: 0.13\n",
      "pos already there: 0.13\n",
      "pos already there: 0.13\n",
      "pos already there: 0.13\n",
      "pos already there: 0.13\n",
      "pos already there: 0.13\n",
      "pos already there: 0.13\n",
      "pos already there: 0.13\n",
      "pos already there: 0.13\n",
      "pos already there: 0.13\n",
      "pos already there: 0.13\n",
      "pos already there: 0.13\n",
      "pos already there: 0.12\n",
      "pos already there: 0.12\n",
      "pos already there: 0.12\n",
      "pos already there: 0.12\n",
      "pos already there: 0.12\n",
      "pos already there: 0.12\n",
      "pos already there: 0.12\n",
      "pos already there: 0.11\n",
      "pos already there: 0.11\n",
      "pos already there: 0.11\n",
      "pos already there: 0.11\n",
      "pos already there: 0.11\n",
      "pos already there: 0.1\n",
      "pos already there: 0.1\n",
      "pos already there: 0.1\n",
      "pos already there: 0.1\n",
      "pos already there: 0.1\n",
      "pos already there: 0.1\n",
      "pos already there: 0.1\n",
      "pos already there: 0.1\n",
      "pos already there: 0.1\n",
      "pos already there: 0.1\n",
      "pos already there: 0.1\n",
      "pos already there: 0.1\n",
      "pos already there: 0.1\n",
      "pos already there: 0.1\n",
      "pos already there: 0.1\n",
      "pos already there: 0.09\n",
      "pos already there: 0.09\n",
      "pos already there: 0.09\n",
      "pos already there: 0.09\n",
      "pos already there: 0.09\n",
      "pos already there: 0.09\n",
      "pos already there: 0.09\n",
      "pos already there: 0.09\n",
      "pos already there: 0.09\n",
      "pos already there: 0.08\n",
      "pos already there: 0.08\n",
      "pos already there: 0.08\n",
      "pos already there: 0.08\n",
      "pos already there: 0.08\n",
      "pos already there: 0.08\n",
      "pos already there: 0.08\n",
      "pos already there: 0.08\n",
      "pos already there: 0.08\n",
      "pos already there: 0.08\n",
      "pos already there: 0.08\n",
      "pos already there: 0.08\n",
      "pos already there: 0.08\n",
      "pos already there: 0.08\n",
      "pos already there: 0.08\n",
      "pos already there: 0.07\n",
      "pos already there: 0.07\n",
      "pos already there: 0.07\n",
      "pos already there: 0.07\n",
      "pos already there: 0.07\n",
      "pos already there: 0.07\n",
      "pos already there: 0.07\n",
      "pos already there: 0.07\n",
      "pos already there: 0.07\n",
      "pos already there: 0.06\n",
      "pos already there: 0.06\n",
      "pos already there: 0.06\n",
      "pos already there: 0.06\n",
      "pos already there: 0.06\n",
      "pos already there: 0.06\n",
      "pos already there: 0.06\n",
      "pos already there: 0.06\n",
      "pos already there: 0.06\n",
      "pos already there: 0.06\n",
      "pos already there: 0.06\n",
      "pos already there: 0.06\n",
      "pos already there: 0.06\n",
      "pos already there: 0.05\n",
      "pos already there: 0.05\n",
      "pos already there: 0.05\n",
      "pos already there: 0.05\n",
      "pos already there: 0.05\n",
      "pos already there: 0.05\n",
      "pos already there: 0.05\n",
      "pos already there: 0.05\n",
      "pos already there: 0.05\n",
      "pos already there: 0.05\n",
      "pos already there: 0.05\n",
      "pos already there: 0.05\n",
      "pos already there: 0.05\n",
      "pos already there: 0.05\n",
      "pos already there: 0.05\n",
      "pos already there: 0.05\n",
      "pos already there: 0.05\n",
      "pos already there: 0.04\n",
      "pos already there: 0.04\n",
      "pos already there: 0.04\n",
      "pos already there: 0.04\n",
      "pos already there: 0.04\n",
      "pos already there: 0.04\n",
      "pos already there: 0.04\n",
      "pos already there: 0.04\n",
      "pos already there: 0.04\n",
      "pos already there: 0.04\n",
      "pos already there: 0.04\n",
      "pos already there: 0.04\n",
      "pos already there: 0.04\n",
      "pos already there: 0.04\n",
      "pos already there: 0.04\n",
      "pos already there: 0.04\n",
      "pos already there: 0.04\n",
      "pos already there: 0.04\n",
      "pos already there: 0.04\n",
      "pos already there: 0.04\n",
      "pos already there: 0.04\n",
      "pos already there: 0.04\n",
      "pos already there: 0.04\n",
      "pos already there: 0.04\n",
      "pos already there: 0.04\n",
      "pos already there: 0.3\n",
      "pos already there: 0.3\n",
      "pos already there: 0.58\n",
      "pos already there: 0.58\n",
      "pos already there: 0.58\n",
      "pos already there: 0.58\n",
      "pos already there: 0.58\n",
      "pos already there: 0.58\n",
      "pos already there: 0.58\n",
      "pos already there: 0.58\n",
      "pos already there: 0.58\n",
      "pos already there: 0.58\n",
      "pos already there: 0.57\n",
      "pos already there: 0.57\n",
      "pos already there: 0.57\n",
      "pos already there: 0.57\n",
      "pos already there: 0.57\n",
      "pos already there: 0.57\n",
      "pos already there: 0.57\n",
      "pos already there: 0.57\n",
      "pos already there: 0.57\n",
      "pos already there: 0.57\n",
      "pos already there: 0.57\n",
      "pos already there: 0.56\n",
      "pos already there: 0.56\n",
      "pos already there: 0.56\n",
      "pos already there: 0.56\n",
      "pos already there: 0.56\n",
      "pos already there: 0.56\n",
      "pos already there: 0.56\n",
      "pos already there: 0.55\n",
      "pos already there: 0.55\n",
      "pos already there: 0.55\n",
      "pos already there: 0.55\n",
      "pos already there: 0.55\n",
      "pos already there: 0.55\n",
      "pos already there: 0.55\n",
      "pos already there: 0.55\n",
      "pos already there: 0.55\n",
      "pos already there: 0.55\n",
      "pos already there: 0.55\n",
      "pos already there: 0.55\n",
      "pos already there: 0.55\n",
      "pos already there: 0.55\n",
      "pos already there: 0.55\n",
      "pos already there: 0.55\n",
      "pos already there: 0.55\n",
      "pos already there: 0.55\n",
      "pos already there: 0.55\n",
      "pos already there: 0.54\n",
      "pos already there: 0.54\n",
      "pos already there: 0.54\n",
      "pos already there: 0.54\n",
      "pos already there: 0.54\n",
      "pos already there: 0.54\n",
      "pos already there: 0.54\n",
      "pos already there: 0.54\n",
      "pos already there: 0.54\n",
      "pos already there: 0.53\n",
      "pos already there: 0.53\n",
      "pos already there: 0.53\n",
      "pos already there: 0.53\n",
      "pos already there: 0.53\n",
      "pos already there: 0.53\n",
      "pos already there: 0.53\n",
      "pos already there: 0.53\n",
      "pos already there: 0.53\n",
      "pos already there: 0.53\n",
      "pos already there: 0.53\n",
      "pos already there: 0.53\n",
      "pos already there: 0.53\n",
      "pos already there: 0.53\n",
      "pos already there: 0.53\n",
      "pos already there: 0.53\n",
      "pos already there: 0.53\n",
      "pos already there: 0.52\n",
      "pos already there: 0.52\n",
      "pos already there: 0.52\n",
      "pos already there: 0.52\n",
      "pos already there: 0.52\n",
      "pos already there: 0.52\n",
      "pos already there: 0.52\n",
      "pos already there: 0.52\n",
      "pos already there: 0.52\n",
      "pos already there: 0.52\n",
      "pos already there: 0.52\n",
      "pos already there: 0.52\n",
      "pos already there: 0.52\n",
      "pos already there: 0.52\n",
      "pos already there: 0.52\n",
      "pos already there: 0.52\n",
      "pos already there: 0.52\n",
      "pos already there: 0.51\n",
      "pos already there: 0.51\n",
      "pos already there: 0.51\n",
      "pos already there: 0.51\n",
      "pos already there: 0.51\n",
      "pos already there: 0.51\n",
      "pos already there: 0.51\n",
      "pos already there: 0.51\n",
      "pos already there: 0.51\n",
      "pos already there: 0.51\n",
      "pos already there: 0.51\n",
      "pos already there: 0.51\n",
      "pos already there: 0.51\n",
      "pos already there: 0.51\n",
      "pos already there: 0.51\n",
      "pos already there: 0.51\n",
      "pos already there: 0.51\n",
      "pos already there: 0.51\n",
      "pos already there: 0.51\n",
      "pos already there: 0.5\n",
      "pos already there: 0.5\n",
      "pos already there: 0.5\n",
      "pos already there: 0.5\n",
      "pos already there: 0.5\n",
      "pos already there: 0.5\n",
      "pos already there: 0.5\n",
      "pos already there: 0.5\n",
      "pos already there: 0.5\n",
      "pos already there: 0.5\n",
      "pos already there: 0.5\n",
      "pos already there: 0.5\n",
      "pos already there: 0.5\n",
      "pos already there: 0.5\n",
      "pos already there: 0.5\n",
      "pos already there: 0.5\n",
      "pos already there: 0.5\n",
      "pos already there: 0.3\n",
      "pos already there: 0.3\n",
      "pos already there: 0.3\n",
      "pos already there: 0.3\n",
      "pos already there: 0.3\n",
      "pos already there: 0.3\n",
      "pos already there: 0.3\n",
      "pos already there: 0.3\n",
      "pos already there: 0.3\n",
      "pos already there: 0.3\n",
      "pos already there: 0.29\n",
      "pos already there: 0.29\n",
      "pos already there: 0.29\n",
      "pos already there: 0.29\n",
      "pos already there: 0.29\n",
      "pos already there: 0.29\n",
      "pos already there: 0.29\n",
      "pos already there: 0.29\n",
      "pos already there: 0.29\n",
      "pos already there: 0.28\n",
      "pos already there: 0.28\n",
      "pos already there: 0.28\n",
      "pos already there: 0.28\n",
      "pos already there: 0.28\n",
      "pos already there: 0.28\n",
      "pos already there: 0.28\n",
      "pos already there: 0.27\n",
      "pos already there: 0.27\n",
      "pos already there: 0.27\n",
      "pos already there: 0.27\n",
      "pos already there: 0.27\n",
      "pos already there: 0.27\n",
      "pos already there: 0.27\n",
      "pos already there: 0.26\n",
      "pos already there: 0.25\n",
      "pos already there: 0.25\n",
      "pos already there: 0.25\n",
      "pos already there: 0.25\n",
      "pos already there: 0.25\n",
      "pos already there: 0.24\n",
      "pos already there: 0.24\n",
      "pos already there: 0.24\n",
      "pos already there: 0.24\n",
      "pos already there: 0.24\n",
      "pos already there: 0.23\n",
      "pos already there: 0.23\n",
      "pos already there: 0.23\n",
      "pos already there: 0.22\n",
      "pos already there: 0.22\n",
      "pos already there: 0.22\n",
      "pos already there: 0.22\n",
      "pos already there: 0.22\n",
      "pos already there: 0.21\n",
      "pos already there: 0.21\n",
      "pos already there: 0.21\n",
      "pos already there: 0.21\n",
      "pos already there: 0.21\n",
      "pos already there: 0.2\n",
      "pos already there: 0.2\n",
      "pos already there: 0.2\n",
      "pos already there: 0.2\n",
      "pos already there: 0.2\n",
      "pos already there: 0.19\n",
      "pos already there: 0.19\n",
      "pos already there: 0.19\n",
      "pos already there: 0.19\n",
      "pos already there: 0.19\n",
      "pos already there: 0.19\n",
      "pos already there: 0.19\n",
      "pos already there: 0.18\n",
      "pos already there: 0.18\n",
      "pos already there: 0.18\n",
      "pos already there: 0.18\n",
      "pos already there: 0.18\n",
      "pos already there: 0.17\n",
      "pos already there: 0.17\n",
      "pos already there: 0.17\n",
      "pos already there: 0.17\n",
      "pos already there: 0.17\n",
      "pos already there: 0.16\n",
      "pos already there: 0.16\n",
      "pos already there: 0.16\n",
      "pos already there: 0.16\n",
      "pos already there: 0.16\n",
      "pos already there: 0.15\n",
      "pos already there: 0.15\n",
      "pos already there: 0.15\n",
      "pos already there: 0.15\n",
      "pos already there: 0.15\n",
      "pos already there: 0.15\n",
      "pos already there: 0.15\n",
      "pos already there: 0.15\n",
      "pos already there: 0.15\n",
      "pos already there: 0.15\n",
      "pos already there: 0.15\n",
      "pos already there: 0.15\n",
      "pos already there: 0.15\n",
      "pos already there: 0.14\n",
      "pos already there: 0.15\n",
      "pos already there: 0.15\n",
      "pos already there: 0.15\n",
      "pos already there: 0.15\n",
      "pos already there: 0.15\n",
      "pos already there: 0.15\n",
      "pos already there: 0.15\n",
      "pos already there: 0.5\n",
      "pos already there: 0.5\n",
      "pos already there: 0.5\n",
      "pos already there: 0.5\n",
      "pos already there: 0.49\n",
      "pos already there: 0.49\n",
      "pos already there: 0.49\n",
      "pos already there: 0.49\n",
      "pos already there: 0.49\n",
      "pos already there: 0.49\n",
      "pos already there: 0.49\n",
      "pos already there: 0.48\n",
      "pos already there: 0.48\n",
      "pos already there: 0.48\n",
      "pos already there: 0.48\n",
      "pos already there: 0.48\n",
      "pos already there: 0.47\n",
      "pos already there: 0.46\n",
      "pos already there: 0.46\n",
      "pos already there: 0.46\n",
      "pos already there: 0.45\n",
      "pos already there: 0.45\n",
      "pos already there: 0.45\n",
      "pos already there: 0.45\n",
      "pos already there: 0.45\n",
      "pos already there: 0.44\n",
      "pos already there: 0.43\n",
      "pos already there: 0.43\n",
      "pos already there: 0.43\n",
      "pos already there: 0.43\n",
      "pos already there: 0.43\n",
      "pos already there: 0.42\n",
      "pos already there: 0.42\n",
      "pos already there: 0.42\n",
      "pos already there: 0.41\n",
      "pos already there: 0.41\n",
      "pos already there: 0.41\n",
      "pos already there: 0.4\n",
      "pos already there: 0.39\n",
      "pos already there: 0.39\n",
      "pos already there: 0.39\n",
      "pos already there: 0.39\n",
      "pos already there: 0.39\n",
      "pos already there: 0.39\n",
      "pos already there: 0.39\n",
      "pos already there: 0.39\n",
      "pos already there: 0.39\n",
      "pos already there: 0.38\n",
      "pos already there: 0.38\n",
      "pos already there: 0.38\n",
      "pos already there: 0.37\n",
      "pos already there: 0.37\n",
      "pos already there: 0.37\n",
      "pos already there: 0.37\n",
      "pos already there: 0.37\n",
      "pos already there: 0.36\n",
      "pos already there: 0.36\n",
      "pos already there: 0.36\n",
      "pos already there: 0.36\n",
      "pos already there: 0.36\n",
      "pos already there: 0.36\n",
      "pos already there: 0.36\n",
      "pos already there: 0.36\n",
      "pos already there: 0.36\n",
      "pos already there: 0.36\n",
      "pos already there: 0.36\n",
      "pos already there: 0.36\n",
      "pos already there: 0.36\n",
      "pos already there: 0.35\n",
      "pos already there: 0.35\n",
      "pos already there: 0.35\n",
      "pos already there: 0.35\n",
      "pos already there: 0.35\n",
      "pos already there: 0.35\n",
      "pos already there: 0.35\n",
      "pos already there: 0.35\n",
      "pos already there: 0.35\n",
      "pos already there: 0.35\n",
      "pos already there: 0.35\n",
      "pos already there: 0.34\n",
      "pos already there: 0.34\n",
      "pos already there: 0.34\n",
      "pos already there: 0.34\n",
      "pos already there: 0.34\n",
      "pos already there: 0.34\n",
      "pos already there: 0.34\n",
      "pos already there: 0.34\n",
      "pos already there: 0.34\n",
      "pos already there: 0.34\n",
      "pos already there: 0.34\n",
      "pos already there: 0.33\n",
      "pos already there: 0.33\n",
      "pos already there: 0.33\n",
      "pos already there: 0.33\n",
      "pos already there: 0.33\n",
      "pos already there: 0.33\n",
      "pos already there: 0.33\n",
      "pos already there: 0.33\n",
      "pos already there: 0.33\n",
      "pos already there: 0.33\n",
      "pos already there: 0.33\n",
      "pos already there: 0.33\n",
      "pos already there: 0.33\n",
      "pos already there: 0.33\n",
      "pos already there: 0.33\n",
      "pos already there: 0.33\n",
      "pos already there: 0.33\n",
      "pos already there: 0.33\n",
      "pos already there: 0.33\n",
      "pos already there: 0.32\n",
      "pos already there: 0.32\n",
      "pos already there: 0.32\n",
      "pos already there: 0.32\n",
      "pos already there: 0.32\n",
      "pos already there: 0.32\n",
      "pos already there: 0.32\n",
      "pos already there: 0.66\n",
      "pos already there: 0.66\n",
      "pos already there: 0.66\n",
      "pos already there: 0.66\n",
      "pos already there: 0.66\n",
      "pos already there: 0.66\n",
      "pos already there: 0.66\n",
      "pos already there: 0.65\n",
      "pos already there: 0.65\n",
      "pos already there: 0.65\n",
      "pos already there: 0.65\n",
      "pos already there: 0.65\n",
      "pos already there: 0.64\n",
      "pos already there: 0.64\n",
      "pos already there: 0.64\n",
      "pos already there: 0.64\n",
      "pos already there: 0.64\n",
      "pos already there: 0.63\n",
      "pos already there: 0.63\n",
      "pos already there: 0.63\n",
      "pos already there: 0.63\n",
      "pos already there: 0.63\n",
      "pos already there: 0.62\n",
      "pos already there: 0.62\n",
      "pos already there: 0.62\n",
      "pos already there: 0.61\n",
      "pos already there: 0.61\n",
      "pos already there: 0.61\n",
      "pos already there: 0.6\n",
      "pos already there: 0.6\n",
      "pos already there: 0.6\n",
      "pos already there: 0.59\n",
      "pos already there: 0.59\n",
      "pos already there: 0.59\n",
      "pos already there: 0.58\n",
      "pos already there: 0.58\n",
      "pos already there: 0.58\n",
      "pos already there: 0.57\n",
      "pos already there: 0.57\n",
      "pos already there: 0.57\n",
      "pos already there: 0.56\n",
      "pos already there: 0.55\n",
      "pos already there: 0.55\n",
      "pos already there: 0.55\n",
      "pos already there: 0.55\n",
      "pos already there: 0.55\n",
      "pos already there: 0.54\n",
      "pos already there: 0.54\n",
      "pos already there: 0.54\n",
      "pos already there: 0.53\n",
      "pos already there: 0.53\n",
      "pos already there: 0.53\n",
      "pos already there: 0.52\n",
      "pos already there: 0.52\n",
      "pos already there: 0.52\n",
      "pos already there: 0.51\n",
      "pos already there: 0.51\n",
      "pos already there: 0.51\n",
      "pos already there: 0.5\n",
      "pos already there: 0.5\n",
      "pos already there: 0.5\n",
      "pos already there: 0.49\n",
      "pos already there: 0.48\n",
      "pos already there: 0.48\n",
      "pos already there: 0.48\n",
      "pos already there: 0.48\n",
      "pos already there: 0.48\n",
      "pos already there: 0.48\n",
      "pos already there: 0.48\n",
      "pos already there: 0.48\n",
      "pos already there: 0.48\n",
      "pos already there: 0.47\n",
      "pos already there: 0.47\n",
      "pos already there: 0.47\n",
      "pos already there: 0.47\n",
      "pos already there: 0.47\n",
      "pos already there: 0.47\n",
      "pos already there: 0.47\n",
      "pos already there: 0.47\n",
      "pos already there: 0.47\n",
      "pos already there: 0.47\n",
      "pos already there: 0.47\n",
      "pos already there: 0.47\n",
      "pos already there: 0.47\n",
      "pos already there: 0.47\n",
      "pos already there: 0.47\n",
      "pos already there: 0.47\n",
      "pos already there: 0.47\n",
      "pos already there: 0.47\n",
      "pos already there: 0.47\n",
      "pos already there: 0.47\n",
      "pos already there: 0.47\n",
      "pos already there: 0.47\n",
      "pos already there: 0.47\n",
      "pos already there: 0.47\n",
      "pos already there: 0.47\n",
      "pos already there: 0.47\n",
      "pos already there: 0.47\n",
      "pos already there: 0.47\n",
      "pos already there: 0.47\n",
      "pos already there: 0.47\n",
      "pos already there: 0.47\n",
      "pos already there: 0.47\n",
      "pos already there: 0.47\n",
      "pos already there: 0.47\n",
      "pos already there: 0.47\n",
      "pos already there: 0.47\n",
      "pos already there: 0.47\n",
      "pos already there: 0.47\n",
      "pos already there: 0.47\n",
      "pos already there: 0.47\n",
      "pos already there: 0.47\n",
      "pos already there: 0.48\n",
      "pos already there: 0.48\n",
      "pos already there: 0.48\n",
      "pos already there: 0.48\n",
      "pos already there: 0.48\n",
      "pos already there: 0.48\n",
      "pos already there: 0.48\n",
      "pos already there: 0.48\n",
      "pos already there: 0.48\n",
      "pos already there: 0.48\n",
      "pos already there: 0.48\n",
      "pos already there: 0.48\n",
      "pos already there: 0.48\n",
      "pos already there: 0.48\n",
      "pos already there: 0.48\n",
      "pos already there: 0.47\n",
      "pos already there: 0.47\n",
      "pos already there: 0.47\n",
      "pos already there: 0.47\n",
      "pos already there: 0.47\n",
      "pos already there: 0.47\n",
      "pos already there: 0.47\n",
      "pos already there: 0.47\n",
      "pos already there: 0.47\n",
      "pos already there: 0.47\n",
      "pos already there: 0.47\n",
      "pos already there: 0.47\n",
      "pos already there: 0.47\n",
      "pos already there: 0.47\n",
      "pos already there: 0.47\n",
      "pos already there: 0.47\n",
      "pos already there: 0.47\n",
      "pos already there: 0.47\n",
      "pos already there: 0.47\n",
      "pos already there: 0.46\n",
      "pos already there: 0.46\n",
      "pos already there: 0.46\n",
      "pos already there: 0.46\n",
      "pos already there: 0.46\n",
      "pos already there: 0.46\n",
      "pos already there: 0.46\n",
      "pos already there: 0.46\n",
      "pos already there: 0.46\n",
      "pos already there: 0.45\n",
      "pos already there: 0.45\n",
      "pos already there: 0.45\n",
      "pos already there: 0.45\n",
      "pos already there: 0.45\n",
      "pos already there: 0.45\n",
      "pos already there: 0.45\n",
      "pos already there: 0.45\n",
      "pos already there: 0.45\n",
      "pos already there: 0.45\n",
      "pos already there: 0.45\n",
      "pos already there: 0.45\n",
      "pos already there: 0.45\n",
      "pos already there: 0.45\n",
      "pos already there: 0.45\n",
      "pos already there: 0.45\n",
      "pos already there: 0.45\n",
      "pos already there: 0.45\n",
      "pos already there: 0.45\n",
      "pos already there: 0.45\n",
      "pos already there: 0.45\n",
      "pos already there: 0.45\n",
      "pos already there: 0.45\n",
      "pos already there: 0.45\n",
      "pos already there: 0.45\n",
      "pos already there: 0.45\n",
      "pos already there: 0.45\n",
      "pos already there: 0.46\n",
      "pos already there: 0.46\n",
      "pos already there: 0.46\n",
      "pos already there: 0.46\n",
      "pos already there: 0.46\n",
      "pos already there: 0.46\n",
      "pos already there: 0.46\n",
      "pos already there: 0.46\n",
      "pos already there: 0.46\n",
      "pos already there: 0.46\n",
      "pos already there: 0.46\n",
      "pos already there: 0.46\n",
      "pos already there: 0.46\n",
      "pos already there: 0.46\n",
      "pos already there: 0.46\n",
      "pos already there: 0.46\n",
      "pos already there: 0.46\n",
      "pos already there: 0.46\n",
      "pos already there: 0.46\n",
      "pos already there: 0.46\n",
      "pos already there: 0.46\n",
      "pos already there: 0.47\n",
      "pos already there: 0.47\n",
      "pos already there: 0.47\n",
      "pos already there: 0.47\n",
      "pos already there: 0.47\n",
      "pos already there: 0.47\n",
      "pos already there: 0.47\n",
      "pos already there: 0.47\n",
      "pos already there: 0.47\n",
      "pos already there: 0.47\n",
      "pos already there: 0.47\n",
      "pos already there: 0.47\n",
      "pos already there: 0.47\n",
      "pos already there: 0.47\n",
      "pos already there: 0.47\n",
      "pos already there: 0.32\n",
      "pos already there: 0.32\n",
      "pos already there: 0.32\n",
      "pos already there: 0.32\n",
      "pos already there: 0.32\n",
      "pos already there: 0.32\n",
      "pos already there: 0.32\n",
      "pos already there: 0.32\n",
      "pos already there: 0.32\n",
      "pos already there: 0.32\n",
      "pos already there: 0.32\n",
      "pos already there: 0.32\n",
      "pos already there: 0.31\n",
      "pos already there: 0.31\n",
      "pos already there: 0.31\n",
      "pos already there: 0.31\n",
      "pos already there: 0.31\n",
      "pos already there: 0.31\n",
      "pos already there: 0.31\n",
      "pos already there: 0.31\n",
      "pos already there: 0.31\n",
      "pos already there: 0.31\n",
      "pos already there: 0.31\n",
      "pos already there: 0.31\n",
      "pos already there: 0.31\n",
      "pos already there: 0.31\n",
      "pos already there: 0.31\n",
      "pos already there: 0.31\n",
      "pos already there: 0.31\n",
      "pos already there: 0.31\n",
      "pos already there: 0.31\n",
      "pos already there: 0.3\n",
      "pos already there: 0.3\n",
      "pos already there: 0.3\n",
      "pos already there: 0.3\n",
      "pos already there: 0.3\n",
      "pos already there: 0.3\n",
      "pos already there: 0.3\n",
      "pos already there: 0.3\n",
      "pos already there: 0.3\n",
      "pos already there: 0.3\n",
      "pos already there: 0.3\n",
      "pos already there: 0.3\n",
      "pos already there: 0.3\n",
      "pos already there: 0.3\n",
      "pos already there: 0.3\n",
      "pos already there: 0.29\n",
      "pos already there: 0.29\n",
      "pos already there: 0.29\n",
      "pos already there: 0.29\n",
      "pos already there: 0.29\n",
      "pos already there: 0.29\n",
      "pos already there: 0.29\n",
      "pos already there: 0.29\n",
      "pos already there: 0.29\n",
      "pos already there: 0.29\n",
      "pos already there: 0.29\n",
      "pos already there: 0.28\n",
      "pos already there: 0.28\n",
      "pos already there: 0.28\n",
      "pos already there: 0.28\n",
      "pos already there: 0.28\n",
      "pos already there: 0.28\n",
      "pos already there: 0.28\n",
      "pos already there: 0.28\n",
      "pos already there: 0.28\n",
      "pos already there: 0.28\n",
      "pos already there: 0.28\n",
      "pos already there: 0.28\n",
      "pos already there: 0.28\n",
      "pos already there: 0.28\n",
      "pos already there: 0.28\n",
      "pos already there: 0.28\n",
      "pos already there: 0.28\n",
      "pos already there: 0.28\n",
      "pos already there: 0.28\n",
      "pos already there: 0.28\n",
      "pos already there: 0.28\n",
      "pos already there: 0.28\n",
      "pos already there: 0.28\n",
      "pos already there: 0.28\n",
      "pos already there: 0.28\n",
      "pos already there: 0.28\n",
      "pos already there: 0.28\n",
      "pos already there: 0.27\n",
      "pos already there: 0.27\n",
      "pos already there: 0.27\n",
      "pos already there: 0.27\n",
      "pos already there: 0.27\n",
      "pos already there: 0.27\n",
      "pos already there: 0.27\n",
      "pos already there: 0.27\n",
      "pos already there: 0.27\n",
      "pos already there: 0.27\n",
      "pos already there: 0.27\n",
      "pos already there: 0.27\n",
      "pos already there: 0.27\n",
      "pos already there: 0.28\n",
      "pos already there: 0.28\n",
      "pos already there: 0.28\n",
      "pos already there: 0.28\n",
      "pos already there: 0.28\n",
      "pos already there: 0.47\n",
      "pos already there: 0.47\n",
      "pos already there: 0.47\n",
      "pos already there: 0.47\n",
      "pos already there: 0.48\n",
      "pos already there: 0.48\n",
      "pos already there: 0.48\n",
      "pos already there: 0.48\n",
      "pos already there: 0.48\n",
      "pos already there: 0.49\n",
      "pos already there: 0.49\n",
      "pos already there: 0.49\n",
      "pos already there: 0.49\n",
      "pos already there: 0.49\n",
      "pos already there: 0.5\n",
      "pos already there: 0.5\n",
      "pos already there: 0.5\n",
      "pos already there: 0.5\n",
      "pos already there: 0.5\n",
      "pos already there: 0.51\n",
      "pos already there: 0.51\n",
      "pos already there: 0.51\n",
      "pos already there: 0.51\n",
      "pos already there: 0.51\n",
      "pos already there: 0.51\n",
      "pos already there: 0.51\n",
      "pos already there: 0.51\n",
      "pos already there: 0.51\n",
      "pos already there: 0.52\n",
      "pos already there: 0.52\n",
      "pos already there: 0.52\n",
      "pos already there: 0.52\n",
      "pos already there: 0.52\n",
      "pos already there: 0.52\n",
      "pos already there: 0.52\n",
      "pos already there: 0.52\n",
      "pos already there: 0.52\n",
      "pos already there: 0.52\n",
      "pos already there: 0.52\n",
      "pos already there: 0.52\n",
      "pos already there: 0.52\n",
      "pos already there: 0.52\n",
      "pos already there: 0.52\n",
      "pos already there: 0.52\n",
      "pos already there: 0.52\n",
      "pos already there: 0.84\n",
      "pos already there: 0.84\n",
      "pos already there: 0.84\n",
      "pos already there: 0.83\n",
      "pos already there: 0.83\n",
      "pos already there: 0.83\n",
      "pos already there: 0.83\n",
      "pos already there: 0.83\n",
      "pos already there: 0.83\n",
      "pos already there: 0.83\n",
      "pos already there: 0.83\n",
      "pos already there: 0.83\n",
      "pos already there: 0.83\n",
      "pos already there: 0.83\n",
      "pos already there: 0.83\n",
      "pos already there: 0.83\n",
      "pos already there: 0.83\n",
      "pos already there: 0.83\n",
      "pos already there: 0.83\n",
      "pos already there: 0.83\n",
      "pos already there: 0.82\n",
      "pos already there: 0.82\n",
      "pos already there: 0.82\n",
      "pos already there: 0.82\n",
      "pos already there: 0.82\n",
      "pos already there: 0.82\n",
      "pos already there: 0.82\n",
      "pos already there: 0.82\n",
      "pos already there: 0.82\n",
      "pos already there: 0.82\n",
      "pos already there: 0.82\n",
      "pos already there: 0.82\n",
      "pos already there: 0.82\n",
      "pos already there: 0.81\n",
      "pos already there: 0.81\n",
      "pos already there: 0.81\n",
      "pos already there: 0.81\n",
      "pos already there: 0.81\n",
      "pos already there: 0.81\n",
      "pos already there: 0.81\n",
      "pos already there: 0.81\n",
      "pos already there: 0.81\n",
      "pos already there: 0.81\n",
      "pos already there: 0.81\n",
      "pos already there: 0.81\n",
      "pos already there: 0.81\n",
      "pos already there: 0.8\n",
      "pos already there: 0.8\n",
      "pos already there: 0.8\n",
      "pos already there: 0.8\n",
      "pos already there: 0.8\n",
      "pos already there: 0.8\n",
      "pos already there: 0.8\n",
      "pos already there: 0.8\n",
      "pos already there: 0.8\n",
      "pos already there: 0.8\n",
      "pos already there: 0.8\n",
      "pos already there: 0.8\n",
      "pos already there: 0.8\n",
      "pos already there: 0.8\n",
      "pos already there: 0.8\n",
      "pos already there: 0.79\n",
      "pos already there: 0.79\n",
      "pos already there: 0.79\n",
      "pos already there: 0.79\n",
      "pos already there: 0.79\n",
      "pos already there: 0.79\n",
      "pos already there: 0.79\n",
      "pos already there: 0.79\n",
      "pos already there: 0.79\n",
      "pos already there: 0.79\n",
      "pos already there: 0.79\n",
      "pos already there: 0.79\n",
      "pos already there: 0.79\n",
      "pos already there: 0.78\n",
      "pos already there: 0.78\n",
      "pos already there: 0.78\n",
      "pos already there: 0.78\n",
      "pos already there: 0.78\n",
      "pos already there: 0.78\n",
      "pos already there: 0.78\n",
      "pos already there: 0.78\n",
      "pos already there: 0.78\n",
      "pos already there: 0.15\n",
      "pos already there: 0.15\n",
      "pos already there: 0.15\n",
      "pos already there: 0.15\n",
      "pos already there: 0.15\n",
      "pos already there: 0.15\n",
      "pos already there: 0.15\n",
      "pos already there: 0.15\n",
      "pos already there: 0.15\n",
      "pos already there: 0.15\n",
      "pos already there: 0.15\n",
      "pos already there: 0.15\n",
      "pos already there: 0.15\n",
      "pos already there: 0.15\n",
      "pos already there: 0.16\n",
      "pos already there: 0.16\n",
      "pos already there: 0.16\n",
      "pos already there: 0.16\n",
      "pos already there: 0.16\n",
      "pos already there: 0.16\n",
      "pos already there: 0.16\n",
      "pos already there: 0.16\n",
      "pos already there: 0.16\n",
      "pos already there: 0.16\n",
      "pos already there: 0.16\n",
      "pos already there: 0.16\n",
      "pos already there: 0.16\n",
      "pos already there: 0.16\n",
      "pos already there: 0.16\n",
      "pos already there: 0.16\n",
      "pos already there: 0.16\n",
      "pos already there: 0.17\n",
      "pos already there: 0.17\n",
      "pos already there: 0.17\n",
      "pos already there: 0.17\n",
      "pos already there: 0.17\n",
      "pos already there: 0.17\n",
      "pos already there: 0.17\n",
      "pos already there: 0.17\n",
      "pos already there: 0.17\n",
      "pos already there: 0.18\n",
      "pos already there: 0.18\n",
      "pos already there: 0.18\n",
      "pos already there: 0.18\n",
      "pos already there: 0.18\n",
      "pos already there: 0.18\n",
      "pos already there: 0.18\n",
      "pos already there: 0.18\n",
      "pos already there: 0.18\n",
      "pos already there: 0.18\n",
      "pos already there: 0.18\n",
      "pos already there: 0.18\n",
      "pos already there: 0.18\n",
      "pos already there: 0.19\n",
      "pos already there: 0.19\n",
      "pos already there: 0.19\n",
      "pos already there: 0.19\n",
      "pos already there: 0.19\n",
      "pos already there: 0.19\n",
      "pos already there: 0.19\n",
      "pos already there: 0.19\n",
      "pos already there: 0.19\n",
      "pos already there: 0.19\n",
      "pos already there: 0.19\n",
      "pos already there: 0.19\n",
      "pos already there: 0.19\n",
      "pos already there: 0.19\n",
      "pos already there: 0.19\n",
      "pos already there: 0.19\n",
      "pos already there: 0.19\n",
      "pos already there: 0.04\n",
      "pos already there: 0.04\n",
      "pos already there: 0.04\n",
      "pos already there: 0.04\n",
      "pos already there: 0.04\n",
      "pos already there: 0.04\n",
      "pos already there: 0.04\n",
      "pos already there: 0.04\n",
      "pos already there: 0.05\n",
      "pos already there: 0.05\n",
      "pos already there: 0.05\n",
      "pos already there: 0.05\n",
      "pos already there: 0.05\n",
      "pos already there: 0.05\n",
      "pos already there: 0.05\n",
      "pos already there: 0.05\n",
      "pos already there: 0.05\n",
      "pos already there: 0.05\n",
      "pos already there: 0.05\n",
      "pos already there: 0.05\n",
      "pos already there: 0.05\n",
      "pos already there: 0.06\n",
      "pos already there: 0.06\n",
      "pos already there: 0.06\n",
      "pos already there: 0.06\n",
      "pos already there: 0.06\n",
      "pos already there: 0.06\n",
      "pos already there: 0.06\n",
      "pos already there: 0.06\n",
      "pos already there: 0.06\n",
      "pos already there: 0.06\n",
      "pos already there: 0.06\n",
      "pos already there: 0.06\n",
      "pos already there: 0.06\n",
      "pos already there: 0.07\n",
      "pos already there: 0.07\n",
      "pos already there: 0.07\n",
      "pos already there: 0.07\n",
      "pos already there: 0.07\n",
      "pos already there: 0.07\n",
      "pos already there: 0.07\n",
      "pos already there: 0.07\n",
      "pos already there: 0.07\n",
      "pos already there: 0.07\n",
      "pos already there: 0.07\n",
      "pos already there: 0.07\n",
      "pos already there: 0.07\n",
      "pos already there: 0.07\n",
      "pos already there: 0.07\n",
      "pos already there: 0.07\n",
      "pos already there: 0.07\n",
      "pos already there: 0.07\n",
      "pos already there: 0.07\n",
      "pos already there: 0.08\n",
      "pos already there: 0.08\n",
      "pos already there: 0.08\n",
      "pos already there: 0.08\n",
      "pos already there: 0.08\n",
      "pos already there: 0.08\n",
      "pos already there: 0.08\n",
      "pos already there: 0.08\n",
      "pos already there: 0.08\n",
      "pos already there: 0.08\n",
      "pos already there: 0.08\n",
      "pos already there: 0.08\n",
      "pos already there: 0.08\n",
      "pos already there: 0.09\n",
      "pos already there: 0.09\n",
      "pos already there: 0.09\n",
      "pos already there: 0.09\n",
      "pos already there: 0.09\n",
      "pos already there: 0.09\n",
      "pos already there: 0.09\n",
      "pos already there: 0.09\n",
      "pos already there: 0.09\n",
      "pos already there: 0.09\n",
      "pos already there: 0.09\n",
      "pos already there: 0.09\n",
      "pos already there: 0.09\n",
      "pos already there: 0.09\n",
      "pos already there: 0.09\n",
      "pos already there: 0.09\n",
      "pos already there: 0.09\n",
      "pos already there: 0.09\n",
      "pos already there: 0.09\n",
      "pos already there: 0.09\n",
      "pos already there: 0.09\n",
      "pos already there: 0.09\n",
      "pos already there: 0.09\n",
      "pos already there: 0.09\n",
      "pos already there: 0.09\n",
      "pos already there: 0.1\n",
      "pos already there: 0.1\n",
      "pos already there: 0.1\n",
      "pos already there: 0.1\n",
      "pos already there: 0.1\n",
      "pos already there: 0.1\n",
      "pos already there: 0.1\n",
      "pos already there: 0.1\n",
      "pos already there: 0.1\n",
      "pos already there: 0.1\n",
      "pos already there: 0.1\n",
      "pos already there: 0.1\n",
      "pos already there: 0.1\n",
      "pos already there: 0.1\n",
      "pos already there: 0.1\n",
      "pos already there: 0.1\n",
      "pos already there: 0.1\n",
      "pos already there: 0.1\n",
      "pos already there: 0.1\n",
      "pos already there: 0.1\n",
      "pos already there: 0.1\n",
      "pos already there: 0.11\n",
      "pos already there: 0.11\n",
      "pos already there: 0.11\n",
      "pos already there: 0.11\n",
      "pos already there: 0.11\n",
      "pos already there: 0.11\n",
      "pos already there: 0.11\n",
      "pos already there: 0.11\n",
      "pos already there: 0.11\n",
      "pos already there: 0.11\n",
      "pos already there: 0.11\n",
      "pos already there: 0.11\n",
      "pos already there: 0.11\n",
      "pos already there: 0.11\n",
      "pos already there: 0.11\n",
      "pos already there: 0.11\n",
      "pos already there: 0.11\n",
      "pos already there: 0.11\n",
      "pos already there: 0.11\n",
      "pos already there: 0.11\n",
      "pos already there: 0.11\n",
      "pos already there: 0.12\n",
      "pos already there: 0.12\n",
      "pos already there: 0.12\n",
      "pos already there: 0.12\n",
      "pos already there: 0.12\n",
      "pos already there: 0.12\n",
      "pos already there: 0.12\n",
      "pos already there: 0.12\n",
      "pos already there: 0.12\n",
      "pos already there: 0.12\n",
      "pos already there: 0.12\n",
      "pos already there: 0.12\n",
      "pos already there: 0.12\n",
      "pos already there: 0.12\n",
      "pos already there: 0.12\n",
      "pos already there: 0.12\n",
      "pos already there: 0.12\n",
      "pos already there: 0.12\n",
      "pos already there: 0.12\n",
      "pos already there: 0.12\n",
      "pos already there: 0.12\n",
      "pos already there: 0.13\n",
      "pos already there: 0.28\n",
      "pos already there: 0.28\n",
      "pos already there: 0.28\n",
      "pos already there: 0.28\n",
      "pos already there: 0.29\n",
      "pos already there: 0.29\n",
      "pos already there: 0.29\n",
      "pos already there: 0.29\n",
      "pos already there: 0.29\n",
      "pos already there: 0.29\n",
      "pos already there: 0.29\n",
      "pos already there: 0.29\n",
      "pos already there: 0.29\n",
      "pos already there: 0.3\n",
      "pos already there: 0.3\n",
      "pos already there: 0.3\n",
      "pos already there: 0.3\n",
      "pos already there: 0.3\n",
      "pos already there: 0.3\n",
      "pos already there: 0.3\n",
      "pos already there: 0.3\n",
      "pos already there: 0.3\n",
      "pos already there: 0.3\n",
      "pos already there: 0.3\n",
      "pos already there: 0.31\n",
      "pos already there: 0.31\n",
      "pos already there: 0.31\n",
      "pos already there: 0.31\n",
      "pos already there: 0.31\n",
      "pos already there: 0.31\n",
      "pos already there: 0.31\n",
      "pos already there: 0.32\n",
      "pos already there: 0.32\n",
      "pos already there: 0.32\n",
      "pos already there: 0.33\n",
      "pos already there: 0.33\n",
      "pos already there: 0.33\n",
      "pos already there: 0.33\n",
      "pos already there: 0.33\n",
      "pos already there: 0.33\n",
      "pos already there: 0.33\n",
      "pos already there: 0.34\n",
      "pos already there: 0.34\n",
      "pos already there: 0.34\n",
      "pos already there: 0.34\n",
      "pos already there: 0.34\n",
      "pos already there: 0.34\n",
      "pos already there: 0.34\n",
      "pos already there: 0.19\n",
      "pos already there: 0.19\n",
      "pos already there: 0.19\n",
      "pos already there: 0.19\n",
      "pos already there: 0.19\n",
      "pos already there: 0.19\n",
      "pos already there: 0.19\n",
      "pos already there: 0.19\n",
      "pos already there: 0.19\n",
      "pos already there: 0.19\n",
      "pos already there: 0.19\n",
      "pos already there: 0.19\n",
      "pos already there: 0.2\n",
      "pos already there: 0.2\n",
      "pos already there: 0.2\n",
      "pos already there: 0.2\n",
      "pos already there: 0.2\n",
      "pos already there: 0.2\n",
      "pos already there: 0.2\n",
      "pos already there: 0.2\n",
      "pos already there: 0.2\n",
      "pos already there: 0.2\n",
      "pos already there: 0.2\n",
      "pos already there: 0.2\n",
      "pos already there: 0.2\n",
      "pos already there: 0.21\n",
      "pos already there: 0.21\n",
      "pos already there: 0.21\n",
      "pos already there: 0.21\n",
      "pos already there: 0.21\n",
      "pos already there: 0.22\n",
      "pos already there: 0.22\n",
      "pos already there: 0.22\n",
      "pos already there: 0.22\n",
      "pos already there: 0.22\n",
      "pos already there: 0.22\n",
      "pos already there: 0.22\n",
      "pos already there: 0.22\n",
      "pos already there: 0.22\n",
      "pos already there: 0.08\n",
      "pos already there: 0.08\n",
      "pos already there: 0.08\n",
      "pos already there: 0.08\n",
      "pos already there: 0.08\n",
      "pos already there: 0.08\n",
      "pos already there: 0.08\n",
      "pos already there: 0.09\n",
      "pos already there: 0.09\n",
      "pos already there: 0.09\n",
      "pos already there: 0.09\n",
      "pos already there: 0.09\n",
      "pos already there: 0.09\n",
      "pos already there: 0.09\n",
      "pos already there: 0.1\n",
      "pos already there: 0.1\n",
      "pos already there: 0.1\n",
      "pos already there: 0.1\n",
      "pos already there: 0.1\n",
      "pos already there: 0.1\n",
      "pos already there: 0.1\n",
      "pos already there: 0.11\n",
      "pos already there: 0.11\n",
      "pos already there: 0.11\n",
      "pos already there: 0.12\n",
      "pos already there: 0.12\n",
      "pos already there: 0.12\n",
      "pos already there: 0.12\n",
      "pos already there: 0.12\n",
      "pos already there: 0.12\n",
      "pos already there: 0.12\n",
      "pos already there: 0.12\n",
      "pos already there: 0.12\n",
      "pos already there: 0.12\n",
      "pos already there: 0.12\n",
      "pos already there: 0.12\n",
      "pos already there: 0.12\n",
      "pos already there: 0.12\n",
      "pos already there: 0.12\n",
      "pos already there: 0.13\n",
      "pos already there: 0.13\n",
      "pos already there: 0.13\n",
      "pos already there: 0.13\n",
      "pos already there: 0.13\n",
      "pos already there: 0.13\n",
      "pos already there: 0.13\n",
      "pos already there: 0.13\n",
      "pos already there: 0.13\n",
      "pos already there: 0.13\n",
      "pos already there: 0.13\n",
      "pos already there: 0.13\n",
      "pos already there: 0.12\n",
      "pos already there: 0.12\n",
      "pos already there: 0.12\n",
      "pos already there: 0.12\n",
      "pos already there: 0.12\n",
      "pos already there: 0.12\n",
      "pos already there: 0.12\n",
      "pos already there: 0.12\n",
      "pos already there: 0.12\n",
      "pos already there: 0.12\n",
      "pos already there: 0.12\n",
      "pos already there: 0.12\n",
      "pos already there: 0.12\n",
      "pos already there: 0.12\n",
      "pos already there: 0.12\n",
      "pos already there: 0.12\n",
      "pos already there: 0.11\n",
      "pos already there: 0.11\n",
      "pos already there: 0.11\n",
      "pos already there: 0.11\n",
      "pos already there: 0.11\n",
      "pos already there: 0.11\n",
      "pos already there: 0.11\n",
      "pos already there: 0.11\n",
      "pos already there: 0.11\n",
      "pos already there: 0.11\n",
      "pos already there: 0.11\n",
      "pos already there: 0.12\n",
      "pos already there: 0.12\n",
      "pos already there: 0.12\n",
      "pos already there: 0.12\n",
      "pos already there: 0.12\n",
      "pos already there: 0.12\n",
      "pos already there: 0.12\n",
      "pos already there: 0.12\n",
      "pos already there: 0.12\n",
      "pos already there: 0.12\n",
      "pos already there: 0.12\n",
      "pos already there: 0.12\n",
      "pos already there: 0.12\n",
      "pos already there: 0.12\n",
      "pos already there: 0.12\n",
      "pos already there: 0.12\n",
      "pos already there: 0.12\n",
      "pos already there: 0.13\n",
      "pos already there: 0.13\n",
      "pos already there: 0.12\n",
      "pos already there: 0.12\n",
      "pos already there: 0.12\n",
      "pos already there: 0.12\n",
      "pos already there: 0.12\n",
      "pos already there: 0.12\n",
      "pos already there: 0.12\n",
      "pos already there: 0.12\n",
      "pos already there: 0.12\n",
      "pos already there: 0.12\n",
      "pos already there: 0.13\n",
      "pos already there: 0.13\n",
      "pos already there: 0.13\n",
      "pos already there: 0.13\n",
      "pos already there: 0.13\n",
      "pos already there: 0.13\n",
      "pos already there: 0.13\n",
      "pos already there: 0.13\n",
      "pos already there: 0.14\n",
      "pos already there: 0.14\n",
      "pos already there: 0.14\n",
      "pos already there: 0.14\n",
      "pos already there: 0.14\n",
      "pos already there: 0.14\n",
      "pos already there: 0.14\n",
      "pos already there: 0.14\n",
      "pos already there: 0.14\n",
      "pos already there: 0.14\n",
      "pos already there: 0.14\n",
      "pos already there: 0.14\n",
      "pos already there: 0.14\n",
      "pos already there: 0.15\n",
      "pos already there: 0.15\n",
      "pos already there: 0.15\n",
      "pos already there: 0.15\n",
      "pos already there: 0.15\n",
      "pos already there: 0.15\n",
      "pos already there: 0.15\n",
      "pos already there: 0.16\n",
      "pos already there: 0.16\n",
      "pos already there: 0.16\n",
      "pos already there: 0.16\n",
      "pos already there: 0.16\n",
      "pos already there: 0.16\n",
      "pos already there: 0.16\n",
      "pos already there: 0.16\n",
      "pos already there: 0.16\n",
      "pos already there: 0.16\n",
      "pos already there: 0.16\n",
      "pos already there: 0.16\n",
      "pos already there: 0.16\n",
      "pos already there: 0.17\n",
      "pos already there: 0.17\n",
      "pos already there: 0.17\n",
      "pos already there: 0.17\n",
      "pos already there: 0.17\n",
      "pos already there: 0.17\n",
      "pos already there: 0.17\n",
      "pos already there: 0.17\n",
      "pos already there: 0.17\n",
      "pos already there: 0.17\n",
      "pos already there: 0.17\n",
      "pos already there: 0.17\n",
      "pos already there: 0.17\n",
      "pos already there: 0.17\n",
      "pos already there: 0.17\n",
      "pos already there: 0.17\n",
      "pos already there: 0.17\n",
      "pos already there: 0.18\n",
      "pos already there: 0.18\n",
      "pos already there: 0.18\n",
      "pos already there: 0.18\n",
      "pos already there: 0.18\n",
      "pos already there: 0.18\n",
      "pos already there: 0.18\n"
     ]
    },
    {
     "name": "stderr",
     "output_type": "stream",
     "text": [
      "INFO:spimagine.gui.glwidget | saving frame as /media/ivar/SSD700GB/rendering/output_002.png\n"
     ]
    },
    {
     "name": "stdout",
     "output_type": "stream",
     "text": [
      "record pos 1\n",
      "record pos 2\n"
     ]
    },
    {
     "name": "stderr",
     "output_type": "stream",
     "text": [
      "INFO:spimagine.gui.glwidget | saving frame as /media/ivar/SSD700GB/rendering/output_003.png\n"
     ]
    },
    {
     "name": "stdout",
     "output_type": "stream",
     "text": [
      "record pos 3\n"
     ]
    },
    {
     "name": "stderr",
     "output_type": "stream",
     "text": [
      "INFO:spimagine.gui.glwidget | saving frame as /media/ivar/SSD700GB/rendering/output_004.png\n"
     ]
    },
    {
     "name": "stdout",
     "output_type": "stream",
     "text": [
      "record pos 4\n"
     ]
    },
    {
     "name": "stderr",
     "output_type": "stream",
     "text": [
      "INFO:spimagine.gui.glwidget | saving frame as /media/ivar/SSD700GB/rendering/output_005.png\n"
     ]
    },
    {
     "name": "stdout",
     "output_type": "stream",
     "text": [
      "record pos 5\n"
     ]
    },
    {
     "name": "stderr",
     "output_type": "stream",
     "text": [
      "INFO:spimagine.gui.glwidget | saving frame as /media/ivar/SSD700GB/rendering/output_006.png\n"
     ]
    },
    {
     "name": "stdout",
     "output_type": "stream",
     "text": [
      "record pos 6\n"
     ]
    },
    {
     "name": "stderr",
     "output_type": "stream",
     "text": [
      "INFO:spimagine.gui.glwidget | saving frame as /media/ivar/SSD700GB/rendering/output_007.png\n"
     ]
    },
    {
     "name": "stdout",
     "output_type": "stream",
     "text": [
      "record pos 7\n"
     ]
    },
    {
     "name": "stderr",
     "output_type": "stream",
     "text": [
      "INFO:spimagine.gui.glwidget | saving frame as /media/ivar/SSD700GB/rendering/output_008.png\n"
     ]
    },
    {
     "name": "stdout",
     "output_type": "stream",
     "text": [
      "record pos 8\n"
     ]
    },
    {
     "name": "stderr",
     "output_type": "stream",
     "text": [
      "INFO:spimagine.gui.glwidget | saving frame as /media/ivar/SSD700GB/rendering/output_009.png\n"
     ]
    },
    {
     "name": "stdout",
     "output_type": "stream",
     "text": [
      "record pos 9\n"
     ]
    },
    {
     "name": "stderr",
     "output_type": "stream",
     "text": [
      "INFO:spimagine.gui.glwidget | saving frame as /media/ivar/SSD700GB/rendering/output_010.png\n"
     ]
    },
    {
     "name": "stdout",
     "output_type": "stream",
     "text": [
      "record pos 10\n"
     ]
    },
    {
     "name": "stderr",
     "output_type": "stream",
     "text": [
      "INFO:spimagine.gui.glwidget | saving frame as /media/ivar/SSD700GB/rendering/output_011.png\n"
     ]
    },
    {
     "name": "stdout",
     "output_type": "stream",
     "text": [
      "record pos 11\n"
     ]
    },
    {
     "name": "stderr",
     "output_type": "stream",
     "text": [
      "INFO:spimagine.gui.glwidget | saving frame as /media/ivar/SSD700GB/rendering/output_012.png\n"
     ]
    },
    {
     "name": "stdout",
     "output_type": "stream",
     "text": [
      "record pos 12\n"
     ]
    },
    {
     "name": "stderr",
     "output_type": "stream",
     "text": [
      "INFO:spimagine.gui.glwidget | saving frame as /media/ivar/SSD700GB/rendering/output_013.png\n"
     ]
    },
    {
     "name": "stdout",
     "output_type": "stream",
     "text": [
      "record pos 13\n"
     ]
    },
    {
     "name": "stderr",
     "output_type": "stream",
     "text": [
      "INFO:spimagine.gui.glwidget | saving frame as /media/ivar/SSD700GB/rendering/output_014.png\n"
     ]
    },
    {
     "name": "stdout",
     "output_type": "stream",
     "text": [
      "record pos 14\n"
     ]
    },
    {
     "name": "stderr",
     "output_type": "stream",
     "text": [
      "INFO:spimagine.gui.glwidget | saving frame as /media/ivar/SSD700GB/rendering/output_015.png\n"
     ]
    },
    {
     "name": "stdout",
     "output_type": "stream",
     "text": [
      "record pos 15\n"
     ]
    },
    {
     "name": "stderr",
     "output_type": "stream",
     "text": [
      "INFO:spimagine.gui.glwidget | saving frame as /media/ivar/SSD700GB/rendering/output_016.png\n"
     ]
    },
    {
     "name": "stdout",
     "output_type": "stream",
     "text": [
      "record pos 16\n"
     ]
    },
    {
     "name": "stderr",
     "output_type": "stream",
     "text": [
      "INFO:spimagine.gui.glwidget | saving frame as /media/ivar/SSD700GB/rendering/output_017.png\n"
     ]
    },
    {
     "name": "stdout",
     "output_type": "stream",
     "text": [
      "record pos 17\n"
     ]
    },
    {
     "name": "stderr",
     "output_type": "stream",
     "text": [
      "INFO:spimagine.gui.glwidget | saving frame as /media/ivar/SSD700GB/rendering/output_018.png\n"
     ]
    },
    {
     "name": "stdout",
     "output_type": "stream",
     "text": [
      "record pos 18\n"
     ]
    },
    {
     "name": "stderr",
     "output_type": "stream",
     "text": [
      "INFO:spimagine.gui.glwidget | saving frame as /media/ivar/SSD700GB/rendering/output_019.png\n"
     ]
    },
    {
     "name": "stdout",
     "output_type": "stream",
     "text": [
      "record pos 19\n"
     ]
    },
    {
     "name": "stderr",
     "output_type": "stream",
     "text": [
      "INFO:spimagine.gui.glwidget | saving frame as /media/ivar/SSD700GB/rendering/output_020.png\n"
     ]
    },
    {
     "name": "stdout",
     "output_type": "stream",
     "text": [
      "record pos 20\n"
     ]
    },
    {
     "name": "stderr",
     "output_type": "stream",
     "text": [
      "INFO:spimagine.gui.glwidget | saving frame as /media/ivar/SSD700GB/rendering/output_021.png\n"
     ]
    },
    {
     "name": "stdout",
     "output_type": "stream",
     "text": [
      "record pos 21\n"
     ]
    },
    {
     "name": "stderr",
     "output_type": "stream",
     "text": [
      "INFO:spimagine.gui.glwidget | saving frame as /media/ivar/SSD700GB/rendering/output_022.png\n"
     ]
    },
    {
     "name": "stdout",
     "output_type": "stream",
     "text": [
      "record pos 22\n"
     ]
    },
    {
     "name": "stderr",
     "output_type": "stream",
     "text": [
      "INFO:spimagine.gui.glwidget | saving frame as /media/ivar/SSD700GB/rendering/output_023.png\n"
     ]
    },
    {
     "name": "stdout",
     "output_type": "stream",
     "text": [
      "record pos 23\n"
     ]
    },
    {
     "name": "stderr",
     "output_type": "stream",
     "text": [
      "INFO:spimagine.gui.glwidget | saving frame as /media/ivar/SSD700GB/rendering/output_024.png\n"
     ]
    },
    {
     "name": "stdout",
     "output_type": "stream",
     "text": [
      "record pos 24\n"
     ]
    },
    {
     "name": "stderr",
     "output_type": "stream",
     "text": [
      "INFO:spimagine.gui.glwidget | saving frame as /media/ivar/SSD700GB/rendering/output_025.png\n"
     ]
    },
    {
     "name": "stdout",
     "output_type": "stream",
     "text": [
      "record pos 25\n"
     ]
    },
    {
     "name": "stderr",
     "output_type": "stream",
     "text": [
      "INFO:spimagine.gui.glwidget | saving frame as /media/ivar/SSD700GB/rendering/output_026.png\n"
     ]
    },
    {
     "name": "stdout",
     "output_type": "stream",
     "text": [
      "record pos 26\n"
     ]
    },
    {
     "name": "stderr",
     "output_type": "stream",
     "text": [
      "INFO:spimagine.gui.glwidget | saving frame as /media/ivar/SSD700GB/rendering/output_027.png\n"
     ]
    },
    {
     "name": "stdout",
     "output_type": "stream",
     "text": [
      "record pos 27\n"
     ]
    },
    {
     "name": "stderr",
     "output_type": "stream",
     "text": [
      "INFO:spimagine.gui.glwidget | saving frame as /media/ivar/SSD700GB/rendering/output_028.png\n"
     ]
    },
    {
     "name": "stdout",
     "output_type": "stream",
     "text": [
      "record pos 28\n"
     ]
    },
    {
     "name": "stderr",
     "output_type": "stream",
     "text": [
      "INFO:spimagine.gui.glwidget | saving frame as /media/ivar/SSD700GB/rendering/output_029.png\n"
     ]
    },
    {
     "name": "stdout",
     "output_type": "stream",
     "text": [
      "record pos 29\n"
     ]
    },
    {
     "name": "stderr",
     "output_type": "stream",
     "text": [
      "INFO:spimagine.gui.glwidget | saving frame as /media/ivar/SSD700GB/rendering/output_030.png\n"
     ]
    },
    {
     "name": "stdout",
     "output_type": "stream",
     "text": [
      "record pos 30\n"
     ]
    },
    {
     "name": "stderr",
     "output_type": "stream",
     "text": [
      "INFO:spimagine.gui.glwidget | saving frame as /media/ivar/SSD700GB/rendering/output_031.png\n"
     ]
    },
    {
     "name": "stdout",
     "output_type": "stream",
     "text": [
      "record pos 31\n"
     ]
    },
    {
     "name": "stderr",
     "output_type": "stream",
     "text": [
      "INFO:spimagine.gui.glwidget | saving frame as /media/ivar/SSD700GB/rendering/output_032.png\n"
     ]
    },
    {
     "name": "stdout",
     "output_type": "stream",
     "text": [
      "record pos 32\n"
     ]
    },
    {
     "name": "stderr",
     "output_type": "stream",
     "text": [
      "INFO:spimagine.gui.glwidget | saving frame as /media/ivar/SSD700GB/rendering/output_033.png\n"
     ]
    },
    {
     "name": "stdout",
     "output_type": "stream",
     "text": [
      "record pos 33\n"
     ]
    },
    {
     "name": "stderr",
     "output_type": "stream",
     "text": [
      "INFO:spimagine.gui.glwidget | saving frame as /media/ivar/SSD700GB/rendering/output_034.png\n"
     ]
    },
    {
     "name": "stdout",
     "output_type": "stream",
     "text": [
      "record pos 34\n"
     ]
    },
    {
     "name": "stderr",
     "output_type": "stream",
     "text": [
      "INFO:spimagine.gui.glwidget | saving frame as /media/ivar/SSD700GB/rendering/output_035.png\n"
     ]
    },
    {
     "name": "stdout",
     "output_type": "stream",
     "text": [
      "record pos 35\n"
     ]
    },
    {
     "name": "stderr",
     "output_type": "stream",
     "text": [
      "INFO:spimagine.gui.glwidget | saving frame as /media/ivar/SSD700GB/rendering/output_036.png\n"
     ]
    },
    {
     "name": "stdout",
     "output_type": "stream",
     "text": [
      "record pos 36\n"
     ]
    },
    {
     "name": "stderr",
     "output_type": "stream",
     "text": [
      "INFO:spimagine.gui.glwidget | saving frame as /media/ivar/SSD700GB/rendering/output_037.png\n"
     ]
    },
    {
     "name": "stdout",
     "output_type": "stream",
     "text": [
      "record pos 37\n"
     ]
    },
    {
     "name": "stderr",
     "output_type": "stream",
     "text": [
      "INFO:spimagine.gui.glwidget | saving frame as /media/ivar/SSD700GB/rendering/output_038.png\n"
     ]
    },
    {
     "name": "stdout",
     "output_type": "stream",
     "text": [
      "record pos 38\n"
     ]
    },
    {
     "name": "stderr",
     "output_type": "stream",
     "text": [
      "INFO:spimagine.gui.glwidget | saving frame as /media/ivar/SSD700GB/rendering/output_039.png\n"
     ]
    },
    {
     "name": "stdout",
     "output_type": "stream",
     "text": [
      "record pos 39\n"
     ]
    },
    {
     "name": "stderr",
     "output_type": "stream",
     "text": [
      "INFO:spimagine.gui.glwidget | saving frame as /media/ivar/SSD700GB/rendering/output_040.png\n"
     ]
    },
    {
     "name": "stdout",
     "output_type": "stream",
     "text": [
      "record pos 40\n"
     ]
    },
    {
     "name": "stderr",
     "output_type": "stream",
     "text": [
      "INFO:spimagine.gui.glwidget | saving frame as /media/ivar/SSD700GB/rendering/output_041.png\n"
     ]
    },
    {
     "name": "stdout",
     "output_type": "stream",
     "text": [
      "record pos 41\n"
     ]
    },
    {
     "name": "stderr",
     "output_type": "stream",
     "text": [
      "INFO:spimagine.gui.glwidget | saving frame as /media/ivar/SSD700GB/rendering/output_042.png\n"
     ]
    },
    {
     "name": "stdout",
     "output_type": "stream",
     "text": [
      "record pos 42\n"
     ]
    },
    {
     "name": "stderr",
     "output_type": "stream",
     "text": [
      "INFO:spimagine.gui.glwidget | saving frame as /media/ivar/SSD700GB/rendering/output_043.png\n"
     ]
    },
    {
     "name": "stdout",
     "output_type": "stream",
     "text": [
      "record pos 43\n"
     ]
    },
    {
     "name": "stderr",
     "output_type": "stream",
     "text": [
      "INFO:spimagine.gui.glwidget | saving frame as /media/ivar/SSD700GB/rendering/output_044.png\n"
     ]
    },
    {
     "name": "stdout",
     "output_type": "stream",
     "text": [
      "record pos 44\n"
     ]
    },
    {
     "name": "stderr",
     "output_type": "stream",
     "text": [
      "INFO:spimagine.gui.glwidget | saving frame as /media/ivar/SSD700GB/rendering/output_045.png\n"
     ]
    },
    {
     "name": "stdout",
     "output_type": "stream",
     "text": [
      "record pos 45\n"
     ]
    },
    {
     "name": "stderr",
     "output_type": "stream",
     "text": [
      "INFO:spimagine.gui.glwidget | saving frame as /media/ivar/SSD700GB/rendering/output_046.png\n"
     ]
    },
    {
     "name": "stdout",
     "output_type": "stream",
     "text": [
      "record pos 46\n"
     ]
    },
    {
     "name": "stderr",
     "output_type": "stream",
     "text": [
      "INFO:spimagine.gui.glwidget | saving frame as /media/ivar/SSD700GB/rendering/output_047.png\n"
     ]
    },
    {
     "name": "stdout",
     "output_type": "stream",
     "text": [
      "record pos 47\n"
     ]
    },
    {
     "name": "stderr",
     "output_type": "stream",
     "text": [
      "INFO:spimagine.gui.glwidget | saving frame as /media/ivar/SSD700GB/rendering/output_048.png\n"
     ]
    },
    {
     "name": "stdout",
     "output_type": "stream",
     "text": [
      "record pos 48\n"
     ]
    },
    {
     "name": "stderr",
     "output_type": "stream",
     "text": [
      "INFO:spimagine.gui.glwidget | saving frame as /media/ivar/SSD700GB/rendering/output_049.png\n"
     ]
    },
    {
     "name": "stdout",
     "output_type": "stream",
     "text": [
      "record pos 49\n"
     ]
    },
    {
     "name": "stderr",
     "output_type": "stream",
     "text": [
      "INFO:spimagine.gui.glwidget | saving frame as /media/ivar/SSD700GB/rendering/output_050.png\n"
     ]
    },
    {
     "name": "stdout",
     "output_type": "stream",
     "text": [
      "record pos 50\n"
     ]
    },
    {
     "name": "stderr",
     "output_type": "stream",
     "text": [
      "INFO:spimagine.gui.glwidget | saving frame as /media/ivar/SSD700GB/rendering/output_051.png\n"
     ]
    },
    {
     "name": "stdout",
     "output_type": "stream",
     "text": [
      "record pos 51\n"
     ]
    },
    {
     "name": "stderr",
     "output_type": "stream",
     "text": [
      "INFO:spimagine.gui.glwidget | saving frame as /media/ivar/SSD700GB/rendering/output_052.png\n"
     ]
    },
    {
     "name": "stdout",
     "output_type": "stream",
     "text": [
      "record pos 52\n"
     ]
    },
    {
     "name": "stderr",
     "output_type": "stream",
     "text": [
      "INFO:spimagine.gui.glwidget | saving frame as /media/ivar/SSD700GB/rendering/output_053.png\n"
     ]
    },
    {
     "name": "stdout",
     "output_type": "stream",
     "text": [
      "record pos 53\n"
     ]
    },
    {
     "name": "stderr",
     "output_type": "stream",
     "text": [
      "INFO:spimagine.gui.glwidget | saving frame as /media/ivar/SSD700GB/rendering/output_054.png\n"
     ]
    },
    {
     "name": "stdout",
     "output_type": "stream",
     "text": [
      "record pos 54\n"
     ]
    },
    {
     "name": "stderr",
     "output_type": "stream",
     "text": [
      "INFO:spimagine.gui.glwidget | saving frame as /media/ivar/SSD700GB/rendering/output_055.png\n"
     ]
    },
    {
     "name": "stdout",
     "output_type": "stream",
     "text": [
      "record pos 55\n"
     ]
    },
    {
     "name": "stderr",
     "output_type": "stream",
     "text": [
      "INFO:spimagine.gui.glwidget | saving frame as /media/ivar/SSD700GB/rendering/output_056.png\n"
     ]
    },
    {
     "name": "stdout",
     "output_type": "stream",
     "text": [
      "record pos 56\n"
     ]
    },
    {
     "name": "stderr",
     "output_type": "stream",
     "text": [
      "INFO:spimagine.gui.glwidget | saving frame as /media/ivar/SSD700GB/rendering/output_057.png\n"
     ]
    },
    {
     "name": "stdout",
     "output_type": "stream",
     "text": [
      "record pos 57\n"
     ]
    },
    {
     "name": "stderr",
     "output_type": "stream",
     "text": [
      "INFO:spimagine.gui.glwidget | saving frame as /media/ivar/SSD700GB/rendering/output_058.png\n"
     ]
    },
    {
     "name": "stdout",
     "output_type": "stream",
     "text": [
      "record pos 58\n"
     ]
    },
    {
     "name": "stderr",
     "output_type": "stream",
     "text": [
      "INFO:spimagine.gui.glwidget | saving frame as /media/ivar/SSD700GB/rendering/output_059.png\n"
     ]
    },
    {
     "name": "stdout",
     "output_type": "stream",
     "text": [
      "record pos 59\n"
     ]
    },
    {
     "name": "stderr",
     "output_type": "stream",
     "text": [
      "INFO:spimagine.gui.glwidget | saving frame as /media/ivar/SSD700GB/rendering/output_060.png\n"
     ]
    },
    {
     "name": "stdout",
     "output_type": "stream",
     "text": [
      "record pos 60\n"
     ]
    },
    {
     "name": "stderr",
     "output_type": "stream",
     "text": [
      "INFO:spimagine.gui.glwidget | saving frame as /media/ivar/SSD700GB/rendering/output_061.png\n"
     ]
    },
    {
     "name": "stdout",
     "output_type": "stream",
     "text": [
      "record pos 61\n"
     ]
    },
    {
     "name": "stderr",
     "output_type": "stream",
     "text": [
      "INFO:spimagine.gui.glwidget | saving frame as /media/ivar/SSD700GB/rendering/output_062.png\n"
     ]
    },
    {
     "name": "stdout",
     "output_type": "stream",
     "text": [
      "record pos 62\n"
     ]
    },
    {
     "name": "stderr",
     "output_type": "stream",
     "text": [
      "INFO:spimagine.gui.glwidget | saving frame as /media/ivar/SSD700GB/rendering/output_063.png\n"
     ]
    },
    {
     "name": "stdout",
     "output_type": "stream",
     "text": [
      "record pos 63\n"
     ]
    },
    {
     "name": "stderr",
     "output_type": "stream",
     "text": [
      "INFO:spimagine.gui.glwidget | saving frame as /media/ivar/SSD700GB/rendering/output_064.png\n"
     ]
    },
    {
     "name": "stdout",
     "output_type": "stream",
     "text": [
      "record pos 64\n"
     ]
    },
    {
     "name": "stderr",
     "output_type": "stream",
     "text": [
      "INFO:spimagine.gui.glwidget | saving frame as /media/ivar/SSD700GB/rendering/output_065.png\n"
     ]
    },
    {
     "name": "stdout",
     "output_type": "stream",
     "text": [
      "record pos 65\n"
     ]
    },
    {
     "name": "stderr",
     "output_type": "stream",
     "text": [
      "INFO:spimagine.gui.glwidget | saving frame as /media/ivar/SSD700GB/rendering/output_066.png\n"
     ]
    },
    {
     "name": "stdout",
     "output_type": "stream",
     "text": [
      "record pos 66\n"
     ]
    },
    {
     "name": "stderr",
     "output_type": "stream",
     "text": [
      "INFO:spimagine.gui.glwidget | saving frame as /media/ivar/SSD700GB/rendering/output_067.png\n"
     ]
    },
    {
     "name": "stdout",
     "output_type": "stream",
     "text": [
      "record pos 67\n"
     ]
    },
    {
     "name": "stderr",
     "output_type": "stream",
     "text": [
      "INFO:spimagine.gui.glwidget | saving frame as /media/ivar/SSD700GB/rendering/output_068.png\n"
     ]
    },
    {
     "name": "stdout",
     "output_type": "stream",
     "text": [
      "record pos 68\n"
     ]
    },
    {
     "name": "stderr",
     "output_type": "stream",
     "text": [
      "INFO:spimagine.gui.glwidget | saving frame as /media/ivar/SSD700GB/rendering/output_069.png\n"
     ]
    },
    {
     "name": "stdout",
     "output_type": "stream",
     "text": [
      "record pos 69\n"
     ]
    },
    {
     "name": "stderr",
     "output_type": "stream",
     "text": [
      "INFO:spimagine.gui.glwidget | saving frame as /media/ivar/SSD700GB/rendering/output_070.png\n"
     ]
    },
    {
     "name": "stdout",
     "output_type": "stream",
     "text": [
      "record pos 70\n"
     ]
    },
    {
     "name": "stderr",
     "output_type": "stream",
     "text": [
      "INFO:spimagine.gui.glwidget | saving frame as /media/ivar/SSD700GB/rendering/output_071.png\n"
     ]
    },
    {
     "name": "stdout",
     "output_type": "stream",
     "text": [
      "record pos 71\n"
     ]
    },
    {
     "name": "stderr",
     "output_type": "stream",
     "text": [
      "INFO:spimagine.gui.glwidget | saving frame as /media/ivar/SSD700GB/rendering/output_072.png\n"
     ]
    },
    {
     "name": "stdout",
     "output_type": "stream",
     "text": [
      "record pos 72\n"
     ]
    },
    {
     "name": "stderr",
     "output_type": "stream",
     "text": [
      "INFO:spimagine.gui.glwidget | saving frame as /media/ivar/SSD700GB/rendering/output_073.png\n"
     ]
    },
    {
     "name": "stdout",
     "output_type": "stream",
     "text": [
      "record pos 73\n"
     ]
    },
    {
     "name": "stderr",
     "output_type": "stream",
     "text": [
      "INFO:spimagine.gui.glwidget | saving frame as /media/ivar/SSD700GB/rendering/output_074.png\n"
     ]
    },
    {
     "name": "stdout",
     "output_type": "stream",
     "text": [
      "record pos 74\n"
     ]
    },
    {
     "name": "stderr",
     "output_type": "stream",
     "text": [
      "INFO:spimagine.gui.glwidget | saving frame as /media/ivar/SSD700GB/rendering/output_075.png\n"
     ]
    },
    {
     "name": "stdout",
     "output_type": "stream",
     "text": [
      "record pos 75\n",
      "record pos 76\n"
     ]
    },
    {
     "name": "stderr",
     "output_type": "stream",
     "text": [
      "INFO:spimagine.gui.glwidget | saving frame as /media/ivar/SSD700GB/rendering/output_076.png\n",
      "INFO:spimagine.gui.glwidget | saving frame as /media/ivar/SSD700GB/rendering/output_077.png\n"
     ]
    },
    {
     "name": "stdout",
     "output_type": "stream",
     "text": [
      "record pos 77\n"
     ]
    },
    {
     "name": "stderr",
     "output_type": "stream",
     "text": [
      "INFO:spimagine.gui.glwidget | saving frame as /media/ivar/SSD700GB/rendering/output_078.png\n"
     ]
    },
    {
     "name": "stdout",
     "output_type": "stream",
     "text": [
      "record pos 78\n"
     ]
    },
    {
     "name": "stderr",
     "output_type": "stream",
     "text": [
      "INFO:spimagine.gui.glwidget | saving frame as /media/ivar/SSD700GB/rendering/output_079.png\n"
     ]
    },
    {
     "name": "stdout",
     "output_type": "stream",
     "text": [
      "record pos 79\n"
     ]
    },
    {
     "name": "stderr",
     "output_type": "stream",
     "text": [
      "INFO:spimagine.gui.glwidget | saving frame as /media/ivar/SSD700GB/rendering/output_080.png\n"
     ]
    },
    {
     "name": "stdout",
     "output_type": "stream",
     "text": [
      "record pos 80\n"
     ]
    },
    {
     "name": "stderr",
     "output_type": "stream",
     "text": [
      "INFO:spimagine.gui.glwidget | saving frame as /media/ivar/SSD700GB/rendering/output_081.png\n"
     ]
    },
    {
     "name": "stdout",
     "output_type": "stream",
     "text": [
      "record pos 81\n"
     ]
    },
    {
     "name": "stderr",
     "output_type": "stream",
     "text": [
      "INFO:spimagine.gui.glwidget | saving frame as /media/ivar/SSD700GB/rendering/output_082.png\n"
     ]
    },
    {
     "name": "stdout",
     "output_type": "stream",
     "text": [
      "record pos 82\n"
     ]
    },
    {
     "name": "stderr",
     "output_type": "stream",
     "text": [
      "INFO:spimagine.gui.glwidget | saving frame as /media/ivar/SSD700GB/rendering/output_083.png\n"
     ]
    },
    {
     "name": "stdout",
     "output_type": "stream",
     "text": [
      "record pos 83\n"
     ]
    },
    {
     "name": "stderr",
     "output_type": "stream",
     "text": [
      "INFO:spimagine.gui.glwidget | saving frame as /media/ivar/SSD700GB/rendering/output_084.png\n"
     ]
    },
    {
     "name": "stdout",
     "output_type": "stream",
     "text": [
      "record pos 84\n"
     ]
    },
    {
     "name": "stderr",
     "output_type": "stream",
     "text": [
      "INFO:spimagine.gui.glwidget | saving frame as /media/ivar/SSD700GB/rendering/output_085.png\n"
     ]
    },
    {
     "name": "stdout",
     "output_type": "stream",
     "text": [
      "record pos 85\n"
     ]
    },
    {
     "name": "stderr",
     "output_type": "stream",
     "text": [
      "INFO:spimagine.gui.glwidget | saving frame as /media/ivar/SSD700GB/rendering/output_086.png\n"
     ]
    },
    {
     "name": "stdout",
     "output_type": "stream",
     "text": [
      "record pos 86\n"
     ]
    },
    {
     "name": "stderr",
     "output_type": "stream",
     "text": [
      "INFO:spimagine.gui.glwidget | saving frame as /media/ivar/SSD700GB/rendering/output_087.png\n"
     ]
    },
    {
     "name": "stdout",
     "output_type": "stream",
     "text": [
      "record pos 87\n"
     ]
    },
    {
     "name": "stderr",
     "output_type": "stream",
     "text": [
      "INFO:spimagine.gui.glwidget | saving frame as /media/ivar/SSD700GB/rendering/output_088.png\n"
     ]
    },
    {
     "name": "stdout",
     "output_type": "stream",
     "text": [
      "record pos 88\n"
     ]
    },
    {
     "name": "stderr",
     "output_type": "stream",
     "text": [
      "INFO:spimagine.gui.glwidget | saving frame as /media/ivar/SSD700GB/rendering/output_089.png\n"
     ]
    },
    {
     "name": "stdout",
     "output_type": "stream",
     "text": [
      "record pos 89\n"
     ]
    },
    {
     "name": "stderr",
     "output_type": "stream",
     "text": [
      "INFO:spimagine.gui.glwidget | saving frame as /media/ivar/SSD700GB/rendering/output_090.png\n"
     ]
    },
    {
     "name": "stdout",
     "output_type": "stream",
     "text": [
      "record pos 90\n"
     ]
    },
    {
     "name": "stderr",
     "output_type": "stream",
     "text": [
      "INFO:spimagine.gui.glwidget | saving frame as /media/ivar/SSD700GB/rendering/output_091.png\n"
     ]
    },
    {
     "name": "stdout",
     "output_type": "stream",
     "text": [
      "record pos 91\n"
     ]
    },
    {
     "name": "stderr",
     "output_type": "stream",
     "text": [
      "INFO:spimagine.gui.glwidget | saving frame as /media/ivar/SSD700GB/rendering/output_092.png\n"
     ]
    },
    {
     "name": "stdout",
     "output_type": "stream",
     "text": [
      "record pos 92\n"
     ]
    },
    {
     "name": "stderr",
     "output_type": "stream",
     "text": [
      "INFO:spimagine.gui.glwidget | saving frame as /media/ivar/SSD700GB/rendering/output_093.png\n"
     ]
    },
    {
     "name": "stdout",
     "output_type": "stream",
     "text": [
      "record pos 93\n"
     ]
    },
    {
     "name": "stderr",
     "output_type": "stream",
     "text": [
      "INFO:spimagine.gui.glwidget | saving frame as /media/ivar/SSD700GB/rendering/output_094.png\n"
     ]
    },
    {
     "name": "stdout",
     "output_type": "stream",
     "text": [
      "record pos 94\n"
     ]
    },
    {
     "name": "stderr",
     "output_type": "stream",
     "text": [
      "INFO:spimagine.gui.glwidget | saving frame as /media/ivar/SSD700GB/rendering/output_095.png\n"
     ]
    },
    {
     "name": "stdout",
     "output_type": "stream",
     "text": [
      "record pos 95\n"
     ]
    },
    {
     "name": "stderr",
     "output_type": "stream",
     "text": [
      "INFO:spimagine.gui.glwidget | saving frame as /media/ivar/SSD700GB/rendering/output_096.png\n"
     ]
    },
    {
     "name": "stdout",
     "output_type": "stream",
     "text": [
      "record pos 96\n"
     ]
    },
    {
     "name": "stderr",
     "output_type": "stream",
     "text": [
      "INFO:spimagine.gui.glwidget | saving frame as /media/ivar/SSD700GB/rendering/output_097.png\n"
     ]
    },
    {
     "name": "stdout",
     "output_type": "stream",
     "text": [
      "record pos 97\n"
     ]
    },
    {
     "name": "stderr",
     "output_type": "stream",
     "text": [
      "INFO:spimagine.gui.glwidget | saving frame as /media/ivar/SSD700GB/rendering/output_098.png\n"
     ]
    },
    {
     "name": "stdout",
     "output_type": "stream",
     "text": [
      "record pos 98\n"
     ]
    },
    {
     "name": "stderr",
     "output_type": "stream",
     "text": [
      "INFO:spimagine.gui.glwidget | saving frame as /media/ivar/SSD700GB/rendering/output_099.png\n"
     ]
    },
    {
     "name": "stdout",
     "output_type": "stream",
     "text": [
      "record pos 99\n"
     ]
    },
    {
     "name": "stderr",
     "output_type": "stream",
     "text": [
      "INFO:spimagine.gui.glwidget | saving frame as /media/ivar/SSD700GB/rendering/output_100.png\n"
     ]
    },
    {
     "name": "stdout",
     "output_type": "stream",
     "text": [
      "record pos 100\n"
     ]
    },
    {
     "name": "stderr",
     "output_type": "stream",
     "text": [
      "INFO:spimagine.gui.glwidget | saving frame as /media/ivar/SSD700GB/rendering/output_101.png\n"
     ]
    },
    {
     "name": "stdout",
     "output_type": "stream",
     "text": [
      "record pos 101\n"
     ]
    },
    {
     "name": "stderr",
     "output_type": "stream",
     "text": [
      "INFO:spimagine.gui.glwidget | saving frame as /media/ivar/SSD700GB/rendering/output_102.png\n"
     ]
    },
    {
     "name": "stdout",
     "output_type": "stream",
     "text": [
      "record pos 102\n"
     ]
    },
    {
     "name": "stderr",
     "output_type": "stream",
     "text": [
      "INFO:spimagine.gui.glwidget | saving frame as /media/ivar/SSD700GB/rendering/output_103.png\n"
     ]
    },
    {
     "name": "stdout",
     "output_type": "stream",
     "text": [
      "record pos 103\n"
     ]
    },
    {
     "name": "stderr",
     "output_type": "stream",
     "text": [
      "INFO:spimagine.gui.glwidget | saving frame as /media/ivar/SSD700GB/rendering/output_104.png\n"
     ]
    },
    {
     "name": "stdout",
     "output_type": "stream",
     "text": [
      "record pos 104\n"
     ]
    },
    {
     "name": "stderr",
     "output_type": "stream",
     "text": [
      "INFO:spimagine.gui.glwidget | saving frame as /media/ivar/SSD700GB/rendering/output_105.png\n"
     ]
    },
    {
     "name": "stdout",
     "output_type": "stream",
     "text": [
      "record pos 105\n"
     ]
    },
    {
     "name": "stderr",
     "output_type": "stream",
     "text": [
      "INFO:spimagine.gui.glwidget | saving frame as /media/ivar/SSD700GB/rendering/output_106.png\n"
     ]
    },
    {
     "name": "stdout",
     "output_type": "stream",
     "text": [
      "record pos 106\n"
     ]
    },
    {
     "name": "stderr",
     "output_type": "stream",
     "text": [
      "INFO:spimagine.gui.glwidget | saving frame as /media/ivar/SSD700GB/rendering/output_107.png\n"
     ]
    },
    {
     "name": "stdout",
     "output_type": "stream",
     "text": [
      "record pos 107\n"
     ]
    },
    {
     "name": "stderr",
     "output_type": "stream",
     "text": [
      "INFO:spimagine.gui.glwidget | saving frame as /media/ivar/SSD700GB/rendering/output_108.png\n"
     ]
    },
    {
     "name": "stdout",
     "output_type": "stream",
     "text": [
      "record pos 108\n"
     ]
    },
    {
     "name": "stderr",
     "output_type": "stream",
     "text": [
      "INFO:spimagine.gui.glwidget | saving frame as /media/ivar/SSD700GB/rendering/output_109.png\n"
     ]
    },
    {
     "name": "stdout",
     "output_type": "stream",
     "text": [
      "record pos 109\n"
     ]
    },
    {
     "name": "stderr",
     "output_type": "stream",
     "text": [
      "INFO:spimagine.gui.glwidget | saving frame as /media/ivar/SSD700GB/rendering/output_110.png\n"
     ]
    },
    {
     "name": "stdout",
     "output_type": "stream",
     "text": [
      "record pos 110\n"
     ]
    },
    {
     "name": "stderr",
     "output_type": "stream",
     "text": [
      "INFO:spimagine.gui.glwidget | saving frame as /media/ivar/SSD700GB/rendering/output_111.png\n"
     ]
    },
    {
     "name": "stdout",
     "output_type": "stream",
     "text": [
      "record pos 111\n"
     ]
    },
    {
     "name": "stderr",
     "output_type": "stream",
     "text": [
      "INFO:spimagine.gui.glwidget | saving frame as /media/ivar/SSD700GB/rendering/output_112.png\n"
     ]
    },
    {
     "name": "stdout",
     "output_type": "stream",
     "text": [
      "record pos 112\n"
     ]
    },
    {
     "name": "stderr",
     "output_type": "stream",
     "text": [
      "INFO:spimagine.gui.glwidget | saving frame as /media/ivar/SSD700GB/rendering/output_113.png\n"
     ]
    },
    {
     "name": "stdout",
     "output_type": "stream",
     "text": [
      "record pos 113\n"
     ]
    },
    {
     "name": "stderr",
     "output_type": "stream",
     "text": [
      "INFO:spimagine.gui.glwidget | saving frame as /media/ivar/SSD700GB/rendering/output_114.png\n"
     ]
    },
    {
     "name": "stdout",
     "output_type": "stream",
     "text": [
      "record pos 114\n"
     ]
    },
    {
     "name": "stderr",
     "output_type": "stream",
     "text": [
      "INFO:spimagine.gui.glwidget | saving frame as /media/ivar/SSD700GB/rendering/output_115.png\n"
     ]
    },
    {
     "name": "stdout",
     "output_type": "stream",
     "text": [
      "record pos 115\n"
     ]
    },
    {
     "name": "stderr",
     "output_type": "stream",
     "text": [
      "INFO:spimagine.gui.glwidget | saving frame as /media/ivar/SSD700GB/rendering/output_116.png\n"
     ]
    },
    {
     "name": "stdout",
     "output_type": "stream",
     "text": [
      "record pos 116\n"
     ]
    },
    {
     "name": "stderr",
     "output_type": "stream",
     "text": [
      "INFO:spimagine.gui.glwidget | saving frame as /media/ivar/SSD700GB/rendering/output_117.png\n"
     ]
    },
    {
     "name": "stdout",
     "output_type": "stream",
     "text": [
      "record pos 117\n"
     ]
    },
    {
     "name": "stderr",
     "output_type": "stream",
     "text": [
      "INFO:spimagine.gui.glwidget | saving frame as /media/ivar/SSD700GB/rendering/output_118.png\n"
     ]
    },
    {
     "name": "stdout",
     "output_type": "stream",
     "text": [
      "record pos 118\n"
     ]
    },
    {
     "name": "stderr",
     "output_type": "stream",
     "text": [
      "INFO:spimagine.gui.glwidget | saving frame as /media/ivar/SSD700GB/rendering/output_119.png\n"
     ]
    },
    {
     "name": "stdout",
     "output_type": "stream",
     "text": [
      "record pos 119\n"
     ]
    },
    {
     "name": "stderr",
     "output_type": "stream",
     "text": [
      "INFO:spimagine.gui.glwidget | saving frame as /media/ivar/SSD700GB/rendering/output_120.png\n"
     ]
    },
    {
     "name": "stdout",
     "output_type": "stream",
     "text": [
      "record pos 120\n"
     ]
    },
    {
     "name": "stderr",
     "output_type": "stream",
     "text": [
      "INFO:spimagine.gui.glwidget | saving frame as /media/ivar/SSD700GB/rendering/output_121.png\n"
     ]
    },
    {
     "name": "stdout",
     "output_type": "stream",
     "text": [
      "record pos 121\n"
     ]
    },
    {
     "name": "stderr",
     "output_type": "stream",
     "text": [
      "INFO:spimagine.gui.glwidget | saving frame as /media/ivar/SSD700GB/rendering/output_122.png\n"
     ]
    },
    {
     "name": "stdout",
     "output_type": "stream",
     "text": [
      "record pos 122\n"
     ]
    },
    {
     "name": "stderr",
     "output_type": "stream",
     "text": [
      "INFO:spimagine.gui.glwidget | saving frame as /media/ivar/SSD700GB/rendering/output_123.png\n"
     ]
    },
    {
     "name": "stdout",
     "output_type": "stream",
     "text": [
      "record pos 123\n"
     ]
    },
    {
     "name": "stderr",
     "output_type": "stream",
     "text": [
      "INFO:spimagine.gui.glwidget | saving frame as /media/ivar/SSD700GB/rendering/output_124.png\n"
     ]
    },
    {
     "name": "stdout",
     "output_type": "stream",
     "text": [
      "record pos 124\n"
     ]
    },
    {
     "name": "stderr",
     "output_type": "stream",
     "text": [
      "INFO:spimagine.gui.glwidget | saving frame as /media/ivar/SSD700GB/rendering/output_125.png\n"
     ]
    },
    {
     "name": "stdout",
     "output_type": "stream",
     "text": [
      "record pos 125\n"
     ]
    },
    {
     "name": "stderr",
     "output_type": "stream",
     "text": [
      "INFO:spimagine.gui.glwidget | saving frame as /media/ivar/SSD700GB/rendering/output_126.png\n"
     ]
    },
    {
     "name": "stdout",
     "output_type": "stream",
     "text": [
      "record pos 126\n"
     ]
    },
    {
     "name": "stderr",
     "output_type": "stream",
     "text": [
      "INFO:spimagine.gui.glwidget | saving frame as /media/ivar/SSD700GB/rendering/output_127.png\n"
     ]
    },
    {
     "name": "stdout",
     "output_type": "stream",
     "text": [
      "record pos 127\n"
     ]
    },
    {
     "name": "stderr",
     "output_type": "stream",
     "text": [
      "INFO:spimagine.gui.glwidget | saving frame as /media/ivar/SSD700GB/rendering/output_128.png\n"
     ]
    },
    {
     "name": "stdout",
     "output_type": "stream",
     "text": [
      "record pos 128\n"
     ]
    },
    {
     "name": "stderr",
     "output_type": "stream",
     "text": [
      "INFO:spimagine.gui.glwidget | saving frame as /media/ivar/SSD700GB/rendering/output_129.png\n"
     ]
    },
    {
     "name": "stdout",
     "output_type": "stream",
     "text": [
      "record pos 129\n"
     ]
    },
    {
     "name": "stderr",
     "output_type": "stream",
     "text": [
      "INFO:spimagine.gui.glwidget | saving frame as /media/ivar/SSD700GB/rendering/output_130.png\n"
     ]
    },
    {
     "name": "stdout",
     "output_type": "stream",
     "text": [
      "record pos 130\n"
     ]
    },
    {
     "name": "stderr",
     "output_type": "stream",
     "text": [
      "INFO:spimagine.gui.glwidget | saving frame as /media/ivar/SSD700GB/rendering/output_131.png\n"
     ]
    },
    {
     "name": "stdout",
     "output_type": "stream",
     "text": [
      "record pos 131\n"
     ]
    },
    {
     "name": "stderr",
     "output_type": "stream",
     "text": [
      "INFO:spimagine.gui.glwidget | saving frame as /media/ivar/SSD700GB/rendering/output_132.png\n"
     ]
    },
    {
     "name": "stdout",
     "output_type": "stream",
     "text": [
      "record pos 132\n"
     ]
    },
    {
     "name": "stderr",
     "output_type": "stream",
     "text": [
      "INFO:spimagine.gui.glwidget | saving frame as /media/ivar/SSD700GB/rendering/output_133.png\n"
     ]
    },
    {
     "name": "stdout",
     "output_type": "stream",
     "text": [
      "record pos 133\n"
     ]
    },
    {
     "name": "stderr",
     "output_type": "stream",
     "text": [
      "INFO:spimagine.gui.glwidget | saving frame as /media/ivar/SSD700GB/rendering/output_134.png\n"
     ]
    },
    {
     "name": "stdout",
     "output_type": "stream",
     "text": [
      "record pos 134\n"
     ]
    },
    {
     "name": "stderr",
     "output_type": "stream",
     "text": [
      "INFO:spimagine.gui.glwidget | saving frame as /media/ivar/SSD700GB/rendering/output_135.png\n"
     ]
    },
    {
     "name": "stdout",
     "output_type": "stream",
     "text": [
      "record pos 135\n"
     ]
    },
    {
     "name": "stderr",
     "output_type": "stream",
     "text": [
      "INFO:spimagine.gui.glwidget | saving frame as /media/ivar/SSD700GB/rendering/output_136.png\n"
     ]
    },
    {
     "name": "stdout",
     "output_type": "stream",
     "text": [
      "record pos 136\n"
     ]
    },
    {
     "name": "stderr",
     "output_type": "stream",
     "text": [
      "INFO:spimagine.gui.glwidget | saving frame as /media/ivar/SSD700GB/rendering/output_137.png\n"
     ]
    },
    {
     "name": "stdout",
     "output_type": "stream",
     "text": [
      "record pos 137\n"
     ]
    },
    {
     "name": "stderr",
     "output_type": "stream",
     "text": [
      "INFO:spimagine.gui.glwidget | saving frame as /media/ivar/SSD700GB/rendering/output_138.png\n"
     ]
    },
    {
     "name": "stdout",
     "output_type": "stream",
     "text": [
      "record pos 138\n"
     ]
    },
    {
     "name": "stderr",
     "output_type": "stream",
     "text": [
      "INFO:spimagine.gui.glwidget | saving frame as /media/ivar/SSD700GB/rendering/output_139.png\n"
     ]
    },
    {
     "name": "stdout",
     "output_type": "stream",
     "text": [
      "record pos 139\n"
     ]
    },
    {
     "name": "stderr",
     "output_type": "stream",
     "text": [
      "INFO:spimagine.gui.glwidget | saving frame as /media/ivar/SSD700GB/rendering/output_140.png\n"
     ]
    },
    {
     "name": "stdout",
     "output_type": "stream",
     "text": [
      "record pos 140\n"
     ]
    },
    {
     "name": "stderr",
     "output_type": "stream",
     "text": [
      "INFO:spimagine.gui.glwidget | saving frame as /media/ivar/SSD700GB/rendering/output_141.png\n"
     ]
    },
    {
     "name": "stdout",
     "output_type": "stream",
     "text": [
      "record pos 141\n"
     ]
    },
    {
     "name": "stderr",
     "output_type": "stream",
     "text": [
      "INFO:spimagine.gui.glwidget | saving frame as /media/ivar/SSD700GB/rendering/output_142.png\n"
     ]
    },
    {
     "name": "stdout",
     "output_type": "stream",
     "text": [
      "record pos 142\n"
     ]
    },
    {
     "name": "stderr",
     "output_type": "stream",
     "text": [
      "INFO:spimagine.gui.glwidget | saving frame as /media/ivar/SSD700GB/rendering/output_143.png\n"
     ]
    },
    {
     "name": "stdout",
     "output_type": "stream",
     "text": [
      "record pos 143\n"
     ]
    },
    {
     "name": "stderr",
     "output_type": "stream",
     "text": [
      "INFO:spimagine.gui.glwidget | saving frame as /media/ivar/SSD700GB/rendering/output_144.png\n"
     ]
    },
    {
     "name": "stdout",
     "output_type": "stream",
     "text": [
      "record pos 144\n"
     ]
    },
    {
     "name": "stderr",
     "output_type": "stream",
     "text": [
      "INFO:spimagine.gui.glwidget | saving frame as /media/ivar/SSD700GB/rendering/output_145.png\n"
     ]
    },
    {
     "name": "stdout",
     "output_type": "stream",
     "text": [
      "record pos 145\n"
     ]
    },
    {
     "name": "stderr",
     "output_type": "stream",
     "text": [
      "INFO:spimagine.gui.glwidget | saving frame as /media/ivar/SSD700GB/rendering/output_146.png\n"
     ]
    },
    {
     "name": "stdout",
     "output_type": "stream",
     "text": [
      "record pos 146\n"
     ]
    },
    {
     "name": "stderr",
     "output_type": "stream",
     "text": [
      "INFO:spimagine.gui.glwidget | saving frame as /media/ivar/SSD700GB/rendering/output_147.png\n"
     ]
    },
    {
     "name": "stdout",
     "output_type": "stream",
     "text": [
      "record pos 147\n"
     ]
    },
    {
     "name": "stderr",
     "output_type": "stream",
     "text": [
      "INFO:spimagine.gui.glwidget | saving frame as /media/ivar/SSD700GB/rendering/output_148.png\n"
     ]
    },
    {
     "name": "stdout",
     "output_type": "stream",
     "text": [
      "record pos 148\n"
     ]
    },
    {
     "name": "stderr",
     "output_type": "stream",
     "text": [
      "INFO:spimagine.gui.glwidget | saving frame as /media/ivar/SSD700GB/rendering/output_149.png\n"
     ]
    },
    {
     "name": "stdout",
     "output_type": "stream",
     "text": [
      "record pos 149\n"
     ]
    },
    {
     "name": "stderr",
     "output_type": "stream",
     "text": [
      "INFO:spimagine.gui.glwidget | saving frame as /media/ivar/SSD700GB/rendering/output_150.png\n"
     ]
    },
    {
     "name": "stdout",
     "output_type": "stream",
     "text": [
      "record pos 150\n"
     ]
    },
    {
     "name": "stderr",
     "output_type": "stream",
     "text": [
      "INFO:spimagine.gui.glwidget | saving frame as /media/ivar/SSD700GB/rendering/output_151.png\n"
     ]
    },
    {
     "name": "stdout",
     "output_type": "stream",
     "text": [
      "record pos 151\n"
     ]
    },
    {
     "name": "stderr",
     "output_type": "stream",
     "text": [
      "INFO:spimagine.gui.glwidget | saving frame as /media/ivar/SSD700GB/rendering/output_152.png\n"
     ]
    },
    {
     "name": "stdout",
     "output_type": "stream",
     "text": [
      "record pos 152\n"
     ]
    },
    {
     "name": "stderr",
     "output_type": "stream",
     "text": [
      "INFO:spimagine.gui.glwidget | saving frame as /media/ivar/SSD700GB/rendering/output_153.png\n"
     ]
    },
    {
     "name": "stdout",
     "output_type": "stream",
     "text": [
      "record pos 153\n"
     ]
    },
    {
     "name": "stderr",
     "output_type": "stream",
     "text": [
      "INFO:spimagine.gui.glwidget | saving frame as /media/ivar/SSD700GB/rendering/output_154.png\n"
     ]
    },
    {
     "name": "stdout",
     "output_type": "stream",
     "text": [
      "record pos 154\n"
     ]
    },
    {
     "name": "stderr",
     "output_type": "stream",
     "text": [
      "INFO:spimagine.gui.glwidget | saving frame as /media/ivar/SSD700GB/rendering/output_155.png\n"
     ]
    },
    {
     "name": "stdout",
     "output_type": "stream",
     "text": [
      "record pos 155\n"
     ]
    },
    {
     "name": "stderr",
     "output_type": "stream",
     "text": [
      "INFO:spimagine.gui.glwidget | saving frame as /media/ivar/SSD700GB/rendering/output_156.png\n"
     ]
    },
    {
     "name": "stdout",
     "output_type": "stream",
     "text": [
      "record pos 156\n"
     ]
    },
    {
     "name": "stderr",
     "output_type": "stream",
     "text": [
      "INFO:spimagine.gui.glwidget | saving frame as /media/ivar/SSD700GB/rendering/output_157.png\n"
     ]
    },
    {
     "name": "stdout",
     "output_type": "stream",
     "text": [
      "record pos 157\n"
     ]
    },
    {
     "name": "stderr",
     "output_type": "stream",
     "text": [
      "INFO:spimagine.gui.glwidget | saving frame as /media/ivar/SSD700GB/rendering/output_158.png\n"
     ]
    },
    {
     "name": "stdout",
     "output_type": "stream",
     "text": [
      "record pos 158\n"
     ]
    },
    {
     "name": "stderr",
     "output_type": "stream",
     "text": [
      "INFO:spimagine.gui.glwidget | saving frame as /media/ivar/SSD700GB/rendering/output_159.png\n"
     ]
    },
    {
     "name": "stdout",
     "output_type": "stream",
     "text": [
      "record pos 159\n"
     ]
    },
    {
     "name": "stderr",
     "output_type": "stream",
     "text": [
      "INFO:spimagine.gui.glwidget | saving frame as /media/ivar/SSD700GB/rendering/output_160.png\n"
     ]
    },
    {
     "name": "stdout",
     "output_type": "stream",
     "text": [
      "record pos 160\n"
     ]
    },
    {
     "name": "stderr",
     "output_type": "stream",
     "text": [
      "INFO:spimagine.gui.glwidget | saving frame as /media/ivar/SSD700GB/rendering/output_161.png\n"
     ]
    },
    {
     "name": "stdout",
     "output_type": "stream",
     "text": [
      "record pos 161\n"
     ]
    },
    {
     "name": "stderr",
     "output_type": "stream",
     "text": [
      "INFO:spimagine.gui.glwidget | saving frame as /media/ivar/SSD700GB/rendering/output_162.png\n"
     ]
    },
    {
     "name": "stdout",
     "output_type": "stream",
     "text": [
      "record pos 162\n"
     ]
    },
    {
     "name": "stderr",
     "output_type": "stream",
     "text": [
      "INFO:spimagine.gui.glwidget | saving frame as /media/ivar/SSD700GB/rendering/output_163.png\n"
     ]
    },
    {
     "name": "stdout",
     "output_type": "stream",
     "text": [
      "record pos 163\n"
     ]
    },
    {
     "name": "stderr",
     "output_type": "stream",
     "text": [
      "INFO:spimagine.gui.glwidget | saving frame as /media/ivar/SSD700GB/rendering/output_164.png\n"
     ]
    },
    {
     "name": "stdout",
     "output_type": "stream",
     "text": [
      "record pos 164\n"
     ]
    },
    {
     "name": "stderr",
     "output_type": "stream",
     "text": [
      "INFO:spimagine.gui.glwidget | saving frame as /media/ivar/SSD700GB/rendering/output_165.png\n"
     ]
    },
    {
     "name": "stdout",
     "output_type": "stream",
     "text": [
      "record pos 165\n"
     ]
    },
    {
     "name": "stderr",
     "output_type": "stream",
     "text": [
      "INFO:spimagine.gui.glwidget | saving frame as /media/ivar/SSD700GB/rendering/output_166.png\n"
     ]
    },
    {
     "name": "stdout",
     "output_type": "stream",
     "text": [
      "record pos 166\n"
     ]
    },
    {
     "name": "stderr",
     "output_type": "stream",
     "text": [
      "INFO:spimagine.gui.glwidget | saving frame as /media/ivar/SSD700GB/rendering/output_167.png\n"
     ]
    },
    {
     "name": "stdout",
     "output_type": "stream",
     "text": [
      "record pos 167\n"
     ]
    },
    {
     "name": "stderr",
     "output_type": "stream",
     "text": [
      "INFO:spimagine.gui.glwidget | saving frame as /media/ivar/SSD700GB/rendering/output_168.png\n"
     ]
    },
    {
     "name": "stdout",
     "output_type": "stream",
     "text": [
      "record pos 168\n"
     ]
    },
    {
     "name": "stderr",
     "output_type": "stream",
     "text": [
      "INFO:spimagine.gui.glwidget | saving frame as /media/ivar/SSD700GB/rendering/output_169.png\n"
     ]
    },
    {
     "name": "stdout",
     "output_type": "stream",
     "text": [
      "record pos 169\n"
     ]
    },
    {
     "name": "stderr",
     "output_type": "stream",
     "text": [
      "INFO:spimagine.gui.glwidget | saving frame as /media/ivar/SSD700GB/rendering/output_170.png\n"
     ]
    },
    {
     "name": "stdout",
     "output_type": "stream",
     "text": [
      "record pos 170\n"
     ]
    },
    {
     "name": "stderr",
     "output_type": "stream",
     "text": [
      "INFO:spimagine.gui.glwidget | saving frame as /media/ivar/SSD700GB/rendering/output_171.png\n"
     ]
    },
    {
     "name": "stdout",
     "output_type": "stream",
     "text": [
      "record pos 171\n"
     ]
    },
    {
     "name": "stderr",
     "output_type": "stream",
     "text": [
      "INFO:spimagine.gui.glwidget | saving frame as /media/ivar/SSD700GB/rendering/output_172.png\n"
     ]
    },
    {
     "name": "stdout",
     "output_type": "stream",
     "text": [
      "record pos 172\n"
     ]
    },
    {
     "name": "stderr",
     "output_type": "stream",
     "text": [
      "INFO:spimagine.gui.glwidget | saving frame as /media/ivar/SSD700GB/rendering/output_173.png\n"
     ]
    },
    {
     "name": "stdout",
     "output_type": "stream",
     "text": [
      "record pos 173\n"
     ]
    },
    {
     "name": "stderr",
     "output_type": "stream",
     "text": [
      "INFO:spimagine.gui.glwidget | saving frame as /media/ivar/SSD700GB/rendering/output_174.png\n"
     ]
    },
    {
     "name": "stdout",
     "output_type": "stream",
     "text": [
      "record pos 174\n"
     ]
    },
    {
     "name": "stderr",
     "output_type": "stream",
     "text": [
      "INFO:spimagine.gui.glwidget | saving frame as /media/ivar/SSD700GB/rendering/output_175.png\n"
     ]
    },
    {
     "name": "stdout",
     "output_type": "stream",
     "text": [
      "record pos 175\n"
     ]
    },
    {
     "name": "stderr",
     "output_type": "stream",
     "text": [
      "INFO:spimagine.gui.glwidget | saving frame as /media/ivar/SSD700GB/rendering/output_176.png\n"
     ]
    },
    {
     "name": "stdout",
     "output_type": "stream",
     "text": [
      "record pos 176\n"
     ]
    },
    {
     "name": "stderr",
     "output_type": "stream",
     "text": [
      "INFO:spimagine.gui.glwidget | saving frame as /media/ivar/SSD700GB/rendering/output_177.png\n"
     ]
    },
    {
     "name": "stdout",
     "output_type": "stream",
     "text": [
      "record pos 177\n"
     ]
    },
    {
     "name": "stderr",
     "output_type": "stream",
     "text": [
      "INFO:spimagine.gui.glwidget | saving frame as /media/ivar/SSD700GB/rendering/output_178.png\n"
     ]
    },
    {
     "name": "stdout",
     "output_type": "stream",
     "text": [
      "record pos 178\n"
     ]
    },
    {
     "name": "stderr",
     "output_type": "stream",
     "text": [
      "INFO:spimagine.gui.glwidget | saving frame as /media/ivar/SSD700GB/rendering/output_179.png\n"
     ]
    },
    {
     "name": "stdout",
     "output_type": "stream",
     "text": [
      "record pos 179\n"
     ]
    },
    {
     "name": "stderr",
     "output_type": "stream",
     "text": [
      "INFO:spimagine.gui.glwidget | saving frame as /media/ivar/SSD700GB/rendering/output_180.png\n"
     ]
    },
    {
     "name": "stdout",
     "output_type": "stream",
     "text": [
      "record pos 180\n"
     ]
    },
    {
     "name": "stderr",
     "output_type": "stream",
     "text": [
      "INFO:spimagine.gui.glwidget | saving frame as /media/ivar/SSD700GB/rendering/output_181.png\n"
     ]
    },
    {
     "name": "stdout",
     "output_type": "stream",
     "text": [
      "record pos 181\n"
     ]
    },
    {
     "name": "stderr",
     "output_type": "stream",
     "text": [
      "INFO:spimagine.gui.glwidget | saving frame as /media/ivar/SSD700GB/rendering/output_182.png\n"
     ]
    },
    {
     "name": "stdout",
     "output_type": "stream",
     "text": [
      "record pos 182\n"
     ]
    },
    {
     "name": "stderr",
     "output_type": "stream",
     "text": [
      "INFO:spimagine.gui.glwidget | saving frame as /media/ivar/SSD700GB/rendering/output_183.png\n"
     ]
    },
    {
     "name": "stdout",
     "output_type": "stream",
     "text": [
      "record pos 183\n"
     ]
    },
    {
     "name": "stderr",
     "output_type": "stream",
     "text": [
      "INFO:spimagine.gui.glwidget | saving frame as /media/ivar/SSD700GB/rendering/output_184.png\n"
     ]
    },
    {
     "name": "stdout",
     "output_type": "stream",
     "text": [
      "record pos 184\n"
     ]
    },
    {
     "name": "stderr",
     "output_type": "stream",
     "text": [
      "INFO:spimagine.gui.glwidget | saving frame as /media/ivar/SSD700GB/rendering/output_185.png\n"
     ]
    },
    {
     "name": "stdout",
     "output_type": "stream",
     "text": [
      "record pos 185\n"
     ]
    },
    {
     "name": "stderr",
     "output_type": "stream",
     "text": [
      "INFO:spimagine.gui.glwidget | saving frame as /media/ivar/SSD700GB/rendering/output_186.png\n"
     ]
    },
    {
     "name": "stdout",
     "output_type": "stream",
     "text": [
      "record pos 186\n"
     ]
    },
    {
     "name": "stderr",
     "output_type": "stream",
     "text": [
      "INFO:spimagine.gui.glwidget | saving frame as /media/ivar/SSD700GB/rendering/output_187.png\n"
     ]
    },
    {
     "name": "stdout",
     "output_type": "stream",
     "text": [
      "record pos 187\n"
     ]
    },
    {
     "name": "stderr",
     "output_type": "stream",
     "text": [
      "INFO:spimagine.gui.glwidget | saving frame as /media/ivar/SSD700GB/rendering/output_188.png\n"
     ]
    },
    {
     "name": "stdout",
     "output_type": "stream",
     "text": [
      "record pos 188\n"
     ]
    },
    {
     "name": "stderr",
     "output_type": "stream",
     "text": [
      "INFO:spimagine.gui.glwidget | saving frame as /media/ivar/SSD700GB/rendering/output_189.png\n"
     ]
    },
    {
     "name": "stdout",
     "output_type": "stream",
     "text": [
      "record pos 189\n"
     ]
    },
    {
     "name": "stderr",
     "output_type": "stream",
     "text": [
      "INFO:spimagine.gui.glwidget | saving frame as /media/ivar/SSD700GB/rendering/output_190.png\n"
     ]
    },
    {
     "name": "stdout",
     "output_type": "stream",
     "text": [
      "record pos 190\n"
     ]
    },
    {
     "name": "stderr",
     "output_type": "stream",
     "text": [
      "INFO:spimagine.gui.glwidget | saving frame as /media/ivar/SSD700GB/rendering/output_191.png\n"
     ]
    },
    {
     "name": "stdout",
     "output_type": "stream",
     "text": [
      "record pos 191\n"
     ]
    },
    {
     "name": "stderr",
     "output_type": "stream",
     "text": [
      "INFO:spimagine.gui.glwidget | saving frame as /media/ivar/SSD700GB/rendering/output_192.png\n"
     ]
    },
    {
     "name": "stdout",
     "output_type": "stream",
     "text": [
      "record pos 192\n"
     ]
    },
    {
     "name": "stderr",
     "output_type": "stream",
     "text": [
      "INFO:spimagine.gui.glwidget | saving frame as /media/ivar/SSD700GB/rendering/output_193.png\n"
     ]
    },
    {
     "name": "stdout",
     "output_type": "stream",
     "text": [
      "record pos 193\n"
     ]
    },
    {
     "name": "stderr",
     "output_type": "stream",
     "text": [
      "INFO:spimagine.gui.glwidget | saving frame as /media/ivar/SSD700GB/rendering/output_194.png\n"
     ]
    },
    {
     "name": "stdout",
     "output_type": "stream",
     "text": [
      "record pos 194\n"
     ]
    },
    {
     "name": "stderr",
     "output_type": "stream",
     "text": [
      "INFO:spimagine.gui.glwidget | saving frame as /media/ivar/SSD700GB/rendering/output_195.png\n"
     ]
    },
    {
     "name": "stdout",
     "output_type": "stream",
     "text": [
      "record pos 195\n"
     ]
    },
    {
     "name": "stderr",
     "output_type": "stream",
     "text": [
      "INFO:spimagine.gui.glwidget | saving frame as /media/ivar/SSD700GB/rendering/output_196.png\n"
     ]
    },
    {
     "name": "stdout",
     "output_type": "stream",
     "text": [
      "record pos 196\n"
     ]
    },
    {
     "name": "stderr",
     "output_type": "stream",
     "text": [
      "INFO:spimagine.gui.glwidget | saving frame as /media/ivar/SSD700GB/rendering/output_197.png\n"
     ]
    },
    {
     "name": "stdout",
     "output_type": "stream",
     "text": [
      "record pos 197\n"
     ]
    },
    {
     "name": "stderr",
     "output_type": "stream",
     "text": [
      "INFO:spimagine.gui.glwidget | saving frame as /media/ivar/SSD700GB/rendering/output_198.png\n"
     ]
    },
    {
     "name": "stdout",
     "output_type": "stream",
     "text": [
      "record pos 198\n"
     ]
    },
    {
     "name": "stderr",
     "output_type": "stream",
     "text": [
      "INFO:spimagine.gui.glwidget | saving frame as /media/ivar/SSD700GB/rendering/output_199.png\n"
     ]
    },
    {
     "name": "stdout",
     "output_type": "stream",
     "text": [
      "record pos 199\n"
     ]
    },
    {
     "name": "stderr",
     "output_type": "stream",
     "text": [
      "INFO:spimagine.gui.glwidget | saving frame as /media/ivar/SSD700GB/rendering/output_200.png\n"
     ]
    },
    {
     "name": "stdout",
     "output_type": "stream",
     "text": [
      "record pos 200\n"
     ]
    },
    {
     "name": "stderr",
     "output_type": "stream",
     "text": [
      "INFO:spimagine.gui.glwidget | saving frame as /media/ivar/SSD700GB/rendering/output_201.png\n"
     ]
    },
    {
     "name": "stdout",
     "output_type": "stream",
     "text": [
      "record pos 201\n"
     ]
    },
    {
     "name": "stderr",
     "output_type": "stream",
     "text": [
      "INFO:spimagine.gui.glwidget | saving frame as /media/ivar/SSD700GB/rendering/output_202.png\n"
     ]
    },
    {
     "name": "stdout",
     "output_type": "stream",
     "text": [
      "record pos 202\n"
     ]
    },
    {
     "name": "stderr",
     "output_type": "stream",
     "text": [
      "INFO:spimagine.gui.glwidget | saving frame as /media/ivar/SSD700GB/rendering/output_203.png\n"
     ]
    },
    {
     "name": "stdout",
     "output_type": "stream",
     "text": [
      "record pos 203\n"
     ]
    },
    {
     "name": "stderr",
     "output_type": "stream",
     "text": [
      "INFO:spimagine.gui.glwidget | saving frame as /media/ivar/SSD700GB/rendering/output_204.png\n"
     ]
    },
    {
     "name": "stdout",
     "output_type": "stream",
     "text": [
      "record pos 204\n"
     ]
    },
    {
     "name": "stderr",
     "output_type": "stream",
     "text": [
      "INFO:spimagine.gui.glwidget | saving frame as /media/ivar/SSD700GB/rendering/output_205.png\n"
     ]
    },
    {
     "name": "stdout",
     "output_type": "stream",
     "text": [
      "record pos 205\n"
     ]
    },
    {
     "name": "stderr",
     "output_type": "stream",
     "text": [
      "INFO:spimagine.gui.glwidget | saving frame as /media/ivar/SSD700GB/rendering/output_206.png\n"
     ]
    },
    {
     "name": "stdout",
     "output_type": "stream",
     "text": [
      "record pos 206\n"
     ]
    },
    {
     "name": "stderr",
     "output_type": "stream",
     "text": [
      "INFO:spimagine.gui.glwidget | saving frame as /media/ivar/SSD700GB/rendering/output_207.png\n"
     ]
    },
    {
     "name": "stdout",
     "output_type": "stream",
     "text": [
      "record pos 207\n"
     ]
    },
    {
     "name": "stderr",
     "output_type": "stream",
     "text": [
      "INFO:spimagine.gui.glwidget | saving frame as /media/ivar/SSD700GB/rendering/output_208.png\n"
     ]
    },
    {
     "name": "stdout",
     "output_type": "stream",
     "text": [
      "record pos 208\n"
     ]
    },
    {
     "name": "stderr",
     "output_type": "stream",
     "text": [
      "INFO:spimagine.gui.glwidget | saving frame as /media/ivar/SSD700GB/rendering/output_209.png\n"
     ]
    },
    {
     "name": "stdout",
     "output_type": "stream",
     "text": [
      "record pos 209\n"
     ]
    },
    {
     "name": "stderr",
     "output_type": "stream",
     "text": [
      "INFO:spimagine.gui.glwidget | saving frame as /media/ivar/SSD700GB/rendering/output_210.png\n"
     ]
    },
    {
     "name": "stdout",
     "output_type": "stream",
     "text": [
      "record pos 210\n"
     ]
    },
    {
     "name": "stderr",
     "output_type": "stream",
     "text": [
      "INFO:spimagine.gui.glwidget | saving frame as /media/ivar/SSD700GB/rendering/output_211.png\n"
     ]
    },
    {
     "name": "stdout",
     "output_type": "stream",
     "text": [
      "record pos 211\n"
     ]
    },
    {
     "name": "stderr",
     "output_type": "stream",
     "text": [
      "INFO:spimagine.gui.glwidget | saving frame as /media/ivar/SSD700GB/rendering/output_212.png\n"
     ]
    },
    {
     "name": "stdout",
     "output_type": "stream",
     "text": [
      "record pos 212\n"
     ]
    },
    {
     "name": "stderr",
     "output_type": "stream",
     "text": [
      "INFO:spimagine.gui.glwidget | saving frame as /media/ivar/SSD700GB/rendering/output_213.png\n"
     ]
    },
    {
     "name": "stdout",
     "output_type": "stream",
     "text": [
      "record pos 213\n"
     ]
    },
    {
     "name": "stderr",
     "output_type": "stream",
     "text": [
      "INFO:spimagine.gui.glwidget | saving frame as /media/ivar/SSD700GB/rendering/output_214.png\n"
     ]
    },
    {
     "name": "stdout",
     "output_type": "stream",
     "text": [
      "record pos 214\n"
     ]
    },
    {
     "name": "stderr",
     "output_type": "stream",
     "text": [
      "INFO:spimagine.gui.glwidget | saving frame as /media/ivar/SSD700GB/rendering/output_215.png\n"
     ]
    },
    {
     "name": "stdout",
     "output_type": "stream",
     "text": [
      "record pos 215\n"
     ]
    },
    {
     "name": "stderr",
     "output_type": "stream",
     "text": [
      "INFO:spimagine.gui.glwidget | saving frame as /media/ivar/SSD700GB/rendering/output_216.png\n"
     ]
    },
    {
     "name": "stdout",
     "output_type": "stream",
     "text": [
      "record pos 216\n"
     ]
    },
    {
     "name": "stderr",
     "output_type": "stream",
     "text": [
      "INFO:spimagine.gui.glwidget | saving frame as /media/ivar/SSD700GB/rendering/output_217.png\n"
     ]
    },
    {
     "name": "stdout",
     "output_type": "stream",
     "text": [
      "record pos 217\n"
     ]
    },
    {
     "name": "stderr",
     "output_type": "stream",
     "text": [
      "INFO:spimagine.gui.glwidget | saving frame as /media/ivar/SSD700GB/rendering/output_218.png\n"
     ]
    },
    {
     "name": "stdout",
     "output_type": "stream",
     "text": [
      "record pos 218\n"
     ]
    },
    {
     "name": "stderr",
     "output_type": "stream",
     "text": [
      "INFO:spimagine.gui.glwidget | saving frame as /media/ivar/SSD700GB/rendering/output_219.png\n"
     ]
    },
    {
     "name": "stdout",
     "output_type": "stream",
     "text": [
      "record pos 219\n"
     ]
    },
    {
     "name": "stderr",
     "output_type": "stream",
     "text": [
      "INFO:spimagine.gui.glwidget | saving frame as /media/ivar/SSD700GB/rendering/output_220.png\n"
     ]
    },
    {
     "name": "stdout",
     "output_type": "stream",
     "text": [
      "record pos 220\n"
     ]
    },
    {
     "name": "stderr",
     "output_type": "stream",
     "text": [
      "INFO:spimagine.gui.glwidget | saving frame as /media/ivar/SSD700GB/rendering/output_221.png\n"
     ]
    },
    {
     "name": "stdout",
     "output_type": "stream",
     "text": [
      "record pos 221\n"
     ]
    },
    {
     "name": "stderr",
     "output_type": "stream",
     "text": [
      "INFO:spimagine.gui.glwidget | saving frame as /media/ivar/SSD700GB/rendering/output_222.png\n"
     ]
    },
    {
     "name": "stdout",
     "output_type": "stream",
     "text": [
      "record pos 222\n"
     ]
    },
    {
     "name": "stderr",
     "output_type": "stream",
     "text": [
      "INFO:spimagine.gui.glwidget | saving frame as /media/ivar/SSD700GB/rendering/output_223.png\n"
     ]
    },
    {
     "name": "stdout",
     "output_type": "stream",
     "text": [
      "record pos 223\n"
     ]
    },
    {
     "name": "stderr",
     "output_type": "stream",
     "text": [
      "INFO:spimagine.gui.glwidget | saving frame as /media/ivar/SSD700GB/rendering/output_224.png\n"
     ]
    },
    {
     "name": "stdout",
     "output_type": "stream",
     "text": [
      "record pos 224\n"
     ]
    },
    {
     "name": "stderr",
     "output_type": "stream",
     "text": [
      "INFO:spimagine.gui.glwidget | saving frame as /media/ivar/SSD700GB/rendering/output_225.png\n"
     ]
    },
    {
     "name": "stdout",
     "output_type": "stream",
     "text": [
      "record pos 225\n"
     ]
    },
    {
     "name": "stderr",
     "output_type": "stream",
     "text": [
      "INFO:spimagine.gui.glwidget | saving frame as /media/ivar/SSD700GB/rendering/output_226.png\n"
     ]
    },
    {
     "name": "stdout",
     "output_type": "stream",
     "text": [
      "record pos 226\n"
     ]
    },
    {
     "name": "stderr",
     "output_type": "stream",
     "text": [
      "INFO:spimagine.gui.glwidget | saving frame as /media/ivar/SSD700GB/rendering/output_227.png\n"
     ]
    },
    {
     "name": "stdout",
     "output_type": "stream",
     "text": [
      "record pos 227\n"
     ]
    },
    {
     "name": "stderr",
     "output_type": "stream",
     "text": [
      "INFO:spimagine.gui.glwidget | saving frame as /media/ivar/SSD700GB/rendering/output_228.png\n"
     ]
    },
    {
     "name": "stdout",
     "output_type": "stream",
     "text": [
      "record pos 228\n"
     ]
    },
    {
     "name": "stderr",
     "output_type": "stream",
     "text": [
      "INFO:spimagine.gui.glwidget | saving frame as /media/ivar/SSD700GB/rendering/output_229.png\n"
     ]
    },
    {
     "name": "stdout",
     "output_type": "stream",
     "text": [
      "record pos 229\n"
     ]
    },
    {
     "name": "stderr",
     "output_type": "stream",
     "text": [
      "INFO:spimagine.gui.glwidget | saving frame as /media/ivar/SSD700GB/rendering/output_230.png\n"
     ]
    },
    {
     "name": "stdout",
     "output_type": "stream",
     "text": [
      "record pos 230\n"
     ]
    },
    {
     "name": "stderr",
     "output_type": "stream",
     "text": [
      "INFO:spimagine.gui.glwidget | saving frame as /media/ivar/SSD700GB/rendering/output_231.png\n"
     ]
    },
    {
     "name": "stdout",
     "output_type": "stream",
     "text": [
      "record pos 231\n"
     ]
    },
    {
     "name": "stderr",
     "output_type": "stream",
     "text": [
      "INFO:spimagine.gui.glwidget | saving frame as /media/ivar/SSD700GB/rendering/output_232.png\n"
     ]
    },
    {
     "name": "stdout",
     "output_type": "stream",
     "text": [
      "record pos 232\n"
     ]
    },
    {
     "name": "stderr",
     "output_type": "stream",
     "text": [
      "INFO:spimagine.gui.glwidget | saving frame as /media/ivar/SSD700GB/rendering/output_233.png\n"
     ]
    },
    {
     "name": "stdout",
     "output_type": "stream",
     "text": [
      "record pos 233\n"
     ]
    },
    {
     "name": "stderr",
     "output_type": "stream",
     "text": [
      "INFO:spimagine.gui.glwidget | saving frame as /media/ivar/SSD700GB/rendering/output_234.png\n"
     ]
    },
    {
     "name": "stdout",
     "output_type": "stream",
     "text": [
      "record pos 234\n"
     ]
    },
    {
     "name": "stderr",
     "output_type": "stream",
     "text": [
      "INFO:spimagine.gui.glwidget | saving frame as /media/ivar/SSD700GB/rendering/output_235.png\n"
     ]
    },
    {
     "name": "stdout",
     "output_type": "stream",
     "text": [
      "record pos 235\n"
     ]
    },
    {
     "name": "stderr",
     "output_type": "stream",
     "text": [
      "INFO:spimagine.gui.glwidget | saving frame as /media/ivar/SSD700GB/rendering/output_236.png\n"
     ]
    },
    {
     "name": "stdout",
     "output_type": "stream",
     "text": [
      "record pos 236\n"
     ]
    },
    {
     "name": "stderr",
     "output_type": "stream",
     "text": [
      "INFO:spimagine.gui.glwidget | saving frame as /media/ivar/SSD700GB/rendering/output_237.png\n"
     ]
    },
    {
     "name": "stdout",
     "output_type": "stream",
     "text": [
      "record pos 237\n"
     ]
    },
    {
     "name": "stderr",
     "output_type": "stream",
     "text": [
      "INFO:spimagine.gui.glwidget | saving frame as /media/ivar/SSD700GB/rendering/output_238.png\n"
     ]
    },
    {
     "name": "stdout",
     "output_type": "stream",
     "text": [
      "record pos 238\n"
     ]
    },
    {
     "name": "stderr",
     "output_type": "stream",
     "text": [
      "INFO:spimagine.gui.glwidget | saving frame as /media/ivar/SSD700GB/rendering/output_239.png\n"
     ]
    },
    {
     "name": "stdout",
     "output_type": "stream",
     "text": [
      "record pos 239\n"
     ]
    },
    {
     "name": "stderr",
     "output_type": "stream",
     "text": [
      "INFO:spimagine.gui.glwidget | saving frame as /media/ivar/SSD700GB/rendering/output_240.png\n"
     ]
    },
    {
     "name": "stdout",
     "output_type": "stream",
     "text": [
      "record pos 240\n"
     ]
    },
    {
     "name": "stderr",
     "output_type": "stream",
     "text": [
      "INFO:spimagine.gui.glwidget | saving frame as /media/ivar/SSD700GB/rendering/output_241.png\n"
     ]
    },
    {
     "name": "stdout",
     "output_type": "stream",
     "text": [
      "record pos 241\n"
     ]
    },
    {
     "name": "stderr",
     "output_type": "stream",
     "text": [
      "INFO:spimagine.gui.glwidget | saving frame as /media/ivar/SSD700GB/rendering/output_242.png\n"
     ]
    },
    {
     "name": "stdout",
     "output_type": "stream",
     "text": [
      "record pos 242\n"
     ]
    },
    {
     "name": "stderr",
     "output_type": "stream",
     "text": [
      "INFO:spimagine.gui.glwidget | saving frame as /media/ivar/SSD700GB/rendering/output_243.png\n"
     ]
    },
    {
     "name": "stdout",
     "output_type": "stream",
     "text": [
      "record pos 243\n"
     ]
    },
    {
     "name": "stderr",
     "output_type": "stream",
     "text": [
      "INFO:spimagine.gui.glwidget | saving frame as /media/ivar/SSD700GB/rendering/output_244.png\n"
     ]
    },
    {
     "name": "stdout",
     "output_type": "stream",
     "text": [
      "record pos 244\n"
     ]
    },
    {
     "name": "stderr",
     "output_type": "stream",
     "text": [
      "INFO:spimagine.gui.glwidget | saving frame as /media/ivar/SSD700GB/rendering/output_245.png\n"
     ]
    },
    {
     "name": "stdout",
     "output_type": "stream",
     "text": [
      "record pos 245\n"
     ]
    },
    {
     "name": "stderr",
     "output_type": "stream",
     "text": [
      "INFO:spimagine.gui.glwidget | saving frame as /media/ivar/SSD700GB/rendering/output_246.png\n"
     ]
    },
    {
     "name": "stdout",
     "output_type": "stream",
     "text": [
      "record pos 246\n"
     ]
    },
    {
     "name": "stderr",
     "output_type": "stream",
     "text": [
      "INFO:spimagine.gui.glwidget | saving frame as /media/ivar/SSD700GB/rendering/output_247.png\n"
     ]
    },
    {
     "name": "stdout",
     "output_type": "stream",
     "text": [
      "record pos 247\n"
     ]
    },
    {
     "name": "stderr",
     "output_type": "stream",
     "text": [
      "INFO:spimagine.gui.glwidget | saving frame as /media/ivar/SSD700GB/rendering/output_248.png\n"
     ]
    },
    {
     "name": "stdout",
     "output_type": "stream",
     "text": [
      "record pos 248\n"
     ]
    },
    {
     "name": "stderr",
     "output_type": "stream",
     "text": [
      "INFO:spimagine.gui.glwidget | saving frame as /media/ivar/SSD700GB/rendering/output_249.png\n"
     ]
    },
    {
     "name": "stdout",
     "output_type": "stream",
     "text": [
      "record pos 249\n"
     ]
    },
    {
     "name": "stderr",
     "output_type": "stream",
     "text": [
      "INFO:spimagine.gui.glwidget | saving frame as /media/ivar/SSD700GB/rendering/output_250.png\n"
     ]
    },
    {
     "name": "stdout",
     "output_type": "stream",
     "text": [
      "record pos 250\n"
     ]
    },
    {
     "name": "stderr",
     "output_type": "stream",
     "text": [
      "INFO:spimagine.gui.glwidget | saving frame as /media/ivar/SSD700GB/rendering/output_251.png\n"
     ]
    },
    {
     "name": "stdout",
     "output_type": "stream",
     "text": [
      "record pos 251\n"
     ]
    },
    {
     "name": "stderr",
     "output_type": "stream",
     "text": [
      "INFO:spimagine.gui.glwidget | saving frame as /media/ivar/SSD700GB/rendering/output_252.png\n"
     ]
    },
    {
     "name": "stdout",
     "output_type": "stream",
     "text": [
      "record pos 252\n"
     ]
    },
    {
     "name": "stderr",
     "output_type": "stream",
     "text": [
      "INFO:spimagine.gui.glwidget | saving frame as /media/ivar/SSD700GB/rendering/output_253.png\n"
     ]
    },
    {
     "name": "stdout",
     "output_type": "stream",
     "text": [
      "record pos 253\n"
     ]
    },
    {
     "name": "stderr",
     "output_type": "stream",
     "text": [
      "INFO:spimagine.gui.glwidget | saving frame as /media/ivar/SSD700GB/rendering/output_254.png\n"
     ]
    },
    {
     "name": "stdout",
     "output_type": "stream",
     "text": [
      "record pos 254\n"
     ]
    },
    {
     "name": "stderr",
     "output_type": "stream",
     "text": [
      "INFO:spimagine.gui.glwidget | saving frame as /media/ivar/SSD700GB/rendering/output_255.png\n"
     ]
    },
    {
     "name": "stdout",
     "output_type": "stream",
     "text": [
      "record pos 255\n"
     ]
    },
    {
     "name": "stderr",
     "output_type": "stream",
     "text": [
      "INFO:spimagine.gui.glwidget | saving frame as /media/ivar/SSD700GB/rendering/output_256.png\n"
     ]
    },
    {
     "name": "stdout",
     "output_type": "stream",
     "text": [
      "record pos 256\n"
     ]
    },
    {
     "name": "stderr",
     "output_type": "stream",
     "text": [
      "INFO:spimagine.gui.glwidget | saving frame as /media/ivar/SSD700GB/rendering/output_257.png\n"
     ]
    },
    {
     "name": "stdout",
     "output_type": "stream",
     "text": [
      "record pos 257\n"
     ]
    },
    {
     "name": "stderr",
     "output_type": "stream",
     "text": [
      "INFO:spimagine.gui.glwidget | saving frame as /media/ivar/SSD700GB/rendering/output_258.png\n"
     ]
    },
    {
     "name": "stdout",
     "output_type": "stream",
     "text": [
      "record pos 258\n"
     ]
    },
    {
     "name": "stderr",
     "output_type": "stream",
     "text": [
      "INFO:spimagine.gui.glwidget | saving frame as /media/ivar/SSD700GB/rendering/output_259.png\n"
     ]
    },
    {
     "name": "stdout",
     "output_type": "stream",
     "text": [
      "record pos 259\n"
     ]
    },
    {
     "name": "stderr",
     "output_type": "stream",
     "text": [
      "INFO:spimagine.gui.glwidget | saving frame as /media/ivar/SSD700GB/rendering/output_260.png\n"
     ]
    },
    {
     "name": "stdout",
     "output_type": "stream",
     "text": [
      "record pos 260\n"
     ]
    },
    {
     "name": "stderr",
     "output_type": "stream",
     "text": [
      "INFO:spimagine.gui.glwidget | saving frame as /media/ivar/SSD700GB/rendering/output_261.png\n"
     ]
    },
    {
     "name": "stdout",
     "output_type": "stream",
     "text": [
      "record pos 261\n"
     ]
    },
    {
     "name": "stderr",
     "output_type": "stream",
     "text": [
      "INFO:spimagine.gui.glwidget | saving frame as /media/ivar/SSD700GB/rendering/output_262.png\n"
     ]
    },
    {
     "name": "stdout",
     "output_type": "stream",
     "text": [
      "record pos 262\n"
     ]
    },
    {
     "name": "stderr",
     "output_type": "stream",
     "text": [
      "INFO:spimagine.gui.glwidget | saving frame as /media/ivar/SSD700GB/rendering/output_263.png\n"
     ]
    },
    {
     "name": "stdout",
     "output_type": "stream",
     "text": [
      "record pos 263\n"
     ]
    },
    {
     "name": "stderr",
     "output_type": "stream",
     "text": [
      "INFO:spimagine.gui.glwidget | saving frame as /media/ivar/SSD700GB/rendering/output_264.png\n"
     ]
    },
    {
     "name": "stdout",
     "output_type": "stream",
     "text": [
      "record pos 264\n"
     ]
    },
    {
     "name": "stderr",
     "output_type": "stream",
     "text": [
      "INFO:spimagine.gui.glwidget | saving frame as /media/ivar/SSD700GB/rendering/output_265.png\n"
     ]
    },
    {
     "name": "stdout",
     "output_type": "stream",
     "text": [
      "record pos 265\n"
     ]
    },
    {
     "name": "stderr",
     "output_type": "stream",
     "text": [
      "INFO:spimagine.gui.glwidget | saving frame as /media/ivar/SSD700GB/rendering/output_266.png\n"
     ]
    },
    {
     "name": "stdout",
     "output_type": "stream",
     "text": [
      "record pos 266\n"
     ]
    },
    {
     "name": "stderr",
     "output_type": "stream",
     "text": [
      "INFO:spimagine.gui.glwidget | saving frame as /media/ivar/SSD700GB/rendering/output_267.png\n"
     ]
    },
    {
     "name": "stdout",
     "output_type": "stream",
     "text": [
      "record pos 267\n"
     ]
    },
    {
     "name": "stderr",
     "output_type": "stream",
     "text": [
      "INFO:spimagine.gui.glwidget | saving frame as /media/ivar/SSD700GB/rendering/output_268.png\n"
     ]
    },
    {
     "name": "stdout",
     "output_type": "stream",
     "text": [
      "record pos 268\n"
     ]
    },
    {
     "name": "stderr",
     "output_type": "stream",
     "text": [
      "INFO:spimagine.gui.glwidget | saving frame as /media/ivar/SSD700GB/rendering/output_269.png\n"
     ]
    },
    {
     "name": "stdout",
     "output_type": "stream",
     "text": [
      "record pos 269\n"
     ]
    },
    {
     "name": "stderr",
     "output_type": "stream",
     "text": [
      "INFO:spimagine.gui.glwidget | saving frame as /media/ivar/SSD700GB/rendering/output_270.png\n"
     ]
    },
    {
     "name": "stdout",
     "output_type": "stream",
     "text": [
      "record pos 270\n"
     ]
    },
    {
     "name": "stderr",
     "output_type": "stream",
     "text": [
      "INFO:spimagine.gui.glwidget | saving frame as /media/ivar/SSD700GB/rendering/output_271.png\n"
     ]
    },
    {
     "name": "stdout",
     "output_type": "stream",
     "text": [
      "record pos 271\n"
     ]
    },
    {
     "name": "stderr",
     "output_type": "stream",
     "text": [
      "INFO:spimagine.gui.glwidget | saving frame as /media/ivar/SSD700GB/rendering/output_272.png\n"
     ]
    },
    {
     "name": "stdout",
     "output_type": "stream",
     "text": [
      "record pos 272\n"
     ]
    },
    {
     "name": "stderr",
     "output_type": "stream",
     "text": [
      "INFO:spimagine.gui.glwidget | saving frame as /media/ivar/SSD700GB/rendering/output_273.png\n"
     ]
    },
    {
     "name": "stdout",
     "output_type": "stream",
     "text": [
      "record pos 273\n"
     ]
    },
    {
     "name": "stderr",
     "output_type": "stream",
     "text": [
      "INFO:spimagine.gui.glwidget | saving frame as /media/ivar/SSD700GB/rendering/output_274.png\n"
     ]
    },
    {
     "name": "stdout",
     "output_type": "stream",
     "text": [
      "record pos 274\n"
     ]
    },
    {
     "name": "stderr",
     "output_type": "stream",
     "text": [
      "INFO:spimagine.gui.glwidget | saving frame as /media/ivar/SSD700GB/rendering/output_275.png\n"
     ]
    },
    {
     "name": "stdout",
     "output_type": "stream",
     "text": [
      "record pos 275\n"
     ]
    },
    {
     "name": "stderr",
     "output_type": "stream",
     "text": [
      "INFO:spimagine.gui.glwidget | saving frame as /media/ivar/SSD700GB/rendering/output_276.png\n"
     ]
    },
    {
     "name": "stdout",
     "output_type": "stream",
     "text": [
      "record pos 276\n"
     ]
    },
    {
     "name": "stderr",
     "output_type": "stream",
     "text": [
      "INFO:spimagine.gui.glwidget | saving frame as /media/ivar/SSD700GB/rendering/output_277.png\n"
     ]
    },
    {
     "name": "stdout",
     "output_type": "stream",
     "text": [
      "record pos 277\n"
     ]
    },
    {
     "name": "stderr",
     "output_type": "stream",
     "text": [
      "INFO:spimagine.gui.glwidget | saving frame as /media/ivar/SSD700GB/rendering/output_278.png\n"
     ]
    },
    {
     "name": "stdout",
     "output_type": "stream",
     "text": [
      "record pos 278\n"
     ]
    },
    {
     "name": "stderr",
     "output_type": "stream",
     "text": [
      "INFO:spimagine.gui.glwidget | saving frame as /media/ivar/SSD700GB/rendering/output_279.png\n"
     ]
    },
    {
     "name": "stdout",
     "output_type": "stream",
     "text": [
      "record pos 279\n"
     ]
    },
    {
     "name": "stderr",
     "output_type": "stream",
     "text": [
      "INFO:spimagine.gui.glwidget | saving frame as /media/ivar/SSD700GB/rendering/output_280.png\n"
     ]
    },
    {
     "name": "stdout",
     "output_type": "stream",
     "text": [
      "record pos 280\n"
     ]
    },
    {
     "name": "stderr",
     "output_type": "stream",
     "text": [
      "INFO:spimagine.gui.glwidget | saving frame as /media/ivar/SSD700GB/rendering/output_281.png\n"
     ]
    },
    {
     "name": "stdout",
     "output_type": "stream",
     "text": [
      "record pos 281\n"
     ]
    },
    {
     "name": "stderr",
     "output_type": "stream",
     "text": [
      "INFO:spimagine.gui.glwidget | saving frame as /media/ivar/SSD700GB/rendering/output_282.png\n"
     ]
    },
    {
     "name": "stdout",
     "output_type": "stream",
     "text": [
      "record pos 282\n"
     ]
    },
    {
     "name": "stderr",
     "output_type": "stream",
     "text": [
      "INFO:spimagine.gui.glwidget | saving frame as /media/ivar/SSD700GB/rendering/output_283.png\n"
     ]
    },
    {
     "name": "stdout",
     "output_type": "stream",
     "text": [
      "record pos 283\n"
     ]
    },
    {
     "name": "stderr",
     "output_type": "stream",
     "text": [
      "INFO:spimagine.gui.glwidget | saving frame as /media/ivar/SSD700GB/rendering/output_284.png\n"
     ]
    },
    {
     "name": "stdout",
     "output_type": "stream",
     "text": [
      "record pos 284\n"
     ]
    },
    {
     "name": "stderr",
     "output_type": "stream",
     "text": [
      "INFO:spimagine.gui.glwidget | saving frame as /media/ivar/SSD700GB/rendering/output_285.png\n"
     ]
    },
    {
     "name": "stdout",
     "output_type": "stream",
     "text": [
      "record pos 285\n"
     ]
    },
    {
     "name": "stderr",
     "output_type": "stream",
     "text": [
      "INFO:spimagine.gui.glwidget | saving frame as /media/ivar/SSD700GB/rendering/output_286.png\n"
     ]
    },
    {
     "name": "stdout",
     "output_type": "stream",
     "text": [
      "record pos 286\n"
     ]
    },
    {
     "name": "stderr",
     "output_type": "stream",
     "text": [
      "INFO:spimagine.gui.glwidget | saving frame as /media/ivar/SSD700GB/rendering/output_287.png\n"
     ]
    },
    {
     "name": "stdout",
     "output_type": "stream",
     "text": [
      "record pos 287\n"
     ]
    },
    {
     "name": "stderr",
     "output_type": "stream",
     "text": [
      "INFO:spimagine.gui.glwidget | saving frame as /media/ivar/SSD700GB/rendering/output_288.png\n"
     ]
    },
    {
     "name": "stdout",
     "output_type": "stream",
     "text": [
      "record pos 288\n"
     ]
    },
    {
     "name": "stderr",
     "output_type": "stream",
     "text": [
      "INFO:spimagine.gui.glwidget | saving frame as /media/ivar/SSD700GB/rendering/output_289.png\n"
     ]
    },
    {
     "name": "stdout",
     "output_type": "stream",
     "text": [
      "record pos 289\n"
     ]
    },
    {
     "name": "stderr",
     "output_type": "stream",
     "text": [
      "INFO:spimagine.gui.glwidget | saving frame as /media/ivar/SSD700GB/rendering/output_290.png\n"
     ]
    },
    {
     "name": "stdout",
     "output_type": "stream",
     "text": [
      "record pos 290\n"
     ]
    },
    {
     "name": "stderr",
     "output_type": "stream",
     "text": [
      "INFO:spimagine.gui.glwidget | saving frame as /media/ivar/SSD700GB/rendering/output_291.png\n"
     ]
    },
    {
     "name": "stdout",
     "output_type": "stream",
     "text": [
      "record pos 291\n"
     ]
    },
    {
     "name": "stderr",
     "output_type": "stream",
     "text": [
      "INFO:spimagine.gui.glwidget | saving frame as /media/ivar/SSD700GB/rendering/output_292.png\n"
     ]
    },
    {
     "name": "stdout",
     "output_type": "stream",
     "text": [
      "record pos 292\n"
     ]
    },
    {
     "name": "stderr",
     "output_type": "stream",
     "text": [
      "INFO:spimagine.gui.glwidget | saving frame as /media/ivar/SSD700GB/rendering/output_293.png\n"
     ]
    },
    {
     "name": "stdout",
     "output_type": "stream",
     "text": [
      "record pos 293\n"
     ]
    },
    {
     "name": "stderr",
     "output_type": "stream",
     "text": [
      "INFO:spimagine.gui.glwidget | saving frame as /media/ivar/SSD700GB/rendering/output_294.png\n"
     ]
    },
    {
     "name": "stdout",
     "output_type": "stream",
     "text": [
      "record pos 294\n"
     ]
    },
    {
     "name": "stderr",
     "output_type": "stream",
     "text": [
      "INFO:spimagine.gui.glwidget | saving frame as /media/ivar/SSD700GB/rendering/output_295.png\n"
     ]
    },
    {
     "name": "stdout",
     "output_type": "stream",
     "text": [
      "record pos 295\n"
     ]
    },
    {
     "name": "stderr",
     "output_type": "stream",
     "text": [
      "INFO:spimagine.gui.glwidget | saving frame as /media/ivar/SSD700GB/rendering/output_296.png\n"
     ]
    },
    {
     "name": "stdout",
     "output_type": "stream",
     "text": [
      "record pos 296\n"
     ]
    },
    {
     "name": "stderr",
     "output_type": "stream",
     "text": [
      "INFO:spimagine.gui.glwidget | saving frame as /media/ivar/SSD700GB/rendering/output_297.png\n"
     ]
    },
    {
     "name": "stdout",
     "output_type": "stream",
     "text": [
      "record pos 297\n"
     ]
    },
    {
     "name": "stderr",
     "output_type": "stream",
     "text": [
      "INFO:spimagine.gui.glwidget | saving frame as /media/ivar/SSD700GB/rendering/output_298.png\n"
     ]
    },
    {
     "name": "stdout",
     "output_type": "stream",
     "text": [
      "record pos 298\n"
     ]
    },
    {
     "name": "stderr",
     "output_type": "stream",
     "text": [
      "INFO:spimagine.gui.glwidget | saving frame as /media/ivar/SSD700GB/rendering/output_299.png\n"
     ]
    },
    {
     "name": "stdout",
     "output_type": "stream",
     "text": [
      "record pos 299\n"
     ]
    },
    {
     "name": "stderr",
     "output_type": "stream",
     "text": [
      "INFO:spimagine.gui.glwidget | saving frame as /media/ivar/SSD700GB/rendering/output_300.png\n"
     ]
    },
    {
     "name": "stdout",
     "output_type": "stream",
     "text": [
      "record pos 300\n"
     ]
    },
    {
     "name": "stderr",
     "output_type": "stream",
     "text": [
      "INFO:spimagine.gui.glwidget | saving frame as /media/ivar/SSD700GB/rendering/output_301.png\n"
     ]
    },
    {
     "name": "stdout",
     "output_type": "stream",
     "text": [
      "record pos 301\n"
     ]
    },
    {
     "name": "stderr",
     "output_type": "stream",
     "text": [
      "INFO:spimagine.gui.glwidget | saving frame as /media/ivar/SSD700GB/rendering/output_302.png\n"
     ]
    },
    {
     "name": "stdout",
     "output_type": "stream",
     "text": [
      "record pos 302\n"
     ]
    },
    {
     "name": "stderr",
     "output_type": "stream",
     "text": [
      "INFO:spimagine.gui.glwidget | saving frame as /media/ivar/SSD700GB/rendering/output_303.png\n"
     ]
    },
    {
     "name": "stdout",
     "output_type": "stream",
     "text": [
      "record pos 303\n"
     ]
    },
    {
     "name": "stderr",
     "output_type": "stream",
     "text": [
      "INFO:spimagine.gui.glwidget | saving frame as /media/ivar/SSD700GB/rendering/output_304.png\n"
     ]
    },
    {
     "name": "stdout",
     "output_type": "stream",
     "text": [
      "record pos 304\n"
     ]
    },
    {
     "name": "stderr",
     "output_type": "stream",
     "text": [
      "INFO:spimagine.gui.glwidget | saving frame as /media/ivar/SSD700GB/rendering/output_305.png\n"
     ]
    },
    {
     "name": "stdout",
     "output_type": "stream",
     "text": [
      "record pos 305\n"
     ]
    },
    {
     "name": "stderr",
     "output_type": "stream",
     "text": [
      "INFO:spimagine.gui.glwidget | saving frame as /media/ivar/SSD700GB/rendering/output_306.png\n"
     ]
    },
    {
     "name": "stdout",
     "output_type": "stream",
     "text": [
      "record pos 306\n"
     ]
    },
    {
     "name": "stderr",
     "output_type": "stream",
     "text": [
      "INFO:spimagine.gui.glwidget | saving frame as /media/ivar/SSD700GB/rendering/output_307.png\n"
     ]
    },
    {
     "name": "stdout",
     "output_type": "stream",
     "text": [
      "record pos 307\n"
     ]
    },
    {
     "name": "stderr",
     "output_type": "stream",
     "text": [
      "INFO:spimagine.gui.glwidget | saving frame as /media/ivar/SSD700GB/rendering/output_308.png\n"
     ]
    },
    {
     "name": "stdout",
     "output_type": "stream",
     "text": [
      "record pos 308\n"
     ]
    },
    {
     "name": "stderr",
     "output_type": "stream",
     "text": [
      "INFO:spimagine.gui.glwidget | saving frame as /media/ivar/SSD700GB/rendering/output_309.png\n"
     ]
    },
    {
     "name": "stdout",
     "output_type": "stream",
     "text": [
      "record pos 309\n"
     ]
    },
    {
     "name": "stderr",
     "output_type": "stream",
     "text": [
      "INFO:spimagine.gui.glwidget | saving frame as /media/ivar/SSD700GB/rendering/output_310.png\n"
     ]
    },
    {
     "name": "stdout",
     "output_type": "stream",
     "text": [
      "record pos 310\n"
     ]
    },
    {
     "name": "stderr",
     "output_type": "stream",
     "text": [
      "INFO:spimagine.gui.glwidget | saving frame as /media/ivar/SSD700GB/rendering/output_311.png\n"
     ]
    },
    {
     "name": "stdout",
     "output_type": "stream",
     "text": [
      "record pos 311\n"
     ]
    },
    {
     "name": "stderr",
     "output_type": "stream",
     "text": [
      "INFO:spimagine.gui.glwidget | saving frame as /media/ivar/SSD700GB/rendering/output_312.png\n"
     ]
    },
    {
     "name": "stdout",
     "output_type": "stream",
     "text": [
      "record pos 312\n"
     ]
    },
    {
     "name": "stderr",
     "output_type": "stream",
     "text": [
      "INFO:spimagine.gui.glwidget | saving frame as /media/ivar/SSD700GB/rendering/output_313.png\n"
     ]
    },
    {
     "name": "stdout",
     "output_type": "stream",
     "text": [
      "record pos 313\n"
     ]
    },
    {
     "name": "stderr",
     "output_type": "stream",
     "text": [
      "INFO:spimagine.gui.glwidget | saving frame as /media/ivar/SSD700GB/rendering/output_314.png\n"
     ]
    },
    {
     "name": "stdout",
     "output_type": "stream",
     "text": [
      "record pos 314\n"
     ]
    },
    {
     "name": "stderr",
     "output_type": "stream",
     "text": [
      "INFO:spimagine.gui.glwidget | saving frame as /media/ivar/SSD700GB/rendering/output_315.png\n"
     ]
    },
    {
     "name": "stdout",
     "output_type": "stream",
     "text": [
      "record pos 315\n"
     ]
    },
    {
     "name": "stderr",
     "output_type": "stream",
     "text": [
      "INFO:spimagine.gui.glwidget | saving frame as /media/ivar/SSD700GB/rendering/output_316.png\n"
     ]
    },
    {
     "name": "stdout",
     "output_type": "stream",
     "text": [
      "record pos 316\n"
     ]
    },
    {
     "name": "stderr",
     "output_type": "stream",
     "text": [
      "INFO:spimagine.gui.glwidget | saving frame as /media/ivar/SSD700GB/rendering/output_317.png\n"
     ]
    },
    {
     "name": "stdout",
     "output_type": "stream",
     "text": [
      "record pos 317\n"
     ]
    },
    {
     "name": "stderr",
     "output_type": "stream",
     "text": [
      "INFO:spimagine.gui.glwidget | saving frame as /media/ivar/SSD700GB/rendering/output_318.png\n"
     ]
    },
    {
     "name": "stdout",
     "output_type": "stream",
     "text": [
      "record pos 318\n"
     ]
    },
    {
     "name": "stderr",
     "output_type": "stream",
     "text": [
      "INFO:spimagine.gui.glwidget | saving frame as /media/ivar/SSD700GB/rendering/output_319.png\n"
     ]
    },
    {
     "name": "stdout",
     "output_type": "stream",
     "text": [
      "record pos 319\n"
     ]
    },
    {
     "name": "stderr",
     "output_type": "stream",
     "text": [
      "INFO:spimagine.gui.glwidget | saving frame as /media/ivar/SSD700GB/rendering/output_320.png\n"
     ]
    },
    {
     "name": "stdout",
     "output_type": "stream",
     "text": [
      "record pos 320\n"
     ]
    },
    {
     "name": "stderr",
     "output_type": "stream",
     "text": [
      "INFO:spimagine.gui.glwidget | saving frame as /media/ivar/SSD700GB/rendering/output_321.png\n"
     ]
    },
    {
     "name": "stdout",
     "output_type": "stream",
     "text": [
      "record pos 321\n"
     ]
    },
    {
     "name": "stderr",
     "output_type": "stream",
     "text": [
      "INFO:spimagine.gui.glwidget | saving frame as /media/ivar/SSD700GB/rendering/output_322.png\n"
     ]
    },
    {
     "name": "stdout",
     "output_type": "stream",
     "text": [
      "record pos 322\n"
     ]
    },
    {
     "name": "stderr",
     "output_type": "stream",
     "text": [
      "INFO:spimagine.gui.glwidget | saving frame as /media/ivar/SSD700GB/rendering/output_323.png\n"
     ]
    },
    {
     "name": "stdout",
     "output_type": "stream",
     "text": [
      "record pos 323\n"
     ]
    },
    {
     "name": "stderr",
     "output_type": "stream",
     "text": [
      "INFO:spimagine.gui.glwidget | saving frame as /media/ivar/SSD700GB/rendering/output_324.png\n"
     ]
    },
    {
     "name": "stdout",
     "output_type": "stream",
     "text": [
      "record pos 324\n"
     ]
    },
    {
     "name": "stderr",
     "output_type": "stream",
     "text": [
      "INFO:spimagine.gui.glwidget | saving frame as /media/ivar/SSD700GB/rendering/output_325.png\n"
     ]
    },
    {
     "name": "stdout",
     "output_type": "stream",
     "text": [
      "record pos 325\n"
     ]
    },
    {
     "name": "stderr",
     "output_type": "stream",
     "text": [
      "INFO:spimagine.gui.glwidget | saving frame as /media/ivar/SSD700GB/rendering/output_326.png\n"
     ]
    },
    {
     "name": "stdout",
     "output_type": "stream",
     "text": [
      "record pos 326\n"
     ]
    },
    {
     "name": "stderr",
     "output_type": "stream",
     "text": [
      "INFO:spimagine.gui.glwidget | saving frame as /media/ivar/SSD700GB/rendering/output_327.png\n"
     ]
    },
    {
     "name": "stdout",
     "output_type": "stream",
     "text": [
      "record pos 327\n"
     ]
    },
    {
     "name": "stderr",
     "output_type": "stream",
     "text": [
      "INFO:spimagine.gui.glwidget | saving frame as /media/ivar/SSD700GB/rendering/output_328.png\n"
     ]
    },
    {
     "name": "stdout",
     "output_type": "stream",
     "text": [
      "record pos 328\n"
     ]
    },
    {
     "name": "stderr",
     "output_type": "stream",
     "text": [
      "INFO:spimagine.gui.glwidget | saving frame as /media/ivar/SSD700GB/rendering/output_329.png\n"
     ]
    },
    {
     "name": "stdout",
     "output_type": "stream",
     "text": [
      "record pos 329\n"
     ]
    },
    {
     "name": "stderr",
     "output_type": "stream",
     "text": [
      "INFO:spimagine.gui.glwidget | saving frame as /media/ivar/SSD700GB/rendering/output_330.png\n"
     ]
    },
    {
     "name": "stdout",
     "output_type": "stream",
     "text": [
      "record pos 330\n"
     ]
    },
    {
     "name": "stderr",
     "output_type": "stream",
     "text": [
      "INFO:spimagine.gui.glwidget | saving frame as /media/ivar/SSD700GB/rendering/output_331.png\n"
     ]
    },
    {
     "name": "stdout",
     "output_type": "stream",
     "text": [
      "record pos 331\n"
     ]
    },
    {
     "name": "stderr",
     "output_type": "stream",
     "text": [
      "INFO:spimagine.gui.glwidget | saving frame as /media/ivar/SSD700GB/rendering/output_332.png\n"
     ]
    },
    {
     "name": "stdout",
     "output_type": "stream",
     "text": [
      "record pos 332\n"
     ]
    },
    {
     "name": "stderr",
     "output_type": "stream",
     "text": [
      "INFO:spimagine.gui.glwidget | saving frame as /media/ivar/SSD700GB/rendering/output_333.png\n"
     ]
    },
    {
     "name": "stdout",
     "output_type": "stream",
     "text": [
      "record pos 333\n"
     ]
    },
    {
     "name": "stderr",
     "output_type": "stream",
     "text": [
      "INFO:spimagine.gui.glwidget | saving frame as /media/ivar/SSD700GB/rendering/output_334.png\n"
     ]
    },
    {
     "name": "stdout",
     "output_type": "stream",
     "text": [
      "record pos 334\n"
     ]
    },
    {
     "name": "stderr",
     "output_type": "stream",
     "text": [
      "INFO:spimagine.gui.glwidget | saving frame as /media/ivar/SSD700GB/rendering/output_335.png\n"
     ]
    },
    {
     "name": "stdout",
     "output_type": "stream",
     "text": [
      "record pos 335\n"
     ]
    },
    {
     "name": "stderr",
     "output_type": "stream",
     "text": [
      "INFO:spimagine.gui.glwidget | saving frame as /media/ivar/SSD700GB/rendering/output_336.png\n"
     ]
    },
    {
     "name": "stdout",
     "output_type": "stream",
     "text": [
      "record pos 336\n"
     ]
    },
    {
     "name": "stderr",
     "output_type": "stream",
     "text": [
      "INFO:spimagine.gui.glwidget | saving frame as /media/ivar/SSD700GB/rendering/output_337.png\n"
     ]
    },
    {
     "name": "stdout",
     "output_type": "stream",
     "text": [
      "record pos 337\n"
     ]
    },
    {
     "name": "stderr",
     "output_type": "stream",
     "text": [
      "INFO:spimagine.gui.glwidget | saving frame as /media/ivar/SSD700GB/rendering/output_338.png\n"
     ]
    },
    {
     "name": "stdout",
     "output_type": "stream",
     "text": [
      "record pos 338\n"
     ]
    },
    {
     "name": "stderr",
     "output_type": "stream",
     "text": [
      "INFO:spimagine.gui.glwidget | saving frame as /media/ivar/SSD700GB/rendering/output_339.png\n"
     ]
    },
    {
     "name": "stdout",
     "output_type": "stream",
     "text": [
      "record pos 339\n"
     ]
    },
    {
     "name": "stderr",
     "output_type": "stream",
     "text": [
      "INFO:spimagine.gui.glwidget | saving frame as /media/ivar/SSD700GB/rendering/output_340.png\n"
     ]
    },
    {
     "name": "stdout",
     "output_type": "stream",
     "text": [
      "record pos 340\n"
     ]
    },
    {
     "name": "stderr",
     "output_type": "stream",
     "text": [
      "INFO:spimagine.gui.glwidget | saving frame as /media/ivar/SSD700GB/rendering/output_341.png\n"
     ]
    },
    {
     "name": "stdout",
     "output_type": "stream",
     "text": [
      "record pos 341\n"
     ]
    },
    {
     "name": "stderr",
     "output_type": "stream",
     "text": [
      "INFO:spimagine.gui.glwidget | saving frame as /media/ivar/SSD700GB/rendering/output_342.png\n"
     ]
    },
    {
     "name": "stdout",
     "output_type": "stream",
     "text": [
      "record pos 342\n"
     ]
    },
    {
     "name": "stderr",
     "output_type": "stream",
     "text": [
      "INFO:spimagine.gui.glwidget | saving frame as /media/ivar/SSD700GB/rendering/output_343.png\n"
     ]
    },
    {
     "name": "stdout",
     "output_type": "stream",
     "text": [
      "record pos 343\n"
     ]
    },
    {
     "name": "stderr",
     "output_type": "stream",
     "text": [
      "INFO:spimagine.gui.glwidget | saving frame as /media/ivar/SSD700GB/rendering/output_344.png\n"
     ]
    },
    {
     "name": "stdout",
     "output_type": "stream",
     "text": [
      "record pos 344\n"
     ]
    },
    {
     "name": "stderr",
     "output_type": "stream",
     "text": [
      "INFO:spimagine.gui.glwidget | saving frame as /media/ivar/SSD700GB/rendering/output_345.png\n"
     ]
    },
    {
     "name": "stdout",
     "output_type": "stream",
     "text": [
      "record pos 345\n"
     ]
    },
    {
     "name": "stderr",
     "output_type": "stream",
     "text": [
      "INFO:spimagine.gui.glwidget | saving frame as /media/ivar/SSD700GB/rendering/output_346.png\n"
     ]
    },
    {
     "name": "stdout",
     "output_type": "stream",
     "text": [
      "record pos 346\n"
     ]
    },
    {
     "name": "stderr",
     "output_type": "stream",
     "text": [
      "INFO:spimagine.gui.glwidget | saving frame as /media/ivar/SSD700GB/rendering/output_347.png\n"
     ]
    },
    {
     "name": "stdout",
     "output_type": "stream",
     "text": [
      "record pos 347\n"
     ]
    },
    {
     "name": "stderr",
     "output_type": "stream",
     "text": [
      "INFO:spimagine.gui.glwidget | saving frame as /media/ivar/SSD700GB/rendering/output_348.png\n"
     ]
    },
    {
     "name": "stdout",
     "output_type": "stream",
     "text": [
      "record pos 348\n"
     ]
    },
    {
     "name": "stderr",
     "output_type": "stream",
     "text": [
      "INFO:spimagine.gui.glwidget | saving frame as /media/ivar/SSD700GB/rendering/output_349.png\n"
     ]
    },
    {
     "name": "stdout",
     "output_type": "stream",
     "text": [
      "record pos 349\n"
     ]
    },
    {
     "name": "stderr",
     "output_type": "stream",
     "text": [
      "INFO:spimagine.gui.glwidget | saving frame as /media/ivar/SSD700GB/rendering/output_350.png\n"
     ]
    },
    {
     "name": "stdout",
     "output_type": "stream",
     "text": [
      "record pos 350\n"
     ]
    },
    {
     "name": "stderr",
     "output_type": "stream",
     "text": [
      "INFO:spimagine.gui.glwidget | saving frame as /media/ivar/SSD700GB/rendering/output_351.png\n"
     ]
    },
    {
     "name": "stdout",
     "output_type": "stream",
     "text": [
      "record pos 351\n"
     ]
    },
    {
     "name": "stderr",
     "output_type": "stream",
     "text": [
      "INFO:spimagine.gui.glwidget | saving frame as /media/ivar/SSD700GB/rendering/output_352.png\n"
     ]
    },
    {
     "name": "stdout",
     "output_type": "stream",
     "text": [
      "record pos 352\n"
     ]
    },
    {
     "name": "stderr",
     "output_type": "stream",
     "text": [
      "INFO:spimagine.gui.glwidget | saving frame as /media/ivar/SSD700GB/rendering/output_353.png\n"
     ]
    },
    {
     "name": "stdout",
     "output_type": "stream",
     "text": [
      "record pos 353\n"
     ]
    },
    {
     "name": "stderr",
     "output_type": "stream",
     "text": [
      "INFO:spimagine.gui.glwidget | saving frame as /media/ivar/SSD700GB/rendering/output_354.png\n"
     ]
    },
    {
     "name": "stdout",
     "output_type": "stream",
     "text": [
      "record pos 354\n"
     ]
    },
    {
     "name": "stderr",
     "output_type": "stream",
     "text": [
      "INFO:spimagine.gui.glwidget | saving frame as /media/ivar/SSD700GB/rendering/output_355.png\n"
     ]
    },
    {
     "name": "stdout",
     "output_type": "stream",
     "text": [
      "record pos 355\n"
     ]
    },
    {
     "name": "stderr",
     "output_type": "stream",
     "text": [
      "INFO:spimagine.gui.glwidget | saving frame as /media/ivar/SSD700GB/rendering/output_356.png\n"
     ]
    },
    {
     "name": "stdout",
     "output_type": "stream",
     "text": [
      "record pos 356\n"
     ]
    },
    {
     "name": "stderr",
     "output_type": "stream",
     "text": [
      "INFO:spimagine.gui.glwidget | saving frame as /media/ivar/SSD700GB/rendering/output_357.png\n"
     ]
    },
    {
     "name": "stdout",
     "output_type": "stream",
     "text": [
      "record pos 357\n"
     ]
    },
    {
     "name": "stderr",
     "output_type": "stream",
     "text": [
      "INFO:spimagine.gui.glwidget | saving frame as /media/ivar/SSD700GB/rendering/output_358.png\n"
     ]
    },
    {
     "name": "stdout",
     "output_type": "stream",
     "text": [
      "record pos 358\n"
     ]
    },
    {
     "name": "stderr",
     "output_type": "stream",
     "text": [
      "INFO:spimagine.gui.glwidget | saving frame as /media/ivar/SSD700GB/rendering/output_359.png\n"
     ]
    },
    {
     "name": "stdout",
     "output_type": "stream",
     "text": [
      "record pos 359\n"
     ]
    },
    {
     "name": "stderr",
     "output_type": "stream",
     "text": [
      "INFO:spimagine.gui.glwidget | saving frame as /media/ivar/SSD700GB/rendering/output_360.png\n"
     ]
    },
    {
     "name": "stdout",
     "output_type": "stream",
     "text": [
      "record pos 360\n"
     ]
    },
    {
     "name": "stderr",
     "output_type": "stream",
     "text": [
      "INFO:spimagine.gui.glwidget | saving frame as /media/ivar/SSD700GB/rendering/output_361.png\n"
     ]
    },
    {
     "name": "stdout",
     "output_type": "stream",
     "text": [
      "record pos 361\n"
     ]
    },
    {
     "name": "stderr",
     "output_type": "stream",
     "text": [
      "INFO:spimagine.gui.glwidget | saving frame as /media/ivar/SSD700GB/rendering/output_362.png\n"
     ]
    },
    {
     "name": "stdout",
     "output_type": "stream",
     "text": [
      "record pos 362\n"
     ]
    },
    {
     "name": "stderr",
     "output_type": "stream",
     "text": [
      "INFO:spimagine.gui.glwidget | saving frame as /media/ivar/SSD700GB/rendering/output_363.png\n"
     ]
    },
    {
     "name": "stdout",
     "output_type": "stream",
     "text": [
      "record pos 363\n"
     ]
    },
    {
     "name": "stderr",
     "output_type": "stream",
     "text": [
      "INFO:spimagine.gui.glwidget | saving frame as /media/ivar/SSD700GB/rendering/output_364.png\n"
     ]
    },
    {
     "name": "stdout",
     "output_type": "stream",
     "text": [
      "record pos 364\n"
     ]
    },
    {
     "name": "stderr",
     "output_type": "stream",
     "text": [
      "INFO:spimagine.gui.glwidget | saving frame as /media/ivar/SSD700GB/rendering/output_365.png\n"
     ]
    },
    {
     "name": "stdout",
     "output_type": "stream",
     "text": [
      "record pos 365\n"
     ]
    },
    {
     "name": "stderr",
     "output_type": "stream",
     "text": [
      "INFO:spimagine.gui.glwidget | saving frame as /media/ivar/SSD700GB/rendering/output_366.png\n"
     ]
    },
    {
     "name": "stdout",
     "output_type": "stream",
     "text": [
      "record pos 366\n"
     ]
    },
    {
     "name": "stderr",
     "output_type": "stream",
     "text": [
      "INFO:spimagine.gui.glwidget | saving frame as /media/ivar/SSD700GB/rendering/output_367.png\n"
     ]
    },
    {
     "name": "stdout",
     "output_type": "stream",
     "text": [
      "record pos 367\n"
     ]
    },
    {
     "name": "stderr",
     "output_type": "stream",
     "text": [
      "INFO:spimagine.gui.glwidget | saving frame as /media/ivar/SSD700GB/rendering/output_368.png\n"
     ]
    },
    {
     "name": "stdout",
     "output_type": "stream",
     "text": [
      "record pos 368\n"
     ]
    },
    {
     "name": "stderr",
     "output_type": "stream",
     "text": [
      "INFO:spimagine.gui.glwidget | saving frame as /media/ivar/SSD700GB/rendering/output_369.png\n"
     ]
    },
    {
     "name": "stdout",
     "output_type": "stream",
     "text": [
      "record pos 369\n"
     ]
    },
    {
     "name": "stderr",
     "output_type": "stream",
     "text": [
      "INFO:spimagine.gui.glwidget | saving frame as /media/ivar/SSD700GB/rendering/output_370.png\n"
     ]
    },
    {
     "name": "stdout",
     "output_type": "stream",
     "text": [
      "record pos 370\n"
     ]
    },
    {
     "name": "stderr",
     "output_type": "stream",
     "text": [
      "INFO:spimagine.gui.glwidget | saving frame as /media/ivar/SSD700GB/rendering/output_371.png\n"
     ]
    },
    {
     "name": "stdout",
     "output_type": "stream",
     "text": [
      "record pos 371\n"
     ]
    },
    {
     "name": "stderr",
     "output_type": "stream",
     "text": [
      "INFO:spimagine.gui.glwidget | saving frame as /media/ivar/SSD700GB/rendering/output_372.png\n"
     ]
    },
    {
     "name": "stdout",
     "output_type": "stream",
     "text": [
      "record pos 372\n"
     ]
    },
    {
     "name": "stderr",
     "output_type": "stream",
     "text": [
      "INFO:spimagine.gui.glwidget | saving frame as /media/ivar/SSD700GB/rendering/output_373.png\n"
     ]
    },
    {
     "name": "stdout",
     "output_type": "stream",
     "text": [
      "record pos 373\n"
     ]
    },
    {
     "name": "stderr",
     "output_type": "stream",
     "text": [
      "INFO:spimagine.gui.glwidget | saving frame as /media/ivar/SSD700GB/rendering/output_374.png\n"
     ]
    },
    {
     "name": "stdout",
     "output_type": "stream",
     "text": [
      "record pos 374\n"
     ]
    },
    {
     "name": "stderr",
     "output_type": "stream",
     "text": [
      "INFO:spimagine.gui.glwidget | saving frame as /media/ivar/SSD700GB/rendering/output_375.png\n"
     ]
    },
    {
     "name": "stdout",
     "output_type": "stream",
     "text": [
      "record pos 375\n"
     ]
    },
    {
     "name": "stderr",
     "output_type": "stream",
     "text": [
      "INFO:spimagine.gui.glwidget | saving frame as /media/ivar/SSD700GB/rendering/output_376.png\n"
     ]
    },
    {
     "name": "stdout",
     "output_type": "stream",
     "text": [
      "record pos 376\n"
     ]
    },
    {
     "name": "stderr",
     "output_type": "stream",
     "text": [
      "INFO:spimagine.gui.glwidget | saving frame as /media/ivar/SSD700GB/rendering/output_377.png\n"
     ]
    },
    {
     "name": "stdout",
     "output_type": "stream",
     "text": [
      "record pos 377\n"
     ]
    },
    {
     "name": "stderr",
     "output_type": "stream",
     "text": [
      "INFO:spimagine.gui.glwidget | saving frame as /media/ivar/SSD700GB/rendering/output_378.png\n"
     ]
    },
    {
     "name": "stdout",
     "output_type": "stream",
     "text": [
      "record pos 378\n"
     ]
    },
    {
     "name": "stderr",
     "output_type": "stream",
     "text": [
      "INFO:spimagine.gui.glwidget | saving frame as /media/ivar/SSD700GB/rendering/output_379.png\n"
     ]
    },
    {
     "name": "stdout",
     "output_type": "stream",
     "text": [
      "record pos 379\n"
     ]
    },
    {
     "name": "stderr",
     "output_type": "stream",
     "text": [
      "INFO:spimagine.gui.glwidget | saving frame as /media/ivar/SSD700GB/rendering/output_380.png\n"
     ]
    },
    {
     "name": "stdout",
     "output_type": "stream",
     "text": [
      "record pos 380\n"
     ]
    },
    {
     "name": "stderr",
     "output_type": "stream",
     "text": [
      "INFO:spimagine.gui.glwidget | saving frame as /media/ivar/SSD700GB/rendering/output_381.png\n"
     ]
    },
    {
     "name": "stdout",
     "output_type": "stream",
     "text": [
      "record pos 381\n"
     ]
    },
    {
     "name": "stderr",
     "output_type": "stream",
     "text": [
      "INFO:spimagine.gui.glwidget | saving frame as /media/ivar/SSD700GB/rendering/output_382.png\n"
     ]
    },
    {
     "name": "stdout",
     "output_type": "stream",
     "text": [
      "record pos 382\n"
     ]
    },
    {
     "name": "stderr",
     "output_type": "stream",
     "text": [
      "INFO:spimagine.gui.glwidget | saving frame as /media/ivar/SSD700GB/rendering/output_383.png\n"
     ]
    },
    {
     "name": "stdout",
     "output_type": "stream",
     "text": [
      "record pos 383\n"
     ]
    },
    {
     "name": "stderr",
     "output_type": "stream",
     "text": [
      "INFO:spimagine.gui.glwidget | saving frame as /media/ivar/SSD700GB/rendering/output_384.png\n"
     ]
    },
    {
     "name": "stdout",
     "output_type": "stream",
     "text": [
      "record pos 384\n"
     ]
    },
    {
     "name": "stderr",
     "output_type": "stream",
     "text": [
      "INFO:spimagine.gui.glwidget | saving frame as /media/ivar/SSD700GB/rendering/output_385.png\n"
     ]
    },
    {
     "name": "stdout",
     "output_type": "stream",
     "text": [
      "record pos 385\n"
     ]
    },
    {
     "name": "stderr",
     "output_type": "stream",
     "text": [
      "INFO:spimagine.gui.glwidget | saving frame as /media/ivar/SSD700GB/rendering/output_386.png\n"
     ]
    },
    {
     "name": "stdout",
     "output_type": "stream",
     "text": [
      "record pos 386\n"
     ]
    },
    {
     "name": "stderr",
     "output_type": "stream",
     "text": [
      "INFO:spimagine.gui.glwidget | saving frame as /media/ivar/SSD700GB/rendering/output_387.png\n"
     ]
    },
    {
     "name": "stdout",
     "output_type": "stream",
     "text": [
      "record pos 387\n"
     ]
    },
    {
     "name": "stderr",
     "output_type": "stream",
     "text": [
      "INFO:spimagine.gui.glwidget | saving frame as /media/ivar/SSD700GB/rendering/output_388.png\n"
     ]
    },
    {
     "name": "stdout",
     "output_type": "stream",
     "text": [
      "record pos 388\n"
     ]
    },
    {
     "name": "stderr",
     "output_type": "stream",
     "text": [
      "INFO:spimagine.gui.glwidget | saving frame as /media/ivar/SSD700GB/rendering/output_389.png\n"
     ]
    },
    {
     "name": "stdout",
     "output_type": "stream",
     "text": [
      "record pos 389\n"
     ]
    },
    {
     "name": "stderr",
     "output_type": "stream",
     "text": [
      "INFO:spimagine.gui.glwidget | saving frame as /media/ivar/SSD700GB/rendering/output_390.png\n"
     ]
    },
    {
     "name": "stdout",
     "output_type": "stream",
     "text": [
      "record pos 390\n"
     ]
    },
    {
     "name": "stderr",
     "output_type": "stream",
     "text": [
      "INFO:spimagine.gui.glwidget | saving frame as /media/ivar/SSD700GB/rendering/output_391.png\n"
     ]
    },
    {
     "name": "stdout",
     "output_type": "stream",
     "text": [
      "record pos 391\n"
     ]
    },
    {
     "name": "stderr",
     "output_type": "stream",
     "text": [
      "INFO:spimagine.gui.glwidget | saving frame as /media/ivar/SSD700GB/rendering/output_392.png\n"
     ]
    },
    {
     "name": "stdout",
     "output_type": "stream",
     "text": [
      "record pos 392\n"
     ]
    },
    {
     "name": "stderr",
     "output_type": "stream",
     "text": [
      "INFO:spimagine.gui.glwidget | saving frame as /media/ivar/SSD700GB/rendering/output_393.png\n"
     ]
    },
    {
     "name": "stdout",
     "output_type": "stream",
     "text": [
      "record pos 393\n"
     ]
    },
    {
     "name": "stderr",
     "output_type": "stream",
     "text": [
      "INFO:spimagine.gui.glwidget | saving frame as /media/ivar/SSD700GB/rendering/output_394.png\n"
     ]
    },
    {
     "name": "stdout",
     "output_type": "stream",
     "text": [
      "record pos 394\n"
     ]
    },
    {
     "name": "stderr",
     "output_type": "stream",
     "text": [
      "INFO:spimagine.gui.glwidget | saving frame as /media/ivar/SSD700GB/rendering/output_395.png\n"
     ]
    },
    {
     "name": "stdout",
     "output_type": "stream",
     "text": [
      "record pos 395\n"
     ]
    },
    {
     "name": "stderr",
     "output_type": "stream",
     "text": [
      "INFO:spimagine.gui.glwidget | saving frame as /media/ivar/SSD700GB/rendering/output_396.png\n"
     ]
    },
    {
     "name": "stdout",
     "output_type": "stream",
     "text": [
      "record pos 396\n"
     ]
    },
    {
     "name": "stderr",
     "output_type": "stream",
     "text": [
      "INFO:spimagine.gui.glwidget | saving frame as /media/ivar/SSD700GB/rendering/output_397.png\n"
     ]
    },
    {
     "name": "stdout",
     "output_type": "stream",
     "text": [
      "record pos 397\n"
     ]
    },
    {
     "name": "stderr",
     "output_type": "stream",
     "text": [
      "INFO:spimagine.gui.glwidget | saving frame as /media/ivar/SSD700GB/rendering/output_398.png\n"
     ]
    },
    {
     "name": "stdout",
     "output_type": "stream",
     "text": [
      "record pos 398\n"
     ]
    },
    {
     "name": "stderr",
     "output_type": "stream",
     "text": [
      "INFO:spimagine.gui.glwidget | saving frame as /media/ivar/SSD700GB/rendering/output_399.png\n"
     ]
    },
    {
     "name": "stdout",
     "output_type": "stream",
     "text": [
      "record pos 399\n"
     ]
    },
    {
     "name": "stderr",
     "output_type": "stream",
     "text": [
      "INFO:spimagine.gui.glwidget | saving frame as /media/ivar/SSD700GB/rendering/output_400.png\n"
     ]
    },
    {
     "name": "stdout",
     "output_type": "stream",
     "text": [
      "record pos 400\n"
     ]
    },
    {
     "name": "stderr",
     "output_type": "stream",
     "text": [
      "INFO:spimagine.gui.glwidget | saving frame as /media/ivar/SSD700GB/rendering/output_401.png\n"
     ]
    },
    {
     "name": "stdout",
     "output_type": "stream",
     "text": [
      "record pos 401\n"
     ]
    },
    {
     "name": "stderr",
     "output_type": "stream",
     "text": [
      "INFO:spimagine.gui.glwidget | saving frame as /media/ivar/SSD700GB/rendering/output_402.png\n"
     ]
    },
    {
     "name": "stdout",
     "output_type": "stream",
     "text": [
      "record pos 402\n"
     ]
    },
    {
     "name": "stderr",
     "output_type": "stream",
     "text": [
      "INFO:spimagine.gui.glwidget | saving frame as /media/ivar/SSD700GB/rendering/output_403.png\n"
     ]
    },
    {
     "name": "stdout",
     "output_type": "stream",
     "text": [
      "record pos 403\n"
     ]
    },
    {
     "name": "stderr",
     "output_type": "stream",
     "text": [
      "INFO:spimagine.gui.glwidget | saving frame as /media/ivar/SSD700GB/rendering/output_404.png\n"
     ]
    },
    {
     "name": "stdout",
     "output_type": "stream",
     "text": [
      "record pos 404\n"
     ]
    },
    {
     "name": "stderr",
     "output_type": "stream",
     "text": [
      "INFO:spimagine.gui.glwidget | saving frame as /media/ivar/SSD700GB/rendering/output_405.png\n"
     ]
    },
    {
     "name": "stdout",
     "output_type": "stream",
     "text": [
      "record pos 405\n"
     ]
    },
    {
     "name": "stderr",
     "output_type": "stream",
     "text": [
      "INFO:spimagine.gui.glwidget | saving frame as /media/ivar/SSD700GB/rendering/output_406.png\n"
     ]
    },
    {
     "name": "stdout",
     "output_type": "stream",
     "text": [
      "record pos 406\n"
     ]
    },
    {
     "name": "stderr",
     "output_type": "stream",
     "text": [
      "INFO:spimagine.gui.glwidget | saving frame as /media/ivar/SSD700GB/rendering/output_407.png\n"
     ]
    },
    {
     "name": "stdout",
     "output_type": "stream",
     "text": [
      "record pos 407\n"
     ]
    },
    {
     "name": "stderr",
     "output_type": "stream",
     "text": [
      "INFO:spimagine.gui.glwidget | saving frame as /media/ivar/SSD700GB/rendering/output_408.png\n"
     ]
    },
    {
     "name": "stdout",
     "output_type": "stream",
     "text": [
      "record pos 408\n"
     ]
    },
    {
     "name": "stderr",
     "output_type": "stream",
     "text": [
      "INFO:spimagine.gui.glwidget | saving frame as /media/ivar/SSD700GB/rendering/output_409.png\n"
     ]
    },
    {
     "name": "stdout",
     "output_type": "stream",
     "text": [
      "record pos 409\n"
     ]
    },
    {
     "name": "stderr",
     "output_type": "stream",
     "text": [
      "INFO:spimagine.gui.glwidget | saving frame as /media/ivar/SSD700GB/rendering/output_410.png\n"
     ]
    },
    {
     "name": "stdout",
     "output_type": "stream",
     "text": [
      "record pos 410\n"
     ]
    },
    {
     "name": "stderr",
     "output_type": "stream",
     "text": [
      "INFO:spimagine.gui.glwidget | saving frame as /media/ivar/SSD700GB/rendering/output_411.png\n"
     ]
    },
    {
     "name": "stdout",
     "output_type": "stream",
     "text": [
      "record pos 411\n"
     ]
    },
    {
     "name": "stderr",
     "output_type": "stream",
     "text": [
      "INFO:spimagine.gui.glwidget | saving frame as /media/ivar/SSD700GB/rendering/output_412.png\n"
     ]
    },
    {
     "name": "stdout",
     "output_type": "stream",
     "text": [
      "record pos 412\n"
     ]
    },
    {
     "name": "stderr",
     "output_type": "stream",
     "text": [
      "INFO:spimagine.gui.glwidget | saving frame as /media/ivar/SSD700GB/rendering/output_413.png\n"
     ]
    },
    {
     "name": "stdout",
     "output_type": "stream",
     "text": [
      "record pos 413\n"
     ]
    },
    {
     "name": "stderr",
     "output_type": "stream",
     "text": [
      "INFO:spimagine.gui.glwidget | saving frame as /media/ivar/SSD700GB/rendering/output_414.png\n"
     ]
    },
    {
     "name": "stdout",
     "output_type": "stream",
     "text": [
      "record pos 414\n"
     ]
    },
    {
     "name": "stderr",
     "output_type": "stream",
     "text": [
      "INFO:spimagine.gui.glwidget | saving frame as /media/ivar/SSD700GB/rendering/output_415.png\n"
     ]
    },
    {
     "name": "stdout",
     "output_type": "stream",
     "text": [
      "record pos 415\n"
     ]
    },
    {
     "name": "stderr",
     "output_type": "stream",
     "text": [
      "INFO:spimagine.gui.glwidget | saving frame as /media/ivar/SSD700GB/rendering/output_416.png\n"
     ]
    },
    {
     "name": "stdout",
     "output_type": "stream",
     "text": [
      "record pos 416\n"
     ]
    },
    {
     "name": "stderr",
     "output_type": "stream",
     "text": [
      "INFO:spimagine.gui.glwidget | saving frame as /media/ivar/SSD700GB/rendering/output_417.png\n"
     ]
    },
    {
     "name": "stdout",
     "output_type": "stream",
     "text": [
      "record pos 417\n"
     ]
    },
    {
     "name": "stderr",
     "output_type": "stream",
     "text": [
      "INFO:spimagine.gui.glwidget | saving frame as /media/ivar/SSD700GB/rendering/output_418.png\n"
     ]
    },
    {
     "name": "stdout",
     "output_type": "stream",
     "text": [
      "record pos 418\n"
     ]
    },
    {
     "name": "stderr",
     "output_type": "stream",
     "text": [
      "INFO:spimagine.gui.glwidget | saving frame as /media/ivar/SSD700GB/rendering/output_419.png\n"
     ]
    },
    {
     "name": "stdout",
     "output_type": "stream",
     "text": [
      "record pos 419\n"
     ]
    },
    {
     "name": "stderr",
     "output_type": "stream",
     "text": [
      "INFO:spimagine.gui.glwidget | saving frame as /media/ivar/SSD700GB/rendering/output_420.png\n"
     ]
    },
    {
     "name": "stdout",
     "output_type": "stream",
     "text": [
      "record pos 420\n"
     ]
    },
    {
     "name": "stderr",
     "output_type": "stream",
     "text": [
      "INFO:spimagine.gui.glwidget | saving frame as /media/ivar/SSD700GB/rendering/output_421.png\n"
     ]
    },
    {
     "name": "stdout",
     "output_type": "stream",
     "text": [
      "record pos 421\n"
     ]
    },
    {
     "name": "stderr",
     "output_type": "stream",
     "text": [
      "INFO:spimagine.gui.glwidget | saving frame as /media/ivar/SSD700GB/rendering/output_422.png\n"
     ]
    },
    {
     "name": "stdout",
     "output_type": "stream",
     "text": [
      "record pos 422\n"
     ]
    },
    {
     "name": "stderr",
     "output_type": "stream",
     "text": [
      "INFO:spimagine.gui.glwidget | saving frame as /media/ivar/SSD700GB/rendering/output_423.png\n"
     ]
    },
    {
     "name": "stdout",
     "output_type": "stream",
     "text": [
      "record pos 423\n"
     ]
    },
    {
     "name": "stderr",
     "output_type": "stream",
     "text": [
      "INFO:spimagine.gui.glwidget | saving frame as /media/ivar/SSD700GB/rendering/output_424.png\n"
     ]
    },
    {
     "name": "stdout",
     "output_type": "stream",
     "text": [
      "record pos 424\n"
     ]
    },
    {
     "name": "stderr",
     "output_type": "stream",
     "text": [
      "INFO:spimagine.gui.glwidget | saving frame as /media/ivar/SSD700GB/rendering/output_425.png\n"
     ]
    },
    {
     "name": "stdout",
     "output_type": "stream",
     "text": [
      "record pos 425\n"
     ]
    },
    {
     "name": "stderr",
     "output_type": "stream",
     "text": [
      "INFO:spimagine.gui.glwidget | saving frame as /media/ivar/SSD700GB/rendering/output_426.png\n"
     ]
    },
    {
     "name": "stdout",
     "output_type": "stream",
     "text": [
      "record pos 426\n"
     ]
    },
    {
     "name": "stderr",
     "output_type": "stream",
     "text": [
      "INFO:spimagine.gui.glwidget | saving frame as /media/ivar/SSD700GB/rendering/output_427.png\n"
     ]
    },
    {
     "name": "stdout",
     "output_type": "stream",
     "text": [
      "record pos 427\n"
     ]
    },
    {
     "name": "stderr",
     "output_type": "stream",
     "text": [
      "INFO:spimagine.gui.glwidget | saving frame as /media/ivar/SSD700GB/rendering/output_428.png\n"
     ]
    },
    {
     "name": "stdout",
     "output_type": "stream",
     "text": [
      "record pos 428\n"
     ]
    },
    {
     "name": "stderr",
     "output_type": "stream",
     "text": [
      "INFO:spimagine.gui.glwidget | saving frame as /media/ivar/SSD700GB/rendering/output_429.png\n"
     ]
    },
    {
     "name": "stdout",
     "output_type": "stream",
     "text": [
      "record pos 429\n"
     ]
    },
    {
     "name": "stderr",
     "output_type": "stream",
     "text": [
      "INFO:spimagine.gui.glwidget | saving frame as /media/ivar/SSD700GB/rendering/output_430.png\n"
     ]
    },
    {
     "name": "stdout",
     "output_type": "stream",
     "text": [
      "record pos 430\n"
     ]
    },
    {
     "name": "stderr",
     "output_type": "stream",
     "text": [
      "INFO:spimagine.gui.glwidget | saving frame as /media/ivar/SSD700GB/rendering/output_431.png\n"
     ]
    },
    {
     "name": "stdout",
     "output_type": "stream",
     "text": [
      "record pos 431\n"
     ]
    },
    {
     "name": "stderr",
     "output_type": "stream",
     "text": [
      "INFO:spimagine.gui.glwidget | saving frame as /media/ivar/SSD700GB/rendering/output_432.png\n"
     ]
    },
    {
     "name": "stdout",
     "output_type": "stream",
     "text": [
      "record pos 432\n"
     ]
    },
    {
     "name": "stderr",
     "output_type": "stream",
     "text": [
      "INFO:spimagine.gui.glwidget | saving frame as /media/ivar/SSD700GB/rendering/output_433.png\n"
     ]
    },
    {
     "name": "stdout",
     "output_type": "stream",
     "text": [
      "record pos 433\n"
     ]
    },
    {
     "name": "stderr",
     "output_type": "stream",
     "text": [
      "INFO:spimagine.gui.glwidget | saving frame as /media/ivar/SSD700GB/rendering/output_434.png\n"
     ]
    },
    {
     "name": "stdout",
     "output_type": "stream",
     "text": [
      "record pos 434\n"
     ]
    },
    {
     "name": "stderr",
     "output_type": "stream",
     "text": [
      "INFO:spimagine.gui.glwidget | saving frame as /media/ivar/SSD700GB/rendering/output_435.png\n"
     ]
    },
    {
     "name": "stdout",
     "output_type": "stream",
     "text": [
      "record pos 435\n"
     ]
    },
    {
     "name": "stderr",
     "output_type": "stream",
     "text": [
      "INFO:spimagine.gui.glwidget | saving frame as /media/ivar/SSD700GB/rendering/output_436.png\n"
     ]
    },
    {
     "name": "stdout",
     "output_type": "stream",
     "text": [
      "record pos 436\n"
     ]
    },
    {
     "name": "stderr",
     "output_type": "stream",
     "text": [
      "INFO:spimagine.gui.glwidget | saving frame as /media/ivar/SSD700GB/rendering/output_437.png\n"
     ]
    },
    {
     "name": "stdout",
     "output_type": "stream",
     "text": [
      "record pos 437\n"
     ]
    },
    {
     "name": "stderr",
     "output_type": "stream",
     "text": [
      "INFO:spimagine.gui.glwidget | saving frame as /media/ivar/SSD700GB/rendering/output_438.png\n"
     ]
    },
    {
     "name": "stdout",
     "output_type": "stream",
     "text": [
      "record pos 438\n"
     ]
    },
    {
     "name": "stderr",
     "output_type": "stream",
     "text": [
      "INFO:spimagine.gui.glwidget | saving frame as /media/ivar/SSD700GB/rendering/output_439.png\n"
     ]
    },
    {
     "name": "stdout",
     "output_type": "stream",
     "text": [
      "record pos 439\n"
     ]
    },
    {
     "name": "stderr",
     "output_type": "stream",
     "text": [
      "INFO:spimagine.gui.glwidget | saving frame as /media/ivar/SSD700GB/rendering/output_440.png\n"
     ]
    },
    {
     "name": "stdout",
     "output_type": "stream",
     "text": [
      "record pos 440\n"
     ]
    },
    {
     "name": "stderr",
     "output_type": "stream",
     "text": [
      "INFO:spimagine.gui.glwidget | saving frame as /media/ivar/SSD700GB/rendering/output_441.png\n"
     ]
    },
    {
     "name": "stdout",
     "output_type": "stream",
     "text": [
      "record pos 441\n"
     ]
    },
    {
     "name": "stderr",
     "output_type": "stream",
     "text": [
      "INFO:spimagine.gui.glwidget | saving frame as /media/ivar/SSD700GB/rendering/output_442.png\n"
     ]
    },
    {
     "name": "stdout",
     "output_type": "stream",
     "text": [
      "record pos 442\n"
     ]
    },
    {
     "name": "stderr",
     "output_type": "stream",
     "text": [
      "INFO:spimagine.gui.glwidget | saving frame as /media/ivar/SSD700GB/rendering/output_443.png\n"
     ]
    },
    {
     "name": "stdout",
     "output_type": "stream",
     "text": [
      "record pos 443\n"
     ]
    },
    {
     "name": "stderr",
     "output_type": "stream",
     "text": [
      "INFO:spimagine.gui.glwidget | saving frame as /media/ivar/SSD700GB/rendering/output_444.png\n"
     ]
    },
    {
     "name": "stdout",
     "output_type": "stream",
     "text": [
      "record pos 444\n"
     ]
    },
    {
     "name": "stderr",
     "output_type": "stream",
     "text": [
      "INFO:spimagine.gui.glwidget | saving frame as /media/ivar/SSD700GB/rendering/output_445.png\n"
     ]
    },
    {
     "name": "stdout",
     "output_type": "stream",
     "text": [
      "record pos 445\n"
     ]
    },
    {
     "name": "stderr",
     "output_type": "stream",
     "text": [
      "INFO:spimagine.gui.glwidget | saving frame as /media/ivar/SSD700GB/rendering/output_446.png\n"
     ]
    },
    {
     "name": "stdout",
     "output_type": "stream",
     "text": [
      "record pos 446\n"
     ]
    },
    {
     "name": "stderr",
     "output_type": "stream",
     "text": [
      "INFO:spimagine.gui.glwidget | saving frame as /media/ivar/SSD700GB/rendering/output_447.png\n"
     ]
    },
    {
     "name": "stdout",
     "output_type": "stream",
     "text": [
      "record pos 447\n"
     ]
    },
    {
     "name": "stderr",
     "output_type": "stream",
     "text": [
      "INFO:spimagine.gui.glwidget | saving frame as /media/ivar/SSD700GB/rendering/output_448.png\n"
     ]
    },
    {
     "name": "stdout",
     "output_type": "stream",
     "text": [
      "record pos 448\n"
     ]
    },
    {
     "name": "stderr",
     "output_type": "stream",
     "text": [
      "INFO:spimagine.gui.glwidget | saving frame as /media/ivar/SSD700GB/rendering/output_449.png\n"
     ]
    },
    {
     "name": "stdout",
     "output_type": "stream",
     "text": [
      "record pos 449\n"
     ]
    },
    {
     "name": "stderr",
     "output_type": "stream",
     "text": [
      "INFO:spimagine.gui.glwidget | saving frame as /media/ivar/SSD700GB/rendering/output_450.png\n"
     ]
    },
    {
     "name": "stdout",
     "output_type": "stream",
     "text": [
      "record pos 450\n"
     ]
    },
    {
     "name": "stderr",
     "output_type": "stream",
     "text": [
      "INFO:spimagine.gui.glwidget | saving frame as /media/ivar/SSD700GB/rendering/output_451.png\n"
     ]
    },
    {
     "name": "stdout",
     "output_type": "stream",
     "text": [
      "record pos 451\n"
     ]
    },
    {
     "name": "stderr",
     "output_type": "stream",
     "text": [
      "INFO:spimagine.gui.glwidget | saving frame as /media/ivar/SSD700GB/rendering/output_452.png\n"
     ]
    },
    {
     "name": "stdout",
     "output_type": "stream",
     "text": [
      "record pos 452\n"
     ]
    },
    {
     "name": "stderr",
     "output_type": "stream",
     "text": [
      "INFO:spimagine.gui.glwidget | saving frame as /media/ivar/SSD700GB/rendering/output_453.png\n"
     ]
    },
    {
     "name": "stdout",
     "output_type": "stream",
     "text": [
      "record pos 453\n"
     ]
    },
    {
     "name": "stderr",
     "output_type": "stream",
     "text": [
      "INFO:spimagine.gui.glwidget | saving frame as /media/ivar/SSD700GB/rendering/output_454.png\n"
     ]
    },
    {
     "name": "stdout",
     "output_type": "stream",
     "text": [
      "record pos 454\n"
     ]
    },
    {
     "name": "stderr",
     "output_type": "stream",
     "text": [
      "INFO:spimagine.gui.glwidget | saving frame as /media/ivar/SSD700GB/rendering/output_455.png\n"
     ]
    },
    {
     "name": "stdout",
     "output_type": "stream",
     "text": [
      "record pos 455\n"
     ]
    },
    {
     "name": "stderr",
     "output_type": "stream",
     "text": [
      "INFO:spimagine.gui.glwidget | saving frame as /media/ivar/SSD700GB/rendering/output_456.png\n"
     ]
    },
    {
     "name": "stdout",
     "output_type": "stream",
     "text": [
      "record pos 456\n"
     ]
    },
    {
     "name": "stderr",
     "output_type": "stream",
     "text": [
      "INFO:spimagine.gui.glwidget | saving frame as /media/ivar/SSD700GB/rendering/output_457.png\n"
     ]
    },
    {
     "name": "stdout",
     "output_type": "stream",
     "text": [
      "record pos 457\n"
     ]
    },
    {
     "name": "stderr",
     "output_type": "stream",
     "text": [
      "INFO:spimagine.gui.glwidget | saving frame as /media/ivar/SSD700GB/rendering/output_458.png\n"
     ]
    },
    {
     "name": "stdout",
     "output_type": "stream",
     "text": [
      "record pos 458\n"
     ]
    },
    {
     "name": "stderr",
     "output_type": "stream",
     "text": [
      "INFO:spimagine.gui.glwidget | saving frame as /media/ivar/SSD700GB/rendering/output_459.png\n"
     ]
    },
    {
     "name": "stdout",
     "output_type": "stream",
     "text": [
      "record pos 459\n"
     ]
    },
    {
     "name": "stderr",
     "output_type": "stream",
     "text": [
      "INFO:spimagine.gui.glwidget | saving frame as /media/ivar/SSD700GB/rendering/output_460.png\n"
     ]
    },
    {
     "name": "stdout",
     "output_type": "stream",
     "text": [
      "record pos 460\n"
     ]
    },
    {
     "name": "stderr",
     "output_type": "stream",
     "text": [
      "INFO:spimagine.gui.glwidget | saving frame as /media/ivar/SSD700GB/rendering/output_461.png\n"
     ]
    },
    {
     "name": "stdout",
     "output_type": "stream",
     "text": [
      "record pos 461\n"
     ]
    },
    {
     "name": "stderr",
     "output_type": "stream",
     "text": [
      "INFO:spimagine.gui.glwidget | saving frame as /media/ivar/SSD700GB/rendering/output_462.png\n"
     ]
    },
    {
     "name": "stdout",
     "output_type": "stream",
     "text": [
      "record pos 462\n"
     ]
    },
    {
     "name": "stderr",
     "output_type": "stream",
     "text": [
      "INFO:spimagine.gui.glwidget | saving frame as /media/ivar/SSD700GB/rendering/output_463.png\n"
     ]
    },
    {
     "name": "stdout",
     "output_type": "stream",
     "text": [
      "record pos 463\n"
     ]
    },
    {
     "name": "stderr",
     "output_type": "stream",
     "text": [
      "INFO:spimagine.gui.glwidget | saving frame as /media/ivar/SSD700GB/rendering/output_464.png\n"
     ]
    },
    {
     "name": "stdout",
     "output_type": "stream",
     "text": [
      "record pos 464\n"
     ]
    },
    {
     "name": "stderr",
     "output_type": "stream",
     "text": [
      "INFO:spimagine.gui.glwidget | saving frame as /media/ivar/SSD700GB/rendering/output_465.png\n"
     ]
    },
    {
     "name": "stdout",
     "output_type": "stream",
     "text": [
      "record pos 465\n"
     ]
    },
    {
     "name": "stderr",
     "output_type": "stream",
     "text": [
      "INFO:spimagine.gui.glwidget | saving frame as /media/ivar/SSD700GB/rendering/output_466.png\n"
     ]
    },
    {
     "name": "stdout",
     "output_type": "stream",
     "text": [
      "record pos 466\n"
     ]
    },
    {
     "name": "stderr",
     "output_type": "stream",
     "text": [
      "INFO:spimagine.gui.glwidget | saving frame as /media/ivar/SSD700GB/rendering/output_467.png\n"
     ]
    },
    {
     "name": "stdout",
     "output_type": "stream",
     "text": [
      "record pos 467\n"
     ]
    },
    {
     "name": "stderr",
     "output_type": "stream",
     "text": [
      "INFO:spimagine.gui.glwidget | saving frame as /media/ivar/SSD700GB/rendering/output_468.png\n"
     ]
    },
    {
     "name": "stdout",
     "output_type": "stream",
     "text": [
      "record pos 468\n"
     ]
    },
    {
     "name": "stderr",
     "output_type": "stream",
     "text": [
      "INFO:spimagine.gui.glwidget | saving frame as /media/ivar/SSD700GB/rendering/output_469.png\n"
     ]
    },
    {
     "name": "stdout",
     "output_type": "stream",
     "text": [
      "record pos 469\n"
     ]
    },
    {
     "name": "stderr",
     "output_type": "stream",
     "text": [
      "INFO:spimagine.gui.glwidget | saving frame as /media/ivar/SSD700GB/rendering/output_470.png\n"
     ]
    },
    {
     "name": "stdout",
     "output_type": "stream",
     "text": [
      "record pos 470\n"
     ]
    },
    {
     "name": "stderr",
     "output_type": "stream",
     "text": [
      "INFO:spimagine.gui.glwidget | saving frame as /media/ivar/SSD700GB/rendering/output_471.png\n"
     ]
    },
    {
     "name": "stdout",
     "output_type": "stream",
     "text": [
      "record pos 471\n"
     ]
    },
    {
     "name": "stderr",
     "output_type": "stream",
     "text": [
      "INFO:spimagine.gui.glwidget | saving frame as /media/ivar/SSD700GB/rendering/output_472.png\n"
     ]
    },
    {
     "name": "stdout",
     "output_type": "stream",
     "text": [
      "record pos 472\n"
     ]
    },
    {
     "name": "stderr",
     "output_type": "stream",
     "text": [
      "INFO:spimagine.gui.glwidget | saving frame as /media/ivar/SSD700GB/rendering/output_473.png\n"
     ]
    },
    {
     "name": "stdout",
     "output_type": "stream",
     "text": [
      "record pos 473\n"
     ]
    },
    {
     "name": "stderr",
     "output_type": "stream",
     "text": [
      "INFO:spimagine.gui.glwidget | saving frame as /media/ivar/SSD700GB/rendering/output_474.png\n"
     ]
    },
    {
     "name": "stdout",
     "output_type": "stream",
     "text": [
      "record pos 474\n"
     ]
    },
    {
     "name": "stderr",
     "output_type": "stream",
     "text": [
      "INFO:spimagine.gui.glwidget | saving frame as /media/ivar/SSD700GB/rendering/output_475.png\n"
     ]
    },
    {
     "name": "stdout",
     "output_type": "stream",
     "text": [
      "record pos 475\n"
     ]
    },
    {
     "name": "stderr",
     "output_type": "stream",
     "text": [
      "INFO:spimagine.gui.glwidget | saving frame as /media/ivar/SSD700GB/rendering/output_476.png\n"
     ]
    },
    {
     "name": "stdout",
     "output_type": "stream",
     "text": [
      "record pos 476\n"
     ]
    },
    {
     "name": "stderr",
     "output_type": "stream",
     "text": [
      "INFO:spimagine.gui.glwidget | saving frame as /media/ivar/SSD700GB/rendering/output_477.png\n"
     ]
    },
    {
     "name": "stdout",
     "output_type": "stream",
     "text": [
      "record pos 477\n"
     ]
    },
    {
     "name": "stderr",
     "output_type": "stream",
     "text": [
      "INFO:spimagine.gui.glwidget | saving frame as /media/ivar/SSD700GB/rendering/output_478.png\n"
     ]
    },
    {
     "name": "stdout",
     "output_type": "stream",
     "text": [
      "record pos 478\n"
     ]
    },
    {
     "name": "stderr",
     "output_type": "stream",
     "text": [
      "INFO:spimagine.gui.glwidget | saving frame as /media/ivar/SSD700GB/rendering/output_479.png\n"
     ]
    },
    {
     "name": "stdout",
     "output_type": "stream",
     "text": [
      "record pos 479\n"
     ]
    },
    {
     "name": "stderr",
     "output_type": "stream",
     "text": [
      "INFO:spimagine.gui.glwidget | saving frame as /media/ivar/SSD700GB/rendering/output_480.png\n"
     ]
    },
    {
     "name": "stdout",
     "output_type": "stream",
     "text": [
      "record pos 480\n"
     ]
    },
    {
     "name": "stderr",
     "output_type": "stream",
     "text": [
      "INFO:spimagine.gui.glwidget | saving frame as /media/ivar/SSD700GB/rendering/output_481.png\n"
     ]
    },
    {
     "name": "stdout",
     "output_type": "stream",
     "text": [
      "record pos 481\n"
     ]
    },
    {
     "name": "stderr",
     "output_type": "stream",
     "text": [
      "INFO:spimagine.gui.glwidget | saving frame as /media/ivar/SSD700GB/rendering/output_482.png\n"
     ]
    },
    {
     "name": "stdout",
     "output_type": "stream",
     "text": [
      "record pos 482\n"
     ]
    },
    {
     "name": "stderr",
     "output_type": "stream",
     "text": [
      "INFO:spimagine.gui.glwidget | saving frame as /media/ivar/SSD700GB/rendering/output_483.png\n"
     ]
    },
    {
     "name": "stdout",
     "output_type": "stream",
     "text": [
      "record pos 483\n"
     ]
    },
    {
     "name": "stderr",
     "output_type": "stream",
     "text": [
      "INFO:spimagine.gui.glwidget | saving frame as /media/ivar/SSD700GB/rendering/output_484.png\n"
     ]
    },
    {
     "name": "stdout",
     "output_type": "stream",
     "text": [
      "record pos 484\n"
     ]
    },
    {
     "name": "stderr",
     "output_type": "stream",
     "text": [
      "INFO:spimagine.gui.glwidget | saving frame as /media/ivar/SSD700GB/rendering/output_485.png\n"
     ]
    },
    {
     "name": "stdout",
     "output_type": "stream",
     "text": [
      "record pos 485\n"
     ]
    },
    {
     "name": "stderr",
     "output_type": "stream",
     "text": [
      "INFO:spimagine.gui.glwidget | saving frame as /media/ivar/SSD700GB/rendering/output_486.png\n"
     ]
    },
    {
     "name": "stdout",
     "output_type": "stream",
     "text": [
      "record pos 486\n"
     ]
    },
    {
     "name": "stderr",
     "output_type": "stream",
     "text": [
      "INFO:spimagine.gui.glwidget | saving frame as /media/ivar/SSD700GB/rendering/output_487.png\n"
     ]
    },
    {
     "name": "stdout",
     "output_type": "stream",
     "text": [
      "record pos 487\n"
     ]
    },
    {
     "name": "stderr",
     "output_type": "stream",
     "text": [
      "INFO:spimagine.gui.glwidget | saving frame as /media/ivar/SSD700GB/rendering/output_488.png\n"
     ]
    },
    {
     "name": "stdout",
     "output_type": "stream",
     "text": [
      "record pos 488\n"
     ]
    },
    {
     "name": "stderr",
     "output_type": "stream",
     "text": [
      "INFO:spimagine.gui.glwidget | saving frame as /media/ivar/SSD700GB/rendering/output_489.png\n"
     ]
    },
    {
     "name": "stdout",
     "output_type": "stream",
     "text": [
      "record pos 489\n"
     ]
    },
    {
     "name": "stderr",
     "output_type": "stream",
     "text": [
      "INFO:spimagine.gui.glwidget | saving frame as /media/ivar/SSD700GB/rendering/output_490.png\n"
     ]
    },
    {
     "name": "stdout",
     "output_type": "stream",
     "text": [
      "record pos 490\n"
     ]
    },
    {
     "name": "stderr",
     "output_type": "stream",
     "text": [
      "INFO:spimagine.gui.glwidget | saving frame as /media/ivar/SSD700GB/rendering/output_491.png\n"
     ]
    },
    {
     "name": "stdout",
     "output_type": "stream",
     "text": [
      "record pos 491\n"
     ]
    },
    {
     "name": "stderr",
     "output_type": "stream",
     "text": [
      "INFO:spimagine.gui.glwidget | saving frame as /media/ivar/SSD700GB/rendering/output_492.png\n"
     ]
    },
    {
     "name": "stdout",
     "output_type": "stream",
     "text": [
      "record pos 492\n"
     ]
    },
    {
     "name": "stderr",
     "output_type": "stream",
     "text": [
      "INFO:spimagine.gui.glwidget | saving frame as /media/ivar/SSD700GB/rendering/output_493.png\n"
     ]
    },
    {
     "name": "stdout",
     "output_type": "stream",
     "text": [
      "record pos 493\n"
     ]
    },
    {
     "name": "stderr",
     "output_type": "stream",
     "text": [
      "INFO:spimagine.gui.glwidget | saving frame as /media/ivar/SSD700GB/rendering/output_494.png\n"
     ]
    },
    {
     "name": "stdout",
     "output_type": "stream",
     "text": [
      "record pos 494\n"
     ]
    },
    {
     "name": "stderr",
     "output_type": "stream",
     "text": [
      "INFO:spimagine.gui.glwidget | saving frame as /media/ivar/SSD700GB/rendering/output_495.png\n"
     ]
    },
    {
     "name": "stdout",
     "output_type": "stream",
     "text": [
      "record pos 495\n"
     ]
    },
    {
     "name": "stderr",
     "output_type": "stream",
     "text": [
      "INFO:spimagine.gui.glwidget | saving frame as /media/ivar/SSD700GB/rendering/output_496.png\n"
     ]
    },
    {
     "name": "stdout",
     "output_type": "stream",
     "text": [
      "record pos 496\n"
     ]
    },
    {
     "name": "stderr",
     "output_type": "stream",
     "text": [
      "INFO:spimagine.gui.glwidget | saving frame as /media/ivar/SSD700GB/rendering/output_497.png\n"
     ]
    },
    {
     "name": "stdout",
     "output_type": "stream",
     "text": [
      "record pos 497\n"
     ]
    },
    {
     "name": "stderr",
     "output_type": "stream",
     "text": [
      "INFO:spimagine.gui.glwidget | saving frame as /media/ivar/SSD700GB/rendering/output_498.png\n"
     ]
    },
    {
     "name": "stdout",
     "output_type": "stream",
     "text": [
      "record pos 498\n"
     ]
    },
    {
     "name": "stderr",
     "output_type": "stream",
     "text": [
      "INFO:spimagine.gui.glwidget | saving frame as /media/ivar/SSD700GB/rendering/output_499.png\n"
     ]
    },
    {
     "name": "stdout",
     "output_type": "stream",
     "text": [
      "record pos 499\n"
     ]
    },
    {
     "name": "stderr",
     "output_type": "stream",
     "text": [
      "INFO:spimagine.gui.glwidget | saving frame as /media/ivar/SSD700GB/rendering/output_500.png\n"
     ]
    },
    {
     "name": "stdout",
     "output_type": "stream",
     "text": [
      "record pos 500\n"
     ]
    },
    {
     "name": "stderr",
     "output_type": "stream",
     "text": [
      "INFO:spimagine.gui.glwidget | saving frame as /media/ivar/SSD700GB/rendering/output_501.png\n"
     ]
    },
    {
     "name": "stdout",
     "output_type": "stream",
     "text": [
      "record pos 501\n"
     ]
    },
    {
     "name": "stderr",
     "output_type": "stream",
     "text": [
      "INFO:spimagine.gui.glwidget | saving frame as /media/ivar/SSD700GB/rendering/output_502.png\n"
     ]
    },
    {
     "name": "stdout",
     "output_type": "stream",
     "text": [
      "record pos 502\n"
     ]
    },
    {
     "name": "stderr",
     "output_type": "stream",
     "text": [
      "INFO:spimagine.gui.glwidget | saving frame as /media/ivar/SSD700GB/rendering/output_503.png\n"
     ]
    },
    {
     "name": "stdout",
     "output_type": "stream",
     "text": [
      "record pos 503\n"
     ]
    },
    {
     "name": "stderr",
     "output_type": "stream",
     "text": [
      "INFO:spimagine.gui.glwidget | saving frame as /media/ivar/SSD700GB/rendering/output_504.png\n"
     ]
    },
    {
     "name": "stdout",
     "output_type": "stream",
     "text": [
      "record pos 504\n"
     ]
    },
    {
     "name": "stderr",
     "output_type": "stream",
     "text": [
      "INFO:spimagine.gui.glwidget | saving frame as /media/ivar/SSD700GB/rendering/output_505.png\n"
     ]
    },
    {
     "name": "stdout",
     "output_type": "stream",
     "text": [
      "record pos 505\n"
     ]
    },
    {
     "name": "stderr",
     "output_type": "stream",
     "text": [
      "INFO:spimagine.gui.glwidget | saving frame as /media/ivar/SSD700GB/rendering/output_506.png\n"
     ]
    },
    {
     "name": "stdout",
     "output_type": "stream",
     "text": [
      "record pos 506\n"
     ]
    },
    {
     "name": "stderr",
     "output_type": "stream",
     "text": [
      "INFO:spimagine.gui.glwidget | saving frame as /media/ivar/SSD700GB/rendering/output_507.png\n"
     ]
    },
    {
     "name": "stdout",
     "output_type": "stream",
     "text": [
      "record pos 507\n"
     ]
    },
    {
     "name": "stderr",
     "output_type": "stream",
     "text": [
      "INFO:spimagine.gui.glwidget | saving frame as /media/ivar/SSD700GB/rendering/output_508.png\n"
     ]
    },
    {
     "name": "stdout",
     "output_type": "stream",
     "text": [
      "record pos 508\n"
     ]
    },
    {
     "name": "stderr",
     "output_type": "stream",
     "text": [
      "INFO:spimagine.gui.glwidget | saving frame as /media/ivar/SSD700GB/rendering/output_509.png\n"
     ]
    },
    {
     "name": "stdout",
     "output_type": "stream",
     "text": [
      "record pos 509\n"
     ]
    },
    {
     "name": "stderr",
     "output_type": "stream",
     "text": [
      "INFO:spimagine.gui.glwidget | saving frame as /media/ivar/SSD700GB/rendering/output_510.png\n"
     ]
    },
    {
     "name": "stdout",
     "output_type": "stream",
     "text": [
      "record pos 510\n"
     ]
    },
    {
     "name": "stderr",
     "output_type": "stream",
     "text": [
      "INFO:spimagine.gui.glwidget | saving frame as /media/ivar/SSD700GB/rendering/output_511.png\n"
     ]
    },
    {
     "name": "stdout",
     "output_type": "stream",
     "text": [
      "record pos 511\n"
     ]
    },
    {
     "name": "stderr",
     "output_type": "stream",
     "text": [
      "INFO:spimagine.gui.glwidget | saving frame as /media/ivar/SSD700GB/rendering/output_512.png\n"
     ]
    },
    {
     "name": "stdout",
     "output_type": "stream",
     "text": [
      "record pos 512\n"
     ]
    },
    {
     "name": "stderr",
     "output_type": "stream",
     "text": [
      "INFO:spimagine.gui.glwidget | saving frame as /media/ivar/SSD700GB/rendering/output_513.png\n"
     ]
    },
    {
     "name": "stdout",
     "output_type": "stream",
     "text": [
      "record pos 513\n"
     ]
    },
    {
     "name": "stderr",
     "output_type": "stream",
     "text": [
      "INFO:spimagine.gui.glwidget | saving frame as /media/ivar/SSD700GB/rendering/output_514.png\n"
     ]
    },
    {
     "name": "stdout",
     "output_type": "stream",
     "text": [
      "record pos 514\n"
     ]
    },
    {
     "name": "stderr",
     "output_type": "stream",
     "text": [
      "INFO:spimagine.gui.glwidget | saving frame as /media/ivar/SSD700GB/rendering/output_515.png\n"
     ]
    },
    {
     "name": "stdout",
     "output_type": "stream",
     "text": [
      "record pos 515\n"
     ]
    },
    {
     "name": "stderr",
     "output_type": "stream",
     "text": [
      "INFO:spimagine.gui.glwidget | saving frame as /media/ivar/SSD700GB/rendering/output_516.png\n"
     ]
    },
    {
     "name": "stdout",
     "output_type": "stream",
     "text": [
      "record pos 516\n"
     ]
    },
    {
     "name": "stderr",
     "output_type": "stream",
     "text": [
      "INFO:spimagine.gui.glwidget | saving frame as /media/ivar/SSD700GB/rendering/output_517.png\n"
     ]
    },
    {
     "name": "stdout",
     "output_type": "stream",
     "text": [
      "record pos 517\n"
     ]
    },
    {
     "name": "stderr",
     "output_type": "stream",
     "text": [
      "INFO:spimagine.gui.glwidget | saving frame as /media/ivar/SSD700GB/rendering/output_518.png\n"
     ]
    },
    {
     "name": "stdout",
     "output_type": "stream",
     "text": [
      "record pos 518\n"
     ]
    },
    {
     "name": "stderr",
     "output_type": "stream",
     "text": [
      "INFO:spimagine.gui.glwidget | saving frame as /media/ivar/SSD700GB/rendering/output_519.png\n"
     ]
    },
    {
     "name": "stdout",
     "output_type": "stream",
     "text": [
      "record pos 519\n"
     ]
    },
    {
     "name": "stderr",
     "output_type": "stream",
     "text": [
      "INFO:spimagine.gui.glwidget | saving frame as /media/ivar/SSD700GB/rendering/output_520.png\n"
     ]
    },
    {
     "name": "stdout",
     "output_type": "stream",
     "text": [
      "record pos 520\n"
     ]
    },
    {
     "name": "stderr",
     "output_type": "stream",
     "text": [
      "INFO:spimagine.gui.glwidget | saving frame as /media/ivar/SSD700GB/rendering/output_521.png\n"
     ]
    },
    {
     "name": "stdout",
     "output_type": "stream",
     "text": [
      "record pos 521\n"
     ]
    },
    {
     "name": "stderr",
     "output_type": "stream",
     "text": [
      "INFO:spimagine.gui.glwidget | saving frame as /media/ivar/SSD700GB/rendering/output_522.png\n"
     ]
    },
    {
     "name": "stdout",
     "output_type": "stream",
     "text": [
      "record pos 522\n"
     ]
    },
    {
     "name": "stderr",
     "output_type": "stream",
     "text": [
      "INFO:spimagine.gui.glwidget | saving frame as /media/ivar/SSD700GB/rendering/output_523.png\n"
     ]
    },
    {
     "name": "stdout",
     "output_type": "stream",
     "text": [
      "record pos 523\n"
     ]
    },
    {
     "name": "stderr",
     "output_type": "stream",
     "text": [
      "INFO:spimagine.gui.glwidget | saving frame as /media/ivar/SSD700GB/rendering/output_524.png\n"
     ]
    },
    {
     "name": "stdout",
     "output_type": "stream",
     "text": [
      "record pos 524\n"
     ]
    },
    {
     "name": "stderr",
     "output_type": "stream",
     "text": [
      "INFO:spimagine.gui.glwidget | saving frame as /media/ivar/SSD700GB/rendering/output_525.png\n"
     ]
    },
    {
     "name": "stdout",
     "output_type": "stream",
     "text": [
      "record pos 525\n"
     ]
    },
    {
     "name": "stderr",
     "output_type": "stream",
     "text": [
      "INFO:spimagine.gui.glwidget | saving frame as /media/ivar/SSD700GB/rendering/output_526.png\n"
     ]
    },
    {
     "name": "stdout",
     "output_type": "stream",
     "text": [
      "record pos 526\n"
     ]
    },
    {
     "name": "stderr",
     "output_type": "stream",
     "text": [
      "INFO:spimagine.gui.glwidget | saving frame as /media/ivar/SSD700GB/rendering/output_527.png\n"
     ]
    },
    {
     "name": "stdout",
     "output_type": "stream",
     "text": [
      "record pos 527\n"
     ]
    },
    {
     "name": "stderr",
     "output_type": "stream",
     "text": [
      "INFO:spimagine.gui.glwidget | saving frame as /media/ivar/SSD700GB/rendering/output_528.png\n"
     ]
    },
    {
     "name": "stdout",
     "output_type": "stream",
     "text": [
      "record pos 528\n"
     ]
    },
    {
     "name": "stderr",
     "output_type": "stream",
     "text": [
      "INFO:spimagine.gui.glwidget | saving frame as /media/ivar/SSD700GB/rendering/output_529.png\n"
     ]
    },
    {
     "name": "stdout",
     "output_type": "stream",
     "text": [
      "record pos 529\n"
     ]
    },
    {
     "name": "stderr",
     "output_type": "stream",
     "text": [
      "INFO:spimagine.gui.glwidget | saving frame as /media/ivar/SSD700GB/rendering/output_530.png\n"
     ]
    },
    {
     "name": "stdout",
     "output_type": "stream",
     "text": [
      "record pos 530\n"
     ]
    },
    {
     "name": "stderr",
     "output_type": "stream",
     "text": [
      "INFO:spimagine.gui.glwidget | saving frame as /media/ivar/SSD700GB/rendering/output_531.png\n"
     ]
    },
    {
     "name": "stdout",
     "output_type": "stream",
     "text": [
      "record pos 531\n"
     ]
    },
    {
     "name": "stderr",
     "output_type": "stream",
     "text": [
      "INFO:spimagine.gui.glwidget | saving frame as /media/ivar/SSD700GB/rendering/output_532.png\n"
     ]
    },
    {
     "name": "stdout",
     "output_type": "stream",
     "text": [
      "record pos 532\n"
     ]
    },
    {
     "name": "stderr",
     "output_type": "stream",
     "text": [
      "INFO:spimagine.gui.glwidget | saving frame as /media/ivar/SSD700GB/rendering/output_533.png\n"
     ]
    },
    {
     "name": "stdout",
     "output_type": "stream",
     "text": [
      "record pos 533\n"
     ]
    },
    {
     "name": "stderr",
     "output_type": "stream",
     "text": [
      "INFO:spimagine.gui.glwidget | saving frame as /media/ivar/SSD700GB/rendering/output_534.png\n"
     ]
    },
    {
     "name": "stdout",
     "output_type": "stream",
     "text": [
      "record pos 534\n"
     ]
    },
    {
     "name": "stderr",
     "output_type": "stream",
     "text": [
      "INFO:spimagine.gui.glwidget | saving frame as /media/ivar/SSD700GB/rendering/output_535.png\n"
     ]
    },
    {
     "name": "stdout",
     "output_type": "stream",
     "text": [
      "record pos 535\n"
     ]
    },
    {
     "name": "stderr",
     "output_type": "stream",
     "text": [
      "INFO:spimagine.gui.glwidget | saving frame as /media/ivar/SSD700GB/rendering/output_536.png\n"
     ]
    },
    {
     "name": "stdout",
     "output_type": "stream",
     "text": [
      "record pos 536\n"
     ]
    },
    {
     "name": "stderr",
     "output_type": "stream",
     "text": [
      "INFO:spimagine.gui.glwidget | saving frame as /media/ivar/SSD700GB/rendering/output_537.png\n"
     ]
    },
    {
     "name": "stdout",
     "output_type": "stream",
     "text": [
      "record pos 537\n"
     ]
    },
    {
     "name": "stderr",
     "output_type": "stream",
     "text": [
      "INFO:spimagine.gui.glwidget | saving frame as /media/ivar/SSD700GB/rendering/output_538.png\n"
     ]
    },
    {
     "name": "stdout",
     "output_type": "stream",
     "text": [
      "record pos 538\n"
     ]
    },
    {
     "name": "stderr",
     "output_type": "stream",
     "text": [
      "INFO:spimagine.gui.glwidget | saving frame as /media/ivar/SSD700GB/rendering/output_539.png\n"
     ]
    },
    {
     "name": "stdout",
     "output_type": "stream",
     "text": [
      "record pos 539\n"
     ]
    },
    {
     "name": "stderr",
     "output_type": "stream",
     "text": [
      "INFO:spimagine.gui.glwidget | saving frame as /media/ivar/SSD700GB/rendering/output_540.png\n"
     ]
    },
    {
     "name": "stdout",
     "output_type": "stream",
     "text": [
      "record pos 540\n"
     ]
    },
    {
     "name": "stderr",
     "output_type": "stream",
     "text": [
      "INFO:spimagine.gui.glwidget | saving frame as /media/ivar/SSD700GB/rendering/output_541.png\n"
     ]
    },
    {
     "name": "stdout",
     "output_type": "stream",
     "text": [
      "record pos 541\n"
     ]
    },
    {
     "name": "stderr",
     "output_type": "stream",
     "text": [
      "INFO:spimagine.gui.glwidget | saving frame as /media/ivar/SSD700GB/rendering/output_542.png\n"
     ]
    },
    {
     "name": "stdout",
     "output_type": "stream",
     "text": [
      "record pos 542\n"
     ]
    },
    {
     "name": "stderr",
     "output_type": "stream",
     "text": [
      "INFO:spimagine.gui.glwidget | saving frame as /media/ivar/SSD700GB/rendering/output_543.png\n"
     ]
    },
    {
     "name": "stdout",
     "output_type": "stream",
     "text": [
      "record pos 543\n"
     ]
    },
    {
     "name": "stderr",
     "output_type": "stream",
     "text": [
      "INFO:spimagine.gui.glwidget | saving frame as /media/ivar/SSD700GB/rendering/output_544.png\n"
     ]
    },
    {
     "name": "stdout",
     "output_type": "stream",
     "text": [
      "record pos 544\n"
     ]
    },
    {
     "name": "stderr",
     "output_type": "stream",
     "text": [
      "INFO:spimagine.gui.glwidget | saving frame as /media/ivar/SSD700GB/rendering/output_545.png\n"
     ]
    },
    {
     "name": "stdout",
     "output_type": "stream",
     "text": [
      "record pos 545\n"
     ]
    },
    {
     "name": "stderr",
     "output_type": "stream",
     "text": [
      "INFO:spimagine.gui.glwidget | saving frame as /media/ivar/SSD700GB/rendering/output_546.png\n"
     ]
    },
    {
     "name": "stdout",
     "output_type": "stream",
     "text": [
      "record pos 546\n"
     ]
    },
    {
     "name": "stderr",
     "output_type": "stream",
     "text": [
      "INFO:spimagine.gui.glwidget | saving frame as /media/ivar/SSD700GB/rendering/output_547.png\n"
     ]
    },
    {
     "name": "stdout",
     "output_type": "stream",
     "text": [
      "record pos 547\n"
     ]
    },
    {
     "name": "stderr",
     "output_type": "stream",
     "text": [
      "INFO:spimagine.gui.glwidget | saving frame as /media/ivar/SSD700GB/rendering/output_548.png\n"
     ]
    },
    {
     "name": "stdout",
     "output_type": "stream",
     "text": [
      "record pos 548\n"
     ]
    },
    {
     "name": "stderr",
     "output_type": "stream",
     "text": [
      "INFO:spimagine.gui.glwidget | saving frame as /media/ivar/SSD700GB/rendering/output_549.png\n"
     ]
    },
    {
     "name": "stdout",
     "output_type": "stream",
     "text": [
      "record pos 549\n"
     ]
    },
    {
     "name": "stderr",
     "output_type": "stream",
     "text": [
      "INFO:spimagine.gui.glwidget | saving frame as /media/ivar/SSD700GB/rendering/output_550.png\n"
     ]
    },
    {
     "name": "stdout",
     "output_type": "stream",
     "text": [
      "record pos 550\n"
     ]
    },
    {
     "name": "stderr",
     "output_type": "stream",
     "text": [
      "INFO:spimagine.gui.glwidget | saving frame as /media/ivar/SSD700GB/rendering/output_551.png\n"
     ]
    },
    {
     "name": "stdout",
     "output_type": "stream",
     "text": [
      "record pos 551\n"
     ]
    },
    {
     "name": "stderr",
     "output_type": "stream",
     "text": [
      "INFO:spimagine.gui.glwidget | saving frame as /media/ivar/SSD700GB/rendering/output_552.png\n"
     ]
    },
    {
     "name": "stdout",
     "output_type": "stream",
     "text": [
      "record pos 552\n"
     ]
    },
    {
     "name": "stderr",
     "output_type": "stream",
     "text": [
      "INFO:spimagine.gui.glwidget | saving frame as /media/ivar/SSD700GB/rendering/output_553.png\n"
     ]
    },
    {
     "name": "stdout",
     "output_type": "stream",
     "text": [
      "record pos 553\n"
     ]
    },
    {
     "name": "stderr",
     "output_type": "stream",
     "text": [
      "INFO:spimagine.gui.glwidget | saving frame as /media/ivar/SSD700GB/rendering/output_554.png\n"
     ]
    },
    {
     "name": "stdout",
     "output_type": "stream",
     "text": [
      "record pos 554\n"
     ]
    },
    {
     "name": "stderr",
     "output_type": "stream",
     "text": [
      "INFO:spimagine.gui.glwidget | saving frame as /media/ivar/SSD700GB/rendering/output_555.png\n"
     ]
    },
    {
     "name": "stdout",
     "output_type": "stream",
     "text": [
      "record pos 555\n"
     ]
    },
    {
     "name": "stderr",
     "output_type": "stream",
     "text": [
      "INFO:spimagine.gui.glwidget | saving frame as /media/ivar/SSD700GB/rendering/output_556.png\n"
     ]
    },
    {
     "name": "stdout",
     "output_type": "stream",
     "text": [
      "record pos 556\n"
     ]
    },
    {
     "name": "stderr",
     "output_type": "stream",
     "text": [
      "INFO:spimagine.gui.glwidget | saving frame as /media/ivar/SSD700GB/rendering/output_557.png\n"
     ]
    },
    {
     "name": "stdout",
     "output_type": "stream",
     "text": [
      "record pos 557\n"
     ]
    },
    {
     "name": "stderr",
     "output_type": "stream",
     "text": [
      "INFO:spimagine.gui.glwidget | saving frame as /media/ivar/SSD700GB/rendering/output_558.png\n"
     ]
    },
    {
     "name": "stdout",
     "output_type": "stream",
     "text": [
      "record pos 558\n"
     ]
    },
    {
     "name": "stderr",
     "output_type": "stream",
     "text": [
      "INFO:spimagine.gui.glwidget | saving frame as /media/ivar/SSD700GB/rendering/output_559.png\n"
     ]
    },
    {
     "name": "stdout",
     "output_type": "stream",
     "text": [
      "record pos 559\n"
     ]
    },
    {
     "name": "stderr",
     "output_type": "stream",
     "text": [
      "INFO:spimagine.gui.glwidget | saving frame as /media/ivar/SSD700GB/rendering/output_560.png\n"
     ]
    },
    {
     "name": "stdout",
     "output_type": "stream",
     "text": [
      "record pos 560\n"
     ]
    },
    {
     "name": "stderr",
     "output_type": "stream",
     "text": [
      "INFO:spimagine.gui.glwidget | saving frame as /media/ivar/SSD700GB/rendering/output_561.png\n"
     ]
    },
    {
     "name": "stdout",
     "output_type": "stream",
     "text": [
      "record pos 561\n"
     ]
    },
    {
     "name": "stderr",
     "output_type": "stream",
     "text": [
      "INFO:spimagine.gui.glwidget | saving frame as /media/ivar/SSD700GB/rendering/output_562.png\n"
     ]
    },
    {
     "name": "stdout",
     "output_type": "stream",
     "text": [
      "record pos 562\n"
     ]
    },
    {
     "name": "stderr",
     "output_type": "stream",
     "text": [
      "INFO:spimagine.gui.glwidget | saving frame as /media/ivar/SSD700GB/rendering/output_563.png\n"
     ]
    },
    {
     "name": "stdout",
     "output_type": "stream",
     "text": [
      "record pos 563\n"
     ]
    },
    {
     "name": "stderr",
     "output_type": "stream",
     "text": [
      "INFO:spimagine.gui.glwidget | saving frame as /media/ivar/SSD700GB/rendering/output_564.png\n"
     ]
    },
    {
     "name": "stdout",
     "output_type": "stream",
     "text": [
      "record pos 564\n"
     ]
    },
    {
     "name": "stderr",
     "output_type": "stream",
     "text": [
      "INFO:spimagine.gui.glwidget | saving frame as /media/ivar/SSD700GB/rendering/output_565.png\n"
     ]
    },
    {
     "name": "stdout",
     "output_type": "stream",
     "text": [
      "record pos 565\n"
     ]
    },
    {
     "name": "stderr",
     "output_type": "stream",
     "text": [
      "INFO:spimagine.gui.glwidget | saving frame as /media/ivar/SSD700GB/rendering/output_566.png\n"
     ]
    },
    {
     "name": "stdout",
     "output_type": "stream",
     "text": [
      "record pos 566\n"
     ]
    },
    {
     "name": "stderr",
     "output_type": "stream",
     "text": [
      "INFO:spimagine.gui.glwidget | saving frame as /media/ivar/SSD700GB/rendering/output_567.png\n"
     ]
    },
    {
     "name": "stdout",
     "output_type": "stream",
     "text": [
      "record pos 567\n"
     ]
    },
    {
     "name": "stderr",
     "output_type": "stream",
     "text": [
      "INFO:spimagine.gui.glwidget | saving frame as /media/ivar/SSD700GB/rendering/output_568.png\n"
     ]
    },
    {
     "name": "stdout",
     "output_type": "stream",
     "text": [
      "record pos 568\n"
     ]
    },
    {
     "name": "stderr",
     "output_type": "stream",
     "text": [
      "INFO:spimagine.gui.glwidget | saving frame as /media/ivar/SSD700GB/rendering/output_569.png\n"
     ]
    },
    {
     "name": "stdout",
     "output_type": "stream",
     "text": [
      "record pos 569\n"
     ]
    },
    {
     "name": "stderr",
     "output_type": "stream",
     "text": [
      "INFO:spimagine.gui.glwidget | saving frame as /media/ivar/SSD700GB/rendering/output_570.png\n"
     ]
    },
    {
     "name": "stdout",
     "output_type": "stream",
     "text": [
      "record pos 570\n"
     ]
    },
    {
     "name": "stderr",
     "output_type": "stream",
     "text": [
      "INFO:spimagine.gui.glwidget | saving frame as /media/ivar/SSD700GB/rendering/output_571.png\n"
     ]
    },
    {
     "name": "stdout",
     "output_type": "stream",
     "text": [
      "record pos 571\n"
     ]
    },
    {
     "name": "stderr",
     "output_type": "stream",
     "text": [
      "INFO:spimagine.gui.glwidget | saving frame as /media/ivar/SSD700GB/rendering/output_572.png\n"
     ]
    },
    {
     "name": "stdout",
     "output_type": "stream",
     "text": [
      "record pos 572\n"
     ]
    },
    {
     "name": "stderr",
     "output_type": "stream",
     "text": [
      "INFO:spimagine.gui.glwidget | saving frame as /media/ivar/SSD700GB/rendering/output_573.png\n"
     ]
    },
    {
     "name": "stdout",
     "output_type": "stream",
     "text": [
      "record pos 573\n"
     ]
    },
    {
     "name": "stderr",
     "output_type": "stream",
     "text": [
      "INFO:spimagine.gui.glwidget | saving frame as /media/ivar/SSD700GB/rendering/output_574.png\n"
     ]
    },
    {
     "name": "stdout",
     "output_type": "stream",
     "text": [
      "record pos 574\n"
     ]
    },
    {
     "name": "stderr",
     "output_type": "stream",
     "text": [
      "INFO:spimagine.gui.glwidget | saving frame as /media/ivar/SSD700GB/rendering/output_575.png\n"
     ]
    },
    {
     "name": "stdout",
     "output_type": "stream",
     "text": [
      "record pos 575\n"
     ]
    },
    {
     "name": "stderr",
     "output_type": "stream",
     "text": [
      "INFO:spimagine.gui.glwidget | saving frame as /media/ivar/SSD700GB/rendering/output_576.png\n"
     ]
    },
    {
     "name": "stdout",
     "output_type": "stream",
     "text": [
      "record pos 576\n"
     ]
    },
    {
     "name": "stderr",
     "output_type": "stream",
     "text": [
      "INFO:spimagine.gui.glwidget | saving frame as /media/ivar/SSD700GB/rendering/output_577.png\n"
     ]
    },
    {
     "name": "stdout",
     "output_type": "stream",
     "text": [
      "record pos 577\n"
     ]
    },
    {
     "name": "stderr",
     "output_type": "stream",
     "text": [
      "INFO:spimagine.gui.glwidget | saving frame as /media/ivar/SSD700GB/rendering/output_578.png\n"
     ]
    },
    {
     "name": "stdout",
     "output_type": "stream",
     "text": [
      "record pos 578\n"
     ]
    },
    {
     "name": "stderr",
     "output_type": "stream",
     "text": [
      "INFO:spimagine.gui.glwidget | saving frame as /media/ivar/SSD700GB/rendering/output_579.png\n"
     ]
    },
    {
     "name": "stdout",
     "output_type": "stream",
     "text": [
      "record pos 579\n"
     ]
    },
    {
     "name": "stderr",
     "output_type": "stream",
     "text": [
      "INFO:spimagine.gui.glwidget | saving frame as /media/ivar/SSD700GB/rendering/output_580.png\n"
     ]
    },
    {
     "name": "stdout",
     "output_type": "stream",
     "text": [
      "record pos 580\n"
     ]
    },
    {
     "name": "stderr",
     "output_type": "stream",
     "text": [
      "INFO:spimagine.gui.glwidget | saving frame as /media/ivar/SSD700GB/rendering/output_581.png\n"
     ]
    },
    {
     "name": "stdout",
     "output_type": "stream",
     "text": [
      "record pos 581\n"
     ]
    },
    {
     "name": "stderr",
     "output_type": "stream",
     "text": [
      "INFO:spimagine.gui.glwidget | saving frame as /media/ivar/SSD700GB/rendering/output_582.png\n"
     ]
    },
    {
     "name": "stdout",
     "output_type": "stream",
     "text": [
      "record pos 582\n"
     ]
    },
    {
     "name": "stderr",
     "output_type": "stream",
     "text": [
      "INFO:spimagine.gui.glwidget | saving frame as /media/ivar/SSD700GB/rendering/output_583.png\n"
     ]
    },
    {
     "name": "stdout",
     "output_type": "stream",
     "text": [
      "record pos 583\n"
     ]
    },
    {
     "name": "stderr",
     "output_type": "stream",
     "text": [
      "INFO:spimagine.gui.glwidget | saving frame as /media/ivar/SSD700GB/rendering/output_584.png\n"
     ]
    },
    {
     "name": "stdout",
     "output_type": "stream",
     "text": [
      "record pos 584\n"
     ]
    },
    {
     "name": "stderr",
     "output_type": "stream",
     "text": [
      "INFO:spimagine.gui.glwidget | saving frame as /media/ivar/SSD700GB/rendering/output_585.png\n"
     ]
    },
    {
     "name": "stdout",
     "output_type": "stream",
     "text": [
      "record pos 585\n"
     ]
    },
    {
     "name": "stderr",
     "output_type": "stream",
     "text": [
      "INFO:spimagine.gui.glwidget | saving frame as /media/ivar/SSD700GB/rendering/output_586.png\n"
     ]
    },
    {
     "name": "stdout",
     "output_type": "stream",
     "text": [
      "record pos 586\n"
     ]
    },
    {
     "name": "stderr",
     "output_type": "stream",
     "text": [
      "INFO:spimagine.gui.glwidget | saving frame as /media/ivar/SSD700GB/rendering/output_587.png\n"
     ]
    },
    {
     "name": "stdout",
     "output_type": "stream",
     "text": [
      "record pos 587\n"
     ]
    },
    {
     "name": "stderr",
     "output_type": "stream",
     "text": [
      "INFO:spimagine.gui.glwidget | saving frame as /media/ivar/SSD700GB/rendering/output_588.png\n"
     ]
    },
    {
     "name": "stdout",
     "output_type": "stream",
     "text": [
      "record pos 588\n"
     ]
    },
    {
     "name": "stderr",
     "output_type": "stream",
     "text": [
      "INFO:spimagine.gui.glwidget | saving frame as /media/ivar/SSD700GB/rendering/output_589.png\n"
     ]
    },
    {
     "name": "stdout",
     "output_type": "stream",
     "text": [
      "record pos 589\n"
     ]
    },
    {
     "name": "stderr",
     "output_type": "stream",
     "text": [
      "INFO:spimagine.gui.glwidget | saving frame as /media/ivar/SSD700GB/rendering/output_590.png\n"
     ]
    },
    {
     "name": "stdout",
     "output_type": "stream",
     "text": [
      "record pos 590\n"
     ]
    },
    {
     "name": "stderr",
     "output_type": "stream",
     "text": [
      "INFO:spimagine.gui.glwidget | saving frame as /media/ivar/SSD700GB/rendering/output_591.png\n"
     ]
    },
    {
     "name": "stdout",
     "output_type": "stream",
     "text": [
      "record pos 591\n"
     ]
    },
    {
     "name": "stderr",
     "output_type": "stream",
     "text": [
      "INFO:spimagine.gui.glwidget | saving frame as /media/ivar/SSD700GB/rendering/output_592.png\n"
     ]
    },
    {
     "name": "stdout",
     "output_type": "stream",
     "text": [
      "record pos 592\n"
     ]
    },
    {
     "name": "stderr",
     "output_type": "stream",
     "text": [
      "INFO:spimagine.gui.glwidget | saving frame as /media/ivar/SSD700GB/rendering/output_593.png\n"
     ]
    },
    {
     "name": "stdout",
     "output_type": "stream",
     "text": [
      "record pos 593\n"
     ]
    },
    {
     "name": "stderr",
     "output_type": "stream",
     "text": [
      "INFO:spimagine.gui.glwidget | saving frame as /media/ivar/SSD700GB/rendering/output_594.png\n"
     ]
    },
    {
     "name": "stdout",
     "output_type": "stream",
     "text": [
      "record pos 594\n"
     ]
    },
    {
     "name": "stderr",
     "output_type": "stream",
     "text": [
      "INFO:spimagine.gui.glwidget | saving frame as /media/ivar/SSD700GB/rendering/output_595.png\n"
     ]
    },
    {
     "name": "stdout",
     "output_type": "stream",
     "text": [
      "record pos 595\n"
     ]
    },
    {
     "name": "stderr",
     "output_type": "stream",
     "text": [
      "INFO:spimagine.gui.glwidget | saving frame as /media/ivar/SSD700GB/rendering/output_596.png\n"
     ]
    },
    {
     "name": "stdout",
     "output_type": "stream",
     "text": [
      "record pos 596\n"
     ]
    },
    {
     "name": "stderr",
     "output_type": "stream",
     "text": [
      "INFO:spimagine.gui.glwidget | saving frame as /media/ivar/SSD700GB/rendering/output_597.png\n"
     ]
    },
    {
     "name": "stdout",
     "output_type": "stream",
     "text": [
      "record pos 597\n"
     ]
    },
    {
     "name": "stderr",
     "output_type": "stream",
     "text": [
      "INFO:spimagine.gui.glwidget | saving frame as /media/ivar/SSD700GB/rendering/output_598.png\n"
     ]
    },
    {
     "name": "stdout",
     "output_type": "stream",
     "text": [
      "record pos 598\n"
     ]
    },
    {
     "name": "stderr",
     "output_type": "stream",
     "text": [
      "INFO:spimagine.gui.glwidget | saving frame as /media/ivar/SSD700GB/rendering/output_599.png\n"
     ]
    },
    {
     "name": "stdout",
     "output_type": "stream",
     "text": [
      "record pos 599\n"
     ]
    },
    {
     "name": "stderr",
     "output_type": "stream",
     "text": [
      "INFO:spimagine.gui.glwidget | saving frame as /media/ivar/SSD700GB/rendering/output_600.png\n"
     ]
    },
    {
     "name": "stdout",
     "output_type": "stream",
     "text": [
      "record pos 600\n"
     ]
    },
    {
     "name": "stderr",
     "output_type": "stream",
     "text": [
      "INFO:spimagine.gui.glwidget | saving frame as /media/ivar/SSD700GB/rendering/output_601.png\n"
     ]
    },
    {
     "name": "stdout",
     "output_type": "stream",
     "text": [
      "record pos 601\n"
     ]
    },
    {
     "name": "stderr",
     "output_type": "stream",
     "text": [
      "INFO:spimagine.gui.glwidget | saving frame as /media/ivar/SSD700GB/rendering/output_602.png\n"
     ]
    },
    {
     "name": "stdout",
     "output_type": "stream",
     "text": [
      "record pos 602\n"
     ]
    },
    {
     "name": "stderr",
     "output_type": "stream",
     "text": [
      "INFO:spimagine.gui.glwidget | saving frame as /media/ivar/SSD700GB/rendering/output_603.png\n"
     ]
    },
    {
     "name": "stdout",
     "output_type": "stream",
     "text": [
      "record pos 603\n"
     ]
    },
    {
     "name": "stderr",
     "output_type": "stream",
     "text": [
      "INFO:spimagine.gui.glwidget | saving frame as /media/ivar/SSD700GB/rendering/output_604.png\n"
     ]
    },
    {
     "name": "stdout",
     "output_type": "stream",
     "text": [
      "record pos 604\n"
     ]
    },
    {
     "name": "stderr",
     "output_type": "stream",
     "text": [
      "INFO:spimagine.gui.glwidget | saving frame as /media/ivar/SSD700GB/rendering/output_605.png\n"
     ]
    },
    {
     "name": "stdout",
     "output_type": "stream",
     "text": [
      "record pos 605\n"
     ]
    },
    {
     "name": "stderr",
     "output_type": "stream",
     "text": [
      "INFO:spimagine.gui.glwidget | saving frame as /media/ivar/SSD700GB/rendering/output_606.png\n"
     ]
    },
    {
     "name": "stdout",
     "output_type": "stream",
     "text": [
      "record pos 606\n"
     ]
    },
    {
     "name": "stderr",
     "output_type": "stream",
     "text": [
      "INFO:spimagine.gui.glwidget | saving frame as /media/ivar/SSD700GB/rendering/output_607.png\n"
     ]
    },
    {
     "name": "stdout",
     "output_type": "stream",
     "text": [
      "record pos 607\n"
     ]
    },
    {
     "name": "stderr",
     "output_type": "stream",
     "text": [
      "INFO:spimagine.gui.glwidget | saving frame as /media/ivar/SSD700GB/rendering/output_608.png\n"
     ]
    },
    {
     "name": "stdout",
     "output_type": "stream",
     "text": [
      "record pos 608\n"
     ]
    },
    {
     "name": "stderr",
     "output_type": "stream",
     "text": [
      "INFO:spimagine.gui.glwidget | saving frame as /media/ivar/SSD700GB/rendering/output_609.png\n"
     ]
    },
    {
     "name": "stdout",
     "output_type": "stream",
     "text": [
      "record pos 609\n"
     ]
    },
    {
     "name": "stderr",
     "output_type": "stream",
     "text": [
      "INFO:spimagine.gui.glwidget | saving frame as /media/ivar/SSD700GB/rendering/output_610.png\n"
     ]
    },
    {
     "name": "stdout",
     "output_type": "stream",
     "text": [
      "record pos 610\n"
     ]
    },
    {
     "name": "stderr",
     "output_type": "stream",
     "text": [
      "INFO:spimagine.gui.glwidget | saving frame as /media/ivar/SSD700GB/rendering/output_611.png\n"
     ]
    },
    {
     "name": "stdout",
     "output_type": "stream",
     "text": [
      "record pos 611\n"
     ]
    },
    {
     "name": "stderr",
     "output_type": "stream",
     "text": [
      "INFO:spimagine.gui.glwidget | saving frame as /media/ivar/SSD700GB/rendering/output_612.png\n"
     ]
    },
    {
     "name": "stdout",
     "output_type": "stream",
     "text": [
      "record pos 612\n"
     ]
    },
    {
     "name": "stderr",
     "output_type": "stream",
     "text": [
      "INFO:spimagine.gui.glwidget | saving frame as /media/ivar/SSD700GB/rendering/output_613.png\n"
     ]
    },
    {
     "name": "stdout",
     "output_type": "stream",
     "text": [
      "record pos 613\n"
     ]
    },
    {
     "name": "stderr",
     "output_type": "stream",
     "text": [
      "INFO:spimagine.gui.glwidget | saving frame as /media/ivar/SSD700GB/rendering/output_614.png\n"
     ]
    },
    {
     "name": "stdout",
     "output_type": "stream",
     "text": [
      "record pos 614\n"
     ]
    },
    {
     "name": "stderr",
     "output_type": "stream",
     "text": [
      "INFO:spimagine.gui.glwidget | saving frame as /media/ivar/SSD700GB/rendering/output_615.png\n"
     ]
    },
    {
     "name": "stdout",
     "output_type": "stream",
     "text": [
      "record pos 615\n"
     ]
    },
    {
     "name": "stderr",
     "output_type": "stream",
     "text": [
      "INFO:spimagine.gui.glwidget | saving frame as /media/ivar/SSD700GB/rendering/output_616.png\n"
     ]
    },
    {
     "name": "stdout",
     "output_type": "stream",
     "text": [
      "record pos 616\n"
     ]
    },
    {
     "name": "stderr",
     "output_type": "stream",
     "text": [
      "INFO:spimagine.gui.glwidget | saving frame as /media/ivar/SSD700GB/rendering/output_617.png\n"
     ]
    },
    {
     "name": "stdout",
     "output_type": "stream",
     "text": [
      "record pos 617\n"
     ]
    },
    {
     "name": "stderr",
     "output_type": "stream",
     "text": [
      "INFO:spimagine.gui.glwidget | saving frame as /media/ivar/SSD700GB/rendering/output_618.png\n"
     ]
    },
    {
     "name": "stdout",
     "output_type": "stream",
     "text": [
      "record pos 618\n"
     ]
    },
    {
     "name": "stderr",
     "output_type": "stream",
     "text": [
      "INFO:spimagine.gui.glwidget | saving frame as /media/ivar/SSD700GB/rendering/output_619.png\n"
     ]
    },
    {
     "name": "stdout",
     "output_type": "stream",
     "text": [
      "record pos 619\n"
     ]
    },
    {
     "name": "stderr",
     "output_type": "stream",
     "text": [
      "INFO:spimagine.gui.glwidget | saving frame as /media/ivar/SSD700GB/rendering/output_620.png\n"
     ]
    },
    {
     "name": "stdout",
     "output_type": "stream",
     "text": [
      "record pos 620\n"
     ]
    },
    {
     "name": "stderr",
     "output_type": "stream",
     "text": [
      "INFO:spimagine.gui.glwidget | saving frame as /media/ivar/SSD700GB/rendering/output_621.png\n"
     ]
    },
    {
     "name": "stdout",
     "output_type": "stream",
     "text": [
      "record pos 621\n"
     ]
    },
    {
     "name": "stderr",
     "output_type": "stream",
     "text": [
      "INFO:spimagine.gui.glwidget | saving frame as /media/ivar/SSD700GB/rendering/output_622.png\n"
     ]
    },
    {
     "name": "stdout",
     "output_type": "stream",
     "text": [
      "record pos 622\n"
     ]
    },
    {
     "name": "stderr",
     "output_type": "stream",
     "text": [
      "INFO:spimagine.gui.glwidget | saving frame as /media/ivar/SSD700GB/rendering/output_623.png\n"
     ]
    },
    {
     "name": "stdout",
     "output_type": "stream",
     "text": [
      "record pos 623\n"
     ]
    },
    {
     "name": "stderr",
     "output_type": "stream",
     "text": [
      "INFO:spimagine.gui.glwidget | saving frame as /media/ivar/SSD700GB/rendering/output_624.png\n"
     ]
    },
    {
     "name": "stdout",
     "output_type": "stream",
     "text": [
      "record pos 624\n"
     ]
    },
    {
     "name": "stderr",
     "output_type": "stream",
     "text": [
      "INFO:spimagine.gui.glwidget | saving frame as /media/ivar/SSD700GB/rendering/output_625.png\n"
     ]
    },
    {
     "name": "stdout",
     "output_type": "stream",
     "text": [
      "record pos 625\n"
     ]
    },
    {
     "name": "stderr",
     "output_type": "stream",
     "text": [
      "INFO:spimagine.gui.glwidget | saving frame as /media/ivar/SSD700GB/rendering/output_626.png\n"
     ]
    },
    {
     "name": "stdout",
     "output_type": "stream",
     "text": [
      "record pos 626\n"
     ]
    },
    {
     "name": "stderr",
     "output_type": "stream",
     "text": [
      "INFO:spimagine.gui.glwidget | saving frame as /media/ivar/SSD700GB/rendering/output_627.png\n"
     ]
    },
    {
     "name": "stdout",
     "output_type": "stream",
     "text": [
      "record pos 627\n"
     ]
    },
    {
     "name": "stderr",
     "output_type": "stream",
     "text": [
      "INFO:spimagine.gui.glwidget | saving frame as /media/ivar/SSD700GB/rendering/output_628.png\n"
     ]
    },
    {
     "name": "stdout",
     "output_type": "stream",
     "text": [
      "record pos 628\n"
     ]
    },
    {
     "name": "stderr",
     "output_type": "stream",
     "text": [
      "INFO:spimagine.gui.glwidget | saving frame as /media/ivar/SSD700GB/rendering/output_629.png\n"
     ]
    },
    {
     "name": "stdout",
     "output_type": "stream",
     "text": [
      "record pos 629\n"
     ]
    },
    {
     "name": "stderr",
     "output_type": "stream",
     "text": [
      "INFO:spimagine.gui.glwidget | saving frame as /media/ivar/SSD700GB/rendering/output_630.png\n"
     ]
    },
    {
     "name": "stdout",
     "output_type": "stream",
     "text": [
      "record pos 630\n"
     ]
    },
    {
     "name": "stderr",
     "output_type": "stream",
     "text": [
      "INFO:spimagine.gui.glwidget | saving frame as /media/ivar/SSD700GB/rendering/output_631.png\n"
     ]
    },
    {
     "name": "stdout",
     "output_type": "stream",
     "text": [
      "record pos 631\n"
     ]
    },
    {
     "name": "stderr",
     "output_type": "stream",
     "text": [
      "INFO:spimagine.gui.glwidget | saving frame as /media/ivar/SSD700GB/rendering/output_632.png\n"
     ]
    },
    {
     "name": "stdout",
     "output_type": "stream",
     "text": [
      "record pos 632\n"
     ]
    },
    {
     "name": "stderr",
     "output_type": "stream",
     "text": [
      "INFO:spimagine.gui.glwidget | saving frame as /media/ivar/SSD700GB/rendering/output_633.png\n"
     ]
    },
    {
     "name": "stdout",
     "output_type": "stream",
     "text": [
      "record pos 633\n"
     ]
    },
    {
     "name": "stderr",
     "output_type": "stream",
     "text": [
      "INFO:spimagine.gui.glwidget | saving frame as /media/ivar/SSD700GB/rendering/output_634.png\n"
     ]
    },
    {
     "name": "stdout",
     "output_type": "stream",
     "text": [
      "record pos 634\n"
     ]
    },
    {
     "name": "stderr",
     "output_type": "stream",
     "text": [
      "INFO:spimagine.gui.glwidget | saving frame as /media/ivar/SSD700GB/rendering/output_635.png\n"
     ]
    },
    {
     "name": "stdout",
     "output_type": "stream",
     "text": [
      "record pos 635\n"
     ]
    },
    {
     "name": "stderr",
     "output_type": "stream",
     "text": [
      "INFO:spimagine.gui.glwidget | saving frame as /media/ivar/SSD700GB/rendering/output_636.png\n"
     ]
    },
    {
     "name": "stdout",
     "output_type": "stream",
     "text": [
      "record pos 636\n"
     ]
    },
    {
     "name": "stderr",
     "output_type": "stream",
     "text": [
      "INFO:spimagine.gui.glwidget | saving frame as /media/ivar/SSD700GB/rendering/output_637.png\n"
     ]
    },
    {
     "name": "stdout",
     "output_type": "stream",
     "text": [
      "record pos 637\n"
     ]
    },
    {
     "name": "stderr",
     "output_type": "stream",
     "text": [
      "INFO:spimagine.gui.glwidget | saving frame as /media/ivar/SSD700GB/rendering/output_638.png\n"
     ]
    },
    {
     "name": "stdout",
     "output_type": "stream",
     "text": [
      "record pos 638\n"
     ]
    },
    {
     "name": "stderr",
     "output_type": "stream",
     "text": [
      "INFO:spimagine.gui.glwidget | saving frame as /media/ivar/SSD700GB/rendering/output_639.png\n"
     ]
    },
    {
     "name": "stdout",
     "output_type": "stream",
     "text": [
      "record pos 639\n"
     ]
    },
    {
     "name": "stderr",
     "output_type": "stream",
     "text": [
      "INFO:spimagine.gui.glwidget | saving frame as /media/ivar/SSD700GB/rendering/output_640.png\n"
     ]
    },
    {
     "name": "stdout",
     "output_type": "stream",
     "text": [
      "record pos 640\n"
     ]
    },
    {
     "name": "stderr",
     "output_type": "stream",
     "text": [
      "INFO:spimagine.gui.glwidget | saving frame as /media/ivar/SSD700GB/rendering/output_641.png\n"
     ]
    },
    {
     "name": "stdout",
     "output_type": "stream",
     "text": [
      "record pos 641\n"
     ]
    },
    {
     "name": "stderr",
     "output_type": "stream",
     "text": [
      "INFO:spimagine.gui.glwidget | saving frame as /media/ivar/SSD700GB/rendering/output_642.png\n"
     ]
    },
    {
     "name": "stdout",
     "output_type": "stream",
     "text": [
      "record pos 642\n"
     ]
    },
    {
     "name": "stderr",
     "output_type": "stream",
     "text": [
      "INFO:spimagine.gui.glwidget | saving frame as /media/ivar/SSD700GB/rendering/output_643.png\n"
     ]
    },
    {
     "name": "stdout",
     "output_type": "stream",
     "text": [
      "record pos 643\n"
     ]
    },
    {
     "name": "stderr",
     "output_type": "stream",
     "text": [
      "INFO:spimagine.gui.glwidget | saving frame as /media/ivar/SSD700GB/rendering/output_644.png\n"
     ]
    },
    {
     "name": "stdout",
     "output_type": "stream",
     "text": [
      "record pos 644\n"
     ]
    },
    {
     "name": "stderr",
     "output_type": "stream",
     "text": [
      "INFO:spimagine.gui.glwidget | saving frame as /media/ivar/SSD700GB/rendering/output_645.png\n"
     ]
    },
    {
     "name": "stdout",
     "output_type": "stream",
     "text": [
      "record pos 645\n"
     ]
    },
    {
     "name": "stderr",
     "output_type": "stream",
     "text": [
      "INFO:spimagine.gui.glwidget | saving frame as /media/ivar/SSD700GB/rendering/output_646.png\n"
     ]
    },
    {
     "name": "stdout",
     "output_type": "stream",
     "text": [
      "record pos 646\n"
     ]
    },
    {
     "name": "stderr",
     "output_type": "stream",
     "text": [
      "INFO:spimagine.gui.glwidget | saving frame as /media/ivar/SSD700GB/rendering/output_647.png\n"
     ]
    },
    {
     "name": "stdout",
     "output_type": "stream",
     "text": [
      "record pos 647\n"
     ]
    },
    {
     "name": "stderr",
     "output_type": "stream",
     "text": [
      "INFO:spimagine.gui.glwidget | saving frame as /media/ivar/SSD700GB/rendering/output_648.png\n"
     ]
    },
    {
     "name": "stdout",
     "output_type": "stream",
     "text": [
      "record pos 648\n"
     ]
    },
    {
     "name": "stderr",
     "output_type": "stream",
     "text": [
      "INFO:spimagine.gui.glwidget | saving frame as /media/ivar/SSD700GB/rendering/output_649.png\n"
     ]
    },
    {
     "name": "stdout",
     "output_type": "stream",
     "text": [
      "record pos 649\n"
     ]
    },
    {
     "name": "stderr",
     "output_type": "stream",
     "text": [
      "INFO:spimagine.gui.glwidget | saving frame as /media/ivar/SSD700GB/rendering/output_650.png\n"
     ]
    },
    {
     "name": "stdout",
     "output_type": "stream",
     "text": [
      "record pos 650\n"
     ]
    },
    {
     "name": "stderr",
     "output_type": "stream",
     "text": [
      "INFO:spimagine.gui.glwidget | saving frame as /media/ivar/SSD700GB/rendering/output_651.png\n"
     ]
    },
    {
     "name": "stdout",
     "output_type": "stream",
     "text": [
      "record pos 651\n"
     ]
    },
    {
     "name": "stderr",
     "output_type": "stream",
     "text": [
      "INFO:spimagine.gui.glwidget | saving frame as /media/ivar/SSD700GB/rendering/output_652.png\n"
     ]
    },
    {
     "name": "stdout",
     "output_type": "stream",
     "text": [
      "record pos 652\n"
     ]
    },
    {
     "name": "stderr",
     "output_type": "stream",
     "text": [
      "INFO:spimagine.gui.glwidget | saving frame as /media/ivar/SSD700GB/rendering/output_653.png\n"
     ]
    },
    {
     "name": "stdout",
     "output_type": "stream",
     "text": [
      "record pos 653\n"
     ]
    },
    {
     "name": "stderr",
     "output_type": "stream",
     "text": [
      "INFO:spimagine.gui.glwidget | saving frame as /media/ivar/SSD700GB/rendering/output_654.png\n"
     ]
    },
    {
     "name": "stdout",
     "output_type": "stream",
     "text": [
      "record pos 654\n"
     ]
    },
    {
     "name": "stderr",
     "output_type": "stream",
     "text": [
      "INFO:spimagine.gui.glwidget | saving frame as /media/ivar/SSD700GB/rendering/output_655.png\n"
     ]
    },
    {
     "name": "stdout",
     "output_type": "stream",
     "text": [
      "record pos 655\n"
     ]
    },
    {
     "name": "stderr",
     "output_type": "stream",
     "text": [
      "INFO:spimagine.gui.glwidget | saving frame as /media/ivar/SSD700GB/rendering/output_656.png\n"
     ]
    },
    {
     "name": "stdout",
     "output_type": "stream",
     "text": [
      "record pos 656\n"
     ]
    },
    {
     "name": "stderr",
     "output_type": "stream",
     "text": [
      "INFO:spimagine.gui.glwidget | saving frame as /media/ivar/SSD700GB/rendering/output_657.png\n"
     ]
    },
    {
     "name": "stdout",
     "output_type": "stream",
     "text": [
      "record pos 657\n"
     ]
    },
    {
     "name": "stderr",
     "output_type": "stream",
     "text": [
      "INFO:spimagine.gui.glwidget | saving frame as /media/ivar/SSD700GB/rendering/output_658.png\n"
     ]
    },
    {
     "name": "stdout",
     "output_type": "stream",
     "text": [
      "record pos 658\n"
     ]
    },
    {
     "name": "stderr",
     "output_type": "stream",
     "text": [
      "INFO:spimagine.gui.glwidget | saving frame as /media/ivar/SSD700GB/rendering/output_659.png\n"
     ]
    },
    {
     "name": "stdout",
     "output_type": "stream",
     "text": [
      "record pos 659\n"
     ]
    },
    {
     "name": "stderr",
     "output_type": "stream",
     "text": [
      "INFO:spimagine.gui.glwidget | saving frame as /media/ivar/SSD700GB/rendering/output_660.png\n"
     ]
    },
    {
     "name": "stdout",
     "output_type": "stream",
     "text": [
      "record pos 660\n"
     ]
    },
    {
     "name": "stderr",
     "output_type": "stream",
     "text": [
      "INFO:spimagine.gui.glwidget | saving frame as /media/ivar/SSD700GB/rendering/output_661.png\n"
     ]
    },
    {
     "name": "stdout",
     "output_type": "stream",
     "text": [
      "record pos 661\n"
     ]
    },
    {
     "name": "stderr",
     "output_type": "stream",
     "text": [
      "INFO:spimagine.gui.glwidget | saving frame as /media/ivar/SSD700GB/rendering/output_662.png\n"
     ]
    },
    {
     "name": "stdout",
     "output_type": "stream",
     "text": [
      "record pos 662\n"
     ]
    },
    {
     "name": "stderr",
     "output_type": "stream",
     "text": [
      "INFO:spimagine.gui.glwidget | saving frame as /media/ivar/SSD700GB/rendering/output_663.png\n"
     ]
    },
    {
     "name": "stdout",
     "output_type": "stream",
     "text": [
      "record pos 663\n"
     ]
    },
    {
     "name": "stderr",
     "output_type": "stream",
     "text": [
      "INFO:spimagine.gui.glwidget | saving frame as /media/ivar/SSD700GB/rendering/output_664.png\n"
     ]
    },
    {
     "name": "stdout",
     "output_type": "stream",
     "text": [
      "record pos 664\n"
     ]
    },
    {
     "name": "stderr",
     "output_type": "stream",
     "text": [
      "INFO:spimagine.gui.glwidget | saving frame as /media/ivar/SSD700GB/rendering/output_665.png\n"
     ]
    },
    {
     "name": "stdout",
     "output_type": "stream",
     "text": [
      "record pos 665\n"
     ]
    },
    {
     "name": "stderr",
     "output_type": "stream",
     "text": [
      "INFO:spimagine.gui.glwidget | saving frame as /media/ivar/SSD700GB/rendering/output_666.png\n"
     ]
    },
    {
     "name": "stdout",
     "output_type": "stream",
     "text": [
      "record pos 666\n"
     ]
    },
    {
     "name": "stderr",
     "output_type": "stream",
     "text": [
      "INFO:spimagine.gui.glwidget | saving frame as /media/ivar/SSD700GB/rendering/output_667.png\n"
     ]
    },
    {
     "name": "stdout",
     "output_type": "stream",
     "text": [
      "record pos 667\n"
     ]
    },
    {
     "name": "stderr",
     "output_type": "stream",
     "text": [
      "INFO:spimagine.gui.glwidget | saving frame as /media/ivar/SSD700GB/rendering/output_668.png\n"
     ]
    },
    {
     "name": "stdout",
     "output_type": "stream",
     "text": [
      "record pos 668\n"
     ]
    },
    {
     "name": "stderr",
     "output_type": "stream",
     "text": [
      "INFO:spimagine.gui.glwidget | saving frame as /media/ivar/SSD700GB/rendering/output_669.png\n"
     ]
    },
    {
     "name": "stdout",
     "output_type": "stream",
     "text": [
      "record pos 669\n"
     ]
    },
    {
     "name": "stderr",
     "output_type": "stream",
     "text": [
      "INFO:spimagine.gui.glwidget | saving frame as /media/ivar/SSD700GB/rendering/output_670.png\n"
     ]
    },
    {
     "name": "stdout",
     "output_type": "stream",
     "text": [
      "record pos 670\n"
     ]
    },
    {
     "name": "stderr",
     "output_type": "stream",
     "text": [
      "INFO:spimagine.gui.glwidget | saving frame as /media/ivar/SSD700GB/rendering/output_671.png\n"
     ]
    },
    {
     "name": "stdout",
     "output_type": "stream",
     "text": [
      "record pos 671\n"
     ]
    },
    {
     "name": "stderr",
     "output_type": "stream",
     "text": [
      "INFO:spimagine.gui.glwidget | saving frame as /media/ivar/SSD700GB/rendering/output_672.png\n"
     ]
    },
    {
     "name": "stdout",
     "output_type": "stream",
     "text": [
      "record pos 672\n"
     ]
    },
    {
     "name": "stderr",
     "output_type": "stream",
     "text": [
      "INFO:spimagine.gui.glwidget | saving frame as /media/ivar/SSD700GB/rendering/output_673.png\n"
     ]
    },
    {
     "name": "stdout",
     "output_type": "stream",
     "text": [
      "record pos 673\n"
     ]
    },
    {
     "name": "stderr",
     "output_type": "stream",
     "text": [
      "INFO:spimagine.gui.glwidget | saving frame as /media/ivar/SSD700GB/rendering/output_674.png\n"
     ]
    },
    {
     "name": "stdout",
     "output_type": "stream",
     "text": [
      "record pos 674\n"
     ]
    },
    {
     "name": "stderr",
     "output_type": "stream",
     "text": [
      "INFO:spimagine.gui.glwidget | saving frame as /media/ivar/SSD700GB/rendering/output_675.png\n"
     ]
    },
    {
     "name": "stdout",
     "output_type": "stream",
     "text": [
      "record pos 675\n"
     ]
    },
    {
     "name": "stderr",
     "output_type": "stream",
     "text": [
      "INFO:spimagine.gui.glwidget | saving frame as /media/ivar/SSD700GB/rendering/output_676.png\n"
     ]
    },
    {
     "name": "stdout",
     "output_type": "stream",
     "text": [
      "record pos 676\n"
     ]
    },
    {
     "name": "stderr",
     "output_type": "stream",
     "text": [
      "INFO:spimagine.gui.glwidget | saving frame as /media/ivar/SSD700GB/rendering/output_677.png\n"
     ]
    },
    {
     "name": "stdout",
     "output_type": "stream",
     "text": [
      "record pos 677\n"
     ]
    },
    {
     "name": "stderr",
     "output_type": "stream",
     "text": [
      "INFO:spimagine.gui.glwidget | saving frame as /media/ivar/SSD700GB/rendering/output_678.png\n"
     ]
    },
    {
     "name": "stdout",
     "output_type": "stream",
     "text": [
      "record pos 678\n"
     ]
    },
    {
     "name": "stderr",
     "output_type": "stream",
     "text": [
      "INFO:spimagine.gui.glwidget | saving frame as /media/ivar/SSD700GB/rendering/output_679.png\n"
     ]
    },
    {
     "name": "stdout",
     "output_type": "stream",
     "text": [
      "record pos 679\n"
     ]
    },
    {
     "name": "stderr",
     "output_type": "stream",
     "text": [
      "INFO:spimagine.gui.glwidget | saving frame as /media/ivar/SSD700GB/rendering/output_680.png\n"
     ]
    },
    {
     "name": "stdout",
     "output_type": "stream",
     "text": [
      "record pos 680\n"
     ]
    },
    {
     "name": "stderr",
     "output_type": "stream",
     "text": [
      "INFO:spimagine.gui.glwidget | saving frame as /media/ivar/SSD700GB/rendering/output_681.png\n"
     ]
    },
    {
     "name": "stdout",
     "output_type": "stream",
     "text": [
      "record pos 681\n"
     ]
    },
    {
     "name": "stderr",
     "output_type": "stream",
     "text": [
      "INFO:spimagine.gui.glwidget | saving frame as /media/ivar/SSD700GB/rendering/output_682.png\n"
     ]
    },
    {
     "name": "stdout",
     "output_type": "stream",
     "text": [
      "record pos 682\n"
     ]
    },
    {
     "name": "stderr",
     "output_type": "stream",
     "text": [
      "INFO:spimagine.gui.glwidget | saving frame as /media/ivar/SSD700GB/rendering/output_683.png\n"
     ]
    },
    {
     "name": "stdout",
     "output_type": "stream",
     "text": [
      "record pos 683\n"
     ]
    },
    {
     "name": "stderr",
     "output_type": "stream",
     "text": [
      "INFO:spimagine.gui.glwidget | saving frame as /media/ivar/SSD700GB/rendering/output_684.png\n"
     ]
    },
    {
     "name": "stdout",
     "output_type": "stream",
     "text": [
      "record pos 684\n"
     ]
    },
    {
     "name": "stderr",
     "output_type": "stream",
     "text": [
      "INFO:spimagine.gui.glwidget | saving frame as /media/ivar/SSD700GB/rendering/output_685.png\n"
     ]
    },
    {
     "name": "stdout",
     "output_type": "stream",
     "text": [
      "record pos 685\n"
     ]
    },
    {
     "name": "stderr",
     "output_type": "stream",
     "text": [
      "INFO:spimagine.gui.glwidget | saving frame as /media/ivar/SSD700GB/rendering/output_686.png\n"
     ]
    },
    {
     "name": "stdout",
     "output_type": "stream",
     "text": [
      "record pos 686\n"
     ]
    },
    {
     "name": "stderr",
     "output_type": "stream",
     "text": [
      "INFO:spimagine.gui.glwidget | saving frame as /media/ivar/SSD700GB/rendering/output_687.png\n"
     ]
    },
    {
     "name": "stdout",
     "output_type": "stream",
     "text": [
      "record pos 687\n"
     ]
    },
    {
     "name": "stderr",
     "output_type": "stream",
     "text": [
      "INFO:spimagine.gui.glwidget | saving frame as /media/ivar/SSD700GB/rendering/output_688.png\n"
     ]
    },
    {
     "name": "stdout",
     "output_type": "stream",
     "text": [
      "record pos 688\n"
     ]
    },
    {
     "name": "stderr",
     "output_type": "stream",
     "text": [
      "INFO:spimagine.gui.glwidget | saving frame as /media/ivar/SSD700GB/rendering/output_689.png\n"
     ]
    },
    {
     "name": "stdout",
     "output_type": "stream",
     "text": [
      "record pos 689\n"
     ]
    },
    {
     "name": "stderr",
     "output_type": "stream",
     "text": [
      "INFO:spimagine.gui.glwidget | saving frame as /media/ivar/SSD700GB/rendering/output_690.png\n"
     ]
    },
    {
     "name": "stdout",
     "output_type": "stream",
     "text": [
      "record pos 690\n"
     ]
    },
    {
     "name": "stderr",
     "output_type": "stream",
     "text": [
      "INFO:spimagine.gui.glwidget | saving frame as /media/ivar/SSD700GB/rendering/output_691.png\n"
     ]
    },
    {
     "name": "stdout",
     "output_type": "stream",
     "text": [
      "record pos 691\n"
     ]
    },
    {
     "name": "stderr",
     "output_type": "stream",
     "text": [
      "INFO:spimagine.gui.glwidget | saving frame as /media/ivar/SSD700GB/rendering/output_692.png\n"
     ]
    },
    {
     "name": "stdout",
     "output_type": "stream",
     "text": [
      "record pos 692\n"
     ]
    },
    {
     "name": "stderr",
     "output_type": "stream",
     "text": [
      "INFO:spimagine.gui.glwidget | saving frame as /media/ivar/SSD700GB/rendering/output_693.png\n"
     ]
    },
    {
     "name": "stdout",
     "output_type": "stream",
     "text": [
      "record pos 693\n"
     ]
    },
    {
     "name": "stderr",
     "output_type": "stream",
     "text": [
      "INFO:spimagine.gui.glwidget | saving frame as /media/ivar/SSD700GB/rendering/output_694.png\n"
     ]
    },
    {
     "name": "stdout",
     "output_type": "stream",
     "text": [
      "record pos 694\n"
     ]
    },
    {
     "name": "stderr",
     "output_type": "stream",
     "text": [
      "INFO:spimagine.gui.glwidget | saving frame as /media/ivar/SSD700GB/rendering/output_695.png\n"
     ]
    },
    {
     "name": "stdout",
     "output_type": "stream",
     "text": [
      "record pos 695\n"
     ]
    },
    {
     "name": "stderr",
     "output_type": "stream",
     "text": [
      "INFO:spimagine.gui.glwidget | saving frame as /media/ivar/SSD700GB/rendering/output_696.png\n"
     ]
    },
    {
     "name": "stdout",
     "output_type": "stream",
     "text": [
      "record pos 696\n"
     ]
    },
    {
     "name": "stderr",
     "output_type": "stream",
     "text": [
      "INFO:spimagine.gui.glwidget | saving frame as /media/ivar/SSD700GB/rendering/output_697.png\n"
     ]
    },
    {
     "name": "stdout",
     "output_type": "stream",
     "text": [
      "record pos 697\n"
     ]
    },
    {
     "name": "stderr",
     "output_type": "stream",
     "text": [
      "INFO:spimagine.gui.glwidget | saving frame as /media/ivar/SSD700GB/rendering/output_698.png\n"
     ]
    },
    {
     "name": "stdout",
     "output_type": "stream",
     "text": [
      "record pos 698\n"
     ]
    },
    {
     "name": "stderr",
     "output_type": "stream",
     "text": [
      "INFO:spimagine.gui.glwidget | saving frame as /media/ivar/SSD700GB/rendering/output_699.png\n"
     ]
    },
    {
     "name": "stdout",
     "output_type": "stream",
     "text": [
      "record pos 699\n"
     ]
    },
    {
     "name": "stderr",
     "output_type": "stream",
     "text": [
      "INFO:spimagine.gui.glwidget | saving frame as /media/ivar/SSD700GB/rendering/output_700.png\n"
     ]
    },
    {
     "name": "stdout",
     "output_type": "stream",
     "text": [
      "record pos 700\n"
     ]
    },
    {
     "name": "stderr",
     "output_type": "stream",
     "text": [
      "INFO:spimagine.gui.glwidget | saving frame as /media/ivar/SSD700GB/rendering/output_701.png\n"
     ]
    },
    {
     "name": "stdout",
     "output_type": "stream",
     "text": [
      "record pos 701\n"
     ]
    },
    {
     "name": "stderr",
     "output_type": "stream",
     "text": [
      "INFO:spimagine.gui.glwidget | saving frame as /media/ivar/SSD700GB/rendering/output_702.png\n"
     ]
    },
    {
     "name": "stdout",
     "output_type": "stream",
     "text": [
      "record pos 702\n"
     ]
    },
    {
     "name": "stderr",
     "output_type": "stream",
     "text": [
      "INFO:spimagine.gui.glwidget | saving frame as /media/ivar/SSD700GB/rendering/output_703.png\n"
     ]
    },
    {
     "name": "stdout",
     "output_type": "stream",
     "text": [
      "record pos 703\n"
     ]
    },
    {
     "name": "stderr",
     "output_type": "stream",
     "text": [
      "INFO:spimagine.gui.glwidget | saving frame as /media/ivar/SSD700GB/rendering/output_704.png\n"
     ]
    },
    {
     "name": "stdout",
     "output_type": "stream",
     "text": [
      "record pos 704\n"
     ]
    },
    {
     "name": "stderr",
     "output_type": "stream",
     "text": [
      "INFO:spimagine.gui.glwidget | saving frame as /media/ivar/SSD700GB/rendering/output_705.png\n"
     ]
    },
    {
     "name": "stdout",
     "output_type": "stream",
     "text": [
      "record pos 705\n"
     ]
    },
    {
     "name": "stderr",
     "output_type": "stream",
     "text": [
      "INFO:spimagine.gui.glwidget | saving frame as /media/ivar/SSD700GB/rendering/output_706.png\n"
     ]
    },
    {
     "name": "stdout",
     "output_type": "stream",
     "text": [
      "record pos 706\n"
     ]
    },
    {
     "name": "stderr",
     "output_type": "stream",
     "text": [
      "INFO:spimagine.gui.glwidget | saving frame as /media/ivar/SSD700GB/rendering/output_707.png\n"
     ]
    },
    {
     "name": "stdout",
     "output_type": "stream",
     "text": [
      "record pos 707\n"
     ]
    },
    {
     "name": "stderr",
     "output_type": "stream",
     "text": [
      "INFO:spimagine.gui.glwidget | saving frame as /media/ivar/SSD700GB/rendering/output_708.png\n"
     ]
    },
    {
     "name": "stdout",
     "output_type": "stream",
     "text": [
      "record pos 708\n"
     ]
    },
    {
     "name": "stderr",
     "output_type": "stream",
     "text": [
      "INFO:spimagine.gui.glwidget | saving frame as /media/ivar/SSD700GB/rendering/output_709.png\n"
     ]
    },
    {
     "name": "stdout",
     "output_type": "stream",
     "text": [
      "record pos 709\n"
     ]
    },
    {
     "name": "stderr",
     "output_type": "stream",
     "text": [
      "INFO:spimagine.gui.glwidget | saving frame as /media/ivar/SSD700GB/rendering/output_710.png\n"
     ]
    },
    {
     "name": "stdout",
     "output_type": "stream",
     "text": [
      "record pos 710\n"
     ]
    },
    {
     "name": "stderr",
     "output_type": "stream",
     "text": [
      "INFO:spimagine.gui.glwidget | saving frame as /media/ivar/SSD700GB/rendering/output_711.png\n"
     ]
    },
    {
     "name": "stdout",
     "output_type": "stream",
     "text": [
      "record pos 711\n"
     ]
    },
    {
     "name": "stderr",
     "output_type": "stream",
     "text": [
      "INFO:spimagine.gui.glwidget | saving frame as /media/ivar/SSD700GB/rendering/output_712.png\n"
     ]
    },
    {
     "name": "stdout",
     "output_type": "stream",
     "text": [
      "record pos 712\n"
     ]
    },
    {
     "name": "stderr",
     "output_type": "stream",
     "text": [
      "INFO:spimagine.gui.glwidget | saving frame as /media/ivar/SSD700GB/rendering/output_713.png\n"
     ]
    },
    {
     "name": "stdout",
     "output_type": "stream",
     "text": [
      "record pos 713\n"
     ]
    },
    {
     "name": "stderr",
     "output_type": "stream",
     "text": [
      "INFO:spimagine.gui.glwidget | saving frame as /media/ivar/SSD700GB/rendering/output_714.png\n"
     ]
    },
    {
     "name": "stdout",
     "output_type": "stream",
     "text": [
      "record pos 714\n"
     ]
    },
    {
     "name": "stderr",
     "output_type": "stream",
     "text": [
      "INFO:spimagine.gui.glwidget | saving frame as /media/ivar/SSD700GB/rendering/output_715.png\n"
     ]
    },
    {
     "name": "stdout",
     "output_type": "stream",
     "text": [
      "record pos 715\n"
     ]
    },
    {
     "name": "stderr",
     "output_type": "stream",
     "text": [
      "INFO:spimagine.gui.glwidget | saving frame as /media/ivar/SSD700GB/rendering/output_716.png\n"
     ]
    },
    {
     "name": "stdout",
     "output_type": "stream",
     "text": [
      "record pos 716\n"
     ]
    },
    {
     "name": "stderr",
     "output_type": "stream",
     "text": [
      "INFO:spimagine.gui.glwidget | saving frame as /media/ivar/SSD700GB/rendering/output_717.png\n"
     ]
    },
    {
     "name": "stdout",
     "output_type": "stream",
     "text": [
      "record pos 717\n"
     ]
    },
    {
     "name": "stderr",
     "output_type": "stream",
     "text": [
      "INFO:spimagine.gui.glwidget | saving frame as /media/ivar/SSD700GB/rendering/output_718.png\n"
     ]
    },
    {
     "name": "stdout",
     "output_type": "stream",
     "text": [
      "record pos 718\n"
     ]
    },
    {
     "name": "stderr",
     "output_type": "stream",
     "text": [
      "INFO:spimagine.gui.glwidget | saving frame as /media/ivar/SSD700GB/rendering/output_719.png\n"
     ]
    },
    {
     "name": "stdout",
     "output_type": "stream",
     "text": [
      "record pos 719\n"
     ]
    },
    {
     "name": "stderr",
     "output_type": "stream",
     "text": [
      "INFO:spimagine.gui.glwidget | saving frame as /media/ivar/SSD700GB/rendering/output_720.png\n"
     ]
    },
    {
     "name": "stdout",
     "output_type": "stream",
     "text": [
      "record pos 720\n"
     ]
    },
    {
     "name": "stderr",
     "output_type": "stream",
     "text": [
      "INFO:spimagine.gui.glwidget | saving frame as /media/ivar/SSD700GB/rendering/output_721.png\n"
     ]
    }
   ],
   "source": [
    "#spimagine_show_volume_numpy(np.random.randn(100, 50, 50, 50))"
   ]
  },
  {
   "cell_type": "code",
   "execution_count": 1,
   "metadata": {},
   "outputs": [],
   "source": [
    "from spimagine import volshow\n",
    "import numpy as np"
   ]
  },
  {
   "cell_type": "code",
   "execution_count": 2,
   "metadata": {},
   "outputs": [],
   "source": [
    "%gui qt5"
   ]
  },
  {
   "cell_type": "code",
   "execution_count": 31,
   "metadata": {},
   "outputs": [],
   "source": [
    "# create a 3d or 4d numpy array\n",
    "data = np.linspace(0,1,100**3).reshape((100,)*3)          \n",
    "\n",
    "# render the data and returns the widget \n",
    "w = volshow(data)       \n",
    "\n",
    "# manipulate the render states, e.g. rotation and colormap\n",
    "#w.transform.setRotation(.1,1,0,1)\n",
    "w.set_colormap(\"hot\")\n",
    "\n",
    "# save the current view to a file  \n",
    "#w.saveFrame(\"scene.png\")"
   ]
  },
  {
   "cell_type": "code",
   "execution_count": 33,
   "metadata": {},
   "outputs": [],
   "source": [
    "w.transform.setRotation(np.pi/2,0,1,0)"
   ]
  },
  {
   "cell_type": "code",
   "execution_count": null,
   "metadata": {},
   "outputs": [],
   "source": []
  }
 ],
 "metadata": {
  "kernelspec": {
   "display_name": "Python (spimenv)",
   "language": "python",
   "name": "spimenv"
  },
  "language_info": {
   "codemirror_mode": {
    "name": "ipython",
    "version": 3
   },
   "file_extension": ".py",
   "mimetype": "text/x-python",
   "name": "python",
   "nbconvert_exporter": "python",
   "pygments_lexer": "ipython3",
   "version": "3.6.7"
  }
 },
 "nbformat": 4,
 "nbformat_minor": 4
}
