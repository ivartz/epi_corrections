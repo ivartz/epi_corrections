{
 "cells": [
  {
   "cell_type": "markdown",
   "metadata": {},
   "source": [
    "# Simple volume rendering of NIFTI and numpy arrays\n",
    "This notebook is intended to be run within:\n",
    "https://github.com/ivartz/spimagine-jupyter-docker"
   ]
  },
  {
   "cell_type": "markdown",
   "metadata": {},
   "source": [
    "### __Dependencies & Setup__"
   ]
  },
  {
   "cell_type": "code",
   "execution_count": 15,
   "metadata": {
    "scrolled": true
   },
   "outputs": [
    {
     "name": "stdout",
     "output_type": "stream",
     "text": [
      "Requirement already satisfied (use --upgrade to upgrade): pandas in /usr/local/lib/python3.5/dist-packages\n",
      "Requirement already satisfied (use --upgrade to upgrade): numpy>=1.12.0 in /usr/local/lib/python3.5/dist-packages (from pandas)\n",
      "Requirement already satisfied (use --upgrade to upgrade): pytz>=2011k in /usr/local/lib/python3.5/dist-packages (from pandas)\n",
      "Requirement already satisfied (use --upgrade to upgrade): python-dateutil>=2.5.0 in /usr/local/lib/python3.5/dist-packages (from pandas)\n",
      "Requirement already satisfied (use --upgrade to upgrade): six>=1.5 in /usr/local/lib/python3.5/dist-packages (from python-dateutil>=2.5.0->pandas)\n",
      "\u001b[33mYou are using pip version 8.1.1, however version 19.1.1 is available.\n",
      "You should consider upgrading via the 'pip install --upgrade pip' command.\u001b[0m\n",
      "Requirement already satisfied (use --upgrade to upgrade): nibabel in /usr/local/lib/python3.5/dist-packages\n",
      "Requirement already satisfied (use --upgrade to upgrade): numpy>=1.8 in /usr/local/lib/python3.5/dist-packages (from nibabel)\n",
      "Requirement already satisfied (use --upgrade to upgrade): six>=1.3 in /usr/local/lib/python3.5/dist-packages (from nibabel)\n",
      "\u001b[33mYou are using pip version 8.1.1, however version 19.1.1 is available.\n",
      "You should consider upgrading via the 'pip install --upgrade pip' command.\u001b[0m\n"
     ]
    }
   ],
   "source": [
    "# Install some pip packages in the current Jupyter kernel.\n",
    "import sys\n",
    "!{sys.executable} -m pip install pandas\n",
    "!{sys.executable} -m pip install nibabel"
   ]
  },
  {
   "cell_type": "code",
   "execution_count": 16,
   "metadata": {},
   "outputs": [],
   "source": [
    "%gui qt5\n",
    "import numpy as np\n",
    "import nibabel as nib\n",
    "from spimagine import volshow, volfig"
   ]
  },
  {
   "cell_type": "code",
   "execution_count": 17,
   "metadata": {},
   "outputs": [],
   "source": [
    "def spimagine_show_volume_numpy(numpy_array, stackUnits=(1, 1, 1)):\n",
    "    # Spimagine OpenCL volume renderer.\n",
    "    volfig()\n",
    "    spim_widget = \\\n",
    "    volshow(numpy_array, stackUnits=stackUnits, interpolation='nearest')\n",
    "    spim_widget.set_colormap(\"grays\")\n",
    "\n",
    "def load_nifti(file):\n",
    "    # Returns \n",
    "    # voxel data : numpy array\n",
    "    # voxel dimensions (x, y, z) : tuple(,,)\n",
    "    # nifti header : nibabel.nifti1.Nifti1Header\n",
    "    data_class = nib.load(file)\n",
    "    return data_class.get_fdata(), tuple(data_class.header[\"pixdim\"][1:4]), data_class.header\n",
    "\n",
    "def xyzt_to_tzyx(vol_xyzt):\n",
    "    vol_tyzx = np.swapaxes(vol_xyzt, 0, 3)\n",
    "    vol_tzyx = np.swapaxes(vol_tyzx, 1, 2)\n",
    "    \n",
    "    # Return data with reverse x axis\n",
    "    return vol_tzyx[:,:,:,::-1]\n",
    "\n",
    "def xyz_to_zyx(vol_xyz):\n",
    "    vol_zyx = np.swapaxes(vol_xyz, 0, 2)\n",
    "    \n",
    "    # Return data with reverse x axis\n",
    "    return vol_zyx[:,:,::-1]"
   ]
  },
  {
   "cell_type": "markdown",
   "metadata": {},
   "source": [
    "### __Load NIFTI file and header__"
   ]
  },
  {
   "cell_type": "code",
   "execution_count": 18,
   "metadata": {},
   "outputs": [],
   "source": [
    "corrections_base_directory = \"../../epi_corrections_out_2019_04_25_372114315\"\n",
    "CBV_out_dir = corrections_base_directory + \"/\" + \"CBV_histograms\";\n",
    "regions_file = corrections_base_directory + \"/\" + \"rlabels_Neuromorphometrics.nii\""
   ]
  },
  {
   "cell_type": "code",
   "execution_count": 19,
   "metadata": {},
   "outputs": [],
   "source": [
    "regions_class = nib.load(regions_file)"
   ]
  },
  {
   "cell_type": "code",
   "execution_count": 20,
   "metadata": {},
   "outputs": [],
   "source": [
    "regions_data, pixdim, header = load_nifti(regions_file)"
   ]
  },
  {
   "cell_type": "code",
   "execution_count": 26,
   "metadata": {},
   "outputs": [
    {
     "data": {
      "text/plain": [
       "(2.0, 2.0, 2.0)"
      ]
     },
     "execution_count": 26,
     "metadata": {},
     "output_type": "execute_result"
    }
   ],
   "source": [
    "pixdim"
   ]
  },
  {
   "cell_type": "code",
   "execution_count": 22,
   "metadata": {},
   "outputs": [
    {
     "name": "stdout",
     "output_type": "stream",
     "text": [
      "<class 'nibabel.nifti1.Nifti1Header'> object, endian='<'\n",
      "sizeof_hdr      : 348\n",
      "data_type       : b''\n",
      "db_name         : b''\n",
      "extents         : 0\n",
      "session_error   : 0\n",
      "regular         : b'r'\n",
      "dim_info        : 0\n",
      "dim             : [ 3 79 95 79  1  1  1  1]\n",
      "intent_p1       : 0.0\n",
      "intent_p2       : 0.0\n",
      "intent_p3       : 0.0\n",
      "intent_code     : none\n",
      "datatype        : uint8\n",
      "bitpix          : 8\n",
      "slice_start     : 0\n",
      "pixdim          : [-1.  2.  2.  2.  0.  0.  0.  0.]\n",
      "vox_offset      : 0.0\n",
      "scl_slope       : nan\n",
      "scl_inter       : nan\n",
      "slice_end       : 0\n",
      "slice_code      : unknown\n",
      "xyzt_units      : 10\n",
      "cal_max         : 0.0\n",
      "cal_min         : 0.0\n",
      "slice_duration  : 0.0\n",
      "toffset         : 0.0\n",
      "glmax           : 0\n",
      "glmin           : 0\n",
      "descrip         : b'spm - realigned'\n",
      "aux_file        : b''\n",
      "qform_code      : aligned\n",
      "sform_code      : aligned\n",
      "quatern_b       : 0.0\n",
      "quatern_c       : 1.0\n",
      "quatern_d       : 0.0\n",
      "qoffset_x       : 78.0\n",
      "qoffset_y       : -112.0\n",
      "qoffset_z       : -70.0\n",
      "srow_x          : [-2.  0.  0. 78.]\n",
      "srow_y          : [   0.    2.    0. -112.]\n",
      "srow_z          : [  0.   0.   2. -70.]\n",
      "intent_name     : b''\n",
      "magic           : b'n+1'\n"
     ]
    }
   ],
   "source": [
    "print(header)"
   ]
  },
  {
   "cell_type": "markdown",
   "metadata": {},
   "source": [
    "### __Render NIFTI volume__"
   ]
  },
  {
   "cell_type": "code",
   "execution_count": 27,
   "metadata": {},
   "outputs": [],
   "source": [
    "spimagine_show_volume_numpy(xyz_to_zyx(regions_data), stackUnits=pixdim)"
   ]
  },
  {
   "cell_type": "markdown",
   "metadata": {},
   "source": [
    "### __Render numpy array__"
   ]
  },
  {
   "cell_type": "code",
   "execution_count": 25,
   "metadata": {},
   "outputs": [],
   "source": [
    "spimagine_show_volume_numpy(np.random.randn(100, 50, 50, 50))"
   ]
  }
 ],
 "metadata": {
  "kernelspec": {
   "display_name": "Python 3",
   "language": "python",
   "name": "python3"
  },
  "language_info": {
   "codemirror_mode": {
    "name": "ipython",
    "version": 3
   },
   "file_extension": ".py",
   "mimetype": "text/x-python",
   "name": "python",
   "nbconvert_exporter": "python",
   "pygments_lexer": "ipython3",
   "version": "3.5.2"
  }
 },
 "nbformat": 4,
 "nbformat_minor": 2
}
