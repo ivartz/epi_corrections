{
 "cells": [
  {
   "cell_type": "markdown",
   "metadata": {},
   "source": [
    "This notebook contains code for counting tumor overlap with top regions using mean tumor ROIs from the ONCOHabitats pipeline."
   ]
  },
  {
   "cell_type": "markdown",
   "metadata": {},
   "source": [
    "1. Specify epi_corrections output directory"
   ]
  },
  {
   "cell_type": "code",
   "execution_count": 5,
   "metadata": {},
   "outputs": [
    {
     "data": {
      "text/plain": [
       "'../../epi_corrections_out_2019_12_03_tumor_exluded_from_rcbv_better_rois'"
      ]
     },
     "execution_count": 5,
     "metadata": {},
     "output_type": "execute_result"
    }
   ],
   "source": [
    "output_directory_suffix = \"2019_12_03\"\n",
    "# On local file system:\n",
    "corrections_base_directory = \"../../epi_corrections_out_\" + output_directory_suffix + \"_tumor_exluded_from_rcbv_better_rois\"\n",
    "# On samba share (remote file sytem):\n",
    "#corrections_base_directory = \"/run/user/1000/gvfs/smb-share:server=192.168.1.207,share=hdd3tb1/data/IVS_EPI_BASELINE/epi_corrections_out_\" + output_directory_suffix\n",
    "corrections_base_directory"
   ]
  },
  {
   "cell_type": "markdown",
   "metadata": {},
   "source": [
    "2. Find the MNI-normalized ROIs."
   ]
  },
  {
   "cell_type": "code",
   "execution_count": 6,
   "metadata": {},
   "outputs": [],
   "source": [
    "%run utils.py\n",
    "%run search.py\n",
    "%run checks.py"
   ]
  },
  {
   "cell_type": "code",
   "execution_count": 7,
   "metadata": {},
   "outputs": [],
   "source": [
    "ONCOHabitats_results_folder = \"ONCOHabitats_tumor_segments_from_flair_native\"\n",
    "segment_files_relative = find_segment_files(corrections_base_directory + \"/\" + ONCOHabitats_results_folder)\n",
    "segment_paths_relative = [Path(file) for file in segment_files_relative]\n",
    "segments_files_full = [str(Path.joinpath(Path.cwd().parent.parent, *relative.parts[2:])) for relative in segment_paths_relative]"
   ]
  },
  {
   "cell_type": "code",
   "execution_count": 8,
   "metadata": {},
   "outputs": [
    {
     "data": {
      "text/plain": [
       "45"
      ]
     },
     "execution_count": 8,
     "metadata": {},
     "output_type": "execute_result"
    }
   ],
   "source": [
    "len(segments_files_full)"
   ]
  },
  {
   "cell_type": "markdown",
   "metadata": {},
   "source": [
    "3. Find label files and names and verify that all label files are equal"
   ]
  },
  {
   "cell_type": "code",
   "execution_count": 9,
   "metadata": {},
   "outputs": [],
   "source": [
    "raw_label_files_e1, \\\n",
    "topup_label_files_e1, \\\n",
    "epic_label_files_e1, \\\n",
    "raw_label_files_e2, \\\n",
    "topup_label_files_e2, \\\n",
    "epic_label_files_e2 = \\\n",
    "find_label_files_lrmerged(corrections_base_directory)"
   ]
  },
  {
   "cell_type": "code",
   "execution_count": 10,
   "metadata": {},
   "outputs": [
    {
     "name": "stdout",
     "output_type": "stream",
     "text": [
      "Equal number of detected label files for raw (uncorrected), topup, and epic correction methods: True\n",
      "Number of subject in each labels file: 45\n"
     ]
    }
   ],
   "source": [
    "print(\"Equal number of detected label files for raw (uncorrected), topup, and epic correction methods: %r\" % \\\n",
    "      (len(raw_label_files_e1) == \\\n",
    "       len(raw_label_files_e2) == \\\n",
    "       len(topup_label_files_e1) == \\\n",
    "       len(topup_label_files_e2) == \\\n",
    "       len(epic_label_files_e1) == \\\n",
    "       len(epic_label_files_e2)))\n",
    "print(\"Number of subject in each labels file: %i\" % len(raw_label_files_e1))"
   ]
  },
  {
   "cell_type": "code",
   "execution_count": 11,
   "metadata": {},
   "outputs": [
    {
     "name": "stdout",
     "output_type": "stream",
     "text": [
      "All regions are identical for correction method: True\n",
      "All regions are identical for correction method: True\n",
      "All regions are identical for correction method: True\n",
      "All regions are identical for correction method: True\n",
      "All regions are identical for correction method: True\n",
      "All regions are identical for correction method: True\n"
     ]
    }
   ],
   "source": [
    "check_if_all_region_sets_are_identical_for_method(raw_label_files_e1)\n",
    "check_if_all_region_sets_are_identical_for_method(topup_label_files_e1)\n",
    "check_if_all_region_sets_are_identical_for_method(epic_label_files_e1)\n",
    "check_if_all_region_sets_are_identical_for_method(raw_label_files_e2)\n",
    "check_if_all_region_sets_are_identical_for_method(topup_label_files_e2)\n",
    "check_if_all_region_sets_are_identical_for_method(epic_label_files_e2)"
   ]
  },
  {
   "cell_type": "code",
   "execution_count": 12,
   "metadata": {},
   "outputs": [
    {
     "name": "stdout",
     "output_type": "stream",
     "text": [
      "All regions are equal for pair: True\n",
      "All regions are equal for pair: True\n",
      "All regions are equal for pair: True\n",
      "All regions are equal for pair: True\n",
      "All regions are equal for pair: True\n"
     ]
    }
   ],
   "source": [
    "check_if_two_region_sets_are_identical(raw_label_files_e1[0], topup_label_files_e1[0])\n",
    "check_if_two_region_sets_are_identical(topup_label_files_e1[0], epic_label_files_e1[0])\n",
    "check_if_two_region_sets_are_identical(epic_label_files_e1[0], raw_label_files_e2[0])\n",
    "check_if_two_region_sets_are_identical(raw_label_files_e2[0], topup_label_files_e2[0])\n",
    "check_if_two_region_sets_are_identical(topup_label_files_e2[0], epic_label_files_e2[0])"
   ]
  },
  {
   "cell_type": "code",
   "execution_count": 13,
   "metadata": {},
   "outputs": [
    {
     "data": {
      "text/plain": [
       "'../../epi_corrections_out_2019_12_03_tumor_exluded_from_rcbv_better_rois/EPI_raw_DSC/Anonymized/DEFACED_IVS/372114315/DAY_0000/No_DeFacing_GE-SE_EPI_SSH_v1_32CH_V2_scan/r_e1_labels_Neuromorphometrics_lrmerged.nii'"
      ]
     },
     "execution_count": 13,
     "metadata": {},
     "output_type": "execute_result"
    }
   ],
   "source": [
    "# Based on the results, this file is used in reslice-tumor-segments.ipynb as image defining space when reslicing tumor segments\n",
    "label_file = raw_label_files_e1[0]\n",
    "label_file"
   ]
  },
  {
   "cell_type": "code",
   "execution_count": 14,
   "metadata": {},
   "outputs": [],
   "source": [
    "region_names_clean = np.array(['3rd Ventricle', '4th Ventricle', 'Left & right Accumbens Area',\n",
    "       'Left & right Amygdala', 'Brain Stem', 'Left & right Caudate',\n",
    "       'Left & right Cerebellum Exterior',\n",
    "       'Left & right Cerebellum White Matter',\n",
    "       'Left & right Cerebral White Matter', 'Cerebrospinal fluid',\n",
    "       'Left & right Hippocampus', 'Left & right Inferior Lateral Ventricles',\n",
    "       'Left & right Lateral Ventricle', 'Left & right Pallidum',\n",
    "       'Left & right Putamen', 'Left & right Thalamus Proper',\n",
    "       'Left & right Ventral DC', 'Optic Chiasm',\n",
    "       'Cerebellar Vermal Lobules I-V',\n",
    "       'Cerebellar Vermal Lobules VI-VII',\n",
    "       'Cerebellar Vermal Lobules VIII-X', 'Left & right Basal Forebrain',\n",
    "       'Left & right anterior cingulate gyrus',\n",
    "       'Left & right anterior insula',\n",
    "       'Left & right anterior orbital gyrus',\n",
    "       'Left & right angular gyrus',\n",
    "       'Left & right calcarine cortex',\n",
    "       'Left & right central operculum', 'Left & right cuneus',\n",
    "       'Left & right entorhinal area',\n",
    "       'Left & right frontal operculum',\n",
    "       'Left & right frontal pole', 'Left & right fusiform gyrus',\n",
    "       'Left & right gyrus rectus',\n",
    "       'Left & right inferior occipital gyrus',\n",
    "       'Left & right inferior temporal gyrus',\n",
    "       'Left & right lingual gyrus',\n",
    "       'Left & right lateral orbital gyrus',\n",
    "       'Left & right middle cingulate gyrus',\n",
    "       'Left & right medial frontal cortex',\n",
    "       'Left & right middle frontal gyrus',\n",
    "       'Left & right middle occipital gyrus',\n",
    "       'Left & right medial orbital gyrus',\n",
    "       'Left & right postcentral gyrus medial segment',\n",
    "       'Left & right precentral gyrus medial segment',\n",
    "       'Left & right superior frontal gyrus medial segment',\n",
    "       'Left & right middle temporal gyrus',\n",
    "       'Left & right occipital pole',\n",
    "       'Left & right occipital fusiform gyrus',\n",
    "       'Left & right opercular part of the inferior frontal gyrus',\n",
    "       'Left & right orbital part of the inferior frontal gyrus',\n",
    "       'Left & right posterior cingulate gyrus',\n",
    "       'Left & right precuneus',\n",
    "       'Left & right parahippocampal gyrus',\n",
    "       'Left & right posterior insula',\n",
    "       'Left & right parietal operculum',\n",
    "       'Left & right postcentral gyrus',\n",
    "       'Left & right posterior orbital gyrus',\n",
    "       'Left & right planum polare',\n",
    "       'Left & right precentral gyrus',\n",
    "       'Left & right planum temporale',\n",
    "       'Left & right subcallosal area',\n",
    "       'Left & right superior frontal gyrus',\n",
    "       'Left & right supplementary motor cortex',\n",
    "       'Left & right supramarginal gyrus',\n",
    "       'Left & right superior occipital gyrus',\n",
    "       'Left & right superior parietal lobule',\n",
    "       'Left & right superior temporal gyrus',\n",
    "       'Left & right temporal pole',\n",
    "       'Left & right triangular part of the inferior frontal gyrus',\n",
    "       'Left & right transverse temporal gyrus'])"
   ]
  },
  {
   "cell_type": "code",
   "execution_count": 15,
   "metadata": {},
   "outputs": [
    {
     "data": {
      "text/plain": [
       "(71,)"
      ]
     },
     "execution_count": 15,
     "metadata": {},
     "output_type": "execute_result"
    }
   ],
   "source": [
    "region_names_clean.shape"
   ]
  },
  {
   "cell_type": "code",
   "execution_count": 16,
   "metadata": {},
   "outputs": [
    {
     "data": {
      "text/plain": [
       "array([ 0.,  1.,  2.,  3.,  4.,  5.,  6.,  7.,  8.,  9., 10., 11., 12.,\n",
       "       13., 14., 15., 16., 17., 19., 20., 21., 22., 23., 24., 25., 26.,\n",
       "       27., 28., 29., 30., 31., 32., 33., 34., 35., 36., 37., 38., 39.,\n",
       "       40., 41., 42., 43., 44., 45., 46., 47., 48., 49., 50., 51., 52.,\n",
       "       53., 54., 55., 56., 57., 58., 59., 60., 61., 62., 63., 64., 65.,\n",
       "       66., 67., 68., 69., 70., 71., 72.])"
      ]
     },
     "execution_count": 16,
     "metadata": {},
     "output_type": "execute_result"
    }
   ],
   "source": [
    "# 0 (outside of the brain) is included\n",
    "np.unique(load_nifti(label_file)[0])"
   ]
  },
  {
   "cell_type": "markdown",
   "metadata": {},
   "source": [
    "4. Load top file"
   ]
  },
  {
   "cell_type": "code",
   "execution_count": 1026,
   "metadata": {},
   "outputs": [],
   "source": [
    "top_file_name = [\"top-18-increase_significant_rvte2.nii\", \\\n",
    "                 \"top-17-increase_significant_rvee2.nii\", \\\n",
    "                 \"top-7-increase_significant_rvte1.nii\", \\\n",
    "                 \"top-6-increase_significant_rvee1.nii\"][3]"
   ]
  },
  {
   "cell_type": "code",
   "execution_count": 1027,
   "metadata": {},
   "outputs": [
    {
     "data": {
      "text/plain": [
       "'../../epi_corrections_out_2019_07_02_tumor_exluded_from_rcbv/CBV_histograms_bins_64_min_0_max_12_region_rec_c_frac_0.7_region_min_vox_30/top-6-increase_significant_rvee1.nii'"
      ]
     },
     "execution_count": 1027,
     "metadata": {},
     "output_type": "execute_result"
    }
   ],
   "source": [
    "top_file = corrections_base_directory + \"/CBV_histograms_bins_64_min_0_max_12_region_rec_c_frac_0.7_region_min_vox_30/\" + \\\n",
    "top_file_name\n",
    "top_file"
   ]
  },
  {
   "cell_type": "code",
   "execution_count": 1028,
   "metadata": {},
   "outputs": [],
   "source": [
    "top_data, _, _ = load_nifti(top_file)\n",
    "min_num_voxels = 500"
   ]
  },
  {
   "cell_type": "markdown",
   "metadata": {},
   "source": [
    "5. Define function to find top regions"
   ]
  },
  {
   "cell_type": "code",
   "execution_count": 1029,
   "metadata": {},
   "outputs": [],
   "source": [
    "def get_top_regions(tumor_region_value, \\\n",
    "                    min_num_voxels, \\\n",
    "                    segments_files_full, \\\n",
    "                    label_file, \\\n",
    "                    region_names_clean):\n",
    "    region_value_counts = np.zeros(73, dtype=np.int64)\n",
    "    for segment_file in segments_files_full:\n",
    "        segment_data = load_nifti(segment_file)[0]\n",
    "        if np.sum((top_data != 0)[(segment_data == tumor_region_value)]) > min_num_voxels:\n",
    "            #region_voxels_list = load_nifti(label_file)[0][(segment_data == tumor_region_value and top_data != 0)].astype(np.int64)\n",
    "            segment_mask = segment_data == tumor_region_value\n",
    "            top_mask = top_data != 0\n",
    "            mask = top_mask & segment_mask # Bitwise AND\n",
    "            region_voxels_list = load_nifti(label_file)[0][mask].astype(np.int64)\n",
    "            region_value, counts = np.unique(region_voxels_list, return_counts=True)\n",
    "            region_value_counts[region_value] += counts        \n",
    "            #top_region_values_sorted = region_value[np.argsort(counts)][::-1]        \n",
    "            #top_counts_sorted = np.sort(counts)[::-1]\n",
    "            #print(segment_file)\n",
    "    \n",
    "    # Exclude region 18 (see correction_assessment_part_2.ipynb)\n",
    "    region_value_counts = np.concatenate((region_value_counts[:16], region_value_counts[17:]))\n",
    "    # Exclude outside of the skull (errors)\n",
    "    region_value_counts = region_value_counts[1:]\n",
    "    # Get the top regions\n",
    "    top_region_values = np.argsort(region_value_counts)[::-1].astype(np.int64)\n",
    "    top_counts = np.sort(region_value_counts)[::-1]\n",
    "    \n",
    "    return np.array(list(zip(region_names_clean[top_region_values], top_counts/np.sum(top_counts))))\n",
    "    #return np.array(list(zip(region_names_clean[top_region_values], top_counts)))"
   ]
  },
  {
   "cell_type": "markdown",
   "metadata": {},
   "source": [
    "5a. Number of subjects with > 4cm^3 enhancing tumor in any of the top regions"
   ]
  },
  {
   "cell_type": "code",
   "execution_count": 1030,
   "metadata": {},
   "outputs": [
    {
     "data": {
      "text/plain": [
       "3"
      ]
     },
     "execution_count": 1030,
     "metadata": {},
     "output_type": "execute_result"
    }
   ],
   "source": [
    "np.sum([np.any((top_data != 0)[((load_nifti(segment_file))[0] == 3)]) for segment_file in segments_files_full if np.sum((top_data != 0)[((load_nifti(segment_file))[0] == 3)]) > min_num_voxels])"
   ]
  },
  {
   "cell_type": "markdown",
   "metadata": {},
   "source": [
    "5b. Top 10 regions with > 4cm^3 enhancing tumor"
   ]
  },
  {
   "cell_type": "code",
   "execution_count": 1031,
   "metadata": {},
   "outputs": [
    {
     "data": {
      "text/plain": [
       "array([['Left & right Caudate', '0.4358974358974359'],\n",
       "       ['Left & right posterior orbital gyrus', '0.32625994694960214'],\n",
       "       ['Left & right lateral orbital gyrus', '0.1361626878868258'],\n",
       "       ['Left & right orbital part of the inferior frontal gyrus',\n",
       "        '0.10167992926613616'],\n",
       "       ['Left & right transverse temporal gyrus', '0.0'],\n",
       "       ['Left & right anterior orbital gyrus', '0.0'],\n",
       "       ['Cerebellar Vermal Lobules VI-VII', '0.0'],\n",
       "       ['Cerebellar Vermal Lobules VIII-X', '0.0'],\n",
       "       ['Left & right Basal Forebrain', '0.0'],\n",
       "       ['Left & right anterior cingulate gyrus', '0.0']], dtype='<U58')"
      ]
     },
     "execution_count": 1031,
     "metadata": {},
     "output_type": "execute_result"
    }
   ],
   "source": [
    "get_top_regions(3, \\\n",
    "                min_num_voxels, \\\n",
    "                segments_files_full, \\\n",
    "                label_file, \\\n",
    "                region_names_clean)[:10]"
   ]
  },
  {
   "cell_type": "markdown",
   "metadata": {},
   "source": [
    "6a. Number of subjects with > 4cm^3 necrotic tumor in any of the top regions"
   ]
  },
  {
   "cell_type": "code",
   "execution_count": 1032,
   "metadata": {},
   "outputs": [
    {
     "data": {
      "text/plain": [
       "1"
      ]
     },
     "execution_count": 1032,
     "metadata": {},
     "output_type": "execute_result"
    }
   ],
   "source": [
    "np.sum([np.any((top_data != 0)[((load_nifti(segment_file))[0] == 1)]) for segment_file in segments_files_full if np.sum((top_data != 0)[((load_nifti(segment_file))[0] == 1)]) > min_num_voxels])"
   ]
  },
  {
   "cell_type": "markdown",
   "metadata": {},
   "source": [
    "6b. Top 10 regions with > 4cm^3 necrotic tumor"
   ]
  },
  {
   "cell_type": "code",
   "execution_count": 1033,
   "metadata": {},
   "outputs": [
    {
     "data": {
      "text/plain": [
       "array([['Left & right Caudate', '0.6350649350649351'],\n",
       "       ['Left & right orbital part of the inferior frontal gyrus',\n",
       "        '0.14805194805194805'],\n",
       "       ['Left & right posterior orbital gyrus', '0.12987012987012986'],\n",
       "       ['Left & right lateral orbital gyrus', '0.08701298701298701'],\n",
       "       ['Left & right transverse temporal gyrus', '0.0'],\n",
       "       ['Left & right anterior orbital gyrus', '0.0'],\n",
       "       ['Cerebellar Vermal Lobules VI-VII', '0.0'],\n",
       "       ['Cerebellar Vermal Lobules VIII-X', '0.0'],\n",
       "       ['Left & right Basal Forebrain', '0.0'],\n",
       "       ['Left & right anterior cingulate gyrus', '0.0']], dtype='<U58')"
      ]
     },
     "execution_count": 1033,
     "metadata": {},
     "output_type": "execute_result"
    }
   ],
   "source": [
    "get_top_regions(1, \\\n",
    "                min_num_voxels, \\\n",
    "                segments_files_full, \\\n",
    "                label_file, \\\n",
    "                region_names_clean)[:10]"
   ]
  },
  {
   "cell_type": "markdown",
   "metadata": {},
   "source": [
    "7. Number of subjects with > 4cm^3 edema tumor in any of the top regions"
   ]
  },
  {
   "cell_type": "code",
   "execution_count": 1034,
   "metadata": {},
   "outputs": [
    {
     "data": {
      "text/plain": [
       "12"
      ]
     },
     "execution_count": 1034,
     "metadata": {},
     "output_type": "execute_result"
    }
   ],
   "source": [
    "np.sum([np.any((top_data != 0)[((load_nifti(segment_file))[0] == 2)]) for segment_file in segments_files_full if np.sum((top_data != 0)[((load_nifti(segment_file))[0] == 2)]) > min_num_voxels])"
   ]
  },
  {
   "cell_type": "markdown",
   "metadata": {},
   "source": [
    "5b. Top 10 regions with > 4cm^3 edema tumor"
   ]
  },
  {
   "cell_type": "code",
   "execution_count": 1035,
   "metadata": {},
   "outputs": [
    {
     "data": {
      "text/plain": [
       "array([['Left & right Caudate', '0.44498408976720816'],\n",
       "       ['Left & right posterior orbital gyrus', '0.28839390386869873'],\n",
       "       ['Left & right orbital part of the inferior frontal gyrus',\n",
       "        '0.14084742924133312'],\n",
       "       ['Left & right lateral orbital gyrus', '0.1256071009881092'],\n",
       "       ['Left & right occipital pole', '0.00016747613465081226'],\n",
       "       ['Left & right transverse temporal gyrus', '0.0'],\n",
       "       ['Left & right anterior insula', '0.0'],\n",
       "       ['Cerebellar Vermal Lobules VI-VII', '0.0'],\n",
       "       ['Cerebellar Vermal Lobules VIII-X', '0.0'],\n",
       "       ['Left & right Basal Forebrain', '0.0']], dtype='<U58')"
      ]
     },
     "execution_count": 1035,
     "metadata": {},
     "output_type": "execute_result"
    }
   ],
   "source": [
    "get_top_regions(2, \\\n",
    "                min_num_voxels, \\\n",
    "                segments_files_full, \\\n",
    "                label_file, \\\n",
    "                region_names_clean)[:10]"
   ]
  }
 ],
 "metadata": {
  "kernelspec": {
   "display_name": "Python 3",
   "language": "python",
   "name": "python3"
  },
  "language_info": {
   "codemirror_mode": {
    "name": "ipython",
    "version": 3
   },
   "file_extension": ".py",
   "mimetype": "text/x-python",
   "name": "python",
   "nbconvert_exporter": "python",
   "pygments_lexer": "ipython3",
   "version": "3.6.8"
  }
 },
 "nbformat": 4,
 "nbformat_minor": 4
}
