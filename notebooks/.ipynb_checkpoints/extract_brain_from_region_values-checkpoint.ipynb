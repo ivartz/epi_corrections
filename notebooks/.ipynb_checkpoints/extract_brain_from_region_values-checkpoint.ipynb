{
 "cells": [
  {
   "cell_type": "code",
   "execution_count": 41,
   "metadata": {},
   "outputs": [],
   "source": [
    "%run utils.py\n",
    "%run visualization.py\n",
    "%run search.py"
   ]
  },
  {
   "cell_type": "code",
   "execution_count": 42,
   "metadata": {},
   "outputs": [],
   "source": [
    "import copy"
   ]
  },
  {
   "cell_type": "code",
   "execution_count": 43,
   "metadata": {},
   "outputs": [],
   "source": [
    "labels_path = \"../../epi_corrections_out_2019_07_02_tumor_exluded_from_rcbv/EPI_applytopup/Anonymized/DEFACED_IVS/1767888627/DAY_0000/No_DeFacing_GE-SE_EPI_SSH_v1_32CH_V2_scan/r_e2_labels_Neuromorphometrics_lrmerged.nii\""
   ]
  },
  {
   "cell_type": "code",
   "execution_count": 44,
   "metadata": {},
   "outputs": [],
   "source": [
    "t1_img = \"../../epi_corrections_out_2019_07_02_tumor_exluded_from_rcbv/MNI_healthy_brain_from_Siri/Ivar/wFRIV004_T1.nii\""
   ]
  },
  {
   "cell_type": "code",
   "execution_count": 45,
   "metadata": {},
   "outputs": [],
   "source": [
    "labels_data, _, _ = load_nifti(str(labels_path))"
   ]
  },
  {
   "cell_type": "code",
   "execution_count": 46,
   "metadata": {},
   "outputs": [],
   "source": [
    "t1_data, _, t1_hdr = load_nifti(str(t1_img))\n",
    "t1_data_copy = copy.deepcopy(t1_data)\n",
    "t1_affine = nib.load(str(t1_img)).affine"
   ]
  },
  {
   "cell_type": "code",
   "execution_count": 47,
   "metadata": {},
   "outputs": [
    {
     "data": {
      "text/plain": [
       "(79, 95, 79)"
      ]
     },
     "execution_count": 47,
     "metadata": {},
     "output_type": "execute_result"
    }
   ],
   "source": [
    "labels_data.shape"
   ]
  },
  {
   "cell_type": "code",
   "execution_count": 48,
   "metadata": {},
   "outputs": [
    {
     "data": {
      "text/plain": [
       "(79, 95, 79)"
      ]
     },
     "execution_count": 48,
     "metadata": {},
     "output_type": "execute_result"
    }
   ],
   "source": [
    "t1_data_copy.shape"
   ]
  },
  {
   "cell_type": "code",
   "execution_count": 49,
   "metadata": {},
   "outputs": [],
   "source": [
    "t1_data_copy[labels_data == 0] = np.nan"
   ]
  },
  {
   "cell_type": "code",
   "execution_count": 50,
   "metadata": {},
   "outputs": [],
   "source": [
    "t1_img_skullstripped = \"../../epi_corrections_out_2019_07_02_tumor_exluded_from_rcbv/MNI_healthy_brain_from_Siri/Ivar/wFRIV004_T1_skullstripped_2.nii\""
   ]
  },
  {
   "cell_type": "code",
   "execution_count": 51,
   "metadata": {},
   "outputs": [],
   "source": [
    "img = nib.spatialimages.SpatialImage(t1_data_copy, affine=t1_affine, header=t1_hdr)\n",
    "nib.save(img, t1_img_skullstripped)"
   ]
  },
  {
   "cell_type": "code",
   "execution_count": null,
   "metadata": {},
   "outputs": [],
   "source": []
  }
 ],
 "metadata": {
  "kernelspec": {
   "display_name": "Python (spimenv)",
   "language": "python",
   "name": "spimenv"
  },
  "language_info": {
   "codemirror_mode": {
    "name": "ipython",
    "version": 3
   },
   "file_extension": ".py",
   "mimetype": "text/x-python",
   "name": "python",
   "nbconvert_exporter": "python",
   "pygments_lexer": "ipython3",
   "version": "3.6.7"
  }
 },
 "nbformat": 4,
 "nbformat_minor": 4
}
