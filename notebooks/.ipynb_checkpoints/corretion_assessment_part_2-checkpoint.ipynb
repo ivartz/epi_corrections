{
 "cells": [
  {
   "cell_type": "markdown",
   "metadata": {},
   "source": [
    "# Evaluating effects of FSL TOPUP and EPIC\n",
    "..on individual MNI regions provided by Neuromorphometrics, Inc. (http://Neuromorphometrics.com/)\n",
    "# Part 2: Comparing rCBV MNI region histograms across correction methods with tumor segments."
   ]
  },
  {
   "cell_type": "code",
   "execution_count": 1,
   "metadata": {},
   "outputs": [],
   "source": [
    "hist_num_bins = 64\n",
    "hist_min_value = 0\n",
    "hist_max_value = 12\n",
    "region_req_covered_frac = 0.7\n",
    "min_roi_region = 30\n",
    "#corrections_base_directory = \"../../epi_corrections_out_2019_07_02\"\n",
    "# If excluding tumors\n",
    "corrections_base_directory = \"../../epi_corrections_out_2019_07_02_tumor_exluded_from_rcbv\""
   ]
  },
  {
   "cell_type": "code",
   "execution_count": 2,
   "metadata": {},
   "outputs": [],
   "source": [
    "%run utils.py\n",
    "%run visualiztion.py\n",
    "%run search.py"
   ]
  },
  {
   "cell_type": "code",
   "execution_count": 3,
   "metadata": {},
   "outputs": [
    {
     "name": "stdout",
     "output_type": "stream",
     "text": [
      "The cbv histogram directory is: ../../epi_corrections_out_2019_07_02_tumor_exluded_from_rcbv/CBV_histograms_bins_64_min_0_max_12_region_rec_c_frac_0.7_region_min_vox_30\n"
     ]
    }
   ],
   "source": [
    "\"\"\"\n",
    "CBV_out_dir = corrections_base_directory + \"/\" + \"CBV_histograms_bins_\" + \\\n",
    "    str(hist_num_bins) + \"_min_\" + str(hist_min_value) + \"_max_\" + str(hist_max_value) + \\\n",
    "    \"_region_rec_c_frac_\" + str(region_req_covered_frac)\n",
    "\"\"\"\n",
    "#\"\"\"\n",
    "CBV_out_dir = corrections_base_directory + \"/\" + \"CBV_histograms_bins_\" + \\\n",
    "    str(hist_num_bins) + \"_min_\" + str(hist_min_value) + \"_max_\" + str(hist_max_value) + \\\n",
    "    \"_region_rec_c_frac_\" + str(region_req_covered_frac) + \"_region_min_vox_\" + str(min_roi_region)\n",
    "\n",
    "#\"\"\"\n",
    "\n",
    "print(\"The cbv histogram directory is: %s\" % CBV_out_dir)\n",
    "            \n",
    "region_values,\\\n",
    "hist_edges,\\\n",
    "raw_e1_CBV_region_histograms,\\\n",
    "raw_e1_CBV_dirs,\\\n",
    "raw_e2_CBV_region_histograms,\\\n",
    "raw_e2_CBV_dirs,\\\n",
    "topup_e1_CBV_region_histograms,\\\n",
    "topup_e1_CBV_dirs,\\\n",
    "topup_e2_CBV_region_histograms,\\\n",
    "topup_e2_CBV_dirs,\\\n",
    "epic_e1_CBV_region_histograms,\\\n",
    "epic_e1_CBV_dirs,\\\n",
    "epic_e2_CBV_region_histograms,\\\n",
    "epic_e2_CBV_dirs = load_mat_files(CBV_out_dir)"
   ]
  },
  {
   "cell_type": "markdown",
   "metadata": {},
   "source": [
    "Statistics about the data"
   ]
  },
  {
   "cell_type": "code",
   "execution_count": 4,
   "metadata": {},
   "outputs": [
    {
     "name": "stdout",
     "output_type": "stream",
     "text": [
      "Equal number of subjects for raw, topup and epic data: True\n"
     ]
    }
   ],
   "source": [
    "print(\"Equal number of subjects for raw, topup and epic data: %r\" % \\\n",
    "      (len(raw_e1_CBV_region_histograms) == \n",
    "       len(raw_e2_CBV_region_histograms) == \\\n",
    "       len(topup_e1_CBV_region_histograms) == \\\n",
    "       len(topup_e2_CBV_region_histograms) == \\\n",
    "       len(epic_e1_CBV_region_histograms) == \\\n",
    "       len(epic_e2_CBV_region_histograms)))"
   ]
  },
  {
   "cell_type": "code",
   "execution_count": 5,
   "metadata": {},
   "outputs": [
    {
     "name": "stdout",
     "output_type": "stream",
     "text": [
      "Number of subjects: 45\n"
     ]
    }
   ],
   "source": [
    "num_subjects = len(raw_e1_CBV_region_histograms)\n",
    "print(\"Number of subjects: %i\" % num_subjects)"
   ]
  },
  {
   "cell_type": "markdown",
   "metadata": {},
   "source": [
    "0. Reslice MNI tumor segments from the work of Juan-Albarracín, J. et. al. [1] to match the DSC MNI image space\n",
    "\n",
    "[1] Juan-Albarracín, J., Fuster-Garcia, E. et. al.,\"ONCOhabitats: A system for glioblastoma heterogeneity assessment through MRI\" Link: https://www.sciencedirect.com/science/article/pii/S1386505618308001\n",
    "\n",
    "See reslice-tumor-segments.ipynb"
   ]
  },
  {
   "cell_type": "code",
   "execution_count": 6,
   "metadata": {},
   "outputs": [],
   "source": [
    "ONCOHabitats_results_folder = \"ONCOHabitats_results\"\n",
    "segment_files_relative = find_segment_files(corrections_base_directory + \"/\" + ONCOHabitats_results_folder)\n",
    "segment_paths_relative = [Path(file) for file in segment_files_relative]\n",
    "segments_files_full = [str(Path.joinpath(Path.cwd().parent.parent, *relative.parts[2:])) for relative in segment_paths_relative]"
   ]
  },
  {
   "cell_type": "markdown",
   "metadata": {},
   "source": [
    "1. Select a random rCBV (Gradient or Spin Echo based) from a random correction method (raw, topup or epic) from a random subject. Display the random selection as well as the associated cbv file and labels file using spimagine."
   ]
  },
  {
   "cell_type": "code",
   "execution_count": 7,
   "metadata": {},
   "outputs": [
    {
     "name": "stdout",
     "output_type": "stream",
     "text": [
      "Selected subject: 12\n",
      "Selected correction method: epic\n",
      "Selected rCBV based on: e2\n",
      "----\n",
      "The cbv file is:\n",
      "\n",
      "/run/user/1000/gvfs/smb-share:server=192.168.1.207,share=hdd3tb1/data/IVS_EPI_BASELINE/epi_corrections_out_2019_07_02_tumor_exluded_from_rcbv/EPI_applyepic/Anonymized/DEFACED_IVS/1767888627/DAY_0000/No_DeFacing_GE-SE_EPI_SSH_v1_32CH_V2_scan/141033_GE-SE_EPI_SSH_v1_32CH_V2_scan_1101_e2_applyepic_perf/wr_coregest_Normalized_rCBV_map_-Leakage_corrected.nii\n",
      "\n",
      "The labels file is:\n",
      "\n",
      "/run/user/1000/gvfs/smb-share:server=192.168.1.207,share=hdd3tb1/data/IVS_EPI_BASELINE/epi_corrections_out_2019_07_02_tumor_exluded_from_rcbv/EPI_applyepic/Anonymized/DEFACED_IVS/1767888627/DAY_0000/No_DeFacing_GE-SE_EPI_SSH_v1_32CH_V2_scan/r_e2_labels_Neuromorphometrics.nii\n",
      "\n",
      "Contents of spimagine MNI rCBV:\n",
      "\n",
      "MNI rCBV subj 1767888627 (12) epic e2\n",
      "\n",
      "The segments file is:\n",
      "\n",
      "/run/user/1000/gvfs/smb-share:server=192.168.1.207,share=hdd3tb1/data/IVS_EPI_BASELINE/epi_corrections_out_2019_07_02_tumor_exluded_from_rcbv/ONCOHabitats_results/1767888627/results/mni/rSegmentation.nii\n",
      "\n"
     ]
    }
   ],
   "source": [
    "#subject_number = np.random.randint(0, num_subjects)\n",
    "subject_number = 12\n",
    "print(\"Selected subject: %i\" % subject_number)\n",
    "correction_methods = [\"raw\", \"topup\", \"epic\"]\n",
    "#correction_method = correction_methods[np.random.randint(0, len(correction_methods))]\n",
    "correction_method = \"epic\"\n",
    "print(\"Selected correction method: %s\" % correction_method)\n",
    "cbv_based_on_list = [\"e1\", \"e2\"]\n",
    "#cbv_based_on = cbv_based_on_list[np.random.randint(0, len(cbv_based_on_list))]\n",
    "cbv_based_on = \"e2\"\n",
    "print(\"Selected rCBV based on: %s\" % cbv_based_on)\n",
    "d_remote = Path(eval(correction_method + \"_\" + cbv_based_on + \"_CBV_dirs\")[0][subject_number][0])\n",
    "# https://stackoverflow.com/questions/26724275/removing-the-first-folder-in-a-path\n",
    "d = Path.joinpath(Path.cwd().parent.parent, *d_remote.parts[6:])\n",
    "cbv_path = Path.joinpath(d, \"wr_coregest_Normalized_rCBV_map_-Leakage_corrected.nii\")\n",
    "labels_path = d.joinpath(d.parent, \"r_\" + cbv_based_on + \"_labels_Neuromorphometrics.nii\")\n",
    "print(\"----\")\n",
    "print(\"The cbv file is:\\n\\n%s\\n\" % str(cbv_path))\n",
    "print(\"The labels file is:\\n\\n%s\\n\" % str(labels_path))\n",
    "# Get the anonymized subject ID\n",
    "ID = cbv_path.parts[12] # NB: Very hardcoded\n",
    "title_spim = \"MNI rCBV subj %s (%i) %s %s\" % (ID, subject_number, correction_method, cbv_based_on)\n",
    "print(\"Contents of spimagine MNI rCBV:\\n\\n%s\\n\" % title_spim)\n",
    "segments_file = [file for file in segments_files_full if ID in file][0]\n",
    "print(\"The segments file is:\\n\\n%s\\n\" % segments_file)"
   ]
  },
  {
   "cell_type": "code",
   "execution_count": 8,
   "metadata": {},
   "outputs": [],
   "source": [
    "%matplotlib qt5\n",
    "#%matplotlib inline\n",
    "# Use qt5 as gui backend, for spimagine\n",
    "%gui qt5"
   ]
  },
  {
   "cell_type": "markdown",
   "metadata": {},
   "source": [
    "1. a) rCBV"
   ]
  },
  {
   "cell_type": "code",
   "execution_count": 9,
   "metadata": {},
   "outputs": [],
   "source": [
    "load_and_visualize_cbv(cbv_path, interpolation=\"nearest\", cmap=\"hot\")"
   ]
  },
  {
   "cell_type": "code",
   "execution_count": 10,
   "metadata": {},
   "outputs": [],
   "source": [
    "#from spimagine.utils.quaternion import Quaternion"
   ]
  },
  {
   "cell_type": "code",
   "execution_count": 11,
   "metadata": {},
   "outputs": [
    {
     "data": {
      "text/plain": [
       "'\\nlabels_data_temp, labels_dims_temp, labels_hdr_temp = load_nifti(str(labels_path))\\nlabels_data_temp = xyz_to_zyx(labels_data_temp)\\nvolfig()\\nspim_widget = volshow(labels_data_temp[::-1, ::-1, ::-1], stackUnits=labels_dims_temp, interpolation=\"nearest\")\\nspim_widget.set_colormap(\"grays\")\\nspim_widget.transform.setQuaternion(Quaternion(0.007638906066214874,-0.7092538697232732,-0.004760086014776442,0.7048956918250604))\\n'"
      ]
     },
     "execution_count": 11,
     "metadata": {},
     "output_type": "execute_result"
    }
   ],
   "source": [
    "\"\"\"\n",
    "labels_data_temp, labels_dims_temp, labels_hdr_temp = load_nifti(str(labels_path))\n",
    "labels_data_temp = xyz_to_zyx(labels_data_temp)\n",
    "volfig()\n",
    "spim_widget = \\\n",
    "volshow(labels_data_temp[::-1, ::-1, ::-1], stackUnits=labels_dims_temp, interpolation=\"nearest\")\n",
    "spim_widget.set_colormap(\"grays\")\n",
    "spim_widget.transform.setQuaternion(Quaternion(0.007638906066214874,-0.7092538697232732,-0.004760086014776442,0.7048956918250604))\n",
    "\"\"\""
   ]
  },
  {
   "cell_type": "code",
   "execution_count": 12,
   "metadata": {},
   "outputs": [],
   "source": [
    "#spim_widget.transform.toTransformData()"
   ]
  },
  {
   "cell_type": "markdown",
   "metadata": {},
   "source": [
    "1. b) All regions"
   ]
  },
  {
   "cell_type": "code",
   "execution_count": 13,
   "metadata": {},
   "outputs": [],
   "source": [
    "load_and_visualize_labels(labels_path, interpolation=\"nearest\", cmap=\"grays\")"
   ]
  },
  {
   "cell_type": "markdown",
   "metadata": {},
   "source": [
    "1. c) Only regions that are covered by preprocessed histograms"
   ]
  },
  {
   "cell_type": "markdown",
   "metadata": {},
   "source": [
    "Preprocessing parameter: Fraction of start and end of the histogram range that is set to 0"
   ]
  },
  {
   "cell_type": "code",
   "execution_count": 14,
   "metadata": {},
   "outputs": [],
   "source": [
    "#two_tail_fraction = 0.03\n",
    "#two_tail_fraction = 0.1\n",
    "two_tail_fraction = 0.05"
   ]
  },
  {
   "cell_type": "code",
   "execution_count": 15,
   "metadata": {},
   "outputs": [
    {
     "data": {
      "text/plain": [
       "'\\ndef drop_outlier_columns(df):\\n    mask_above_treshold = df > 0.7*df.max()\\n    rows_num_colums_above_treshold = mask_above_treshold[mask_above_treshold].transpose().count()\\n    rows_to_drop = rows_num_colums_above_treshold[rows_num_colums_above_treshold > 0.9*hist_num_bins].index\\n    return df.drop(rows_to_drop)\\ncbv_hists_preprocessed_no_outliers = drop_outlier_columns(cbv_hists_preprocessed)\\nfor n in np.array(cbv_hists_preprocessed_no_outliers.index):\\n    labels_data[labels_data == n] = 0\\nspimagine_show_volume_numpy(labels_data, stackUnits=labels_dims, interpolation=\"nearest\")\\n'"
      ]
     },
     "execution_count": 15,
     "metadata": {},
     "output_type": "execute_result"
    }
   ],
   "source": [
    "cbv_hists = pd.DataFrame(\\\n",
    "                      data=eval(correction_method + \"_\" + cbv_based_on + \"_CBV_region_histograms\")[subject_number], \\\n",
    "                      index=region_values.flatten(), \\\n",
    "                      columns=hist_edges[0][:-1])\n",
    "cbv_hists_preprocessed = preprocess_histograms(cbv_hists, two_tail_fraction=two_tail_fraction)\n",
    "\n",
    "labels_data, labels_dims, labels_hdr = load_nifti(str(labels_path))\n",
    "labels_data = xyz_to_zyx(labels_data)\n",
    "\n",
    "labels_data_copy = labels_data.copy()\n",
    "\n",
    "for n in np.array(np.unique(labels_data_copy)):\n",
    "    if n not in preprocess_histograms(cbv_hists).index:\n",
    "        labels_data_copy[labels_data_copy == n] = 0\n",
    "spimagine_show_volume_numpy(labels_data_copy, stackUnits=labels_dims, interpolation=\"nearest\")\n",
    "\"\"\"\n",
    "def drop_outlier_columns(df):\n",
    "    mask_above_treshold = df > 0.7*df.max()\n",
    "    rows_num_colums_above_treshold = mask_above_treshold[mask_above_treshold].transpose().count()\n",
    "    rows_to_drop = rows_num_colums_above_treshold[rows_num_colums_above_treshold > 0.9*hist_num_bins].index\n",
    "    return df.drop(rows_to_drop)\n",
    "cbv_hists_preprocessed_no_outliers = drop_outlier_columns(cbv_hists_preprocessed)\n",
    "for n in np.array(cbv_hists_preprocessed_no_outliers.index):\n",
    "    labels_data[labels_data == n] = 0\n",
    "spimagine_show_volume_numpy(labels_data, stackUnits=labels_dims, interpolation=\"nearest\")\n",
    "\"\"\""
   ]
  },
  {
   "cell_type": "code",
   "execution_count": 16,
   "metadata": {},
   "outputs": [
    {
     "data": {
      "text/plain": [
       "'\\nlabels_affine = nib.load(str(labels_path)).affine\\nimg = nib.spatialimages.SpatialImage(xyz_to_zyx(labels_data_copy), affine=labels_affine, header=labels_hdr)\\nnifti_file = output_rel_dir + \"/temp/\" + \"MNI regions used for histogram extraction for subject\" + \".nii\"\\nnib.save(img, nifti_file)\\n'"
      ]
     },
     "execution_count": 16,
     "metadata": {},
     "output_type": "execute_result"
    }
   ],
   "source": [
    "\"\"\"\n",
    "labels_affine = nib.load(str(labels_path)).affine\n",
    "img = nib.spatialimages.SpatialImage(xyz_to_zyx(labels_data_copy), affine=labels_affine, header=labels_hdr)\n",
    "nifti_file = output_rel_dir + \"/temp/\" + \"MNI regions used for histogram extraction for subject\" + \".nii\"\n",
    "nib.save(img, nifti_file)\n",
    "\"\"\""
   ]
  },
  {
   "cell_type": "code",
   "execution_count": 17,
   "metadata": {},
   "outputs": [],
   "source": [
    "#output_rel_dir"
   ]
  },
  {
   "cell_type": "markdown",
   "metadata": {},
   "source": [
    "spimagine render 6 second 60fps video:\n",
    "\n",
    "Number frames: 360\n",
    "\n",
    "record delay: 16\n",
    "\n",
    "Blur sx sy sz 1 1 1\n",
    "\n",
    "Transcode rendered images to PowerPoint compatible H.264 video with\n",
    "\n",
    "ffmpeg -framerate 60 -i output_%03d.png -vf \"pad=ceil(iw/2)*2:ceil(ih/2)*2\" -c:v libx264 -preset slow -profile:v high -level:v 4.0 -pix_fmt yuv420p -crf 22 2019_07_02_1778076422_EPIC_e1_nrCBV.mp4"
   ]
  },
  {
   "cell_type": "markdown",
   "metadata": {},
   "source": [
    "1. d) The tumor segments"
   ]
  },
  {
   "cell_type": "code",
   "execution_count": 18,
   "metadata": {},
   "outputs": [],
   "source": [
    "segments_data_temp, segments_dims_temp, segments_hdr_temp = load_nifti(segments_file)\n",
    "segments_data_temp = xyz_to_zyx(segments_data_temp)\n",
    "spimagine_show_volume_numpy(segments_data_temp, stackUnits=segments_dims_temp, interpolation=\"nearest\", cmap=\"grays\")"
   ]
  },
  {
   "cell_type": "markdown",
   "metadata": {},
   "source": [
    "2. Plot preprocessed histograms for the selected subject"
   ]
  },
  {
   "cell_type": "markdown",
   "metadata": {},
   "source": [
    "2. a) All histograms for the selected combination of subject and correction method"
   ]
  },
  {
   "cell_type": "markdown",
   "metadata": {},
   "source": [
    "and"
   ]
  },
  {
   "cell_type": "markdown",
   "metadata": {},
   "source": [
    "2. b) Mean, median and std plot of the same histograms"
   ]
  },
  {
   "cell_type": "code",
   "execution_count": 19,
   "metadata": {},
   "outputs": [],
   "source": [
    "#matplotlib.pyplot.switch_backend(\"Qt5Agg\")"
   ]
  },
  {
   "cell_type": "code",
   "execution_count": 20,
   "metadata": {},
   "outputs": [],
   "source": [
    "preprocess_and_plot_selected_histograms(region_values,\\\n",
    "                                        hist_edges,\\\n",
    "                                        raw_e1_CBV_region_histograms,\\\n",
    "                                        raw_e2_CBV_region_histograms,\\\n",
    "                                        topup_e1_CBV_region_histograms,\\\n",
    "                                        topup_e2_CBV_region_histograms,\\\n",
    "                                        epic_e1_CBV_region_histograms,\\\n",
    "                                        epic_e2_CBV_region_histograms,\\\n",
    "                                        two_tail_fraction=two_tail_fraction,\\\n",
    "                                        subject_number=subject_number,\\\n",
    "                                        correction_method=correction_method,\\\n",
    "                                        ID=ID)"
   ]
  },
  {
   "cell_type": "markdown",
   "metadata": {},
   "source": [
    "3. Plot all preprocessed histograms for the randomly pixed subject"
   ]
  },
  {
   "cell_type": "code",
   "execution_count": 21,
   "metadata": {},
   "outputs": [],
   "source": [
    "raw_e1_prep,\\\n",
    "raw_e2_prep,\\\n",
    "topup_e1_prep,\\\n",
    "topup_e2_prep,\\\n",
    "epic_e1_prep,\\\n",
    "epic_e2_prep = \\\n",
    "preprocess_and_plot_all_histograms(region_values,\\\n",
    "                                   hist_edges,\\\n",
    "                                   raw_e1_CBV_region_histograms,\\\n",
    "                                   raw_e2_CBV_region_histograms,\\\n",
    "                                   topup_e1_CBV_region_histograms,\\\n",
    "                                   topup_e2_CBV_region_histograms,\\\n",
    "                                   epic_e1_CBV_region_histograms,\\\n",
    "                                   epic_e2_CBV_region_histograms,\\\n",
    "                                   two_tail_fraction=two_tail_fraction,\\\n",
    "                                   subject_number=subject_number,\\\n",
    "                                   ID=ID)"
   ]
  },
  {
   "cell_type": "markdown",
   "metadata": {},
   "source": [
    "4. Generate bash command for fsleyes volume render for regions and rCBV for the randomly selected subject and correction method"
   ]
  },
  {
   "cell_type": "code",
   "execution_count": 22,
   "metadata": {},
   "outputs": [
    {
     "name": "stdout",
     "output_type": "stream",
     "text": [
      "fsleyes --scene 3d --worldLoc 9.91821289062e-05 -18.0000991821 7.99990081787 --displaySpace /run/user/1000/gvfs/smb-share:server=192.168.1.207,share=hdd3tb1/data/IVS_EPI_BASELINE/epi_corrections_out_2019_07_02_tumor_exluded_from_rcbv/EPI_applyepic/Anonymized/DEFACED_IVS/1767888627/DAY_0000/No_DeFacing_GE-SE_EPI_SSH_v1_32CH_V2_scan/141033_GE-SE_EPI_SSH_v1_32CH_V2_scan_1101_e2_applyepic_perf/wr_coregest_Normalized_rCBV_map_-Leakage_corrected.nii --cameraRotation -178.99 103.30 0.04 --zoom 75.0 --lightPos 235.999702454 283.999702454 77.9999008179 --offset 0.0 0.0 --hideCursor --bgColour 0.0 0.0 0.0 --fgColour 1.0 1.0 1.0 --cursorColour 0.0 1.0 0.0 --colourBarLocation top --colourBarLabelSide top-left --colourBarSize 100.0 --labelSize 14 --performance 3 --movieSync /run/user/1000/gvfs/smb-share:server=192.168.1.207,share=hdd3tb1/data/IVS_EPI_BASELINE/epi_corrections_out_2019_07_02_tumor_exluded_from_rcbv/EPI_applyepic/Anonymized/DEFACED_IVS/1767888627/DAY_0000/No_DeFacing_GE-SE_EPI_SSH_v1_32CH_V2_scan/141033_GE-SE_EPI_SSH_v1_32CH_V2_scan_1101_e2_applyepic_perf/wr_coregest_Normalized_rCBV_map_-Leakage_corrected.nii --name wr_coregest_Normalized_rCBV_map_-Leakage_corrected.nii --overlayType volume --alpha 100.0 --brightness 72.7359251905 --contrast 95.4718503809 --cmap hot --negativeCmap greyscale --displayRange 1.7763568394e-15 6.0 --clippingRange 1.7763568394e-15 30.1408601952 --gamma 0.0 --cmapResolution 256 --interpolation none --numSteps 100 --blendFactor 0.1 --smoothing 0 --resolution 100 --numInnerSteps 10 --clipMode intersection --volume 0 /run/user/1000/gvfs/smb-share:server=192.168.1.207,share=hdd3tb1/data/IVS_EPI_BASELINE/epi_corrections_out_2019_07_02_tumor_exluded_from_rcbv/EPI_applyepic/Anonymized/DEFACED_IVS/1767888627/DAY_0000/No_DeFacing_GE-SE_EPI_SSH_v1_32CH_V2_scan/r_e2_labels_Neuromorphometrics.nii --name r_e2_labels_Neuromorphometrics.nii --overlayType volume --alpha 77.9999999977 --brightness 50.0 --contrast 50.0 --cmap greyscale --negativeCmap greyscale --displayRange 0.0 207.0 --clippingRange 0.0 209.07 --gamma 0.0 --cmapResolution 256 --interpolation none --numSteps 100 --blendFactor 0.1 --smoothing 0 --resolution 100 --numInnerSteps 10 --clipMode intersection --volume 0\n"
     ]
    }
   ],
   "source": [
    "%%bash -s \"{\" \".join([str(cbv_path)])}\" \"{\" \".join([str(labels_path)])}\" \"$hist_min_value\" \"$hist_max_value\"\n",
    "IFS=' ' read -r -a cbv_files <<< \"$1\"\n",
    "IFS=' ' read -r -a label_files <<< \"$2\"\n",
    "hist_min_value=$3\n",
    "hist_max_value=$4\n",
    "render() {\n",
    "    local -n _cbv_files=$1\n",
    "    local -n _label_files=$2\n",
    "    \n",
    "    for index in \"${!_cbv_files[@]}\"\n",
    "    do\n",
    "        cbv_file=\"${_cbv_files[index]}\"\n",
    "        label_file=\"${_label_files[index]}\"\n",
    "        \n",
    "        cbv_file_name=\"$(basename $cbv_file)\"\n",
    "        label_file_name=\"$(basename $label_file)\"\n",
    "        \n",
    "        render_command='fsleyes \n",
    "            --scene 3d \n",
    "            --worldLoc 9.91821289062e-05 -18.0000991821 7.99990081787 \n",
    "            --displaySpace '$cbv_file' \n",
    "            --cameraRotation -178.99  103.30  0.04 \n",
    "            --zoom 75.0 \n",
    "            --lightPos 235.999702454 283.999702454 77.9999008179 \n",
    "            --offset 0.0 0.0 \n",
    "            --hideCursor \n",
    "            --bgColour 0.0 0.0 0.0 \n",
    "            --fgColour 1.0 1.0 1.0 \n",
    "            --cursorColour 0.0 1.0 0.0 \n",
    "            --colourBarLocation top \n",
    "            --colourBarLabelSide top-left \n",
    "            --colourBarSize 100.0 \n",
    "            --labelSize 14 \n",
    "            --performance 3 \n",
    "            --movieSync '$cbv_file' \n",
    "            --name '$cbv_file_name' \n",
    "            --overlayType volume \n",
    "            --alpha 100.0 \n",
    "            --brightness 72.7359251905 \n",
    "            --contrast 95.4718503809 \n",
    "            --cmap hot \n",
    "            --negativeCmap greyscale \n",
    "            --displayRange 1.7763568394e-15 6.0 \n",
    "            --clippingRange 1.7763568394e-15 30.1408601952 \n",
    "            --gamma 0.0 \n",
    "            --cmapResolution 256 \n",
    "            --interpolation none \n",
    "            --numSteps 100 \n",
    "            --blendFactor 0.1 \n",
    "            --smoothing 0 \n",
    "            --resolution 100 \n",
    "            --numInnerSteps 10 \n",
    "            --clipMode intersection \n",
    "            --volume 0 '$label_file' \n",
    "            --name '$label_file_name' \n",
    "            --overlayType volume \n",
    "            --alpha 77.9999999977 \n",
    "            --brightness 50.0 \n",
    "            --contrast 50.0 \n",
    "            --cmap greyscale \n",
    "            --negativeCmap greyscale \n",
    "            --displayRange 0.0 207.0 \n",
    "            --clippingRange 0.0 209.07 \n",
    "            --gamma 0.0 \n",
    "            --cmapResolution 256 \n",
    "            --interpolation none \n",
    "            --numSteps 100 \n",
    "            --blendFactor 0.1 \n",
    "            --smoothing 0 \n",
    "            --resolution 100 \n",
    "            --numInnerSteps 10 \n",
    "            --clipMode intersection \n",
    "            --volume 0'\n",
    "        echo $render_command\n",
    "        #eval $render_command\n",
    "    done\n",
    "}\n",
    "render cbv_files label_files"
   ]
  },
  {
   "cell_type": "markdown",
   "metadata": {},
   "source": [
    "5. Generate bash command for fsleyes orthographic view for regions and rCBV for the randomly selected subject and correction method"
   ]
  },
  {
   "cell_type": "code",
   "execution_count": 23,
   "metadata": {},
   "outputs": [
    {
     "name": "stdout",
     "output_type": "stream",
     "text": [
      "fsleyes --scene ortho --worldLoc 9.918212890625e-05 -18.000099182128906 7.999900817871094 --displaySpace /run/user/1000/gvfs/smb-share:server=192.168.1.207,share=hdd3tb1/data/IVS_EPI_BASELINE/epi_corrections_out_2019_07_02_tumor_exluded_from_rcbv/EPI_applyepic/Anonymized/DEFACED_IVS/1767888627/DAY_0000/No_DeFacing_GE-SE_EPI_SSH_v1_32CH_V2_scan/141033_GE-SE_EPI_SSH_v1_32CH_V2_scan_1101_e2_applyepic_perf/wr_coregest_Normalized_rCBV_map_-Leakage_corrected.nii --xcentre -0.00000 -0.11019 --ycentre -0.00000 -0.11019 --zcentre -0.00000 -0.00000 --xzoom 803.0573770888577 --yzoom 809.4712464952298 --zzoom 803.057377088858 --hideLabels --labelSize 14 --layout horizontal --hideCursor --bgColour 0.0 0.0 0.0 --fgColour 1.0 1.0 1.0 --cursorColour 0.0 1.0 0.0 --colourBarLocation top --colourBarLabelSide top-left --performance 3 /run/user/1000/gvfs/smb-share:server=192.168.1.207,share=hdd3tb1/data/IVS_EPI_BASELINE/epi_corrections_out_2019_07_02_tumor_exluded_from_rcbv/EPI_applyepic/Anonymized/DEFACED_IVS/1767888627/DAY_0000/No_DeFacing_GE-SE_EPI_SSH_v1_32CH_V2_scan/141033_GE-SE_EPI_SSH_v1_32CH_V2_scan_1101_e2_applyepic_perf/wr_coregest_Normalized_rCBV_map_-Leakage_corrected.nii --name wr_coregest_Normalized_rCBV_map_-Leakage_corrected.nii --overlayType volume --alpha 100.0 --brightness 64.94720130619707 --contrast 79.89440261239416 --cmap hot --negativeCmap greyscale --displayRange 0 12 --clippingRange 0.0 30.140860195159913 --gamma 0.0 --cmapResolution 256 --interpolation none --numSteps 100 --blendFactor 0.1 --smoothing 0 --resolution 100 --numInnerSteps 10 --clipMode intersection --volume 0 /run/user/1000/gvfs/smb-share:server=192.168.1.207,share=hdd3tb1/data/IVS_EPI_BASELINE/epi_corrections_out_2019_07_02_tumor_exluded_from_rcbv/EPI_applyepic/Anonymized/DEFACED_IVS/1767888627/DAY_0000/No_DeFacing_GE-SE_EPI_SSH_v1_32CH_V2_scan/r_e2_labels_Neuromorphometrics.nii --name r_e2_labels_Neuromorphometrics.nii --overlayType volume --alpha 37.33333333798995 --brightness 50.0 --contrast 50.0 --cmap greyscale --negativeCmap greyscale --displayRange 0.0 207.0 --clippingRange 0.0 209.07 --gamma 0.0 --cmapResolution 256 --interpolation none --numSteps 100 --blendFactor 0.1 --smoothing 0 --resolution 100 --numInnerSteps 10 --clipMode intersection --volume 0\n"
     ]
    }
   ],
   "source": [
    "%%bash -s \"{\" \".join([str(cbv_path)])}\" \"{\" \".join([str(labels_path)])}\" \"$hist_min_value\" \"$hist_max_value\"\n",
    "IFS=' ' read -r -a cbv_files <<< \"$1\"\n",
    "IFS=' ' read -r -a label_files <<< \"$2\"\n",
    "hist_min_value=$3\n",
    "hist_max_value=$4\n",
    "render() {\n",
    "    local -n _cbv_files=$1\n",
    "    local -n _label_files=$2\n",
    "    \n",
    "    for index in \"${!_cbv_files[@]}\"\n",
    "    do\n",
    "        cbv_file=\"${_cbv_files[index]}\"\n",
    "        label_file=\"${_label_files[index]}\"\n",
    "        \n",
    "        cbv_file_name=\"$(basename $cbv_file)\"\n",
    "        label_file_name=\"$(basename $label_file)\"\n",
    "        \n",
    "        render_command='fsleyes \n",
    "            --scene ortho \n",
    "            --worldLoc 9.918212890625e-05 -18.000099182128906 7.999900817871094 \n",
    "            --displaySpace \n",
    "            '$cbv_file' \n",
    "            --xcentre -0.00000 -0.11019 \n",
    "            --ycentre -0.00000 -0.11019 \n",
    "            --zcentre -0.00000 -0.00000 \n",
    "            --xzoom 803.0573770888577 \n",
    "            --yzoom 809.4712464952298 \n",
    "            --zzoom 803.057377088858 \n",
    "            --hideLabels \n",
    "            --labelSize 14 \n",
    "            --layout horizontal \n",
    "            --hideCursor \n",
    "            --bgColour 0.0 0.0 0.0 \n",
    "            --fgColour 1.0 1.0 1.0 \n",
    "            --cursorColour 0.0 1.0 0.0 \n",
    "            --colourBarLocation top \n",
    "            --colourBarLabelSide top-left \n",
    "            --performance 3 \n",
    "            '$cbv_file' \n",
    "            --name '$cbv_file_name' \n",
    "            --overlayType volume \n",
    "            --alpha 100.0 \n",
    "            --brightness 64.94720130619707 \n",
    "            --contrast 79.89440261239416 \n",
    "            --cmap hot \n",
    "            --negativeCmap greyscale \n",
    "            --displayRange '$hist_min_value' '$hist_max_value' \n",
    "            --clippingRange 0.0 30.140860195159913 \n",
    "            --gamma 0.0 \n",
    "            --cmapResolution 256 \n",
    "            --interpolation none \n",
    "            --numSteps 100 \n",
    "            --blendFactor 0.1 \n",
    "            --smoothing 0 \n",
    "            --resolution 100 \n",
    "            --numInnerSteps 10 \n",
    "            --clipMode intersection \n",
    "            --volume 0 \n",
    "            '$label_file' \n",
    "            --name '$label_file_name' \n",
    "            --overlayType volume \n",
    "            --alpha 37.33333333798995 \n",
    "            --brightness 50.0 \n",
    "            --contrast 50.0 \n",
    "            --cmap greyscale \n",
    "            --negativeCmap greyscale \n",
    "            --displayRange 0.0 207.0 \n",
    "            --clippingRange 0.0 209.07 \n",
    "            --gamma 0.0 \n",
    "            --cmapResolution 256 \n",
    "            --interpolation none \n",
    "            --numSteps 100 \n",
    "            --blendFactor 0.1 \n",
    "            --smoothing 0 \n",
    "            --resolution 100 \n",
    "            --numInnerSteps 10 \n",
    "            --clipMode intersection \n",
    "            --volume 0'\n",
    "        echo $render_command\n",
    "        #eval $render_command\n",
    "    done\n",
    "}\n",
    "render cbv_files label_files"
   ]
  },
  {
   "cell_type": "code",
   "execution_count": 24,
   "metadata": {},
   "outputs": [
    {
     "data": {
      "text/plain": [
       "'\\ncbv_path_temp, label_path_temp = get_cbv_and_labels_paths(raw_e1_CBV_region_histograms,                                raw_e1_CBV_dirs,                                raw_e2_CBV_region_histograms,                                raw_e2_CBV_dirs,                                topup_e1_CBV_region_histograms,                                topup_e1_CBV_dirs,                                topup_e2_CBV_region_histograms,                                topup_e2_CBV_dirs,                                epic_e1_CBV_region_histograms,                                epic_e1_CBV_dirs,                                epic_e2_CBV_region_histograms,                                epic_e2_CBV_dirs,                                subject_number=26,                                correction_method=\"topup\",                                cbv_based_on=\"e2\")\\ncbv_path_temp\\nload_and_visualize_cbv(cbv_path_temp, interpolation=\"linear\", cmap=\"hot\")\\n'"
      ]
     },
     "execution_count": 24,
     "metadata": {},
     "output_type": "execute_result"
    }
   ],
   "source": [
    "\"\"\"\n",
    "cbv_path_temp, label_path_temp = get_cbv_and_labels_paths(raw_e1_CBV_region_histograms,\\\n",
    "                                raw_e1_CBV_dirs,\\\n",
    "                                raw_e2_CBV_region_histograms,\\\n",
    "                                raw_e2_CBV_dirs,\\\n",
    "                                topup_e1_CBV_region_histograms,\\\n",
    "                                topup_e1_CBV_dirs,\\\n",
    "                                topup_e2_CBV_region_histograms,\\\n",
    "                                topup_e2_CBV_dirs,\\\n",
    "                                epic_e1_CBV_region_histograms,\\\n",
    "                                epic_e1_CBV_dirs,\\\n",
    "                                epic_e2_CBV_region_histograms,\\\n",
    "                                epic_e2_CBV_dirs,\\\n",
    "                                subject_number=26,\\\n",
    "                                correction_method=\"topup\",\\\n",
    "                                cbv_based_on=\"e2\")\n",
    "cbv_path_temp\n",
    "load_and_visualize_cbv(cbv_path_temp, interpolation=\"linear\", cmap=\"hot\")\n",
    "\"\"\""
   ]
  },
  {
   "cell_type": "code",
   "execution_count": 25,
   "metadata": {},
   "outputs": [
    {
     "data": {
      "text/plain": [
       "'MNI rCBV subj 1767888627 (12) epic e2'"
      ]
     },
     "execution_count": 25,
     "metadata": {},
     "output_type": "execute_result"
    }
   ],
   "source": [
    "title_spim"
   ]
  },
  {
   "cell_type": "code",
   "execution_count": 26,
   "metadata": {},
   "outputs": [
    {
     "name": "stdout",
     "output_type": "stream",
     "text": [
      "0.7070317592051423\n",
      "0.5213030243842315\n",
      "0.7504893155094258\n",
      "0.6016426750338725\n",
      "0.7394640167731104\n",
      "0.5308918089740444\n"
     ]
    }
   ],
   "source": [
    "#visualize_regions(calculate_similarities(raw_e1_prep, topup_e1_prep, method=\"hellinger\"), labels_data, labels_dims)\n",
    "print(calculate_similarities(raw_e1_prep, topup_e1_prep, method=\"hellinger\").max())\n",
    "#visualize_regions(calculate_similarities(raw_e2_prep, topup_e2_prep, method=\"hellinger\"), labels_data, labels_dims)\n",
    "print(calculate_similarities(raw_e2_prep, topup_e2_prep, method=\"hellinger\").max())\n",
    "\n",
    "#visualize_regions(calculate_similarities(raw_e1_prep, epic_e1_prep, method=\"hellinger\"), labels_data, labels_dims)\n",
    "print(calculate_similarities(raw_e1_prep, epic_e1_prep, method=\"hellinger\").max())\n",
    "#visualize_regions(calculate_similarities(raw_e2_prep, epic_e2_prep, method=\"hellinger\"), labels_data, labels_dims)\n",
    "print(calculate_similarities(raw_e2_prep, epic_e2_prep, method=\"hellinger\").max())\n",
    "\n",
    "#visualize_regions(calculate_similarities(topup_e1_prep, epic_e1_prep, method=\"hellinger\"), labels_data, labels_dims)\n",
    "print(calculate_similarities(topup_e1_prep, epic_e1_prep, method=\"hellinger\").max())\n",
    "#visualize_regions(calculate_similarities(topup_e2_prep, epic_e2_prep, method=\"hellinger\"), labels_data, labels_dims)\n",
    "print(calculate_similarities(topup_e2_prep, epic_e2_prep, method=\"hellinger\").max())"
   ]
  },
  {
   "cell_type": "markdown",
   "metadata": {},
   "source": [
    "6. Get region names from the original xml file"
   ]
  },
  {
   "cell_type": "code",
   "execution_count": 27,
   "metadata": {},
   "outputs": [
    {
     "data": {
      "text/plain": [
       "PosixPath('../../epi_corrections_out_2019_07_02_tumor_exluded_from_rcbv/labels_Neuromorphometrics.xml')"
      ]
     },
     "execution_count": 27,
     "metadata": {},
     "output_type": "execute_result"
    }
   ],
   "source": [
    "regions_info_relative_file = corrections_base_directory + \"/labels_Neuromorphometrics.xml\" # Assumed to exist, copy from spm12/tpm directory.\n",
    "regions_info_relative_path = Path(regions_info_relative_file)\n",
    "regions_info_relative_path"
   ]
  },
  {
   "cell_type": "code",
   "execution_count": 28,
   "metadata": {},
   "outputs": [
    {
     "data": {
      "text/plain": [
       "'/run/user/1000/gvfs/smb-share:server=192.168.1.207,share=hdd3tb1/data/IVS_EPI_BASELINE/epi_corrections_out_2019_07_02_tumor_exluded_from_rcbv/labels_Neuromorphometrics.xml'"
      ]
     },
     "execution_count": 28,
     "metadata": {},
     "output_type": "execute_result"
    }
   ],
   "source": [
    "regions_info_file = str(Path.joinpath(Path.cwd().parent.parent, *regions_info_relative_path.parts[2:]))\n",
    "regions_info_file"
   ]
  },
  {
   "cell_type": "code",
   "execution_count": 29,
   "metadata": {},
   "outputs": [],
   "source": [
    "\"\"\"\n",
    "Although existing in the original regions file, \n",
    "Region 63 (Right vessel) and 64 (Left vessel)\n",
    "did not exist in the resliced regions file.\n",
    "This must be due to those vessel regions being small enough\n",
    "to disappear after the nearest neighbour interpolation.\n",
    "\"\"\"\n",
    "import xml.etree.ElementTree as ET\n",
    "tree = ET.parse(regions_info_file)\n",
    "region_names = []\n",
    "region_values_temp = []\n",
    "b = []\n",
    "for i in tree.iter():\n",
    "    index = i.find(\"index\")\n",
    "    if index != None:\n",
    "        #pass\n",
    "        #print(index.text)\n",
    "        index_int = np.int(index.text)\n",
    "        if index_int in region_values:\n",
    "            name = i.find(\"name\")\n",
    "            region_values_temp += [index_int]\n",
    "            region_names += [name.text]\n",
    "region_values_temp = np.array(region_values_temp)\n",
    "region_names = np.array(region_names)"
   ]
  },
  {
   "cell_type": "code",
   "execution_count": 30,
   "metadata": {},
   "outputs": [
    {
     "data": {
      "text/plain": [
       "array([  4,  11,  23,  30,  31,  32,  35,  36,  37,  38,  39,  40,  41,\n",
       "        44,  45,  46,  47,  48,  49,  50,  51,  52,  55,  56,  57,  58,\n",
       "        59,  60,  61,  62,  69,  71,  72,  73,  75,  76, 100, 101, 102,\n",
       "       103, 104, 105, 106, 107, 108, 109, 112, 113, 114, 115, 116, 117,\n",
       "       118, 119, 120, 121, 122, 123, 124, 125, 128, 129, 132, 133, 134,\n",
       "       135, 136, 137, 138, 139, 140, 141, 142, 143, 144, 145, 146, 147,\n",
       "       148, 149, 150, 151, 152, 153, 154, 155, 156, 157, 160, 161, 162,\n",
       "       163, 164, 165, 166, 167, 168, 169, 170, 171, 172, 173, 174, 175,\n",
       "       176, 177, 178, 179, 180, 181, 182, 183, 184, 185, 186, 187, 190,\n",
       "       191, 192, 193, 194, 195, 196, 197, 198, 199, 200, 201, 202, 203,\n",
       "       204, 205, 206, 207])"
      ]
     },
     "execution_count": 30,
     "metadata": {},
     "output_type": "execute_result"
    }
   ],
   "source": [
    "region_values_temp"
   ]
  },
  {
   "cell_type": "code",
   "execution_count": 31,
   "metadata": {},
   "outputs": [
    {
     "data": {
      "text/plain": [
       "True"
      ]
     },
     "execution_count": 31,
     "metadata": {},
     "output_type": "execute_result"
    }
   ],
   "source": [
    "# Verify that the regions in region_names correspond to the regions in region_values\n",
    "# - by verifying equal region values:\n",
    "np.all(region_values_temp == region_values.flatten())"
   ]
  },
  {
   "cell_type": "code",
   "execution_count": 32,
   "metadata": {},
   "outputs": [
    {
     "data": {
      "text/plain": [
       "True"
      ]
     },
     "execution_count": 32,
     "metadata": {},
     "output_type": "execute_result"
    }
   ],
   "source": [
    "# - by verifying equal shape of region_values.flatten() and region_names\n",
    "region_values.flatten().shape == region_names.shape"
   ]
  },
  {
   "cell_type": "code",
   "execution_count": 33,
   "metadata": {},
   "outputs": [],
   "source": [
    "#region_names = np.array([name[:15] + \"...\" for name in region_names])"
   ]
  },
  {
   "cell_type": "markdown",
   "metadata": {},
   "source": [
    "### NB! Specify regions to exclude in the histogram figures"
   ]
  },
  {
   "cell_type": "code",
   "execution_count": 34,
   "metadata": {},
   "outputs": [],
   "source": [
    "regions_excluded_clean = np.array(['3rd Ventricle', \n",
    "                                   '4th Ventricle', \n",
    "                                   'Cerebrospinal fluid', \n",
    "                                   'Right Inferior Lateral Ventricles', \n",
    "                                   'Left Inferior Lateral Ventricles', \n",
    "                                   'Right Lateral Ventricle', \n",
    "                                   'Left Lateral Ventricle'])"
   ]
  },
  {
   "cell_type": "code",
   "execution_count": 35,
   "metadata": {},
   "outputs": [],
   "source": [
    "region_names_clean = np.array(['3rd Ventricle', '4th Ventricle', 'Right Accumbens Area',\n",
    "       'Left Accumbens Area', 'Right Amygdala', 'Left Amygdala',\n",
    "       'Brain Stem', 'Right Caudate', 'Left Caudate',\n",
    "       'Right Cerebellum Exterior', 'Left Cerebellum Exterior',\n",
    "       'Right Cerebellum White Matter', 'Left Cerebellum White Matter',\n",
    "       'Right Cerebral White Matter', 'Left Cerebral White Matter', 'Cerebrospinal fluid',\n",
    "       'Right Hippocampus', 'Left Hippocampus', 'Right Inferior Lateral Ventricles',\n",
    "       'Left Inferior Lateral Ventricles', 'Right Lateral Ventricle',\n",
    "       'Left Lateral Ventricle', 'Right Pallidum', 'Left Pallidum',\n",
    "       'Right Putamen', 'Left Putamen', 'Right Thalamus Proper',\n",
    "       'Left Thalamus Proper', 'Right Ventral DC', 'Left Ventral DC',\n",
    "       'Optic Chiasm', 'Cerebellar Vermal Lobules I-V',\n",
    "       'Cerebellar Vermal Lobules VI-VII',\n",
    "       'Cerebellar Vermal Lobules VIII-X', 'Left Basal Forebrain',\n",
    "       'Right Basal Forebrain', 'Right anterior cingulate gyrus',\n",
    "       'Left anterior cingulate gyrus', 'Right anterior insula',\n",
    "       'Left anterior insula', 'Right anterior orbital gyrus',\n",
    "       'Left anterior orbital gyrus', 'Right angular gyrus',\n",
    "       'Left angular gyrus', 'Right calcarine cortex',\n",
    "       'Left calcarine cortex', 'Right central operculum',\n",
    "       'Left central operculum', 'Right cuneus', 'Left cuneus',\n",
    "       'Right entorhinal area', 'Left entorhinal area',\n",
    "       'Right frontal operculum', 'Left frontal operculum',\n",
    "       'Right frontal pole', 'Left frontal pole',\n",
    "       'Right fusiform gyrus', 'Left fusiform gyrus',\n",
    "       'Right gyrus rectus', 'Left gyrus rectus',\n",
    "       'Right inferior occipital gyrus',\n",
    "       'Left inferior occipital gyrus',\n",
    "       'Right inferior temporal gyrus',\n",
    "       'Left inferior temporal gyrus', 'Right lingual gyrus',\n",
    "       'Left lingual gyrus', 'Right lateral orbital gyrus',\n",
    "       'Left lateral orbital gyrus',\n",
    "       'Right middle cingulate gyrus',\n",
    "       'Left middle cingulate gyrus',\n",
    "       'Right medial frontal cortex',\n",
    "       'Left medial frontal cortex', 'Right middle frontal gyrus',\n",
    "       'Left middle frontal gyrus',\n",
    "       'Right middle occipital gyrus',\n",
    "       'Left middle occipital gyrus',\n",
    "       'Right medial orbital gyrus',\n",
    "       'Left medial orbital gyrus',\n",
    "       'Right postcentral gyrus medial segment',\n",
    "       'Left postcentral gyrus medial segment',\n",
    "       'Right precentral gyrus medial segment',\n",
    "       'Left precentral gyrus medial segment',\n",
    "       'Right superior frontal gyrus medial segment',\n",
    "       'Left superior frontal gyrus medial segment',\n",
    "       'Right middle temporal gyrus',\n",
    "       'Left middle temporal gyrus', 'Right occipital pole',\n",
    "       'Left occipital pole', 'Right occipital fusiform gyrus',\n",
    "       'Left occipital fusiform gyrus',\n",
    "       'Right opercular part of the inferior frontal gyrus',\n",
    "       'Left opercular part of the inferior frontal gyrus',\n",
    "       'Right orbital part of the inferior frontal gyrus',\n",
    "       'Left orbital part of the inferior frontal gyrus',\n",
    "       'Right posterior cingulate gyrus',\n",
    "       'Left posterior cingulate gyrus', 'Right precuneus',\n",
    "       'Left precuneus', 'Right parahippocampal gyrus',\n",
    "       'Left parahippocampal gyrus', 'Right posterior insula',\n",
    "       'Left posterior insula', 'Right parietal operculum',\n",
    "       'Left parietal operculum', 'Right postcentral gyrus',\n",
    "       'Left postcentral gyrus', 'Right posterior orbital gyrus',\n",
    "       'Left posterior orbital gyrus', 'Right planum polare',\n",
    "       'Left planum polare', 'Right precentral gyrus',\n",
    "       'Left precentral gyrus', 'Right planum temporale',\n",
    "       'Left planum temporale', 'Right subcallosal area',\n",
    "       'Left subcallosal area', 'Right superior frontal gyrus',\n",
    "       'Left superior frontal gyrus',\n",
    "       'Right supplementary motor cortex',\n",
    "       'Left supplementary motor cortex',\n",
    "       'Right supramarginal gyrus', 'Left supramarginal gyrus',\n",
    "       'Right superior occipital gyrus',\n",
    "       'Left superior occipital gyrus',\n",
    "       'Right superior parietal lobule',\n",
    "       'Left superior parietal lobule',\n",
    "       'Right superior temporal gyrus',\n",
    "       'Left superior temporal gyrus', 'Right temporal pole',\n",
    "       'Left temporal pole',\n",
    "       'Right triangular part of the inferior frontal gyrus',\n",
    "       'Left triangular part of the inferior frontal gyrus',\n",
    "       'Right transverse temporal gyrus',\n",
    "       'Left transverse temporal gyrus'])"
   ]
  },
  {
   "cell_type": "markdown",
   "metadata": {},
   "source": [
    "7. Present histogram distances"
   ]
  },
  {
   "cell_type": "markdown",
   "metadata": {},
   "source": [
    "7. a) 1. Calculate relative rCBV change between uncorrected and corrected rCBV based on histograms"
   ]
  },
  {
   "cell_type": "code",
   "execution_count": 36,
   "metadata": {},
   "outputs": [],
   "source": [
    "raw_vs_topup_e1_relative_rcbv_change_df = \\\n",
    "preprocess_and_calculate_all_histogram_relative_rcbv_changes(region_values,\\\n",
    "                                                 region_names,\\\n",
    "                                                 hist_edges,\\\n",
    "                                                 raw_e1_CBV_region_histograms,\\\n",
    "                                                 topup_e1_CBV_region_histograms,\\\n",
    "                                                 two_tail_fraction)\n",
    "raw_vs_topup_e2_relative_rcbv_change_df = \\\n",
    "preprocess_and_calculate_all_histogram_relative_rcbv_changes(region_values,\\\n",
    "                                                 region_names,\\\n",
    "                                                 hist_edges,\\\n",
    "                                                 raw_e2_CBV_region_histograms,\\\n",
    "                                                 topup_e2_CBV_region_histograms,\\\n",
    "                                                 two_tail_fraction)\n",
    "raw_vs_epic_e1_relative_rcbv_change_df = \\\n",
    "preprocess_and_calculate_all_histogram_relative_rcbv_changes(region_values,\\\n",
    "                                                 region_names,\\\n",
    "                                                 hist_edges,\\\n",
    "                                                 raw_e1_CBV_region_histograms,\\\n",
    "                                                 epic_e1_CBV_region_histograms,\\\n",
    "                                                 two_tail_fraction)\n",
    "raw_vs_epic_e2_relative_rcbv_change_df = \\\n",
    "preprocess_and_calculate_all_histogram_relative_rcbv_changes(region_values,\\\n",
    "                                                 region_names,\\\n",
    "                                                 hist_edges,\\\n",
    "                                                 raw_e2_CBV_region_histograms,\\\n",
    "                                                 epic_e2_CBV_region_histograms,\\\n",
    "                                                 two_tail_fraction)"
   ]
  },
  {
   "cell_type": "code",
   "execution_count": 37,
   "metadata": {},
   "outputs": [],
   "source": [
    "\"\"\"\n",
    "With:\n",
    "ascending=True\n",
    "windowMin = 1/windowMax\n",
    "windowMax = 1/windowMin\n",
    "\"\"\"\n",
    "windowMin = \\\n",
    "np.min(\\\n",
    "[raw_vs_topup_e1_relative_rcbv_change_df.min().min(), \\\n",
    " raw_vs_topup_e2_relative_rcbv_change_df.min().min(), \\\n",
    " raw_vs_epic_e1_relative_rcbv_change_df.min().min(), \\\n",
    " raw_vs_epic_e2_relative_rcbv_change_df.min().min()])\n",
    "\n",
    "\"\"\"\n",
    "With:\n",
    "ascending=False\n",
    "windowMin = windowMin\n",
    "windowMax = windowMax\n",
    "\"\"\"\n",
    "windowMax = \\\n",
    "np.max(\\\n",
    "[raw_vs_topup_e1_relative_rcbv_change_df.max().max(), \\\n",
    " raw_vs_topup_e2_relative_rcbv_change_df.max().max(), \\\n",
    " raw_vs_epic_e1_relative_rcbv_change_df.max().max(), \\\n",
    " raw_vs_epic_e2_relative_rcbv_change_df.max().max()])\n",
    "\n",
    "#1/windowMin*0.4\n",
    "#windowMax*0.4"
   ]
  },
  {
   "cell_type": "code",
   "execution_count": 38,
   "metadata": {},
   "outputs": [
    {
     "name": "stderr",
     "output_type": "stream",
     "text": [
      "INFO:spimagine.gui.glwidget | saving frame as ../../epi_corrections_out_2019_07_02_tumor_exluded_from_rcbv/CBV_histograms_bins_64_min_0_max_12_region_rec_c_frac_0.7_region_min_vox_30/rCBV-change-r1-axial-inferior-superior.png\n",
      "INFO:spimagine.gui.glwidget | saving frame as ../../epi_corrections_out_2019_07_02_tumor_exluded_from_rcbv/CBV_histograms_bins_64_min_0_max_12_region_rec_c_frac_0.7_region_min_vox_30/rCBV-change-r1-sagittal-r-l-radiolog.png\n",
      "INFO:spimagine.gui.glwidget | saving frame as ../../epi_corrections_out_2019_07_02_tumor_exluded_from_rcbv/CBV_histograms_bins_64_min_0_max_12_region_rec_c_frac_0.7_region_min_vox_30/rCBV-change-r1-mixed-r-l-radiolog-posterior-anterior.png\n",
      "INFO:spimagine.gui.glwidget | saving frame as ../../epi_corrections_out_2019_07_02_tumor_exluded_from_rcbv/CBV_histograms_bins_64_min_0_max_12_region_rec_c_frac_0.7_region_min_vox_30/rCBV-change-r2-axial-inferior-superior.png\n",
      "INFO:spimagine.gui.glwidget | saving frame as ../../epi_corrections_out_2019_07_02_tumor_exluded_from_rcbv/CBV_histograms_bins_64_min_0_max_12_region_rec_c_frac_0.7_region_min_vox_30/rCBV-change-r2-sagittal-r-l-radiolog.png\n",
      "INFO:spimagine.gui.glwidget | saving frame as ../../epi_corrections_out_2019_07_02_tumor_exluded_from_rcbv/CBV_histograms_bins_64_min_0_max_12_region_rec_c_frac_0.7_region_min_vox_30/rCBV-change-r2-mixed-r-l-radiolog-posterior-anterior.png\n",
      "INFO:spimagine.gui.glwidget | saving frame as ../../epi_corrections_out_2019_07_02_tumor_exluded_from_rcbv/CBV_histograms_bins_64_min_0_max_12_region_rec_c_frac_0.7_region_min_vox_30/rCBV-change-r3-axial-inferior-superior.png\n",
      "INFO:spimagine.gui.glwidget | saving frame as ../../epi_corrections_out_2019_07_02_tumor_exluded_from_rcbv/CBV_histograms_bins_64_min_0_max_12_region_rec_c_frac_0.7_region_min_vox_30/rCBV-change-r3-sagittal-r-l-radiolog.png\n",
      "INFO:spimagine.gui.glwidget | saving frame as ../../epi_corrections_out_2019_07_02_tumor_exluded_from_rcbv/CBV_histograms_bins_64_min_0_max_12_region_rec_c_frac_0.7_region_min_vox_30/rCBV-change-r3-mixed-r-l-radiolog-posterior-anterior.png\n",
      "INFO:spimagine.gui.glwidget | saving frame as ../../epi_corrections_out_2019_07_02_tumor_exluded_from_rcbv/CBV_histograms_bins_64_min_0_max_12_region_rec_c_frac_0.7_region_min_vox_30/rCBV-change-r4-axial-inferior-superior.png\n",
      "INFO:spimagine.gui.glwidget | saving frame as ../../epi_corrections_out_2019_07_02_tumor_exluded_from_rcbv/CBV_histograms_bins_64_min_0_max_12_region_rec_c_frac_0.7_region_min_vox_30/rCBV-change-r4-sagittal-r-l-radiolog.png\n",
      "INFO:spimagine.gui.glwidget | saving frame as ../../epi_corrections_out_2019_07_02_tumor_exluded_from_rcbv/CBV_histograms_bins_64_min_0_max_12_region_rec_c_frac_0.7_region_min_vox_30/rCBV-change-r4-mixed-r-l-radiolog-posterior-anterior.png\n"
     ]
    }
   ],
   "source": [
    "#\"\"\"\n",
    "\"\"\"\n",
    "With:\n",
    "ascending1=True\n",
    "ascending2=True\n",
    "ascending3=True\n",
    "ascending4=True\n",
    "windowMin = 1/windowMax\n",
    "windowMax = 1/windowMin*0.33\n",
    "\"\"\"\n",
    "windowMin = \\\n",
    "np.min(\\\n",
    "[raw_vs_topup_e1_relative_rcbv_change_df.min().min(), \\\n",
    " raw_vs_topup_e2_relative_rcbv_change_df.min().min(), \\\n",
    " raw_vs_epic_e1_relative_rcbv_change_df.min().min(), \\\n",
    " raw_vs_epic_e2_relative_rcbv_change_df.min().min()])\n",
    "\n",
    "\"\"\"\n",
    "With:\n",
    "ascending1=False\n",
    "ascending2=False\n",
    "ascending3=False\n",
    "ascending4=False\n",
    "windowMin = windowMin\n",
    "windowMax = windowMax*0.4\n",
    "\"\"\"\n",
    "windowMax = \\\n",
    "np.max(\\\n",
    "[raw_vs_topup_e1_relative_rcbv_change_df.max().max(), \\\n",
    " raw_vs_topup_e2_relative_rcbv_change_df.max().max(), \\\n",
    " raw_vs_epic_e1_relative_rcbv_change_df.max().max(), \\\n",
    " raw_vs_epic_e2_relative_rcbv_change_df.max().max()])\n",
    "\n",
    "rendered_image_files_list_rcbv_change = \\\n",
    "sorted_boxplot_heatmap_figure_rcbv(df_1_rcbv = raw_vs_topup_e1_relative_rcbv_change_df, \\\n",
    "                                df_2_rcbv = raw_vs_topup_e2_relative_rcbv_change_df, \\\n",
    "                                df_3_rcbv = raw_vs_epic_e1_relative_rcbv_change_df, \\\n",
    "                                df_4_rcbv = raw_vs_epic_e2_relative_rcbv_change_df, \\\n",
    "                              ylabel_1 = \"Uncorrected vs. TOPUP GE\", \\\n",
    "                              ylabel_2 = \"Uncorrected vs. TOPUP SE\", \\\n",
    "                              ylabel_3 = \"Uncorrected vs. EPIC GE\", \\\n",
    "                              ylabel_4 = \"Uncorrected vs. EPIC SE\", \\\n",
    "                              distance_name = \"rCBV-change\", \\\n",
    "                              labels_data = labels_data, \\\n",
    "                              labels_dims =  labels_dims, \\\n",
    "                              CBV_out_dir = CBV_out_dir, \\\n",
    "                              rendered_image_files_list = [], \\\n",
    "                              region_values = region_values_temp, \\\n",
    "                              region_names = region_names_clean, \\\n",
    "                              region_names_to_exclude = regions_excluded_clean, \\\n",
    "                              ascending1=True, \\\n",
    "                              ascending2=True, \\\n",
    "                              ascending3=True, \\\n",
    "                              ascending4=True, \\\n",
    "                              top=\"all\", \\\n",
    "                              render_pngs=True, \\\n",
    "                              windowMin = 1/windowMax, \\\n",
    "                              windowMax = 1/windowMin*0.34, \\\n",
    "                              interpolation = \"nearest\", \\\n",
    "                              cmap = \"hot\", \\\n",
    "                              blur_3d = False, \\\n",
    "                              blur_3d_sigma = 1, \\\n",
    "                              method_comparison = False)\n",
    "#\"\"\""
   ]
  },
  {
   "cell_type": "code",
   "execution_count": 39,
   "metadata": {},
   "outputs": [],
   "source": [
    "%%bash -s \"$CBV_out_dir\"\n",
    "CBV_out_dir=$1\n",
    "cd $CBV_out_dir\n",
    "ls rCBV-change-*.png | xargs -I file convert file -fill white -opaque black file"
   ]
  },
  {
   "cell_type": "code",
   "execution_count": 40,
   "metadata": {},
   "outputs": [],
   "source": [
    "\"\"\"\n",
    "With:\n",
    "ascending=True\n",
    "windowMin = 1/windowMax\n",
    "windowMax = 1/windowMin*0.33\n",
    "\"\"\"\n",
    "windowMin = \\\n",
    "np.min(\\\n",
    "[raw_vs_topup_e1_relative_rcbv_change_df.min().min(), \\\n",
    " raw_vs_topup_e2_relative_rcbv_change_df.min().min(), \\\n",
    " raw_vs_epic_e1_relative_rcbv_change_df.min().min(), \\\n",
    " raw_vs_epic_e2_relative_rcbv_change_df.min().min()])\n",
    "\n",
    "\"\"\"\n",
    "With:\n",
    "ascending=False\n",
    "windowMin = windowMin\n",
    "windowMax = windowMax*0.4\n",
    "\"\"\"\n",
    "windowMax = \\\n",
    "np.max(\\\n",
    "[raw_vs_topup_e1_relative_rcbv_change_df.max().max(), \\\n",
    " raw_vs_topup_e2_relative_rcbv_change_df.max().max(), \\\n",
    " raw_vs_epic_e1_relative_rcbv_change_df.max().max(), \\\n",
    " raw_vs_epic_e2_relative_rcbv_change_df.max().max()])\n",
    "rendered_image_files_list_rcbv_change = \\\n",
    "sorted_boxplot_heatmap_figure_rcbv(df_1_rcbv = raw_vs_topup_e1_relative_rcbv_change_df, \\\n",
    "                                df_2_rcbv = raw_vs_topup_e2_relative_rcbv_change_df, \\\n",
    "                                df_3_rcbv = raw_vs_epic_e1_relative_rcbv_change_df, \\\n",
    "                                df_4_rcbv = raw_vs_epic_e2_relative_rcbv_change_df, \\\n",
    "                              ylabel_1 = \"Uncorrected vs. TOPUP GE\", \\\n",
    "                              ylabel_2 = \"Uncorrected vs. TOPUP SE\", \\\n",
    "                              ylabel_3 = \"Uncorrected vs. EPIC GE\", \\\n",
    "                              ylabel_4 = \"Uncorrected vs. EPIC SE\", \\\n",
    "                              distance_name = \"rCBV-change\", \\\n",
    "                              labels_data = labels_data, \\\n",
    "                              labels_dims =  labels_dims, \\\n",
    "                              CBV_out_dir = CBV_out_dir, \\\n",
    "                              rendered_image_files_list = rendered_image_files_list_rcbv_change, \\\n",
    "                              region_values = region_values_temp, \\\n",
    "                              region_names = region_names_clean, \\\n",
    "                              region_names_to_exclude = regions_excluded_clean, \\\n",
    "                              ascending1=True, \\\n",
    "                              ascending2=True, \\\n",
    "                              ascending3=True, \\\n",
    "                              ascending4=True, \\\n",
    "                              top=20, \\\n",
    "                              render_pngs=False, \\\n",
    "                              windowMin = 0, \\\n",
    "                              windowMax = windowMax*0.6, \\\n",
    "                              interpolation = \"nearest\", \\\n",
    "                              cmap = \"hot\", \\\n",
    "                              blur_3d = False, \\\n",
    "                              blur_3d_sigma = 1, \\\n",
    "                              method_comparison = False)"
   ]
  },
  {
   "cell_type": "code",
   "execution_count": 41,
   "metadata": {},
   "outputs": [
    {
     "name": "stderr",
     "output_type": "stream",
     "text": [
      "INFO:spimagine.gui.glwidget | saving frame as ../../epi_corrections_out_2019_07_02_tumor_exluded_from_rcbv/CBV_histograms_bins_64_min_0_max_12_region_rec_c_frac_0.7_region_min_vox_30/rCBV-change-r1-axial-inferior-superior.png\n",
      "INFO:spimagine.gui.glwidget | saving frame as ../../epi_corrections_out_2019_07_02_tumor_exluded_from_rcbv/CBV_histograms_bins_64_min_0_max_12_region_rec_c_frac_0.7_region_min_vox_30/rCBV-change-r1-sagittal-r-l-radiolog.png\n",
      "INFO:spimagine.gui.glwidget | saving frame as ../../epi_corrections_out_2019_07_02_tumor_exluded_from_rcbv/CBV_histograms_bins_64_min_0_max_12_region_rec_c_frac_0.7_region_min_vox_30/rCBV-change-r1-mixed-r-l-radiolog-posterior-anterior.png\n",
      "INFO:spimagine.gui.glwidget | saving frame as ../../epi_corrections_out_2019_07_02_tumor_exluded_from_rcbv/CBV_histograms_bins_64_min_0_max_12_region_rec_c_frac_0.7_region_min_vox_30/rCBV-change-r2-axial-inferior-superior.png\n",
      "INFO:spimagine.gui.glwidget | saving frame as ../../epi_corrections_out_2019_07_02_tumor_exluded_from_rcbv/CBV_histograms_bins_64_min_0_max_12_region_rec_c_frac_0.7_region_min_vox_30/rCBV-change-r2-sagittal-r-l-radiolog.png\n",
      "INFO:spimagine.gui.glwidget | saving frame as ../../epi_corrections_out_2019_07_02_tumor_exluded_from_rcbv/CBV_histograms_bins_64_min_0_max_12_region_rec_c_frac_0.7_region_min_vox_30/rCBV-change-r2-mixed-r-l-radiolog-posterior-anterior.png\n",
      "INFO:spimagine.gui.glwidget | saving frame as ../../epi_corrections_out_2019_07_02_tumor_exluded_from_rcbv/CBV_histograms_bins_64_min_0_max_12_region_rec_c_frac_0.7_region_min_vox_30/rCBV-change-r3-axial-inferior-superior.png\n",
      "INFO:spimagine.gui.glwidget | saving frame as ../../epi_corrections_out_2019_07_02_tumor_exluded_from_rcbv/CBV_histograms_bins_64_min_0_max_12_region_rec_c_frac_0.7_region_min_vox_30/rCBV-change-r3-sagittal-r-l-radiolog.png\n",
      "INFO:spimagine.gui.glwidget | saving frame as ../../epi_corrections_out_2019_07_02_tumor_exluded_from_rcbv/CBV_histograms_bins_64_min_0_max_12_region_rec_c_frac_0.7_region_min_vox_30/rCBV-change-r3-mixed-r-l-radiolog-posterior-anterior.png\n",
      "INFO:spimagine.gui.glwidget | saving frame as ../../epi_corrections_out_2019_07_02_tumor_exluded_from_rcbv/CBV_histograms_bins_64_min_0_max_12_region_rec_c_frac_0.7_region_min_vox_30/rCBV-change-r4-axial-inferior-superior.png\n",
      "INFO:spimagine.gui.glwidget | saving frame as ../../epi_corrections_out_2019_07_02_tumor_exluded_from_rcbv/CBV_histograms_bins_64_min_0_max_12_region_rec_c_frac_0.7_region_min_vox_30/rCBV-change-r4-sagittal-r-l-radiolog.png\n",
      "INFO:spimagine.gui.glwidget | saving frame as ../../epi_corrections_out_2019_07_02_tumor_exluded_from_rcbv/CBV_histograms_bins_64_min_0_max_12_region_rec_c_frac_0.7_region_min_vox_30/rCBV-change-r4-mixed-r-l-radiolog-posterior-anterior.png\n"
     ]
    }
   ],
   "source": [
    "#\"\"\"\n",
    "\"\"\"\n",
    "With:\n",
    "ascending1=True\n",
    "ascending2=True\n",
    "ascending3=True\n",
    "ascending4=True\n",
    "windowMin = 1/windowMax\n",
    "windowMax = 1/windowMin*0.33\n",
    "\"\"\"\n",
    "windowMin = \\\n",
    "np.min(\\\n",
    "[raw_vs_topup_e1_relative_rcbv_change_df.min().min(), \\\n",
    " raw_vs_topup_e2_relative_rcbv_change_df.min().min(), \\\n",
    " raw_vs_epic_e1_relative_rcbv_change_df.min().min(), \\\n",
    " raw_vs_epic_e2_relative_rcbv_change_df.min().min()])\n",
    "\n",
    "\"\"\"\n",
    "With:\n",
    "ascending1=False\n",
    "ascending2=False\n",
    "ascending3=False\n",
    "ascending4=False\n",
    "windowMin = windowMin\n",
    "windowMax = windowMax*0.4\n",
    "\"\"\"\n",
    "windowMax = \\\n",
    "np.max(\\\n",
    "[raw_vs_topup_e1_relative_rcbv_change_df.max().max(), \\\n",
    " raw_vs_topup_e2_relative_rcbv_change_df.max().max(), \\\n",
    " raw_vs_epic_e1_relative_rcbv_change_df.max().max(), \\\n",
    " raw_vs_epic_e2_relative_rcbv_change_df.max().max()])\n",
    "\n",
    "rendered_image_files_list_rcbv_change = \\\n",
    "sorted_boxplot_heatmap_figure_rcbv(df_1_rcbv = raw_vs_topup_e1_relative_rcbv_change_df, \\\n",
    "                                df_2_rcbv = raw_vs_topup_e2_relative_rcbv_change_df, \\\n",
    "                                df_3_rcbv = raw_vs_epic_e1_relative_rcbv_change_df, \\\n",
    "                                df_4_rcbv = raw_vs_epic_e2_relative_rcbv_change_df, \\\n",
    "                              ylabel_1 = \"Uncorrected vs. TOPUP GE\", \\\n",
    "                              ylabel_2 = \"Uncorrected vs. TOPUP SE\", \\\n",
    "                              ylabel_3 = \"Uncorrected vs. EPIC GE\", \\\n",
    "                              ylabel_4 = \"Uncorrected vs. EPIC SE\", \\\n",
    "                              distance_name = \"rCBV-change\", \\\n",
    "                              labels_data = labels_data, \\\n",
    "                              labels_dims =  labels_dims, \\\n",
    "                              CBV_out_dir = CBV_out_dir, \\\n",
    "                              rendered_image_files_list = [], \\\n",
    "                              region_values = region_values_temp, \\\n",
    "                              region_names = region_names_clean, \\\n",
    "                              region_names_to_exclude = regions_excluded_clean, \\\n",
    "                              ascending1=False, \\\n",
    "                              ascending2=False, \\\n",
    "                              ascending3=False, \\\n",
    "                              ascending4=False, \\\n",
    "                              top=\"all\", \\\n",
    "                              render_pngs=True, \\\n",
    "                              windowMin = windowMin, \\\n",
    "                              windowMax = windowMax*0.4, \\\n",
    "                              interpolation = \"nearest\", \\\n",
    "                              cmap = \"hot\", \\\n",
    "                              blur_3d = False, \\\n",
    "                              blur_3d_sigma = 1, \\\n",
    "                              method_comparison = False)\n",
    "#\"\"\""
   ]
  },
  {
   "cell_type": "code",
   "execution_count": 42,
   "metadata": {},
   "outputs": [],
   "source": [
    "%%bash -s \"$CBV_out_dir\"\n",
    "CBV_out_dir=$1\n",
    "cd $CBV_out_dir\n",
    "ls rCBV-change-*.png | xargs -I file convert file -fill white -opaque black file"
   ]
  },
  {
   "cell_type": "code",
   "execution_count": 43,
   "metadata": {},
   "outputs": [],
   "source": [
    "\"\"\"\n",
    "With:\n",
    "ascending=True\n",
    "windowMin = 1/windowMax\n",
    "windowMax = 1/windowMin*0.33\n",
    "\"\"\"\n",
    "windowMin = \\\n",
    "np.min(\\\n",
    "[raw_vs_topup_e1_relative_rcbv_change_df.min().min(), \\\n",
    " raw_vs_topup_e2_relative_rcbv_change_df.min().min(), \\\n",
    " raw_vs_epic_e1_relative_rcbv_change_df.min().min(), \\\n",
    " raw_vs_epic_e2_relative_rcbv_change_df.min().min()])\n",
    "\n",
    "\"\"\"\n",
    "With:\n",
    "ascending=False\n",
    "windowMin = windowMin\n",
    "windowMax = windowMax*0.4\n",
    "\"\"\"\n",
    "windowMax = \\\n",
    "np.max(\\\n",
    "[raw_vs_topup_e1_relative_rcbv_change_df.max().max(), \\\n",
    " raw_vs_topup_e2_relative_rcbv_change_df.max().max(), \\\n",
    " raw_vs_epic_e1_relative_rcbv_change_df.max().max(), \\\n",
    " raw_vs_epic_e2_relative_rcbv_change_df.max().max()])\n",
    "rendered_image_files_list_rcbv_change = \\\n",
    "sorted_boxplot_heatmap_figure_rcbv(df_1_rcbv = raw_vs_topup_e1_relative_rcbv_change_df, \\\n",
    "                                df_2_rcbv = raw_vs_topup_e2_relative_rcbv_change_df, \\\n",
    "                                df_3_rcbv = raw_vs_epic_e1_relative_rcbv_change_df, \\\n",
    "                                df_4_rcbv = raw_vs_epic_e2_relative_rcbv_change_df, \\\n",
    "                              ylabel_1 = \"Uncorrected vs. TOPUP GE\", \\\n",
    "                              ylabel_2 = \"Uncorrected vs. TOPUP SE\", \\\n",
    "                              ylabel_3 = \"Uncorrected vs. EPIC GE\", \\\n",
    "                              ylabel_4 = \"Uncorrected vs. EPIC SE\", \\\n",
    "                              distance_name = \"rCBV-change\", \\\n",
    "                              labels_data = labels_data, \\\n",
    "                              labels_dims =  labels_dims, \\\n",
    "                              CBV_out_dir = CBV_out_dir, \\\n",
    "                              rendered_image_files_list = rendered_image_files_list_rcbv_change, \\\n",
    "                              region_values = region_values_temp, \\\n",
    "                              region_names = region_names_clean, \\\n",
    "                              region_names_to_exclude = regions_excluded_clean, \\\n",
    "                              ascending1=False, \\\n",
    "                              ascending2=False, \\\n",
    "                              ascending3=False, \\\n",
    "                              ascending4=False, \\\n",
    "                              top=20, \\\n",
    "                              render_pngs=False, \\\n",
    "                              windowMin = 0, \\\n",
    "                              windowMax = windowMax*0.6, \\\n",
    "                              interpolation = \"nearest\", \\\n",
    "                              cmap = \"hot\", \\\n",
    "                              blur_3d = False, \\\n",
    "                              blur_3d_sigma = 1, \\\n",
    "                              method_comparison = False)"
   ]
  },
  {
   "cell_type": "markdown",
   "metadata": {},
   "source": [
    "7. a) 2. Calculate relative rCBV change between topup and epic corrected rCBV based on histograms"
   ]
  },
  {
   "cell_type": "code",
   "execution_count": 44,
   "metadata": {},
   "outputs": [],
   "source": [
    "topup_vs_epic_e1_relative_rcbv_change_df = \\\n",
    "preprocess_and_calculate_all_histogram_relative_rcbv_changes(region_values,\\\n",
    "                                                 region_names,\\\n",
    "                                                 hist_edges,\\\n",
    "                                                 topup_e1_CBV_region_histograms,\\\n",
    "                                                 epic_e1_CBV_region_histograms,\\\n",
    "                                                 two_tail_fraction)\n",
    "topup_vs_epic_e2_relative_rcbv_change_df = \\\n",
    "preprocess_and_calculate_all_histogram_relative_rcbv_changes(region_values,\\\n",
    "                                                 region_names,\\\n",
    "                                                 hist_edges,\\\n",
    "                                                 topup_e2_CBV_region_histograms,\\\n",
    "                                                 epic_e2_CBV_region_histograms,\\\n",
    "                                                 two_tail_fraction)"
   ]
  },
  {
   "cell_type": "code",
   "execution_count": 45,
   "metadata": {},
   "outputs": [],
   "source": [
    "\"\"\"\n",
    "With:\n",
    "ascending=True\n",
    "windowMin = 1/windowMax\n",
    "windowMax = 1/windowMin\n",
    "\"\"\"\n",
    "windowMin = \\\n",
    "np.min(\\\n",
    "[topup_vs_epic_e1_relative_rcbv_change_df.min().min(), \\\n",
    " topup_vs_epic_e2_relative_rcbv_change_df.min().min()])\n",
    "\n",
    "\"\"\"\n",
    "With:\n",
    "ascending=False\n",
    "windowMin = windowMin\n",
    "windowMax = windowMax\n",
    "\"\"\"\n",
    "windowMax = \\\n",
    "np.max(\\\n",
    "[topup_vs_epic_e1_relative_rcbv_change_df.max().max(), \\\n",
    " topup_vs_epic_e2_relative_rcbv_change_df.max().max()])\n",
    "\n",
    "#1/windowMin*0.4\n",
    "#windowMax*0.4\n",
    "#windowMin\n",
    "#windowMax"
   ]
  },
  {
   "cell_type": "code",
   "execution_count": 46,
   "metadata": {},
   "outputs": [
    {
     "name": "stderr",
     "output_type": "stream",
     "text": [
      "INFO:spimagine.gui.glwidget | saving frame as ../../epi_corrections_out_2019_07_02_tumor_exluded_from_rcbv/CBV_histograms_bins_64_min_0_max_12_region_rec_c_frac_0.7_region_min_vox_30/rCBV-change-r1-axial-inferior-superior.png\n",
      "INFO:spimagine.gui.glwidget | saving frame as ../../epi_corrections_out_2019_07_02_tumor_exluded_from_rcbv/CBV_histograms_bins_64_min_0_max_12_region_rec_c_frac_0.7_region_min_vox_30/rCBV-change-r1-sagittal-r-l-radiolog.png\n",
      "INFO:spimagine.gui.glwidget | saving frame as ../../epi_corrections_out_2019_07_02_tumor_exluded_from_rcbv/CBV_histograms_bins_64_min_0_max_12_region_rec_c_frac_0.7_region_min_vox_30/rCBV-change-r1-mixed-r-l-radiolog-posterior-anterior.png\n",
      "INFO:spimagine.gui.glwidget | saving frame as ../../epi_corrections_out_2019_07_02_tumor_exluded_from_rcbv/CBV_histograms_bins_64_min_0_max_12_region_rec_c_frac_0.7_region_min_vox_30/rCBV-change-r2-axial-inferior-superior.png\n",
      "INFO:spimagine.gui.glwidget | saving frame as ../../epi_corrections_out_2019_07_02_tumor_exluded_from_rcbv/CBV_histograms_bins_64_min_0_max_12_region_rec_c_frac_0.7_region_min_vox_30/rCBV-change-r2-sagittal-r-l-radiolog.png\n",
      "INFO:spimagine.gui.glwidget | saving frame as ../../epi_corrections_out_2019_07_02_tumor_exluded_from_rcbv/CBV_histograms_bins_64_min_0_max_12_region_rec_c_frac_0.7_region_min_vox_30/rCBV-change-r2-mixed-r-l-radiolog-posterior-anterior.png\n",
      "INFO:spimagine.gui.glwidget | saving frame as ../../epi_corrections_out_2019_07_02_tumor_exluded_from_rcbv/CBV_histograms_bins_64_min_0_max_12_region_rec_c_frac_0.7_region_min_vox_30/rCBV-change-r3-axial-inferior-superior.png\n",
      "INFO:spimagine.gui.glwidget | saving frame as ../../epi_corrections_out_2019_07_02_tumor_exluded_from_rcbv/CBV_histograms_bins_64_min_0_max_12_region_rec_c_frac_0.7_region_min_vox_30/rCBV-change-r3-sagittal-r-l-radiolog.png\n",
      "INFO:spimagine.gui.glwidget | saving frame as ../../epi_corrections_out_2019_07_02_tumor_exluded_from_rcbv/CBV_histograms_bins_64_min_0_max_12_region_rec_c_frac_0.7_region_min_vox_30/rCBV-change-r3-mixed-r-l-radiolog-posterior-anterior.png\n",
      "INFO:spimagine.gui.glwidget | saving frame as ../../epi_corrections_out_2019_07_02_tumor_exluded_from_rcbv/CBV_histograms_bins_64_min_0_max_12_region_rec_c_frac_0.7_region_min_vox_30/rCBV-change-r4-axial-inferior-superior.png\n",
      "INFO:spimagine.gui.glwidget | saving frame as ../../epi_corrections_out_2019_07_02_tumor_exluded_from_rcbv/CBV_histograms_bins_64_min_0_max_12_region_rec_c_frac_0.7_region_min_vox_30/rCBV-change-r4-sagittal-r-l-radiolog.png\n",
      "INFO:spimagine.gui.glwidget | saving frame as ../../epi_corrections_out_2019_07_02_tumor_exluded_from_rcbv/CBV_histograms_bins_64_min_0_max_12_region_rec_c_frac_0.7_region_min_vox_30/rCBV-change-r4-mixed-r-l-radiolog-posterior-anterior.png\n"
     ]
    }
   ],
   "source": [
    "#\"\"\"\n",
    "\"\"\"\n",
    "With:\n",
    "ascending=True\n",
    "windowMin = 1/windowMax\n",
    "windowMax = 1/windowMin\n",
    "\"\"\"\n",
    "windowMin = \\\n",
    "np.min(\\\n",
    "[topup_vs_epic_e1_relative_rcbv_change_df.min().min(), \\\n",
    " topup_vs_epic_e2_relative_rcbv_change_df.min().min()])\n",
    "\n",
    "\"\"\"\n",
    "With:\n",
    "ascending=False\n",
    "windowMin = windowMin\n",
    "windowMax = windowMax\n",
    "\"\"\"\n",
    "windowMax = \\\n",
    "np.max(\\\n",
    "[topup_vs_epic_e1_relative_rcbv_change_df.max().max(), \\\n",
    " topup_vs_epic_e2_relative_rcbv_change_df.max().max()])\n",
    "\n",
    "m = np.max([windowMax, 1/windowMin])\n",
    "\n",
    "rendered_image_files_list_correction_method_comparison = \\\n",
    "sorted_boxplot_heatmap_figure_rcbv(df_1_rcbv = topup_vs_epic_e1_relative_rcbv_change_df, \\\n",
    "                              df_2_rcbv = topup_vs_epic_e2_relative_rcbv_change_df, \\\n",
    "                              df_3_rcbv = topup_vs_epic_e1_relative_rcbv_change_df, \\\n",
    "                              df_4_rcbv = topup_vs_epic_e2_relative_rcbv_change_df, \\\n",
    "                              ylabel_1 = \"TOPUP. vs. EPIC GE\", \\\n",
    "                              ylabel_2 = \"TOPUP. vs. EPIC SE\", \\\n",
    "                              ylabel_3 = \"TOPUP. vs. EPIC GE\", \\\n",
    "                              ylabel_4 = \"TOPUP. vs. EPIC SE\", \\\n",
    "                              distance_name = \"rCBV-change\", \\\n",
    "                              labels_data = labels_data, \\\n",
    "                              labels_dims =  labels_dims, \\\n",
    "                              CBV_out_dir = CBV_out_dir, \\\n",
    "                              rendered_image_files_list = [], \\\n",
    "                              region_values = region_values_temp, \\\n",
    "                              region_names = region_names_clean, \\\n",
    "                              region_names_to_exclude = regions_excluded_clean, \\\n",
    "                              ascending1=False, \\\n",
    "                              ascending2=False, \\\n",
    "                              ascending3=True, \\\n",
    "                              ascending4=True, \\\n",
    "                              top=\"all\", \\\n",
    "                              render_pngs=True, \\\n",
    "                              windowMin = 0, \\\n",
    "                              windowMax = m*0.35, \\\n",
    "                              interpolation = \"nearest\", \\\n",
    "                              cmap = \"hot\", \\\n",
    "                              blur_3d = False, \\\n",
    "                              blur_3d_sigma = 1, \\\n",
    "                              method_comparison = True)"
   ]
  },
  {
   "cell_type": "code",
   "execution_count": 47,
   "metadata": {},
   "outputs": [],
   "source": [
    "%%bash -s \"$CBV_out_dir\"\n",
    "CBV_out_dir=$1\n",
    "cd $CBV_out_dir\n",
    "ls rCBV-change-*.png | xargs -I file convert file -fill white -opaque black file"
   ]
  },
  {
   "cell_type": "code",
   "execution_count": 48,
   "metadata": {},
   "outputs": [],
   "source": [
    "\"\"\"\n",
    "With:\n",
    "ascending=True\n",
    "windowMin = 1/windowMax\n",
    "windowMax = 1/windowMin\n",
    "\"\"\"\n",
    "windowMin = \\\n",
    "np.min(\\\n",
    "[topup_vs_epic_e1_relative_rcbv_change_df.min().min(), \\\n",
    " topup_vs_epic_e2_relative_rcbv_change_df.min().min()])\n",
    "\n",
    "\"\"\"\n",
    "With:\n",
    "ascending=False\n",
    "windowMin = windowMin\n",
    "windowMax = windowMax\n",
    "\"\"\"\n",
    "windowMax = \\\n",
    "np.max(\\\n",
    "[topup_vs_epic_e1_relative_rcbv_change_df.max().max(), \\\n",
    " topup_vs_epic_e2_relative_rcbv_change_df.max().max()])\n",
    "rendered_image_files_list_correction_method_comparison = \\\n",
    "sorted_boxplot_heatmap_figure_rcbv(df_1_rcbv = topup_vs_epic_e1_relative_rcbv_change_df, \\\n",
    "                              df_2_rcbv = topup_vs_epic_e2_relative_rcbv_change_df, \\\n",
    "                              df_3_rcbv = topup_vs_epic_e1_relative_rcbv_change_df, \\\n",
    "                              df_4_rcbv = topup_vs_epic_e2_relative_rcbv_change_df, \\\n",
    "                              ylabel_1 = \"TOPUP. vs. EPIC GE\", \\\n",
    "                              ylabel_2 = \"TOPUP. vs. EPIC SE\", \\\n",
    "                              ylabel_3 = \"TOPUP. vs. EPIC GE\", \\\n",
    "                              ylabel_4 = \"TOPUP. vs. EPIC SE\", \\\n",
    "                              distance_name = \"rCBV-change\", \\\n",
    "                              labels_data = labels_data, \\\n",
    "                              labels_dims =  labels_dims, \\\n",
    "                              CBV_out_dir = CBV_out_dir, \\\n",
    "                              rendered_image_files_list = rendered_image_files_list_correction_method_comparison, \\\n",
    "                              region_values = region_values_temp, \\\n",
    "                              region_names = region_names_clean, \\\n",
    "                              region_names_to_exclude = regions_excluded_clean, \\\n",
    "                              ascending1=False, \\\n",
    "                              ascending2=False, \\\n",
    "                              ascending3=True, \\\n",
    "                              ascending4=True, \\\n",
    "                              top=20, \\\n",
    "                              render_pngs=False, \\\n",
    "                              windowMin = 0, \\\n",
    "                              windowMax = m*0.4, \\\n",
    "                              interpolation = \"nearest\", \\\n",
    "                              cmap = \"hot\", \\\n",
    "                              blur_3d = False, \\\n",
    "                              blur_3d_sigma = 1, \\\n",
    "                              method_comparison = True)"
   ]
  },
  {
   "cell_type": "markdown",
   "metadata": {},
   "source": [
    "7. b) Hellinger distance between region histograms of Uncorrected and TOPUP corrected rCBVs and Uncorrected and EPIC corrected rCBVs"
   ]
  },
  {
   "cell_type": "code",
   "execution_count": 49,
   "metadata": {},
   "outputs": [],
   "source": [
    "#\"\"\"\n",
    "raw_vs_topup_e1_hellinger_df = \\\n",
    "preprocess_and_calculate_all_histogram_distances(region_values,\\\n",
    "                                                 region_names,\\\n",
    "                                                 hist_edges,\\\n",
    "                                                 raw_e1_CBV_region_histograms,\\\n",
    "                                                 topup_e1_CBV_region_histograms,\\\n",
    "                                                 two_tail_fraction,\\\n",
    "                                                 comparison_method=\"hellinger\")\n",
    "raw_vs_topup_e2_hellinger_df = \\\n",
    "preprocess_and_calculate_all_histogram_distances(region_values,\\\n",
    "                                                 region_names,\\\n",
    "                                                 hist_edges,\\\n",
    "                                                 raw_e2_CBV_region_histograms,\\\n",
    "                                                 topup_e2_CBV_region_histograms,\\\n",
    "                                                 two_tail_fraction,\\\n",
    "                                                 comparison_method=\"hellinger\")\n",
    "raw_vs_epic_e1_hellinger_df = \\\n",
    "preprocess_and_calculate_all_histogram_distances(region_values,\\\n",
    "                                                 region_names,\\\n",
    "                                                 hist_edges,\\\n",
    "                                                 raw_e1_CBV_region_histograms,\\\n",
    "                                                 epic_e1_CBV_region_histograms,\\\n",
    "                                                 two_tail_fraction,\\\n",
    "                                                 comparison_method=\"hellinger\")\n",
    "raw_vs_epic_e2_hellinger_df = \\\n",
    "preprocess_and_calculate_all_histogram_distances(region_values,\\\n",
    "                                                 region_names,\\\n",
    "                                                 hist_edges,\\\n",
    "                                                 raw_e2_CBV_region_histograms,\\\n",
    "                                                 epic_e2_CBV_region_histograms,\\\n",
    "                                                 two_tail_fraction,\\\n",
    "                                                 comparison_method=\"hellinger\")\n",
    "#\"\"\""
   ]
  },
  {
   "cell_type": "code",
   "execution_count": 50,
   "metadata": {},
   "outputs": [
    {
     "data": {
      "text/plain": [
       "0.44509188744430433"
      ]
     },
     "execution_count": 50,
     "metadata": {},
     "output_type": "execute_result"
    }
   ],
   "source": [
    "windowMax = \\\n",
    "np.max(\\\n",
    "[raw_vs_topup_e1_hellinger_df.max().max(), \\\n",
    " raw_vs_topup_e2_hellinger_df.max().max(), \\\n",
    " raw_vs_epic_e1_hellinger_df.max().max(), \\\n",
    " raw_vs_epic_e2_hellinger_df.max().max()])\n",
    "windowMax*0.5"
   ]
  },
  {
   "cell_type": "code",
   "execution_count": 51,
   "metadata": {},
   "outputs": [
    {
     "name": "stderr",
     "output_type": "stream",
     "text": [
      "INFO:spimagine.gui.glwidget | saving frame as ../../epi_corrections_out_2019_07_02_tumor_exluded_from_rcbv/CBV_histograms_bins_64_min_0_max_12_region_rec_c_frac_0.7_region_min_vox_30/Hellinger-r1-axial-inferior-superior.png\n",
      "INFO:spimagine.gui.glwidget | saving frame as ../../epi_corrections_out_2019_07_02_tumor_exluded_from_rcbv/CBV_histograms_bins_64_min_0_max_12_region_rec_c_frac_0.7_region_min_vox_30/Hellinger-r1-sagittal-r-l-radiolog.png\n",
      "INFO:spimagine.gui.glwidget | saving frame as ../../epi_corrections_out_2019_07_02_tumor_exluded_from_rcbv/CBV_histograms_bins_64_min_0_max_12_region_rec_c_frac_0.7_region_min_vox_30/Hellinger-r1-mixed-r-l-radiolog-posterior-anterior.png\n",
      "INFO:spimagine.gui.glwidget | saving frame as ../../epi_corrections_out_2019_07_02_tumor_exluded_from_rcbv/CBV_histograms_bins_64_min_0_max_12_region_rec_c_frac_0.7_region_min_vox_30/Hellinger-r2-axial-inferior-superior.png\n",
      "INFO:spimagine.gui.glwidget | saving frame as ../../epi_corrections_out_2019_07_02_tumor_exluded_from_rcbv/CBV_histograms_bins_64_min_0_max_12_region_rec_c_frac_0.7_region_min_vox_30/Hellinger-r2-sagittal-r-l-radiolog.png\n",
      "INFO:spimagine.gui.glwidget | saving frame as ../../epi_corrections_out_2019_07_02_tumor_exluded_from_rcbv/CBV_histograms_bins_64_min_0_max_12_region_rec_c_frac_0.7_region_min_vox_30/Hellinger-r2-mixed-r-l-radiolog-posterior-anterior.png\n",
      "INFO:spimagine.gui.glwidget | saving frame as ../../epi_corrections_out_2019_07_02_tumor_exluded_from_rcbv/CBV_histograms_bins_64_min_0_max_12_region_rec_c_frac_0.7_region_min_vox_30/Hellinger-r3-axial-inferior-superior.png\n",
      "INFO:spimagine.gui.glwidget | saving frame as ../../epi_corrections_out_2019_07_02_tumor_exluded_from_rcbv/CBV_histograms_bins_64_min_0_max_12_region_rec_c_frac_0.7_region_min_vox_30/Hellinger-r3-sagittal-r-l-radiolog.png\n",
      "INFO:spimagine.gui.glwidget | saving frame as ../../epi_corrections_out_2019_07_02_tumor_exluded_from_rcbv/CBV_histograms_bins_64_min_0_max_12_region_rec_c_frac_0.7_region_min_vox_30/Hellinger-r3-mixed-r-l-radiolog-posterior-anterior.png\n",
      "INFO:spimagine.gui.glwidget | saving frame as ../../epi_corrections_out_2019_07_02_tumor_exluded_from_rcbv/CBV_histograms_bins_64_min_0_max_12_region_rec_c_frac_0.7_region_min_vox_30/Hellinger-r4-axial-inferior-superior.png\n",
      "INFO:spimagine.gui.glwidget | saving frame as ../../epi_corrections_out_2019_07_02_tumor_exluded_from_rcbv/CBV_histograms_bins_64_min_0_max_12_region_rec_c_frac_0.7_region_min_vox_30/Hellinger-r4-sagittal-r-l-radiolog.png\n",
      "INFO:spimagine.gui.glwidget | saving frame as ../../epi_corrections_out_2019_07_02_tumor_exluded_from_rcbv/CBV_histograms_bins_64_min_0_max_12_region_rec_c_frac_0.7_region_min_vox_30/Hellinger-r4-mixed-r-l-radiolog-posterior-anterior.png\n"
     ]
    }
   ],
   "source": [
    "#\"\"\"\n",
    "windowMax = \\\n",
    "np.max(\\\n",
    "[raw_vs_topup_e1_hellinger_df.max().max(), \\\n",
    " raw_vs_topup_e2_hellinger_df.max().max(), \\\n",
    " raw_vs_epic_e1_hellinger_df.max().max(), \\\n",
    " raw_vs_epic_e2_hellinger_df.max().max()])\n",
    "\n",
    "rendered_image_files_list_hellinger = \\\n",
    "sorted_boxplot_heatmap_figure_distances(df_1 = raw_vs_topup_e1_hellinger_df, \\\n",
    "                                df_1_rcbv = raw_vs_topup_e1_relative_rcbv_change_df, \\\n",
    "                                df_2 = raw_vs_topup_e2_hellinger_df, \\\n",
    "                                df_2_rcbv = raw_vs_topup_e2_relative_rcbv_change_df, \\\n",
    "                                df_3 = raw_vs_epic_e1_hellinger_df, \\\n",
    "                                df_3_rcbv = raw_vs_epic_e1_relative_rcbv_change_df, \\\n",
    "                                df_4 = raw_vs_epic_e2_hellinger_df, \\\n",
    "                                df_4_rcbv = raw_vs_epic_e2_relative_rcbv_change_df, \\\n",
    "                              ylabel_1 = \"Uncorrected vs. TOPUP GE\", \\\n",
    "                              ylabel_2 = \"Uncorrected vs. TOPUP SE\", \\\n",
    "                              ylabel_3 = \"Uncorrected vs. EPIC GE\", \\\n",
    "                              ylabel_4 = \"Uncorrected vs. EPIC SE\", \\\n",
    "                              distance_name = \"Hellinger\", \\\n",
    "                              labels_data = labels_data, \\\n",
    "                              labels_dims =  labels_dims, \\\n",
    "                              CBV_out_dir = CBV_out_dir, \\\n",
    "                              rendered_image_files_list = [], \\\n",
    "                              region_values = region_values_temp, \\\n",
    "                              region_names = region_names_clean, \\\n",
    "                              region_names_to_exclude = regions_excluded_clean, \\\n",
    "                              top=\"all\", \\\n",
    "                              render_pngs=True, \\\n",
    "                              windowMin = 0, \\\n",
    "                              windowMax = windowMax*0.5, \\\n",
    "                              interpolation = \"nearest\", \\\n",
    "                              cmap = \"hot\", \\\n",
    "                              blur_3d = False, \\\n",
    "                              blur_3d_sigma = 1, \\\n",
    "                              method_comparison = False)\n",
    "#\"\"\""
   ]
  },
  {
   "cell_type": "markdown",
   "metadata": {},
   "source": [
    "Convert the black background to white using\n",
    "\n",
    "ls *.png | xargs -I file convert file -fill white -opaque black file"
   ]
  },
  {
   "cell_type": "code",
   "execution_count": 52,
   "metadata": {},
   "outputs": [],
   "source": [
    "%%bash -s \"$CBV_out_dir\"\n",
    "CBV_out_dir=$1\n",
    "cd $CBV_out_dir\n",
    "ls Hellinger-*.png | xargs -I file convert file -fill white -opaque black file"
   ]
  },
  {
   "cell_type": "code",
   "execution_count": 53,
   "metadata": {},
   "outputs": [],
   "source": [
    "windowMax = \\\n",
    "np.max(\\\n",
    "[raw_vs_topup_e1_hellinger_df.max().max(), \\\n",
    " raw_vs_topup_e2_hellinger_df.max().max(), \\\n",
    " raw_vs_epic_e1_hellinger_df.max().max(), \\\n",
    " raw_vs_epic_e2_hellinger_df.max().max()])\n",
    "rendered_image_files_list_hellinger = \\\n",
    "sorted_boxplot_heatmap_figure_distances(df_1 = raw_vs_topup_e1_hellinger_df, \\\n",
    "                                df_1_rcbv = raw_vs_topup_e1_relative_rcbv_change_df, \\\n",
    "                                df_2 = raw_vs_topup_e2_hellinger_df, \\\n",
    "                                df_2_rcbv = raw_vs_topup_e2_relative_rcbv_change_df, \\\n",
    "                                df_3 = raw_vs_epic_e1_hellinger_df, \\\n",
    "                                df_3_rcbv = raw_vs_epic_e1_relative_rcbv_change_df, \\\n",
    "                                df_4 = raw_vs_epic_e2_hellinger_df, \\\n",
    "                                df_4_rcbv = raw_vs_epic_e2_relative_rcbv_change_df, \\\n",
    "                              ylabel_1 = \"Uncorrected vs. TOPUP GE\", \\\n",
    "                              ylabel_2 = \"Uncorrected vs. TOPUP SE\", \\\n",
    "                              ylabel_3 = \"Uncorrected vs. EPIC GE\", \\\n",
    "                              ylabel_4 = \"Uncorrected vs. EPIC SE\", \\\n",
    "                              distance_name = \"Hellinger\", \\\n",
    "                              labels_data = labels_data, \\\n",
    "                              labels_dims =  labels_dims, \\\n",
    "                              CBV_out_dir = CBV_out_dir, \\\n",
    "                              rendered_image_files_list = rendered_image_files_list_hellinger, \\\n",
    "                              region_values = region_values_temp, \\\n",
    "                              region_names = region_names_clean, \\\n",
    "                              region_names_to_exclude = regions_excluded_clean, \\\n",
    "                              top=20, \\\n",
    "                              render_pngs=False, \\\n",
    "                              windowMin = 0, \\\n",
    "                              windowMax = windowMax*0.6, \\\n",
    "                              interpolation = \"nearest\", \\\n",
    "                              cmap = \"hot\", \\\n",
    "                              blur_3d = False, \\\n",
    "                              blur_3d_sigma = 1, \\\n",
    "                              method_comparison = False)"
   ]
  },
  {
   "cell_type": "code",
   "execution_count": 54,
   "metadata": {},
   "outputs": [
    {
     "data": {
      "text/plain": [
       "'\\nraw_vs_topup_e1_hellinger_medians_df\\nraw_vs_epic_e1_hellinger_medians_df\\nraw_vs_topup_e2_hellinger_medians_df\\nraw_vs_epic_e2_hellinger_medians_df\\n'"
      ]
     },
     "execution_count": 54,
     "metadata": {},
     "output_type": "execute_result"
    }
   ],
   "source": [
    "\"\"\"\n",
    "raw_vs_topup_e1_hellinger_medians_df\n",
    "raw_vs_epic_e1_hellinger_medians_df\n",
    "raw_vs_topup_e2_hellinger_medians_df\n",
    "raw_vs_epic_e2_hellinger_medians_df\n",
    "\"\"\"\n",
    "#raw_vs_epic_e2_hellinger_medians_df.index\n",
    "#visualize_regions(raw_vs_topup_e1_hellinger_medians_df, labels_data, labels_dims)\n",
    "#visualize_regions(raw_vs_epic_e1_hellinger_medians_df, labels_data, labels_dims)\n",
    "#visualize_regions(raw_vs_topup_e2_hellinger_medians_df, labels_data, labels_dims)\n",
    "#visualize_regions(raw_vs_epic_e2_hellinger_medians_df, labels_data, labels_dims)"
   ]
  },
  {
   "cell_type": "markdown",
   "metadata": {},
   "source": [
    "7. c) Wasserstein distance between region histograms of Uncorrected and TOPUP corrected rCBVs and Uncorrected and EPIC corrected rCBVs"
   ]
  },
  {
   "cell_type": "code",
   "execution_count": 55,
   "metadata": {},
   "outputs": [],
   "source": [
    "#\"\"\"\n",
    "raw_vs_topup_e1_wasserstein_df = \\\n",
    "preprocess_and_calculate_all_histogram_distances(region_values,\\\n",
    "                                                 region_names,\\\n",
    "                                                 hist_edges,\\\n",
    "                                                 raw_e1_CBV_region_histograms,\\\n",
    "                                                 topup_e1_CBV_region_histograms,\\\n",
    "                                                 two_tail_fraction,\\\n",
    "                                                 comparison_method=\"wasserstein\")\n",
    "raw_vs_topup_e2_wasserstein_df = \\\n",
    "preprocess_and_calculate_all_histogram_distances(region_values,\\\n",
    "                                                 region_names,\\\n",
    "                                                 hist_edges,\\\n",
    "                                                 raw_e2_CBV_region_histograms,\\\n",
    "                                                 topup_e2_CBV_region_histograms,\\\n",
    "                                                 two_tail_fraction,\\\n",
    "                                                 comparison_method=\"wasserstein\")\n",
    "raw_vs_epic_e1_wasserstein_df = \\\n",
    "preprocess_and_calculate_all_histogram_distances(region_values,\\\n",
    "                                                 region_names,\\\n",
    "                                                 hist_edges,\\\n",
    "                                                 raw_e1_CBV_region_histograms,\\\n",
    "                                                 epic_e1_CBV_region_histograms,\\\n",
    "                                                 two_tail_fraction,\\\n",
    "                                                 comparison_method=\"wasserstein\")\n",
    "raw_vs_epic_e2_wasserstein_df = \\\n",
    "preprocess_and_calculate_all_histogram_distances(region_values,\\\n",
    "                                                 region_names,\\\n",
    "                                                 hist_edges,\\\n",
    "                                                 raw_e2_CBV_region_histograms,\\\n",
    "                                                 epic_e2_CBV_region_histograms,\\\n",
    "                                                 two_tail_fraction,\\\n",
    "                                                 comparison_method=\"wasserstein\")\n",
    "#\"\"\""
   ]
  },
  {
   "cell_type": "code",
   "execution_count": 56,
   "metadata": {},
   "outputs": [
    {
     "data": {
      "text/plain": [
       "0.004807692307692308"
      ]
     },
     "execution_count": 56,
     "metadata": {},
     "output_type": "execute_result"
    }
   ],
   "source": [
    "windowMax = \\\n",
    "np.max(\\\n",
    "[raw_vs_topup_e1_wasserstein_df.max().max(), \\\n",
    " raw_vs_topup_e2_wasserstein_df.max().max(), \\\n",
    " raw_vs_epic_e1_wasserstein_df.max().max(), \\\n",
    " raw_vs_epic_e2_wasserstein_df.max().max()])\n",
    "windowMax*0.25"
   ]
  },
  {
   "cell_type": "code",
   "execution_count": 57,
   "metadata": {},
   "outputs": [
    {
     "name": "stderr",
     "output_type": "stream",
     "text": [
      "INFO:spimagine.gui.glwidget | saving frame as ../../epi_corrections_out_2019_07_02_tumor_exluded_from_rcbv/CBV_histograms_bins_64_min_0_max_12_region_rec_c_frac_0.7_region_min_vox_30/Wasserstein-r1-axial-inferior-superior.png\n",
      "INFO:spimagine.gui.glwidget | saving frame as ../../epi_corrections_out_2019_07_02_tumor_exluded_from_rcbv/CBV_histograms_bins_64_min_0_max_12_region_rec_c_frac_0.7_region_min_vox_30/Wasserstein-r1-sagittal-r-l-radiolog.png\n",
      "INFO:spimagine.gui.glwidget | saving frame as ../../epi_corrections_out_2019_07_02_tumor_exluded_from_rcbv/CBV_histograms_bins_64_min_0_max_12_region_rec_c_frac_0.7_region_min_vox_30/Wasserstein-r1-mixed-r-l-radiolog-posterior-anterior.png\n",
      "INFO:spimagine.gui.glwidget | saving frame as ../../epi_corrections_out_2019_07_02_tumor_exluded_from_rcbv/CBV_histograms_bins_64_min_0_max_12_region_rec_c_frac_0.7_region_min_vox_30/Wasserstein-r2-axial-inferior-superior.png\n",
      "INFO:spimagine.gui.glwidget | saving frame as ../../epi_corrections_out_2019_07_02_tumor_exluded_from_rcbv/CBV_histograms_bins_64_min_0_max_12_region_rec_c_frac_0.7_region_min_vox_30/Wasserstein-r2-sagittal-r-l-radiolog.png\n",
      "INFO:spimagine.gui.glwidget | saving frame as ../../epi_corrections_out_2019_07_02_tumor_exluded_from_rcbv/CBV_histograms_bins_64_min_0_max_12_region_rec_c_frac_0.7_region_min_vox_30/Wasserstein-r2-mixed-r-l-radiolog-posterior-anterior.png\n",
      "INFO:spimagine.gui.glwidget | saving frame as ../../epi_corrections_out_2019_07_02_tumor_exluded_from_rcbv/CBV_histograms_bins_64_min_0_max_12_region_rec_c_frac_0.7_region_min_vox_30/Wasserstein-r3-axial-inferior-superior.png\n",
      "INFO:spimagine.gui.glwidget | saving frame as ../../epi_corrections_out_2019_07_02_tumor_exluded_from_rcbv/CBV_histograms_bins_64_min_0_max_12_region_rec_c_frac_0.7_region_min_vox_30/Wasserstein-r3-sagittal-r-l-radiolog.png\n",
      "INFO:spimagine.gui.glwidget | saving frame as ../../epi_corrections_out_2019_07_02_tumor_exluded_from_rcbv/CBV_histograms_bins_64_min_0_max_12_region_rec_c_frac_0.7_region_min_vox_30/Wasserstein-r3-mixed-r-l-radiolog-posterior-anterior.png\n",
      "INFO:spimagine.gui.glwidget | saving frame as ../../epi_corrections_out_2019_07_02_tumor_exluded_from_rcbv/CBV_histograms_bins_64_min_0_max_12_region_rec_c_frac_0.7_region_min_vox_30/Wasserstein-r4-axial-inferior-superior.png\n",
      "INFO:spimagine.gui.glwidget | saving frame as ../../epi_corrections_out_2019_07_02_tumor_exluded_from_rcbv/CBV_histograms_bins_64_min_0_max_12_region_rec_c_frac_0.7_region_min_vox_30/Wasserstein-r4-sagittal-r-l-radiolog.png\n",
      "INFO:spimagine.gui.glwidget | saving frame as ../../epi_corrections_out_2019_07_02_tumor_exluded_from_rcbv/CBV_histograms_bins_64_min_0_max_12_region_rec_c_frac_0.7_region_min_vox_30/Wasserstein-r4-mixed-r-l-radiolog-posterior-anterior.png\n"
     ]
    }
   ],
   "source": [
    "#\"\"\"\n",
    "windowMax = \\\n",
    "np.max(\\\n",
    "[raw_vs_topup_e1_wasserstein_df.max().max(), \\\n",
    " raw_vs_topup_e2_wasserstein_df.max().max(), \\\n",
    " raw_vs_epic_e1_wasserstein_df.max().max(), \\\n",
    " raw_vs_epic_e2_wasserstein_df.max().max()])\n",
    "rendered_image_files_list_wasserstein = \\\n",
    "sorted_boxplot_heatmap_figure_distances(df_1 = raw_vs_topup_e1_wasserstein_df, \\\n",
    "                                        df_1_rcbv = raw_vs_topup_e1_relative_rcbv_change_df, \\\n",
    "                                        df_2 = raw_vs_topup_e2_wasserstein_df, \\\n",
    "                                        df_2_rcbv = raw_vs_topup_e2_relative_rcbv_change_df, \\\n",
    "                                        df_3 = raw_vs_epic_e1_wasserstein_df, \n",
    "                                        df_3_rcbv = raw_vs_epic_e1_relative_rcbv_change_df, \\\n",
    "                                        df_4 = raw_vs_epic_e2_wasserstein_df, \\\n",
    "                                        df_4_rcbv = raw_vs_epic_e2_relative_rcbv_change_df, \\\n",
    "                              ylabel_1 = \"Uncorrected vs. TOPUP GE\", \\\n",
    "                              ylabel_2 = \"Uncorrected vs. TOPUP SE\", \\\n",
    "                              ylabel_3 = \"Uncorrected vs. EPIC GE\", \\\n",
    "                              ylabel_4 = \"Uncorrected vs. EPIC SE\", \\\n",
    "                              distance_name = \"Wasserstein\", \\\n",
    "                              labels_data = labels_data, \\\n",
    "                              labels_dims =  labels_dims, \\\n",
    "                              CBV_out_dir = CBV_out_dir, \\\n",
    "                              rendered_image_files_list = [], \\\n",
    "                              region_values = region_values_temp, \\\n",
    "                              region_names = region_names_clean, \\\n",
    "                              region_names_to_exclude = regions_excluded_clean, \\\n",
    "                              top=\"all\", \\\n",
    "                              render_pngs=True, \\\n",
    "                              windowMin = 0, \\\n",
    "                              windowMax = windowMax*0.25, \\\n",
    "                              interpolation = \"nearest\", \\\n",
    "                              cmap = \"hot\", \\\n",
    "                              blur_3d = False, \\\n",
    "                              blur_3d_sigma = 1, \\\n",
    "                              method_comparison = False)\n",
    "#\"\"\""
   ]
  },
  {
   "cell_type": "code",
   "execution_count": 58,
   "metadata": {},
   "outputs": [],
   "source": [
    "%%bash -s \"$CBV_out_dir\"\n",
    "CBV_out_dir=$1\n",
    "cd $CBV_out_dir\n",
    "ls Wasserstein-*.png | xargs -I file convert file -fill white -opaque black file"
   ]
  },
  {
   "cell_type": "code",
   "execution_count": 59,
   "metadata": {},
   "outputs": [],
   "source": [
    "windowMax = \\\n",
    "np.max(\\\n",
    "[raw_vs_topup_e1_wasserstein_df.max().max(), \\\n",
    " raw_vs_topup_e2_wasserstein_df.max().max(), \\\n",
    " raw_vs_epic_e1_wasserstein_df.max().max(), \\\n",
    " raw_vs_epic_e2_wasserstein_df.max().max()])\n",
    "rendered_image_files_list_wasserstein = \\\n",
    "sorted_boxplot_heatmap_figure_distances(df_1 = raw_vs_topup_e1_wasserstein_df, \\\n",
    "                                        df_1_rcbv = raw_vs_topup_e1_relative_rcbv_change_df, \\\n",
    "                                        df_2 = raw_vs_topup_e2_wasserstein_df, \\\n",
    "                                        df_2_rcbv = raw_vs_topup_e2_relative_rcbv_change_df, \\\n",
    "                                        df_3 = raw_vs_epic_e1_wasserstein_df, \n",
    "                                        df_3_rcbv = raw_vs_epic_e1_relative_rcbv_change_df, \\\n",
    "                                        df_4 = raw_vs_epic_e2_wasserstein_df, \\\n",
    "                                        df_4_rcbv = raw_vs_epic_e2_relative_rcbv_change_df, \\\n",
    "                              ylabel_1 = \"Uncorrected vs. TOPUP GE\", \\\n",
    "                              ylabel_2 = \"Uncorrected vs. TOPUP SE\", \\\n",
    "                              ylabel_3 = \"Uncorrected vs. EPIC GE\", \\\n",
    "                              ylabel_4 = \"Uncorrected vs. EPIC SE\", \\\n",
    "                              distance_name = \"Wasserstein\", \\\n",
    "                              labels_data = labels_data, \\\n",
    "                              labels_dims =  labels_dims, \\\n",
    "                              CBV_out_dir = CBV_out_dir, \\\n",
    "                              rendered_image_files_list = rendered_image_files_list_wasserstein, \\\n",
    "                              region_values = region_values_temp, \\\n",
    "                              region_names = region_names_clean, \\\n",
    "                              region_names_to_exclude = regions_excluded_clean, \\\n",
    "                              top=20, \\\n",
    "                              render_pngs=False, \\\n",
    "                              windowMin = 0, \\\n",
    "                              windowMax = windowMax*0.3, \\\n",
    "                              interpolation = \"nearest\", \\\n",
    "                              cmap = \"hot\", \\\n",
    "                              blur_3d = False, \\\n",
    "                              blur_3d_sigma = 1, \\\n",
    "                              method_comparison = False)"
   ]
  },
  {
   "cell_type": "code",
   "execution_count": 60,
   "metadata": {},
   "outputs": [
    {
     "data": {
      "text/plain": [
       "' Older figure without pngs\\ntop=20\\nfig = plt.figure(figsize=np.array([6.4*0.6*2, 4.8*0.6*3]))\\nax1 = fig.add_subplot(4, 1, 1)\\nraw_vs_topup_e1_wasserstein_medians_df = sorted_boxplot_histogram_distances(raw_vs_topup_e1_wasserstein_df,                                    ax1,                                    ylabel2=\"Uncorr. vs. TOPUP GE\",                                    ylabel=\"Wasserstein distance\",                                    title=\"Number of observations\",                                    xlabel=\"\", \\n                                   top=top)\\n\\nax2 = fig.add_subplot(4, 1, 2, sharey=ax1)\\nraw_vs_epic_e1_wasserstein_medians_df = sorted_boxplot_histogram_distances(raw_vs_epic_e1_wasserstein_df,                                    ax2,                                    ylabel2=\"Uncorr. vs. EPIC GE\",                                    ylabel=\"Wasserstein distance\",                                    title=\"\",                                    xlabel=\"\",                                    top=top)\\n\\nax3 = fig.add_subplot(4, 1, 3, sharey=ax1)\\nraw_vs_topup_e2_wasserstein_medians_df = sorted_boxplot_histogram_distances(raw_vs_topup_e2_wasserstein_df,                                    ax3,                                    ylabel2=\"Uncorr. vs. TOPUP SE\",                                    ylabel=\"Wasserstein distance\",                                    title=\"\",                                    xlabel=\"\",                                    top=top)\\n\\nax4 = fig.add_subplot(4, 1, 4, sharey=ax1)\\nraw_vs_epic_e2_wasserstein_medians_df = sorted_boxplot_histogram_distances(raw_vs_epic_e2_wasserstein_df,                                    ax4,                                    ylabel2=\"Uncorr. vs. EPIC SE\",                                    ylabel=\"Wasserstein distance\",                                    title=\"\",                                    xlabel=\"Neuromorphometrics Inc. region value\",                                    top=top)\\nplt.suptitle(\"Top \" + str(top) + \" histogram differences sorted after median\")\\nplt.subplots_adjust(hspace=0.5)\\n'"
      ]
     },
     "execution_count": 60,
     "metadata": {},
     "output_type": "execute_result"
    }
   ],
   "source": [
    "\"\"\" Older figure without pngs\n",
    "top=20\n",
    "fig = plt.figure(figsize=np.array([6.4*0.6*2, 4.8*0.6*3]))\n",
    "ax1 = fig.add_subplot(4, 1, 1)\n",
    "raw_vs_topup_e1_wasserstein_medians_df = sorted_boxplot_histogram_distances(raw_vs_topup_e1_wasserstein_df, \\\n",
    "                                   ax1, \\\n",
    "                                   ylabel2=\"Uncorr. vs. TOPUP GE\", \\\n",
    "                                   ylabel=\"Wasserstein distance\", \\\n",
    "                                   title=\"Number of observations\", \\\n",
    "                                   xlabel=\"\", \n",
    "                                   top=top)\n",
    "\n",
    "ax2 = fig.add_subplot(4, 1, 2, sharey=ax1)\n",
    "raw_vs_epic_e1_wasserstein_medians_df = sorted_boxplot_histogram_distances(raw_vs_epic_e1_wasserstein_df, \\\n",
    "                                   ax2, \\\n",
    "                                   ylabel2=\"Uncorr. vs. EPIC GE\", \\\n",
    "                                   ylabel=\"Wasserstein distance\", \\\n",
    "                                   title=\"\", \\\n",
    "                                   xlabel=\"\", \\\n",
    "                                   top=top)\n",
    "\n",
    "ax3 = fig.add_subplot(4, 1, 3, sharey=ax1)\n",
    "raw_vs_topup_e2_wasserstein_medians_df = sorted_boxplot_histogram_distances(raw_vs_topup_e2_wasserstein_df, \\\n",
    "                                   ax3, \\\n",
    "                                   ylabel2=\"Uncorr. vs. TOPUP SE\", \\\n",
    "                                   ylabel=\"Wasserstein distance\", \\\n",
    "                                   title=\"\", \\\n",
    "                                   xlabel=\"\", \\\n",
    "                                   top=top)\n",
    "\n",
    "ax4 = fig.add_subplot(4, 1, 4, sharey=ax1)\n",
    "raw_vs_epic_e2_wasserstein_medians_df = sorted_boxplot_histogram_distances(raw_vs_epic_e2_wasserstein_df, \\\n",
    "                                   ax4, \\\n",
    "                                   ylabel2=\"Uncorr. vs. EPIC SE\", \\\n",
    "                                   ylabel=\"Wasserstein distance\", \\\n",
    "                                   title=\"\", \\\n",
    "                                   xlabel=\"Neuromorphometrics Inc. region value\", \\\n",
    "                                   top=top)\n",
    "plt.suptitle(\"Top \" + str(top) + \" histogram differences sorted after median\")\n",
    "plt.subplots_adjust(hspace=0.5)\n",
    "\"\"\""
   ]
  },
  {
   "cell_type": "code",
   "execution_count": 61,
   "metadata": {},
   "outputs": [],
   "source": [
    "#visualize_regions(raw_vs_topup_e1_wasserstein_medians_df, labels_data, labels_dims)\n",
    "#visualize_regions(raw_vs_epic_e1_wasserstein_medians_df, labels_data, labels_dims)\n",
    "#visualize_regions(raw_vs_topup_e2_wasserstein_medians_df, labels_data, labels_dims)\n",
    "#visualize_regions(raw_vs_epic_e2_wasserstein_medians_df, labels_data, labels_dims)"
   ]
  },
  {
   "cell_type": "markdown",
   "metadata": {},
   "source": [
    "7. d) Hellinger and Wasserstein distance between region histograms of TOPUP and EPIC corrected rCBV"
   ]
  },
  {
   "cell_type": "markdown",
   "metadata": {},
   "source": [
    "A measure of the difference between TOPUP and EPIC on rCBV"
   ]
  },
  {
   "cell_type": "code",
   "execution_count": 62,
   "metadata": {},
   "outputs": [],
   "source": [
    "#\"\"\"\n",
    "topup_vs_epic_e1_hellinger_df = \\\n",
    "preprocess_and_calculate_all_histogram_distances(region_values,\\\n",
    "                                                 region_names,\\\n",
    "                                                 hist_edges,\\\n",
    "                                                 topup_e1_CBV_region_histograms,\\\n",
    "                                                 epic_e1_CBV_region_histograms,\\\n",
    "                                                 two_tail_fraction,\\\n",
    "                                                 comparison_method=\"hellinger\")\n",
    "topup_vs_epic_e2_hellinger_df = \\\n",
    "preprocess_and_calculate_all_histogram_distances(region_values,\\\n",
    "                                                 region_names,\\\n",
    "                                                 hist_edges,\\\n",
    "                                                 topup_e2_CBV_region_histograms,\\\n",
    "                                                 epic_e2_CBV_region_histograms,\\\n",
    "                                                 two_tail_fraction,\\\n",
    "                                                 comparison_method=\"hellinger\")\n",
    "topup_vs_epic_e1_wasserstein_df = \\\n",
    "preprocess_and_calculate_all_histogram_distances(region_values,\\\n",
    "                                                 region_names,\\\n",
    "                                                 hist_edges,\\\n",
    "                                                 topup_e1_CBV_region_histograms,\\\n",
    "                                                 epic_e1_CBV_region_histograms,\\\n",
    "                                                 two_tail_fraction,\\\n",
    "                                                 comparison_method=\"wasserstein\")\n",
    "topup_vs_epic_e2_wasserstein_df = \\\n",
    "preprocess_and_calculate_all_histogram_distances(region_values,\\\n",
    "                                                 region_names,\\\n",
    "                                                 hist_edges,\\\n",
    "                                                 topup_e2_CBV_region_histograms,\\\n",
    "                                                 epic_e2_CBV_region_histograms,\\\n",
    "                                                 two_tail_fraction,\\\n",
    "                                                 comparison_method=\"wasserstein\")\n",
    "#\"\"\""
   ]
  },
  {
   "cell_type": "code",
   "execution_count": 63,
   "metadata": {},
   "outputs": [
    {
     "data": {
      "text/plain": [
       "' Older figure\\ntop=20\\nfig = plt.figure(figsize=np.array([6.4*0.6*2, 4.8*0.6*3]))\\nax1 = fig.add_subplot(4, 1, 1)\\ntopup_vs_epic_e1_hellinger_medians_df = sorted_boxplot_histogram_distances(topup_vs_epic_e1_hellinger_df,                                    ax1,                                    ylabel2=\"TOPUP vs. EPIC GE\",                                    ylabel=\"Hellinger distance\",                                    title=\"Number of observations\",                                    xlabel=\"\", \\n                                   top=top)\\n\\nax2 = fig.add_subplot(4, 1, 2)\\ntopup_vs_epic_e1_wasserstein_medians_df = sorted_boxplot_histogram_distances(topup_vs_epic_e1_wasserstein_df,                                    ax2,                                    ylabel2=\"TOPUP vs. EPIC GE\",                                    ylabel=\"Wasserstein distance\",                                    title=\"\",                                    xlabel=\"\",                                    top=top)\\n\\nax3 = fig.add_subplot(4, 1, 3, sharey=ax1)\\ntopup_vs_epic_e2_hellinger_medians_df = sorted_boxplot_histogram_distances(topup_vs_epic_e2_hellinger_df,                                    ax3,                                    ylabel2=\"TOPUP vs. EPIC SE\",                                    ylabel=\"Hellinger distance\",                                    title=\"\",                                    xlabel=\"\",                                    top=top)\\n\\nax4 = fig.add_subplot(4, 1, 4, sharey=ax2)\\ntopup_vs_epic_e2_wasserstein_medians_df = sorted_boxplot_histogram_distances(topup_vs_epic_e2_wasserstein_df,                                    ax4,                                    ylabel2=\"TOPUP vs. EPIC SE\",                                    ylabel=\"Wasserstein distance\",                                    title=\"\",                                    xlabel=\"Neuromorphometrics Inc. region value\",                                    top=top)\\nplt.suptitle(\"Top \" + str(top) + \" histogram differences sorted after median\")\\nplt.subplots_adjust(hspace=0.5)\\n'"
      ]
     },
     "execution_count": 63,
     "metadata": {},
     "output_type": "execute_result"
    }
   ],
   "source": [
    "\"\"\" Older figure\n",
    "top=20\n",
    "fig = plt.figure(figsize=np.array([6.4*0.6*2, 4.8*0.6*3]))\n",
    "ax1 = fig.add_subplot(4, 1, 1)\n",
    "topup_vs_epic_e1_hellinger_medians_df = sorted_boxplot_histogram_distances(topup_vs_epic_e1_hellinger_df, \\\n",
    "                                   ax1, \\\n",
    "                                   ylabel2=\"TOPUP vs. EPIC GE\", \\\n",
    "                                   ylabel=\"Hellinger distance\", \\\n",
    "                                   title=\"Number of observations\", \\\n",
    "                                   xlabel=\"\", \n",
    "                                   top=top)\n",
    "\n",
    "ax2 = fig.add_subplot(4, 1, 2)\n",
    "topup_vs_epic_e1_wasserstein_medians_df = sorted_boxplot_histogram_distances(topup_vs_epic_e1_wasserstein_df, \\\n",
    "                                   ax2, \\\n",
    "                                   ylabel2=\"TOPUP vs. EPIC GE\", \\\n",
    "                                   ylabel=\"Wasserstein distance\", \\\n",
    "                                   title=\"\", \\\n",
    "                                   xlabel=\"\", \\\n",
    "                                   top=top)\n",
    "\n",
    "ax3 = fig.add_subplot(4, 1, 3, sharey=ax1)\n",
    "topup_vs_epic_e2_hellinger_medians_df = sorted_boxplot_histogram_distances(topup_vs_epic_e2_hellinger_df, \\\n",
    "                                   ax3, \\\n",
    "                                   ylabel2=\"TOPUP vs. EPIC SE\", \\\n",
    "                                   ylabel=\"Hellinger distance\", \\\n",
    "                                   title=\"\", \\\n",
    "                                   xlabel=\"\", \\\n",
    "                                   top=top)\n",
    "\n",
    "ax4 = fig.add_subplot(4, 1, 4, sharey=ax2)\n",
    "topup_vs_epic_e2_wasserstein_medians_df = sorted_boxplot_histogram_distances(topup_vs_epic_e2_wasserstein_df, \\\n",
    "                                   ax4, \\\n",
    "                                   ylabel2=\"TOPUP vs. EPIC SE\", \\\n",
    "                                   ylabel=\"Wasserstein distance\", \\\n",
    "                                   title=\"\", \\\n",
    "                                   xlabel=\"Neuromorphometrics Inc. region value\", \\\n",
    "                                   top=top)\n",
    "plt.suptitle(\"Top \" + str(top) + \" histogram differences sorted after median\")\n",
    "plt.subplots_adjust(hspace=0.5)\n",
    "\"\"\""
   ]
  },
  {
   "cell_type": "code",
   "execution_count": 73,
   "metadata": {},
   "outputs": [
    {
     "name": "stderr",
     "output_type": "stream",
     "text": [
      "INFO:spimagine.gui.glwidget | saving frame as ../../epi_corrections_out_2019_07_02_tumor_exluded_from_rcbv/CBV_histograms_bins_64_min_0_max_12_region_rec_c_frac_0.7_region_min_vox_30/Hellinger-and-Wasserstein-r1-axial-inferior-superior.png\n",
      "INFO:spimagine.gui.glwidget | saving frame as ../../epi_corrections_out_2019_07_02_tumor_exluded_from_rcbv/CBV_histograms_bins_64_min_0_max_12_region_rec_c_frac_0.7_region_min_vox_30/Hellinger-and-Wasserstein-r1-sagittal-r-l-radiolog.png\n",
      "INFO:spimagine.gui.glwidget | saving frame as ../../epi_corrections_out_2019_07_02_tumor_exluded_from_rcbv/CBV_histograms_bins_64_min_0_max_12_region_rec_c_frac_0.7_region_min_vox_30/Hellinger-and-Wasserstein-r1-mixed-r-l-radiolog-posterior-anterior.png\n",
      "INFO:spimagine.gui.glwidget | saving frame as ../../epi_corrections_out_2019_07_02_tumor_exluded_from_rcbv/CBV_histograms_bins_64_min_0_max_12_region_rec_c_frac_0.7_region_min_vox_30/Hellinger-and-Wasserstein-r2-axial-inferior-superior.png\n",
      "INFO:spimagine.gui.glwidget | saving frame as ../../epi_corrections_out_2019_07_02_tumor_exluded_from_rcbv/CBV_histograms_bins_64_min_0_max_12_region_rec_c_frac_0.7_region_min_vox_30/Hellinger-and-Wasserstein-r2-sagittal-r-l-radiolog.png\n",
      "INFO:spimagine.gui.glwidget | saving frame as ../../epi_corrections_out_2019_07_02_tumor_exluded_from_rcbv/CBV_histograms_bins_64_min_0_max_12_region_rec_c_frac_0.7_region_min_vox_30/Hellinger-and-Wasserstein-r2-mixed-r-l-radiolog-posterior-anterior.png\n",
      "INFO:spimagine.gui.glwidget | saving frame as ../../epi_corrections_out_2019_07_02_tumor_exluded_from_rcbv/CBV_histograms_bins_64_min_0_max_12_region_rec_c_frac_0.7_region_min_vox_30/Hellinger-and-Wasserstein-r3-axial-inferior-superior.png\n",
      "INFO:spimagine.gui.glwidget | saving frame as ../../epi_corrections_out_2019_07_02_tumor_exluded_from_rcbv/CBV_histograms_bins_64_min_0_max_12_region_rec_c_frac_0.7_region_min_vox_30/Hellinger-and-Wasserstein-r3-sagittal-r-l-radiolog.png\n",
      "INFO:spimagine.gui.glwidget | saving frame as ../../epi_corrections_out_2019_07_02_tumor_exluded_from_rcbv/CBV_histograms_bins_64_min_0_max_12_region_rec_c_frac_0.7_region_min_vox_30/Hellinger-and-Wasserstein-r3-mixed-r-l-radiolog-posterior-anterior.png\n",
      "INFO:spimagine.gui.glwidget | saving frame as ../../epi_corrections_out_2019_07_02_tumor_exluded_from_rcbv/CBV_histograms_bins_64_min_0_max_12_region_rec_c_frac_0.7_region_min_vox_30/Hellinger-and-Wasserstein-r4-axial-inferior-superior.png\n",
      "INFO:spimagine.gui.glwidget | saving frame as ../../epi_corrections_out_2019_07_02_tumor_exluded_from_rcbv/CBV_histograms_bins_64_min_0_max_12_region_rec_c_frac_0.7_region_min_vox_30/Hellinger-and-Wasserstein-r4-sagittal-r-l-radiolog.png\n",
      "INFO:spimagine.gui.glwidget | saving frame as ../../epi_corrections_out_2019_07_02_tumor_exluded_from_rcbv/CBV_histograms_bins_64_min_0_max_12_region_rec_c_frac_0.7_region_min_vox_30/Hellinger-and-Wasserstein-r4-mixed-r-l-radiolog-posterior-anterior.png\n"
     ]
    }
   ],
   "source": [
    "#\"\"\"\n",
    "windowMax_hellinger_scaled = \\\n",
    "np.max(\\\n",
    "[topup_vs_epic_e1_hellinger_df.max().max(), \\\n",
    " topup_vs_epic_e2_hellinger_df.max().max()])*0.5\n",
    "\n",
    "windowMax_wasserstein_scaled = \\\n",
    "np.max(\\\n",
    "[topup_vs_epic_e1_wasserstein_df.max().max(), \\\n",
    " topup_vs_epic_e2_wasserstein_df.max().max()])*0.25\n",
    "\n",
    "rendered_image_files_list_correction_method_comparison = \\\n",
    "sorted_boxplot_heatmap_figure_distances(df_1 = topup_vs_epic_e1_hellinger_df, \\\n",
    "                                        df_1_rcbv = topup_vs_epic_e1_relative_rcbv_change_df, \\\n",
    "                                        df_2 = topup_vs_epic_e2_hellinger_df, \\\n",
    "                                        df_2_rcbv = topup_vs_epic_e2_relative_rcbv_change_df, \\\n",
    "                                        df_3 = topup_vs_epic_e1_wasserstein_df, \\\n",
    "                                        df_3_rcbv = topup_vs_epic_e1_relative_rcbv_change_df, \\\n",
    "                                        df_4 = topup_vs_epic_e2_wasserstein_df, \\\n",
    "                                        df_4_rcbv = topup_vs_epic_e2_relative_rcbv_change_df, \\\n",
    "                              ylabel_1 = \"TOPUP. vs. EPIC GE\", \\\n",
    "                              ylabel_2 = \"TOPUP. vs. EPIC SE\", \\\n",
    "                              ylabel_3 = \"TOPUP. vs. EPIC GE\", \\\n",
    "                              ylabel_4 = \"TOPUP. vs. EPIC SE\", \\\n",
    "                              distance_name = \"Hellinger-and-Wasserstein\", \\\n",
    "                              labels_data = labels_data, \\\n",
    "                              labels_dims =  labels_dims, \\\n",
    "                              CBV_out_dir = CBV_out_dir, \\\n",
    "                              rendered_image_files_list = [], \\\n",
    "                              region_values = region_values_temp, \\\n",
    "                              region_names = region_names_clean, \\\n",
    "                              region_names_to_exclude = regions_excluded_clean, \\\n",
    "                              top=\"all\", \\\n",
    "                              render_pngs=True, \\\n",
    "                              windowMin = 0, \\\n",
    "                              windowMax = windowMax_wasserstein_scaled, \\\n",
    "                              interpolation = \"nearest\", \\\n",
    "                              cmap = \"hot\", \\\n",
    "                              blur_3d = False, \\\n",
    "                              blur_3d_sigma = 1, \\\n",
    "                              method_comparison = True)\n",
    "#\"\"\""
   ]
  },
  {
   "cell_type": "code",
   "execution_count": 74,
   "metadata": {},
   "outputs": [],
   "source": [
    "%%bash -s \"$CBV_out_dir\"\n",
    "CBV_out_dir=$1\n",
    "cd $CBV_out_dir\n",
    "mkdir -p temp\n",
    "cp Hellinger-and-Wasserstein-r3-axial-inferior-superior.png temp/\n",
    "cp Hellinger-and-Wasserstein-r3-sagittal-r-l-radiolog.png temp/\n",
    "cp Hellinger-and-Wasserstein-r3-mixed-r-l-radiolog-posterior-anterior.png temp/\n",
    "cp Hellinger-and-Wasserstein-r4-axial-inferior-superior.png temp/\n",
    "cp Hellinger-and-Wasserstein-r4-sagittal-r-l-radiolog.png temp/\n",
    "cp Hellinger-and-Wasserstein-r4-mixed-r-l-radiolog-posterior-anterior.png temp/"
   ]
  },
  {
   "cell_type": "code",
   "execution_count": 75,
   "metadata": {},
   "outputs": [
    {
     "name": "stderr",
     "output_type": "stream",
     "text": [
      "INFO:spimagine.gui.glwidget | saving frame as ../../epi_corrections_out_2019_07_02_tumor_exluded_from_rcbv/CBV_histograms_bins_64_min_0_max_12_region_rec_c_frac_0.7_region_min_vox_30/Hellinger-and-Wasserstein-r1-axial-inferior-superior.png\n",
      "INFO:spimagine.gui.glwidget | saving frame as ../../epi_corrections_out_2019_07_02_tumor_exluded_from_rcbv/CBV_histograms_bins_64_min_0_max_12_region_rec_c_frac_0.7_region_min_vox_30/Hellinger-and-Wasserstein-r1-sagittal-r-l-radiolog.png\n",
      "INFO:spimagine.gui.glwidget | saving frame as ../../epi_corrections_out_2019_07_02_tumor_exluded_from_rcbv/CBV_histograms_bins_64_min_0_max_12_region_rec_c_frac_0.7_region_min_vox_30/Hellinger-and-Wasserstein-r1-mixed-r-l-radiolog-posterior-anterior.png\n",
      "INFO:spimagine.gui.glwidget | saving frame as ../../epi_corrections_out_2019_07_02_tumor_exluded_from_rcbv/CBV_histograms_bins_64_min_0_max_12_region_rec_c_frac_0.7_region_min_vox_30/Hellinger-and-Wasserstein-r2-axial-inferior-superior.png\n",
      "INFO:spimagine.gui.glwidget | saving frame as ../../epi_corrections_out_2019_07_02_tumor_exluded_from_rcbv/CBV_histograms_bins_64_min_0_max_12_region_rec_c_frac_0.7_region_min_vox_30/Hellinger-and-Wasserstein-r2-sagittal-r-l-radiolog.png\n",
      "INFO:spimagine.gui.glwidget | saving frame as ../../epi_corrections_out_2019_07_02_tumor_exluded_from_rcbv/CBV_histograms_bins_64_min_0_max_12_region_rec_c_frac_0.7_region_min_vox_30/Hellinger-and-Wasserstein-r2-mixed-r-l-radiolog-posterior-anterior.png\n",
      "INFO:spimagine.gui.glwidget | saving frame as ../../epi_corrections_out_2019_07_02_tumor_exluded_from_rcbv/CBV_histograms_bins_64_min_0_max_12_region_rec_c_frac_0.7_region_min_vox_30/Hellinger-and-Wasserstein-r3-axial-inferior-superior.png\n",
      "INFO:spimagine.gui.glwidget | saving frame as ../../epi_corrections_out_2019_07_02_tumor_exluded_from_rcbv/CBV_histograms_bins_64_min_0_max_12_region_rec_c_frac_0.7_region_min_vox_30/Hellinger-and-Wasserstein-r3-sagittal-r-l-radiolog.png\n",
      "INFO:spimagine.gui.glwidget | saving frame as ../../epi_corrections_out_2019_07_02_tumor_exluded_from_rcbv/CBV_histograms_bins_64_min_0_max_12_region_rec_c_frac_0.7_region_min_vox_30/Hellinger-and-Wasserstein-r3-mixed-r-l-radiolog-posterior-anterior.png\n",
      "INFO:spimagine.gui.glwidget | saving frame as ../../epi_corrections_out_2019_07_02_tumor_exluded_from_rcbv/CBV_histograms_bins_64_min_0_max_12_region_rec_c_frac_0.7_region_min_vox_30/Hellinger-and-Wasserstein-r4-axial-inferior-superior.png\n",
      "INFO:spimagine.gui.glwidget | saving frame as ../../epi_corrections_out_2019_07_02_tumor_exluded_from_rcbv/CBV_histograms_bins_64_min_0_max_12_region_rec_c_frac_0.7_region_min_vox_30/Hellinger-and-Wasserstein-r4-sagittal-r-l-radiolog.png\n",
      "INFO:spimagine.gui.glwidget | saving frame as ../../epi_corrections_out_2019_07_02_tumor_exluded_from_rcbv/CBV_histograms_bins_64_min_0_max_12_region_rec_c_frac_0.7_region_min_vox_30/Hellinger-and-Wasserstein-r4-mixed-r-l-radiolog-posterior-anterior.png\n"
     ]
    }
   ],
   "source": [
    "#\"\"\"\n",
    "windowMax_hellinger_scaled = \\\n",
    "np.max(\\\n",
    "[topup_vs_epic_e1_hellinger_df.max().max(), \\\n",
    " topup_vs_epic_e2_hellinger_df.max().max()])*0.5\n",
    "\n",
    "windowMax_wasserstein_scaled = \\\n",
    "np.max(\\\n",
    "[topup_vs_epic_e1_wasserstein_df.max().max(), \\\n",
    " topup_vs_epic_e2_wasserstein_df.max().max()])*0.25\n",
    "\n",
    "rendered_image_files_list_correction_method_comparison = \\\n",
    "sorted_boxplot_heatmap_figure_distances(df_1 = topup_vs_epic_e1_hellinger_df, \\\n",
    "                                        df_1_rcbv = topup_vs_epic_e1_relative_rcbv_change_df, \\\n",
    "                                        df_2 = topup_vs_epic_e2_hellinger_df, \\\n",
    "                                        df_2_rcbv = topup_vs_epic_e2_relative_rcbv_change_df, \\\n",
    "                                        df_3 = topup_vs_epic_e1_wasserstein_df, \\\n",
    "                                        df_3_rcbv = topup_vs_epic_e1_relative_rcbv_change_df, \\\n",
    "                                        df_4 = topup_vs_epic_e2_wasserstein_df, \\\n",
    "                                        df_4_rcbv = topup_vs_epic_e2_relative_rcbv_change_df, \\\n",
    "                              ylabel_1 = \"TOPUP. vs. EPIC GE\", \\\n",
    "                              ylabel_2 = \"TOPUP. vs. EPIC SE\", \\\n",
    "                              ylabel_3 = \"TOPUP. vs. EPIC GE\", \\\n",
    "                              ylabel_4 = \"TOPUP. vs. EPIC SE\", \\\n",
    "                              distance_name = \"Hellinger-and-Wasserstein\", \\\n",
    "                              labels_data = labels_data, \\\n",
    "                              labels_dims =  labels_dims, \\\n",
    "                              CBV_out_dir = CBV_out_dir, \\\n",
    "                              rendered_image_files_list = [], \\\n",
    "                              region_values = region_values_temp, \\\n",
    "                              region_names = region_names_clean, \\\n",
    "                              region_names_to_exclude = regions_excluded_clean, \\\n",
    "                              top=\"all\", \\\n",
    "                              render_pngs=True, \\\n",
    "                              windowMin = 0, \\\n",
    "                              windowMax = windowMax_hellinger_scaled, \\\n",
    "                              interpolation = \"nearest\", \\\n",
    "                              cmap = \"hot\", \\\n",
    "                              blur_3d = False, \\\n",
    "                              blur_3d_sigma = 1, \\\n",
    "                              method_comparison = True)\n",
    "#\"\"\""
   ]
  },
  {
   "cell_type": "code",
   "execution_count": 76,
   "metadata": {},
   "outputs": [],
   "source": [
    "%%bash -s \"$CBV_out_dir\"\n",
    "CBV_out_dir=$1\n",
    "cd $CBV_out_dir\n",
    "mkdir -p temp\n",
    "mv temp/Hellinger-and-Wasserstein-r3-axial-inferior-superior.png Hellinger-and-Wasserstein-r3-axial-inferior-superior.png\n",
    "mv temp/Hellinger-and-Wasserstein-r3-sagittal-r-l-radiolog.png Hellinger-and-Wasserstein-r3-sagittal-r-l-radiolog.png\n",
    "mv temp/Hellinger-and-Wasserstein-r3-mixed-r-l-radiolog-posterior-anterior.png Hellinger-and-Wasserstein-r3-mixed-r-l-radiolog-posterior-anterior.png\n",
    "mv temp/Hellinger-and-Wasserstein-r4-axial-inferior-superior.png Hellinger-and-Wasserstein-r4-axial-inferior-superior.png\n",
    "mv temp/Hellinger-and-Wasserstein-r4-sagittal-r-l-radiolog.png Hellinger-and-Wasserstein-r4-sagittal-r-l-radiolog.png\n",
    "mv temp/Hellinger-and-Wasserstein-r4-mixed-r-l-radiolog-posterior-anterior.png Hellinger-and-Wasserstein-r4-mixed-r-l-radiolog-posterior-anterior.png\n",
    "ls Hellinger-and-Wasserstein-*.png | xargs -I file convert file -fill white -opaque black file"
   ]
  },
  {
   "cell_type": "code",
   "execution_count": 77,
   "metadata": {},
   "outputs": [],
   "source": [
    "#\"\"\"\n",
    "rendered_image_files_list_correction_method_comparison = \\\n",
    "sorted_boxplot_heatmap_figure_distances(df_1 = topup_vs_epic_e1_hellinger_df, \\\n",
    "                                        df_1_rcbv = topup_vs_epic_e1_relative_rcbv_change_df, \\\n",
    "                                        df_2 = topup_vs_epic_e2_hellinger_df, \\\n",
    "                                        df_2_rcbv = topup_vs_epic_e2_relative_rcbv_change_df, \\\n",
    "                                        df_3 = topup_vs_epic_e1_wasserstein_df, \\\n",
    "                                        df_3_rcbv = topup_vs_epic_e1_relative_rcbv_change_df, \\\n",
    "                                        df_4 = topup_vs_epic_e2_wasserstein_df, \\\n",
    "                                        df_4_rcbv = topup_vs_epic_e2_relative_rcbv_change_df, \\\n",
    "                              ylabel_1 = \"TOPUP. vs. EPIC GE\", \\\n",
    "                              ylabel_2 = \"TOPUP. vs. EPIC SE\", \\\n",
    "                              ylabel_3 = \"TOPUP. vs. EPIC GE\", \\\n",
    "                              ylabel_4 = \"TOPUP. vs. EPIC SE\", \\\n",
    "                              distance_name = \"Hellinger-and-Wasserstein\", \\\n",
    "                              labels_data = labels_data, \\\n",
    "                              labels_dims =  labels_dims, \\\n",
    "                              CBV_out_dir = CBV_out_dir, \\\n",
    "                              rendered_image_files_list = rendered_image_files_list_correction_method_comparison, \\\n",
    "                              region_values = region_values_temp, \\\n",
    "                              region_names = region_names_clean, \\\n",
    "                              region_names_to_exclude = regions_excluded_clean, \\\n",
    "                              top=20, \\\n",
    "                              render_pngs=False, \\\n",
    "                              windowMin = 0, \\\n",
    "                              windowMax = windowMax_wasserstein_scaled, \\\n",
    "                              interpolation = \"nearest\", \\\n",
    "                              cmap = \"hot\", \\\n",
    "                              blur_3d = False, \\\n",
    "                              blur_3d_sigma = 1, \\\n",
    "                              method_comparison = True)\n",
    "#\"\"\""
   ]
  },
  {
   "cell_type": "code",
   "execution_count": 78,
   "metadata": {},
   "outputs": [],
   "source": [
    "#visualize_regions(topup_vs_epic_e1_hellinger_medians_df, labels_data, labels_dims)\n",
    "#visualize_regions(topup_vs_epic_e1_wasserstein_medians_df, labels_data, labels_dims)\n",
    "#visualize_regions(topup_vs_epic_e2_hellinger_medians_df, labels_data, labels_dims)\n",
    "#visualize_regions(topup_vs_epic_e2_wasserstein_medians_df, labels_data, labels_dims)"
   ]
  },
  {
   "cell_type": "markdown",
   "metadata": {},
   "source": [
    "8. Based on the figures, render the top 15 most deviating regions"
   ]
  },
  {
   "cell_type": "code",
   "execution_count": 79,
   "metadata": {},
   "outputs": [],
   "source": [
    "# Manual pick from figures\n",
    "#top_regions_no_lower_v_limit_desc = [69, 75, 50, 76, 49, 30, 23, 31, 32, 4, 187, 11, 46, 148, 186]"
   ]
  },
  {
   "cell_type": "code",
   "execution_count": null,
   "metadata": {},
   "outputs": [],
   "source": []
  },
  {
   "cell_type": "code",
   "execution_count": null,
   "metadata": {},
   "outputs": [],
   "source": []
  },
  {
   "cell_type": "code",
   "execution_count": 80,
   "metadata": {},
   "outputs": [
    {
     "name": "stdout",
     "output_type": "stream",
     "text": [
      "Hellinger top 134 regions:\n",
      "\n",
      " [75, 76, 49, 30, 187, 23, 31, 32, 4, 148, 46, 186, 116, 117, 149, 11, 206, 207, 55, 56, 165, 164, 170, 141, 140, 181, 171, 184, 178, 180, 173, 179, 118, 185, 121, 119, 172, 105, 157, 174, 125, 175, 72, 124, 156, 136, 137, 104, 150, 37, 48, 62, 47, 61, 120, 147, 58, 166, 36, 146, 160, 100, 197, 163, 151, 103, 167, 161, 108, 113, 51, 73, 204, 205, 196, 57, 162, 112, 102, 52, 109, 114, 138, 101, 144, 139, 71, 59, 60, 115, 203, 193, 202, 128, 145, 129, 123, 201, 122, 133, 200, 132, 135, 192, 134, 35, 152, 195, 107, 153, 194, 41, 191, 40, 106, 168, 169, 198, 199, 183, 177, 155, 154, 176, 182, 143, 38, 142, 39, 44, 45, 50, 69, 190]\n",
      "\n",
      "Wasserstein top 134 regions:\n",
      "\n",
      " [187, 186, 11, 49, 76, 75, 30, 55, 4, 23, 31, 116, 56, 32, 117, 121, 46, 124, 125, 164, 170, 148, 52, 141, 72, 157, 165, 120, 179, 51, 171, 140, 105, 104, 58, 149, 136, 57, 172, 147, 37, 173, 137, 156, 178, 62, 36, 73, 207, 118, 174, 61, 206, 119, 146, 181, 184, 71, 47, 203, 185, 133, 48, 166, 180, 175, 204, 205, 59, 150, 167, 162, 160, 197, 132, 40, 161, 108, 202, 112, 196, 163, 100, 151, 144, 113, 60, 138, 109, 145, 103, 102, 38, 122, 128, 35, 139, 129, 41, 152, 114, 200, 115, 153, 123, 101, 191, 201, 193, 134, 135, 194, 192, 39, 154, 106, 195, 176, 107, 155, 198, 199, 168, 182, 177, 169, 142, 183, 143, 44, 45, 50, 190, 69]\n",
      "\n",
      "Overall top 134 regions:\n",
      "\n",
      " [75, 76, 49, 187, 186, 30, 23, 31, 4, 11, 32, 116, 117, 46, 55, 148, 56, 149, 121, 164, 170, 165, 141, 125, 124, 206, 140, 171, 207, 179, 157, 105, 72, 178, 173, 181, 172, 118, 184, 104, 119, 120, 136, 174, 180, 185, 156, 137, 37, 58, 52, 51, 62, 147, 175, 61, 36, 48, 47, 150, 146, 57, 73, 166, 160, 197, 204, 167, 205, 100, 161, 163, 108, 151, 162, 71, 196, 113, 103, 203, 112, 59, 102, 109, 133, 144, 138, 60, 202, 139, 114, 132, 145, 128, 101, 115, 129, 122, 193, 40, 123, 35, 201, 200, 152, 41, 153, 135, 134, 192, 191, 194, 195, 107, 38, 106, 154, 168, 198, 199, 176, 155, 169, 177, 183, 182, 39, 143, 142, 44, 45, 69, 50, 190]\n",
      "\n"
     ]
    }
   ],
   "source": [
    "# Automatic pic using mean top sum of medians\n",
    "#numtop = 20\n",
    "numtop = raw_vs_topup_e1_hellinger_df.columns.shape[0]\n",
    "\n",
    "tophellinger = pd.concat([\\\n",
    "                      raw_vs_topup_e1_hellinger_df.median().to_frame(), \\\n",
    "                      raw_vs_topup_e2_hellinger_df.median().to_frame(), \\\n",
    "                      raw_vs_epic_e1_hellinger_df.median().to_frame(), \\\n",
    "                      raw_vs_epic_e2_hellinger_df.median().to_frame()], \\\n",
    "                     axis=1, sort=False).apply(lambda r: r.sum(), axis=1).sort_values(ascending=False)[0:numtop]\n",
    "tophellingersum = tophellinger.sum()\n",
    "# Normalize the top medians to have sum of 1 for comparison with Wasserstein\n",
    "tophellinger = tophellinger.apply(lambda r: r/tophellingersum)\n",
    "\n",
    "\"\"\"\n",
    "tophellinger_numobs = pd.concat([\\\n",
    "                      raw_vs_topup_e1_hellinger_df.notna().sum().to_frame(), \\\n",
    "                      raw_vs_topup_e2_hellinger_df.notna().sum().to_frame(), \\\n",
    "                      raw_vs_epic_e1_hellinger_df.notna().sum().to_frame(), \\\n",
    "                      raw_vs_epic_e2_hellinger_df.notna().sum().to_frame()], \\\n",
    "                     axis=1, sort=False).apply(lambda r: r.sum(), axis=1)\n",
    "# Select only selected areas according to tophellinger\n",
    "tophellinger_numobs = tophellinger_numobs.to_frame().loc[tophellinger.to_frame().index]\n",
    "tophellinger_numobs_sum = tophellinger_numobs.sum()\n",
    "# Normalize\n",
    "tophellinger_numobs = tophellinger_numobs.apply(lambda r: r/np.float(tophellinger_numobs_sum))\n",
    "# weighted according to number of observations\n",
    "tophellinger = pd.concat([tophellinger.to_frame(), \\\n",
    "                          tophellinger_numobs], axis=1, \\\n",
    "                         sort=False).apply(lambda r: r.sum(), axis=1).sort_values(ascending=False)\n",
    "\"\"\"\n",
    "\n",
    "topwasserstein = pd.concat([\\\n",
    "                      raw_vs_topup_e1_wasserstein_df.median().to_frame(), \\\n",
    "                      raw_vs_topup_e2_wasserstein_df.median().to_frame(), \\\n",
    "                      raw_vs_epic_e1_wasserstein_df.median().to_frame(), \\\n",
    "                      raw_vs_epic_e2_wasserstein_df.median().to_frame()], \\\n",
    "                     axis=1, sort=False).apply(lambda r: r.sum(), axis=1).sort_values(ascending=False)[0:numtop]\n",
    "topwassersteinsum = topwasserstein.sum()\n",
    "# Normalize the top medians to have sum of 1 for comparison with Hellinger\n",
    "topwasserstein = topwasserstein.apply(lambda r: r/topwassersteinsum)\n",
    "\n",
    "\"\"\"\n",
    "topwasserstein_numobs = pd.concat([\\\n",
    "                      raw_vs_topup_e1_wasserstein_df.notna().sum().to_frame(), \\\n",
    "                      raw_vs_topup_e2_wasserstein_df.notna().sum().to_frame(), \\\n",
    "                      raw_vs_epic_e1_wasserstein_df.notna().sum().to_frame(), \\\n",
    "                      raw_vs_epic_e2_wasserstein_df.notna().sum().to_frame()], \\\n",
    "                     axis=1, sort=False).apply(lambda r: r.sum(), axis=1)\n",
    "# Select only selected areas according to topwasserstein\n",
    "topwasserstein_numobs = topwasserstein_numobs.to_frame().loc[topwasserstein.to_frame().index]\n",
    "topwasserstein_numobs_sum = topwasserstein_numobs.sum()\n",
    "# Normalize\n",
    "topwasserstein_numobs = topwasserstein_numobs.apply(lambda r: r/np.float(topwasserstein_numobs_sum))\n",
    "# weighted according to number of observations\n",
    "topwasserstein = pd.concat([topwasserstein.to_frame(), \\\n",
    "                            topwasserstein_numobs], axis=1, \\\n",
    "                           sort=False).apply(lambda r: r.sum(), axis=1).sort_values(ascending=False)\n",
    "\"\"\"\n",
    "\n",
    "overalltop = pd.concat([tophellinger.to_frame(), topwasserstein.to_frame()], \\\n",
    "                       axis=1, sort=False).apply(lambda r: r.sum(), axis=1).sort_values(ascending=False)[0:numtop]\n",
    "#\"\"\"\n",
    "tophellinger = [int(r) for r in tophellinger.keys()]\n",
    "topwasserstein = [int(r) for r in topwasserstein.keys()]\n",
    "overalltop = [int(r) for r in overalltop.keys()]\n",
    "print(\"Hellinger top %i regions:\\n\\n %a\\n\" % (numtop, tophellinger))\n",
    "print(\"Wasserstein top %i regions:\\n\\n %a\\n\" % (numtop, topwasserstein))\n",
    "print(\"Overall top %i regions:\\n\\n %a\\n\" % (len(overalltop), overalltop))\n",
    "#\"\"\""
   ]
  },
  {
   "cell_type": "markdown",
   "metadata": {},
   "source": [
    "Select which top list to use"
   ]
  },
  {
   "cell_type": "code",
   "execution_count": 81,
   "metadata": {},
   "outputs": [],
   "source": [
    "use = \"combined_picked\"\n",
    "if use == \"hellinger\":\n",
    "    top_regions_desc = tophellinger\n",
    "elif use == \"wasserstein\":\n",
    "    top_regions_desc = topwasserstein\n",
    "elif use == \"combined\":\n",
    "    top_regions_desc = overalltop\n",
    "elif use == \"combined_picked\":\n",
    "    # Picked from overalltop\n",
    "    #top_regions_desc = [75, 76, 50, 49, 30, 23, 4, 11, 32, 31, 46, 117, 116]\n",
    "    # Picked from overalltop when tumor excluded and csf and ventricles removed (ESNR poster)\n",
    "    #top_regions_desc = [75, 76, 30, 23, 31, 32, 116, 117, 55, 148, 56, 149, 164, 170, 165, 141, 125, 124, 206, 140, 171, 207, 179, 157, 105, 72, 178, 173]\n",
    "    # Picked from overalltop when tumor excluded and csf and ventricles removed (Manuscript)\n",
    "    top_regions_desc = [75, 76, 30, 23, 31, 32, 116, 117, 55, 148, 56, 149, 164, 170, 165, 141, 125, 124, 206, 140, 171, 207, 179, 157, 105, 72, 178, 173, 172, 104, 156]\n",
    "    \n",
    "    \"\"\"\n",
    "    # Weight according to number of observations\n",
    "    top_regions_desc_df = pd.DataFrame(index=top_regions_desc, data=range(len(top_regions_desc))[::-1])\n",
    "    top_regions_desc_df = top_regions_desc_df.apply(lambda r: r/r.sum())\n",
    "    # \n",
    "    tophellinger_numobs = pd.concat([\\\n",
    "                      raw_vs_topup_e1_hellinger_df.notna().sum().to_frame(), \\\n",
    "                      raw_vs_topup_e2_hellinger_df.notna().sum().to_frame(), \\\n",
    "                      raw_vs_epic_e1_hellinger_df.notna().sum().to_frame(), \\\n",
    "                      raw_vs_epic_e2_hellinger_df.notna().sum().to_frame()], \\\n",
    "                     axis=1, sort=False).apply(lambda r: r.sum(), axis=1)\n",
    "    # Extract observations only from top_regions_desc\n",
    "    tophellinger_numobs = tophellinger_numobs.loc[[True if int(i) in top_regions_desc else False for i in tophellinger_numobs.index]].to_frame()\n",
    "    tophellinger_numobs.index = tophellinger_numobs.index.astype(np.int64)\n",
    "    # Normalize\n",
    "    tophellinger_numobs = tophellinger_numobs.apply(lambda r: r/r.sum())\n",
    "    # Sort by observations\n",
    "    tophellinger_numobs = tophellinger_numobs.sort_values(by=0, ascending=False)\n",
    "    # Weighted by numobs\n",
    "    tophellinger_weighted = pd.concat([top_regions_desc_df, tophellinger_numobs], axis=1, sort=False).apply(lambda r: r.sum(), axis=1).sort_values(ascending=False).to_frame()\n",
    "    # \n",
    "    topwasserstein_numobs = pd.concat([\\\n",
    "                      raw_vs_topup_e1_wasserstein_df.notna().sum().to_frame(), \\\n",
    "                      raw_vs_topup_e2_wasserstein_df.notna().sum().to_frame(), \\\n",
    "                      raw_vs_epic_e1_wasserstein_df.notna().sum().to_frame(), \\\n",
    "                      raw_vs_epic_e2_wasserstein_df.notna().sum().to_frame()], \\\n",
    "                     axis=1, sort=False).apply(lambda r: r.sum(), axis=1)\n",
    "    # Extract observations only from top_regions_desc\n",
    "    topwasserstein_numobs = topwasserstein_numobs.loc[[True if int(i) in top_regions_desc else False for i in topwasserstein_numobs.index]].to_frame()\n",
    "    topwasserstein_numobs.index = topwasserstein_numobs.index.astype(np.int64)\n",
    "    # Normalize\n",
    "    topwasserstein_numobs = topwasserstein_numobs.apply(lambda r: r/r.sum())\n",
    "    # Sort by observations\n",
    "    topwasserstein_numobs = topwasserstein_numobs.sort_values(by=0, ascending=False)\n",
    "    # Weighted by numobs\n",
    "    topwasserstein_weighted = pd.concat([top_regions_desc_df, topwasserstein_numobs], axis=1, sort=False).apply(lambda r: r.sum(), axis=1).sort_values(ascending=False).to_frame()\n",
    "    \n",
    "    # Final weighting\n",
    "    top_regions_desc_weighted = pd.concat([tophellinger_weighted, topwasserstein_weighted], axis=1, sort=False).apply(lambda r: r.sum(), axis=1).sort_values(ascending=False).index\n",
    "    # Make into a list\n",
    "    top_regions_desc_weighted = [int(v) for v in top_regions_desc_weighted]\n",
    "    \n",
    "    top_regions_desc = top_regions_desc_weighted\n",
    "    \"\"\""
   ]
  },
  {
   "cell_type": "code",
   "execution_count": 82,
   "metadata": {},
   "outputs": [
    {
     "data": {
      "text/plain": [
       "31"
      ]
     },
     "execution_count": 82,
     "metadata": {},
     "output_type": "execute_result"
    }
   ],
   "source": [
    "len(top_regions_desc)"
   ]
  },
  {
   "cell_type": "code",
   "execution_count": 83,
   "metadata": {},
   "outputs": [
    {
     "name": "stdout",
     "output_type": "stream",
     "text": [
      "75: Left Basal Forebrain\n",
      "76: Right Basal Forebrain\n",
      "30: Left Accumbens Area\n",
      "23: Right Accumbens Area\n",
      "31: Right Amygdala\n",
      "32: Left Amygdala\n",
      "116: Right entorhinal area\n",
      "117: Left entorhinal area\n",
      "55: Right Pallidum\n",
      "148: Right postcentral gyrus medial segment\n",
      "56: Left Pallidum\n",
      "149: Left postcentral gyrus medial segment\n",
      "164: Right orbital part of the inferior frontal gyrus\n",
      "170: Right parahippocampal gyrus\n",
      "165: Left orbital part of the inferior frontal gyrus\n",
      "141: Left medial frontal cortex\n",
      "125: Left gyrus rectus\n",
      "124: Right gyrus rectus\n",
      "206: Right transverse temporal gyrus\n",
      "140: Right medial frontal cortex\n",
      "171: Left parahippocampal gyrus\n",
      "207: Left transverse temporal gyrus\n",
      "179: Left posterior orbital gyrus\n",
      "157: Left occipital pole\n",
      "105: Left anterior orbital gyrus\n",
      "72: Cerebellar Vermal Lobules VI-VII\n",
      "178: Right posterior orbital gyrus\n",
      "173: Left posterior insula\n",
      "172: Right posterior insula\n",
      "104: Right anterior orbital gyrus\n",
      "156: Right occipital pole\n"
     ]
    }
   ],
   "source": [
    "region_values_temp\n",
    "region_names\n",
    "for r_val in top_regions_desc:\n",
    "    print(\"%s: %s\" % (str(r_val), region_names_clean[np.where(region_values_temp == r_val)[0][0]]))"
   ]
  },
  {
   "cell_type": "code",
   "execution_count": 84,
   "metadata": {},
   "outputs": [
    {
     "data": {
      "text/plain": [
       "PosixPath('/run/user/1000/gvfs/smb-share:server=192.168.1.207,share=hdd3tb1/data/IVS_EPI_BASELINE/epi_corrections_out_2019_07_02_tumor_exluded_from_rcbv/EPI_applyepic/Anonymized/DEFACED_IVS/1767888627/DAY_0000/No_DeFacing_GE-SE_EPI_SSH_v1_32CH_V2_scan/r_e2_labels_Neuromorphometrics.nii')"
      ]
     },
     "execution_count": 84,
     "metadata": {},
     "output_type": "execute_result"
    }
   ],
   "source": [
    "labels_path"
   ]
  },
  {
   "cell_type": "code",
   "execution_count": 85,
   "metadata": {},
   "outputs": [
    {
     "data": {
      "text/plain": [
       "31"
      ]
     },
     "execution_count": 85,
     "metadata": {},
     "output_type": "execute_result"
    }
   ],
   "source": [
    "len(top_regions_desc)"
   ]
  },
  {
   "cell_type": "code",
   "execution_count": 86,
   "metadata": {},
   "outputs": [],
   "source": [
    "#new_labels_path = '/run/user/1000/gvfs/smb-share:server=192.168.1.207,share=hdd3tb1/data/IVS_EPI_BASELINE/epi_corrections_out_2019_07_02/EPI_applyepic/Anonymized/DEFACED_IVS/682599102/DAY_0000/No_DeFacing_WIP_GE-SE_EPI_SSH_v1_32CH_SENSE/_e1_labels_Neuromorphometrics.nii'"
   ]
  },
  {
   "cell_type": "code",
   "execution_count": 87,
   "metadata": {},
   "outputs": [],
   "source": [
    "#Find the top regions from the regions file\n",
    "labels_data, labels_dims, labels_hdr = load_nifti(str(labels_path))\n",
    "labels_data = xyz_to_zyx(labels_data)\n",
    "\n",
    "labels_data_copy = labels_data.copy()\n",
    "\n",
    "value = len(top_regions_desc)\n",
    "\n",
    "for n in np.array(np.unique(labels_data_copy)):\n",
    "    if n not in top_regions_desc:\n",
    "        labels_data_copy[labels_data_copy == n] = 0\n",
    "\n",
    "for n in top_regions_desc:\n",
    "    labels_data_copy[labels_data == n] = value\n",
    "    value -= 1"
   ]
  },
  {
   "cell_type": "code",
   "execution_count": 88,
   "metadata": {},
   "outputs": [
    {
     "data": {
      "text/plain": [
       "array([ 0.,  1.,  2.,  3.,  4.,  5.,  6.,  7.,  8.,  9., 10., 11., 12.,\n",
       "       13., 14., 15., 16., 17., 18., 19., 20., 21., 22., 23., 24., 25.,\n",
       "       26., 27., 28., 29., 30., 31.])"
      ]
     },
     "execution_count": 88,
     "metadata": {},
     "output_type": "execute_result"
    }
   ],
   "source": [
    "np.unique(labels_data_copy)"
   ]
  },
  {
   "cell_type": "code",
   "execution_count": 89,
   "metadata": {},
   "outputs": [],
   "source": [
    "labels_affine = nib.load(str(labels_path)).affine"
   ]
  },
  {
   "cell_type": "code",
   "execution_count": 90,
   "metadata": {},
   "outputs": [
    {
     "name": "stdout",
     "output_type": "stream",
     "text": [
      "Number of regions excluded: 103\n"
     ]
    }
   ],
   "source": [
    "print(\"Number of regions excluded: %i\" % (np.unique(labels_data).shape[0] - np.unique(labels_data_copy).shape[0]))"
   ]
  },
  {
   "cell_type": "code",
   "execution_count": 91,
   "metadata": {},
   "outputs": [],
   "source": [
    "# For saving to nifti\n",
    "img = nib.spatialimages.SpatialImage(xyz_to_zyx(labels_data_copy), affine=labels_affine, header=labels_hdr)"
   ]
  },
  {
   "cell_type": "code",
   "execution_count": 92,
   "metadata": {},
   "outputs": [
    {
     "data": {
      "text/plain": [
       "'../../epi_corrections_out_2019_07_02_tumor_exluded_from_rcbv/CBV_histograms_bins_64_min_0_max_12_region_rec_c_frac_0.7_region_min_vox_30'"
      ]
     },
     "execution_count": 92,
     "metadata": {},
     "output_type": "execute_result"
    }
   ],
   "source": [
    "CBV_out_dir"
   ]
  },
  {
   "cell_type": "code",
   "execution_count": 93,
   "metadata": {},
   "outputs": [],
   "source": [
    "output_rel_dir = CBV_out_dir\n",
    "png_prefix = \"top-\" + str(numtop) + \"-\" + use\n",
    "png_file_1 = output_rel_dir + \"/\" + png_prefix + \"-axial-inferior-superior.png\"\n",
    "png_file_2 = output_rel_dir + \"/\" + png_prefix + \"-sagittal-r-l-radiolog.png\"\n",
    "png_file_3 = output_rel_dir + \"/\" + png_prefix + \"-mixed-r-l-radiolog-posterior-anterior.png\""
   ]
  },
  {
   "cell_type": "code",
   "execution_count": 94,
   "metadata": {},
   "outputs": [],
   "source": [
    "nifti_file = output_rel_dir + \"/\" + png_prefix + \".nii\""
   ]
  },
  {
   "cell_type": "code",
   "execution_count": 95,
   "metadata": {},
   "outputs": [],
   "source": [
    "# Write the nifti file\n",
    "#nib.save(img, nifti_file)"
   ]
  },
  {
   "cell_type": "code",
   "execution_count": 96,
   "metadata": {},
   "outputs": [
    {
     "data": {
      "text/plain": [
       "'\\n# Third view\\nspim_widget.transform.setQuaternion(Quaternion(-0.3228904671232426,-0.8924886253708287,-0.28916944161613134,0.12484724075684332))\\n# Take snapshot\\nspim_widget.saveFrame(png_file_3)\\n'"
      ]
     },
     "execution_count": 96,
     "metadata": {},
     "output_type": "execute_result"
    }
   ],
   "source": [
    "# Visualize/save the top regions as pngs\n",
    "volfig()\n",
    "spim_widget = \\\n",
    "volshow(labels_data_copy[::-1, ::-1, ::-1], stackUnits=labels_dims, interpolation=\"nearest\")\n",
    "spim_widget.set_colormap(\"hot\")\n",
    "\n",
    "# Set bounding box not visible\n",
    "spim_widget.transform.setBox(False)\n",
    "\n",
    "# Zoom\n",
    "spim_widget.transform.setZoom(1.4)\n",
    "# NB: The rotations are not adding up.\n",
    "# each spim_widget.transform.setRotation call\n",
    "# rotates from original orientation given by volshow()\n",
    "\n",
    "#\"\"\"\n",
    "# First view\n",
    "spim_widget.transform.setQuaternion(Quaternion(-0.005634209439510011,0.00790509382124309,-0.0013812284289010514,-0.9999519273706857))\n",
    "# Take snapshot\n",
    "#spim_widget.saveFrame(png_file_1)\n",
    "#\"\"\"\n",
    "\n",
    "\"\"\" \n",
    "# Second view\n",
    "spim_widget.transform.setQuaternion(Quaternion(0.007638906066214874,-0.7092538697232732,-0.004760086014776442,0.7048956918250604))\n",
    "# Take snapshot\n",
    "spim_widget.saveFrame(png_file_2)\n",
    "\"\"\"\n",
    "\n",
    "\"\"\"\n",
    "# Third view\n",
    "spim_widget.transform.setQuaternion(Quaternion(-0.3228904671232426,-0.8924886253708287,-0.28916944161613134,0.12484724075684332))\n",
    "# Take snapshot\n",
    "spim_widget.saveFrame(png_file_3)\n",
    "\"\"\"\n",
    "\n",
    "#spim_widget.closeMe()"
   ]
  },
  {
   "cell_type": "markdown",
   "metadata": {},
   "source": [
    "```bash\n",
    "# Converting and merging top gifs to powerpoint .mp4\n",
    "\n",
    "ls top-134-combined-*.png | xargs -I file convert file -fill white -opaque black file\n",
    "\n",
    "ffmpeg -i top-134-3d.gif -vf \"pad=ceil(iw/2)*2:ceil(ih/2)*2\" -c:v libx264 -preset slow -profile:v high -level:v 4.0 -pix_fmt yuv420p -crf 1 top-134-3d.mp4\n",
    "\n",
    "ffmpeg -i top-134-3d-picked.gif -vf \"pad=ceil(iw/2)*2:ceil(ih/2)*2\" -c:v libx264 -preset slow -profile:v high -level:v 4.0 -pix_fmt yuv420p -crf 1 top-134-3d-picked.mp4\n",
    "\n",
    "ffmpeg -i top-134-3d-picked-2.gif -vf \"pad=ceil(iw/2)*2:ceil(ih/2)*2\" -c:v libx264 -preset slow -profile:v high -level:v 4.0 -pix_fmt yuv420p -crf 1 top-134-3d-picked-2.mp4\n",
    "\n",
    "\n",
    "cat concat-mp4-list.txt\n",
    "file top-134-3d.mp4\n",
    "top-134-3d-picked.mp4\n",
    "ffmpeg -f concat -i concat-mp4-list.txt -c copy top-134-3d-all.mp4\n",
    "\n",
    "# Commands for Figure 1 in the ESNR poster\n",
    "\n",
    "ffmpeg -framerate 1 -pattern_type glob -i 'e1-dist-ax-*.png' -vf \"pad=ceil(iw/2)*2:ceil(ih/2)*2\" -c:v libx264 -preset slow -profile:v high -level:v 4.0 -pix_fmt yuv420p -crf 1 e1-dist-ax-neg-pos.mp4\n",
    "\n",
    "ffmpeg -framerate 1 -pattern_type glob -i 'e2-dist-ax-*.png' -vf \"pad=ceil(iw/2)*2:ceil(ih/2)*2\" -c:v libx264 -preset slow -profile:v high -level:v 4.0 -pix_fmt yuv420p -crf 1 e2-dist-ax-neg-pos.mp4\n",
    "\n",
    "cd direct\n",
    "ffmpeg -framerate 1 -pattern_type glob -i '*.png' -vf \"pad=ceil(iw/2)*2:ceil(ih/2)*2\" -c:v libx264 -preset slow -profile:v high -level:v 4.0 -pix_fmt yuv420p -crf 1 neg-pos.mp4\n",
    "\n",
    "cd ..\n",
    "\n",
    "# 488 was height of the other videos\n",
    "\n",
    "# resize preserving aspect ratio\n",
    "ffmpeg -i neg-pos.mp4 -filter_complex [0:v]scale=-2:488[Scaled] -map [Scaled] neg-pos-scaled.mp4\n",
    "\n",
    "# stack videos\n",
    "ffmpeg -i e1-dist-ax-neg-pos.mp4 -i e2-dist-ax-neg-pos.mp4 -i neg-pos-scaled.mp4 -filter_complex hstack=inputs=3 e1-e2-dist-ax-neg-pos.mp4\n",
    "\n",
    "# convert to gif\n",
    "ffmpeg -i e1-e2-dist-ax-neg-pos.mp4 e1-e2-dist-ax-neg-pos.gif\n",
    "\n",
    "\n",
    "# Only frame with positive phase encoding\n",
    "ffmpeg -i direct/pos.png -filter_complex [0:v]scale=-2:488[Scaled] -map [Scaled] pos-scaled.png\n",
    "\n",
    "ffmpeg -i e1-dist-ax-pos.png -i e2-dist-ax-pos.png -i pos-scaled.png -filter_complex hstack=inputs=3 e1-e2-dist-ax-pos.png\n",
    "\n",
    "# Count the number of scans with Philips SENSE\n",
    "ls -d Anonymized/DEFACED_IVS/*/*/* | grep -i sense | wc -l\n",
    "```"
   ]
  }
 ],
 "metadata": {
  "kernelspec": {
   "display_name": "Python (spimenv)",
   "language": "python",
   "name": "spimenv"
  },
  "language_info": {
   "codemirror_mode": {
    "name": "ipython",
    "version": 3
   },
   "file_extension": ".py",
   "mimetype": "text/x-python",
   "name": "python",
   "nbconvert_exporter": "python",
   "pygments_lexer": "ipython3",
   "version": "3.6.7"
  }
 },
 "nbformat": 4,
 "nbformat_minor": 4
}
