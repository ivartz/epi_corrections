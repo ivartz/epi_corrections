{
 "cells": [
  {
   "cell_type": "markdown",
   "metadata": {},
   "source": [
    "# Evaluating effects of FSL TOPUP and EPIC\n",
    "..on individual MNI regions provided by Neuromorphometrics, Inc. (http://Neuromorphometrics.com/)\n",
    "# Part 1: Running corrections, perfusion analysis, coregistering and normalizing to MNI space, calculating rCBV histograms."
   ]
  },
  {
   "cell_type": "markdown",
   "metadata": {},
   "source": [
    "Printing settings"
   ]
  },
  {
   "cell_type": "code",
   "execution_count": 6,
   "metadata": {},
   "outputs": [],
   "source": [
    "# Run once to store stdout\n",
    "import sys\n",
    "nb_stdout = sys.stdout"
   ]
  },
  {
   "cell_type": "code",
   "execution_count": 7,
   "metadata": {},
   "outputs": [],
   "source": [
    "# Redirect stdout to console, to not get too much text output in the notebook\n",
    "# This means that the notebook will not output any text. Text will be redirected\n",
    "# to the terminal where the notebook was started.\n",
    "sys.stdout = open(1, 'w')"
   ]
  },
  {
   "cell_type": "code",
   "execution_count": 4,
   "metadata": {},
   "outputs": [],
   "source": [
    "# A print test\n",
    "print(\"Hei!\")"
   ]
  },
  {
   "cell_type": "code",
   "execution_count": 4,
   "metadata": {},
   "outputs": [],
   "source": [
    "# Get printing back to the notebook if preferred\n",
    "# Run once\n",
    "#sys.stdout = nb_stdout"
   ]
  },
  {
   "cell_type": "markdown",
   "metadata": {},
   "source": [
    "### __Procedure leading up to this assessment__:"
   ]
  },
  {
   "cell_type": "markdown",
   "metadata": {},
   "source": [
    "Relative to the location of main.py (not the notebook), specify parameters of the main program run:"
   ]
  },
  {
   "cell_type": "code",
   "execution_count": 7,
   "metadata": {},
   "outputs": [],
   "source": [
    "DICOM_directory = \"../DICOM_no_spaces\"\n",
    "output_directory_suffix = \"2019_07_02\""
   ]
  },
  {
   "cell_type": "markdown",
   "metadata": {},
   "source": [
    "The corrections output base directory from main.py is then in this toturial (relative path from main.py directory):"
   ]
  },
  {
   "cell_type": "code",
   "execution_count": 8,
   "metadata": {},
   "outputs": [
    {
     "data": {
      "text/plain": [
       "'../epi_corrections_out_2019_07_02'"
      ]
     },
     "execution_count": 8,
     "metadata": {},
     "output_type": "execute_result"
    }
   ],
   "source": [
    "corrections_base_directory = \"../epi_corrections_out_\" + output_directory_suffix\n",
    "corrections_base_directory"
   ]
  },
  {
   "cell_type": "markdown",
   "metadata": {},
   "source": [
    "Get the (full) path to the epi_corrections root directory:"
   ]
  },
  {
   "cell_type": "code",
   "execution_count": 3,
   "metadata": {},
   "outputs": [
    {
     "data": {
      "text/plain": [
       "'/media/loek/HDD3TB1/data/IVS_EPI_BASELINE/epi_corrections'"
      ]
     },
     "execution_count": 3,
     "metadata": {},
     "output_type": "execute_result"
    }
   ],
   "source": [
    "from os import getcwd\n",
    "from os.path import abspath\n",
    "epi_corrections_root_directory = abspath(getcwd() + \"/..\") # Go one directory up from current working directory\n",
    "epi_corrections_root_directory"
   ]
  },
  {
   "cell_type": "markdown",
   "metadata": {},
   "source": [
    "0. Verify that epi_corrections successfully detects EPI pairs. This will also perform the dicom -> nifti conversion."
   ]
  },
  {
   "cell_type": "code",
   "execution_count": 7,
   "metadata": {},
   "outputs": [],
   "source": [
    "%%bash -s \"$epi_corrections_root_directory\" \"$DICOM_directory\" \"$output_directory_suffix\" \"$corrections_base_directory\"\n",
    "epi_corrections_root_directory=$1\n",
    "DICOM_directory=$2\n",
    "output_directory_suffix=$3\n",
    "corrections_base_directory=$4\n",
    "cd $epi_corrections_root_directory\n",
    "mkdir -p $corrections_base_directory\n",
    "pipeline_report_file=$corrections_base_directory/pipeline_report_$output_directory_suffix.txt\n",
    "full_command='python3 main.py \n",
    "                    --DICOM_directory='\"'$DICOM_directory'\"'\n",
    "                    --output_directory_suffix='\"'$output_directory_suffix'\"'\n",
    "                    --run_dcm2niix\n",
    "                    --print_epi_pairs\n",
    "                    2>&1 | tee $pipeline_report_file'\n",
    "eval $full_command"
   ]
  },
  {
   "cell_type": "markdown",
   "metadata": {},
   "source": [
    "See the pipeline reports:\n",
    "\n",
    "corrections_base_directory/pipeline_report_*.txt\n",
    "\n",
    "corrections_base_directory/EPI/DICOM to NIFTI conversion report with keyword epi.txt\n",
    "\n",
    "corrections_base_directory/FLAIR_3D/DICOM to NIFTI conversion report with keyword flair_3d.txt\n",
    "\n",
    "for logs of the dcm2niix conversions.\n",
    "\n",
    "stdout + stderr for the run preparation script scripts/EPI_hmc_nICE_prepare_dir.sh\n",
    "is not saved to a file."
   ]
  },
  {
   "cell_type": "markdown",
   "metadata": {},
   "source": [
    "__Inspect__\n",
    "\n",
    "corrections_base_directory/pipeline_report_*.txt\n",
    "\n",
    "to verify that __blip-down, blip-up EPI pairs__ have been successfully identified."
   ]
  },
  {
   "cell_type": "markdown",
   "metadata": {},
   "source": [
    "#### Nordic ICE (nICE) Batch Head Motion Correction (BHMC):\n",
    "1. epi_corrections is used to create an EPI directory for nICE BHMC only. It will use scripts/EPI_hmc_nICE_prepare_dir.sh"
   ]
  },
  {
   "cell_type": "code",
   "execution_count": 8,
   "metadata": {},
   "outputs": [],
   "source": [
    "%%bash -s \"$epi_corrections_root_directory\" \"$DICOM_directory\" \"$output_directory_suffix\" \"$corrections_base_directory\"\n",
    "epi_corrections_root_directory=$1\n",
    "DICOM_directory=$2\n",
    "output_directory_suffix=$3\n",
    "corrections_base_directory=$4\n",
    "cd $epi_corrections_root_directory\n",
    "mkdir -p $corrections_base_directory\n",
    "pipeline_report_file=$corrections_base_directory/pipeline_report_$output_directory_suffix.txt\n",
    "full_command='python3 main.py \n",
    "                    --DICOM_directory='\"'$DICOM_directory'\"'\n",
    "                    --output_directory_suffix='\"'$output_directory_suffix'\"'\n",
    "                    --epi_hmc\n",
    "                    --epi_nICE_hmc_not_done\n",
    "                    2>&1 | tee -a $pipeline_report_file'\n",
    "eval $full_command"
   ]
  },
  {
   "cell_type": "markdown",
   "metadata": {},
   "source": [
    "2. nICE BHMC is run on the prepared directory. See scripts/nICE_batch_hmc_example.PNG\n",
    "for the necessary settings:"
   ]
  },
  {
   "cell_type": "markdown",
   "metadata": {},
   "source": [
    "![title](../scripts/nICE_batch_hmc_example.PNG)"
   ]
  },
  {
   "cell_type": "markdown",
   "metadata": {},
   "source": [
    "#### FSL TOPUP and EPIC intensity and distortion corrections:\n",
    "3. epi_corrections is run completely, performing FSL TOPUP and EPIC corrections on the BHMC epi images. It will first use scripts/EPI_hmc_nICE_prepare_copy_back.sh to get the BHMC EPIs. After performing FSL TOPUP and EPIC corrections, respectively, it will perform FreeSurfer mri_robust_register to a structural image (FLAIR 3D) of EPI images, and assess similarities between combinations of corrected and non-corrected EPIs, using Normalized Mutual Information. Results should be in `<corrections_base_directory>`/TOPUP/topup_performance_metrics.txt and `<corrections_base_directory>`/EPIC/epic_performance_metrics.txt ."
   ]
  },
  {
   "cell_type": "code",
   "execution_count": 9,
   "metadata": {},
   "outputs": [],
   "source": [
    "%%bash -s \"$epi_corrections_root_directory\" \"$DICOM_directory\" \"$output_directory_suffix\" \"$corrections_base_directory\"\n",
    "epi_corrections_root_directory=$1\n",
    "DICOM_directory=$2\n",
    "output_directory_suffix=$3\n",
    "corrections_base_directory=$4\n",
    "cd $epi_corrections_root_directory\n",
    "pipeline_report_file=$corrections_base_directory/pipeline_report_$output_directory_suffix.txt\n",
    "full_command='python3 main.py \n",
    "                    --DICOM_directory='\"'$DICOM_directory'\"'\n",
    "                    --output_directory_suffix='\"'$output_directory_suffix'\"'\n",
    "                    --epi_hmc\n",
    "                    --run_topup\n",
    "                    --run_epic\n",
    "                    2>&1 | tee -a $pipeline_report_file'\n",
    "eval $full_command"
   ]
  },
  {
   "cell_type": "markdown",
   "metadata": {},
   "source": [
    "See the appended pipeline report:\n",
    "\n",
    "corrections_base_directory/pipeline_report_*.txt\n",
    "\n",
    "for correction logs.\n",
    "\n",
    "To see what's happening during the run, you can follow the changes of the file by running the terminal command from corrections_base_directory:\n",
    "\n",
    "tail -f pipeline_report_*.txt\n"
   ]
  },
  {
   "cell_type": "markdown",
   "metadata": {},
   "source": [
    "#### nICE Batch Perfusion Analysis (BPA) on uncorrected, TOPUP corrected and EPIC corrected EPIs:\n",
    "4. ../scripts/EPI_perfusion_anal_nICE_make_uncorr_dir.sh is run to make a directory containing uncorrected EPIs of interest (thus containing the DSC EPIs only and not also the opposite phase encoded EPIs):"
   ]
  },
  {
   "cell_type": "code",
   "execution_count": 10,
   "metadata": {},
   "outputs": [],
   "source": [
    "%%bash -s \"$epi_corrections_root_directory\" \"$corrections_base_directory\"\n",
    "epi_corrections_root_directory=$1\n",
    "corrections_base_directory=$2\n",
    "cd $epi_corrections_root_directory\n",
    "full_command='bash scripts/EPI_perfusion_anal_nICE_make_uncorr_dir.sh \n",
    "            \"'$corrections_base_directory'/EPI\"'\n",
    "eval $full_command"
   ]
  },
  {
   "cell_type": "markdown",
   "metadata": {},
   "source": [
    "The raw DSC should now be copied into the directory\n",
    "\n",
    "corrections_base_directory/EPI_raw_DSC\n",
    "\n",
    "for easier raw DSC Perfusion analysis."
   ]
  },
  {
   "cell_type": "markdown",
   "metadata": {},
   "source": [
    "5. ../scripts/EPI_perfusion_anal_nICE_prepare_dir.sh is run three times to prepare directories for nICE BPA:"
   ]
  },
  {
   "cell_type": "code",
   "execution_count": 11,
   "metadata": {},
   "outputs": [],
   "source": [
    "%%bash -s \"$epi_corrections_root_directory\" \"$corrections_base_directory\"\n",
    "epi_corrections_root_directory=$1\n",
    "corrections_base_directory=$2\n",
    "cd $epi_corrections_root_directory\n",
    "\n",
    "command_raw='bash scripts/EPI_perfusion_anal_nICE_prepare_dir.sh \n",
    "            \"'$corrections_base_directory'/EPI_raw_DSC\" raw'\n",
    "eval $command_raw\n",
    "\n",
    "command_topup='bash scripts/EPI_perfusion_anal_nICE_prepare_dir.sh \n",
    "            \"'$corrections_base_directory'/EPI_applytopup\" topup'\n",
    "eval $command_topup\n",
    "\n",
    "command_epic='bash scripts/EPI_perfusion_anal_nICE_prepare_dir.sh \n",
    "            \"'$corrections_base_directory'/EPI_applyepic\" epic'\n",
    "eval $command_epic"
   ]
  },
  {
   "cell_type": "markdown",
   "metadata": {},
   "source": [
    "A directory suited for NordicICE Batch Perfusion Analysis should now have been created:\n",
    "\n",
    "corrections_base_directory/EPI_for_nICE_batch_perfusion_analysis\n",
    "\n",
    "that contains raw, topup and epic corrected DSC files."
   ]
  },
  {
   "cell_type": "markdown",
   "metadata": {},
   "source": [
    "6. nICE BPA is run. Let most of the settings to default settings. See scripts/nICE batch_perfusion_example.PNG . The only change in Main settings from this nICE version (4.0) was to remove the text \"prefix_\" in the \"Output image prefix:\" box. Only rCBV is analysed further, so only rCBV needs to be ticked. Under AIF, check off No AIF. Under option, under Normalization tick Normalize CBV and CBF. Under Leakage correction, tick Apply leakage (extravasation) correction. Under Signal conversion, Signal conversion type is \"SI to delR2\"."
   ]
  },
  {
   "cell_type": "markdown",
   "metadata": {},
   "source": [
    "![title](../scripts/nICE_batch_perfusion_example.PNG)"
   ]
  },
  {
   "cell_type": "markdown",
   "metadata": {},
   "source": [
    "nICE should now have created a Perf folder within each of the random number named folders in EPI_for_nICE_batch_perfusion_analysis ."
   ]
  },
  {
   "cell_type": "markdown",
   "metadata": {},
   "source": [
    "7. The commands in the following cell copy back images in Perf folders to repsective *perf folders within EPI_raw_DSC, EPI_applytopup and EPI_applyepic ."
   ]
  },
  {
   "cell_type": "code",
   "execution_count": 12,
   "metadata": {},
   "outputs": [],
   "source": [
    "%%bash -s \"$epi_corrections_root_directory\" \"$corrections_base_directory\"\n",
    "epi_corrections_root_director=$1\n",
    "corrections_base_directory=$2\n",
    "cd $epi_corrections_root_director\n",
    "\n",
    "command_raw='bash scripts/EPI_perfusion_anal_nICE_prepare_copy_back.sh \n",
    "            \"'$corrections_base_directory'/EPI_raw_DSC\"'\n",
    "eval $command_raw\n",
    "\n",
    "command_topup='bash scripts/EPI_perfusion_anal_nICE_prepare_copy_back.sh \n",
    "            \"'$corrections_base_directory'/EPI_applytopup\"'\n",
    "eval $command_topup\n",
    "\n",
    "command_epic='bash scripts/EPI_perfusion_anal_nICE_prepare_copy_back.sh \n",
    "            \"'$corrections_base_directory'/EPI_applyepic\"'\n",
    "eval $command_epic"
   ]
  },
  {
   "cell_type": "markdown",
   "metadata": {},
   "source": [
    "#### Matlab SPM coregistration + MNI normalization\n",
    "8. som_pipeline/coreg_norm_images.m is run to perform coregistration (to FLAIR 3D) (again, but now using SPM) and MNI normalization of raw, TOPUP and EPIC corrected EPIs, off-resonance fields (TOPUP), displacement fields (EPIC), as well as associated Normalized Relative CBV maps from BPA (not the the orther Perfusion images). Verify that epi_corrections_out_dir in ../spm_pipeline/coreg_norm_images.m is set to the correct directory then run:"
   ]
  },
  {
   "cell_type": "code",
   "execution_count": 13,
   "metadata": {},
   "outputs": [],
   "source": [
    "%%bash -s \"$epi_corrections_root_directory\" \"$corrections_base_directory\" \"$output_directory_suffix\"\n",
    "epi_corrections_root_directory=$1\n",
    "corrections_base_directory=../$2\n",
    "output_directory_suffix=$3\n",
    "\n",
    "spm_path=/media/loek/HDD3TB1/apps/spm12 # This needs to be changed\n",
    "cd $epi_corrections_root_directory\n",
    "pipeline_report_file=$2/pipeline_report_spm_$output_directory_suffix.txt\n",
    "run_command='matlab \n",
    "                -nodisplay \n",
    "                -nosplash \n",
    "                -nodesktop \n",
    "                -r \"cd('\"'spm_pipeline'\"'); \n",
    "                    addpath('\"'$spm_path'\"'); \n",
    "                    myCluster = parcluster; \n",
    "                    myCluster.NumWorkers = 6; \n",
    "                    saveProfile(myCluster); \n",
    "                    parpool(6); \n",
    "                    coreg_norm_images('\"'$corrections_base_directory'\"'); \n",
    "                    exit;\" \n",
    "                2>&1 | tee -a $pipeline_report_file'\n",
    "eval $run_command"
   ]
  },
  {
   "cell_type": "markdown",
   "metadata": {},
   "source": [
    "To see the log, run from corrections_base_directory\n",
    "\n",
    "tail -f pipeline_report_spm*.txt"
   ]
  },
  {
   "cell_type": "markdown",
   "metadata": {},
   "source": [
    "https://se.mathworks.com/matlabcentral/answers/72661-starting-multiple-workers-from-the-command-prompt\n",
    "\n",
    "https://se.mathworks.com/help/parallel-computing/run-code-on-parallel-pools.html"
   ]
  },
  {
   "cell_type": "markdown",
   "metadata": {},
   "source": [
    "#### Visualize rCBV on top of MNI regions\n",
    "9. Follow the steps in render-frames.ipynb . This notebook must be run from a jupyter notebook server with graphical environment, fsleyes and ffmpeg installed. __Note:__ One step in the notebook replaces spaces in folders and file names in corrections_base_directory/EPI_raw_DSC, corrections_base_directory/EPI_applytopup and corrections_base_directory/EPI_applyepic."
   ]
  },
  {
   "cell_type": "markdown",
   "metadata": {},
   "source": [
    "Note: All resliced label files are actually the same. A deducive check is below (see console output):"
   ]
  },
  {
   "cell_type": "code",
   "execution_count": 5,
   "metadata": {},
   "outputs": [],
   "source": [
    "%run checks.py"
   ]
  },
  {
   "cell_type": "code",
   "execution_count": 6,
   "metadata": {},
   "outputs": [
    {
     "name": "stdout",
     "output_type": "stream",
     "text": [
      "Equal number of detected label files for raw (uncorrected), topup, and epic correction methods: True\n",
      "Number of subject in each labels file: 45\n"
     ]
    }
   ],
   "source": [
    "raw_label_files_e1, \\\n",
    "topup_label_files_e1, \\\n",
    "epic_label_files_e1, \\\n",
    "raw_label_files_e2, \\\n",
    "topup_label_files_e2, \\\n",
    "epic_label_files_e2 = \\\n",
    "check_if_equal_number_of_label_files(corrections_base_directory)"
   ]
  },
  {
   "cell_type": "code",
   "execution_count": 7,
   "metadata": {},
   "outputs": [
    {
     "name": "stdout",
     "output_type": "stream",
     "text": [
      "All regions are identical for correction method: True\n",
      "All regions are identical for correction method: True\n",
      "All regions are identical for correction method: True\n",
      "All regions are identical for correction method: True\n",
      "All regions are identical for correction method: True\n",
      "All regions are identical for correction method: True\n"
     ]
    }
   ],
   "source": [
    "check_if_all_region_sets_are_identical_for_method(raw_label_files_e1)\n",
    "check_if_all_region_sets_are_identical_for_method(topup_label_files_e1)\n",
    "check_if_all_region_sets_are_identical_for_method(epic_label_files_e1)\n",
    "check_if_all_region_sets_are_identical_for_method(raw_label_files_e2)\n",
    "check_if_all_region_sets_are_identical_for_method(topup_label_files_e2)\n",
    "check_if_all_region_sets_are_identical_for_method(epic_label_files_e2)"
   ]
  },
  {
   "cell_type": "code",
   "execution_count": 8,
   "metadata": {},
   "outputs": [
    {
     "name": "stdout",
     "output_type": "stream",
     "text": [
      "All regions are equal for pair: True\n",
      "All regions are equal for pair: True\n",
      "All regions are equal for pair: True\n",
      "All regions are equal for pair: True\n",
      "All regions are equal for pair: True\n"
     ]
    }
   ],
   "source": [
    "check_if_two_region_sets_are_identical(raw_label_files_e1[0], topup_label_files_e1[0])\n",
    "check_if_two_region_sets_are_identical(topup_label_files_e1[0], epic_label_files_e1[0])\n",
    "check_if_two_region_sets_are_identical(epic_label_files_e1[0], raw_label_files_e2[0])\n",
    "check_if_two_region_sets_are_identical(raw_label_files_e2[0], topup_label_files_e2[0])\n",
    "check_if_two_region_sets_are_identical(topup_label_files_e2[0], epic_label_files_e2[0])"
   ]
  },
  {
   "cell_type": "code",
   "execution_count": 9,
   "metadata": {},
   "outputs": [
    {
     "data": {
      "text/plain": [
       "'../../epi_corrections_out_2019_07_02/EPI_raw_DSC/Anonymized/DEFACED_IVS/372114315/DAY_0000/No_DeFacing_GE-SE_EPI_SSH_v1_32CH_V2_scan/r_e1_labels_Neuromorphometrics.nii'"
      ]
     },
     "execution_count": 9,
     "metadata": {},
     "output_type": "execute_result"
    }
   ],
   "source": [
    "# Based on the results, this file is used in correction_assessment_part_3.ipynb as image defining space when reslicing tumor segments\n",
    "raw_label_files_e1[0]"
   ]
  },
  {
   "cell_type": "markdown",
   "metadata": {},
   "source": [
    "#### Calculate MNI CBV region histograms\n",
    "10. This step assumes that spaces in folders and file names were replaced with underscore as described in 9. Run:"
   ]
  },
  {
   "cell_type": "code",
   "execution_count": 2,
   "metadata": {},
   "outputs": [
    {
     "data": {
      "text/plain": [
       "'../epi_corrections_out_2019_07_02_tumor_exluded_from_rcbv'"
      ]
     },
     "execution_count": 2,
     "metadata": {},
     "output_type": "execute_result"
    }
   ],
   "source": [
    "#\"\"\"\n",
    "# If excluding tumors\n",
    "output_directory_suffix = \"2019_07_02_tumor_exluded_from_rcbv\"\n",
    "corrections_base_directory = \"../epi_corrections_out_\" + output_directory_suffix\n",
    "corrections_base_directory\n",
    "#\"\"\""
   ]
  },
  {
   "cell_type": "code",
   "execution_count": 10,
   "metadata": {},
   "outputs": [],
   "source": [
    "%%bash -s \"$epi_corrections_root_directory\" \"$corrections_base_directory\" \"$output_directory_suffix\"\n",
    "epi_corrections_root_directory=$1\n",
    "corrections_base_directory=../$2\n",
    "output_directory_suffix=$3\n",
    "hist_num_bins=64\n",
    "hist_min_value=0\n",
    "hist_max_value=12\n",
    "region_req_covered_perc=70\n",
    "min_roi_region=30\n",
    "cd $epi_corrections_root_directory\n",
    "pipeline_report_file=$2/pipeline_report_spm_$output_directory_suffix.txt\n",
    "run_command='matlab \n",
    "                -nojvm \n",
    "                -nodisplay \n",
    "                -nosplash \n",
    "                -nodesktop \n",
    "                -r \"cd('\"'spm_pipeline'\"'); \n",
    "                    compute_and_save_CBV_region_histograms('\"'$corrections_base_directory'\"', $hist_num_bins, $hist_min_value, $hist_max_value, $region_req_covered_perc, $min_roi_region); \n",
    "                    exit;\" \n",
    "                2>&1 | tee -a $pipeline_report_file'\n",
    "eval $run_command"
   ]
  },
  {
   "cell_type": "markdown",
   "metadata": {},
   "source": [
    "To see the log, run from corrections_base_directory\n",
    "\n",
    "tail -f pipeline_report_spm*.txt"
   ]
  },
  {
   "cell_type": "markdown",
   "metadata": {},
   "source": [
    "__NOTE:__ This command assumes that there exist a (resliced to DSC voxel resolution) rlabels_Neuromorphometrics.nii in corrections_base_directory from previous step (8.)"
   ]
  },
  {
   "cell_type": "markdown",
   "metadata": {},
   "source": [
    "Matlab .mat files of MNI region histograms should now be saved to `<corrections_base_directory>`/CBV_histograms ."
   ]
  },
  {
   "cell_type": "markdown",
   "metadata": {},
   "source": [
    "http://mmcdan.github.io/posts/interacting-with-the-shell-via-jupyter-notebook/"
   ]
  },
  {
   "cell_type": "markdown",
   "metadata": {},
   "source": [
    "Note, for version that exluded tumors in the histogram analysis:\n",
    "```bash\n",
    "find . -type d > ../epi_corrections_out_2019_07_02_tum\n",
    "or_exluded_from_rcbv/orig-dirs.txt\n",
    "\n",
    "xargs mkdir -p <orig-dirs.txt\n",
    "\n",
    "find . -type f | grep wr_coregest_Normalized_rCBV_map_-Leakage_corrected.nii | xargs -I file cp -v file ../epi_corrections_out_2019_07_02_tumor_exluded_from_rcbv/file\n",
    "\n",
    "find . -type f | grep r_e1_labels_Neuromorphometrics.nii | xargs -I file cp -v file ../epi_corrections_out_2019_07_02_tumor_exluded_from_rcbv/file\n",
    "\n",
    "find . -type f | grep r_e2_labels_Neuromorphometrics.nii | xargs -I file cp -v file ../epi_corrections_out_2019_07_02_tumor_exluded_from_rcbv/file\n",
    "\n",
    "# For the case with left-right merged regions Neuromorphometrics file:\n",
    "\n",
    "find . -type f | grep r_e1_labels_Neuromorphometrics_lrmerged.nii | xargs -I file cp -v file ../epi_corrections_out_2019_07_02_tumor_exluded_from_rcbv/file\n",
    "\n",
    "find . -type f | grep r_e2_labels_Neuromorphometrics_lrmerged.nii | xargs -I file cp -v file ../epi_corrections_out_2019_07_02_tumor_exluded_from_rcbv/file\n",
    "\n",
    "find . -type f | grep rSegmentation.nii | xargs -I file cp -v file ../epi_corrections_out_2019_07_02_tumor_exluded_from_rcbv/file\n",
    "\n",
    "# Tool: Only copy over dicom directories using folder keyword \"epi\", preserving directory structure and .dcm files\n",
    "bash scripts/collect_folders_with_keyword_same_folder_structure.sh \"../DICOM_no_spaces\" \"../DICOM_EPI_no_spaces\" \"epi\"\n",
    "```"
   ]
  }
 ],
 "metadata": {
  "kernelspec": {
   "display_name": "Python 3",
   "language": "python",
   "name": "python3"
  },
  "language_info": {
   "codemirror_mode": {
    "name": "ipython",
    "version": 3
   },
   "file_extension": ".py",
   "mimetype": "text/x-python",
   "name": "python",
   "nbconvert_exporter": "python",
   "pygments_lexer": "ipython3",
   "version": "3.6.8"
  }
 },
 "nbformat": 4,
 "nbformat_minor": 2
}
