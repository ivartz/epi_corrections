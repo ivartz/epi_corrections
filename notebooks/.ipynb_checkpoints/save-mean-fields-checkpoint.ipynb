{
 "cells": [
  {
   "cell_type": "markdown",
   "metadata": {},
   "source": [
    "This notebook contains code for computing mean fields for GE TOPUP, GE EPIC, SE TOPUP and SE EPIC and saving them to file."
   ]
  },
  {
   "cell_type": "markdown",
   "metadata": {},
   "source": [
    "1. Specify epi_corrections output directory"
   ]
  },
  {
   "cell_type": "code",
   "execution_count": 312,
   "metadata": {},
   "outputs": [
    {
     "data": {
      "text/plain": [
       "'../../epi_corrections_out_2019_07_02'"
      ]
     },
     "execution_count": 312,
     "metadata": {},
     "output_type": "execute_result"
    }
   ],
   "source": [
    "output_directory_suffix = \"2019_07_02\"\n",
    "# On local file system:\n",
    "corrections_base_directory = \"../../epi_corrections_out_\" + output_directory_suffix\n",
    "# On samba share (remote file sytem):\n",
    "#corrections_base_directory = \"/run/user/1000/gvfs/smb-share:server=192.168.1.207,share=hdd3tb1/data/IVS_EPI_BASELINE/epi_corrections_out_\" + output_directory_suffix\n",
    "corrections_base_directory"
   ]
  },
  {
   "cell_type": "markdown",
   "metadata": {},
   "source": [
    "2. Find the MNI-normalized, NordicICE intensity Normalized Relative CBV files. Can be done remotely."
   ]
  },
  {
   "cell_type": "code",
   "execution_count": 313,
   "metadata": {},
   "outputs": [],
   "source": [
    "from search import find_field_files\n",
    "\n",
    "[topup_field_files_e1, \\\n",
    " epic_field_files_e1, \\\n",
    " topup_field_files_e2, \\\n",
    " epic_field_files_e2] = find_field_files(corrections_base_directory)"
   ]
  },
  {
   "cell_type": "code",
   "execution_count": 314,
   "metadata": {},
   "outputs": [
    {
     "name": "stdout",
     "output_type": "stream",
     "text": [
      "Equal number of detected field files for topup, and epic correction methods: True\n",
      "Number of subject field files: 45\n"
     ]
    }
   ],
   "source": [
    "# A check\n",
    "print(\"Equal number of detected field files for topup, and epic correction methods: %r\" % \\\n",
    "      (len(topup_field_files_e1) == \\\n",
    "       len(topup_field_files_e2) == \\\n",
    "       len(epic_field_files_e1) == \\\n",
    "       len(epic_field_files_e2)))\n",
    "print(\"Number of subject field files: %i\" % len(topup_field_files_e1))"
   ]
  },
  {
   "cell_type": "markdown",
   "metadata": {},
   "source": [
    "3. Create brain mask"
   ]
  },
  {
   "cell_type": "code",
   "execution_count": 315,
   "metadata": {},
   "outputs": [],
   "source": [
    "%run utils.py"
   ]
  },
  {
   "cell_type": "code",
   "execution_count": 316,
   "metadata": {},
   "outputs": [],
   "source": [
    "labels_path = \"../../epi_corrections_out_2019_07_02/EPI_applyepic/Anonymized/DEFACED_IVS/1767888627/DAY_0000/No_DeFacing_GE-SE_EPI_SSH_v1_32CH_V2_scan/r_e1_labels_Neuromorphometrics.nii\"\n",
    "labels_data, _, _ = load_nifti(str(labels_path))\n",
    "brain_mask = labels_data != 0"
   ]
  },
  {
   "cell_type": "markdown",
   "metadata": {},
   "source": [
    "4. Compute means and medians"
   ]
  },
  {
   "cell_type": "code",
   "execution_count": 317,
   "metadata": {},
   "outputs": [
    {
     "name": "stdout",
     "output_type": "stream",
     "text": [
      "Equal number of detected field files for topup, and epic correction methods: True\n",
      "Number of subject field files: 44\n"
     ]
    }
   ],
   "source": [
    "# Remove an outliner field from the e2 topup fields\n",
    "epic_field_files_e2 = [file for file in epic_field_files_e2 if not \"930987463\" in file]\n",
    "\n",
    "# Remove the corresponding field from the other fields to have a valid comparison\n",
    "epic_field_files_e1 = [file for file in epic_field_files_e1 if not \"930987463\" in file]\n",
    "\n",
    "topup_field_files_e1 = [file for file in topup_field_files_e1 if not \"930987463\" in file]\n",
    "topup_field_files_e2 = [file for file in topup_field_files_e2 if not \"930987463\" in file]\n",
    "\n",
    "# A check\n",
    "print(\"Equal number of detected field files for topup, and epic correction methods: %r\" % \\\n",
    "      (len(topup_field_files_e1) == \\\n",
    "       len(topup_field_files_e2) == \\\n",
    "       len(epic_field_files_e1) == \\\n",
    "       len(epic_field_files_e2)))\n",
    "print(\"Number of subject field files: %i\" % len(topup_field_files_e1))"
   ]
  },
  {
   "cell_type": "code",
   "execution_count": 318,
   "metadata": {},
   "outputs": [],
   "source": [
    "mean_fields_rel_odir = corrections_base_directory + \"/render_fields\"\n",
    "\n",
    "tm1file = mean_fields_rel_odir + \"/\" + \"topup_field_files_e1_mean.nii\"\n",
    "tm2file = mean_fields_rel_odir + \"/\" + \"topup_field_files_e2_mean.nii\"\n",
    "em1file = mean_fields_rel_odir + \"/\" + \"epic_field_files_e1_mean.nii\"\n",
    "em2file = mean_fields_rel_odir + \"/\" + \"epic_field_files_e2_mean.nii\"\n",
    "\n",
    "tm1 = combine_and_compute_mean(topup_field_files_e1, brain_mask)\n",
    "nib.save(tm1, tm1file)\n",
    "tm2 = combine_and_compute_mean(topup_field_files_e2, brain_mask)\n",
    "nib.save(tm2, tm2file)\n",
    "em1 = combine_and_compute_mean(epic_field_files_e1, brain_mask)\n",
    "nib.save(em1, em1file)\n",
    "em2 = combine_and_compute_mean(epic_field_files_e2, brain_mask)\n",
    "nib.save(em2, em2file)"
   ]
  },
  {
   "cell_type": "code",
   "execution_count": 319,
   "metadata": {},
   "outputs": [
    {
     "name": "stderr",
     "output_type": "stream",
     "text": [
      "/home/loek/anaconda3/lib/python3.6/site-packages/numpy/lib/function_base.py:3250: RuntimeWarning: Invalid value encountered in median for 384813 results\n",
      "  r = func(a, **kwargs)\n"
     ]
    }
   ],
   "source": [
    "median_fields_rel_odir = corrections_base_directory + \"/render_fields\"\n",
    "\n",
    "tm1file = median_fields_rel_odir + \"/\" + \"topup_field_files_e1_median.nii\"\n",
    "tm2file = median_fields_rel_odir + \"/\" + \"topup_field_files_e2_median.nii\"\n",
    "em1file = median_fields_rel_odir + \"/\" + \"epic_field_files_e1_median.nii\"\n",
    "em2file = median_fields_rel_odir + \"/\" + \"epic_field_files_e2_median.nii\"\n",
    "\n",
    "tm1 = combine_and_compute_median(topup_field_files_e1, brain_mask)\n",
    "nib.save(tm1, tm1file)\n",
    "tm1 = combine_and_compute_median(topup_field_files_e2, brain_mask)\n",
    "nib.save(tm2, tm2file)\n",
    "em1 = combine_and_compute_median(epic_field_files_e1, brain_mask)\n",
    "nib.save(em1, em1file)\n",
    "em2 = combine_and_compute_median(epic_field_files_e2, brain_mask)\n",
    "nib.save(em2, em2file)"
   ]
  },
  {
   "cell_type": "code",
   "execution_count": null,
   "metadata": {},
   "outputs": [],
   "source": []
  }
 ],
 "metadata": {
  "kernelspec": {
   "display_name": "Python 3",
   "language": "python",
   "name": "python3"
  },
  "language_info": {
   "codemirror_mode": {
    "name": "ipython",
    "version": 3
   },
   "file_extension": ".py",
   "mimetype": "text/x-python",
   "name": "python",
   "nbconvert_exporter": "python",
   "pygments_lexer": "ipython3",
   "version": "3.6.8"
  }
 },
 "nbformat": 4,
 "nbformat_minor": 4
}
