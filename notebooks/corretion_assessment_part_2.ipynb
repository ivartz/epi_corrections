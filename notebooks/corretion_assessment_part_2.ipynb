{
 "cells": [
  {
   "cell_type": "markdown",
   "metadata": {},
   "source": [
    "# Evaluating effects of FSL TOPUP and EPIC\n",
    "..on individual MNI regions provided by Neuromorphometrics, Inc. (http://Neuromorphometrics.com/)\n",
    "# Part 2: Comparing MNI region histograms."
   ]
  },
  {
   "cell_type": "code",
   "execution_count": 1,
   "metadata": {},
   "outputs": [],
   "source": [
    "hist_num_bins = 64;\n",
    "hist_min_value = 0;\n",
    "hist_max_value = 6;\n",
    "\n",
    "corrections_base_directory = \"../../epi_corrections_out_2019_07_02\"\n",
    "CBV_out_dir = corrections_base_directory + \"/\" + \"CBV_histograms_bins_\" + \\\n",
    "    str(hist_num_bins) + \"_min_\" + str(hist_min_value) + \"_max_\" + str(hist_max_value);\n",
    "\n",
    "# Library for loading Matlab .mat files.\n",
    "from scipy.io import loadmat\n",
    "\n",
    "# Loading CBV ROI histograms.\n",
    "region_values = loadmat(CBV_out_dir + \"/\" + \"region_values.mat\")[\"region_values\"]\n",
    "hist_edges = loadmat(CBV_out_dir + \"/\" + \"hist_edges.mat\")[\"hist_edges\"]\n",
    "\n",
    "raw_e1_CBV_region_histograms = \\\n",
    "loadmat(CBV_out_dir + \"/\" + \"raw_e1_CBV_region_histograms.mat\")[\"raw_e1_CBV_region_histograms\"]\n",
    "raw_e1_CBV_dirs = \\\n",
    "loadmat(CBV_out_dir + \"/\" + \"raw_e1_CBV_dirs.mat\")[\"raw_e1_CBV_dirs\"]\n",
    "raw_e2_CBV_region_histograms = \\\n",
    "loadmat(CBV_out_dir + \"/\" + \"raw_e2_CBV_region_histograms.mat\")[\"raw_e2_CBV_region_histograms\"]\n",
    "raw_e2_CBV_dirs = \\\n",
    "loadmat(CBV_out_dir + \"/\" + \"raw_e2_CBV_dirs.mat\")[\"raw_e2_CBV_dirs\"]\n",
    "\n",
    "topup_e1_CBV_region_histograms = \\\n",
    "loadmat(CBV_out_dir + \"/\" + \"topup_e1_CBV_region_histograms.mat\")[\"topup_e1_CBV_region_histograms\"]\n",
    "topup_e1_CBV_dirs = \\\n",
    "loadmat(CBV_out_dir + \"/\" + \"topup_e1_CBV_dirs.mat\")[\"topup_e1_CBV_dirs\"]\n",
    "topup_e2_CBV_region_histograms = \\\n",
    "loadmat(CBV_out_dir + \"/\" + \"topup_e2_CBV_region_histograms.mat\")[\"topup_e2_CBV_region_histograms\"]\n",
    "topup_e2_CBV_dirs = \\\n",
    "loadmat(CBV_out_dir + \"/\" + \"topup_e2_CBV_dirs.mat\")[\"topup_e2_CBV_dirs\"]\n",
    "\n",
    "epic_e1_CBV_region_histograms = \\\n",
    "loadmat(CBV_out_dir + \"/\" + \"epic_e1_CBV_region_histograms.mat\")[\"epic_e1_CBV_region_histograms\"]\n",
    "epic_e1_CBV_dirs = \\\n",
    "loadmat(CBV_out_dir + \"/\" + \"epic_e1_CBV_dirs.mat\")[\"epic_e1_CBV_dirs\"]\n",
    "epic_e2_CBV_region_histograms = \\\n",
    "loadmat(CBV_out_dir + \"/\" + \"epic_e2_CBV_region_histograms.mat\")[\"epic_e2_CBV_region_histograms\"]\n",
    "epic_e2_CBV_dirs = \\\n",
    "loadmat(CBV_out_dir + \"/\" + \"epic_e2_CBV_dirs.mat\")[\"epic_e2_CBV_dirs\"]"
   ]
  },
  {
   "cell_type": "markdown",
   "metadata": {},
   "source": [
    "Have a look at the raw data again"
   ]
  },
  {
   "cell_type": "code",
   "execution_count": 2,
   "metadata": {},
   "outputs": [
    {
     "name": "stdout",
     "output_type": "stream",
     "text": [
      "Equal number of subjects for raw, topup and epic data: True\n"
     ]
    }
   ],
   "source": [
    "print(\"Equal number of subjects for raw, topup and epic data: %r\" % \\\n",
    "      (len(raw_e1_CBV_region_histograms) == \n",
    "       len(raw_e2_CBV_region_histograms) == \\\n",
    "       len(topup_e1_CBV_region_histograms) == \\\n",
    "       len(topup_e2_CBV_region_histograms) == \\\n",
    "       len(epic_e1_CBV_region_histograms) == \\\n",
    "       len(epic_e2_CBV_region_histograms)))"
   ]
  },
  {
   "cell_type": "code",
   "execution_count": 3,
   "metadata": {},
   "outputs": [
    {
     "name": "stdout",
     "output_type": "stream",
     "text": [
      "Number of subjects: 45\n"
     ]
    }
   ],
   "source": [
    "import numpy as np\n",
    "num_subjects = len(raw_e1_CBV_region_histograms)\n",
    "print(\"Number of subjects: %i\" % num_subjects)"
   ]
  },
  {
   "cell_type": "markdown",
   "metadata": {},
   "source": [
    "Select a random rCBV (Gradient or Spin Echo based) from a random correction method (raw, topup or epic) from a random subject. \n",
    "\n",
    "Display the random selection as well as the associated cbv file and labels file."
   ]
  },
  {
   "cell_type": "code",
   "execution_count": 4,
   "metadata": {},
   "outputs": [],
   "source": [
    "from pathlib import Path"
   ]
  },
  {
   "cell_type": "code",
   "execution_count": 5,
   "metadata": {},
   "outputs": [
    {
     "name": "stdout",
     "output_type": "stream",
     "text": [
      "Selected subject: 0\n",
      "Selected correction method: epic\n",
      "Selected rCBV based on: e2\n",
      "----\n",
      "The cbv file is:\n",
      "\n",
      "/run/user/1000/gvfs/smb-share:server=192.168.1.207,share=hdd3tb1/data/IVS_EPI_BASELINE/epi_corrections_out_2019_07_02/EPI_applyepic/Anonymized/DEFACED_IVS/1099269047/DAY_0000/No_DeFacing_GE-SE_EPI_SSH_v1_32CH_V2_scan/100458_GE-SE_EPI_SSH_v1_32CH_V2_scan_1001_e2_applyepic_perf/wr_coregest_Normalized_rCBV_map_-Leakage_corrected.nii\n",
      "\n",
      "The labels file is:\n",
      "\n",
      "/run/user/1000/gvfs/smb-share:server=192.168.1.207,share=hdd3tb1/data/IVS_EPI_BASELINE/epi_corrections_out_2019_07_02/EPI_applyepic/Anonymized/DEFACED_IVS/1099269047/DAY_0000/No_DeFacing_GE-SE_EPI_SSH_v1_32CH_V2_scan/r_e2_labels_Neuromorphometrics.nii\n",
      "\n"
     ]
    }
   ],
   "source": [
    "subject_number = np.random.randint(0, num_subjects)\n",
    "print(\"Selected subject: %i\" % subject_number)\n",
    "correction_methods = [\"raw\", \"topup\", \"epic\"]\n",
    "correction_method = correction_methods[np.random.randint(0, len(correction_methods))]\n",
    "print(\"Selected correction method: %s\" % correction_method)\n",
    "cbv_based_on_list = [\"e1\", \"e2\"]\n",
    "cbv_based_on = cbv_based_on_list[np.random.randint(0, len(cbv_based_on_list))]\n",
    "print(\"Selected rCBV based on: %s\" % cbv_based_on)\n",
    "d_remote = Path(eval(correction_method + \"_\" + cbv_based_on + \"_CBV_dirs\")[0][subject_number][0])\n",
    "# https://stackoverflow.com/questions/26724275/removing-the-first-folder-in-a-path\n",
    "d = Path.joinpath(Path.cwd().parent.parent, *d_remote.parts[6:])\n",
    "cbv_path = Path.joinpath(d, \"wr_coregest_Normalized_rCBV_map_-Leakage_corrected.nii\")\n",
    "labels_path = d.joinpath(d.parent, \"r_\" + cbv_based_on + \"_labels_Neuromorphometrics.nii\")\n",
    "print(\"----\")\n",
    "print(\"The cbv file is:\\n\\n%s\\n\" % str(cbv_path))\n",
    "print(\"The labels file is:\\n\\n%s\\n\" % str(labels_path))"
   ]
  },
  {
   "cell_type": "code",
   "execution_count": 6,
   "metadata": {},
   "outputs": [
    {
     "name": "stdout",
     "output_type": "stream",
     "text": [
      "Contents of spimagine MNI rCBV:\n",
      "\n",
      "MNI rCBV subj 1099269047 (0) epic e2\n",
      "\n"
     ]
    }
   ],
   "source": [
    "ID = cbv_path.parts[12] # NB: Very hardcoded\n",
    "title_spim = \"MNI rCBV subj %s (%i) %s %s\" % (ID, subject_number, correction_method, cbv_based_on)\n",
    "print(\"Contents of spimagine MNI rCBV:\\n\\n%s\\n\" % title_spim)"
   ]
  },
  {
   "cell_type": "code",
   "execution_count": 7,
   "metadata": {},
   "outputs": [],
   "source": [
    "%run utils.py\n",
    "%run visualiztion.py"
   ]
  },
  {
   "cell_type": "code",
   "execution_count": 8,
   "metadata": {},
   "outputs": [],
   "source": [
    "# Use qt5 as gui backend, for spimagine\n",
    "%gui qt5"
   ]
  },
  {
   "cell_type": "code",
   "execution_count": 9,
   "metadata": {},
   "outputs": [],
   "source": [
    "cbv_data, cbv_dims, cbv_hdr = load_nifti(str(cbv_path))\n",
    "cbv_data[np.isnan(cbv_data)] = 0\n",
    "cbv_data = xyz_to_zyx(cbv_data)\n",
    "spimagine_show_volume_numpy(cbv_data, stackUnits=cbv_dims, interpolation=\"linear\", cmap=\"hot\")"
   ]
  },
  {
   "cell_type": "code",
   "execution_count": 10,
   "metadata": {},
   "outputs": [],
   "source": [
    "labels_data, labels_dims, labels_hdr = load_nifti(str(labels_path))\n",
    "#cbv_data[np.isnan(cbv_data)] = 0\n",
    "labels_data = xyz_to_zyx(labels_data)\n",
    "spimagine_show_volume_numpy(labels_data, stackUnits=labels_dims, interpolation=\"nearest\")"
   ]
  },
  {
   "cell_type": "markdown",
   "metadata": {},
   "source": [
    "Visualize the outlier areas based on outlier histograms of the selected sample"
   ]
  },
  {
   "cell_type": "code",
   "execution_count": 11,
   "metadata": {},
   "outputs": [],
   "source": [
    "import pandas as pd\n",
    "cbv_hists = pd.DataFrame(\\\n",
    "                      data=eval(correction_method + \"_\" + cbv_based_on + \"_CBV_region_histograms\")[subject_number], \\\n",
    "                      index=region_values.flatten(), \\\n",
    "                      columns=hist_edges[0][:-1])\n",
    "def drop_outlier_columns(df):\n",
    "    mask_above_treshold = df > df.mean()\n",
    "    rows_num_colums_above_treshold = mask_above_treshold[mask_above_treshold].transpose().count()\n",
    "    rows_to_drop = rows_num_colums_above_treshold[rows_num_colums_above_treshold > 0.9*64].index\n",
    "    return df.drop(rows_to_drop)\n",
    "cbv_hists_clean = drop_outlier_columns(cbv_hists)\n",
    "for n in np.array(cbv_hists_clean.index):\n",
    "    labels_data[labels_data == n] = 0\n",
    "spimagine_show_volume_numpy(labels_data, stackUnits=labels_dims, interpolation=\"nearest\")"
   ]
  },
  {
   "cell_type": "markdown",
   "metadata": {},
   "source": [
    "spimagine render 6 second 60fps video:\n",
    "\n",
    "Number frames: 360\n",
    "\n",
    "record delay: 16\n",
    "\n",
    "Blur sx sy sz 1 1 1\n",
    "\n",
    "Transcode rendered images to PowerPoint compatible H.264 video with\n",
    "\n",
    "ffmpeg -framerate 60 -i output_%03d.png -vf \"pad=ceil(iw/2)*2:ceil(ih/2)*2\" -c:v libx264 -preset slow -profile:v high -level:v 4.0 -pix_fmt yuv420p -crf 22 2019_07_02_1778076422_EPIC_e1_nrCBV.mp4"
   ]
  },
  {
   "cell_type": "markdown",
   "metadata": {},
   "source": [
    "Look at histograms for the fist subject"
   ]
  },
  {
   "cell_type": "code",
   "execution_count": 12,
   "metadata": {},
   "outputs": [],
   "source": [
    "import pandas as pd\n",
    "import matplotlib\n",
    "#matplotlib.use('Qt5Agg')\n",
    "%matplotlib qt5\n",
    "#%matplotlib notebook\n",
    "#%matplotlib widget\n",
    "import matplotlib.pyplot as plt"
   ]
  },
  {
   "cell_type": "code",
   "execution_count": 13,
   "metadata": {},
   "outputs": [],
   "source": [
    "#matplotlib.pyplot.switch_backend(\"Qt5Agg\")"
   ]
  },
  {
   "cell_type": "markdown",
   "metadata": {},
   "source": [
    "Raw histograms from one random sample"
   ]
  },
  {
   "cell_type": "code",
   "execution_count": 14,
   "metadata": {},
   "outputs": [
    {
     "data": {
      "text/plain": [
       "Text(0.5, 0.98, 'MNI rCBV 1099269047 epic')"
      ]
     },
     "execution_count": 14,
     "metadata": {},
     "output_type": "execute_result"
    }
   ],
   "source": [
    "fig = plt.figure(figsize=np.array([6.4*0.8, 4.8*0.8]))\n",
    "\n",
    "cbv_hists_e1 = pd.DataFrame(\\\n",
    "                      data=eval(correction_method + \"_e1_CBV_region_histograms\")[subject_number], \\\n",
    "                      index=region_values.flatten(), \\\n",
    "                      columns=hist_edges[0][:-1])\n",
    "cbv_hists_e2 = pd.DataFrame(\\\n",
    "                      data=eval(correction_method + \"_e2_CBV_region_histograms\")[subject_number], \\\n",
    "                      index=region_values.flatten(), \\\n",
    "                      columns=hist_edges[0][:-1])\n",
    "ax1 = fig.add_subplot(2, 1, 1)\n",
    "ax1.yaxis.set_label_position(\"right\")\n",
    "ax1.set_ylabel(\"e1\")\n",
    "ax1.plot(cbv_hists_e1.transpose());\n",
    "plt.subplots_adjust(hspace = 0.001)\n",
    "ax2 = fig.add_subplot(2, 1, 2)\n",
    "ax2.yaxis.set_label_position(\"right\")\n",
    "ax2.set_ylabel(\"e2\")\n",
    "ax2.plot(cbv_hists_e2.transpose());\n",
    "plt.subplots_adjust(hspace = 0.001)\n",
    "\n",
    "title = \"MNI rCBV %s %s\" % (ID, correction_method)\n",
    "\n",
    "fig.suptitle(title)"
   ]
  },
  {
   "cell_type": "markdown",
   "metadata": {},
   "source": [
    "Mean, median and std plot of the same histograms"
   ]
  },
  {
   "cell_type": "code",
   "execution_count": 15,
   "metadata": {},
   "outputs": [
    {
     "data": {
      "text/plain": [
       "Text(0.5, 0.98, 'MNI rCBV 1099269047 epic')"
      ]
     },
     "execution_count": 15,
     "metadata": {},
     "output_type": "execute_result"
    }
   ],
   "source": [
    "plt.figure()\n",
    "cbv_hists_e1.mean().plot()\n",
    "cbv_hists_e1.median().plot()\n",
    "cbv_hists_e1.std().plot()\n",
    "cbv_hists_e2.mean().plot()\n",
    "cbv_hists_e2.median().plot()\n",
    "cbv_hists_e2.std().plot()\n",
    "plt.legend((\"cbv_hists_e1 mean\", \"cbv_hists_e1 median\", \"cbv_hists_e1 std\", \"cbv_hists_e2 mean\", \"cbv_hists_e2 median\", \"cbv_hists_e2 std\"))\n",
    "plt.suptitle(title)"
   ]
  },
  {
   "cell_type": "markdown",
   "metadata": {},
   "source": [
    "All histograms for the randomly pixed subject"
   ]
  },
  {
   "cell_type": "code",
   "execution_count": 16,
   "metadata": {},
   "outputs": [
    {
     "data": {
      "text/plain": [
       "Text(0.5, 0.98, 'MNI rCBV 1099269047')"
      ]
     },
     "execution_count": 16,
     "metadata": {},
     "output_type": "execute_result"
    }
   ],
   "source": [
    "raw_e1 = pd.DataFrame(\\\n",
    "                      data=raw_e1_CBV_region_histograms[subject_number], \\\n",
    "                      index=region_values.flatten(), \\\n",
    "                      columns=hist_edges[0][:-1])\n",
    "raw_e2 = pd.DataFrame(\\\n",
    "                    data=raw_e2_CBV_region_histograms[subject_number], \\\n",
    "                    index=region_values.flatten(), \\\n",
    "                    columns=hist_edges[0][:-1])\n",
    "topup_e1 = pd.DataFrame(\\\n",
    "                    data=topup_e1_CBV_region_histograms[subject_number], \\\n",
    "                    index=region_values.flatten(), \\\n",
    "                    columns=hist_edges[0][:-1])\n",
    "topup_e2 = pd.DataFrame(\\\n",
    "                    data=topup_e2_CBV_region_histograms[subject_number], \\\n",
    "                    index=region_values.flatten(), \\\n",
    "                    columns=hist_edges[0][:-1])\n",
    "epic_e1 = pd.DataFrame(\\\n",
    "                    data=epic_e1_CBV_region_histograms[subject_number], \\\n",
    "                    index=region_values.flatten(), \\\n",
    "                    columns=hist_edges[0][:-1])\n",
    "epic_e2 = pd.DataFrame(\\\n",
    "                    data=epic_e2_CBV_region_histograms[subject_number], \\\n",
    "                    index=region_values.flatten(), \\\n",
    "                    columns=hist_edges[0][:-1])\n",
    "\n",
    "fig = plt.figure(figsize=np.array([6.4*0.8*3, 4.8*0.8]))\n",
    "        \n",
    "ax1 = fig.add_subplot(2, 3, 1)\n",
    "ax1.yaxis.set_label_position(\"right\")\n",
    "ax1.set_ylabel(\"raw e1\")\n",
    "ax1.plot(raw_e1.transpose());\n",
    "plt.subplots_adjust(hspace = 0.001)\n",
    "\n",
    "ax2 = fig.add_subplot(2, 3, 4, sharex=ax1, sharey=ax1)\n",
    "ax2.yaxis.set_label_position(\"right\")\n",
    "ax2.set_ylabel(\"raw e2\")\n",
    "ax2.plot(raw_e2.transpose());\n",
    "plt.subplots_adjust(hspace = 0.001)\n",
    "\n",
    "ax3 = fig.add_subplot(2, 3, 2, sharex=ax1, sharey=ax1)\n",
    "ax3.yaxis.set_label_position(\"right\")\n",
    "ax3.set_ylabel(\"topup e1\")\n",
    "ax3.plot(topup_e1.transpose());\n",
    "plt.subplots_adjust(hspace = 0.001)\n",
    "\n",
    "ax4 = fig.add_subplot(2, 3, 5, sharex=ax1, sharey=ax1)\n",
    "ax4.yaxis.set_label_position(\"right\")\n",
    "ax4.set_ylabel(\"topup e2\")\n",
    "ax4.plot(topup_e1.transpose());\n",
    "plt.subplots_adjust(hspace = 0.001)\n",
    "\n",
    "ax5 = fig.add_subplot(2, 3, 3, sharex=ax1, sharey=ax1)\n",
    "ax5.yaxis.set_label_position(\"right\")\n",
    "ax5.set_ylabel(\"epic e1\")\n",
    "ax5.plot(epic_e1.transpose());\n",
    "plt.subplots_adjust(hspace = 0.001)\n",
    "\n",
    "ax6 = fig.add_subplot(2, 3, 6, sharex=ax1, sharey=ax1)\n",
    "ax6.yaxis.set_label_position(\"right\")\n",
    "ax6.set_ylabel(\"epic e2\")\n",
    "ax6.plot(epic_e1.transpose());\n",
    "plt.subplots_adjust(hspace = 0.001)\n",
    "\n",
    "#fig.subplots_adjust(left=None, bottom=None, right=None, top=None, wspace=None, hspace=None)\n",
    "#fig.tight_layout()\n",
    "\n",
    "title = \"MNI rCBV %s\" % ID\n",
    "\n",
    "fig.suptitle(title)"
   ]
  },
  {
   "cell_type": "code",
   "execution_count": 17,
   "metadata": {},
   "outputs": [
    {
     "data": {
      "text/plain": [
       "'MNI rCBV subj 1099269047 (0) epic e2'"
      ]
     },
     "execution_count": 17,
     "metadata": {},
     "output_type": "execute_result"
    },
    {
     "name": "stdout",
     "output_type": "stream",
     "text": [
      "active:  blur {'sigma': 4.0}\n"
     ]
    }
   ],
   "source": [
    "title_spim"
   ]
  },
  {
   "cell_type": "code",
   "execution_count": null,
   "metadata": {},
   "outputs": [],
   "source": []
  }
 ],
 "metadata": {
  "kernelspec": {
   "display_name": "Python (spimenv)",
   "language": "python",
   "name": "spimenv"
  },
  "language_info": {
   "codemirror_mode": {
    "name": "ipython",
    "version": 3
   },
   "file_extension": ".py",
   "mimetype": "text/x-python",
   "name": "python",
   "nbconvert_exporter": "python",
   "pygments_lexer": "ipython3",
   "version": "3.6.7"
  }
 },
 "nbformat": 4,
 "nbformat_minor": 4
}
