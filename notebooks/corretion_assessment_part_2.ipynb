{
 "cells": [
  {
   "cell_type": "markdown",
   "metadata": {},
   "source": [
    "# Evaluating effects of FSL TOPUP and EPIC\n",
    "..on individual MNI regions provided by Neuromorphometrics, Inc. (http://Neuromorphometrics.com/)\n",
    "# Part 2: Comparing rCBV MNI region histograms across correction methods with tumor segments."
   ]
  },
  {
   "cell_type": "code",
   "execution_count": 320,
   "metadata": {},
   "outputs": [],
   "source": [
    "hist_num_bins = 64\n",
    "hist_min_value = 0\n",
    "hist_max_value = 12\n",
    "region_req_covered_frac = 0.7\n",
    "min_roi_region = 30\n",
    "#corrections_base_directory = \"../../epi_corrections_out_2019_07_02\"\n",
    "# If excluding tumors\n",
    "corrections_base_directory = \"../../epi_corrections_out_2019_07_02_tumor_exluded_from_rcbv\""
   ]
  },
  {
   "cell_type": "code",
   "execution_count": 364,
   "metadata": {},
   "outputs": [],
   "source": [
    "%run utils.py\n",
    "%run visualiztion.py\n",
    "%run search.py"
   ]
  },
  {
   "cell_type": "code",
   "execution_count": 322,
   "metadata": {},
   "outputs": [
    {
     "name": "stdout",
     "output_type": "stream",
     "text": [
      "The cbv histogram directory is: ../../epi_corrections_out_2019_07_02_tumor_exluded_from_rcbv/CBV_histograms_bins_64_min_0_max_12_region_rec_c_frac_0.7_region_min_vox_30\n"
     ]
    }
   ],
   "source": [
    "\"\"\"\n",
    "CBV_out_dir = corrections_base_directory + \"/\" + \"CBV_histograms_bins_\" + \\\n",
    "    str(hist_num_bins) + \"_min_\" + str(hist_min_value) + \"_max_\" + str(hist_max_value) + \\\n",
    "    \"_region_rec_c_frac_\" + str(region_req_covered_frac)\n",
    "\"\"\"\n",
    "#\"\"\"\n",
    "CBV_out_dir = corrections_base_directory + \"/\" + \"CBV_histograms_bins_\" + \\\n",
    "    str(hist_num_bins) + \"_min_\" + str(hist_min_value) + \"_max_\" + str(hist_max_value) + \\\n",
    "    \"_region_rec_c_frac_\" + str(region_req_covered_frac) + \"_region_min_vox_\" + str(min_roi_region)\n",
    "\n",
    "#\"\"\"\n",
    "\n",
    "print(\"The cbv histogram directory is: %s\" % CBV_out_dir)\n",
    "            \n",
    "region_values,\\\n",
    "hist_edges,\\\n",
    "raw_e1_CBV_region_histograms,\\\n",
    "raw_e1_CBV_dirs,\\\n",
    "raw_e2_CBV_region_histograms,\\\n",
    "raw_e2_CBV_dirs,\\\n",
    "topup_e1_CBV_region_histograms,\\\n",
    "topup_e1_CBV_dirs,\\\n",
    "topup_e2_CBV_region_histograms,\\\n",
    "topup_e2_CBV_dirs,\\\n",
    "epic_e1_CBV_region_histograms,\\\n",
    "epic_e1_CBV_dirs,\\\n",
    "epic_e2_CBV_region_histograms,\\\n",
    "epic_e2_CBV_dirs = load_mat_files(CBV_out_dir)"
   ]
  },
  {
   "cell_type": "markdown",
   "metadata": {},
   "source": [
    "Statistics about the data"
   ]
  },
  {
   "cell_type": "code",
   "execution_count": 323,
   "metadata": {},
   "outputs": [
    {
     "name": "stdout",
     "output_type": "stream",
     "text": [
      "Equal number of subjects for raw, topup and epic data: True\n"
     ]
    }
   ],
   "source": [
    "print(\"Equal number of subjects for raw, topup and epic data: %r\" % \\\n",
    "      (len(raw_e1_CBV_region_histograms) == \n",
    "       len(raw_e2_CBV_region_histograms) == \\\n",
    "       len(topup_e1_CBV_region_histograms) == \\\n",
    "       len(topup_e2_CBV_region_histograms) == \\\n",
    "       len(epic_e1_CBV_region_histograms) == \\\n",
    "       len(epic_e2_CBV_region_histograms)))"
   ]
  },
  {
   "cell_type": "code",
   "execution_count": 324,
   "metadata": {},
   "outputs": [
    {
     "name": "stdout",
     "output_type": "stream",
     "text": [
      "Number of subjects: 45\n"
     ]
    }
   ],
   "source": [
    "num_subjects = len(raw_e1_CBV_region_histograms)\n",
    "print(\"Number of subjects: %i\" % num_subjects)"
   ]
  },
  {
   "cell_type": "markdown",
   "metadata": {},
   "source": [
    "0. Reslice MNI tumor segments from the work of Juan-Albarracín, J. et. al. [1] to match the DSC MNI image space\n",
    "\n",
    "[1] Juan-Albarracín, J., Fuster-Garcia, E. et. al.,\"ONCOhabitats: A system for glioblastoma heterogeneity assessment through MRI\" Link: https://www.sciencedirect.com/science/article/pii/S1386505618308001\n",
    "\n",
    "See reslice-tumor-segments.ipynb"
   ]
  },
  {
   "cell_type": "code",
   "execution_count": 325,
   "metadata": {},
   "outputs": [],
   "source": [
    "ONCOHabitats_results_folder = \"ONCOHabitats_results\"\n",
    "segment_files_relative = find_segment_files(corrections_base_directory + \"/\" + ONCOHabitats_results_folder)\n",
    "segment_paths_relative = [Path(file) for file in segment_files_relative]\n",
    "segments_files_full = [str(Path.joinpath(Path.cwd().parent.parent, *relative.parts[2:])) for relative in segment_paths_relative]"
   ]
  },
  {
   "cell_type": "markdown",
   "metadata": {},
   "source": [
    "1. Select a random rCBV (Gradient or Spin Echo based) from a random correction method (raw, topup or epic) from a random subject. Display the random selection as well as the associated cbv file and labels file using spimagine."
   ]
  },
  {
   "cell_type": "code",
   "execution_count": 326,
   "metadata": {},
   "outputs": [
    {
     "name": "stdout",
     "output_type": "stream",
     "text": [
      "Selected subject: 12\n",
      "Selected correction method: epic\n",
      "Selected rCBV based on: e2\n",
      "----\n",
      "The cbv file is:\n",
      "\n",
      "/run/user/1000/gvfs/smb-share:server=192.168.1.207,share=hdd3tb1/data/IVS_EPI_BASELINE/epi_corrections_out_2019_07_02_tumor_exluded_from_rcbv/EPI_applyepic/Anonymized/DEFACED_IVS/1767888627/DAY_0000/No_DeFacing_GE-SE_EPI_SSH_v1_32CH_V2_scan/141033_GE-SE_EPI_SSH_v1_32CH_V2_scan_1101_e2_applyepic_perf/wr_coregest_Normalized_rCBV_map_-Leakage_corrected.nii\n",
      "\n",
      "The labels file is:\n",
      "\n",
      "/run/user/1000/gvfs/smb-share:server=192.168.1.207,share=hdd3tb1/data/IVS_EPI_BASELINE/epi_corrections_out_2019_07_02_tumor_exluded_from_rcbv/EPI_applyepic/Anonymized/DEFACED_IVS/1767888627/DAY_0000/No_DeFacing_GE-SE_EPI_SSH_v1_32CH_V2_scan/r_e2_labels_Neuromorphometrics.nii\n",
      "\n",
      "Contents of spimagine MNI rCBV:\n",
      "\n",
      "MNI rCBV subj 1767888627 (12) epic e2\n",
      "\n",
      "The segments file is:\n",
      "\n",
      "/run/user/1000/gvfs/smb-share:server=192.168.1.207,share=hdd3tb1/data/IVS_EPI_BASELINE/epi_corrections_out_2019_07_02_tumor_exluded_from_rcbv/ONCOHabitats_results/1767888627/results/mni/rSegmentation.nii\n",
      "\n"
     ]
    }
   ],
   "source": [
    "#subject_number = np.random.randint(0, num_subjects)\n",
    "subject_number = 12\n",
    "print(\"Selected subject: %i\" % subject_number)\n",
    "correction_methods = [\"raw\", \"topup\", \"epic\"]\n",
    "#correction_method = correction_methods[np.random.randint(0, len(correction_methods))]\n",
    "correction_method = \"epic\"\n",
    "print(\"Selected correction method: %s\" % correction_method)\n",
    "cbv_based_on_list = [\"e1\", \"e2\"]\n",
    "#cbv_based_on = cbv_based_on_list[np.random.randint(0, len(cbv_based_on_list))]\n",
    "cbv_based_on = \"e2\"\n",
    "print(\"Selected rCBV based on: %s\" % cbv_based_on)\n",
    "d_remote = Path(eval(correction_method + \"_\" + cbv_based_on + \"_CBV_dirs\")[0][subject_number][0])\n",
    "# https://stackoverflow.com/questions/26724275/removing-the-first-folder-in-a-path\n",
    "d = Path.joinpath(Path.cwd().parent.parent, *d_remote.parts[6:])\n",
    "cbv_path = Path.joinpath(d, \"wr_coregest_Normalized_rCBV_map_-Leakage_corrected.nii\")\n",
    "labels_path = d.joinpath(d.parent, \"r_\" + cbv_based_on + \"_labels_Neuromorphometrics.nii\")\n",
    "print(\"----\")\n",
    "print(\"The cbv file is:\\n\\n%s\\n\" % str(cbv_path))\n",
    "print(\"The labels file is:\\n\\n%s\\n\" % str(labels_path))\n",
    "# Get the anonymized subject ID\n",
    "ID = cbv_path.parts[12] # NB: Very hardcoded\n",
    "title_spim = \"MNI rCBV subj %s (%i) %s %s\" % (ID, subject_number, correction_method, cbv_based_on)\n",
    "print(\"Contents of spimagine MNI rCBV:\\n\\n%s\\n\" % title_spim)\n",
    "segments_file = [file for file in segments_files_full if ID in file][0]\n",
    "print(\"The segments file is:\\n\\n%s\\n\" % segments_file)"
   ]
  },
  {
   "cell_type": "code",
   "execution_count": 327,
   "metadata": {},
   "outputs": [],
   "source": [
    "%matplotlib qt5\n",
    "#%matplotlib inline\n",
    "# Use qt5 as gui backend, for spimagine\n",
    "%gui qt5"
   ]
  },
  {
   "cell_type": "markdown",
   "metadata": {},
   "source": [
    "1. a) rCBV"
   ]
  },
  {
   "cell_type": "code",
   "execution_count": 328,
   "metadata": {},
   "outputs": [],
   "source": [
    "load_and_visualize_cbv(cbv_path, interpolation=\"nearest\", cmap=\"hot\")"
   ]
  },
  {
   "cell_type": "code",
   "execution_count": 329,
   "metadata": {},
   "outputs": [],
   "source": [
    "#from spimagine.utils.quaternion import Quaternion"
   ]
  },
  {
   "cell_type": "code",
   "execution_count": 330,
   "metadata": {},
   "outputs": [
    {
     "data": {
      "text/plain": [
       "'\\nlabels_data_temp, labels_dims_temp, labels_hdr_temp = load_nifti(str(labels_path))\\nlabels_data_temp = xyz_to_zyx(labels_data_temp)\\nvolfig()\\nspim_widget = volshow(labels_data_temp[::-1, ::-1, ::-1], stackUnits=labels_dims_temp, interpolation=\"nearest\")\\nspim_widget.set_colormap(\"grays\")\\nspim_widget.transform.setQuaternion(Quaternion(0.007638906066214874,-0.7092538697232732,-0.004760086014776442,0.7048956918250604))\\n'"
      ]
     },
     "execution_count": 330,
     "metadata": {},
     "output_type": "execute_result"
    }
   ],
   "source": [
    "\"\"\"\n",
    "labels_data_temp, labels_dims_temp, labels_hdr_temp = load_nifti(str(labels_path))\n",
    "labels_data_temp = xyz_to_zyx(labels_data_temp)\n",
    "volfig()\n",
    "spim_widget = \\\n",
    "volshow(labels_data_temp[::-1, ::-1, ::-1], stackUnits=labels_dims_temp, interpolation=\"nearest\")\n",
    "spim_widget.set_colormap(\"grays\")\n",
    "spim_widget.transform.setQuaternion(Quaternion(0.007638906066214874,-0.7092538697232732,-0.004760086014776442,0.7048956918250604))\n",
    "\"\"\""
   ]
  },
  {
   "cell_type": "code",
   "execution_count": 331,
   "metadata": {},
   "outputs": [],
   "source": [
    "#spim_widget.transform.toTransformData()"
   ]
  },
  {
   "cell_type": "markdown",
   "metadata": {},
   "source": [
    "1. b) All regions"
   ]
  },
  {
   "cell_type": "code",
   "execution_count": 332,
   "metadata": {},
   "outputs": [],
   "source": [
    "load_and_visualize_labels(labels_path, interpolation=\"nearest\", cmap=\"grays\")"
   ]
  },
  {
   "cell_type": "markdown",
   "metadata": {},
   "source": [
    "1. c) Only regions that are covered by preprocessed histograms"
   ]
  },
  {
   "cell_type": "markdown",
   "metadata": {},
   "source": [
    "Preprocessing parameter: Fraction of start and end of the histogram range that is set to 0"
   ]
  },
  {
   "cell_type": "code",
   "execution_count": 333,
   "metadata": {},
   "outputs": [],
   "source": [
    "#two_tail_fraction = 0.03\n",
    "#two_tail_fraction = 0.1\n",
    "two_tail_fraction = 0.05"
   ]
  },
  {
   "cell_type": "code",
   "execution_count": 334,
   "metadata": {},
   "outputs": [
    {
     "data": {
      "text/plain": [
       "'\\ndef drop_outlier_columns(df):\\n    mask_above_treshold = df > 0.7*df.max()\\n    rows_num_colums_above_treshold = mask_above_treshold[mask_above_treshold].transpose().count()\\n    rows_to_drop = rows_num_colums_above_treshold[rows_num_colums_above_treshold > 0.9*hist_num_bins].index\\n    return df.drop(rows_to_drop)\\ncbv_hists_preprocessed_no_outliers = drop_outlier_columns(cbv_hists_preprocessed)\\nfor n in np.array(cbv_hists_preprocessed_no_outliers.index):\\n    labels_data[labels_data == n] = 0\\nspimagine_show_volume_numpy(labels_data, stackUnits=labels_dims, interpolation=\"nearest\")\\n'"
      ]
     },
     "execution_count": 334,
     "metadata": {},
     "output_type": "execute_result"
    }
   ],
   "source": [
    "cbv_hists = pd.DataFrame(\\\n",
    "                      data=eval(correction_method + \"_\" + cbv_based_on + \"_CBV_region_histograms\")[subject_number], \\\n",
    "                      index=region_values.flatten(), \\\n",
    "                      columns=hist_edges[0][:-1])\n",
    "cbv_hists_preprocessed = preprocess_histograms(cbv_hists, two_tail_fraction=two_tail_fraction)\n",
    "\n",
    "labels_data, labels_dims, labels_hdr = load_nifti(str(labels_path))\n",
    "labels_data = xyz_to_zyx(labels_data)\n",
    "\n",
    "labels_data_copy = labels_data.copy()\n",
    "\n",
    "for n in np.array(np.unique(labels_data_copy)):\n",
    "    if n not in preprocess_histograms(cbv_hists).index:\n",
    "        labels_data_copy[labels_data_copy == n] = 0\n",
    "spimagine_show_volume_numpy(labels_data_copy, stackUnits=labels_dims, interpolation=\"nearest\")\n",
    "\"\"\"\n",
    "def drop_outlier_columns(df):\n",
    "    mask_above_treshold = df > 0.7*df.max()\n",
    "    rows_num_colums_above_treshold = mask_above_treshold[mask_above_treshold].transpose().count()\n",
    "    rows_to_drop = rows_num_colums_above_treshold[rows_num_colums_above_treshold > 0.9*hist_num_bins].index\n",
    "    return df.drop(rows_to_drop)\n",
    "cbv_hists_preprocessed_no_outliers = drop_outlier_columns(cbv_hists_preprocessed)\n",
    "for n in np.array(cbv_hists_preprocessed_no_outliers.index):\n",
    "    labels_data[labels_data == n] = 0\n",
    "spimagine_show_volume_numpy(labels_data, stackUnits=labels_dims, interpolation=\"nearest\")\n",
    "\"\"\""
   ]
  },
  {
   "cell_type": "markdown",
   "metadata": {},
   "source": [
    "spimagine render 6 second 60fps video:\n",
    "\n",
    "Number frames: 360\n",
    "\n",
    "record delay: 16\n",
    "\n",
    "Blur sx sy sz 1 1 1\n",
    "\n",
    "Transcode rendered images to PowerPoint compatible H.264 video with\n",
    "\n",
    "ffmpeg -framerate 60 -i output_%03d.png -vf \"pad=ceil(iw/2)*2:ceil(ih/2)*2\" -c:v libx264 -preset slow -profile:v high -level:v 4.0 -pix_fmt yuv420p -crf 22 2019_07_02_1778076422_EPIC_e1_nrCBV.mp4"
   ]
  },
  {
   "cell_type": "markdown",
   "metadata": {},
   "source": [
    "1. d) The tumor segments"
   ]
  },
  {
   "cell_type": "code",
   "execution_count": 335,
   "metadata": {},
   "outputs": [],
   "source": [
    "segments_data_temp, segments_dims_temp, segments_hdr_temp = load_nifti(segments_file)\n",
    "segments_data_temp = xyz_to_zyx(segments_data_temp)\n",
    "spimagine_show_volume_numpy(segments_data_temp, stackUnits=segments_dims_temp, interpolation=\"nearest\", cmap=\"grays\")"
   ]
  },
  {
   "cell_type": "markdown",
   "metadata": {},
   "source": [
    "2. Plot preprocessed histograms for the selected subject"
   ]
  },
  {
   "cell_type": "markdown",
   "metadata": {},
   "source": [
    "2. a) All histograms for the selected combination of subject and correction method"
   ]
  },
  {
   "cell_type": "markdown",
   "metadata": {},
   "source": [
    "and"
   ]
  },
  {
   "cell_type": "markdown",
   "metadata": {},
   "source": [
    "2. b) Mean, median and std plot of the same histograms"
   ]
  },
  {
   "cell_type": "code",
   "execution_count": 336,
   "metadata": {},
   "outputs": [],
   "source": [
    "#matplotlib.pyplot.switch_backend(\"Qt5Agg\")"
   ]
  },
  {
   "cell_type": "code",
   "execution_count": 337,
   "metadata": {},
   "outputs": [],
   "source": [
    "preprocess_and_plot_selected_histograms(region_values,\\\n",
    "                                        hist_edges,\\\n",
    "                                        raw_e1_CBV_region_histograms,\\\n",
    "                                        raw_e2_CBV_region_histograms,\\\n",
    "                                        topup_e1_CBV_region_histograms,\\\n",
    "                                        topup_e2_CBV_region_histograms,\\\n",
    "                                        epic_e1_CBV_region_histograms,\\\n",
    "                                        epic_e2_CBV_region_histograms,\\\n",
    "                                        two_tail_fraction=two_tail_fraction,\\\n",
    "                                        subject_number=subject_number,\\\n",
    "                                        correction_method=correction_method,\\\n",
    "                                        ID=ID)"
   ]
  },
  {
   "cell_type": "markdown",
   "metadata": {},
   "source": [
    "3. Plot all preprocessed histograms for the randomly pixed subject"
   ]
  },
  {
   "cell_type": "code",
   "execution_count": 338,
   "metadata": {},
   "outputs": [],
   "source": [
    "raw_e1_prep,\\\n",
    "raw_e2_prep,\\\n",
    "topup_e1_prep,\\\n",
    "topup_e2_prep,\\\n",
    "epic_e1_prep,\\\n",
    "epic_e2_prep = \\\n",
    "preprocess_and_plot_all_histograms(region_values,\\\n",
    "                                   hist_edges,\\\n",
    "                                   raw_e1_CBV_region_histograms,\\\n",
    "                                   raw_e2_CBV_region_histograms,\\\n",
    "                                   topup_e1_CBV_region_histograms,\\\n",
    "                                   topup_e2_CBV_region_histograms,\\\n",
    "                                   epic_e1_CBV_region_histograms,\\\n",
    "                                   epic_e2_CBV_region_histograms,\\\n",
    "                                   two_tail_fraction=two_tail_fraction,\\\n",
    "                                   subject_number=subject_number,\\\n",
    "                                   ID=ID)"
   ]
  },
  {
   "cell_type": "markdown",
   "metadata": {},
   "source": [
    "4. Generate bash command for fsleyes volume render for regions and rCBV for the randomly selected subject and correction method"
   ]
  },
  {
   "cell_type": "code",
   "execution_count": 339,
   "metadata": {},
   "outputs": [
    {
     "name": "stdout",
     "output_type": "stream",
     "text": [
      "fsleyes --scene 3d --worldLoc 9.91821289062e-05 -18.0000991821 7.99990081787 --displaySpace /run/user/1000/gvfs/smb-share:server=192.168.1.207,share=hdd3tb1/data/IVS_EPI_BASELINE/epi_corrections_out_2019_07_02_tumor_exluded_from_rcbv/EPI_applyepic/Anonymized/DEFACED_IVS/1767888627/DAY_0000/No_DeFacing_GE-SE_EPI_SSH_v1_32CH_V2_scan/141033_GE-SE_EPI_SSH_v1_32CH_V2_scan_1101_e2_applyepic_perf/wr_coregest_Normalized_rCBV_map_-Leakage_corrected.nii --cameraRotation -178.99 103.30 0.04 --zoom 75.0 --lightPos 235.999702454 283.999702454 77.9999008179 --offset 0.0 0.0 --hideCursor --bgColour 0.0 0.0 0.0 --fgColour 1.0 1.0 1.0 --cursorColour 0.0 1.0 0.0 --colourBarLocation top --colourBarLabelSide top-left --colourBarSize 100.0 --labelSize 14 --performance 3 --movieSync /run/user/1000/gvfs/smb-share:server=192.168.1.207,share=hdd3tb1/data/IVS_EPI_BASELINE/epi_corrections_out_2019_07_02_tumor_exluded_from_rcbv/EPI_applyepic/Anonymized/DEFACED_IVS/1767888627/DAY_0000/No_DeFacing_GE-SE_EPI_SSH_v1_32CH_V2_scan/141033_GE-SE_EPI_SSH_v1_32CH_V2_scan_1101_e2_applyepic_perf/wr_coregest_Normalized_rCBV_map_-Leakage_corrected.nii --name wr_coregest_Normalized_rCBV_map_-Leakage_corrected.nii --overlayType volume --alpha 100.0 --brightness 72.7359251905 --contrast 95.4718503809 --cmap hot --negativeCmap greyscale --displayRange 1.7763568394e-15 6.0 --clippingRange 1.7763568394e-15 30.1408601952 --gamma 0.0 --cmapResolution 256 --interpolation none --numSteps 100 --blendFactor 0.1 --smoothing 0 --resolution 100 --numInnerSteps 10 --clipMode intersection --volume 0 /run/user/1000/gvfs/smb-share:server=192.168.1.207,share=hdd3tb1/data/IVS_EPI_BASELINE/epi_corrections_out_2019_07_02_tumor_exluded_from_rcbv/EPI_applyepic/Anonymized/DEFACED_IVS/1767888627/DAY_0000/No_DeFacing_GE-SE_EPI_SSH_v1_32CH_V2_scan/r_e2_labels_Neuromorphometrics.nii --name r_e2_labels_Neuromorphometrics.nii --overlayType volume --alpha 77.9999999977 --brightness 50.0 --contrast 50.0 --cmap greyscale --negativeCmap greyscale --displayRange 0.0 207.0 --clippingRange 0.0 209.07 --gamma 0.0 --cmapResolution 256 --interpolation none --numSteps 100 --blendFactor 0.1 --smoothing 0 --resolution 100 --numInnerSteps 10 --clipMode intersection --volume 0\n"
     ]
    }
   ],
   "source": [
    "%%bash -s \"{\" \".join([str(cbv_path)])}\" \"{\" \".join([str(labels_path)])}\" \"$hist_min_value\" \"$hist_max_value\"\n",
    "IFS=' ' read -r -a cbv_files <<< \"$1\"\n",
    "IFS=' ' read -r -a label_files <<< \"$2\"\n",
    "hist_min_value=$3\n",
    "hist_max_value=$4\n",
    "render() {\n",
    "    local -n _cbv_files=$1\n",
    "    local -n _label_files=$2\n",
    "    \n",
    "    for index in \"${!_cbv_files[@]}\"\n",
    "    do\n",
    "        cbv_file=\"${_cbv_files[index]}\"\n",
    "        label_file=\"${_label_files[index]}\"\n",
    "        \n",
    "        cbv_file_name=\"$(basename $cbv_file)\"\n",
    "        label_file_name=\"$(basename $label_file)\"\n",
    "        \n",
    "        render_command='fsleyes \n",
    "            --scene 3d \n",
    "            --worldLoc 9.91821289062e-05 -18.0000991821 7.99990081787 \n",
    "            --displaySpace '$cbv_file' \n",
    "            --cameraRotation -178.99  103.30  0.04 \n",
    "            --zoom 75.0 \n",
    "            --lightPos 235.999702454 283.999702454 77.9999008179 \n",
    "            --offset 0.0 0.0 \n",
    "            --hideCursor \n",
    "            --bgColour 0.0 0.0 0.0 \n",
    "            --fgColour 1.0 1.0 1.0 \n",
    "            --cursorColour 0.0 1.0 0.0 \n",
    "            --colourBarLocation top \n",
    "            --colourBarLabelSide top-left \n",
    "            --colourBarSize 100.0 \n",
    "            --labelSize 14 \n",
    "            --performance 3 \n",
    "            --movieSync '$cbv_file' \n",
    "            --name '$cbv_file_name' \n",
    "            --overlayType volume \n",
    "            --alpha 100.0 \n",
    "            --brightness 72.7359251905 \n",
    "            --contrast 95.4718503809 \n",
    "            --cmap hot \n",
    "            --negativeCmap greyscale \n",
    "            --displayRange 1.7763568394e-15 6.0 \n",
    "            --clippingRange 1.7763568394e-15 30.1408601952 \n",
    "            --gamma 0.0 \n",
    "            --cmapResolution 256 \n",
    "            --interpolation none \n",
    "            --numSteps 100 \n",
    "            --blendFactor 0.1 \n",
    "            --smoothing 0 \n",
    "            --resolution 100 \n",
    "            --numInnerSteps 10 \n",
    "            --clipMode intersection \n",
    "            --volume 0 '$label_file' \n",
    "            --name '$label_file_name' \n",
    "            --overlayType volume \n",
    "            --alpha 77.9999999977 \n",
    "            --brightness 50.0 \n",
    "            --contrast 50.0 \n",
    "            --cmap greyscale \n",
    "            --negativeCmap greyscale \n",
    "            --displayRange 0.0 207.0 \n",
    "            --clippingRange 0.0 209.07 \n",
    "            --gamma 0.0 \n",
    "            --cmapResolution 256 \n",
    "            --interpolation none \n",
    "            --numSteps 100 \n",
    "            --blendFactor 0.1 \n",
    "            --smoothing 0 \n",
    "            --resolution 100 \n",
    "            --numInnerSteps 10 \n",
    "            --clipMode intersection \n",
    "            --volume 0'\n",
    "        echo $render_command\n",
    "        #eval $render_command\n",
    "    done\n",
    "}\n",
    "render cbv_files label_files"
   ]
  },
  {
   "cell_type": "markdown",
   "metadata": {},
   "source": [
    "5. Generate bash command for fsleyes orthographic view for regions and rCBV for the randomly selected subject and correction method"
   ]
  },
  {
   "cell_type": "code",
   "execution_count": 340,
   "metadata": {},
   "outputs": [
    {
     "name": "stdout",
     "output_type": "stream",
     "text": [
      "fsleyes --scene ortho --worldLoc 9.918212890625e-05 -18.000099182128906 7.999900817871094 --displaySpace /run/user/1000/gvfs/smb-share:server=192.168.1.207,share=hdd3tb1/data/IVS_EPI_BASELINE/epi_corrections_out_2019_07_02_tumor_exluded_from_rcbv/EPI_applyepic/Anonymized/DEFACED_IVS/1767888627/DAY_0000/No_DeFacing_GE-SE_EPI_SSH_v1_32CH_V2_scan/141033_GE-SE_EPI_SSH_v1_32CH_V2_scan_1101_e2_applyepic_perf/wr_coregest_Normalized_rCBV_map_-Leakage_corrected.nii --xcentre -0.00000 -0.11019 --ycentre -0.00000 -0.11019 --zcentre -0.00000 -0.00000 --xzoom 803.0573770888577 --yzoom 809.4712464952298 --zzoom 803.057377088858 --hideLabels --labelSize 14 --layout horizontal --hideCursor --bgColour 0.0 0.0 0.0 --fgColour 1.0 1.0 1.0 --cursorColour 0.0 1.0 0.0 --colourBarLocation top --colourBarLabelSide top-left --performance 3 /run/user/1000/gvfs/smb-share:server=192.168.1.207,share=hdd3tb1/data/IVS_EPI_BASELINE/epi_corrections_out_2019_07_02_tumor_exluded_from_rcbv/EPI_applyepic/Anonymized/DEFACED_IVS/1767888627/DAY_0000/No_DeFacing_GE-SE_EPI_SSH_v1_32CH_V2_scan/141033_GE-SE_EPI_SSH_v1_32CH_V2_scan_1101_e2_applyepic_perf/wr_coregest_Normalized_rCBV_map_-Leakage_corrected.nii --name wr_coregest_Normalized_rCBV_map_-Leakage_corrected.nii --overlayType volume --alpha 100.0 --brightness 64.94720130619707 --contrast 79.89440261239416 --cmap hot --negativeCmap greyscale --displayRange 0 12 --clippingRange 0.0 30.140860195159913 --gamma 0.0 --cmapResolution 256 --interpolation none --numSteps 100 --blendFactor 0.1 --smoothing 0 --resolution 100 --numInnerSteps 10 --clipMode intersection --volume 0 /run/user/1000/gvfs/smb-share:server=192.168.1.207,share=hdd3tb1/data/IVS_EPI_BASELINE/epi_corrections_out_2019_07_02_tumor_exluded_from_rcbv/EPI_applyepic/Anonymized/DEFACED_IVS/1767888627/DAY_0000/No_DeFacing_GE-SE_EPI_SSH_v1_32CH_V2_scan/r_e2_labels_Neuromorphometrics.nii --name r_e2_labels_Neuromorphometrics.nii --overlayType volume --alpha 37.33333333798995 --brightness 50.0 --contrast 50.0 --cmap greyscale --negativeCmap greyscale --displayRange 0.0 207.0 --clippingRange 0.0 209.07 --gamma 0.0 --cmapResolution 256 --interpolation none --numSteps 100 --blendFactor 0.1 --smoothing 0 --resolution 100 --numInnerSteps 10 --clipMode intersection --volume 0\n"
     ]
    }
   ],
   "source": [
    "%%bash -s \"{\" \".join([str(cbv_path)])}\" \"{\" \".join([str(labels_path)])}\" \"$hist_min_value\" \"$hist_max_value\"\n",
    "IFS=' ' read -r -a cbv_files <<< \"$1\"\n",
    "IFS=' ' read -r -a label_files <<< \"$2\"\n",
    "hist_min_value=$3\n",
    "hist_max_value=$4\n",
    "render() {\n",
    "    local -n _cbv_files=$1\n",
    "    local -n _label_files=$2\n",
    "    \n",
    "    for index in \"${!_cbv_files[@]}\"\n",
    "    do\n",
    "        cbv_file=\"${_cbv_files[index]}\"\n",
    "        label_file=\"${_label_files[index]}\"\n",
    "        \n",
    "        cbv_file_name=\"$(basename $cbv_file)\"\n",
    "        label_file_name=\"$(basename $label_file)\"\n",
    "        \n",
    "        render_command='fsleyes \n",
    "            --scene ortho \n",
    "            --worldLoc 9.918212890625e-05 -18.000099182128906 7.999900817871094 \n",
    "            --displaySpace \n",
    "            '$cbv_file' \n",
    "            --xcentre -0.00000 -0.11019 \n",
    "            --ycentre -0.00000 -0.11019 \n",
    "            --zcentre -0.00000 -0.00000 \n",
    "            --xzoom 803.0573770888577 \n",
    "            --yzoom 809.4712464952298 \n",
    "            --zzoom 803.057377088858 \n",
    "            --hideLabels \n",
    "            --labelSize 14 \n",
    "            --layout horizontal \n",
    "            --hideCursor \n",
    "            --bgColour 0.0 0.0 0.0 \n",
    "            --fgColour 1.0 1.0 1.0 \n",
    "            --cursorColour 0.0 1.0 0.0 \n",
    "            --colourBarLocation top \n",
    "            --colourBarLabelSide top-left \n",
    "            --performance 3 \n",
    "            '$cbv_file' \n",
    "            --name '$cbv_file_name' \n",
    "            --overlayType volume \n",
    "            --alpha 100.0 \n",
    "            --brightness 64.94720130619707 \n",
    "            --contrast 79.89440261239416 \n",
    "            --cmap hot \n",
    "            --negativeCmap greyscale \n",
    "            --displayRange '$hist_min_value' '$hist_max_value' \n",
    "            --clippingRange 0.0 30.140860195159913 \n",
    "            --gamma 0.0 \n",
    "            --cmapResolution 256 \n",
    "            --interpolation none \n",
    "            --numSteps 100 \n",
    "            --blendFactor 0.1 \n",
    "            --smoothing 0 \n",
    "            --resolution 100 \n",
    "            --numInnerSteps 10 \n",
    "            --clipMode intersection \n",
    "            --volume 0 \n",
    "            '$label_file' \n",
    "            --name '$label_file_name' \n",
    "            --overlayType volume \n",
    "            --alpha 37.33333333798995 \n",
    "            --brightness 50.0 \n",
    "            --contrast 50.0 \n",
    "            --cmap greyscale \n",
    "            --negativeCmap greyscale \n",
    "            --displayRange 0.0 207.0 \n",
    "            --clippingRange 0.0 209.07 \n",
    "            --gamma 0.0 \n",
    "            --cmapResolution 256 \n",
    "            --interpolation none \n",
    "            --numSteps 100 \n",
    "            --blendFactor 0.1 \n",
    "            --smoothing 0 \n",
    "            --resolution 100 \n",
    "            --numInnerSteps 10 \n",
    "            --clipMode intersection \n",
    "            --volume 0'\n",
    "        echo $render_command\n",
    "        #eval $render_command\n",
    "    done\n",
    "}\n",
    "render cbv_files label_files"
   ]
  },
  {
   "cell_type": "code",
   "execution_count": 341,
   "metadata": {},
   "outputs": [
    {
     "data": {
      "text/plain": [
       "'\\ncbv_path_temp, label_path_temp = get_cbv_and_labels_paths(raw_e1_CBV_region_histograms,                                raw_e1_CBV_dirs,                                raw_e2_CBV_region_histograms,                                raw_e2_CBV_dirs,                                topup_e1_CBV_region_histograms,                                topup_e1_CBV_dirs,                                topup_e2_CBV_region_histograms,                                topup_e2_CBV_dirs,                                epic_e1_CBV_region_histograms,                                epic_e1_CBV_dirs,                                epic_e2_CBV_region_histograms,                                epic_e2_CBV_dirs,                                subject_number=26,                                correction_method=\"topup\",                                cbv_based_on=\"e2\")\\ncbv_path_temp\\nload_and_visualize_cbv(cbv_path_temp, interpolation=\"linear\", cmap=\"hot\")\\n'"
      ]
     },
     "execution_count": 341,
     "metadata": {},
     "output_type": "execute_result"
    }
   ],
   "source": [
    "\"\"\"\n",
    "cbv_path_temp, label_path_temp = get_cbv_and_labels_paths(raw_e1_CBV_region_histograms,\\\n",
    "                                raw_e1_CBV_dirs,\\\n",
    "                                raw_e2_CBV_region_histograms,\\\n",
    "                                raw_e2_CBV_dirs,\\\n",
    "                                topup_e1_CBV_region_histograms,\\\n",
    "                                topup_e1_CBV_dirs,\\\n",
    "                                topup_e2_CBV_region_histograms,\\\n",
    "                                topup_e2_CBV_dirs,\\\n",
    "                                epic_e1_CBV_region_histograms,\\\n",
    "                                epic_e1_CBV_dirs,\\\n",
    "                                epic_e2_CBV_region_histograms,\\\n",
    "                                epic_e2_CBV_dirs,\\\n",
    "                                subject_number=26,\\\n",
    "                                correction_method=\"topup\",\\\n",
    "                                cbv_based_on=\"e2\")\n",
    "cbv_path_temp\n",
    "load_and_visualize_cbv(cbv_path_temp, interpolation=\"linear\", cmap=\"hot\")\n",
    "\"\"\""
   ]
  },
  {
   "cell_type": "code",
   "execution_count": 342,
   "metadata": {},
   "outputs": [
    {
     "data": {
      "text/plain": [
       "'MNI rCBV subj 1767888627 (12) epic e2'"
      ]
     },
     "execution_count": 342,
     "metadata": {},
     "output_type": "execute_result"
    }
   ],
   "source": [
    "title_spim"
   ]
  },
  {
   "cell_type": "code",
   "execution_count": 343,
   "metadata": {},
   "outputs": [
    {
     "name": "stdout",
     "output_type": "stream",
     "text": [
      "0.7070317592051423\n",
      "0.5213030243842315\n",
      "0.7504893155094258\n",
      "0.6016426750338725\n",
      "0.7394640167731104\n",
      "0.5308918089740444\n"
     ]
    }
   ],
   "source": [
    "#visualize_regions(calculate_similarities(raw_e1_prep, topup_e1_prep, method=\"hellinger\"), labels_data, labels_dims)\n",
    "print(calculate_similarities(raw_e1_prep, topup_e1_prep, method=\"hellinger\").max())\n",
    "#visualize_regions(calculate_similarities(raw_e2_prep, topup_e2_prep, method=\"hellinger\"), labels_data, labels_dims)\n",
    "print(calculate_similarities(raw_e2_prep, topup_e2_prep, method=\"hellinger\").max())\n",
    "\n",
    "#visualize_regions(calculate_similarities(raw_e1_prep, epic_e1_prep, method=\"hellinger\"), labels_data, labels_dims)\n",
    "print(calculate_similarities(raw_e1_prep, epic_e1_prep, method=\"hellinger\").max())\n",
    "#visualize_regions(calculate_similarities(raw_e2_prep, epic_e2_prep, method=\"hellinger\"), labels_data, labels_dims)\n",
    "print(calculate_similarities(raw_e2_prep, epic_e2_prep, method=\"hellinger\").max())\n",
    "\n",
    "#visualize_regions(calculate_similarities(topup_e1_prep, epic_e1_prep, method=\"hellinger\"), labels_data, labels_dims)\n",
    "print(calculate_similarities(topup_e1_prep, epic_e1_prep, method=\"hellinger\").max())\n",
    "#visualize_regions(calculate_similarities(topup_e2_prep, epic_e2_prep, method=\"hellinger\"), labels_data, labels_dims)\n",
    "print(calculate_similarities(topup_e2_prep, epic_e2_prep, method=\"hellinger\").max())"
   ]
  },
  {
   "cell_type": "markdown",
   "metadata": {},
   "source": [
    "6. Get region names from the original xml file"
   ]
  },
  {
   "cell_type": "code",
   "execution_count": 344,
   "metadata": {},
   "outputs": [
    {
     "data": {
      "text/plain": [
       "PosixPath('../../epi_corrections_out_2019_07_02_tumor_exluded_from_rcbv/labels_Neuromorphometrics.xml')"
      ]
     },
     "execution_count": 344,
     "metadata": {},
     "output_type": "execute_result"
    }
   ],
   "source": [
    "regions_info_relative_file = corrections_base_directory + \"/labels_Neuromorphometrics.xml\" # Assumed to exist, copy from spm12/tpm directory.\n",
    "regions_info_relative_path = Path(regions_info_relative_file)\n",
    "regions_info_relative_path"
   ]
  },
  {
   "cell_type": "code",
   "execution_count": 345,
   "metadata": {},
   "outputs": [
    {
     "data": {
      "text/plain": [
       "'/run/user/1000/gvfs/smb-share:server=192.168.1.207,share=hdd3tb1/data/IVS_EPI_BASELINE/epi_corrections_out_2019_07_02_tumor_exluded_from_rcbv/labels_Neuromorphometrics.xml'"
      ]
     },
     "execution_count": 345,
     "metadata": {},
     "output_type": "execute_result"
    }
   ],
   "source": [
    "regions_info_file = str(Path.joinpath(Path.cwd().parent.parent, *regions_info_relative_path.parts[2:]))\n",
    "regions_info_file"
   ]
  },
  {
   "cell_type": "code",
   "execution_count": 346,
   "metadata": {},
   "outputs": [],
   "source": [
    "\"\"\"\n",
    "Although existing in the original regions file, \n",
    "Region 63 (Right vessel) and 64 (Left vessel)\n",
    "did not exist in the resliced regions file.\n",
    "This must be due to those vessel regions being small enough\n",
    "to disappear after the nearest neighbour interpolation.\n",
    "\"\"\"\n",
    "import xml.etree.ElementTree as ET\n",
    "tree = ET.parse(regions_info_file)\n",
    "region_names = []\n",
    "region_values_temp = []\n",
    "b = []\n",
    "for i in tree.iter():\n",
    "    index = i.find(\"index\")\n",
    "    if index != None:\n",
    "        #pass\n",
    "        #print(index.text)\n",
    "        index_int = np.int(index.text)\n",
    "        if index_int in region_values:\n",
    "            name = i.find(\"name\")\n",
    "            region_values_temp += [index_int]\n",
    "            region_names += [name.text]\n",
    "region_values_temp = np.array(region_values_temp)\n",
    "region_names = np.array(region_names)"
   ]
  },
  {
   "cell_type": "code",
   "execution_count": 347,
   "metadata": {},
   "outputs": [
    {
     "data": {
      "text/plain": [
       "True"
      ]
     },
     "execution_count": 347,
     "metadata": {},
     "output_type": "execute_result"
    }
   ],
   "source": [
    "# Verify that the regions in region_names correspond to the regions in region_values\n",
    "# - by verifying equal region values:\n",
    "np.all(region_values_temp == region_values.flatten())"
   ]
  },
  {
   "cell_type": "code",
   "execution_count": 348,
   "metadata": {},
   "outputs": [
    {
     "data": {
      "text/plain": [
       "True"
      ]
     },
     "execution_count": 348,
     "metadata": {},
     "output_type": "execute_result"
    }
   ],
   "source": [
    "# - by verifying equal shape of region_values.flatten() and region_names\n",
    "region_values.flatten().shape == region_names.shape"
   ]
  },
  {
   "cell_type": "code",
   "execution_count": 349,
   "metadata": {},
   "outputs": [],
   "source": [
    "#region_names = np.array([name[:15] + \"...\" for name in region_names])"
   ]
  },
  {
   "cell_type": "markdown",
   "metadata": {},
   "source": [
    "7. Present histogram distances"
   ]
  },
  {
   "cell_type": "markdown",
   "metadata": {},
   "source": [
    "7. a) Hellinger distance between region histograms of Uncorrected and TOPUP corrected rCBVs and Uncorrected and EPIC corrected rCBVs"
   ]
  },
  {
   "cell_type": "code",
   "execution_count": 350,
   "metadata": {},
   "outputs": [],
   "source": [
    "#\"\"\"\n",
    "raw_vs_topup_e1_hellinger_df = \\\n",
    "preprocess_and_calculate_all_histogram_distances(region_values,\\\n",
    "                                                 region_names,\\\n",
    "                                                 hist_edges,\\\n",
    "                                                 raw_e1_CBV_region_histograms,\\\n",
    "                                                 topup_e1_CBV_region_histograms,\\\n",
    "                                                 two_tail_fraction,\\\n",
    "                                                 comparison_method=\"hellinger\")\n",
    "raw_vs_topup_e2_hellinger_df = \\\n",
    "preprocess_and_calculate_all_histogram_distances(region_values,\\\n",
    "                                                 region_names,\\\n",
    "                                                 hist_edges,\\\n",
    "                                                 raw_e2_CBV_region_histograms,\\\n",
    "                                                 topup_e2_CBV_region_histograms,\\\n",
    "                                                 two_tail_fraction,\\\n",
    "                                                 comparison_method=\"hellinger\")\n",
    "raw_vs_epic_e1_hellinger_df = \\\n",
    "preprocess_and_calculate_all_histogram_distances(region_values,\\\n",
    "                                                 region_names,\\\n",
    "                                                 hist_edges,\\\n",
    "                                                 raw_e1_CBV_region_histograms,\\\n",
    "                                                 epic_e1_CBV_region_histograms,\\\n",
    "                                                 two_tail_fraction,\\\n",
    "                                                 comparison_method=\"hellinger\")\n",
    "raw_vs_epic_e2_hellinger_df = \\\n",
    "preprocess_and_calculate_all_histogram_distances(region_values,\\\n",
    "                                                 region_names,\\\n",
    "                                                 hist_edges,\\\n",
    "                                                 raw_e2_CBV_region_histograms,\\\n",
    "                                                 epic_e2_CBV_region_histograms,\\\n",
    "                                                 two_tail_fraction,\\\n",
    "                                                 comparison_method=\"hellinger\")\n",
    "#\"\"\""
   ]
  },
  {
   "cell_type": "code",
   "execution_count": 351,
   "metadata": {},
   "outputs": [
    {
     "data": {
      "text/plain": [
       "0.44509188744430433"
      ]
     },
     "execution_count": 351,
     "metadata": {},
     "output_type": "execute_result"
    }
   ],
   "source": [
    "windowMax = \\\n",
    "np.max(\\\n",
    "[raw_vs_topup_e1_hellinger_df.max().max(), \\\n",
    " raw_vs_topup_e2_hellinger_df.max().max(), \\\n",
    " raw_vs_epic_e1_hellinger_df.max().max(), \\\n",
    " raw_vs_epic_e2_hellinger_df.max().max()])\n",
    "windowMax*0.5"
   ]
  },
  {
   "cell_type": "code",
   "execution_count": 352,
   "metadata": {},
   "outputs": [
    {
     "name": "stderr",
     "output_type": "stream",
     "text": [
      "INFO:spimagine.gui.glwidget | saving frame as ../../epi_corrections_out_2019_07_02_tumor_exluded_from_rcbv/CBV_histograms_bins_64_min_0_max_12_region_rec_c_frac_0.7_region_min_vox_30/Hellinger-r1-axial-inferior-superior.png\n",
      "INFO:spimagine.gui.glwidget | saving frame as ../../epi_corrections_out_2019_07_02_tumor_exluded_from_rcbv/CBV_histograms_bins_64_min_0_max_12_region_rec_c_frac_0.7_region_min_vox_30/Hellinger-r1-sagittal-r-l-radiolog.png\n",
      "INFO:spimagine.gui.glwidget | saving frame as ../../epi_corrections_out_2019_07_02_tumor_exluded_from_rcbv/CBV_histograms_bins_64_min_0_max_12_region_rec_c_frac_0.7_region_min_vox_30/Hellinger-r1-mixed-r-l-radiolog-posterior-anterior.png\n",
      "INFO:spimagine.gui.glwidget | saving frame as ../../epi_corrections_out_2019_07_02_tumor_exluded_from_rcbv/CBV_histograms_bins_64_min_0_max_12_region_rec_c_frac_0.7_region_min_vox_30/Hellinger-r2-axial-inferior-superior.png\n",
      "INFO:spimagine.gui.glwidget | saving frame as ../../epi_corrections_out_2019_07_02_tumor_exluded_from_rcbv/CBV_histograms_bins_64_min_0_max_12_region_rec_c_frac_0.7_region_min_vox_30/Hellinger-r2-sagittal-r-l-radiolog.png\n",
      "INFO:spimagine.gui.glwidget | saving frame as ../../epi_corrections_out_2019_07_02_tumor_exluded_from_rcbv/CBV_histograms_bins_64_min_0_max_12_region_rec_c_frac_0.7_region_min_vox_30/Hellinger-r2-mixed-r-l-radiolog-posterior-anterior.png\n",
      "INFO:spimagine.gui.glwidget | saving frame as ../../epi_corrections_out_2019_07_02_tumor_exluded_from_rcbv/CBV_histograms_bins_64_min_0_max_12_region_rec_c_frac_0.7_region_min_vox_30/Hellinger-r3-axial-inferior-superior.png\n",
      "INFO:spimagine.gui.glwidget | saving frame as ../../epi_corrections_out_2019_07_02_tumor_exluded_from_rcbv/CBV_histograms_bins_64_min_0_max_12_region_rec_c_frac_0.7_region_min_vox_30/Hellinger-r3-sagittal-r-l-radiolog.png\n",
      "INFO:spimagine.gui.glwidget | saving frame as ../../epi_corrections_out_2019_07_02_tumor_exluded_from_rcbv/CBV_histograms_bins_64_min_0_max_12_region_rec_c_frac_0.7_region_min_vox_30/Hellinger-r3-mixed-r-l-radiolog-posterior-anterior.png\n",
      "INFO:spimagine.gui.glwidget | saving frame as ../../epi_corrections_out_2019_07_02_tumor_exluded_from_rcbv/CBV_histograms_bins_64_min_0_max_12_region_rec_c_frac_0.7_region_min_vox_30/Hellinger-r4-axial-inferior-superior.png\n",
      "INFO:spimagine.gui.glwidget | saving frame as ../../epi_corrections_out_2019_07_02_tumor_exluded_from_rcbv/CBV_histograms_bins_64_min_0_max_12_region_rec_c_frac_0.7_region_min_vox_30/Hellinger-r4-sagittal-r-l-radiolog.png\n",
      "INFO:spimagine.gui.glwidget | saving frame as ../../epi_corrections_out_2019_07_02_tumor_exluded_from_rcbv/CBV_histograms_bins_64_min_0_max_12_region_rec_c_frac_0.7_region_min_vox_30/Hellinger-r4-mixed-r-l-radiolog-posterior-anterior.png\n"
     ]
    }
   ],
   "source": [
    "#\"\"\"\n",
    "windowMax = \\\n",
    "np.max(\\\n",
    "[raw_vs_topup_e1_hellinger_df.max().max(), \\\n",
    " raw_vs_topup_e2_hellinger_df.max().max(), \\\n",
    " raw_vs_epic_e1_hellinger_df.max().max(), \\\n",
    " raw_vs_epic_e2_hellinger_df.max().max()])\n",
    "\n",
    "rendered_image_files_list_hellinger = \\\n",
    "sorted_boxplot_heatmap_figure(df_1 = raw_vs_topup_e1_hellinger_df, \\\n",
    "                              df_2 = raw_vs_epic_e1_hellinger_df, \\\n",
    "                              df_3 = raw_vs_topup_e2_hellinger_df, \n",
    "                              df_4 = raw_vs_epic_e2_hellinger_df, \\\n",
    "                              ylabel_1 = \"Uncorr. vs. TOPUP GE\", \\\n",
    "                              ylabel_2 = \"Uncorr. vs. EPIC GE\", \\\n",
    "                              ylabel_3 = \"Uncorr. vs. TOPUP SE\", \\\n",
    "                              ylabel_4 = \"Uncorr. vs. EPIC SE\", \\\n",
    "                              distance_name = \"Hellinger\", \\\n",
    "                              labels_data = labels_data, \\\n",
    "                              labels_dims =  labels_dims, \\\n",
    "                              CBV_out_dir = CBV_out_dir, \\\n",
    "                              rendered_image_files_list = [], \\\n",
    "                              top=\"all\", \\\n",
    "                              render_pngs=True, \\\n",
    "                              windowMin = 0, \\\n",
    "                              windowMax = windowMax*0.5, \\\n",
    "                              interpolation = \"nearest\", \\\n",
    "                              cmap = \"hot\", \\\n",
    "                              blur_3d = False, \\\n",
    "                              blur_3d_sigma = 1, \\\n",
    "                              method_comparison = False)\n",
    "#\"\"\""
   ]
  },
  {
   "cell_type": "markdown",
   "metadata": {},
   "source": [
    "Convert the black background to white using\n",
    "\n",
    "ls *.png | xargs -I file convert file -fill white -opaque black file"
   ]
  },
  {
   "cell_type": "code",
   "execution_count": 362,
   "metadata": {},
   "outputs": [],
   "source": [
    "windowMax = \\\n",
    "np.max(\\\n",
    "[raw_vs_topup_e1_hellinger_df.max().max(), \\\n",
    " raw_vs_topup_e2_hellinger_df.max().max(), \\\n",
    " raw_vs_epic_e1_hellinger_df.max().max(), \\\n",
    " raw_vs_epic_e2_hellinger_df.max().max()])\n",
    "rendered_image_files_list_hellinger = \\\n",
    "sorted_boxplot_heatmap_figure(df_1 = raw_vs_topup_e1_hellinger_df, \\\n",
    "                              df_2 = raw_vs_epic_e1_hellinger_df, \\\n",
    "                              df_3 = raw_vs_topup_e2_hellinger_df, \n",
    "                              df_4 = raw_vs_epic_e2_hellinger_df, \\\n",
    "                              ylabel_1 = \"Uncorr. vs. TOPUP GE\", \\\n",
    "                              ylabel_2 = \"Uncorr. vs. EPIC GE\", \\\n",
    "                              ylabel_3 = \"Uncorr. vs. TOPUP SE\", \\\n",
    "                              ylabel_4 = \"Uncorr. vs. EPIC SE\", \\\n",
    "                              distance_name = \"Hellinger\", \\\n",
    "                              labels_data = labels_data, \\\n",
    "                              labels_dims =  labels_dims, \\\n",
    "                              CBV_out_dir = CBV_out_dir, \\\n",
    "                              rendered_image_files_list = rendered_image_files_list_hellinger, \\\n",
    "                              top=20, \\\n",
    "                              render_pngs=False, \\\n",
    "                              windowMin = 0, \\\n",
    "                              windowMax = windowMax*0.6, \\\n",
    "                              interpolation = \"nearest\", \\\n",
    "                              cmap = \"hot\", \\\n",
    "                              blur_3d = False, \\\n",
    "                              blur_3d_sigma = 1, \\\n",
    "                              method_comparison = False)"
   ]
  },
  {
   "cell_type": "code",
   "execution_count": 159,
   "metadata": {},
   "outputs": [
    {
     "data": {
      "text/plain": [
       "'\\nraw_vs_topup_e1_hellinger_medians_df\\nraw_vs_epic_e1_hellinger_medians_df\\nraw_vs_topup_e2_hellinger_medians_df\\nraw_vs_epic_e2_hellinger_medians_df\\n'"
      ]
     },
     "execution_count": 159,
     "metadata": {},
     "output_type": "execute_result"
    }
   ],
   "source": [
    "\"\"\"\n",
    "raw_vs_topup_e1_hellinger_medians_df\n",
    "raw_vs_epic_e1_hellinger_medians_df\n",
    "raw_vs_topup_e2_hellinger_medians_df\n",
    "raw_vs_epic_e2_hellinger_medians_df\n",
    "\"\"\"\n",
    "#raw_vs_epic_e2_hellinger_medians_df.index\n",
    "#visualize_regions(raw_vs_topup_e1_hellinger_medians_df, labels_data, labels_dims)\n",
    "#visualize_regions(raw_vs_epic_e1_hellinger_medians_df, labels_data, labels_dims)\n",
    "#visualize_regions(raw_vs_topup_e2_hellinger_medians_df, labels_data, labels_dims)\n",
    "#visualize_regions(raw_vs_epic_e2_hellinger_medians_df, labels_data, labels_dims)"
   ]
  },
  {
   "cell_type": "markdown",
   "metadata": {},
   "source": [
    "7. b) Wasserstein distance between region histograms of Uncorrected and TOPUP corrected rCBVs and Uncorrected and EPIC corrected rCBVs"
   ]
  },
  {
   "cell_type": "code",
   "execution_count": 353,
   "metadata": {},
   "outputs": [],
   "source": [
    "#\"\"\"\n",
    "raw_vs_topup_e1_wasserstein_df = \\\n",
    "preprocess_and_calculate_all_histogram_distances(region_values,\\\n",
    "                                                 region_names,\\\n",
    "                                                 hist_edges,\\\n",
    "                                                 raw_e1_CBV_region_histograms,\\\n",
    "                                                 topup_e1_CBV_region_histograms,\\\n",
    "                                                 two_tail_fraction,\\\n",
    "                                                 comparison_method=\"wasserstein\")\n",
    "raw_vs_topup_e2_wasserstein_df = \\\n",
    "preprocess_and_calculate_all_histogram_distances(region_values,\\\n",
    "                                                 region_names,\\\n",
    "                                                 hist_edges,\\\n",
    "                                                 raw_e2_CBV_region_histograms,\\\n",
    "                                                 topup_e2_CBV_region_histograms,\\\n",
    "                                                 two_tail_fraction,\\\n",
    "                                                 comparison_method=\"wasserstein\")\n",
    "raw_vs_epic_e1_wasserstein_df = \\\n",
    "preprocess_and_calculate_all_histogram_distances(region_values,\\\n",
    "                                                 region_names,\\\n",
    "                                                 hist_edges,\\\n",
    "                                                 raw_e1_CBV_region_histograms,\\\n",
    "                                                 epic_e1_CBV_region_histograms,\\\n",
    "                                                 two_tail_fraction,\\\n",
    "                                                 comparison_method=\"wasserstein\")\n",
    "raw_vs_epic_e2_wasserstein_df = \\\n",
    "preprocess_and_calculate_all_histogram_distances(region_values,\\\n",
    "                                                 region_names,\\\n",
    "                                                 hist_edges,\\\n",
    "                                                 raw_e2_CBV_region_histograms,\\\n",
    "                                                 epic_e2_CBV_region_histograms,\\\n",
    "                                                 two_tail_fraction,\\\n",
    "                                                 comparison_method=\"wasserstein\")\n",
    "#\"\"\""
   ]
  },
  {
   "cell_type": "code",
   "execution_count": 354,
   "metadata": {},
   "outputs": [
    {
     "data": {
      "text/plain": [
       "0.004807692307692308"
      ]
     },
     "execution_count": 354,
     "metadata": {},
     "output_type": "execute_result"
    }
   ],
   "source": [
    "windowMax = \\\n",
    "np.max(\\\n",
    "[raw_vs_topup_e1_wasserstein_df.max().max(), \\\n",
    " raw_vs_topup_e2_wasserstein_df.max().max(), \\\n",
    " raw_vs_epic_e1_wasserstein_df.max().max(), \\\n",
    " raw_vs_epic_e2_wasserstein_df.max().max()])\n",
    "windowMax*0.25"
   ]
  },
  {
   "cell_type": "code",
   "execution_count": 355,
   "metadata": {},
   "outputs": [
    {
     "name": "stderr",
     "output_type": "stream",
     "text": [
      "INFO:spimagine.gui.glwidget | saving frame as ../../epi_corrections_out_2019_07_02_tumor_exluded_from_rcbv/CBV_histograms_bins_64_min_0_max_12_region_rec_c_frac_0.7_region_min_vox_30/Wasserstein-r1-axial-inferior-superior.png\n",
      "INFO:spimagine.gui.glwidget | saving frame as ../../epi_corrections_out_2019_07_02_tumor_exluded_from_rcbv/CBV_histograms_bins_64_min_0_max_12_region_rec_c_frac_0.7_region_min_vox_30/Wasserstein-r1-sagittal-r-l-radiolog.png\n",
      "INFO:spimagine.gui.glwidget | saving frame as ../../epi_corrections_out_2019_07_02_tumor_exluded_from_rcbv/CBV_histograms_bins_64_min_0_max_12_region_rec_c_frac_0.7_region_min_vox_30/Wasserstein-r1-mixed-r-l-radiolog-posterior-anterior.png\n",
      "INFO:spimagine.gui.glwidget | saving frame as ../../epi_corrections_out_2019_07_02_tumor_exluded_from_rcbv/CBV_histograms_bins_64_min_0_max_12_region_rec_c_frac_0.7_region_min_vox_30/Wasserstein-r2-axial-inferior-superior.png\n",
      "INFO:spimagine.gui.glwidget | saving frame as ../../epi_corrections_out_2019_07_02_tumor_exluded_from_rcbv/CBV_histograms_bins_64_min_0_max_12_region_rec_c_frac_0.7_region_min_vox_30/Wasserstein-r2-sagittal-r-l-radiolog.png\n",
      "INFO:spimagine.gui.glwidget | saving frame as ../../epi_corrections_out_2019_07_02_tumor_exluded_from_rcbv/CBV_histograms_bins_64_min_0_max_12_region_rec_c_frac_0.7_region_min_vox_30/Wasserstein-r2-mixed-r-l-radiolog-posterior-anterior.png\n",
      "INFO:spimagine.gui.glwidget | saving frame as ../../epi_corrections_out_2019_07_02_tumor_exluded_from_rcbv/CBV_histograms_bins_64_min_0_max_12_region_rec_c_frac_0.7_region_min_vox_30/Wasserstein-r3-axial-inferior-superior.png\n",
      "INFO:spimagine.gui.glwidget | saving frame as ../../epi_corrections_out_2019_07_02_tumor_exluded_from_rcbv/CBV_histograms_bins_64_min_0_max_12_region_rec_c_frac_0.7_region_min_vox_30/Wasserstein-r3-sagittal-r-l-radiolog.png\n",
      "INFO:spimagine.gui.glwidget | saving frame as ../../epi_corrections_out_2019_07_02_tumor_exluded_from_rcbv/CBV_histograms_bins_64_min_0_max_12_region_rec_c_frac_0.7_region_min_vox_30/Wasserstein-r3-mixed-r-l-radiolog-posterior-anterior.png\n",
      "INFO:spimagine.gui.glwidget | saving frame as ../../epi_corrections_out_2019_07_02_tumor_exluded_from_rcbv/CBV_histograms_bins_64_min_0_max_12_region_rec_c_frac_0.7_region_min_vox_30/Wasserstein-r4-axial-inferior-superior.png\n",
      "INFO:spimagine.gui.glwidget | saving frame as ../../epi_corrections_out_2019_07_02_tumor_exluded_from_rcbv/CBV_histograms_bins_64_min_0_max_12_region_rec_c_frac_0.7_region_min_vox_30/Wasserstein-r4-sagittal-r-l-radiolog.png\n",
      "INFO:spimagine.gui.glwidget | saving frame as ../../epi_corrections_out_2019_07_02_tumor_exluded_from_rcbv/CBV_histograms_bins_64_min_0_max_12_region_rec_c_frac_0.7_region_min_vox_30/Wasserstein-r4-mixed-r-l-radiolog-posterior-anterior.png\n"
     ]
    }
   ],
   "source": [
    "#\"\"\"\n",
    "windowMax = \\\n",
    "np.max(\\\n",
    "[raw_vs_topup_e1_wasserstein_df.max().max(), \\\n",
    " raw_vs_topup_e2_wasserstein_df.max().max(), \\\n",
    " raw_vs_epic_e1_wasserstein_df.max().max(), \\\n",
    " raw_vs_epic_e2_wasserstein_df.max().max()])\n",
    "rendered_image_files_list_wasserstein = \\\n",
    "sorted_boxplot_heatmap_figure(df_1 = raw_vs_topup_e1_wasserstein_df, \\\n",
    "                              df_2 = raw_vs_epic_e1_wasserstein_df, \\\n",
    "                              df_3 = raw_vs_topup_e2_wasserstein_df, \n",
    "                              df_4 = raw_vs_epic_e2_wasserstein_df, \\\n",
    "                              ylabel_1 = \"Uncorr. vs. TOPUP GE\", \\\n",
    "                              ylabel_2 = \"Uncorr. vs. EPIC GE\", \\\n",
    "                              ylabel_3 = \"Uncorr. vs. TOPUP SE\", \\\n",
    "                              ylabel_4 = \"Uncorr. vs. EPIC SE\", \\\n",
    "                              distance_name = \"Wasserstein\", \\\n",
    "                              labels_data = labels_data, \\\n",
    "                              labels_dims =  labels_dims, \\\n",
    "                              CBV_out_dir = CBV_out_dir, \\\n",
    "                              rendered_image_files_list = [], \\\n",
    "                              top=\"all\", \\\n",
    "                              render_pngs=True, \\\n",
    "                              windowMin = 0, \\\n",
    "                              windowMax = windowMax*0.25, \\\n",
    "                              interpolation = \"nearest\", \\\n",
    "                              cmap = \"hot\", \\\n",
    "                              blur_3d = False, \\\n",
    "                              blur_3d_sigma = 1, \\\n",
    "                              method_comparison = False)\n",
    "#\"\"\""
   ]
  },
  {
   "cell_type": "code",
   "execution_count": 363,
   "metadata": {},
   "outputs": [],
   "source": [
    "windowMax = \\\n",
    "np.max(\\\n",
    "[raw_vs_topup_e1_wasserstein_df.max().max(), \\\n",
    " raw_vs_topup_e2_wasserstein_df.max().max(), \\\n",
    " raw_vs_epic_e1_wasserstein_df.max().max(), \\\n",
    " raw_vs_epic_e2_wasserstein_df.max().max()])\n",
    "rendered_image_files_list_wasserstein = \\\n",
    "sorted_boxplot_heatmap_figure(df_1 = raw_vs_topup_e1_wasserstein_df, \\\n",
    "                              df_2 = raw_vs_epic_e1_wasserstein_df, \\\n",
    "                              df_3 = raw_vs_topup_e2_wasserstein_df, \n",
    "                              df_4 = raw_vs_epic_e2_wasserstein_df, \\\n",
    "                              ylabel_1 = \"Uncorr. vs. TOPUP GE\", \\\n",
    "                              ylabel_2 = \"Uncorr. vs. EPIC GE\", \\\n",
    "                              ylabel_3 = \"Uncorr. vs. TOPUP SE\", \\\n",
    "                              ylabel_4 = \"Uncorr. vs. EPIC SE\", \\\n",
    "                              distance_name = \"Wasserstein\", \\\n",
    "                              labels_data = labels_data, \\\n",
    "                              labels_dims =  labels_dims, \\\n",
    "                              CBV_out_dir = CBV_out_dir, \\\n",
    "                              rendered_image_files_list = rendered_image_files_list_wasserstein, \\\n",
    "                              top=20, \\\n",
    "                              render_pngs=False, \\\n",
    "                              windowMin = 0, \\\n",
    "                              windowMax = windowMax*0.3, \\\n",
    "                              interpolation = \"nearest\", \\\n",
    "                              cmap = \"hot\", \\\n",
    "                              blur_3d = False, \\\n",
    "                              blur_3d_sigma = 1, \\\n",
    "                              method_comparison = False)"
   ]
  },
  {
   "cell_type": "code",
   "execution_count": 38,
   "metadata": {},
   "outputs": [
    {
     "data": {
      "text/plain": [
       "' Older figure without pngs\\ntop=20\\nfig = plt.figure(figsize=np.array([6.4*0.6*2, 4.8*0.6*3]))\\nax1 = fig.add_subplot(4, 1, 1)\\nraw_vs_topup_e1_wasserstein_medians_df = sorted_boxplot_histogram_distances(raw_vs_topup_e1_wasserstein_df,                                    ax1,                                    ylabel2=\"Uncorr. vs. TOPUP GE\",                                    ylabel=\"Wasserstein distance\",                                    title=\"Number of observations\",                                    xlabel=\"\", \\n                                   top=top)\\n\\nax2 = fig.add_subplot(4, 1, 2, sharey=ax1)\\nraw_vs_epic_e1_wasserstein_medians_df = sorted_boxplot_histogram_distances(raw_vs_epic_e1_wasserstein_df,                                    ax2,                                    ylabel2=\"Uncorr. vs. EPIC GE\",                                    ylabel=\"Wasserstein distance\",                                    title=\"\",                                    xlabel=\"\",                                    top=top)\\n\\nax3 = fig.add_subplot(4, 1, 3, sharey=ax1)\\nraw_vs_topup_e2_wasserstein_medians_df = sorted_boxplot_histogram_distances(raw_vs_topup_e2_wasserstein_df,                                    ax3,                                    ylabel2=\"Uncorr. vs. TOPUP SE\",                                    ylabel=\"Wasserstein distance\",                                    title=\"\",                                    xlabel=\"\",                                    top=top)\\n\\nax4 = fig.add_subplot(4, 1, 4, sharey=ax1)\\nraw_vs_epic_e2_wasserstein_medians_df = sorted_boxplot_histogram_distances(raw_vs_epic_e2_wasserstein_df,                                    ax4,                                    ylabel2=\"Uncorr. vs. EPIC SE\",                                    ylabel=\"Wasserstein distance\",                                    title=\"\",                                    xlabel=\"Neuromorphometrics Inc. region value\",                                    top=top)\\nplt.suptitle(\"Top \" + str(top) + \" histogram differences sorted after median\")\\nplt.subplots_adjust(hspace=0.5)\\n'"
      ]
     },
     "execution_count": 38,
     "metadata": {},
     "output_type": "execute_result"
    }
   ],
   "source": [
    "\"\"\" Older figure without pngs\n",
    "top=20\n",
    "fig = plt.figure(figsize=np.array([6.4*0.6*2, 4.8*0.6*3]))\n",
    "ax1 = fig.add_subplot(4, 1, 1)\n",
    "raw_vs_topup_e1_wasserstein_medians_df = sorted_boxplot_histogram_distances(raw_vs_topup_e1_wasserstein_df, \\\n",
    "                                   ax1, \\\n",
    "                                   ylabel2=\"Uncorr. vs. TOPUP GE\", \\\n",
    "                                   ylabel=\"Wasserstein distance\", \\\n",
    "                                   title=\"Number of observations\", \\\n",
    "                                   xlabel=\"\", \n",
    "                                   top=top)\n",
    "\n",
    "ax2 = fig.add_subplot(4, 1, 2, sharey=ax1)\n",
    "raw_vs_epic_e1_wasserstein_medians_df = sorted_boxplot_histogram_distances(raw_vs_epic_e1_wasserstein_df, \\\n",
    "                                   ax2, \\\n",
    "                                   ylabel2=\"Uncorr. vs. EPIC GE\", \\\n",
    "                                   ylabel=\"Wasserstein distance\", \\\n",
    "                                   title=\"\", \\\n",
    "                                   xlabel=\"\", \\\n",
    "                                   top=top)\n",
    "\n",
    "ax3 = fig.add_subplot(4, 1, 3, sharey=ax1)\n",
    "raw_vs_topup_e2_wasserstein_medians_df = sorted_boxplot_histogram_distances(raw_vs_topup_e2_wasserstein_df, \\\n",
    "                                   ax3, \\\n",
    "                                   ylabel2=\"Uncorr. vs. TOPUP SE\", \\\n",
    "                                   ylabel=\"Wasserstein distance\", \\\n",
    "                                   title=\"\", \\\n",
    "                                   xlabel=\"\", \\\n",
    "                                   top=top)\n",
    "\n",
    "ax4 = fig.add_subplot(4, 1, 4, sharey=ax1)\n",
    "raw_vs_epic_e2_wasserstein_medians_df = sorted_boxplot_histogram_distances(raw_vs_epic_e2_wasserstein_df, \\\n",
    "                                   ax4, \\\n",
    "                                   ylabel2=\"Uncorr. vs. EPIC SE\", \\\n",
    "                                   ylabel=\"Wasserstein distance\", \\\n",
    "                                   title=\"\", \\\n",
    "                                   xlabel=\"Neuromorphometrics Inc. region value\", \\\n",
    "                                   top=top)\n",
    "plt.suptitle(\"Top \" + str(top) + \" histogram differences sorted after median\")\n",
    "plt.subplots_adjust(hspace=0.5)\n",
    "\"\"\""
   ]
  },
  {
   "cell_type": "code",
   "execution_count": 39,
   "metadata": {},
   "outputs": [],
   "source": [
    "#visualize_regions(raw_vs_topup_e1_wasserstein_medians_df, labels_data, labels_dims)\n",
    "#visualize_regions(raw_vs_epic_e1_wasserstein_medians_df, labels_data, labels_dims)\n",
    "#visualize_regions(raw_vs_topup_e2_wasserstein_medians_df, labels_data, labels_dims)\n",
    "#visualize_regions(raw_vs_epic_e2_wasserstein_medians_df, labels_data, labels_dims)"
   ]
  },
  {
   "cell_type": "markdown",
   "metadata": {},
   "source": [
    "7. c) Hellinger and Wasserstein distance between region histograms of TOPUP and EPIC corrected rCBV"
   ]
  },
  {
   "cell_type": "markdown",
   "metadata": {},
   "source": [
    "A measure of the difference between TOPUP and EPIC on rCBV"
   ]
  },
  {
   "cell_type": "code",
   "execution_count": 356,
   "metadata": {},
   "outputs": [],
   "source": [
    "#\"\"\"\n",
    "topup_vs_epic_e1_hellinger_df = \\\n",
    "preprocess_and_calculate_all_histogram_distances(region_values,\\\n",
    "                                                 region_names,\\\n",
    "                                                 hist_edges,\\\n",
    "                                                 topup_e1_CBV_region_histograms,\\\n",
    "                                                 epic_e1_CBV_region_histograms,\\\n",
    "                                                 two_tail_fraction,\\\n",
    "                                                 comparison_method=\"hellinger\")\n",
    "topup_vs_epic_e2_hellinger_df = \\\n",
    "preprocess_and_calculate_all_histogram_distances(region_values,\\\n",
    "                                                 region_names,\\\n",
    "                                                 hist_edges,\\\n",
    "                                                 topup_e2_CBV_region_histograms,\\\n",
    "                                                 epic_e2_CBV_region_histograms,\\\n",
    "                                                 two_tail_fraction,\\\n",
    "                                                 comparison_method=\"hellinger\")\n",
    "topup_vs_epic_e1_wasserstein_df = \\\n",
    "preprocess_and_calculate_all_histogram_distances(region_values,\\\n",
    "                                                 region_names,\\\n",
    "                                                 hist_edges,\\\n",
    "                                                 topup_e1_CBV_region_histograms,\\\n",
    "                                                 epic_e1_CBV_region_histograms,\\\n",
    "                                                 two_tail_fraction,\\\n",
    "                                                 comparison_method=\"wasserstein\")\n",
    "topup_vs_epic_e2_wasserstein_df = \\\n",
    "preprocess_and_calculate_all_histogram_distances(region_values,\\\n",
    "                                                 region_names,\\\n",
    "                                                 hist_edges,\\\n",
    "                                                 topup_e2_CBV_region_histograms,\\\n",
    "                                                 epic_e2_CBV_region_histograms,\\\n",
    "                                                 two_tail_fraction,\\\n",
    "                                                 comparison_method=\"wasserstein\")\n",
    "#\"\"\""
   ]
  },
  {
   "cell_type": "code",
   "execution_count": 168,
   "metadata": {},
   "outputs": [
    {
     "data": {
      "text/plain": [
       "' Older figure\\ntop=20\\nfig = plt.figure(figsize=np.array([6.4*0.6*2, 4.8*0.6*3]))\\nax1 = fig.add_subplot(4, 1, 1)\\ntopup_vs_epic_e1_hellinger_medians_df = sorted_boxplot_histogram_distances(topup_vs_epic_e1_hellinger_df,                                    ax1,                                    ylabel2=\"TOPUP vs. EPIC GE\",                                    ylabel=\"Hellinger distance\",                                    title=\"Number of observations\",                                    xlabel=\"\", \\n                                   top=top)\\n\\nax2 = fig.add_subplot(4, 1, 2)\\ntopup_vs_epic_e1_wasserstein_medians_df = sorted_boxplot_histogram_distances(topup_vs_epic_e1_wasserstein_df,                                    ax2,                                    ylabel2=\"TOPUP vs. EPIC GE\",                                    ylabel=\"Wasserstein distance\",                                    title=\"\",                                    xlabel=\"\",                                    top=top)\\n\\nax3 = fig.add_subplot(4, 1, 3, sharey=ax1)\\ntopup_vs_epic_e2_hellinger_medians_df = sorted_boxplot_histogram_distances(topup_vs_epic_e2_hellinger_df,                                    ax3,                                    ylabel2=\"TOPUP vs. EPIC SE\",                                    ylabel=\"Hellinger distance\",                                    title=\"\",                                    xlabel=\"\",                                    top=top)\\n\\nax4 = fig.add_subplot(4, 1, 4, sharey=ax2)\\ntopup_vs_epic_e2_wasserstein_medians_df = sorted_boxplot_histogram_distances(topup_vs_epic_e2_wasserstein_df,                                    ax4,                                    ylabel2=\"TOPUP vs. EPIC SE\",                                    ylabel=\"Wasserstein distance\",                                    title=\"\",                                    xlabel=\"Neuromorphometrics Inc. region value\",                                    top=top)\\nplt.suptitle(\"Top \" + str(top) + \" histogram differences sorted after median\")\\nplt.subplots_adjust(hspace=0.5)\\n'"
      ]
     },
     "execution_count": 168,
     "metadata": {},
     "output_type": "execute_result"
    }
   ],
   "source": [
    "\"\"\" Older figure\n",
    "top=20\n",
    "fig = plt.figure(figsize=np.array([6.4*0.6*2, 4.8*0.6*3]))\n",
    "ax1 = fig.add_subplot(4, 1, 1)\n",
    "topup_vs_epic_e1_hellinger_medians_df = sorted_boxplot_histogram_distances(topup_vs_epic_e1_hellinger_df, \\\n",
    "                                   ax1, \\\n",
    "                                   ylabel2=\"TOPUP vs. EPIC GE\", \\\n",
    "                                   ylabel=\"Hellinger distance\", \\\n",
    "                                   title=\"Number of observations\", \\\n",
    "                                   xlabel=\"\", \n",
    "                                   top=top)\n",
    "\n",
    "ax2 = fig.add_subplot(4, 1, 2)\n",
    "topup_vs_epic_e1_wasserstein_medians_df = sorted_boxplot_histogram_distances(topup_vs_epic_e1_wasserstein_df, \\\n",
    "                                   ax2, \\\n",
    "                                   ylabel2=\"TOPUP vs. EPIC GE\", \\\n",
    "                                   ylabel=\"Wasserstein distance\", \\\n",
    "                                   title=\"\", \\\n",
    "                                   xlabel=\"\", \\\n",
    "                                   top=top)\n",
    "\n",
    "ax3 = fig.add_subplot(4, 1, 3, sharey=ax1)\n",
    "topup_vs_epic_e2_hellinger_medians_df = sorted_boxplot_histogram_distances(topup_vs_epic_e2_hellinger_df, \\\n",
    "                                   ax3, \\\n",
    "                                   ylabel2=\"TOPUP vs. EPIC SE\", \\\n",
    "                                   ylabel=\"Hellinger distance\", \\\n",
    "                                   title=\"\", \\\n",
    "                                   xlabel=\"\", \\\n",
    "                                   top=top)\n",
    "\n",
    "ax4 = fig.add_subplot(4, 1, 4, sharey=ax2)\n",
    "topup_vs_epic_e2_wasserstein_medians_df = sorted_boxplot_histogram_distances(topup_vs_epic_e2_wasserstein_df, \\\n",
    "                                   ax4, \\\n",
    "                                   ylabel2=\"TOPUP vs. EPIC SE\", \\\n",
    "                                   ylabel=\"Wasserstein distance\", \\\n",
    "                                   title=\"\", \\\n",
    "                                   xlabel=\"Neuromorphometrics Inc. region value\", \\\n",
    "                                   top=top)\n",
    "plt.suptitle(\"Top \" + str(top) + \" histogram differences sorted after median\")\n",
    "plt.subplots_adjust(hspace=0.5)\n",
    "\"\"\""
   ]
  },
  {
   "cell_type": "code",
   "execution_count": 367,
   "metadata": {},
   "outputs": [
    {
     "name": "stderr",
     "output_type": "stream",
     "text": [
      "INFO:spimagine.gui.glwidget | saving frame as ../../epi_corrections_out_2019_07_02_tumor_exluded_from_rcbv/CBV_histograms_bins_64_min_0_max_12_region_rec_c_frac_0.7_region_min_vox_30/Hellinger-and-Wasserstein-r1-axial-inferior-superior.png\n",
      "INFO:spimagine.gui.glwidget | saving frame as ../../epi_corrections_out_2019_07_02_tumor_exluded_from_rcbv/CBV_histograms_bins_64_min_0_max_12_region_rec_c_frac_0.7_region_min_vox_30/Hellinger-and-Wasserstein-r1-sagittal-r-l-radiolog.png\n",
      "INFO:spimagine.gui.glwidget | saving frame as ../../epi_corrections_out_2019_07_02_tumor_exluded_from_rcbv/CBV_histograms_bins_64_min_0_max_12_region_rec_c_frac_0.7_region_min_vox_30/Hellinger-and-Wasserstein-r1-mixed-r-l-radiolog-posterior-anterior.png\n",
      "INFO:spimagine.gui.glwidget | saving frame as ../../epi_corrections_out_2019_07_02_tumor_exluded_from_rcbv/CBV_histograms_bins_64_min_0_max_12_region_rec_c_frac_0.7_region_min_vox_30/Hellinger-and-Wasserstein-r2-axial-inferior-superior.png\n",
      "INFO:spimagine.gui.glwidget | saving frame as ../../epi_corrections_out_2019_07_02_tumor_exluded_from_rcbv/CBV_histograms_bins_64_min_0_max_12_region_rec_c_frac_0.7_region_min_vox_30/Hellinger-and-Wasserstein-r2-sagittal-r-l-radiolog.png\n",
      "INFO:spimagine.gui.glwidget | saving frame as ../../epi_corrections_out_2019_07_02_tumor_exluded_from_rcbv/CBV_histograms_bins_64_min_0_max_12_region_rec_c_frac_0.7_region_min_vox_30/Hellinger-and-Wasserstein-r2-mixed-r-l-radiolog-posterior-anterior.png\n",
      "INFO:spimagine.gui.glwidget | saving frame as ../../epi_corrections_out_2019_07_02_tumor_exluded_from_rcbv/CBV_histograms_bins_64_min_0_max_12_region_rec_c_frac_0.7_region_min_vox_30/Hellinger-and-Wasserstein-r3-axial-inferior-superior.png\n",
      "INFO:spimagine.gui.glwidget | saving frame as ../../epi_corrections_out_2019_07_02_tumor_exluded_from_rcbv/CBV_histograms_bins_64_min_0_max_12_region_rec_c_frac_0.7_region_min_vox_30/Hellinger-and-Wasserstein-r3-sagittal-r-l-radiolog.png\n",
      "INFO:spimagine.gui.glwidget | saving frame as ../../epi_corrections_out_2019_07_02_tumor_exluded_from_rcbv/CBV_histograms_bins_64_min_0_max_12_region_rec_c_frac_0.7_region_min_vox_30/Hellinger-and-Wasserstein-r3-mixed-r-l-radiolog-posterior-anterior.png\n",
      "INFO:spimagine.gui.glwidget | saving frame as ../../epi_corrections_out_2019_07_02_tumor_exluded_from_rcbv/CBV_histograms_bins_64_min_0_max_12_region_rec_c_frac_0.7_region_min_vox_30/Hellinger-and-Wasserstein-r4-axial-inferior-superior.png\n",
      "INFO:spimagine.gui.glwidget | saving frame as ../../epi_corrections_out_2019_07_02_tumor_exluded_from_rcbv/CBV_histograms_bins_64_min_0_max_12_region_rec_c_frac_0.7_region_min_vox_30/Hellinger-and-Wasserstein-r4-sagittal-r-l-radiolog.png\n",
      "INFO:spimagine.gui.glwidget | saving frame as ../../epi_corrections_out_2019_07_02_tumor_exluded_from_rcbv/CBV_histograms_bins_64_min_0_max_12_region_rec_c_frac_0.7_region_min_vox_30/Hellinger-and-Wasserstein-r4-mixed-r-l-radiolog-posterior-anterior.png\n"
     ]
    }
   ],
   "source": [
    "\"\"\"\n",
    "windowMax_hellinger_scaled = \\\n",
    "np.max(\\\n",
    "[topup_vs_epic_e1_hellinger_df.max().max(), \\\n",
    " topup_vs_epic_e2_hellinger_df.max().max()])*0.5\n",
    "\n",
    "windowMax_wasserstein_scaled = \\\n",
    "np.max(\\\n",
    "[topup_vs_epic_e1_wasserstein_df.max().max(), \\\n",
    " topup_vs_epic_e2_wasserstein_df.max().max()])*0.25\n",
    "\n",
    "rendered_image_files_list_correction_method_comparison = \\\n",
    "sorted_boxplot_heatmap_figure(df_1 = topup_vs_epic_e1_hellinger_df, \\\n",
    "                              df_2 = topup_vs_epic_e1_wasserstein_df, \\\n",
    "                              df_3 = topup_vs_epic_e2_hellinger_df, \n",
    "                              df_4 = topup_vs_epic_e2_wasserstein_df, \\\n",
    "                              ylabel_1 = \"TOPUP. vs. EPIC GE\", \\\n",
    "                              ylabel_2 = \"TOPUP. vs. EPIC GE\", \\\n",
    "                              ylabel_3 = \"TOPUP. vs. EPIC SE\", \\\n",
    "                              ylabel_4 = \"TOPUP. vs. EPIC SE\", \\\n",
    "                              distance_name = \"Hellinger-and-Wasserstein\", \\\n",
    "                              labels_data = labels_data, \\\n",
    "                              labels_dims =  labels_dims, \\\n",
    "                              CBV_out_dir = CBV_out_dir, \\\n",
    "                              rendered_image_files_list = [], \\\n",
    "                              top=\"all\", \\\n",
    "                              render_pngs=True, \\\n",
    "                              windowMin = 0, \\\n",
    "                              windowMax = windowMax_hellinger_scaled, \\\n",
    "                              interpolation = \"nearest\", \\\n",
    "                              cmap = \"hot\", \\\n",
    "                              blur_3d = False, \\\n",
    "                              blur_3d_sigma = 1, \\\n",
    "                              method_comparison = True)\n",
    "\"\"\""
   ]
  },
  {
   "cell_type": "code",
   "execution_count": 368,
   "metadata": {},
   "outputs": [],
   "source": [
    "#\"\"\"\n",
    "rendered_image_files_list_correction_method_comparison = \\\n",
    "sorted_boxplot_heatmap_figure(df_1 = topup_vs_epic_e1_hellinger_df, \\\n",
    "                              df_2 = topup_vs_epic_e1_wasserstein_df, \\\n",
    "                              df_3 = topup_vs_epic_e2_hellinger_df, \n",
    "                              df_4 = topup_vs_epic_e2_wasserstein_df, \\\n",
    "                              ylabel_1 = \"TOPUP. vs. EPIC GE\", \\\n",
    "                              ylabel_2 = \"TOPUP. vs. EPIC GE\", \\\n",
    "                              ylabel_3 = \"TOPUP. vs. EPIC SE\", \\\n",
    "                              ylabel_4 = \"TOPUP. vs. EPIC SE\", \\\n",
    "                              distance_name = \"Hellinger-and-Wasserstein\", \\\n",
    "                              labels_data = labels_data, \\\n",
    "                              labels_dims =  labels_dims, \\\n",
    "                              CBV_out_dir = CBV_out_dir, \\\n",
    "                              rendered_image_files_list = rendered_image_files_list_correction_method_comparison, \\\n",
    "                              top=20, \\\n",
    "                              render_pngs=False, \\\n",
    "                              windowMin = 0, \\\n",
    "                              windowMax = windowMax_wasserstein_scaled, \\\n",
    "                              interpolation = \"nearest\", \\\n",
    "                              cmap = \"hot\", \\\n",
    "                              blur_3d = False, \\\n",
    "                              blur_3d_sigma = 1, \\\n",
    "                              method_comparison = True)\n",
    "#\"\"\""
   ]
  },
  {
   "cell_type": "code",
   "execution_count": 50,
   "metadata": {},
   "outputs": [],
   "source": [
    "#visualize_regions(topup_vs_epic_e1_hellinger_medians_df, labels_data, labels_dims)\n",
    "#visualize_regions(topup_vs_epic_e1_wasserstein_medians_df, labels_data, labels_dims)\n",
    "#visualize_regions(topup_vs_epic_e2_hellinger_medians_df, labels_data, labels_dims)\n",
    "#visualize_regions(topup_vs_epic_e2_wasserstein_medians_df, labels_data, labels_dims)"
   ]
  },
  {
   "cell_type": "markdown",
   "metadata": {},
   "source": [
    "8. Based on the figures, render the top 15 most deviating regions"
   ]
  },
  {
   "cell_type": "code",
   "execution_count": 45,
   "metadata": {},
   "outputs": [],
   "source": [
    "# Manual pick from figures\n",
    "#top_regions_no_lower_v_limit_desc = [69, 75, 50, 76, 49, 30, 23, 31, 32, 4, 187, 11, 46, 148, 186]"
   ]
  },
  {
   "cell_type": "code",
   "execution_count": null,
   "metadata": {},
   "outputs": [],
   "source": []
  },
  {
   "cell_type": "code",
   "execution_count": 515,
   "metadata": {},
   "outputs": [
    {
     "data": {
      "text/html": [
       "<div>\n",
       "<style scoped>\n",
       "    .dataframe tbody tr th:only-of-type {\n",
       "        vertical-align: middle;\n",
       "    }\n",
       "\n",
       "    .dataframe tbody tr th {\n",
       "        vertical-align: top;\n",
       "    }\n",
       "\n",
       "    .dataframe thead th {\n",
       "        text-align: right;\n",
       "    }\n",
       "</style>\n",
       "<table border=\"1\" class=\"dataframe\">\n",
       "  <thead>\n",
       "    <tr style=\"text-align: right;\">\n",
       "      <th></th>\n",
       "      <th>0</th>\n",
       "    </tr>\n",
       "  </thead>\n",
       "  <tbody>\n",
       "    <tr>\n",
       "      <th>75</th>\n",
       "      <td>0.091922</td>\n",
       "    </tr>\n",
       "    <tr>\n",
       "      <th>76</th>\n",
       "      <td>0.091122</td>\n",
       "    </tr>\n",
       "    <tr>\n",
       "      <th>49</th>\n",
       "      <td>0.084657</td>\n",
       "    </tr>\n",
       "    <tr>\n",
       "      <th>30</th>\n",
       "      <td>0.052248</td>\n",
       "    </tr>\n",
       "    <tr>\n",
       "      <th>187</th>\n",
       "      <td>0.051694</td>\n",
       "    </tr>\n",
       "    <tr>\n",
       "      <th>23</th>\n",
       "      <td>0.051411</td>\n",
       "    </tr>\n",
       "    <tr>\n",
       "      <th>31</th>\n",
       "      <td>0.049648</td>\n",
       "    </tr>\n",
       "    <tr>\n",
       "      <th>32</th>\n",
       "      <td>0.047985</td>\n",
       "    </tr>\n",
       "    <tr>\n",
       "      <th>4</th>\n",
       "      <td>0.047584</td>\n",
       "    </tr>\n",
       "    <tr>\n",
       "      <th>148</th>\n",
       "      <td>0.047137</td>\n",
       "    </tr>\n",
       "    <tr>\n",
       "      <th>46</th>\n",
       "      <td>0.045003</td>\n",
       "    </tr>\n",
       "    <tr>\n",
       "      <th>186</th>\n",
       "      <td>0.044266</td>\n",
       "    </tr>\n",
       "    <tr>\n",
       "      <th>116</th>\n",
       "      <td>0.042989</td>\n",
       "    </tr>\n",
       "    <tr>\n",
       "      <th>117</th>\n",
       "      <td>0.041857</td>\n",
       "    </tr>\n",
       "    <tr>\n",
       "      <th>149</th>\n",
       "      <td>0.038765</td>\n",
       "    </tr>\n",
       "    <tr>\n",
       "      <th>11</th>\n",
       "      <td>0.037549</td>\n",
       "    </tr>\n",
       "    <tr>\n",
       "      <th>206</th>\n",
       "      <td>0.035648</td>\n",
       "    </tr>\n",
       "    <tr>\n",
       "      <th>207</th>\n",
       "      <td>0.033141</td>\n",
       "    </tr>\n",
       "    <tr>\n",
       "      <th>55</th>\n",
       "      <td>0.032763</td>\n",
       "    </tr>\n",
       "    <tr>\n",
       "      <th>56</th>\n",
       "      <td>0.032613</td>\n",
       "    </tr>\n",
       "  </tbody>\n",
       "</table>\n",
       "</div>"
      ],
      "text/plain": [
       "            0\n",
       "75   0.091922\n",
       "76   0.091122\n",
       "49   0.084657\n",
       "30   0.052248\n",
       "187  0.051694\n",
       "23   0.051411\n",
       "31   0.049648\n",
       "32   0.047985\n",
       "4    0.047584\n",
       "148  0.047137\n",
       "46   0.045003\n",
       "186  0.044266\n",
       "116  0.042989\n",
       "117  0.041857\n",
       "149  0.038765\n",
       "11   0.037549\n",
       "206  0.035648\n",
       "207  0.033141\n",
       "55   0.032763\n",
       "56   0.032613"
      ]
     },
     "execution_count": 515,
     "metadata": {},
     "output_type": "execute_result"
    }
   ],
   "source": [
    "b"
   ]
  },
  {
   "cell_type": "code",
   "execution_count": 562,
   "metadata": {},
   "outputs": [],
   "source": []
  },
  {
   "cell_type": "code",
   "execution_count": 563,
   "metadata": {},
   "outputs": [
    {
     "data": {
      "text/plain": [
       "75     0.158783\n",
       "76     0.143448\n",
       "30     0.129573\n",
       "46     0.125235\n",
       "23     0.121759\n",
       "4      0.116188\n",
       "49     0.114890\n",
       "32     0.108450\n",
       "207    0.101745\n",
       "117    0.093019\n",
       "56     0.092497\n",
       "187    0.092392\n",
       "31     0.090927\n",
       "206    0.090299\n",
       "186    0.084964\n",
       "55     0.080437\n",
       "11     0.077665\n",
       "116    0.070314\n",
       "148    0.056439\n",
       "149    0.050974\n",
       "dtype: float64"
      ]
     },
     "execution_count": 563,
     "metadata": {},
     "output_type": "execute_result"
    }
   ],
   "source": [
    "tophellinger"
   ]
  },
  {
   "cell_type": "code",
   "execution_count": 565,
   "metadata": {},
   "outputs": [
    {
     "name": "stdout",
     "output_type": "stream",
     "text": [
      "Hellinger top 134 regions:\n",
      "\n",
      " [75, 76, 49, 30, 23, 46, 4, 32, 165, 187, 31, 207, 119, 117, 186, 185, 164, 184, 206, 136, 56, 179, 62, 175, 173, 181, 137, 103, 118, 105, 178, 37, 104, 171, 58, 61, 60, 113, 11, 114, 108, 55, 197, 116, 115, 205, 109, 156, 144, 157, 141, 196, 180, 145, 48, 140, 204, 161, 201, 172, 148, 174, 71, 160, 170, 59, 72, 128, 135, 36, 129, 52, 125, 112, 121, 134, 124, 57, 149, 147, 200, 47, 146, 163, 166, 100, 120, 102, 167, 51, 162, 203, 123, 101, 139, 122, 154, 195, 106, 107, 35, 155, 194, 138, 202, 150, 168, 169, 151, 153, 73, 152, 199, 133, 41, 143, 132, 40, 198, 193, 177, 183, 142, 191, 45, 192, 176, 182, 44, 39, 38, 69, 50, 190]\n",
      "\n",
      "Wasserstein top 134 regions:\n",
      "\n",
      " [187, 30, 75, 23, 4, 46, 186, 11, 76, 56, 165, 32, 55, 49, 119, 117, 62, 136, 164, 31, 58, 179, 104, 60, 137, 207, 37, 105, 61, 185, 184, 175, 52, 205, 103, 171, 114, 173, 113, 108, 71, 144, 115, 197, 145, 109, 116, 157, 118, 156, 178, 124, 181, 196, 204, 59, 121, 125, 72, 201, 206, 141, 128, 48, 161, 36, 140, 135, 129, 57, 160, 172, 51, 170, 174, 120, 134, 147, 200, 180, 112, 203, 146, 47, 166, 163, 167, 162, 102, 100, 123, 154, 101, 35, 122, 155, 106, 148, 139, 195, 194, 202, 107, 138, 149, 133, 73, 153, 40, 168, 152, 41, 169, 132, 199, 143, 151, 150, 198, 193, 38, 142, 177, 191, 39, 45, 183, 44, 176, 182, 192, 190, 50, 69]\n",
      "\n",
      "Overall top 134 regions:\n",
      "\n",
      " [75, 76, 30, 23, 49, 187, 4, 46, 32, 165, 186, 56, 31, 119, 117, 11, 164, 207, 136, 62, 55, 179, 185, 184, 58, 137, 104, 175, 105, 37, 60, 61, 173, 103, 206, 171, 113, 118, 114, 178, 181, 108, 205, 197, 115, 116, 109, 144, 156, 157, 145, 71, 196, 141, 204, 52, 48, 201, 59, 140, 161, 72, 172, 124, 128, 180, 174, 160, 121, 36, 170, 125, 135, 129, 57, 134, 112, 147, 200, 51, 120, 146, 47, 163, 203, 166, 148, 167, 102, 100, 162, 123, 149, 101, 154, 122, 35, 139, 195, 106, 155, 194, 107, 202, 138, 73, 153, 168, 133, 169, 152, 150, 151, 199, 41, 40, 132, 143, 198, 193, 177, 142, 183, 191, 38, 45, 39, 44, 176, 192, 182, 50, 69, 190]\n",
      "\n"
     ]
    }
   ],
   "source": [
    "# Automatic pic using mean top sum of medians\n",
    "#numtop = 20\n",
    "numtop = raw_vs_topup_e1_hellinger_df.columns.shape[0]\n",
    "\n",
    "tophellinger = pd.concat([\\\n",
    "                      raw_vs_topup_e1_hellinger_df.median().to_frame(), \\\n",
    "                      raw_vs_topup_e2_hellinger_df.median().to_frame(), \\\n",
    "                      raw_vs_epic_e1_hellinger_df.median().to_frame(), \\\n",
    "                      raw_vs_epic_e2_hellinger_df.median().to_frame()], \\\n",
    "                     axis=1, sort=False).apply(lambda r: r.sum(), axis=1).sort_values(ascending=False)[0:numtop]\n",
    "tophellingersum = tophellinger.sum()\n",
    "# Normalize the top medians to have sum of 1 for comparison with Wasserstein\n",
    "tophellinger = tophellinger.apply(lambda r: r/tophellingersum)\n",
    "\n",
    "\n",
    "tophellinger_numobs = pd.concat([\\\n",
    "                      raw_vs_topup_e1_hellinger_df.notna().sum().to_frame(), \\\n",
    "                      raw_vs_topup_e2_hellinger_df.notna().sum().to_frame(), \\\n",
    "                      raw_vs_epic_e1_hellinger_df.notna().sum().to_frame(), \\\n",
    "                      raw_vs_epic_e2_hellinger_df.notna().sum().to_frame()], \\\n",
    "                     axis=1, sort=False).apply(lambda r: r.sum(), axis=1)\n",
    "# Select only selected areas according to tophellinger\n",
    "tophellinger_numobs = tophellinger_numobs.to_frame().loc[tophellinger.to_frame().index]\n",
    "tophellinger_numobs_sum = tophellinger_numobs.sum()\n",
    "# Normalize\n",
    "tophellinger_numobs = tophellinger_numobs.apply(lambda r: r/np.float(tophellinger_numobs_sum))\n",
    "# weighted according to number of observations\n",
    "tophellinger = pd.concat([tophellinger.to_frame(), \\\n",
    "                          tophellinger_numobs], axis=1, \\\n",
    "                         sort=False).apply(lambda r: r.sum(), axis=1).sort_values(ascending=False)\n",
    "\n",
    "\n",
    "topwasserstein = pd.concat([\\\n",
    "                      raw_vs_topup_e1_wasserstein_df.median().to_frame(), \\\n",
    "                      raw_vs_topup_e2_wasserstein_df.median().to_frame(), \\\n",
    "                      raw_vs_epic_e1_wasserstein_df.median().to_frame(), \\\n",
    "                      raw_vs_epic_e2_wasserstein_df.median().to_frame()], \\\n",
    "                     axis=1, sort=False).apply(lambda r: r.sum(), axis=1).sort_values(ascending=False)[0:numtop]\n",
    "topwassersteinsum = topwasserstein.sum()\n",
    "# Normalize the top medians to have sum of 1 for comparison with Hellinger\n",
    "topwasserstein = topwasserstein.apply(lambda r: r/topwassersteinsum)\n",
    "\n",
    "\n",
    "topwasserstein_numobs = pd.concat([\\\n",
    "                      raw_vs_topup_e1_wasserstein_df.notna().sum().to_frame(), \\\n",
    "                      raw_vs_topup_e2_wasserstein_df.notna().sum().to_frame(), \\\n",
    "                      raw_vs_epic_e1_wasserstein_df.notna().sum().to_frame(), \\\n",
    "                      raw_vs_epic_e2_wasserstein_df.notna().sum().to_frame()], \\\n",
    "                     axis=1, sort=False).apply(lambda r: r.sum(), axis=1)\n",
    "# Select only selected areas according to topwasserstein\n",
    "topwasserstein_numobs = topwasserstein_numobs.to_frame().loc[topwasserstein.to_frame().index]\n",
    "topwasserstein_numobs_sum = topwasserstein_numobs.sum()\n",
    "# Normalize\n",
    "topwasserstein_numobs = topwasserstein_numobs.apply(lambda r: r/np.float(topwasserstein_numobs_sum))\n",
    "# weighted according to number of observations\n",
    "topwasserstein = pd.concat([topwasserstein.to_frame(), \\\n",
    "                            topwasserstein_numobs], axis=1, \\\n",
    "                           sort=False).apply(lambda r: r.sum(), axis=1).sort_values(ascending=False)\n",
    "\n",
    "\n",
    "overalltop = pd.concat([tophellinger.to_frame(), topwasserstein.to_frame()], \\\n",
    "                       axis=1, sort=False).apply(lambda r: r.sum(), axis=1).sort_values(ascending=False)[0:numtop]\n",
    "#\"\"\"\n",
    "tophellinger = [int(r) for r in tophellinger.keys()]\n",
    "topwasserstein = [int(r) for r in topwasserstein.keys()]\n",
    "overalltop = [int(r) for r in overalltop.keys()]\n",
    "print(\"Hellinger top %i regions:\\n\\n %a\\n\" % (numtop, tophellinger))\n",
    "print(\"Wasserstein top %i regions:\\n\\n %a\\n\" % (numtop, topwasserstein))\n",
    "print(\"Overall top %i regions:\\n\\n %a\\n\" % (len(overalltop), overalltop))\n",
    "#\"\"\""
   ]
  },
  {
   "cell_type": "markdown",
   "metadata": {},
   "source": [
    "Select which top list to use"
   ]
  },
  {
   "cell_type": "code",
   "execution_count": 566,
   "metadata": {},
   "outputs": [],
   "source": [
    "use = \"combined\"\n",
    "if use == \"hellinger\":\n",
    "    top_regions_desc = tophellinger\n",
    "elif use == \"wasserstein\":\n",
    "    top_regions_desc = topwasserstein\n",
    "elif use == \"combined\":\n",
    "    top_regions_desc = overalltop\n",
    "elif use == \"combined_picked\":\n",
    "    # Picked from overalltop\n",
    "    #top_regions_desc = [75, 76, 50, 49, 30, 23, 4, 11, 32, 31, 46, 117, 116]\n",
    "    # Picked from overalltop when tumor excluded and csf and ventricles removed\n",
    "    top_regions_desc = [75, 76, 30, 23, 31, 32, 116, 117, 55, 148, 56, 149, 164, 170, 165, 141, 125, 124, 206, 140, 171, 207, 179, 157, 105, 72, 178, 173]"
   ]
  },
  {
   "cell_type": "code",
   "execution_count": 567,
   "metadata": {},
   "outputs": [
    {
     "data": {
      "text/plain": [
       "PosixPath('/run/user/1000/gvfs/smb-share:server=192.168.1.207,share=hdd3tb1/data/IVS_EPI_BASELINE/epi_corrections_out_2019_07_02_tumor_exluded_from_rcbv/EPI_applyepic/Anonymized/DEFACED_IVS/1767888627/DAY_0000/No_DeFacing_GE-SE_EPI_SSH_v1_32CH_V2_scan/r_e2_labels_Neuromorphometrics.nii')"
      ]
     },
     "execution_count": 567,
     "metadata": {},
     "output_type": "execute_result"
    }
   ],
   "source": [
    "labels_path"
   ]
  },
  {
   "cell_type": "code",
   "execution_count": 568,
   "metadata": {},
   "outputs": [
    {
     "data": {
      "text/plain": [
       "134"
      ]
     },
     "execution_count": 568,
     "metadata": {},
     "output_type": "execute_result"
    }
   ],
   "source": [
    "len(top_regions_desc)"
   ]
  },
  {
   "cell_type": "code",
   "execution_count": 569,
   "metadata": {},
   "outputs": [],
   "source": [
    "#new_labels_path = '/run/user/1000/gvfs/smb-share:server=192.168.1.207,share=hdd3tb1/data/IVS_EPI_BASELINE/epi_corrections_out_2019_07_02/EPI_applyepic/Anonymized/DEFACED_IVS/682599102/DAY_0000/No_DeFacing_WIP_GE-SE_EPI_SSH_v1_32CH_SENSE/_e1_labels_Neuromorphometrics.nii'"
   ]
  },
  {
   "cell_type": "code",
   "execution_count": 570,
   "metadata": {},
   "outputs": [],
   "source": [
    "#Find the top regions from the regions file\n",
    "labels_data, labels_dims, labels_hdr = load_nifti(str(labels_path))\n",
    "labels_data = xyz_to_zyx(labels_data)\n",
    "\n",
    "labels_data_copy = labels_data.copy()\n",
    "\n",
    "value = len(top_regions_desc)\n",
    "\n",
    "for n in np.array(np.unique(labels_data_copy)):\n",
    "    if n not in top_regions_desc:\n",
    "        labels_data_copy[labels_data_copy == n] = 0\n",
    "\n",
    "for n in top_regions_desc:\n",
    "    labels_data_copy[labels_data == n] = value\n",
    "    value -= 1"
   ]
  },
  {
   "cell_type": "code",
   "execution_count": 571,
   "metadata": {},
   "outputs": [
    {
     "data": {
      "text/plain": [
       "array([  0.,   1.,   2.,   3.,   4.,   5.,   6.,   7.,   8.,   9.,  10.,\n",
       "        11.,  12.,  13.,  14.,  15.,  16.,  17.,  18.,  19.,  20.,  21.,\n",
       "        22.,  23.,  24.,  25.,  26.,  27.,  28.,  29.,  30.,  31.,  32.,\n",
       "        33.,  34.,  35.,  36.,  37.,  38.,  39.,  40.,  41.,  42.,  43.,\n",
       "        44.,  45.,  46.,  47.,  48.,  49.,  50.,  51.,  52.,  53.,  54.,\n",
       "        55.,  56.,  57.,  58.,  59.,  60.,  61.,  62.,  63.,  64.,  65.,\n",
       "        66.,  67.,  68.,  69.,  70.,  71.,  72.,  73.,  74.,  75.,  76.,\n",
       "        77.,  78.,  79.,  80.,  81.,  82.,  83.,  84.,  85.,  86.,  87.,\n",
       "        88.,  89.,  90.,  91.,  92.,  93.,  94.,  95.,  96.,  97.,  98.,\n",
       "        99., 100., 101., 102., 103., 104., 105., 106., 107., 108., 109.,\n",
       "       110., 111., 112., 113., 114., 115., 116., 117., 118., 119., 120.,\n",
       "       121., 122., 123., 124., 125., 126., 127., 128., 129., 130., 131.,\n",
       "       132., 133., 134.])"
      ]
     },
     "execution_count": 571,
     "metadata": {},
     "output_type": "execute_result"
    }
   ],
   "source": [
    "np.unique(labels_data_copy)"
   ]
  },
  {
   "cell_type": "code",
   "execution_count": 572,
   "metadata": {},
   "outputs": [],
   "source": [
    "labels_affine = nib.load(str(labels_path)).affine"
   ]
  },
  {
   "cell_type": "code",
   "execution_count": 573,
   "metadata": {},
   "outputs": [
    {
     "name": "stdout",
     "output_type": "stream",
     "text": [
      "Number of regions excluded: 0\n"
     ]
    }
   ],
   "source": [
    "print(\"Number of regions excluded: %i\" % (np.unique(labels_data).shape[0] - np.unique(labels_data_copy).shape[0]))"
   ]
  },
  {
   "cell_type": "code",
   "execution_count": 574,
   "metadata": {},
   "outputs": [],
   "source": [
    "# For saving to nifti\n",
    "img = nib.spatialimages.SpatialImage(xyz_to_zyx(labels_data_copy), affine=labels_affine, header=labels_hdr)"
   ]
  },
  {
   "cell_type": "code",
   "execution_count": 575,
   "metadata": {},
   "outputs": [
    {
     "data": {
      "text/plain": [
       "'../../epi_corrections_out_2019_07_02_tumor_exluded_from_rcbv/CBV_histograms_bins_64_min_0_max_12_region_rec_c_frac_0.7_region_min_vox_30'"
      ]
     },
     "execution_count": 575,
     "metadata": {},
     "output_type": "execute_result"
    }
   ],
   "source": [
    "CBV_out_dir"
   ]
  },
  {
   "cell_type": "code",
   "execution_count": 576,
   "metadata": {},
   "outputs": [],
   "source": [
    "output_rel_dir = CBV_out_dir\n",
    "png_prefix = \"top-\" + str(numtop) + \"-\" + use\n",
    "png_file_1 = output_rel_dir + \"/\" + png_prefix + \"-axial-inferior-superior.png\"\n",
    "png_file_2 = output_rel_dir + \"/\" + png_prefix + \"-sagittal-r-l-radiolog.png\"\n",
    "png_file_3 = output_rel_dir + \"/\" + png_prefix + \"-mixed-r-l-radiolog-posterior-anterior.png\""
   ]
  },
  {
   "cell_type": "code",
   "execution_count": 579,
   "metadata": {},
   "outputs": [],
   "source": [
    "nifti_file = output_rel_dir + \"/\" + png_prefix + \".nii\""
   ]
  },
  {
   "cell_type": "code",
   "execution_count": 580,
   "metadata": {},
   "outputs": [],
   "source": [
    "# Write the nifti file\n",
    "nib.save(img, nifti_file)"
   ]
  },
  {
   "cell_type": "code",
   "execution_count": 578,
   "metadata": {},
   "outputs": [
    {
     "data": {
      "text/plain": [
       "'\\n# Third view\\nspim_widget.transform.setQuaternion(Quaternion(-0.3228904671232426,-0.8924886253708287,-0.28916944161613134,0.12484724075684332))\\n# Take snapshot\\nspim_widget.saveFrame(png_file_3)\\n'"
      ]
     },
     "execution_count": 578,
     "metadata": {},
     "output_type": "execute_result"
    }
   ],
   "source": [
    "# Visualize/save the top regions as pngs\n",
    "volfig()\n",
    "spim_widget = \\\n",
    "volshow(labels_data_copy[::-1, ::-1, ::-1], stackUnits=labels_dims, interpolation=\"nearest\")\n",
    "spim_widget.set_colormap(\"hot\")\n",
    "\n",
    "# Set bounding box not visible\n",
    "spim_widget.transform.setBox(False)\n",
    "\n",
    "# Zoom\n",
    "spim_widget.transform.setZoom(1.4)\n",
    "# NB: The rotations are not adding up.\n",
    "# each spim_widget.transform.setRotation call\n",
    "# rotates from original orientation given by volshow()\n",
    "\n",
    "#\"\"\"\n",
    "# First view\n",
    "spim_widget.transform.setQuaternion(Quaternion(-0.005634209439510011,0.00790509382124309,-0.0013812284289010514,-0.9999519273706857))\n",
    "# Take snapshot\n",
    "#spim_widget.saveFrame(png_file_1)\n",
    "#\"\"\"\n",
    "\n",
    "\"\"\" \n",
    "# Second view\n",
    "spim_widget.transform.setQuaternion(Quaternion(0.007638906066214874,-0.7092538697232732,-0.004760086014776442,0.7048956918250604))\n",
    "# Take snapshot\n",
    "spim_widget.saveFrame(png_file_2)\n",
    "\"\"\"\n",
    "\n",
    "\"\"\"\n",
    "# Third view\n",
    "spim_widget.transform.setQuaternion(Quaternion(-0.3228904671232426,-0.8924886253708287,-0.28916944161613134,0.12484724075684332))\n",
    "# Take snapshot\n",
    "spim_widget.saveFrame(png_file_3)\n",
    "\"\"\"\n",
    "\n",
    "#spim_widget.closeMe()"
   ]
  },
  {
   "cell_type": "markdown",
   "metadata": {},
   "source": [
    "```bash\n",
    "# Converting and merging top gifs to powerpoint .mp4\n",
    "\n",
    "ls top-134-combined-*.png | xargs -I file convert file -fill white -opaque black file\n",
    "\n",
    "ffmpeg -i top-134-3d.gif -vf \"pad=ceil(iw/2)*2:ceil(ih/2)*2\" -c:v libx264 -preset slow -profile:v high -level:v 4.0 -pix_fmt yuv420p -crf 1 top-134-3d.mp4\n",
    "\n",
    "ffmpeg -i top-134-3d-picked.gif -vf \"pad=ceil(iw/2)*2:ceil(ih/2)*2\" -c:v libx264 -preset slow -profile:v high -level:v 4.0 -pix_fmt yuv420p -crf 1 top-134-3d-picked.mp4\n",
    "\n",
    "ffmpeg -i top-134-3d-picked-2.gif -vf \"pad=ceil(iw/2)*2:ceil(ih/2)*2\" -c:v libx264 -preset slow -profile:v high -level:v 4.0 -pix_fmt yuv420p -crf 1 top-134-3d-picked-2.mp4\n",
    "\n",
    "\n",
    "cat concat-mp4-list.txt\n",
    "file top-134-3d.mp4\n",
    "top-134-3d-picked.mp4\n",
    "ffmpeg -f concat -i concat-mp4-list.txt -c copy top-134-3d-all.mp4\n",
    "\n",
    "# Commands for Figure 1 in the ESNR poster\n",
    "\n",
    "ffmpeg -framerate 1 -pattern_type glob -i 'e1-dist-ax-*.png' -vf \"pad=ceil(iw/2)*2:ceil(ih/2)*2\" -c:v libx264 -preset slow -profile:v high -level:v 4.0 -pix_fmt yuv420p -crf 1 e1-dist-ax-neg-pos.mp4\n",
    "\n",
    "ffmpeg -framerate 1 -pattern_type glob -i 'e2-dist-ax-*.png' -vf \"pad=ceil(iw/2)*2:ceil(ih/2)*2\" -c:v libx264 -preset slow -profile:v high -level:v 4.0 -pix_fmt yuv420p -crf 1 e2-dist-ax-neg-pos.mp4\n",
    "\n",
    "cd direct\n",
    "ffmpeg -framerate 1 -pattern_type glob -i '*.png' -vf \"pad=ceil(iw/2)*2:ceil(ih/2)*2\" -c:v libx264 -preset slow -profile:v high -level:v 4.0 -pix_fmt yuv420p -crf 1 neg-pos.mp4\n",
    "\n",
    "cd ..\n",
    "\n",
    "# 488 was height of the other videos\n",
    "\n",
    "# resize preserving aspect ratio\n",
    "ffmpeg -i neg-pos.mp4 -filter_complex [0:v]scale=-2:488[Scaled] -map [Scaled] neg-pos-scaled.mp4\n",
    "\n",
    "# stack videos\n",
    "ffmpeg -i e1-dist-ax-neg-pos.mp4 -i e2-dist-ax-neg-pos.mp4 -i neg-pos-scaled.mp4 -filter_complex hstack=inputs=3 e1-e2-dist-ax-neg-pos.mp4\n",
    "\n",
    "# convert to gif\n",
    "ffmpeg -i e1-e2-dist-ax-neg-pos.mp4 e1-e2-dist-ax-neg-pos.gif\n",
    "\n",
    "\n",
    "# Only frame with positive phase encoding\n",
    "ffmpeg -i direct/pos.png -filter_complex [0:v]scale=-2:488[Scaled] -map [Scaled] pos-scaled.png\n",
    "\n",
    "ffmpeg -i e1-dist-ax-pos.png -i e2-dist-ax-pos.png -i pos-scaled.png -filter_complex hstack=inputs=3 e1-e2-dist-ax-pos.png\n",
    "\n",
    "# Count the number of scans with Philips SENSE\n",
    "ls -d Anonymized/DEFACED_IVS/*/*/* | grep -i sense | wc -l\n",
    "```"
   ]
  }
 ],
 "metadata": {
  "kernelspec": {
   "display_name": "Python (spimenv)",
   "language": "python",
   "name": "spimenv"
  },
  "language_info": {
   "codemirror_mode": {
    "name": "ipython",
    "version": 3
   },
   "file_extension": ".py",
   "mimetype": "text/x-python",
   "name": "python",
   "nbconvert_exporter": "python",
   "pygments_lexer": "ipython3",
   "version": "3.6.7"
  }
 },
 "nbformat": 4,
 "nbformat_minor": 4
}
