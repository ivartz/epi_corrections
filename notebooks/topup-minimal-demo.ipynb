{
 "cells": [
  {
   "cell_type": "markdown",
   "metadata": {},
   "source": [
    "# TOPUP demo"
   ]
  },
  {
   "cell_type": "code",
   "execution_count": null,
   "metadata": {},
   "outputs": [],
   "source": [
    "python IVS_EPI_BASELINE/epi_corrections/main.py -h\n",
    "python IVS_EPI_BASELINE/epi_corrections/main.py --run_topup --target_dyn_nifti topup-demo/Perfusion/scan_e2.nii --opposite_dyn_nifti topup-demo/Perfusion/prescan_e2.nii --combination 1 --output_directory topup-demo/out"
   ]
  },
  {
   "cell_type": "markdown",
   "metadata": {},
   "source": [
    "Printing settings"
   ]
  },
  {
   "cell_type": "code",
   "execution_count": 16,
   "metadata": {},
   "outputs": [],
   "source": [
    "# Run once to store stdout\n",
    "import sys\n",
    "nb_stdout = sys.stdout"
   ]
  },
  {
   "cell_type": "code",
   "execution_count": 17,
   "metadata": {},
   "outputs": [],
   "source": [
    "# Redirect stdout to console, to not get too much text output in the notebook\n",
    "# This means that the notebook will not output any text. Text will be redirected\n",
    "# to the terminal where the notebook was started.\n",
    "sys.stdout = open(1, 'w')"
   ]
  },
  {
   "cell_type": "code",
   "execution_count": 18,
   "metadata": {},
   "outputs": [],
   "source": [
    "# Get printing back to the notebook if preferred\n",
    "# Run once\n",
    "#sys.stdout = nb_stdout"
   ]
  },
  {
   "cell_type": "markdown",
   "metadata": {},
   "source": [
    "### __Procedure__:"
   ]
  },
  {
   "cell_type": "markdown",
   "metadata": {},
   "source": [
    "Relative to the location of main.py in the epi_corrections GitHub repository (not the notebook), specify parameters for the notebook run:"
   ]
  },
  {
   "cell_type": "code",
   "execution_count": 19,
   "metadata": {},
   "outputs": [],
   "source": [
    "DICOM_directory = \"../../topup-demo/dcm\"\n",
    "output_directory_suffix = \"2020-02-06\""
   ]
  },
  {
   "cell_type": "markdown",
   "metadata": {},
   "source": [
    "The corrections output directory from main.py is then in this toturial (relative path from main.py directory):"
   ]
  },
  {
   "cell_type": "code",
   "execution_count": 20,
   "metadata": {},
   "outputs": [
    {
     "data": {
      "text/plain": [
       "'../../topup-demo/Perfusion-corrected-topup-2020-02-06'"
      ]
     },
     "execution_count": 20,
     "metadata": {},
     "output_type": "execute_result"
    }
   ],
   "source": [
    "output_directory = \"../../topup-demo/Perfusion-corrected-topup-\" + output_directory_suffix\n",
    "output_directory"
   ]
  },
  {
   "cell_type": "markdown",
   "metadata": {},
   "source": [
    "Get the (full) path to the epi_corrections root directory (within the docker container):"
   ]
  },
  {
   "cell_type": "code",
   "execution_count": 21,
   "metadata": {},
   "outputs": [
    {
     "data": {
      "text/plain": [
       "'/home/loek/IVS_EPI_BASELINE/epi_corrections'"
      ]
     },
     "execution_count": 21,
     "metadata": {},
     "output_type": "execute_result"
    }
   ],
   "source": [
    "from os import getcwd\n",
    "from os.path import abspath\n",
    "epi_corrections_root_directory = abspath(getcwd() + \"/../IVS_EPI_BASELINE/epi_corrections\")\n",
    "epi_corrections_root_directory"
   ]
  },
  {
   "cell_type": "markdown",
   "metadata": {},
   "source": [
    "1. Verify that epi_corrections successfully detects EPI pairs. This will also perform the dicom -> nifti conversion."
   ]
  },
  {
   "cell_type": "code",
   "execution_count": 22,
   "metadata": {},
   "outputs": [],
   "source": [
    "%%bash -s \"$epi_corrections_root_directory\" \"$DICOM_directory\" \"$output_directory\"\n",
    "epi_corrections_root_directory=$1\n",
    "DICOM_directory=$2\n",
    "output_directory=$3\n",
    "cd $epi_corrections_root_directory\n",
    "mkdir -p $output_directory\n",
    "pipeline_report_file=$output_directory/pipeline_report.txt\n",
    "full_command='python3 main.py \n",
    "                    --DICOM_directory='\"'$DICOM_directory'\"'\n",
    "                    --output_directory='\"'$output_directory'\"'\n",
    "                    --run_dcm2niix\n",
    "                    --print_epi_pairs\n",
    "                    2>&1 | tee $pipeline_report_file'\n",
    "eval $full_command"
   ]
  },
  {
   "cell_type": "markdown",
   "metadata": {},
   "source": [
    "See the pipeline reports:\n",
    "\n",
    "output_directory/pipeline_report.txt\n",
    "\n",
    "output_directory/EPI/DICOM to NIFTI conversion report with keyword epi.txt\n",
    "\n",
    "for logs of the dcm2niix conversions.\n"
   ]
  },
  {
   "cell_type": "markdown",
   "metadata": {},
   "source": [
    "__Inspect__\n",
    "\n",
    "corrections_base_directory/pipeline_report.txt\n",
    "\n",
    "to verify that __blip-down, blip-up EPI pairs__ have been successfully identified."
   ]
  },
  {
   "cell_type": "markdown",
   "metadata": {},
   "source": [
    "#### FSL TOPUP geometric distortion correction:\n",
    "2. epi_corrections is run completely, performing FSL TOPUP correction on the epi images."
   ]
  },
  {
   "cell_type": "code",
   "execution_count": 23,
   "metadata": {},
   "outputs": [],
   "source": [
    "%%bash -s \"$epi_corrections_root_directory\" \"$DICOM_directory\" \"$output_directory\"\n",
    "epi_corrections_root_directory=$1\n",
    "DICOM_directory=$2\n",
    "output_directory=$3\n",
    "cd $epi_corrections_root_directory\n",
    "pipeline_report_file=$output_directory/pipeline_report.txt\n",
    "full_command='python3 main.py \n",
    "                    --DICOM_directory='\"'$DICOM_directory'\"'\n",
    "                    --output_directory='\"'$output_directory'\"'\n",
    "                    --run_topup\n",
    "                    2>&1 | tee -a $pipeline_report_file'\n",
    "eval $full_command"
   ]
  },
  {
   "cell_type": "markdown",
   "metadata": {},
   "source": [
    "See the appended pipeline report:\n",
    "\n",
    "output_directory/pipeline_report.txt\n",
    "\n",
    "for correction logs.\n",
    "\n",
    "To see what's happening during the run, you can follow the changes of the file by running the terminal command from output_directory:\n",
    "\n",
    "tail -f pipeline_report.txt\n"
   ]
  }
 ],
 "metadata": {
  "kernelspec": {
   "display_name": "Python 3",
   "language": "python",
   "name": "python3"
  },
  "language_info": {
   "codemirror_mode": {
    "name": "ipython",
    "version": 3
   },
   "file_extension": ".py",
   "mimetype": "text/x-python",
   "name": "python",
   "nbconvert_exporter": "python",
   "pygments_lexer": "ipython3",
   "version": "3.6.7"
  }
 },
 "nbformat": 4,
 "nbformat_minor": 4
}
