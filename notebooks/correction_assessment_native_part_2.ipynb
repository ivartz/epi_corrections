{
 "cells": [
  {
   "cell_type": "markdown",
   "metadata": {},
   "source": [
    "# Evaluating effects of FSL TOPUP and EPIC\n",
    "..on individual MNI regions provided by Neuromorphometrics, Inc. (http://Neuromorphometrics.com/)\n",
    "# Part 2: Comparing rCBV MNI region histograms across correction methods excluding tumor segments.\n",
    "\n",
    "### Note: This guide is not used as of 2020-04-15"
   ]
  },
  {
   "cell_type": "code",
   "execution_count": 1,
   "metadata": {},
   "outputs": [],
   "source": [
    "hist_num_bins = 64\n",
    "hist_min_value = 0\n",
    "hist_max_value = 12\n",
    "region_req_covered_frac = 0.7\n",
    "min_roi_region = 30\n",
    "#corrections_base_directory = \"../../epi_corrections_out_2019_07_02\"\n",
    "# If excluding tumors\n",
    "corrections_base_directory = \"../../epi_corrections_out_2019_12_03_tumor_exluded_from_rcbv_better_rois\""
   ]
  },
  {
   "cell_type": "code",
   "execution_count": 2,
   "metadata": {},
   "outputs": [],
   "source": [
    "%run utils.py\n",
    "%run visualization.py\n",
    "%run search.py"
   ]
  },
  {
   "cell_type": "code",
   "execution_count": 3,
   "metadata": {},
   "outputs": [
    {
     "name": "stdout",
     "output_type": "stream",
     "text": [
      "The cbv histogram directory is: ../../epi_corrections_out_2019_12_03_tumor_exluded_from_rcbv_better_rois/CBV_histograms_bins_64_min_0_max_12_region_rec_c_frac_0.7_region_min_vox_30\n"
     ]
    }
   ],
   "source": [
    "\"\"\"\n",
    "CBV_out_dir = corrections_base_directory + \"/\" + \"CBV_histograms_bins_\" + \\\n",
    "    str(hist_num_bins) + \"_min_\" + str(hist_min_value) + \"_max_\" + str(hist_max_value) + \\\n",
    "    \"_region_rec_c_frac_\" + str(region_req_covered_frac)\n",
    "\"\"\"\n",
    "#\"\"\"\n",
    "CBV_out_dir = corrections_base_directory + \"/\" + \"CBV_histograms_bins_\" + \\\n",
    "    str(hist_num_bins) + \"_min_\" + str(hist_min_value) + \"_max_\" + str(hist_max_value) + \\\n",
    "    \"_region_rec_c_frac_\" + str(region_req_covered_frac) + \"_region_min_vox_\" + str(min_roi_region)\n",
    "\n",
    "#\"\"\"\n",
    "\n",
    "print(\"The cbv histogram directory is: %s\" % CBV_out_dir)\n",
    "            \n",
    "region_values,\\\n",
    "hist_edges,\\\n",
    "raw_e1_CBV_region_histograms,\\\n",
    "raw_e1_CBV_dirs,\\\n",
    "raw_e2_CBV_region_histograms,\\\n",
    "raw_e2_CBV_dirs,\\\n",
    "topup_e1_CBV_region_histograms,\\\n",
    "topup_e1_CBV_dirs,\\\n",
    "topup_e2_CBV_region_histograms,\\\n",
    "topup_e2_CBV_dirs,\\\n",
    "epic_e1_CBV_region_histograms,\\\n",
    "epic_e1_CBV_dirs,\\\n",
    "epic_e2_CBV_region_histograms,\\\n",
    "epic_e2_CBV_dirs = load_mat_files(CBV_out_dir)\n",
    "# Flatten region_values\n",
    "region_values = region_values.flatten()"
   ]
  },
  {
   "cell_type": "code",
   "execution_count": 4,
   "metadata": {},
   "outputs": [],
   "source": [
    "#region_values"
   ]
  },
  {
   "cell_type": "markdown",
   "metadata": {},
   "source": [
    "Statistics about the data"
   ]
  },
  {
   "cell_type": "code",
   "execution_count": 5,
   "metadata": {},
   "outputs": [
    {
     "name": "stdout",
     "output_type": "stream",
     "text": [
      "Equal number of subjects for raw, topup and epic data: True\n"
     ]
    }
   ],
   "source": [
    "print(\"Equal number of subjects for raw, topup and epic data: %r\" % \\\n",
    "      (len(raw_e1_CBV_region_histograms) == \n",
    "       len(raw_e2_CBV_region_histograms) == \\\n",
    "       len(topup_e1_CBV_region_histograms) == \\\n",
    "       len(topup_e2_CBV_region_histograms) == \\\n",
    "       len(epic_e1_CBV_region_histograms) == \\\n",
    "       len(epic_e2_CBV_region_histograms)))"
   ]
  },
  {
   "cell_type": "code",
   "execution_count": 6,
   "metadata": {},
   "outputs": [
    {
     "name": "stdout",
     "output_type": "stream",
     "text": [
      "Number of subjects: 45\n"
     ]
    }
   ],
   "source": [
    "num_subjects = len(raw_e1_CBV_region_histograms)\n",
    "print(\"Number of subjects: %i\" % num_subjects)"
   ]
  },
  {
   "cell_type": "markdown",
   "metadata": {},
   "source": [
    "0. Reslice MNI tumor segments from the work of Juan-Albarracín, J. et. al. [1] to match the DSC MNI image space\n",
    "\n",
    "[1] Juan-Albarracín, J., Fuster-Garcia, E. et. al.,\"ONCOhabitats: A system for glioblastoma heterogeneity assessment through MRI\" Link: https://www.sciencedirect.com/science/article/pii/S1386505618308001\n",
    "\n",
    "See reslice-tumor-segments.ipynb"
   ]
  },
  {
   "cell_type": "code",
   "execution_count": 7,
   "metadata": {},
   "outputs": [],
   "source": [
    "ONCOHabitats_results_folder = \"ONCOHabitats_tumor_segments_from_flair_native\"\n",
    "segment_files_relative = find_segment_files(corrections_base_directory + \"/\" + ONCOHabitats_results_folder)\n",
    "segment_paths_relative = [Path(file) for file in segment_files_relative]\n",
    "segments_files_full = [str(Path.joinpath(Path.cwd().parent.parent, *relative.parts[2:])) for relative in segment_paths_relative]"
   ]
  },
  {
   "cell_type": "markdown",
   "metadata": {},
   "source": [
    "1. Select a random rCBV (Gradient or Spin Echo based) from a random correction method (raw, topup or epic) from a random subject. Display the random selection as well as the associated cbv file and labels file using spimagine."
   ]
  },
  {
   "cell_type": "code",
   "execution_count": 8,
   "metadata": {},
   "outputs": [
    {
     "name": "stdout",
     "output_type": "stream",
     "text": [
      "Selected subject: 12\n",
      "Selected correction method: epic\n",
      "Selected rCBV based on: e2\n",
      "----\n",
      "The cbv file is:\n",
      "\n",
      "/run/user/1000/gvfs/smb-share:server=192.168.1.207,share=hdd3tb1/data/IVS_EPI_BASELINE/epi_corrections_out_2019_12_03_tumor_exluded_from_rcbv_better_rois/EPI_applyepic/Anonymized/DEFACED_IVS/1767888627/DAY_0000/No_DeFacing_GE-SE_EPI_SSH_v1_32CH_V2_scan/141033_GE-SE_EPI_SSH_v1_32CH_V2_scan_1101_e2_applyepic_perf/wr_coregest_Normalized_rCBV_map_-Leakage_corrected.nii\n",
      "\n",
      "The labels file is:\n",
      "\n",
      "/run/user/1000/gvfs/smb-share:server=192.168.1.207,share=hdd3tb1/data/IVS_EPI_BASELINE/epi_corrections_out_2019_12_03_tumor_exluded_from_rcbv_better_rois/EPI_applyepic/Anonymized/DEFACED_IVS/1767888627/DAY_0000/No_DeFacing_GE-SE_EPI_SSH_v1_32CH_V2_scan/r_e2_labels_Neuromorphometrics_lrmerged.nii\n",
      "\n",
      "Contents of spimagine MNI rCBV:\n",
      "\n",
      "MNI rCBV subj 1767888627 (12) epic e2\n",
      "\n",
      "The segments file is:\n",
      "\n",
      "/run/user/1000/gvfs/smb-share:server=192.168.1.207,share=hdd3tb1/data/IVS_EPI_BASELINE/epi_corrections_out_2019_12_03_tumor_exluded_from_rcbv_better_rois/ONCOHabitats_tumor_segments_from_flair_native/1767888627/results/mni/Segmentation.nii\n",
      "\n"
     ]
    }
   ],
   "source": [
    "#subject_number = np.random.randint(0, num_subjects)\n",
    "subject_number = 12\n",
    "print(\"Selected subject: %i\" % subject_number)\n",
    "correction_methods = [\"raw\", \"topup\", \"epic\"]\n",
    "\n",
    "#correction_method = correction_methods[np.random.randint(0, len(correction_methods))]\n",
    "correction_method = \"epic\"\n",
    "print(\"Selected correction method: %s\" % correction_method)\n",
    "cbv_based_on_list = [\"e1\", \"e2\"]\n",
    "\n",
    "#cbv_based_on = cbv_based_on_list[np.random.randint(0, len(cbv_based_on_list))]\n",
    "cbv_based_on = \"e2\"\n",
    "print(\"Selected rCBV based on: %s\" % cbv_based_on)\n",
    "\n",
    "d_remote = Path(eval(correction_method + \"_\" + cbv_based_on + \"_CBV_dirs\")[0][subject_number][0])\n",
    "# https://stackoverflow.com/questions/26724275/removing-the-first-folder-in-a-path\n",
    "d = Path.joinpath(Path.cwd().parent.parent, *d_remote.parts[6:])\n",
    "cbv_path = Path.joinpath(d, \"wr_coregest_Normalized_rCBV_map_-Leakage_corrected.nii\")\n",
    "labels_path = d.joinpath(d.parent, \"r_\" + cbv_based_on + \"_labels_Neuromorphometrics_lrmerged.nii\")\n",
    "print(\"----\")\n",
    "print(\"The cbv file is:\\n\\n%s\\n\" % str(cbv_path))\n",
    "print(\"The labels file is:\\n\\n%s\\n\" % str(labels_path))\n",
    "# Get the anonymized subject ID\n",
    "ID = cbv_path.parts[12] # NB: Very hardcoded\n",
    "title_spim = \"MNI rCBV subj %s (%i) %s %s\" % (ID, subject_number, correction_method, cbv_based_on)\n",
    "print(\"Contents of spimagine MNI rCBV:\\n\\n%s\\n\" % title_spim)\n",
    "segments_file = [file for file in segments_files_full if ID in file][0]\n",
    "print(\"The segments file is:\\n\\n%s\\n\" % segments_file)"
   ]
  },
  {
   "cell_type": "code",
   "execution_count": 9,
   "metadata": {},
   "outputs": [],
   "source": [
    "%matplotlib qt5\n",
    "#%matplotlib inline\n",
    "# Use qt5 as gui backend, for spimagine\n",
    "%gui qt5"
   ]
  },
  {
   "cell_type": "markdown",
   "metadata": {},
   "source": [
    "1. a) rCBV"
   ]
  },
  {
   "cell_type": "code",
   "execution_count": 10,
   "metadata": {},
   "outputs": [],
   "source": [
    "load_and_visualize_cbv(cbv_path, interpolation=\"nearest\", cmap=\"hot\")"
   ]
  },
  {
   "cell_type": "code",
   "execution_count": 11,
   "metadata": {},
   "outputs": [],
   "source": [
    "#from spimagine.utils.quaternion import Quaternion"
   ]
  },
  {
   "cell_type": "code",
   "execution_count": 12,
   "metadata": {},
   "outputs": [
    {
     "data": {
      "text/plain": [
       "'\\n# For MNI data\\ncbv_data_temp, cbv_dims_temp, cbv_hdr_temp = load_nifti(str(cbv_path))\\ncbv_data_temp = xyz_to_zyx(cbv_data_temp)\\nvolfig()\\nspim_widget = volshow(cbv_data_temp, stackUnits=cbv_dims_temp, interpolation=\"nearest\")\\nspim_widget.set_colormap(\"hot\")\\n\\n# Up\\nspim_widget.transform.setQuaternion(Quaternion(0.0019763238787262496,4.9112439271825864e-05,0.9999852343690417,0.0050617341749588825))\\n# Up rightwards\\nspim_widget.transform.setQuaternion(Quaternion(-0.018120594789136298,0.708165522710642,0.7057824278204939,0.006663271093062176))\\n# Sagittal\\nspim_widget.transform.setQuaternion(Quaternion(-0.0020183487063897406,0.7073151860516024,-0.0032067927203972405,0.7068881584667737))\\n# Fancy\\nspim_widget.transform.setQuaternion(Quaternion(0.15439557175611332,0.7306565059064623,0.5147772256894417,0.4210789500980262))\\n\\nlabels_data_temp, labels_dims_temp, labels_hdr_temp = load_nifti(str(labels_path))\\nlabels_data_temp = xyz_to_zyx(labels_data_temp)\\nvolfig()\\nspim_widget = volshow(labels_data_temp, stackUnits=labels_dims_temp, interpolation=\"nearest\")\\nspim_widget.set_colormap(\"grays\")\\n\\n# Up\\nspim_widget.transform.setQuaternion(Quaternion(0.0019763238787262496,4.9112439271825864e-05,0.9999852343690417,0.0050617341749588825))\\n# Up rightwards\\nspim_widget.transform.setQuaternion(Quaternion(-0.018120594789136298,0.708165522710642,0.7057824278204939,0.006663271093062176))\\n# Sagittal\\nspim_widget.transform.setQuaternion(Quaternion(-0.0020183487063897406,0.7073151860516024,-0.0032067927203972405,0.7068881584667737))\\n# Fancy\\nspim_widget.transform.setQuaternion(Quaternion(0.15439557175611332,0.7306565059064623,0.5147772256894417,0.4210789500980262))\\n'"
      ]
     },
     "execution_count": 12,
     "metadata": {},
     "output_type": "execute_result"
    }
   ],
   "source": [
    "\"\"\"\n",
    "# For MNI data\n",
    "cbv_data_temp, cbv_dims_temp, cbv_hdr_temp = load_nifti(str(cbv_path))\n",
    "cbv_data_temp = xyz_to_zyx(cbv_data_temp)\n",
    "volfig()\n",
    "spim_widget = \\\n",
    "volshow(cbv_data_temp, stackUnits=cbv_dims_temp, interpolation=\"nearest\")\n",
    "spim_widget.set_colormap(\"hot\")\n",
    "\n",
    "# Up\n",
    "spim_widget.transform.setQuaternion(Quaternion(0.0019763238787262496,4.9112439271825864e-05,0.9999852343690417,0.0050617341749588825))\n",
    "# Up rightwards\n",
    "spim_widget.transform.setQuaternion(Quaternion(-0.018120594789136298,0.708165522710642,0.7057824278204939,0.006663271093062176))\n",
    "# Sagittal\n",
    "spim_widget.transform.setQuaternion(Quaternion(-0.0020183487063897406,0.7073151860516024,-0.0032067927203972405,0.7068881584667737))\n",
    "# Fancy\n",
    "spim_widget.transform.setQuaternion(Quaternion(0.15439557175611332,0.7306565059064623,0.5147772256894417,0.4210789500980262))\n",
    "\n",
    "labels_data_temp, labels_dims_temp, labels_hdr_temp = load_nifti(str(labels_path))\n",
    "labels_data_temp = xyz_to_zyx(labels_data_temp)\n",
    "volfig()\n",
    "spim_widget = \\\n",
    "volshow(labels_data_temp, stackUnits=labels_dims_temp, interpolation=\"nearest\")\n",
    "spim_widget.set_colormap(\"grays\")\n",
    "\n",
    "# Up\n",
    "spim_widget.transform.setQuaternion(Quaternion(0.0019763238787262496,4.9112439271825864e-05,0.9999852343690417,0.0050617341749588825))\n",
    "# Up rightwards\n",
    "spim_widget.transform.setQuaternion(Quaternion(-0.018120594789136298,0.708165522710642,0.7057824278204939,0.006663271093062176))\n",
    "# Sagittal\n",
    "spim_widget.transform.setQuaternion(Quaternion(-0.0020183487063897406,0.7073151860516024,-0.0032067927203972405,0.7068881584667737))\n",
    "# Fancy\n",
    "spim_widget.transform.setQuaternion(Quaternion(0.15439557175611332,0.7306565059064623,0.5147772256894417,0.4210789500980262))\n",
    "\"\"\""
   ]
  },
  {
   "cell_type": "code",
   "execution_count": 13,
   "metadata": {},
   "outputs": [],
   "source": [
    "#spim_widget.transform.toTransformData()"
   ]
  },
  {
   "cell_type": "markdown",
   "metadata": {},
   "source": [
    "1. b) All regions"
   ]
  },
  {
   "cell_type": "code",
   "execution_count": 14,
   "metadata": {},
   "outputs": [],
   "source": [
    "load_and_visualize_labels(labels_path, interpolation=\"nearest\", cmap=\"grays\")"
   ]
  },
  {
   "cell_type": "markdown",
   "metadata": {},
   "source": [
    "1. c) Only regions that are covered by preprocessed histograms"
   ]
  },
  {
   "cell_type": "markdown",
   "metadata": {},
   "source": [
    "Preprocessing parameter: Fraction of start and end of the histogram range that is set to 0"
   ]
  },
  {
   "cell_type": "code",
   "execution_count": 15,
   "metadata": {},
   "outputs": [],
   "source": [
    "#two_tail_fraction = 0.03\n",
    "#two_tail_fraction = 0.1\n",
    "two_tail_fraction = 0.05"
   ]
  },
  {
   "cell_type": "code",
   "execution_count": 16,
   "metadata": {},
   "outputs": [
    {
     "data": {
      "text/plain": [
       "'\\ndef drop_outlier_columns(df):\\n    mask_above_treshold = df > 0.7*df.max()\\n    rows_num_colums_above_treshold = mask_above_treshold[mask_above_treshold].transpose().count()\\n    rows_to_drop = rows_num_colums_above_treshold[rows_num_colums_above_treshold > 0.9*hist_num_bins].index\\n    return df.drop(rows_to_drop)\\ncbv_hists_preprocessed_no_outliers = drop_outlier_columns(cbv_hists_preprocessed)\\nfor n in np.array(cbv_hists_preprocessed_no_outliers.index):\\n    labels_data[labels_data == n] = 0\\nspimagine_show_mni_volume_numpy(labels_data, stackUnits=labels_dims, interpolation=\"nearest\")\\n'"
      ]
     },
     "execution_count": 16,
     "metadata": {},
     "output_type": "execute_result"
    }
   ],
   "source": [
    "cbv_hists = pd.DataFrame(\\\n",
    "                      data=eval(correction_method + \"_\" + cbv_based_on + \"_CBV_region_histograms\")[subject_number], \\\n",
    "                      index=region_values, \\\n",
    "                      columns=hist_edges[0][:-1])\n",
    "cbv_hists_preprocessed = preprocess_histograms(cbv_hists, two_tail_fraction=two_tail_fraction)\n",
    "\n",
    "labels_data, labels_dims, labels_hdr = load_nifti(str(labels_path))\n",
    "labels_data = xyz_to_zyx(labels_data) # Important\n",
    "\n",
    "labels_data_copy = labels_data.copy()\n",
    "\n",
    "for n in np.array(np.unique(labels_data_copy)):\n",
    "    if n not in preprocess_histograms(cbv_hists).index:\n",
    "        labels_data_copy[labels_data_copy == n] = 0\n",
    "spimagine_show_mni_volume_numpy(labels_data_copy, stackUnits=labels_dims, interpolation=\"nearest\")\n",
    "\"\"\"\n",
    "def drop_outlier_columns(df):\n",
    "    mask_above_treshold = df > 0.7*df.max()\n",
    "    rows_num_colums_above_treshold = mask_above_treshold[mask_above_treshold].transpose().count()\n",
    "    rows_to_drop = rows_num_colums_above_treshold[rows_num_colums_above_treshold > 0.9*hist_num_bins].index\n",
    "    return df.drop(rows_to_drop)\n",
    "cbv_hists_preprocessed_no_outliers = drop_outlier_columns(cbv_hists_preprocessed)\n",
    "for n in np.array(cbv_hists_preprocessed_no_outliers.index):\n",
    "    labels_data[labels_data == n] = 0\n",
    "spimagine_show_mni_volume_numpy(labels_data, stackUnits=labels_dims, interpolation=\"nearest\")\n",
    "\"\"\""
   ]
  },
  {
   "cell_type": "code",
   "execution_count": 17,
   "metadata": {},
   "outputs": [
    {
     "data": {
      "text/plain": [
       "'\\nlabels_affine = nib.load(str(labels_path)).affine\\nimg = nib.spatialimages.SpatialImage(xyz_to_zyx(labels_data_copy), affine=labels_affine, header=labels_hdr)\\nnifti_file = output_rel_dir + \"/temp/\" + \"MNI regions used for histogram extraction for subject\" + \".nii\"\\nnib.save(img, nifti_file)\\n'"
      ]
     },
     "execution_count": 17,
     "metadata": {},
     "output_type": "execute_result"
    }
   ],
   "source": [
    "\"\"\"\n",
    "labels_affine = nib.load(str(labels_path)).affine\n",
    "img = nib.spatialimages.SpatialImage(xyz_to_zyx(labels_data_copy), affine=labels_affine, header=labels_hdr)\n",
    "nifti_file = output_rel_dir + \"/temp/\" + \"MNI regions used for histogram extraction for subject\" + \".nii\"\n",
    "nib.save(img, nifti_file)\n",
    "\"\"\""
   ]
  },
  {
   "cell_type": "code",
   "execution_count": 18,
   "metadata": {},
   "outputs": [],
   "source": [
    "#output_rel_dir"
   ]
  },
  {
   "cell_type": "markdown",
   "metadata": {},
   "source": [
    "spimagine render 6 second 60fps video:\n",
    "\n",
    "Number frames: 360\n",
    "\n",
    "record delay: 16\n",
    "\n",
    "Blur sx sy sz 1 1 1\n",
    "\n",
    "Transcode rendered images to PowerPoint compatible H.264 video with\n",
    "\n",
    "ffmpeg -framerate 60 -i output_%03d.png -vf \"pad=ceil(iw/2)\\*2:ceil(ih/2)*2\" -c:v libx264 -preset slow -profile:v high -level:v 4.0 -pix_fmt yuv420p -crf 22 2019_07_02_1778076422_EPIC_e1_nrCBV.mp4"
   ]
  },
  {
   "cell_type": "markdown",
   "metadata": {},
   "source": [
    "1. d) The tumor segments"
   ]
  },
  {
   "cell_type": "code",
   "execution_count": 19,
   "metadata": {},
   "outputs": [],
   "source": [
    "segments_data_temp, segments_dims_temp, segments_hdr_temp = load_nifti(segments_file)\n",
    "segments_data_temp = xyz_to_zyx(segments_data_temp)\n",
    "spimagine_show_mni_volume_numpy(segments_data_temp, stackUnits=segments_dims_temp, interpolation=\"nearest\", cmap=\"grays\")"
   ]
  },
  {
   "cell_type": "markdown",
   "metadata": {},
   "source": [
    "2. Plot preprocessed histograms for the selected subject"
   ]
  },
  {
   "cell_type": "markdown",
   "metadata": {},
   "source": [
    "2. a) All histograms for the selected combination of subject and correction method"
   ]
  },
  {
   "cell_type": "markdown",
   "metadata": {},
   "source": [
    "and"
   ]
  },
  {
   "cell_type": "markdown",
   "metadata": {},
   "source": [
    "2. b) Mean, median and std plot of the same histograms"
   ]
  },
  {
   "cell_type": "code",
   "execution_count": 20,
   "metadata": {},
   "outputs": [],
   "source": [
    "#matplotlib.pyplot.switch_backend(\"Qt5Agg\")"
   ]
  },
  {
   "cell_type": "code",
   "execution_count": 21,
   "metadata": {},
   "outputs": [],
   "source": [
    "preprocess_and_plot_selected_histograms(region_values,\\\n",
    "                                        hist_edges,\\\n",
    "                                        raw_e1_CBV_region_histograms,\\\n",
    "                                        raw_e2_CBV_region_histograms,\\\n",
    "                                        topup_e1_CBV_region_histograms,\\\n",
    "                                        topup_e2_CBV_region_histograms,\\\n",
    "                                        epic_e1_CBV_region_histograms,\\\n",
    "                                        epic_e2_CBV_region_histograms,\\\n",
    "                                        two_tail_fraction=two_tail_fraction,\\\n",
    "                                        subject_number=subject_number,\\\n",
    "                                        correction_method=correction_method,\\\n",
    "                                        ID=ID)"
   ]
  },
  {
   "cell_type": "markdown",
   "metadata": {},
   "source": [
    "3. Plot all preprocessed histograms for the randomly pixed subject"
   ]
  },
  {
   "cell_type": "code",
   "execution_count": 22,
   "metadata": {},
   "outputs": [],
   "source": [
    "raw_e1_prep,\\\n",
    "raw_e2_prep,\\\n",
    "topup_e1_prep,\\\n",
    "topup_e2_prep,\\\n",
    "epic_e1_prep,\\\n",
    "epic_e2_prep = \\\n",
    "preprocess_and_plot_all_histograms(region_values,\\\n",
    "                                   hist_edges,\\\n",
    "                                   raw_e1_CBV_region_histograms,\\\n",
    "                                   raw_e2_CBV_region_histograms,\\\n",
    "                                   topup_e1_CBV_region_histograms,\\\n",
    "                                   topup_e2_CBV_region_histograms,\\\n",
    "                                   epic_e1_CBV_region_histograms,\\\n",
    "                                   epic_e2_CBV_region_histograms,\\\n",
    "                                   two_tail_fraction=two_tail_fraction,\\\n",
    "                                   subject_number=subject_number,\\\n",
    "                                   ID=ID)"
   ]
  },
  {
   "cell_type": "markdown",
   "metadata": {},
   "source": [
    "4. Generate bash command for fsleyes volume render for regions and rCBV for the randomly selected subject and correction method"
   ]
  },
  {
   "cell_type": "code",
   "execution_count": 23,
   "metadata": {},
   "outputs": [
    {
     "name": "stdout",
     "output_type": "stream",
     "text": [
      "fsleyes --scene 3d --worldLoc 9.91821289062e-05 -18.0000991821 7.99990081787 --displaySpace /run/user/1000/gvfs/smb-share:server=192.168.1.207,share=hdd3tb1/data/IVS_EPI_BASELINE/epi_corrections_out_2019_12_03_tumor_exluded_from_rcbv_better_rois/EPI_applyepic/Anonymized/DEFACED_IVS/1767888627/DAY_0000/No_DeFacing_GE-SE_EPI_SSH_v1_32CH_V2_scan/141033_GE-SE_EPI_SSH_v1_32CH_V2_scan_1101_e2_applyepic_perf/wr_coregest_Normalized_rCBV_map_-Leakage_corrected.nii --cameraRotation -178.99 103.30 0.04 --zoom 75.0 --lightPos 235.999702454 283.999702454 77.9999008179 --offset 0.0 0.0 --hideCursor --bgColour 0.0 0.0 0.0 --fgColour 1.0 1.0 1.0 --cursorColour 0.0 1.0 0.0 --colourBarLocation top --colourBarLabelSide top-left --labelSize 14 --performance 3 --movieSync /run/user/1000/gvfs/smb-share:server=192.168.1.207,share=hdd3tb1/data/IVS_EPI_BASELINE/epi_corrections_out_2019_12_03_tumor_exluded_from_rcbv_better_rois/EPI_applyepic/Anonymized/DEFACED_IVS/1767888627/DAY_0000/No_DeFacing_GE-SE_EPI_SSH_v1_32CH_V2_scan/141033_GE-SE_EPI_SSH_v1_32CH_V2_scan_1101_e2_applyepic_perf/wr_coregest_Normalized_rCBV_map_-Leakage_corrected.nii --name wr_coregest_Normalized_rCBV_map_-Leakage_corrected.nii --overlayType volume --alpha 100.0 --brightness 72.7359251905 --contrast 95.4718503809 --cmap hot --negativeCmap greyscale --displayRange 1.7763568394e-15 6.0 --clippingRange 1.7763568394e-15 30.1408601952 --gamma 0.0 --cmapResolution 256 --interpolation none --numSteps 100 --blendFactor 0.1 --smoothing 0 --resolution 100 --numInnerSteps 10 --clipMode intersection --volume 0 /run/user/1000/gvfs/smb-share:server=192.168.1.207,share=hdd3tb1/data/IVS_EPI_BASELINE/epi_corrections_out_2019_12_03_tumor_exluded_from_rcbv_better_rois/EPI_applyepic/Anonymized/DEFACED_IVS/1767888627/DAY_0000/No_DeFacing_GE-SE_EPI_SSH_v1_32CH_V2_scan/r_e2_labels_Neuromorphometrics_lrmerged.nii --name r_e2_labels_Neuromorphometrics_lrmerged.nii --overlayType volume --alpha 77.9999999977 --brightness 50.0 --contrast 50.0 --cmap greyscale --negativeCmap greyscale --displayRange 0.0 207.0 --clippingRange 0.0 209.07 --gamma 0.0 --cmapResolution 256 --interpolation none --numSteps 100 --blendFactor 0.1 --smoothing 0 --resolution 100 --numInnerSteps 10 --clipMode intersection --volume 0\n"
     ]
    }
   ],
   "source": [
    "%%bash -s \"{\" \".join([str(cbv_path)])}\" \"{\" \".join([str(labels_path)])}\" \"$hist_min_value\" \"$hist_max_value\"\n",
    "IFS=' ' read -r -a cbv_files <<< \"$1\"\n",
    "IFS=' ' read -r -a label_files <<< \"$2\"\n",
    "hist_min_value=$3\n",
    "hist_max_value=$4\n",
    "render() {\n",
    "    local -n _cbv_files=$1\n",
    "    local -n _label_files=$2\n",
    "    \n",
    "    for index in \"${!_cbv_files[@]}\"\n",
    "    do\n",
    "        cbv_file=\"${_cbv_files[index]}\"\n",
    "        label_file=\"${_label_files[index]}\"\n",
    "        \n",
    "        cbv_file_name=\"$(basename $cbv_file)\"\n",
    "        label_file_name=\"$(basename $label_file)\"\n",
    "        \n",
    "        render_command='fsleyes \n",
    "            --scene 3d \n",
    "            --worldLoc 9.91821289062e-05 -18.0000991821 7.99990081787 \n",
    "            --displaySpace '$cbv_file' \n",
    "            --cameraRotation -178.99  103.30  0.04 \n",
    "            --zoom 75.0 \n",
    "            --lightPos 235.999702454 283.999702454 77.9999008179 \n",
    "            --offset 0.0 0.0 \n",
    "            --hideCursor \n",
    "            --bgColour 0.0 0.0 0.0 \n",
    "            --fgColour 1.0 1.0 1.0 \n",
    "            --cursorColour 0.0 1.0 0.0 \n",
    "            --colourBarLocation top \n",
    "            --colourBarLabelSide top-left \n",
    "            --labelSize 14 \n",
    "            --performance 3 \n",
    "            --movieSync '$cbv_file' \n",
    "            --name '$cbv_file_name' \n",
    "            --overlayType volume \n",
    "            --alpha 100.0 \n",
    "            --brightness 72.7359251905 \n",
    "            --contrast 95.4718503809 \n",
    "            --cmap hot \n",
    "            --negativeCmap greyscale \n",
    "            --displayRange 1.7763568394e-15 6.0 \n",
    "            --clippingRange 1.7763568394e-15 30.1408601952 \n",
    "            --gamma 0.0 \n",
    "            --cmapResolution 256 \n",
    "            --interpolation none \n",
    "            --numSteps 100 \n",
    "            --blendFactor 0.1 \n",
    "            --smoothing 0 \n",
    "            --resolution 100 \n",
    "            --numInnerSteps 10 \n",
    "            --clipMode intersection \n",
    "            --volume 0 '$label_file' \n",
    "            --name '$label_file_name' \n",
    "            --overlayType volume \n",
    "            --alpha 77.9999999977 \n",
    "            --brightness 50.0 \n",
    "            --contrast 50.0 \n",
    "            --cmap greyscale \n",
    "            --negativeCmap greyscale \n",
    "            --displayRange 0.0 207.0 \n",
    "            --clippingRange 0.0 209.07 \n",
    "            --gamma 0.0 \n",
    "            --cmapResolution 256 \n",
    "            --interpolation none \n",
    "            --numSteps 100 \n",
    "            --blendFactor 0.1 \n",
    "            --smoothing 0 \n",
    "            --resolution 100 \n",
    "            --numInnerSteps 10 \n",
    "            --clipMode intersection \n",
    "            --volume 0'\n",
    "        echo $render_command\n",
    "        #eval $render_command\n",
    "    done\n",
    "}\n",
    "render cbv_files label_files\n",
    "#            --colourBarSize 100.0 "
   ]
  },
  {
   "cell_type": "markdown",
   "metadata": {},
   "source": [
    "5. Generate bash command for fsleyes orthographic view for regions and rCBV for the randomly selected subject and correction method"
   ]
  },
  {
   "cell_type": "code",
   "execution_count": 24,
   "metadata": {},
   "outputs": [
    {
     "name": "stdout",
     "output_type": "stream",
     "text": [
      "fsleyes --scene ortho --worldLoc 9.918212890625e-05 -18.000099182128906 7.999900817871094 --displaySpace /run/user/1000/gvfs/smb-share:server=192.168.1.207,share=hdd3tb1/data/IVS_EPI_BASELINE/epi_corrections_out_2019_12_03_tumor_exluded_from_rcbv_better_rois/EPI_applyepic/Anonymized/DEFACED_IVS/1767888627/DAY_0000/No_DeFacing_GE-SE_EPI_SSH_v1_32CH_V2_scan/141033_GE-SE_EPI_SSH_v1_32CH_V2_scan_1101_e2_applyepic_perf/wr_coregest_Normalized_rCBV_map_-Leakage_corrected.nii --xcentre -0.00000 -0.11019 --ycentre -0.00000 -0.11019 --zcentre -0.00000 -0.00000 --xzoom 803.0573770888577 --yzoom 809.4712464952298 --zzoom 803.057377088858 --hideLabels --labelSize 14 --layout horizontal --hideCursor --bgColour 0.0 0.0 0.0 --fgColour 1.0 1.0 1.0 --cursorColour 0.0 1.0 0.0 --colourBarLocation top --colourBarLabelSide top-left --performance 3 /run/user/1000/gvfs/smb-share:server=192.168.1.207,share=hdd3tb1/data/IVS_EPI_BASELINE/epi_corrections_out_2019_12_03_tumor_exluded_from_rcbv_better_rois/EPI_applyepic/Anonymized/DEFACED_IVS/1767888627/DAY_0000/No_DeFacing_GE-SE_EPI_SSH_v1_32CH_V2_scan/141033_GE-SE_EPI_SSH_v1_32CH_V2_scan_1101_e2_applyepic_perf/wr_coregest_Normalized_rCBV_map_-Leakage_corrected.nii --name wr_coregest_Normalized_rCBV_map_-Leakage_corrected.nii --overlayType volume --alpha 100.0 --brightness 64.94720130619707 --contrast 79.89440261239416 --cmap hot --negativeCmap greyscale --displayRange 0 12 --clippingRange 0.0 30.140860195159913 --gamma 0.0 --cmapResolution 256 --interpolation none --numSteps 100 --blendFactor 0.1 --smoothing 0 --resolution 100 --numInnerSteps 10 --clipMode intersection --volume 0 /run/user/1000/gvfs/smb-share:server=192.168.1.207,share=hdd3tb1/data/IVS_EPI_BASELINE/epi_corrections_out_2019_12_03_tumor_exluded_from_rcbv_better_rois/EPI_applyepic/Anonymized/DEFACED_IVS/1767888627/DAY_0000/No_DeFacing_GE-SE_EPI_SSH_v1_32CH_V2_scan/r_e2_labels_Neuromorphometrics_lrmerged.nii --name r_e2_labels_Neuromorphometrics_lrmerged.nii --overlayType volume --alpha 37.33333333798995 --brightness 50.0 --contrast 50.0 --cmap greyscale --negativeCmap greyscale --displayRange 0.0 207.0 --clippingRange 0.0 209.07 --gamma 0.0 --cmapResolution 256 --interpolation none --numSteps 100 --blendFactor 0.1 --smoothing 0 --resolution 100 --numInnerSteps 10 --clipMode intersection --volume 0\n"
     ]
    }
   ],
   "source": [
    "%%bash -s \"{\" \".join([str(cbv_path)])}\" \"{\" \".join([str(labels_path)])}\" \"$hist_min_value\" \"$hist_max_value\"\n",
    "IFS=' ' read -r -a cbv_files <<< \"$1\"\n",
    "IFS=' ' read -r -a label_files <<< \"$2\"\n",
    "hist_min_value=$3\n",
    "hist_max_value=$4\n",
    "render() {\n",
    "    local -n _cbv_files=$1\n",
    "    local -n _label_files=$2\n",
    "    \n",
    "    for index in \"${!_cbv_files[@]}\"\n",
    "    do\n",
    "        cbv_file=\"${_cbv_files[index]}\"\n",
    "        label_file=\"${_label_files[index]}\"\n",
    "        \n",
    "        cbv_file_name=\"$(basename $cbv_file)\"\n",
    "        label_file_name=\"$(basename $label_file)\"\n",
    "        \n",
    "        render_command='fsleyes \n",
    "            --scene ortho \n",
    "            --worldLoc 9.918212890625e-05 -18.000099182128906 7.999900817871094 \n",
    "            --displaySpace \n",
    "            '$cbv_file' \n",
    "            --xcentre -0.00000 -0.11019 \n",
    "            --ycentre -0.00000 -0.11019 \n",
    "            --zcentre -0.00000 -0.00000 \n",
    "            --xzoom 803.0573770888577 \n",
    "            --yzoom 809.4712464952298 \n",
    "            --zzoom 803.057377088858 \n",
    "            --hideLabels \n",
    "            --labelSize 14 \n",
    "            --layout horizontal \n",
    "            --hideCursor \n",
    "            --bgColour 0.0 0.0 0.0 \n",
    "            --fgColour 1.0 1.0 1.0 \n",
    "            --cursorColour 0.0 1.0 0.0 \n",
    "            --colourBarLocation top \n",
    "            --colourBarLabelSide top-left \n",
    "            --performance 3 \n",
    "            '$cbv_file' \n",
    "            --name '$cbv_file_name' \n",
    "            --overlayType volume \n",
    "            --alpha 100.0 \n",
    "            --brightness 64.94720130619707 \n",
    "            --contrast 79.89440261239416 \n",
    "            --cmap hot \n",
    "            --negativeCmap greyscale \n",
    "            --displayRange '$hist_min_value' '$hist_max_value' \n",
    "            --clippingRange 0.0 30.140860195159913 \n",
    "            --gamma 0.0 \n",
    "            --cmapResolution 256 \n",
    "            --interpolation none \n",
    "            --numSteps 100 \n",
    "            --blendFactor 0.1 \n",
    "            --smoothing 0 \n",
    "            --resolution 100 \n",
    "            --numInnerSteps 10 \n",
    "            --clipMode intersection \n",
    "            --volume 0 \n",
    "            '$label_file' \n",
    "            --name '$label_file_name' \n",
    "            --overlayType volume \n",
    "            --alpha 37.33333333798995 \n",
    "            --brightness 50.0 \n",
    "            --contrast 50.0 \n",
    "            --cmap greyscale \n",
    "            --negativeCmap greyscale \n",
    "            --displayRange 0.0 207.0 \n",
    "            --clippingRange 0.0 209.07 \n",
    "            --gamma 0.0 \n",
    "            --cmapResolution 256 \n",
    "            --interpolation none \n",
    "            --numSteps 100 \n",
    "            --blendFactor 0.1 \n",
    "            --smoothing 0 \n",
    "            --resolution 100 \n",
    "            --numInnerSteps 10 \n",
    "            --clipMode intersection \n",
    "            --volume 0'\n",
    "        echo $render_command\n",
    "        #eval $render_command\n",
    "    done\n",
    "}\n",
    "render cbv_files label_files"
   ]
  },
  {
   "cell_type": "code",
   "execution_count": 25,
   "metadata": {},
   "outputs": [
    {
     "data": {
      "text/plain": [
       "'\\ncbv_path_temp, label_path_temp = get_cbv_and_labels_paths(raw_e1_CBV_region_histograms,                                raw_e1_CBV_dirs,                                raw_e2_CBV_region_histograms,                                raw_e2_CBV_dirs,                                topup_e1_CBV_region_histograms,                                topup_e1_CBV_dirs,                                topup_e2_CBV_region_histograms,                                topup_e2_CBV_dirs,                                epic_e1_CBV_region_histograms,                                epic_e1_CBV_dirs,                                epic_e2_CBV_region_histograms,                                epic_e2_CBV_dirs,                                subject_number=26,                                correction_method=\"topup\",                                cbv_based_on=\"e2\")\\ncbv_path_temp\\nload_and_visualize_cbv(cbv_path_temp, interpolation=\"linear\", cmap=\"hot\")\\n'"
      ]
     },
     "execution_count": 25,
     "metadata": {},
     "output_type": "execute_result"
    }
   ],
   "source": [
    "\"\"\"\n",
    "cbv_path_temp, label_path_temp = get_cbv_and_labels_paths(raw_e1_CBV_region_histograms,\\\n",
    "                                raw_e1_CBV_dirs,\\\n",
    "                                raw_e2_CBV_region_histograms,\\\n",
    "                                raw_e2_CBV_dirs,\\\n",
    "                                topup_e1_CBV_region_histograms,\\\n",
    "                                topup_e1_CBV_dirs,\\\n",
    "                                topup_e2_CBV_region_histograms,\\\n",
    "                                topup_e2_CBV_dirs,\\\n",
    "                                epic_e1_CBV_region_histograms,\\\n",
    "                                epic_e1_CBV_dirs,\\\n",
    "                                epic_e2_CBV_region_histograms,\\\n",
    "                                epic_e2_CBV_dirs,\\\n",
    "                                subject_number=26,\\\n",
    "                                correction_method=\"topup\",\\\n",
    "                                cbv_based_on=\"e2\")\n",
    "cbv_path_temp\n",
    "load_and_visualize_cbv(cbv_path_temp, interpolation=\"linear\", cmap=\"hot\")\n",
    "\"\"\""
   ]
  },
  {
   "cell_type": "code",
   "execution_count": 26,
   "metadata": {},
   "outputs": [
    {
     "data": {
      "text/plain": [
       "'MNI rCBV subj 1767888627 (12) epic e2'"
      ]
     },
     "execution_count": 26,
     "metadata": {},
     "output_type": "execute_result"
    }
   ],
   "source": [
    "title_spim"
   ]
  },
  {
   "cell_type": "code",
   "execution_count": 27,
   "metadata": {},
   "outputs": [
    {
     "name": "stdout",
     "output_type": "stream",
     "text": [
      "0.36356901514640055\n",
      "0.3328129843035609\n",
      "0.3901127301377779\n",
      "0.37759430975815406\n",
      "0.33492412375500064\n",
      "0.425121214937746\n"
     ]
    }
   ],
   "source": [
    "#visualize_regions(calculate_similarities(raw_e1_prep, topup_e1_prep, method=\"hellinger\"), labels_data, labels_dims)\n",
    "print(calculate_similarities(raw_e1_prep, topup_e1_prep, method=\"hellinger\").max())\n",
    "#visualize_regions(calculate_similarities(raw_e2_prep, topup_e2_prep, method=\"hellinger\"), labels_data, labels_dims)\n",
    "print(calculate_similarities(raw_e2_prep, topup_e2_prep, method=\"hellinger\").max())\n",
    "\n",
    "#visualize_regions(calculate_similarities(raw_e1_prep, epic_e1_prep, method=\"hellinger\"), labels_data, labels_dims)\n",
    "print(calculate_similarities(raw_e1_prep, epic_e1_prep, method=\"hellinger\").max())\n",
    "#visualize_regions(calculate_similarities(raw_e2_prep, epic_e2_prep, method=\"hellinger\"), labels_data, labels_dims)\n",
    "print(calculate_similarities(raw_e2_prep, epic_e2_prep, method=\"hellinger\").max())\n",
    "\n",
    "#visualize_regions(calculate_similarities(topup_e1_prep, epic_e1_prep, method=\"hellinger\"), labels_data, labels_dims)\n",
    "print(calculate_similarities(topup_e1_prep, epic_e1_prep, method=\"hellinger\").max())\n",
    "#visualize_regions(calculate_similarities(topup_e2_prep, epic_e2_prep, method=\"hellinger\"), labels_data, labels_dims)\n",
    "print(calculate_similarities(topup_e2_prep, epic_e2_prep, method=\"hellinger\").max())"
   ]
  },
  {
   "cell_type": "markdown",
   "metadata": {},
   "source": [
    "6. Get region names from the original xml file"
   ]
  },
  {
   "cell_type": "markdown",
   "metadata": {},
   "source": [
    "Option 1: Using original full 134 regions file"
   ]
  },
  {
   "cell_type": "code",
   "execution_count": 28,
   "metadata": {},
   "outputs": [
    {
     "data": {
      "text/plain": [
       "'\\nregions_info_relative_file = corrections_base_directory + \"/labels_Neuromorphometrics.xml\" # Assumed to exist, copy from spm12/tpm directory.\\nregions_info_relative_path = Path(regions_info_relative_file)\\nregions_info_relative_path\\n'"
      ]
     },
     "execution_count": 28,
     "metadata": {},
     "output_type": "execute_result"
    }
   ],
   "source": [
    "\"\"\"\n",
    "regions_info_relative_file = corrections_base_directory + \"/labels_Neuromorphometrics.xml\" # Assumed to exist, copy from spm12/tpm directory.\n",
    "regions_info_relative_path = Path(regions_info_relative_file)\n",
    "regions_info_relative_path\n",
    "\"\"\""
   ]
  },
  {
   "cell_type": "code",
   "execution_count": 29,
   "metadata": {},
   "outputs": [
    {
     "data": {
      "text/plain": [
       "'\\nregions_info_file = str(Path.joinpath(Path.cwd().parent.parent, *regions_info_relative_path.parts[2:]))\\nregions_info_file\\n'"
      ]
     },
     "execution_count": 29,
     "metadata": {},
     "output_type": "execute_result"
    }
   ],
   "source": [
    "\"\"\"\n",
    "regions_info_file = str(Path.joinpath(Path.cwd().parent.parent, *regions_info_relative_path.parts[2:]))\n",
    "regions_info_file\n",
    "\"\"\""
   ]
  },
  {
   "cell_type": "code",
   "execution_count": 30,
   "metadata": {},
   "outputs": [
    {
     "data": {
      "text/plain": [
       "'\\n# Although existing in the original regions file, \\n# Region 63 (Right vessel) and 64 (Left vessel)\\n# did not exist in the resliced regions file.\\n# This must be due to those vessel regions being small enough\\n# to disappear after the nearest neighbour interpolation.\\n\\nimport xml.etree.ElementTree as ET\\ntree = ET.parse(regions_info_file)\\nregion_names = []\\nregion_values_temp = []\\nb = []\\nfor i in tree.iter():\\n    index = i.find(\"index\")\\n    if index != None:\\n        #pass\\n        #print(index.text)\\n        index_int = np.int(index.text)\\n        if index_int in region_values:\\n            name = i.find(\"name\")\\n            region_values_temp += [index_int]\\n            region_names += [name.text]\\nregion_values_temp = np.array(region_values_temp)\\nregion_names = np.array(region_names)\\n'"
      ]
     },
     "execution_count": 30,
     "metadata": {},
     "output_type": "execute_result"
    }
   ],
   "source": [
    "\"\"\"\n",
    "# Although existing in the original regions file, \n",
    "# Region 63 (Right vessel) and 64 (Left vessel)\n",
    "# did not exist in the resliced regions file.\n",
    "# This must be due to those vessel regions being small enough\n",
    "# to disappear after the nearest neighbour interpolation.\n",
    "\n",
    "import xml.etree.ElementTree as ET\n",
    "tree = ET.parse(regions_info_file)\n",
    "region_names = []\n",
    "region_values_temp = []\n",
    "b = []\n",
    "for i in tree.iter():\n",
    "    index = i.find(\"index\")\n",
    "    if index != None:\n",
    "        #pass\n",
    "        #print(index.text)\n",
    "        index_int = np.int(index.text)\n",
    "        if index_int in region_values:\n",
    "            name = i.find(\"name\")\n",
    "            region_values_temp += [index_int]\n",
    "            region_names += [name.text]\n",
    "region_values_temp = np.array(region_values_temp)\n",
    "region_names = np.array(region_names)\n",
    "\"\"\""
   ]
  },
  {
   "cell_type": "code",
   "execution_count": 31,
   "metadata": {},
   "outputs": [],
   "source": [
    "#region_values_temp"
   ]
  },
  {
   "cell_type": "code",
   "execution_count": 32,
   "metadata": {},
   "outputs": [],
   "source": [
    "# Verify that the regions in region_names correspond to the regions in region_values\n",
    "# - by verifying equal region values:\n",
    "#np.all(region_values_temp == region_values.flatten())"
   ]
  },
  {
   "cell_type": "code",
   "execution_count": 33,
   "metadata": {},
   "outputs": [],
   "source": [
    "# - by verifying equal shape of region_values.flatten() and region_names\n",
    "#region_values.flatten().shape == region_names.shape"
   ]
  },
  {
   "cell_type": "code",
   "execution_count": 34,
   "metadata": {},
   "outputs": [],
   "source": [
    "#region_names = np.array([name[:15] + \"...\" for name in region_names])"
   ]
  },
  {
   "cell_type": "markdown",
   "metadata": {},
   "source": [
    "### NB! Specify regions to exclude in the histogram figures"
   ]
  },
  {
   "cell_type": "markdown",
   "metadata": {},
   "source": [
    "If using original full 134 regions MNI template"
   ]
  },
  {
   "cell_type": "code",
   "execution_count": 35,
   "metadata": {},
   "outputs": [
    {
     "data": {
      "text/plain": [
       "\"\\nregions_excluded_clean = np.array(['3rd Ventricle', \\n                                   '4th Ventricle', \\n                                   'Cerebrospinal fluid', \\n                                   'Right Inferior Lateral Ventricles', \\n                                   'Left Inferior Lateral Ventricles', \\n                                   'Right Lateral Ventricle', \\n                                   'Left Lateral Ventricle'])\\n\""
      ]
     },
     "execution_count": 35,
     "metadata": {},
     "output_type": "execute_result"
    }
   ],
   "source": [
    "\"\"\"\n",
    "regions_excluded_clean = np.array(['3rd Ventricle', \n",
    "                                   '4th Ventricle', \n",
    "                                   'Cerebrospinal fluid', \n",
    "                                   'Right Inferior Lateral Ventricles', \n",
    "                                   'Left Inferior Lateral Ventricles', \n",
    "                                   'Right Lateral Ventricle', \n",
    "                                   'Left Lateral Ventricle'])\n",
    "\"\"\""
   ]
  },
  {
   "cell_type": "code",
   "execution_count": 36,
   "metadata": {},
   "outputs": [
    {
     "data": {
      "text/plain": [
       "\"\\nregion_names_clean = np.array(['3rd Ventricle', '4th Ventricle', 'Right Accumbens Area',\\n       'Left Accumbens Area', 'Right Amygdala', 'Left Amygdala',\\n       'Brain Stem', 'Right Caudate', 'Left Caudate',\\n       'Right Cerebellum Exterior', 'Left Cerebellum Exterior',\\n       'Right Cerebellum White Matter', 'Left Cerebellum White Matter',\\n       'Right Cerebral White Matter', 'Left Cerebral White Matter', 'Cerebrospinal fluid',\\n       'Right Hippocampus', 'Left Hippocampus', 'Right Inferior Lateral Ventricles',\\n       'Left Inferior Lateral Ventricles', 'Right Lateral Ventricle',\\n       'Left Lateral Ventricle', 'Right Pallidum', 'Left Pallidum',\\n       'Right Putamen', 'Left Putamen', 'Right Thalamus Proper',\\n       'Left Thalamus Proper', 'Right Ventral DC', 'Left Ventral DC',\\n       'Optic Chiasm', 'Cerebellar Vermal Lobules I-V',\\n       'Cerebellar Vermal Lobules VI-VII',\\n       'Cerebellar Vermal Lobules VIII-X', 'Left Basal Forebrain',\\n       'Right Basal Forebrain', 'Right anterior cingulate gyrus',\\n       'Left anterior cingulate gyrus', 'Right anterior insula',\\n       'Left anterior insula', 'Right anterior orbital gyrus',\\n       'Left anterior orbital gyrus', 'Right angular gyrus',\\n       'Left angular gyrus', 'Right calcarine cortex',\\n       'Left calcarine cortex', 'Right central operculum',\\n       'Left central operculum', 'Right cuneus', 'Left cuneus',\\n       'Right entorhinal area', 'Left entorhinal area',\\n       'Right frontal operculum', 'Left frontal operculum',\\n       'Right frontal pole', 'Left frontal pole',\\n       'Right fusiform gyrus', 'Left fusiform gyrus',\\n       'Right gyrus rectus', 'Left gyrus rectus',\\n       'Right inferior occipital gyrus',\\n       'Left inferior occipital gyrus',\\n       'Right inferior temporal gyrus',\\n       'Left inferior temporal gyrus', 'Right lingual gyrus',\\n       'Left lingual gyrus', 'Right lateral orbital gyrus',\\n       'Left lateral orbital gyrus',\\n       'Right middle cingulate gyrus',\\n       'Left middle cingulate gyrus',\\n       'Right medial frontal cortex',\\n       'Left medial frontal cortex', 'Right middle frontal gyrus',\\n       'Left middle frontal gyrus',\\n       'Right middle occipital gyrus',\\n       'Left middle occipital gyrus',\\n       'Right medial orbital gyrus',\\n       'Left medial orbital gyrus',\\n       'Right postcentral gyrus medial segment',\\n       'Left postcentral gyrus medial segment',\\n       'Right precentral gyrus medial segment',\\n       'Left precentral gyrus medial segment',\\n       'Right superior frontal gyrus medial segment',\\n       'Left superior frontal gyrus medial segment',\\n       'Right middle temporal gyrus',\\n       'Left middle temporal gyrus', 'Right occipital pole',\\n       'Left occipital pole', 'Right occipital fusiform gyrus',\\n       'Left occipital fusiform gyrus',\\n       'Right opercular part of the inferior frontal gyrus',\\n       'Left opercular part of the inferior frontal gyrus',\\n       'Right orbital part of the inferior frontal gyrus',\\n       'Left orbital part of the inferior frontal gyrus',\\n       'Right posterior cingulate gyrus',\\n       'Left posterior cingulate gyrus', 'Right precuneus',\\n       'Left precuneus', 'Right parahippocampal gyrus',\\n       'Left parahippocampal gyrus', 'Right posterior insula',\\n       'Left posterior insula', 'Right parietal operculum',\\n       'Left parietal operculum', 'Right postcentral gyrus',\\n       'Left postcentral gyrus', 'Right posterior orbital gyrus',\\n       'Left posterior orbital gyrus', 'Right planum polare',\\n       'Left planum polare', 'Right precentral gyrus',\\n       'Left precentral gyrus', 'Right planum temporale',\\n       'Left planum temporale', 'Right subcallosal area',\\n       'Left subcallosal area', 'Right superior frontal gyrus',\\n       'Left superior frontal gyrus',\\n       'Right supplementary motor cortex',\\n       'Left supplementary motor cortex',\\n       'Right supramarginal gyrus', 'Left supramarginal gyrus',\\n       'Right superior occipital gyrus',\\n       'Left superior occipital gyrus',\\n       'Right superior parietal lobule',\\n       'Left superior parietal lobule',\\n       'Right superior temporal gyrus',\\n       'Left superior temporal gyrus', 'Right temporal pole',\\n       'Left temporal pole',\\n       'Right triangular part of the inferior frontal gyrus',\\n       'Left triangular part of the inferior frontal gyrus',\\n       'Right transverse temporal gyrus',\\n       'Left transverse temporal gyrus'])\\n\""
      ]
     },
     "execution_count": 36,
     "metadata": {},
     "output_type": "execute_result"
    }
   ],
   "source": [
    "\"\"\"\n",
    "region_names_clean = np.array(['3rd Ventricle', '4th Ventricle', 'Right Accumbens Area',\n",
    "       'Left Accumbens Area', 'Right Amygdala', 'Left Amygdala',\n",
    "       'Brain Stem', 'Right Caudate', 'Left Caudate',\n",
    "       'Right Cerebellum Exterior', 'Left Cerebellum Exterior',\n",
    "       'Right Cerebellum White Matter', 'Left Cerebellum White Matter',\n",
    "       'Right Cerebral White Matter', 'Left Cerebral White Matter', 'Cerebrospinal fluid',\n",
    "       'Right Hippocampus', 'Left Hippocampus', 'Right Inferior Lateral Ventricles',\n",
    "       'Left Inferior Lateral Ventricles', 'Right Lateral Ventricle',\n",
    "       'Left Lateral Ventricle', 'Right Pallidum', 'Left Pallidum',\n",
    "       'Right Putamen', 'Left Putamen', 'Right Thalamus Proper',\n",
    "       'Left Thalamus Proper', 'Right Ventral DC', 'Left Ventral DC',\n",
    "       'Optic Chiasm', 'Cerebellar Vermal Lobules I-V',\n",
    "       'Cerebellar Vermal Lobules VI-VII',\n",
    "       'Cerebellar Vermal Lobules VIII-X', 'Left Basal Forebrain',\n",
    "       'Right Basal Forebrain', 'Right anterior cingulate gyrus',\n",
    "       'Left anterior cingulate gyrus', 'Right anterior insula',\n",
    "       'Left anterior insula', 'Right anterior orbital gyrus',\n",
    "       'Left anterior orbital gyrus', 'Right angular gyrus',\n",
    "       'Left angular gyrus', 'Right calcarine cortex',\n",
    "       'Left calcarine cortex', 'Right central operculum',\n",
    "       'Left central operculum', 'Right cuneus', 'Left cuneus',\n",
    "       'Right entorhinal area', 'Left entorhinal area',\n",
    "       'Right frontal operculum', 'Left frontal operculum',\n",
    "       'Right frontal pole', 'Left frontal pole',\n",
    "       'Right fusiform gyrus', 'Left fusiform gyrus',\n",
    "       'Right gyrus rectus', 'Left gyrus rectus',\n",
    "       'Right inferior occipital gyrus',\n",
    "       'Left inferior occipital gyrus',\n",
    "       'Right inferior temporal gyrus',\n",
    "       'Left inferior temporal gyrus', 'Right lingual gyrus',\n",
    "       'Left lingual gyrus', 'Right lateral orbital gyrus',\n",
    "       'Left lateral orbital gyrus',\n",
    "       'Right middle cingulate gyrus',\n",
    "       'Left middle cingulate gyrus',\n",
    "       'Right medial frontal cortex',\n",
    "       'Left medial frontal cortex', 'Right middle frontal gyrus',\n",
    "       'Left middle frontal gyrus',\n",
    "       'Right middle occipital gyrus',\n",
    "       'Left middle occipital gyrus',\n",
    "       'Right medial orbital gyrus',\n",
    "       'Left medial orbital gyrus',\n",
    "       'Right postcentral gyrus medial segment',\n",
    "       'Left postcentral gyrus medial segment',\n",
    "       'Right precentral gyrus medial segment',\n",
    "       'Left precentral gyrus medial segment',\n",
    "       'Right superior frontal gyrus medial segment',\n",
    "       'Left superior frontal gyrus medial segment',\n",
    "       'Right middle temporal gyrus',\n",
    "       'Left middle temporal gyrus', 'Right occipital pole',\n",
    "       'Left occipital pole', 'Right occipital fusiform gyrus',\n",
    "       'Left occipital fusiform gyrus',\n",
    "       'Right opercular part of the inferior frontal gyrus',\n",
    "       'Left opercular part of the inferior frontal gyrus',\n",
    "       'Right orbital part of the inferior frontal gyrus',\n",
    "       'Left orbital part of the inferior frontal gyrus',\n",
    "       'Right posterior cingulate gyrus',\n",
    "       'Left posterior cingulate gyrus', 'Right precuneus',\n",
    "       'Left precuneus', 'Right parahippocampal gyrus',\n",
    "       'Left parahippocampal gyrus', 'Right posterior insula',\n",
    "       'Left posterior insula', 'Right parietal operculum',\n",
    "       'Left parietal operculum', 'Right postcentral gyrus',\n",
    "       'Left postcentral gyrus', 'Right posterior orbital gyrus',\n",
    "       'Left posterior orbital gyrus', 'Right planum polare',\n",
    "       'Left planum polare', 'Right precentral gyrus',\n",
    "       'Left precentral gyrus', 'Right planum temporale',\n",
    "       'Left planum temporale', 'Right subcallosal area',\n",
    "       'Left subcallosal area', 'Right superior frontal gyrus',\n",
    "       'Left superior frontal gyrus',\n",
    "       'Right supplementary motor cortex',\n",
    "       'Left supplementary motor cortex',\n",
    "       'Right supramarginal gyrus', 'Left supramarginal gyrus',\n",
    "       'Right superior occipital gyrus',\n",
    "       'Left superior occipital gyrus',\n",
    "       'Right superior parietal lobule',\n",
    "       'Left superior parietal lobule',\n",
    "       'Right superior temporal gyrus',\n",
    "       'Left superior temporal gyrus', 'Right temporal pole',\n",
    "       'Left temporal pole',\n",
    "       'Right triangular part of the inferior frontal gyrus',\n",
    "       'Left triangular part of the inferior frontal gyrus',\n",
    "       'Right transverse temporal gyrus',\n",
    "       'Left transverse temporal gyrus'])\n",
    "\"\"\""
   ]
  },
  {
   "cell_type": "markdown",
   "metadata": {},
   "source": [
    "Option 2: If using left-right merged MNI regions template"
   ]
  },
  {
   "cell_type": "code",
   "execution_count": 37,
   "metadata": {},
   "outputs": [],
   "source": [
    "regions_excluded_clean = np.array(['3rd Ventricle', \n",
    "                                   '4th Ventricle', \n",
    "                                   'Cerebrospinal fluid', \n",
    "                                   'Left & right Inferior Lateral Ventricles', \n",
    "                                   'Left & right Lateral Ventricle'])"
   ]
  },
  {
   "cell_type": "code",
   "execution_count": 38,
   "metadata": {},
   "outputs": [],
   "source": [
    "# Although existing in the original regions file, \n",
    "# Region 63 (Right vessel) and 64 (Left vessel)\n",
    "# (left-right region 18) did not exist in the resliced regions file.\n",
    "# This must be due to those vessel regions being small enough\n",
    "# to disappear after the nearest neighbour interpolation.\n",
    "# 'Left & right vessel' is thus removed from this list\n",
    "# as it is not included in region_values from the histogram data.\n",
    "region_names_clean = np.array(['3rd Ventricle', '4th Ventricle', 'Left & right Accumbens Area',\n",
    "       'Left & right Amygdala', 'Brain Stem', 'Left & right Caudate',\n",
    "       'Left & right Cerebellum Exterior',\n",
    "       'Left & right Cerebellum White Matter',\n",
    "       'Left & right Cerebral White Matter', 'Cerebrospinal fluid',\n",
    "       'Left & right Hippocampus', 'Left & right Inferior Lateral Ventricles',\n",
    "       'Left & right Lateral Ventricle', 'Left & right Pallidum',\n",
    "       'Left & right Putamen', 'Left & right Thalamus Proper',\n",
    "       'Left & right Ventral DC', 'Optic Chiasm',\n",
    "       'Cerebellar Vermal Lobules I-V',\n",
    "       'Cerebellar Vermal Lobules VI-VII',\n",
    "       'Cerebellar Vermal Lobules VIII-X', 'Left & right Basal Forebrain',\n",
    "       'Left & right anterior cingulate gyrus',\n",
    "       'Left & right anterior insula',\n",
    "       'Left & right anterior orbital gyrus',\n",
    "       'Left & right angular gyrus',\n",
    "       'Left & right calcarine cortex',\n",
    "       'Left & right central operculum', 'Left & right cuneus',\n",
    "       'Left & right entorhinal area',\n",
    "       'Left & right frontal operculum',\n",
    "       'Left & right frontal pole', 'Left & right fusiform gyrus',\n",
    "       'Left & right gyrus rectus',\n",
    "       'Left & right inferior occipital gyrus',\n",
    "       'Left & right inferior temporal gyrus',\n",
    "       'Left & right lingual gyrus',\n",
    "       'Left & right lateral orbital gyrus',\n",
    "       'Left & right middle cingulate gyrus',\n",
    "       'Left & right medial frontal cortex',\n",
    "       'Left & right middle frontal gyrus',\n",
    "       'Left & right middle occipital gyrus',\n",
    "       'Left & right medial orbital gyrus',\n",
    "       'Left & right postcentral gyrus medial segment',\n",
    "       'Left & right precentral gyrus medial segment',\n",
    "       'Left & right superior frontal gyrus medial segment',\n",
    "       'Left & right middle temporal gyrus',\n",
    "       'Left & right occipital pole',\n",
    "       'Left & right occipital fusiform gyrus',\n",
    "       'Left & right opercular part of the inferior frontal gyrus',\n",
    "       'Left & right orbital part of the inferior frontal gyrus',\n",
    "       'Left & right posterior cingulate gyrus',\n",
    "       'Left & right precuneus',\n",
    "       'Left & right parahippocampal gyrus',\n",
    "       'Left & right posterior insula',\n",
    "       'Left & right parietal operculum',\n",
    "       'Left & right postcentral gyrus',\n",
    "       'Left & right posterior orbital gyrus',\n",
    "       'Left & right planum polare',\n",
    "       'Left & right precentral gyrus',\n",
    "       'Left & right planum temporale',\n",
    "       'Left & right subcallosal area',\n",
    "       'Left & right superior frontal gyrus',\n",
    "       'Left & right supplementary motor cortex',\n",
    "       'Left & right supramarginal gyrus',\n",
    "       'Left & right superior occipital gyrus',\n",
    "       'Left & right superior parietal lobule',\n",
    "       'Left & right superior temporal gyrus',\n",
    "       'Left & right temporal pole',\n",
    "       'Left & right triangular part of the inferior frontal gyrus',\n",
    "       'Left & right transverse temporal gyrus'])"
   ]
  },
  {
   "cell_type": "code",
   "execution_count": 39,
   "metadata": {},
   "outputs": [
    {
     "data": {
      "text/plain": [
       "True"
      ]
     },
     "execution_count": 39,
     "metadata": {},
     "output_type": "execute_result"
    }
   ],
   "source": [
    "# Verifying equal shape of region_values.flatten() and region_names_clean\n",
    "region_values.shape == region_names_clean.shape"
   ]
  },
  {
   "cell_type": "markdown",
   "metadata": {},
   "source": [
    "7. Present histogram distances"
   ]
  },
  {
   "cell_type": "markdown",
   "metadata": {},
   "source": [
    "7. a) 1. Calculate relative and total rCBV change between uncorrected and corrected rCBV based on histograms"
   ]
  },
  {
   "cell_type": "code",
   "execution_count": 40,
   "metadata": {},
   "outputs": [],
   "source": [
    "raw_vs_topup_e1_relative_rcbv_change_df = \\\n",
    "preprocess_and_calculate_all_histogram_relative_rcbv_changes(region_values,\\\n",
    "                                                 region_names_clean,\\\n",
    "                                                 hist_edges,\\\n",
    "                                                 raw_e1_CBV_region_histograms,\\\n",
    "                                                 topup_e1_CBV_region_histograms,\\\n",
    "                                                 two_tail_fraction)\n",
    "raw_vs_topup_e2_relative_rcbv_change_df = \\\n",
    "preprocess_and_calculate_all_histogram_relative_rcbv_changes(region_values,\\\n",
    "                                                 region_names_clean,\\\n",
    "                                                 hist_edges,\\\n",
    "                                                 raw_e2_CBV_region_histograms,\\\n",
    "                                                 topup_e2_CBV_region_histograms,\\\n",
    "                                                 two_tail_fraction)\n",
    "raw_vs_epic_e1_relative_rcbv_change_df = \\\n",
    "preprocess_and_calculate_all_histogram_relative_rcbv_changes(region_values,\\\n",
    "                                                 region_names_clean,\\\n",
    "                                                 hist_edges,\\\n",
    "                                                 raw_e1_CBV_region_histograms,\\\n",
    "                                                 epic_e1_CBV_region_histograms,\\\n",
    "                                                 two_tail_fraction)\n",
    "raw_vs_epic_e2_relative_rcbv_change_df = \\\n",
    "preprocess_and_calculate_all_histogram_relative_rcbv_changes(region_values,\\\n",
    "                                                 region_names_clean,\\\n",
    "                                                 hist_edges,\\\n",
    "                                                 raw_e2_CBV_region_histograms,\\\n",
    "                                                 epic_e2_CBV_region_histograms,\\\n",
    "                                                 two_tail_fraction)\n",
    "\n",
    "raw_vs_topup_e1_total_rcbv_change_df = \\\n",
    "preprocess_and_calculate_all_histogram_total_rcbv_changes(region_values,\\\n",
    "                                                 region_names_clean,\\\n",
    "                                                 hist_edges,\\\n",
    "                                                 raw_e1_CBV_region_histograms,\\\n",
    "                                                 topup_e1_CBV_region_histograms,\\\n",
    "                                                 two_tail_fraction)\n",
    "raw_vs_topup_e2_total_rcbv_change_df = \\\n",
    "preprocess_and_calculate_all_histogram_total_rcbv_changes(region_values,\\\n",
    "                                                 region_names_clean,\\\n",
    "                                                 hist_edges,\\\n",
    "                                                 raw_e2_CBV_region_histograms,\\\n",
    "                                                 topup_e2_CBV_region_histograms,\\\n",
    "                                                 two_tail_fraction)\n",
    "raw_vs_epic_e1_total_rcbv_change_df = \\\n",
    "preprocess_and_calculate_all_histogram_total_rcbv_changes(region_values,\\\n",
    "                                                 region_names_clean,\\\n",
    "                                                 hist_edges,\\\n",
    "                                                 raw_e1_CBV_region_histograms,\\\n",
    "                                                 epic_e1_CBV_region_histograms,\\\n",
    "                                                 two_tail_fraction)\n",
    "raw_vs_epic_e2_total_rcbv_change_df = \\\n",
    "preprocess_and_calculate_all_histogram_total_rcbv_changes(region_values,\\\n",
    "                                                 region_names_clean,\\\n",
    "                                                 hist_edges,\\\n",
    "                                                 raw_e2_CBV_region_histograms,\\\n",
    "                                                 epic_e2_CBV_region_histograms,\\\n",
    "                                                 two_tail_fraction)\n",
    "\n",
    "\n",
    "# p-values from two-sided Wilcoxon signed-rank test (non-parametric test which approximates gaussian distribution as assumtion)\n",
    "# https://docs.scipy.org/doc/scipy/reference/generated/scipy.stats.wilcoxon.html#r996422d5c98f-4\n",
    "raw_vs_topup_e1_total_rcbv_change_p_values_series = \\\n",
    "wilcoxon_signed_rank_test(drop_regions_with_few_comparisons(raw_vs_topup_e1_total_rcbv_change_df, num_comparisons_below=10))\n",
    "\n",
    "raw_vs_topup_e2_total_rcbv_change_p_values_series = \\\n",
    "wilcoxon_signed_rank_test(drop_regions_with_few_comparisons(raw_vs_topup_e2_total_rcbv_change_df, num_comparisons_below=10))\n",
    "\n",
    "raw_vs_epic_e1_total_rcbv_change_p_values_series = \\\n",
    "wilcoxon_signed_rank_test(drop_regions_with_few_comparisons(raw_vs_epic_e1_total_rcbv_change_df, num_comparisons_below=10))\n",
    "\n",
    "raw_vs_epic_e2_total_rcbv_change_p_values_series = \\\n",
    "wilcoxon_signed_rank_test(drop_regions_with_few_comparisons(raw_vs_epic_e2_total_rcbv_change_df, num_comparisons_below=10))\n",
    "\n",
    "# The selected confidence level to reject the null hypothesis saying that there is no total rCBV change in a region\n",
    "p_alpha = 0.05"
   ]
  },
  {
   "cell_type": "code",
   "execution_count": 41,
   "metadata": {},
   "outputs": [],
   "source": [
    "\n",
    "\"\"\"\n",
    "With:\n",
    "ascending=True\n",
    "windowMin = 1/windowMax\n",
    "windowMax = 1/windowMin\n",
    "\"\"\"\n",
    "windowMin = \\\n",
    "np.min(\\\n",
    "[raw_vs_topup_e1_relative_rcbv_change_df.min().min(), \\\n",
    " raw_vs_topup_e2_relative_rcbv_change_df.min().min(), \\\n",
    " raw_vs_epic_e1_relative_rcbv_change_df.min().min(), \\\n",
    " raw_vs_epic_e2_relative_rcbv_change_df.min().min()])\n",
    "\n",
    "\"\"\"\n",
    "With:\n",
    "ascending=False\n",
    "windowMin = windowMin\n",
    "windowMax = windowMax\n",
    "\"\"\"\n",
    "windowMax = \\\n",
    "np.max(\\\n",
    "[raw_vs_topup_e1_relative_rcbv_change_df.max().max(), \\\n",
    " raw_vs_topup_e2_relative_rcbv_change_df.max().max(), \\\n",
    " raw_vs_epic_e1_relative_rcbv_change_df.max().max(), \\\n",
    " raw_vs_epic_e2_relative_rcbv_change_df.max().max()])"
   ]
  },
  {
   "cell_type": "code",
   "execution_count": 42,
   "metadata": {},
   "outputs": [
    {
     "data": {
      "text/plain": [
       "0.8482578992314261"
      ]
     },
     "execution_count": 42,
     "metadata": {},
     "output_type": "execute_result"
    }
   ],
   "source": [
    "#1/windowMax\n",
    "1/windowMin*0.34\n",
    "#windowMin\n",
    "#windowMax*0.4"
   ]
  },
  {
   "cell_type": "code",
   "execution_count": 43,
   "metadata": {},
   "outputs": [],
   "source": [
    "#%run visualization.py\n",
    "#%run utils.py\n",
    "#p_alpha = 0.05\n",
    "\"\"\"\n",
    "With:\n",
    "ascending1=True\n",
    "ascending2=True\n",
    "ascending3=True\n",
    "ascending4=True\n",
    "windowMin = 1/windowMax\n",
    "windowMax = 1/windowMin*0.33\n",
    "\"\"\"\n",
    "windowMin = \\\n",
    "np.median(\\\n",
    "[raw_vs_topup_e1_relative_rcbv_change_df.median().min(), \\\n",
    " raw_vs_topup_e2_relative_rcbv_change_df.median().min(), \\\n",
    " raw_vs_epic_e1_relative_rcbv_change_df.median().min(), \\\n",
    " raw_vs_epic_e2_relative_rcbv_change_df.median().min()])\n",
    "\n",
    "\"\"\"\n",
    "With:\n",
    "ascending1=False\n",
    "ascending2=False\n",
    "ascending3=False\n",
    "ascending4=False\n",
    "windowMin = windowMin\n",
    "windowMax = windowMax*0.4\n",
    "\"\"\"\n",
    "#%run visualization.py\n",
    "windowMax = \\\n",
    "np.median(\\\n",
    "[raw_vs_topup_e1_relative_rcbv_change_df.median().max(), \\\n",
    " raw_vs_topup_e2_relative_rcbv_change_df.median().max(), \\\n",
    " raw_vs_epic_e1_relative_rcbv_change_df.median().max(), \\\n",
    " raw_vs_epic_e2_relative_rcbv_change_df.median().max()])\n",
    "rendered_image_files_list_rcbv_change = \\\n",
    "sorted_boxplot_figure_rcbv(df_1_rcbv = raw_vs_topup_e2_relative_rcbv_change_df, \\\n",
    "                                   df_2_rcbv = raw_vs_topup_e1_relative_rcbv_change_df, \\\n",
    "                                   df_3_rcbv = raw_vs_epic_e2_relative_rcbv_change_df, \\\n",
    "                                   df_4_rcbv = raw_vs_epic_e1_relative_rcbv_change_df, \\\n",
    "                                   ser_1_pvalues = raw_vs_topup_e2_total_rcbv_change_p_values_series, \\\n",
    "                                   ser_2_pvalues = raw_vs_topup_e1_total_rcbv_change_p_values_series, \\\n",
    "                                   ser_3_pvalues = raw_vs_epic_e2_total_rcbv_change_p_values_series, \\\n",
    "                                   ser_4_pvalues = raw_vs_epic_e1_total_rcbv_change_p_values_series, \\\n",
    "                                   p_alpha = p_alpha, \\\n",
    "                              ylabel_1 = \"A: Uncorrected vs. TOPUP SE\", \\\n",
    "                              ylabel_2 = \"B: Uncorrected vs. TOPUP GE\", \\\n",
    "                              ylabel_3 = \"C: Uncorrected vs. EPIC SE\", \\\n",
    "                              ylabel_4 = \"D: Uncorrected vs. EPIC GE\", \\\n",
    "                              distance_name = \"rCBV-change\", \\\n",
    "                              labels_data = labels_data, \\\n",
    "                              labels_dims =  labels_dims, \\\n",
    "                              CBV_out_dir = CBV_out_dir, \\\n",
    "                              rendered_image_files_list = [], \\\n",
    "                              region_values = region_values, \\\n",
    "                              region_names = region_names_clean, \\\n",
    "                              region_names_to_exclude = regions_excluded_clean, \\\n",
    "                              ascending1=True, \\\n",
    "                              ascending2=True, \\\n",
    "                              ascending3=True, \\\n",
    "                              ascending4=True, \\\n",
    "                              top=\"significant_all\", \\\n",
    "                              render_pngs=True, \\\n",
    "                              windowMin = 1/windowMax, \\\n",
    "                              windowMax = 1/windowMin, \\\n",
    "                              interpolation = \"nearest\", \\\n",
    "                              cmap = \"hot\", \\\n",
    "                              blur_3d = False, \\\n",
    "                              blur_3d_sigma = 1, \\\n",
    "                              method_comparison = False)\n"
   ]
  },
  {
   "cell_type": "code",
   "execution_count": 44,
   "metadata": {},
   "outputs": [
    {
     "data": {
      "text/plain": [
       "'\\n%%bash -s \"$CBV_out_dir\"\\nCBV_out_dir=$1\\ncd $CBV_out_dir\\nls rCBV-change-*.png | xargs -I file convert file -fill \"rgb(173, 216, 230)\" -opaque black file\\n'"
      ]
     },
     "execution_count": 44,
     "metadata": {},
     "output_type": "execute_result"
    }
   ],
   "source": [
    "\"\"\"\n",
    "%%bash -s \"$CBV_out_dir\"\n",
    "CBV_out_dir=$1\n",
    "cd $CBV_out_dir\n",
    "ls rCBV-change-*.png | xargs -I file convert file -fill \"rgb(173, 216, 230)\" -opaque black file\n",
    "\"\"\""
   ]
  },
  {
   "cell_type": "code",
   "execution_count": 45,
   "metadata": {},
   "outputs": [],
   "source": [
    "#%run visualization.py\n",
    "rendered_image_files_list_rcbv_change = \\\n",
    "sorted_boxplot_figure_rcbv(df_1_rcbv = raw_vs_topup_e2_relative_rcbv_change_df, \\\n",
    "                                df_2_rcbv = raw_vs_topup_e1_relative_rcbv_change_df, \\\n",
    "                                df_3_rcbv = raw_vs_epic_e2_relative_rcbv_change_df, \\\n",
    "                                df_4_rcbv = raw_vs_epic_e1_relative_rcbv_change_df, \\\n",
    "                                   ser_1_pvalues = raw_vs_topup_e2_total_rcbv_change_p_values_series, \\\n",
    "                                   ser_2_pvalues = raw_vs_topup_e1_total_rcbv_change_p_values_series, \\\n",
    "                                   ser_3_pvalues = raw_vs_epic_e2_total_rcbv_change_p_values_series, \\\n",
    "                                   ser_4_pvalues = raw_vs_epic_e1_total_rcbv_change_p_values_series, \\\n",
    "                                   p_alpha = p_alpha, \\\n",
    "                              ylabel_1 = \"A: Uncorrected vs. TOPUP SE\", \\\n",
    "                              ylabel_2 = \"B: Uncorrected vs. TOPUP GE\", \\\n",
    "                              ylabel_3 = \"C: Uncorrected vs. EPIC SE\", \\\n",
    "                              ylabel_4 = \"D: Uncorrected vs. EPIC GE\", \\\n",
    "                              distance_name = \"rCBV-change\", \\\n",
    "                              labels_data = labels_data, \\\n",
    "                              labels_dims =  labels_dims, \\\n",
    "                              CBV_out_dir = CBV_out_dir, \\\n",
    "                              rendered_image_files_list = rendered_image_files_list_rcbv_change, \\\n",
    "                              region_values = region_values, \\\n",
    "                              region_names = region_names_clean, \\\n",
    "                              region_names_to_exclude = regions_excluded_clean, \\\n",
    "                              ascending1=True, \\\n",
    "                              ascending2=True, \\\n",
    "                              ascending3=True, \\\n",
    "                              ascending4=True, \\\n",
    "                              top=\"significant_top_10\", \\\n",
    "                              render_pngs=False, \\\n",
    "                              windowMin = 0, \\\n",
    "                              windowMax = windowMax*0.6, \\\n",
    "                              interpolation = \"nearest\", \\\n",
    "                              cmap = \"hot\", \\\n",
    "                              blur_3d = False, \\\n",
    "                              blur_3d_sigma = 1, \\\n",
    "                              method_comparison = False)"
   ]
  },
  {
   "cell_type": "code",
   "execution_count": 46,
   "metadata": {},
   "outputs": [],
   "source": [
    "#%run visualization.py\n",
    "\"\"\"\n",
    "With:\n",
    "ascending1=True\n",
    "ascending2=True\n",
    "ascending3=True\n",
    "ascending4=True\n",
    "windowMin = 1/windowMax\n",
    "windowMax = 1/windowMin*0.33\n",
    "\"\"\"\n",
    "windowMin = \\\n",
    "np.median(\\\n",
    "[raw_vs_topup_e1_relative_rcbv_change_df.median().min(), \\\n",
    " raw_vs_topup_e2_relative_rcbv_change_df.median().min(), \\\n",
    " raw_vs_epic_e1_relative_rcbv_change_df.median().min(), \\\n",
    " raw_vs_epic_e2_relative_rcbv_change_df.median().min()])\n",
    "\n",
    "\"\"\"\n",
    "With:\n",
    "ascending1=False\n",
    "ascending2=False\n",
    "ascending3=False\n",
    "ascending4=False\n",
    "windowMin = windowMin\n",
    "windowMax = windowMax*0.4\n",
    "\"\"\"\n",
    "windowMax = \\\n",
    "np.median(\\\n",
    "[raw_vs_topup_e1_relative_rcbv_change_df.median().max(), \\\n",
    " raw_vs_topup_e2_relative_rcbv_change_df.median().max(), \\\n",
    " raw_vs_epic_e1_relative_rcbv_change_df.median().max(), \\\n",
    " raw_vs_epic_e2_relative_rcbv_change_df.median().max()])\n",
    "rendered_image_files_list_rcbv_change = \\\n",
    "sorted_boxplot_figure_rcbv(df_1_rcbv = raw_vs_topup_e2_relative_rcbv_change_df, \\\n",
    "                                df_2_rcbv = raw_vs_topup_e1_relative_rcbv_change_df, \\\n",
    "                                df_3_rcbv = raw_vs_epic_e2_relative_rcbv_change_df, \\\n",
    "                                df_4_rcbv = raw_vs_epic_e1_relative_rcbv_change_df, \\\n",
    "                                   ser_1_pvalues = raw_vs_topup_e2_total_rcbv_change_p_values_series, \\\n",
    "                                   ser_2_pvalues = raw_vs_topup_e1_total_rcbv_change_p_values_series, \\\n",
    "                                   ser_3_pvalues = raw_vs_epic_e2_total_rcbv_change_p_values_series, \\\n",
    "                                   ser_4_pvalues = raw_vs_epic_e1_total_rcbv_change_p_values_series, \\\n",
    "                                   p_alpha = p_alpha, \\\n",
    "                              ylabel_1 = \"A: Uncorrected vs. TOPUP SE\", \\\n",
    "                              ylabel_2 = \"B: Uncorrected vs. TOPUP GE\", \\\n",
    "                              ylabel_3 = \"C: Uncorrected vs. EPIC SE\", \\\n",
    "                              ylabel_4 = \"D: Uncorrected vs. EPIC GE\", \\\n",
    "                              distance_name = \"rCBV-change\", \\\n",
    "                              labels_data = labels_data, \\\n",
    "                              labels_dims =  labels_dims, \\\n",
    "                              CBV_out_dir = CBV_out_dir, \\\n",
    "                              rendered_image_files_list = [], \\\n",
    "                              region_values = region_values, \\\n",
    "                              region_names = region_names_clean, \\\n",
    "                              region_names_to_exclude = regions_excluded_clean, \\\n",
    "                              ascending1=False, \\\n",
    "                              ascending2=False, \\\n",
    "                              ascending3=False, \\\n",
    "                              ascending4=False, \\\n",
    "                              top=\"significant_all\", \\\n",
    "                              render_pngs=True, \\\n",
    "                              windowMin = windowMin, \\\n",
    "                              windowMax = windowMax, \\\n",
    "                              interpolation = \"nearest\", \\\n",
    "                              cmap = \"hot\", \\\n",
    "                              blur_3d = False, \\\n",
    "                              blur_3d_sigma = 1, \\\n",
    "                              method_comparison = False)\n",
    "#\"\"\""
   ]
  },
  {
   "cell_type": "code",
   "execution_count": 47,
   "metadata": {},
   "outputs": [
    {
     "data": {
      "text/plain": [
       "'\\n%%bash -s \"$CBV_out_dir\"\\nCBV_out_dir=$1\\ncd $CBV_out_dir\\nls rCBV-change-*.png | xargs -I file convert file -fill \"rgb(173, 216, 230)\" -opaque black file\\n'"
      ]
     },
     "execution_count": 47,
     "metadata": {},
     "output_type": "execute_result"
    }
   ],
   "source": [
    "\"\"\"\n",
    "%%bash -s \"$CBV_out_dir\"\n",
    "CBV_out_dir=$1\n",
    "cd $CBV_out_dir\n",
    "ls rCBV-change-*.png | xargs -I file convert file -fill \"rgb(173, 216, 230)\" -opaque black file\n",
    "\"\"\""
   ]
  },
  {
   "cell_type": "code",
   "execution_count": 48,
   "metadata": {},
   "outputs": [],
   "source": [
    "#%run visualization.py\n",
    "rendered_image_files_list_rcbv_change = \\\n",
    "sorted_boxplot_figure_rcbv(df_1_rcbv = raw_vs_topup_e2_relative_rcbv_change_df, \\\n",
    "                                df_2_rcbv = raw_vs_topup_e1_relative_rcbv_change_df, \\\n",
    "                                df_3_rcbv = raw_vs_epic_e2_relative_rcbv_change_df, \\\n",
    "                                df_4_rcbv = raw_vs_epic_e1_relative_rcbv_change_df, \\\n",
    "                                   ser_1_pvalues = raw_vs_topup_e2_total_rcbv_change_p_values_series, \\\n",
    "                                   ser_2_pvalues = raw_vs_topup_e1_total_rcbv_change_p_values_series, \\\n",
    "                                   ser_3_pvalues = raw_vs_epic_e2_total_rcbv_change_p_values_series, \\\n",
    "                                   ser_4_pvalues = raw_vs_epic_e1_total_rcbv_change_p_values_series, \\\n",
    "                                   p_alpha = p_alpha, \\\n",
    "                              ylabel_1 = \"A: Uncorrected vs. TOPUP SE\", \\\n",
    "                              ylabel_2 = \"B: Uncorrected vs. TOPUP GE\", \\\n",
    "                              ylabel_3 = \"C: Uncorrected vs. EPIC SE\", \\\n",
    "                              ylabel_4 = \"D: Uncorrected vs. EPIC GE\", \\\n",
    "                              distance_name = \"rCBV-change\", \\\n",
    "                              labels_data = labels_data, \\\n",
    "                              labels_dims =  labels_dims, \\\n",
    "                              CBV_out_dir = CBV_out_dir, \\\n",
    "                              rendered_image_files_list = rendered_image_files_list_rcbv_change, \\\n",
    "                              region_values = region_values, \\\n",
    "                              region_names = region_names_clean, \\\n",
    "                              region_names_to_exclude = regions_excluded_clean, \\\n",
    "                              ascending1=False, \\\n",
    "                              ascending2=False, \\\n",
    "                              ascending3=False, \\\n",
    "                              ascending4=False, \\\n",
    "                              top=\"significant_top_10\", \\\n",
    "                              render_pngs=False, \\\n",
    "                              windowMin = 0, \\\n",
    "                              windowMax = windowMax*0.6, \\\n",
    "                              interpolation = \"nearest\", \\\n",
    "                              cmap = \"hot\", \\\n",
    "                              blur_3d = False, \\\n",
    "                              blur_3d_sigma = 1, \\\n",
    "                              method_comparison = False)"
   ]
  },
  {
   "cell_type": "markdown",
   "metadata": {},
   "source": [
    "7. a) 2. Calculate relative and total rCBV change between topup and epic corrected rCBV based on histograms"
   ]
  },
  {
   "cell_type": "code",
   "execution_count": 49,
   "metadata": {},
   "outputs": [],
   "source": [
    "#\"\"\"\n",
    "topup_vs_epic_e1_relative_rcbv_change_df = \\\n",
    "preprocess_and_calculate_all_histogram_relative_rcbv_changes(region_values,\\\n",
    "                                                 region_names_clean,\\\n",
    "                                                 hist_edges,\\\n",
    "                                                 topup_e1_CBV_region_histograms,\\\n",
    "                                                 epic_e1_CBV_region_histograms,\\\n",
    "                                                 two_tail_fraction)\n",
    "topup_vs_epic_e2_relative_rcbv_change_df = \\\n",
    "preprocess_and_calculate_all_histogram_relative_rcbv_changes(region_values,\\\n",
    "                                                 region_names_clean,\\\n",
    "                                                 hist_edges,\\\n",
    "                                                 topup_e2_CBV_region_histograms,\\\n",
    "                                                 epic_e2_CBV_region_histograms,\\\n",
    "                                                 two_tail_fraction)\n",
    "\n",
    "topup_vs_epic_e1_total_rcbv_change_df = \\\n",
    "preprocess_and_calculate_all_histogram_total_rcbv_changes(region_values,\\\n",
    "                                                 region_names_clean,\\\n",
    "                                                 hist_edges,\\\n",
    "                                                 topup_e1_CBV_region_histograms,\\\n",
    "                                                 epic_e1_CBV_region_histograms,\\\n",
    "                                                 two_tail_fraction)\n",
    "topup_vs_epic_e2_total_rcbv_change_df = \\\n",
    "preprocess_and_calculate_all_histogram_total_rcbv_changes(region_values,\\\n",
    "                                                 region_names_clean,\\\n",
    "                                                 hist_edges,\\\n",
    "                                                 topup_e2_CBV_region_histograms,\\\n",
    "                                                 epic_e2_CBV_region_histograms,\\\n",
    "                                                 two_tail_fraction)\n",
    "\n",
    "\n",
    "topup_vs_epic_e1_total_rcbv_change_p_values_series = \\\n",
    "wilcoxon_signed_rank_test(drop_regions_with_few_comparisons(topup_vs_epic_e1_total_rcbv_change_df, num_comparisons_below=10))\n",
    "\n",
    "topup_vs_epic_e2_total_rcbv_change_p_values_series = \\\n",
    "wilcoxon_signed_rank_test(drop_regions_with_few_comparisons(topup_vs_epic_e2_total_rcbv_change_df, num_comparisons_below=10))\n",
    "\n",
    "\n",
    "#\"\"\"\n",
    "\n",
    "#%run utils.py\n",
    "#\"\"\"\n",
    "#def wilcoxon_signed_rank_test(total_rCBV_change_df):\n",
    "    # https://docs.scipy.org/doc/scipy/reference/generated/scipy.stats.wilcoxon.html#r996422d5c98f-4\n",
    "#    def calculate_p(col):\n",
    "#        w, p = wilcoxon(col.dropna()) # Also removing nan\n",
    "#        return p\n",
    "#    return total_rCBV_change_df.apply(calculate_p, axis=0)\n",
    "\n",
    "\n",
    "#df = raw_vs_epic_e1_total_rcbv_change_df.drop(columns=raw_vs_epic_e1_total_rcbv_change_df.keys()[raw_vs_epic_e1_total_rcbv_change_df.notna().sum() < 10])\n",
    "\n",
    "#series = wilcoxon_signed_rank_test(df)\n",
    "#series.map(lambda r: r*100).map(lambda r: '%.3f' % r)\n",
    "#series[series > 0.05].index\n",
    "#series\n",
    "#\"\"\"\n",
    "#raw_e1_CBV_region_histograms\n",
    "#np.all(np.isnan(topup_e1_CBV_region_histograms))\n",
    "#raw_vs_epic_e1_total_rcbv_change_df.median()\n",
    "#df"
   ]
  },
  {
   "cell_type": "code",
   "execution_count": 50,
   "metadata": {},
   "outputs": [],
   "source": [
    "\n",
    "\"\"\"\n",
    "With:\n",
    "ascending=True\n",
    "windowMin = 1/windowMax\n",
    "windowMax = 1/windowMin\n",
    "\"\"\"\n",
    "windowMin = \\\n",
    "np.min(\\\n",
    "[topup_vs_epic_e1_relative_rcbv_change_df.min().min(), \\\n",
    " topup_vs_epic_e2_relative_rcbv_change_df.min().min()])\n",
    "\n",
    "\"\"\"\n",
    "With:\n",
    "ascending=False\n",
    "windowMin = windowMin\n",
    "windowMax = windowMax\n",
    "\"\"\"\n",
    "windowMax = \\\n",
    "np.max(\\\n",
    "[topup_vs_epic_e1_relative_rcbv_change_df.max().max(), \\\n",
    " topup_vs_epic_e2_relative_rcbv_change_df.max().max()])\n",
    "\n",
    "#1/windowMin*0.4\n",
    "#windowMax*0.4\n",
    "#windowMin\n",
    "#windowMax"
   ]
  },
  {
   "cell_type": "code",
   "execution_count": 51,
   "metadata": {},
   "outputs": [],
   "source": [
    "\"\"\"\n",
    "With:\n",
    "ascending=True\n",
    "windowMin = 1/windowMax\n",
    "windowMax = 1/windowMin\n",
    "\"\"\"\n",
    "windowMin = \\\n",
    "np.median(\\\n",
    "[topup_vs_epic_e1_relative_rcbv_change_df.median().min(), \\\n",
    " topup_vs_epic_e2_relative_rcbv_change_df.median().min()])\n",
    "\n",
    "\"\"\"\n",
    "With:\n",
    "ascending=False\n",
    "windowMin = windowMin\n",
    "windowMax = windowMax\n",
    "\"\"\"\n",
    "windowMax = \\\n",
    "np.median(\\\n",
    "[topup_vs_epic_e1_relative_rcbv_change_df.median().max(), \\\n",
    " topup_vs_epic_e2_relative_rcbv_change_df.median().max()])\n",
    "\n",
    "totmin = np.min([windowMin, 1/windowMax])\n",
    "totmax = np.max([windowMax, 1/windowMin])\n",
    "\n",
    "rendered_image_files_list_correction_method_comparison = \\\n",
    "sorted_boxplot_figure_rcbv(df_1_rcbv = topup_vs_epic_e2_relative_rcbv_change_df, \\\n",
    "                              df_2_rcbv = topup_vs_epic_e1_relative_rcbv_change_df, \\\n",
    "                              df_3_rcbv = topup_vs_epic_e2_relative_rcbv_change_df, \\\n",
    "                              df_4_rcbv = topup_vs_epic_e1_relative_rcbv_change_df, \\\n",
    "                                   ser_1_pvalues = topup_vs_epic_e2_total_rcbv_change_p_values_series, \\\n",
    "                                   ser_2_pvalues = topup_vs_epic_e1_total_rcbv_change_p_values_series, \\\n",
    "                                   ser_3_pvalues = topup_vs_epic_e2_total_rcbv_change_p_values_series, \\\n",
    "                                   ser_4_pvalues = topup_vs_epic_e1_total_rcbv_change_p_values_series, \\\n",
    "                                   p_alpha = p_alpha, \\\n",
    "                              ylabel_1 = \"A: TOPUP. vs. EPIC SE\", \\\n",
    "                              ylabel_2 = \"B: TOPUP. vs. EPIC GE\", \\\n",
    "                              ylabel_3 = \"C: TOPUP. vs. EPIC SE\", \\\n",
    "                              ylabel_4 = \"D: TOPUP. vs. EPIC GE\", \\\n",
    "                              distance_name = \"rCBV-change\", \\\n",
    "                              labels_data = labels_data, \\\n",
    "                              labels_dims =  labels_dims, \\\n",
    "                              CBV_out_dir = CBV_out_dir, \\\n",
    "                              rendered_image_files_list = [], \\\n",
    "                              region_values = region_values, \\\n",
    "                              region_names = region_names_clean, \\\n",
    "                              region_names_to_exclude = regions_excluded_clean, \\\n",
    "                              ascending1=False, \\\n",
    "                              ascending2=False, \\\n",
    "                              ascending3=True, \\\n",
    "                              ascending4=True, \\\n",
    "                              top=\"significant_all\", \\\n",
    "                              render_pngs=True, \\\n",
    "                              windowMin = totmin, \\\n",
    "                              windowMax = totmax, \\\n",
    "                              interpolation = \"nearest\", \\\n",
    "                              cmap = \"hot\", \\\n",
    "                              blur_3d = False, \\\n",
    "                              blur_3d_sigma = 1, \\\n",
    "                              method_comparison = True)"
   ]
  },
  {
   "cell_type": "code",
   "execution_count": 52,
   "metadata": {},
   "outputs": [
    {
     "data": {
      "text/plain": [
       "'\\n%%bash -s \"$CBV_out_dir\"\\nCBV_out_dir=$1\\ncd $CBV_out_dir\\nls rCBV-change-*.png | xargs -I file convert file -fill \"rgb(173, 216, 230)\" -opaque black file\\n'"
      ]
     },
     "execution_count": 52,
     "metadata": {},
     "output_type": "execute_result"
    }
   ],
   "source": [
    "\"\"\"\n",
    "%%bash -s \"$CBV_out_dir\"\n",
    "CBV_out_dir=$1\n",
    "cd $CBV_out_dir\n",
    "ls rCBV-change-*.png | xargs -I file convert file -fill \"rgb(173, 216, 230)\" -opaque black file\n",
    "\"\"\""
   ]
  },
  {
   "cell_type": "code",
   "execution_count": 53,
   "metadata": {},
   "outputs": [],
   "source": [
    "\n",
    "rendered_image_files_list_correction_method_comparison = \\\n",
    "sorted_boxplot_figure_rcbv(df_1_rcbv = topup_vs_epic_e2_relative_rcbv_change_df, \\\n",
    "                              df_2_rcbv = topup_vs_epic_e1_relative_rcbv_change_df, \\\n",
    "                              df_3_rcbv = topup_vs_epic_e2_relative_rcbv_change_df, \\\n",
    "                              df_4_rcbv = topup_vs_epic_e1_relative_rcbv_change_df, \\\n",
    "                                   ser_1_pvalues = topup_vs_epic_e2_total_rcbv_change_p_values_series, \\\n",
    "                                   ser_2_pvalues = topup_vs_epic_e1_total_rcbv_change_p_values_series, \\\n",
    "                                   ser_3_pvalues = topup_vs_epic_e2_total_rcbv_change_p_values_series, \\\n",
    "                                   ser_4_pvalues = topup_vs_epic_e1_total_rcbv_change_p_values_series, \\\n",
    "                                   p_alpha = p_alpha, \\\n",
    "                              ylabel_1 = \"A: TOPUP. vs. EPIC SE\", \\\n",
    "                              ylabel_2 = \"B: TOPUP. vs. EPIC GE\", \\\n",
    "                              ylabel_3 = \"C: TOPUP. vs. EPIC SE\", \\\n",
    "                              ylabel_4 = \"D: TOPUP. vs. EPIC GE\", \\\n",
    "                              distance_name = \"rCBV-change\", \\\n",
    "                              labels_data = labels_data, \\\n",
    "                              labels_dims =  labels_dims, \\\n",
    "                              CBV_out_dir = CBV_out_dir, \\\n",
    "                              rendered_image_files_list = rendered_image_files_list_correction_method_comparison, \\\n",
    "                              region_values = region_values, \\\n",
    "                              region_names = region_names_clean, \\\n",
    "                              region_names_to_exclude = regions_excluded_clean, \\\n",
    "                              ascending1=False, \\\n",
    "                              ascending2=False, \\\n",
    "                              ascending3=True, \\\n",
    "                              ascending4=True, \\\n",
    "                              top=\"significant_top_10\", \\\n",
    "                              render_pngs=False, \\\n",
    "                              interpolation = \"nearest\", \\\n",
    "                              cmap = \"hot\", \\\n",
    "                              blur_3d = False, \\\n",
    "                              blur_3d_sigma = 1, \\\n",
    "                              method_comparison = True)"
   ]
  },
  {
   "cell_type": "code",
   "execution_count": 54,
   "metadata": {},
   "outputs": [],
   "source": [
    "#df = drop_regions_with_few_comparisons(topup_vs_epic_e2_relative_rcbv_change_df, num_comparisons_below=10)\n",
    "\n",
    "#num_tests = df.notna().sum()\n",
    "\n",
    "#num_tests = drop_regions_with_few_comparisons(topup_vs_epic_e2_relative_rcbv_change_df, num_comparisons_below=10).notna().sum()\n",
    "\n",
    "#df[df.keys() < 0.05/alpha_values]\n",
    "\n",
    "#num_tests\n",
    "\n",
    "#num_tests[df.keys()[0]]\n",
    "\n",
    "#df[[region_value_object for region_value_object in df.keys() if p_value[region_value_object] < p_alpha/num_tests[region_value_object]]\n",
    "\n",
    "#%run visualization.py"
   ]
  },
  {
   "cell_type": "markdown",
   "metadata": {},
   "source": [
    "7. b) Hellinger distance between region histograms of Uncorrected and TOPUP corrected rCBVs and Uncorrected and EPIC corrected rCBVs"
   ]
  },
  {
   "cell_type": "code",
   "execution_count": 55,
   "metadata": {},
   "outputs": [],
   "source": [
    "#\"\"\"\n",
    "raw_vs_topup_e1_hellinger_df = \\\n",
    "preprocess_and_calculate_all_histogram_distances(region_values,\\\n",
    "                                                 region_names_clean,\\\n",
    "                                                 hist_edges,\\\n",
    "                                                 raw_e1_CBV_region_histograms,\\\n",
    "                                                 topup_e1_CBV_region_histograms,\\\n",
    "                                                 two_tail_fraction,\\\n",
    "                                                 comparison_method=\"hellinger\")\n",
    "raw_vs_topup_e2_hellinger_df = \\\n",
    "preprocess_and_calculate_all_histogram_distances(region_values,\\\n",
    "                                                 region_names_clean,\\\n",
    "                                                 hist_edges,\\\n",
    "                                                 raw_e2_CBV_region_histograms,\\\n",
    "                                                 topup_e2_CBV_region_histograms,\\\n",
    "                                                 two_tail_fraction,\\\n",
    "                                                 comparison_method=\"hellinger\")\n",
    "raw_vs_epic_e1_hellinger_df = \\\n",
    "preprocess_and_calculate_all_histogram_distances(region_values,\\\n",
    "                                                 region_names_clean,\\\n",
    "                                                 hist_edges,\\\n",
    "                                                 raw_e1_CBV_region_histograms,\\\n",
    "                                                 epic_e1_CBV_region_histograms,\\\n",
    "                                                 two_tail_fraction,\\\n",
    "                                                 comparison_method=\"hellinger\")\n",
    "raw_vs_epic_e2_hellinger_df = \\\n",
    "preprocess_and_calculate_all_histogram_distances(region_values,\\\n",
    "                                                 region_names_clean,\\\n",
    "                                                 hist_edges,\\\n",
    "                                                 raw_e2_CBV_region_histograms,\\\n",
    "                                                 epic_e2_CBV_region_histograms,\\\n",
    "                                                 two_tail_fraction,\\\n",
    "                                                 comparison_method=\"hellinger\")\n",
    "#\"\"\""
   ]
  },
  {
   "cell_type": "code",
   "execution_count": 56,
   "metadata": {},
   "outputs": [
    {
     "data": {
      "text/plain": [
       "0.37140415974198354"
      ]
     },
     "execution_count": 56,
     "metadata": {},
     "output_type": "execute_result"
    }
   ],
   "source": [
    "windowMax = \\\n",
    "np.max(\\\n",
    "[raw_vs_topup_e1_hellinger_df.max().max(), \\\n",
    " raw_vs_topup_e2_hellinger_df.max().max(), \\\n",
    " raw_vs_epic_e1_hellinger_df.max().max(), \\\n",
    " raw_vs_epic_e2_hellinger_df.max().max()])\n",
    "windowMax*0.5"
   ]
  },
  {
   "cell_type": "code",
   "execution_count": 57,
   "metadata": {},
   "outputs": [],
   "source": [
    "windowMax = \\\n",
    "np.max(\\\n",
    "[raw_vs_topup_e1_hellinger_df.max().max(), \\\n",
    " raw_vs_topup_e2_hellinger_df.max().max(), \\\n",
    " raw_vs_epic_e1_hellinger_df.max().max(), \\\n",
    " raw_vs_epic_e2_hellinger_df.max().max()])\n",
    "rendered_image_files_list_hellinger = \\\n",
    "sorted_boxplot_figure_distances(df_1 = raw_vs_topup_e2_hellinger_df, \\\n",
    "                                df_1_rcbv = raw_vs_topup_e2_relative_rcbv_change_df, \\\n",
    "                                df_2 = raw_vs_topup_e1_hellinger_df, \\\n",
    "                                df_2_rcbv = raw_vs_topup_e1_relative_rcbv_change_df, \\\n",
    "                                df_3 = raw_vs_epic_e2_hellinger_df, \\\n",
    "                                df_3_rcbv = raw_vs_epic_e2_relative_rcbv_change_df, \\\n",
    "                                df_4 = raw_vs_epic_e1_hellinger_df, \\\n",
    "                                df_4_rcbv = raw_vs_epic_e1_relative_rcbv_change_df, \\\n",
    "                              ylabel_1 = \"A: Uncorrected vs. TOPUP SE\", \\\n",
    "                              ylabel_2 = \"B: Uncorrected vs. TOPUP GE\", \\\n",
    "                              ylabel_3 = \"C: Uncorrected vs. EPIC SE\", \\\n",
    "                              ylabel_4 = \"D: Uncorrected vs. EPIC GE\", \\\n",
    "                              distance_name = \"Hellinger\", \\\n",
    "                              labels_data = labels_data, \\\n",
    "                              labels_dims =  labels_dims, \\\n",
    "                              CBV_out_dir = CBV_out_dir, \\\n",
    "                              rendered_image_files_list = [], \\\n",
    "                              region_values = region_values, \\\n",
    "                              region_names = region_names_clean, \\\n",
    "                              region_names_to_exclude = regions_excluded_clean, \\\n",
    "                              top=\"all\", \\\n",
    "                              render_pngs=True, \\\n",
    "                              windowMin = 0, \\\n",
    "                              windowMax = windowMax*0.5, \\\n",
    "                              interpolation = \"nearest\", \\\n",
    "                              cmap = \"hot\", \\\n",
    "                              blur_3d = False, \\\n",
    "                              blur_3d_sigma = 1, \\\n",
    "                              method_comparison = False)\n",
    "#\"\"\""
   ]
  },
  {
   "cell_type": "markdown",
   "metadata": {},
   "source": [
    "Convert the black background to white using\n",
    "\n",
    "ls *.png | xargs -I file convert file -fill \"rgb(173, 216, 230)\" -opaque black file"
   ]
  },
  {
   "cell_type": "code",
   "execution_count": 58,
   "metadata": {},
   "outputs": [
    {
     "data": {
      "text/plain": [
       "'\\n%%bash -s \"$CBV_out_dir\"\\nCBV_out_dir=$1\\ncd $CBV_out_dir\\nls Hellinger-*.png | xargs -I file convert file -fill \"rgb(173, 216, 230)\" -opaque black file\\n'"
      ]
     },
     "execution_count": 58,
     "metadata": {},
     "output_type": "execute_result"
    }
   ],
   "source": [
    "\"\"\"\n",
    "%%bash -s \"$CBV_out_dir\"\n",
    "CBV_out_dir=$1\n",
    "cd $CBV_out_dir\n",
    "ls Hellinger-*.png | xargs -I file convert file -fill \"rgb(173, 216, 230)\" -opaque black file\n",
    "\"\"\""
   ]
  },
  {
   "cell_type": "code",
   "execution_count": 59,
   "metadata": {},
   "outputs": [],
   "source": [
    "#%run visualization.py\n",
    "windowMax = \\\n",
    "np.max(\\\n",
    "[raw_vs_topup_e1_hellinger_df.max().max(), \\\n",
    " raw_vs_topup_e2_hellinger_df.max().max(), \\\n",
    " raw_vs_epic_e1_hellinger_df.max().max(), \\\n",
    " raw_vs_epic_e2_hellinger_df.max().max()])\n",
    "rendered_image_files_list_hellinger = \\\n",
    "sorted_boxplot_figure_distances(df_1 = raw_vs_topup_e2_hellinger_df, \\\n",
    "                                df_1_rcbv = raw_vs_topup_e2_relative_rcbv_change_df, \\\n",
    "                                df_2 = raw_vs_topup_e1_hellinger_df, \\\n",
    "                                df_2_rcbv = raw_vs_topup_e1_relative_rcbv_change_df, \\\n",
    "                                df_3 = raw_vs_epic_e2_hellinger_df, \\\n",
    "                                df_3_rcbv = raw_vs_epic_e2_relative_rcbv_change_df, \\\n",
    "                                df_4 = raw_vs_epic_e1_hellinger_df, \\\n",
    "                                df_4_rcbv = raw_vs_epic_e1_relative_rcbv_change_df, \\\n",
    "                              ylabel_1 = \"A: Uncorrected vs. TOPUP SE\", \\\n",
    "                              ylabel_2 = \"B: Uncorrected vs. TOPUP GE\", \\\n",
    "                              ylabel_3 = \"C: Uncorrected vs. EPIC SE\", \\\n",
    "                              ylabel_4 = \"D: Uncorrected vs. EPIC GE\", \\\n",
    "                              distance_name = \"Hellinger\", \\\n",
    "                              labels_data = labels_data, \\\n",
    "                              labels_dims =  labels_dims, \\\n",
    "                              CBV_out_dir = CBV_out_dir, \\\n",
    "                              rendered_image_files_list = rendered_image_files_list_hellinger, \\\n",
    "                              region_values = region_values, \\\n",
    "                              region_names = region_names_clean, \\\n",
    "                              region_names_to_exclude = regions_excluded_clean, \\\n",
    "                              top=10, \\\n",
    "                              render_pngs=False, \\\n",
    "                              windowMin = 0, \\\n",
    "                              windowMax = windowMax*0.6, \\\n",
    "                              interpolation = \"nearest\", \\\n",
    "                              cmap = \"hot\", \\\n",
    "                              blur_3d = False, \\\n",
    "                              blur_3d_sigma = 1, \\\n",
    "                              method_comparison = False)"
   ]
  },
  {
   "cell_type": "code",
   "execution_count": 60,
   "metadata": {},
   "outputs": [
    {
     "data": {
      "text/plain": [
       "'\\nraw_vs_topup_e1_hellinger_medians_df\\nraw_vs_epic_e1_hellinger_medians_df\\nraw_vs_topup_e2_hellinger_medians_df\\nraw_vs_epic_e2_hellinger_medians_df\\n'"
      ]
     },
     "execution_count": 60,
     "metadata": {},
     "output_type": "execute_result"
    }
   ],
   "source": [
    "\"\"\"\n",
    "raw_vs_topup_e1_hellinger_medians_df\n",
    "raw_vs_epic_e1_hellinger_medians_df\n",
    "raw_vs_topup_e2_hellinger_medians_df\n",
    "raw_vs_epic_e2_hellinger_medians_df\n",
    "\"\"\"\n",
    "#raw_vs_epic_e2_hellinger_medians_df.index\n",
    "#visualize_regions(raw_vs_topup_e1_hellinger_medians_df, labels_data, labels_dims)\n",
    "#visualize_regions(raw_vs_epic_e1_hellinger_medians_df, labels_data, labels_dims)\n",
    "#visualize_regions(raw_vs_topup_e2_hellinger_medians_df, labels_data, labels_dims)\n",
    "#visualize_regions(raw_vs_epic_e2_hellinger_medians_df, labels_data, labels_dims)"
   ]
  },
  {
   "cell_type": "markdown",
   "metadata": {},
   "source": [
    "7. c) Wasserstein distance between region histograms of Uncorrected and TOPUP corrected rCBVs and Uncorrected and EPIC corrected rCBVs"
   ]
  },
  {
   "cell_type": "code",
   "execution_count": 61,
   "metadata": {},
   "outputs": [],
   "source": [
    "#\"\"\"\n",
    "raw_vs_topup_e1_wasserstein_df = \\\n",
    "preprocess_and_calculate_all_histogram_distances(region_values,\\\n",
    "                                                 region_names_clean,\\\n",
    "                                                 hist_edges,\\\n",
    "                                                 raw_e1_CBV_region_histograms,\\\n",
    "                                                 topup_e1_CBV_region_histograms,\\\n",
    "                                                 two_tail_fraction,\\\n",
    "                                                 comparison_method=\"wasserstein\")\n",
    "raw_vs_topup_e2_wasserstein_df = \\\n",
    "preprocess_and_calculate_all_histogram_distances(region_values,\\\n",
    "                                                 region_names_clean,\\\n",
    "                                                 hist_edges,\\\n",
    "                                                 raw_e2_CBV_region_histograms,\\\n",
    "                                                 topup_e2_CBV_region_histograms,\\\n",
    "                                                 two_tail_fraction,\\\n",
    "                                                 comparison_method=\"wasserstein\")\n",
    "raw_vs_epic_e1_wasserstein_df = \\\n",
    "preprocess_and_calculate_all_histogram_distances(region_values,\\\n",
    "                                                 region_names_clean,\\\n",
    "                                                 hist_edges,\\\n",
    "                                                 raw_e1_CBV_region_histograms,\\\n",
    "                                                 epic_e1_CBV_region_histograms,\\\n",
    "                                                 two_tail_fraction,\\\n",
    "                                                 comparison_method=\"wasserstein\")\n",
    "raw_vs_epic_e2_wasserstein_df = \\\n",
    "preprocess_and_calculate_all_histogram_distances(region_values,\\\n",
    "                                                 region_names_clean,\\\n",
    "                                                 hist_edges,\\\n",
    "                                                 raw_e2_CBV_region_histograms,\\\n",
    "                                                 epic_e2_CBV_region_histograms,\\\n",
    "                                                 two_tail_fraction,\\\n",
    "                                                 comparison_method=\"wasserstein\")\n",
    "#\"\"\""
   ]
  },
  {
   "cell_type": "code",
   "execution_count": 62,
   "metadata": {},
   "outputs": [
    {
     "data": {
      "text/plain": [
       "0.003952871344533062"
      ]
     },
     "execution_count": 62,
     "metadata": {},
     "output_type": "execute_result"
    }
   ],
   "source": [
    "windowMax = \\\n",
    "np.max(\\\n",
    "[raw_vs_topup_e1_wasserstein_df.max().max(), \\\n",
    " raw_vs_topup_e2_wasserstein_df.max().max(), \\\n",
    " raw_vs_epic_e1_wasserstein_df.max().max(), \\\n",
    " raw_vs_epic_e2_wasserstein_df.max().max()])\n",
    "windowMax*0.25"
   ]
  },
  {
   "cell_type": "code",
   "execution_count": 63,
   "metadata": {},
   "outputs": [],
   "source": [
    "windowMax = \\\n",
    "np.max(\\\n",
    "[raw_vs_topup_e1_wasserstein_df.max().max(), \\\n",
    " raw_vs_topup_e2_wasserstein_df.max().max(), \\\n",
    " raw_vs_epic_e1_wasserstein_df.max().max(), \\\n",
    " raw_vs_epic_e2_wasserstein_df.max().max()])\n",
    "rendered_image_files_list_wasserstein = \\\n",
    "sorted_boxplot_figure_distances(df_1 = raw_vs_topup_e2_wasserstein_df, \\\n",
    "                                        df_1_rcbv = raw_vs_topup_e2_relative_rcbv_change_df, \\\n",
    "                                        df_2 = raw_vs_topup_e1_wasserstein_df, \\\n",
    "                                        df_2_rcbv = raw_vs_topup_e1_relative_rcbv_change_df, \\\n",
    "                                        df_3 = raw_vs_epic_e2_wasserstein_df, \n",
    "                                        df_3_rcbv = raw_vs_epic_e2_relative_rcbv_change_df, \\\n",
    "                                        df_4 = raw_vs_epic_e1_wasserstein_df, \\\n",
    "                                        df_4_rcbv = raw_vs_epic_e1_relative_rcbv_change_df, \\\n",
    "                              ylabel_1 = \"A: Uncorrected vs. TOPUP SE\", \\\n",
    "                              ylabel_2 = \"B: Uncorrected vs. TOPUP GE\", \\\n",
    "                              ylabel_3 = \"C: Uncorrected vs. EPIC SE\", \\\n",
    "                              ylabel_4 = \"D: Uncorrected vs. EPIC GE\", \\\n",
    "                              distance_name = \"Wasserstein\", \\\n",
    "                              labels_data = labels_data, \\\n",
    "                              labels_dims =  labels_dims, \\\n",
    "                              CBV_out_dir = CBV_out_dir, \\\n",
    "                              rendered_image_files_list = [], \\\n",
    "                              region_values = region_values, \\\n",
    "                              region_names = region_names_clean, \\\n",
    "                              region_names_to_exclude = regions_excluded_clean, \\\n",
    "                              top=\"all\", \\\n",
    "                              render_pngs=True, \\\n",
    "                              windowMin = 0, \\\n",
    "                              windowMax = windowMax*0.25, \\\n",
    "                              interpolation = \"nearest\", \\\n",
    "                              cmap = \"hot\", \\\n",
    "                              blur_3d = False, \\\n",
    "                              blur_3d_sigma = 1, \\\n",
    "                              method_comparison = False)\n"
   ]
  },
  {
   "cell_type": "code",
   "execution_count": 64,
   "metadata": {},
   "outputs": [
    {
     "data": {
      "text/plain": [
       "'\\n%%bash -s \"$CBV_out_dir\"\\nCBV_out_dir=$1\\ncd $CBV_out_dir\\nls Wasserstein-*.png | xargs -I file convert file -fill \"rgb(173, 216, 230)\" -opaque black file\\n'"
      ]
     },
     "execution_count": 64,
     "metadata": {},
     "output_type": "execute_result"
    }
   ],
   "source": [
    "\"\"\"\n",
    "%%bash -s \"$CBV_out_dir\"\n",
    "CBV_out_dir=$1\n",
    "cd $CBV_out_dir\n",
    "ls Wasserstein-*.png | xargs -I file convert file -fill \"rgb(173, 216, 230)\" -opaque black file\n",
    "\"\"\""
   ]
  },
  {
   "cell_type": "code",
   "execution_count": 65,
   "metadata": {},
   "outputs": [],
   "source": [
    "#%run visualization.py\n",
    "windowMax = \\\n",
    "np.max(\\\n",
    "[raw_vs_topup_e1_wasserstein_df.max().max(), \\\n",
    " raw_vs_topup_e2_wasserstein_df.max().max(), \\\n",
    " raw_vs_epic_e1_wasserstein_df.max().max(), \\\n",
    " raw_vs_epic_e2_wasserstein_df.max().max()])\n",
    "rendered_image_files_list_wasserstein = \\\n",
    "sorted_boxplot_figure_distances(df_1 = raw_vs_topup_e2_wasserstein_df, \\\n",
    "                                        df_1_rcbv = raw_vs_topup_e2_relative_rcbv_change_df, \\\n",
    "                                        df_2 = raw_vs_topup_e1_wasserstein_df, \\\n",
    "                                        df_2_rcbv = raw_vs_topup_e1_relative_rcbv_change_df, \\\n",
    "                                        df_3 = raw_vs_epic_e2_wasserstein_df, \n",
    "                                        df_3_rcbv = raw_vs_epic_e2_relative_rcbv_change_df, \\\n",
    "                                        df_4 = raw_vs_epic_e1_wasserstein_df, \\\n",
    "                                        df_4_rcbv = raw_vs_epic_e1_relative_rcbv_change_df, \\\n",
    "                              ylabel_1 = \"A: Uncorrected vs. TOPUP SE\", \\\n",
    "                              ylabel_2 = \"B: Uncorrected vs. TOPUP GE\", \\\n",
    "                              ylabel_3 = \"C: Uncorrected vs. EPIC SE\", \\\n",
    "                              ylabel_4 = \"D: Uncorrected vs. EPIC GE\", \\\n",
    "                              distance_name = \"Wasserstein\", \\\n",
    "                              labels_data = labels_data, \\\n",
    "                              labels_dims =  labels_dims, \\\n",
    "                              CBV_out_dir = CBV_out_dir, \\\n",
    "                              rendered_image_files_list = rendered_image_files_list_wasserstein, \\\n",
    "                              region_values = region_values, \\\n",
    "                              region_names = region_names_clean, \\\n",
    "                              region_names_to_exclude = regions_excluded_clean, \\\n",
    "                              top=10, \\\n",
    "                              render_pngs=False, \\\n",
    "                              windowMin = 0, \\\n",
    "                              windowMax = windowMax*0.3, \\\n",
    "                              interpolation = \"nearest\", \\\n",
    "                              cmap = \"hot\", \\\n",
    "                              blur_3d = False, \\\n",
    "                              blur_3d_sigma = 1, \\\n",
    "                              method_comparison = False)"
   ]
  },
  {
   "cell_type": "code",
   "execution_count": 66,
   "metadata": {},
   "outputs": [
    {
     "data": {
      "text/plain": [
       "' Older figure without pngs\\ntop=20\\nfig = plt.figure(figsize=np.array([6.4*0.6*2, 4.8*0.6*3]))\\nax1 = fig.add_subplot(4, 1, 1)\\nraw_vs_topup_e1_wasserstein_medians_df = sorted_boxplot_histogram_distances(raw_vs_topup_e1_wasserstein_df,                                    ax1,                                    ylabel2=\"Uncorr. vs. TOPUP GE\",                                    ylabel=\"Wasserstein distance\",                                    title=\"Number of observations\",                                    xlabel=\"\", \\n                                   top=top)\\n\\nax2 = fig.add_subplot(4, 1, 2, sharey=ax1)\\nraw_vs_epic_e1_wasserstein_medians_df = sorted_boxplot_histogram_distances(raw_vs_epic_e1_wasserstein_df,                                    ax2,                                    ylabel2=\"Uncorr. vs. EPIC GE\",                                    ylabel=\"Wasserstein distance\",                                    title=\"\",                                    xlabel=\"\",                                    top=top)\\n\\nax3 = fig.add_subplot(4, 1, 3, sharey=ax1)\\nraw_vs_topup_e2_wasserstein_medians_df = sorted_boxplot_histogram_distances(raw_vs_topup_e2_wasserstein_df,                                    ax3,                                    ylabel2=\"Uncorr. vs. TOPUP SE\",                                    ylabel=\"Wasserstein distance\",                                    title=\"\",                                    xlabel=\"\",                                    top=top)\\n\\nax4 = fig.add_subplot(4, 1, 4, sharey=ax1)\\nraw_vs_epic_e2_wasserstein_medians_df = sorted_boxplot_histogram_distances(raw_vs_epic_e2_wasserstein_df,                                    ax4,                                    ylabel2=\"Uncorr. vs. EPIC SE\",                                    ylabel=\"Wasserstein distance\",                                    title=\"\",                                    xlabel=\"Neuromorphometrics Inc. region value\",                                    top=top)\\nplt.suptitle(\"Top \" + str(top) + \" histogram differences sorted after median\")\\nplt.subplots_adjust(hspace=0.5)\\n'"
      ]
     },
     "execution_count": 66,
     "metadata": {},
     "output_type": "execute_result"
    }
   ],
   "source": [
    "\"\"\" Older figure without pngs\n",
    "top=20\n",
    "fig = plt.figure(figsize=np.array([6.4*0.6*2, 4.8*0.6*3]))\n",
    "ax1 = fig.add_subplot(4, 1, 1)\n",
    "raw_vs_topup_e1_wasserstein_medians_df = sorted_boxplot_histogram_distances(raw_vs_topup_e1_wasserstein_df, \\\n",
    "                                   ax1, \\\n",
    "                                   ylabel2=\"Uncorr. vs. TOPUP GE\", \\\n",
    "                                   ylabel=\"Wasserstein distance\", \\\n",
    "                                   title=\"Number of observations\", \\\n",
    "                                   xlabel=\"\", \n",
    "                                   top=top)\n",
    "\n",
    "ax2 = fig.add_subplot(4, 1, 2, sharey=ax1)\n",
    "raw_vs_epic_e1_wasserstein_medians_df = sorted_boxplot_histogram_distances(raw_vs_epic_e1_wasserstein_df, \\\n",
    "                                   ax2, \\\n",
    "                                   ylabel2=\"Uncorr. vs. EPIC GE\", \\\n",
    "                                   ylabel=\"Wasserstein distance\", \\\n",
    "                                   title=\"\", \\\n",
    "                                   xlabel=\"\", \\\n",
    "                                   top=top)\n",
    "\n",
    "ax3 = fig.add_subplot(4, 1, 3, sharey=ax1)\n",
    "raw_vs_topup_e2_wasserstein_medians_df = sorted_boxplot_histogram_distances(raw_vs_topup_e2_wasserstein_df, \\\n",
    "                                   ax3, \\\n",
    "                                   ylabel2=\"Uncorr. vs. TOPUP SE\", \\\n",
    "                                   ylabel=\"Wasserstein distance\", \\\n",
    "                                   title=\"\", \\\n",
    "                                   xlabel=\"\", \\\n",
    "                                   top=top)\n",
    "\n",
    "ax4 = fig.add_subplot(4, 1, 4, sharey=ax1)\n",
    "raw_vs_epic_e2_wasserstein_medians_df = sorted_boxplot_histogram_distances(raw_vs_epic_e2_wasserstein_df, \\\n",
    "                                   ax4, \\\n",
    "                                   ylabel2=\"Uncorr. vs. EPIC SE\", \\\n",
    "                                   ylabel=\"Wasserstein distance\", \\\n",
    "                                   title=\"\", \\\n",
    "                                   xlabel=\"Neuromorphometrics Inc. region value\", \\\n",
    "                                   top=top)\n",
    "plt.suptitle(\"Top \" + str(top) + \" histogram differences sorted after median\")\n",
    "plt.subplots_adjust(hspace=0.5)\n",
    "\"\"\""
   ]
  },
  {
   "cell_type": "code",
   "execution_count": 67,
   "metadata": {},
   "outputs": [],
   "source": [
    "#visualize_regions(raw_vs_topup_e1_wasserstein_medians_df, labels_data, labels_dims)\n",
    "#visualize_regions(raw_vs_epic_e1_wasserstein_medians_df, labels_data, labels_dims)\n",
    "#visualize_regions(raw_vs_topup_e2_wasserstein_medians_df, labels_data, labels_dims)\n",
    "#visualize_regions(raw_vs_epic_e2_wasserstein_medians_df, labels_data, labels_dims)"
   ]
  },
  {
   "cell_type": "markdown",
   "metadata": {},
   "source": [
    "7. d) Hellinger and Wasserstein distance between region histograms of TOPUP and EPIC corrected rCBV"
   ]
  },
  {
   "cell_type": "markdown",
   "metadata": {},
   "source": [
    "A measure of the difference between TOPUP and EPIC on rCBV"
   ]
  },
  {
   "cell_type": "code",
   "execution_count": 68,
   "metadata": {},
   "outputs": [],
   "source": [
    "#\"\"\"\n",
    "topup_vs_epic_e1_hellinger_df = \\\n",
    "preprocess_and_calculate_all_histogram_distances(region_values,\\\n",
    "                                                 region_names_clean,\\\n",
    "                                                 hist_edges,\\\n",
    "                                                 topup_e1_CBV_region_histograms,\\\n",
    "                                                 epic_e1_CBV_region_histograms,\\\n",
    "                                                 two_tail_fraction,\\\n",
    "                                                 comparison_method=\"hellinger\")\n",
    "topup_vs_epic_e2_hellinger_df = \\\n",
    "preprocess_and_calculate_all_histogram_distances(region_values,\\\n",
    "                                                 region_names_clean,\\\n",
    "                                                 hist_edges,\\\n",
    "                                                 topup_e2_CBV_region_histograms,\\\n",
    "                                                 epic_e2_CBV_region_histograms,\\\n",
    "                                                 two_tail_fraction,\\\n",
    "                                                 comparison_method=\"hellinger\")\n",
    "topup_vs_epic_e1_wasserstein_df = \\\n",
    "preprocess_and_calculate_all_histogram_distances(region_values,\\\n",
    "                                                 region_names_clean,\\\n",
    "                                                 hist_edges,\\\n",
    "                                                 topup_e1_CBV_region_histograms,\\\n",
    "                                                 epic_e1_CBV_region_histograms,\\\n",
    "                                                 two_tail_fraction,\\\n",
    "                                                 comparison_method=\"wasserstein\")\n",
    "topup_vs_epic_e2_wasserstein_df = \\\n",
    "preprocess_and_calculate_all_histogram_distances(region_values,\\\n",
    "                                                 region_names_clean,\\\n",
    "                                                 hist_edges,\\\n",
    "                                                 topup_e2_CBV_region_histograms,\\\n",
    "                                                 epic_e2_CBV_region_histograms,\\\n",
    "                                                 two_tail_fraction,\\\n",
    "                                                 comparison_method=\"wasserstein\")\n",
    "#\"\"\""
   ]
  },
  {
   "cell_type": "code",
   "execution_count": 69,
   "metadata": {},
   "outputs": [
    {
     "data": {
      "text/plain": [
       "' Older figure\\ntop=20\\nfig = plt.figure(figsize=np.array([6.4*0.6*2, 4.8*0.6*3]))\\nax1 = fig.add_subplot(4, 1, 1)\\ntopup_vs_epic_e1_hellinger_medians_df = sorted_boxplot_histogram_distances(topup_vs_epic_e1_hellinger_df,                                    ax1,                                    ylabel2=\"TOPUP vs. EPIC GE\",                                    ylabel=\"Hellinger distance\",                                    title=\"Number of observations\",                                    xlabel=\"\", \\n                                   top=top)\\n\\nax2 = fig.add_subplot(4, 1, 2)\\ntopup_vs_epic_e1_wasserstein_medians_df = sorted_boxplot_histogram_distances(topup_vs_epic_e1_wasserstein_df,                                    ax2,                                    ylabel2=\"TOPUP vs. EPIC GE\",                                    ylabel=\"Wasserstein distance\",                                    title=\"\",                                    xlabel=\"\",                                    top=top)\\n\\nax3 = fig.add_subplot(4, 1, 3, sharey=ax1)\\ntopup_vs_epic_e2_hellinger_medians_df = sorted_boxplot_histogram_distances(topup_vs_epic_e2_hellinger_df,                                    ax3,                                    ylabel2=\"TOPUP vs. EPIC SE\",                                    ylabel=\"Hellinger distance\",                                    title=\"\",                                    xlabel=\"\",                                    top=top)\\n\\nax4 = fig.add_subplot(4, 1, 4, sharey=ax2)\\ntopup_vs_epic_e2_wasserstein_medians_df = sorted_boxplot_histogram_distances(topup_vs_epic_e2_wasserstein_df,                                    ax4,                                    ylabel2=\"TOPUP vs. EPIC SE\",                                    ylabel=\"Wasserstein distance\",                                    title=\"\",                                    xlabel=\"Neuromorphometrics Inc. region value\",                                    top=top)\\nplt.suptitle(\"Top \" + str(top) + \" histogram differences sorted after median\")\\nplt.subplots_adjust(hspace=0.5)\\n'"
      ]
     },
     "execution_count": 69,
     "metadata": {},
     "output_type": "execute_result"
    }
   ],
   "source": [
    "\"\"\" Older figure\n",
    "top=20\n",
    "fig = plt.figure(figsize=np.array([6.4*0.6*2, 4.8*0.6*3]))\n",
    "ax1 = fig.add_subplot(4, 1, 1)\n",
    "topup_vs_epic_e1_hellinger_medians_df = sorted_boxplot_histogram_distances(topup_vs_epic_e1_hellinger_df, \\\n",
    "                                   ax1, \\\n",
    "                                   ylabel2=\"TOPUP vs. EPIC GE\", \\\n",
    "                                   ylabel=\"Hellinger distance\", \\\n",
    "                                   title=\"Number of observations\", \\\n",
    "                                   xlabel=\"\", \n",
    "                                   top=top)\n",
    "\n",
    "ax2 = fig.add_subplot(4, 1, 2)\n",
    "topup_vs_epic_e1_wasserstein_medians_df = sorted_boxplot_histogram_distances(topup_vs_epic_e1_wasserstein_df, \\\n",
    "                                   ax2, \\\n",
    "                                   ylabel2=\"TOPUP vs. EPIC GE\", \\\n",
    "                                   ylabel=\"Wasserstein distance\", \\\n",
    "                                   title=\"\", \\\n",
    "                                   xlabel=\"\", \\\n",
    "                                   top=top)\n",
    "\n",
    "ax3 = fig.add_subplot(4, 1, 3, sharey=ax1)\n",
    "topup_vs_epic_e2_hellinger_medians_df = sorted_boxplot_histogram_distances(topup_vs_epic_e2_hellinger_df, \\\n",
    "                                   ax3, \\\n",
    "                                   ylabel2=\"TOPUP vs. EPIC SE\", \\\n",
    "                                   ylabel=\"Hellinger distance\", \\\n",
    "                                   title=\"\", \\\n",
    "                                   xlabel=\"\", \\\n",
    "                                   top=top)\n",
    "\n",
    "ax4 = fig.add_subplot(4, 1, 4, sharey=ax2)\n",
    "topup_vs_epic_e2_wasserstein_medians_df = sorted_boxplot_histogram_distances(topup_vs_epic_e2_wasserstein_df, \\\n",
    "                                   ax4, \\\n",
    "                                   ylabel2=\"TOPUP vs. EPIC SE\", \\\n",
    "                                   ylabel=\"Wasserstein distance\", \\\n",
    "                                   title=\"\", \\\n",
    "                                   xlabel=\"Neuromorphometrics Inc. region value\", \\\n",
    "                                   top=top)\n",
    "plt.suptitle(\"Top \" + str(top) + \" histogram differences sorted after median\")\n",
    "plt.subplots_adjust(hspace=0.5)\n",
    "\"\"\""
   ]
  },
  {
   "cell_type": "code",
   "execution_count": 70,
   "metadata": {},
   "outputs": [],
   "source": [
    "windowMax_hellinger_scaled = \\\n",
    "np.max(\\\n",
    "[topup_vs_epic_e1_hellinger_df.max().max(), \\\n",
    " topup_vs_epic_e2_hellinger_df.max().max()])*0.5\n",
    "\n",
    "windowMax_wasserstein_scaled = \\\n",
    "np.max(\\\n",
    "[topup_vs_epic_e1_wasserstein_df.max().max(), \\\n",
    " topup_vs_epic_e2_wasserstein_df.max().max()])*0.25\n",
    "rendered_image_files_list_correction_method_comparison = \\\n",
    "sorted_boxplot_figure_distances(df_1 = topup_vs_epic_e2_hellinger_df, \\\n",
    "                                        df_1_rcbv = topup_vs_epic_e2_relative_rcbv_change_df, \\\n",
    "                                        df_2 = topup_vs_epic_e1_hellinger_df, \\\n",
    "                                        df_2_rcbv = topup_vs_epic_e1_relative_rcbv_change_df, \\\n",
    "                                        df_3 = topup_vs_epic_e2_wasserstein_df, \\\n",
    "                                        df_3_rcbv = topup_vs_epic_e2_relative_rcbv_change_df, \\\n",
    "                                        df_4 = topup_vs_epic_e1_wasserstein_df, \\\n",
    "                                        df_4_rcbv = topup_vs_epic_e1_relative_rcbv_change_df, \\\n",
    "                              ylabel_1 = \"A: TOPUP. vs. EPIC SE\", \\\n",
    "                              ylabel_2 = \"B: TOPUP. vs. EPIC GE\", \\\n",
    "                              ylabel_3 = \"C: TOPUP. vs. EPIC SE\", \\\n",
    "                              ylabel_4 = \"D: TOPUP. vs. EPIC GE\", \\\n",
    "                              distance_name = \"Hellinger-and-Wasserstein\", \\\n",
    "                              labels_data = labels_data, \\\n",
    "                              labels_dims =  labels_dims, \\\n",
    "                              CBV_out_dir = CBV_out_dir, \\\n",
    "                              rendered_image_files_list = [], \\\n",
    "                              region_values = region_values, \\\n",
    "                              region_names = region_names_clean, \\\n",
    "                              region_names_to_exclude = regions_excluded_clean, \\\n",
    "                              top=\"all\", \\\n",
    "                              render_pngs=True, \\\n",
    "                              windowMin = 0, \\\n",
    "                              windowMax = windowMax_wasserstein_scaled, \\\n",
    "                              interpolation = \"nearest\", \\\n",
    "                              cmap = \"hot\", \\\n",
    "                              blur_3d = False, \\\n",
    "                              blur_3d_sigma = 1, \\\n",
    "                              method_comparison = True)\n",
    "#\"\"\""
   ]
  },
  {
   "cell_type": "code",
   "execution_count": 71,
   "metadata": {},
   "outputs": [
    {
     "data": {
      "text/plain": [
       "'\\n%%bash -s \"$CBV_out_dir\"\\nCBV_out_dir=$1\\ncd $CBV_out_dir\\nmkdir -p temp\\ncp Hellinger-and-Wasserstein-r3-axial-inferior-superior.png temp/\\ncp Hellinger-and-Wasserstein-r3-sagittal-r-l.png temp/\\ncp Hellinger-and-Wasserstein-r3-mixed-r-l-anterior-posterior.png temp/\\ncp Hellinger-and-Wasserstein-r4-axial-inferior-superior.png temp/\\ncp Hellinger-and-Wasserstein-r4-sagittal-r-l.png temp/\\ncp Hellinger-and-Wasserstein-r4-mixed-r-l-anterior-posterior.png temp/\\n'"
      ]
     },
     "execution_count": 71,
     "metadata": {},
     "output_type": "execute_result"
    }
   ],
   "source": [
    "\"\"\"\n",
    "%%bash -s \"$CBV_out_dir\"\n",
    "CBV_out_dir=$1\n",
    "cd $CBV_out_dir\n",
    "mkdir -p temp\n",
    "cp Hellinger-and-Wasserstein-r3-axial-inferior-superior.png temp/\n",
    "cp Hellinger-and-Wasserstein-r3-sagittal-r-l.png temp/\n",
    "cp Hellinger-and-Wasserstein-r3-mixed-r-l-anterior-posterior.png temp/\n",
    "cp Hellinger-and-Wasserstein-r4-axial-inferior-superior.png temp/\n",
    "cp Hellinger-and-Wasserstein-r4-sagittal-r-l.png temp/\n",
    "cp Hellinger-and-Wasserstein-r4-mixed-r-l-anterior-posterior.png temp/\n",
    "\"\"\""
   ]
  },
  {
   "cell_type": "code",
   "execution_count": 72,
   "metadata": {},
   "outputs": [],
   "source": [
    "windowMax_hellinger_scaled = \\\n",
    "np.max(\\\n",
    "[topup_vs_epic_e1_hellinger_df.max().max(), \\\n",
    " topup_vs_epic_e2_hellinger_df.max().max()])*0.5\n",
    "\n",
    "windowMax_wasserstein_scaled = \\\n",
    "np.max(\\\n",
    "[topup_vs_epic_e1_wasserstein_df.max().max(), \\\n",
    " topup_vs_epic_e2_wasserstein_df.max().max()])*0.25\n",
    "rendered_image_files_list_correction_method_comparison = \\\n",
    "sorted_boxplot_figure_distances(df_1 = topup_vs_epic_e2_hellinger_df, \\\n",
    "                                        df_1_rcbv = topup_vs_epic_e2_relative_rcbv_change_df, \\\n",
    "                                        df_2 = topup_vs_epic_e1_hellinger_df, \\\n",
    "                                        df_2_rcbv = topup_vs_epic_e1_relative_rcbv_change_df, \\\n",
    "                                        df_3 = topup_vs_epic_e2_wasserstein_df, \\\n",
    "                                        df_3_rcbv = topup_vs_epic_e2_relative_rcbv_change_df, \\\n",
    "                                        df_4 = topup_vs_epic_e1_wasserstein_df, \\\n",
    "                                        df_4_rcbv = topup_vs_epic_e1_relative_rcbv_change_df, \\\n",
    "                              ylabel_1 = \"A: TOPUP. vs. EPIC SE\", \\\n",
    "                              ylabel_2 = \"B: TOPUP. vs. EPIC GE\", \\\n",
    "                              ylabel_3 = \"C: TOPUP. vs. EPIC SE\", \\\n",
    "                              ylabel_4 = \"D: TOPUP. vs. EPIC GE\", \\\n",
    "                              distance_name = \"Hellinger-and-Wasserstein\", \\\n",
    "                              labels_data = labels_data, \\\n",
    "                              labels_dims =  labels_dims, \\\n",
    "                              CBV_out_dir = CBV_out_dir, \\\n",
    "                              rendered_image_files_list = [], \\\n",
    "                              region_values = region_values, \\\n",
    "                              region_names = region_names_clean, \\\n",
    "                              region_names_to_exclude = regions_excluded_clean, \\\n",
    "                              top=\"all\", \\\n",
    "                              render_pngs=True, \\\n",
    "                              windowMin = 0, \\\n",
    "                              windowMax = windowMax_hellinger_scaled, \\\n",
    "                              interpolation = \"nearest\", \\\n",
    "                              cmap = \"hot\", \\\n",
    "                              blur_3d = False, \\\n",
    "                              blur_3d_sigma = 1, \\\n",
    "                              method_comparison = True)\n",
    "#\"\"\""
   ]
  },
  {
   "cell_type": "code",
   "execution_count": 73,
   "metadata": {},
   "outputs": [
    {
     "data": {
      "text/plain": [
       "'\\n%%bash -s \"$CBV_out_dir\"\\nCBV_out_dir=$1\\ncd $CBV_out_dir\\nmkdir -p temp\\nmv temp/Hellinger-and-Wasserstein-r3-axial-inferior-superior.png Hellinger-and-Wasserstein-r3-axial-inferior-superior.png\\nmv temp/Hellinger-and-Wasserstein-r3-sagittal-r-l.png Hellinger-and-Wasserstein-r3-sagittal-r-l.png\\nmv temp/Hellinger-and-Wasserstein-r3-mixed-r-l-anterior-posterior.png Hellinger-and-Wasserstein-r3-mixed-r-l-anterior-posterior.png\\nmv temp/Hellinger-and-Wasserstein-r4-axial-inferior-superior.png Hellinger-and-Wasserstein-r4-axial-inferior-superior.png\\nmv temp/Hellinger-and-Wasserstein-r4-sagittal-r-l.png Hellinger-and-Wasserstein-r4-sagittal-r-l.png\\nmv temp/Hellinger-and-Wasserstein-r4-mixed-r-l-anterior-posterior.png Hellinger-and-Wasserstein-r4-mixed-r-l-anterior-posterior.png\\nls Hellinger-and-Wasserstein-*.png | xargs -I file convert file -fill \"rgb(173, 216, 230)\" -opaque black file\\n'"
      ]
     },
     "execution_count": 73,
     "metadata": {},
     "output_type": "execute_result"
    }
   ],
   "source": [
    "\"\"\"\n",
    "%%bash -s \"$CBV_out_dir\"\n",
    "CBV_out_dir=$1\n",
    "cd $CBV_out_dir\n",
    "mkdir -p temp\n",
    "mv temp/Hellinger-and-Wasserstein-r3-axial-inferior-superior.png Hellinger-and-Wasserstein-r3-axial-inferior-superior.png\n",
    "mv temp/Hellinger-and-Wasserstein-r3-sagittal-r-l.png Hellinger-and-Wasserstein-r3-sagittal-r-l.png\n",
    "mv temp/Hellinger-and-Wasserstein-r3-mixed-r-l-anterior-posterior.png Hellinger-and-Wasserstein-r3-mixed-r-l-anterior-posterior.png\n",
    "mv temp/Hellinger-and-Wasserstein-r4-axial-inferior-superior.png Hellinger-and-Wasserstein-r4-axial-inferior-superior.png\n",
    "mv temp/Hellinger-and-Wasserstein-r4-sagittal-r-l.png Hellinger-and-Wasserstein-r4-sagittal-r-l.png\n",
    "mv temp/Hellinger-and-Wasserstein-r4-mixed-r-l-anterior-posterior.png Hellinger-and-Wasserstein-r4-mixed-r-l-anterior-posterior.png\n",
    "ls Hellinger-and-Wasserstein-*.png | xargs -I file convert file -fill \"rgb(173, 216, 230)\" -opaque black file\n",
    "\"\"\""
   ]
  },
  {
   "cell_type": "code",
   "execution_count": 74,
   "metadata": {},
   "outputs": [],
   "source": [
    "#\"\"\"\n",
    "#%run visualization.py\n",
    "rendered_image_files_list_correction_method_comparison = \\\n",
    "sorted_boxplot_figure_distances(df_1 = topup_vs_epic_e2_hellinger_df, \\\n",
    "                                        df_1_rcbv = topup_vs_epic_e2_relative_rcbv_change_df, \\\n",
    "                                        df_2 = topup_vs_epic_e1_hellinger_df, \\\n",
    "                                        df_2_rcbv = topup_vs_epic_e1_relative_rcbv_change_df, \\\n",
    "                                        df_3 = topup_vs_epic_e2_wasserstein_df, \\\n",
    "                                        df_3_rcbv = topup_vs_epic_e2_relative_rcbv_change_df, \\\n",
    "                                        df_4 = topup_vs_epic_e1_wasserstein_df, \\\n",
    "                                        df_4_rcbv = topup_vs_epic_e1_relative_rcbv_change_df, \\\n",
    "                              ylabel_1 = \"A: TOPUP. vs. EPIC SE\", \\\n",
    "                              ylabel_2 = \"B: TOPUP. vs. EPIC GE\", \\\n",
    "                              ylabel_3 = \"C: TOPUP. vs. EPIC SE\", \\\n",
    "                              ylabel_4 = \"D: TOPUP. vs. EPIC GE\", \\\n",
    "                              distance_name = \"Hellinger-and-Wasserstein\", \\\n",
    "                              labels_data = labels_data, \\\n",
    "                              labels_dims =  labels_dims, \\\n",
    "                              CBV_out_dir = CBV_out_dir, \\\n",
    "                              rendered_image_files_list = rendered_image_files_list_correction_method_comparison, \\\n",
    "                              region_values = region_values, \\\n",
    "                              region_names = region_names_clean, \\\n",
    "                              region_names_to_exclude = regions_excluded_clean, \\\n",
    "                              top=10, \\\n",
    "                              render_pngs=False, \\\n",
    "                              interpolation = \"nearest\", \\\n",
    "                              cmap = \"hot\", \\\n",
    "                              blur_3d = False, \\\n",
    "                              windowMin = 0, \\\n",
    "                              windowMax = windowMax_wasserstein_scaled, \\\n",
    "                              blur_3d_sigma = 1, \\\n",
    "                              method_comparison = True)\n",
    "#\"\"\""
   ]
  },
  {
   "cell_type": "code",
   "execution_count": 75,
   "metadata": {},
   "outputs": [],
   "source": [
    "#visualize_regions(topup_vs_epic_e1_hellinger_medians_df, labels_data, labels_dims)\n",
    "#visualize_regions(topup_vs_epic_e1_wasserstein_medians_df, labels_data, labels_dims)\n",
    "#visualize_regions(topup_vs_epic_e2_hellinger_medians_df, labels_data, labels_dims)\n",
    "#visualize_regions(topup_vs_epic_e2_wasserstein_medians_df, labels_data, labels_dims)"
   ]
  },
  {
   "cell_type": "markdown",
   "metadata": {},
   "source": [
    "8. Based on the figures, calculate overall top regions most affected by correction"
   ]
  },
  {
   "cell_type": "code",
   "execution_count": 76,
   "metadata": {},
   "outputs": [],
   "source": [
    "# Manual pick from figures\n",
    "#top_regions_no_lower_v_limit_desc = [69, 75, 50, 76, 49, 30, 23, 31, 32, 4, 187, 11, 46, 148, 186]"
   ]
  },
  {
   "cell_type": "code",
   "execution_count": 77,
   "metadata": {},
   "outputs": [],
   "source": [
    "#raw_vs_topup_e1_hellinger_df.drop(columns=raw_vs_topup_e1_hellinger_df.keys()[raw_vs_topup_e1_hellinger_df.notna().sum() < 10])"
   ]
  },
  {
   "cell_type": "code",
   "execution_count": 78,
   "metadata": {},
   "outputs": [],
   "source": [
    "#raw_vs_topup_e1_hellinger_df.loc[:,raw_vs_topup_e1_hellinger_df.keys()[raw_vs_topup_e1_hellinger_df.notna().sum() < 10]].shape\n",
    "#raw_vs_topup_e1_hellinger_df.loc[:,raw_vs_topup_e1_hellinger_df.notna().sum() < 10].shape\n",
    "#raw_vs_epic_e1_relative_rcbv_change_df.drop(columns=raw_vs_epic_e1_relative_rcbv_change_df.keys()[raw_vs_epic_e1_relative_rcbv_change_df.notna().sum() < 10])\n",
    "#raw_vs_topup_e2_relative_rcbv_change_df.keys()[raw_vs_topup_e2_relative_rcbv_change_df.notna().sum() < 10].shape"
   ]
  },
  {
   "cell_type": "code",
   "execution_count": 79,
   "metadata": {},
   "outputs": [
    {
     "data": {
      "text/plain": [
       "'\\ntoprrCBV_increase = pd.concat([                      raw_vs_topup_e1_relative_rcbv_change_df.drop(columns=raw_vs_topup_e1_relative_rcbv_change_df.keys()[raw_vs_topup_e1_relative_rcbv_change_df.notna().sum() < 10]).median(),                       raw_vs_topup_e2_relative_rcbv_change_df.drop(columns=raw_vs_topup_e2_relative_rcbv_change_df.keys()[raw_vs_topup_e2_relative_rcbv_change_df.notna().sum() < 10]).median(),                       raw_vs_epic_e1_relative_rcbv_change_df.drop(columns=raw_vs_epic_e1_relative_rcbv_change_df.keys()[raw_vs_epic_e1_relative_rcbv_change_df.notna().sum() < 10]).median(),                       raw_vs_epic_e2_relative_rcbv_change_df.drop(columns=raw_vs_epic_e2_relative_rcbv_change_df.keys()[raw_vs_epic_e2_relative_rcbv_change_df.notna().sum() < 10]).median()],                      axis=1, join=\"inner\", sort=False).apply(lambda r: r.mean(), axis=1).sort_values(ascending=False)\\n\\ntoprrCBV_increase.shape\\n'"
      ]
     },
     "execution_count": 79,
     "metadata": {},
     "output_type": "execute_result"
    }
   ],
   "source": [
    "\"\"\"\n",
    "toprrCBV_increase = pd.concat([\\\n",
    "                      raw_vs_topup_e1_relative_rcbv_change_df.drop(columns=raw_vs_topup_e1_relative_rcbv_change_df.keys()[raw_vs_topup_e1_relative_rcbv_change_df.notna().sum() < 10]).median(), \\\n",
    "                      raw_vs_topup_e2_relative_rcbv_change_df.drop(columns=raw_vs_topup_e2_relative_rcbv_change_df.keys()[raw_vs_topup_e2_relative_rcbv_change_df.notna().sum() < 10]).median(), \\\n",
    "                      raw_vs_epic_e1_relative_rcbv_change_df.drop(columns=raw_vs_epic_e1_relative_rcbv_change_df.keys()[raw_vs_epic_e1_relative_rcbv_change_df.notna().sum() < 10]).median(), \\\n",
    "                      raw_vs_epic_e2_relative_rcbv_change_df.drop(columns=raw_vs_epic_e2_relative_rcbv_change_df.keys()[raw_vs_epic_e2_relative_rcbv_change_df.notna().sum() < 10]).median()], \\\n",
    "                     axis=1, join=\"inner\", sort=False).apply(lambda r: r.mean(), axis=1).sort_values(ascending=False)\n",
    "\n",
    "toprrCBV_increase.shape\n",
    "\"\"\""
   ]
  },
  {
   "cell_type": "code",
   "execution_count": 80,
   "metadata": {},
   "outputs": [
    {
     "name": "stdout",
     "output_type": "stream",
     "text": [
      "Hellinger top 51 regions:\n",
      "\n",
      " 12    0.068717\n",
      "23    0.065203\n",
      "1     0.042681\n",
      "10    0.041012\n",
      "3     0.038023\n",
      "2     0.033957\n",
      "4     0.032715\n",
      "31    0.029192\n",
      "14    0.024373\n",
      "72    0.023386\n",
      "21    0.023377\n",
      "52    0.022344\n",
      "55    0.020683\n",
      "59    0.019704\n",
      "60    0.019456\n",
      "62    0.019321\n",
      "56    0.019047\n",
      "49    0.018903\n",
      "32    0.018419\n",
      "57    0.018348\n",
      "26    0.018310\n",
      "39    0.018123\n",
      "11    0.016150\n",
      "17    0.015999\n",
      "20    0.015964\n",
      "6     0.015595\n",
      "15    0.014862\n",
      "53    0.014616\n",
      "50    0.014165\n",
      "71    0.014080\n",
      "51    0.014017\n",
      "29    0.013863\n",
      "67    0.013804\n",
      "25    0.013624\n",
      "13    0.013377\n",
      "28    0.013004\n",
      "5     0.012920\n",
      "24    0.012767\n",
      "70    0.012261\n",
      "16    0.012130\n",
      "43    0.011633\n",
      "30    0.011591\n",
      "40    0.011441\n",
      "36    0.011076\n",
      "34    0.011003\n",
      "69    0.010701\n",
      "38    0.009809\n",
      "66    0.008842\n",
      "27    0.008713\n",
      "54    0.008662\n",
      "48    0.008035\n",
      "dtype: float64\n",
      "\n",
      "Wasserstein top 51 regions:\n",
      "\n",
      " 2     0.045897\n",
      "12    0.041134\n",
      "1     0.038244\n",
      "4     0.034799\n",
      "23    0.034530\n",
      "3     0.033551\n",
      "31    0.032195\n",
      "14    0.030526\n",
      "10    0.030101\n",
      "21    0.024606\n",
      "52    0.022268\n",
      "15    0.021721\n",
      "55    0.021431\n",
      "49    0.021145\n",
      "26    0.020651\n",
      "13    0.020374\n",
      "20    0.019679\n",
      "39    0.019633\n",
      "17    0.019218\n",
      "59    0.018720\n",
      "6     0.018326\n",
      "56    0.017473\n",
      "32    0.017270\n",
      "72    0.017133\n",
      "57    0.016717\n",
      "60    0.016508\n",
      "62    0.016453\n",
      "11    0.016307\n",
      "71    0.015990\n",
      "5     0.015830\n",
      "29    0.015241\n",
      "16    0.015075\n",
      "70    0.015051\n",
      "67    0.015010\n",
      "53    0.014938\n",
      "51    0.014741\n",
      "50    0.014520\n",
      "28    0.014139\n",
      "25    0.014015\n",
      "34    0.013752\n",
      "24    0.013660\n",
      "40    0.013463\n",
      "36    0.013462\n",
      "30    0.013290\n",
      "43    0.013221\n",
      "69    0.013160\n",
      "38    0.011767\n",
      "27    0.011134\n",
      "66    0.010796\n",
      "48    0.010695\n",
      "54    0.010439\n",
      "dtype: float64\n",
      "\n",
      "Overall top 51 regions:\n",
      "\n",
      " 12    0.109850\n",
      "23    0.099733\n",
      "1     0.080925\n",
      "2     0.079854\n",
      "3     0.071574\n",
      "10    0.071113\n",
      "4     0.067514\n",
      "31    0.061387\n",
      "14    0.054899\n",
      "21    0.047983\n",
      "52    0.044613\n",
      "55    0.042114\n",
      "72    0.040519\n",
      "49    0.040048\n",
      "26    0.038961\n",
      "59    0.038424\n",
      "39    0.037755\n",
      "15    0.036584\n",
      "56    0.036520\n",
      "60    0.035964\n",
      "62    0.035774\n",
      "32    0.035688\n",
      "20    0.035643\n",
      "17    0.035217\n",
      "57    0.035065\n",
      "6     0.033921\n",
      "13    0.033750\n",
      "11    0.032457\n",
      "71    0.030069\n",
      "53    0.029555\n",
      "29    0.029104\n",
      "67    0.028814\n",
      "51    0.028757\n",
      "5     0.028750\n",
      "50    0.028685\n",
      "25    0.027639\n",
      "70    0.027312\n",
      "16    0.027205\n",
      "28    0.027143\n",
      "24    0.026428\n",
      "40    0.024904\n",
      "30    0.024881\n",
      "43    0.024854\n",
      "34    0.024755\n",
      "36    0.024539\n",
      "69    0.023861\n",
      "38    0.021577\n",
      "27    0.019846\n",
      "66    0.019639\n",
      "54    0.019102\n",
      "48    0.018731\n",
      "dtype: float64\n",
      "\n",
      "rrCBV top 51 increase regions:\n",
      "\n",
      " 14    1.218540\n",
      "49    1.157732\n",
      "1     1.129693\n",
      "2     1.104127\n",
      "15    1.095471\n",
      "52    1.080564\n",
      "59    1.076651\n",
      "6     1.073319\n",
      "39    1.071985\n",
      "70    1.065562\n",
      "3     1.059316\n",
      "34    1.057424\n",
      "55    1.054684\n",
      "12    1.054353\n",
      "26    1.052028\n",
      "23    1.049324\n",
      "17    1.047596\n",
      "71    1.039976\n",
      "29    1.039093\n",
      "21    1.036982\n",
      "16    1.035517\n",
      "24    1.030758\n",
      "11    1.029284\n",
      "48    1.027327\n",
      "32    1.023877\n",
      "43    1.023802\n",
      "56    1.022161\n",
      "67    1.018565\n",
      "20    1.017389\n",
      "69    1.017244\n",
      "40    1.016790\n",
      "36    1.015178\n",
      "53    1.015068\n",
      "50    1.014404\n",
      "54    1.012675\n",
      "30    1.009327\n",
      "38    1.009272\n",
      "66    1.008751\n",
      "28    1.008451\n",
      "51    1.007484\n",
      "25    1.004434\n",
      "27    1.003424\n",
      "57    0.999416\n",
      "60    0.993354\n",
      "62    0.992100\n",
      "72    0.986613\n",
      "31    0.985447\n",
      "5     0.973124\n",
      "13    0.955952\n",
      "10    0.948966\n",
      "4     0.917601\n",
      "dtype: float64\n",
      "\n",
      "rrCBV top 51 decrease regions:\n",
      "\n",
      " 4     1.089799\n",
      "10    1.053779\n",
      "13    1.046078\n",
      "5     1.027618\n",
      "31    1.014768\n",
      "72    1.013569\n",
      "62    1.007963\n",
      "60    1.006691\n",
      "57    1.000584\n",
      "27    0.996588\n",
      "25    0.995586\n",
      "51    0.992572\n",
      "28    0.991620\n",
      "66    0.991325\n",
      "38    0.990813\n",
      "30    0.990759\n",
      "54    0.987483\n",
      "50    0.985801\n",
      "53    0.985156\n",
      "36    0.985049\n",
      "40    0.983487\n",
      "69    0.983049\n",
      "20    0.982908\n",
      "67    0.981773\n",
      "56    0.978320\n",
      "43    0.976751\n",
      "32    0.976680\n",
      "48    0.973400\n",
      "11    0.971549\n",
      "24    0.970160\n",
      "16    0.965701\n",
      "21    0.964337\n",
      "29    0.962378\n",
      "71    0.961561\n",
      "17    0.954566\n",
      "23    0.952994\n",
      "26    0.950545\n",
      "12    0.948449\n",
      "55    0.948152\n",
      "34    0.945694\n",
      "3     0.944005\n",
      "70    0.938472\n",
      "39    0.932849\n",
      "6     0.931689\n",
      "59    0.928806\n",
      "52    0.925443\n",
      "15    0.912849\n",
      "2     0.905693\n",
      "1     0.885196\n",
      "49    0.863757\n",
      "14    0.820654\n",
      "dtype: float64\n",
      "\n"
     ]
    }
   ],
   "source": [
    "# Automatic pic using mean top sum of medians\n",
    "#numtop = 20\n",
    "numtop = raw_vs_topup_e1_hellinger_df.columns.shape[0]\n",
    "\n",
    "tophellinger = pd.concat([\\\n",
    "                          drop_regions_with_few_comparisons(raw_vs_topup_e1_hellinger_df, num_comparisons_below=10).median(), \\\n",
    "                          drop_regions_with_few_comparisons(raw_vs_topup_e2_hellinger_df, num_comparisons_below=10).median(), \\\n",
    "                          drop_regions_with_few_comparisons(raw_vs_epic_e1_hellinger_df, num_comparisons_below=10).median(), \\\n",
    "                          drop_regions_with_few_comparisons(raw_vs_epic_e2_hellinger_df, num_comparisons_below=10).median()], \\\n",
    "                         axis=1, join=\"inner\", sort=False).apply(lambda r: r.sum(), axis=1).sort_values(ascending=False)[0:numtop]\n",
    "tophellingersum = tophellinger.sum()\n",
    "# Normalize the top medians to have sum of 1 for comparison with Wasserstein\n",
    "tophellinger = tophellinger.apply(lambda r: r/tophellingersum)\n",
    "\n",
    "\"\"\"\n",
    "tophellinger_numobs = pd.concat([\\\n",
    "                      raw_vs_topup_e1_hellinger_df.notna().sum().to_frame(), \\\n",
    "                      raw_vs_topup_e2_hellinger_df.notna().sum().to_frame(), \\\n",
    "                      raw_vs_epic_e1_hellinger_df.notna().sum().to_frame(), \\\n",
    "                      raw_vs_epic_e2_hellinger_df.notna().sum().to_frame()], \\\n",
    "                     axis=1, sort=False).apply(lambda r: r.sum(), axis=1)\n",
    "# Select only selected areas according to tophellinger\n",
    "tophellinger_numobs = tophellinger_numobs.to_frame().loc[tophellinger.to_frame().index]\n",
    "tophellinger_numobs_sum = tophellinger_numobs.sum()\n",
    "# Normalize\n",
    "tophellinger_numobs = tophellinger_numobs.apply(lambda r: r/np.float(tophellinger_numobs_sum))\n",
    "# weighted according to number of observations\n",
    "tophellinger = pd.concat([tophellinger.to_frame(), \\\n",
    "                          tophellinger_numobs], axis=1, \\\n",
    "                         sort=False).apply(lambda r: r.sum(), axis=1).sort_values(ascending=False)\n",
    "\"\"\"\n",
    "\n",
    "topwasserstein = pd.concat([\\\n",
    "                          drop_regions_with_few_comparisons(raw_vs_topup_e1_wasserstein_df, num_comparisons_below=10).median(), \\\n",
    "                          drop_regions_with_few_comparisons(raw_vs_topup_e2_wasserstein_df, num_comparisons_below=10).median(), \\\n",
    "                          drop_regions_with_few_comparisons(raw_vs_epic_e1_wasserstein_df, num_comparisons_below=10).median(), \\\n",
    "                          drop_regions_with_few_comparisons(raw_vs_epic_e2_wasserstein_df, num_comparisons_below=10).median()], \\\n",
    "                           axis=1, join=\"inner\", sort=False).apply(lambda r: r.sum(), axis=1).sort_values(ascending=False)[0:numtop]\n",
    "topwassersteinsum = topwasserstein.sum()\n",
    "# Normalize the top medians to have sum of 1 for comparison with Hellinger\n",
    "topwasserstein = topwasserstein.apply(lambda r: r/topwassersteinsum)\n",
    "\n",
    "\"\"\"\n",
    "topwasserstein_numobs = pd.concat([\\\n",
    "                      raw_vs_topup_e1_wasserstein_df.notna().sum().to_frame(), \\\n",
    "                      raw_vs_topup_e2_wasserstein_df.notna().sum().to_frame(), \\\n",
    "                      raw_vs_epic_e1_wasserstein_df.notna().sum().to_frame(), \\\n",
    "                      raw_vs_epic_e2_wasserstein_df.notna().sum().to_frame()], \\\n",
    "                     axis=1, sort=False).apply(lambda r: r.sum(), axis=1)\n",
    "# Select only selected areas according to topwasserstein\n",
    "topwasserstein_numobs = topwasserstein_numobs.to_frame().loc[topwasserstein.to_frame().index]\n",
    "topwasserstein_numobs_sum = topwasserstein_numobs.sum()\n",
    "# Normalize\n",
    "topwasserstein_numobs = topwasserstein_numobs.apply(lambda r: r/np.float(topwasserstein_numobs_sum))\n",
    "# weighted according to number of observations\n",
    "topwasserstein = pd.concat([topwasserstein.to_frame(), \\\n",
    "                            topwasserstein_numobs], axis=1, \\\n",
    "                           sort=False).apply(lambda r: r.sum(), axis=1).sort_values(ascending=False)\n",
    "\"\"\"\n",
    "toprrCBV_increase = pd.concat([\\\n",
    "                          drop_regions_with_few_comparisons(raw_vs_topup_e1_relative_rcbv_change_df, num_comparisons_below=10).median(), \\\n",
    "                          drop_regions_with_few_comparisons(raw_vs_topup_e2_relative_rcbv_change_df, num_comparisons_below=10).median(), \\\n",
    "                          drop_regions_with_few_comparisons(raw_vs_epic_e1_relative_rcbv_change_df, num_comparisons_below=10).median(), \\\n",
    "                          drop_regions_with_few_comparisons(raw_vs_epic_e2_relative_rcbv_change_df, num_comparisons_below=10).median()], \\\n",
    "                              axis=1, join=\"inner\", sort=False).apply(lambda r: r.mean(), axis=1).sort_values(ascending=False)[0:numtop]\n",
    "\n",
    "toprrCBV_decrease = pd.concat([\\\n",
    "                          drop_regions_with_few_comparisons(raw_vs_topup_e1_relative_rcbv_change_df, num_comparisons_below=10).median(), \\\n",
    "                          drop_regions_with_few_comparisons(raw_vs_topup_e2_relative_rcbv_change_df, num_comparisons_below=10).median(), \\\n",
    "                          drop_regions_with_few_comparisons(raw_vs_epic_e1_relative_rcbv_change_df, num_comparisons_below=10).median(), \\\n",
    "                          drop_regions_with_few_comparisons(raw_vs_epic_e2_relative_rcbv_change_df, num_comparisons_below=10).median()], \\\n",
    "                              axis=1, join=\"inner\", sort=False).apply(lambda r: r.mean(), axis=1).sort_values(ascending=True)[0:numtop]\n",
    "toprrCBV_decrease = 1/toprrCBV_decrease # Note\n",
    "\n",
    "overalltop = pd.concat([tophellinger.to_frame(), topwasserstein.to_frame()], \\\n",
    "                       axis=1, sort=False).apply(lambda r: r.sum(), axis=1).sort_values(ascending=False)[0:numtop]\n",
    "#\"\"\"\n",
    "tophellinger_keys = [np.uint8(r) for r in tophellinger.keys()]\n",
    "tophellinger_values = [r for r in tophellinger.values]\n",
    "topwasserstein_keys = [np.uint8(r) for r in topwasserstein.keys()]\n",
    "topwasserstein_values = [r for r in topwasserstein.values]\n",
    "overalltop_keys = [np.uint8(r) for r in overalltop.keys()]\n",
    "overalltop_values = [r for r in overalltop.values]\n",
    "\n",
    "toprrCBV_increase_keys = [np.uint8(r) for r in toprrCBV_increase.keys()]\n",
    "toprrCBV_increase_values = [r for r in toprrCBV_increase.values]\n",
    "\n",
    "toprrCBV_decrease_keys = [np.uint8(r) for r in toprrCBV_decrease.keys()]\n",
    "toprrCBV_decrease_values = [r for r in toprrCBV_decrease.values]\n",
    "\n",
    "print(\"Hellinger top %i regions:\\n\\n %a\\n\" % (len(tophellinger), tophellinger))\n",
    "print(\"Wasserstein top %i regions:\\n\\n %a\\n\" % (len(topwasserstein), topwasserstein))\n",
    "print(\"Overall top %i regions:\\n\\n %a\\n\" % (len(overalltop), overalltop))\n",
    "print(\"rrCBV top %i increase regions:\\n\\n %a\\n\" % (len(toprrCBV_increase), toprrCBV_increase))\n",
    "print(\"rrCBV top %i decrease regions:\\n\\n %a\\n\" % (len(toprrCBV_decrease), toprrCBV_decrease))\n",
    "#\"\"\""
   ]
  },
  {
   "cell_type": "markdown",
   "metadata": {},
   "source": [
    "Select which top list to use"
   ]
  },
  {
   "cell_type": "code",
   "execution_count": 81,
   "metadata": {},
   "outputs": [],
   "source": [
    "use = \"increase_significant\"\n",
    "if use == \"hellinger\":\n",
    "    top_regions_desc = np.array(tophellinger_keys)\n",
    "    top_regions = tophellinger\n",
    "elif use == \"hellinger_ge\":      \n",
    "    temp = pd.concat([\\\n",
    "                      drop_regions_with_few_comparisons(raw_vs_topup_e1_hellinger_df, num_comparisons_below=10).median(), \\\n",
    "                      drop_regions_with_few_comparisons(raw_vs_epic_e1_hellinger_df, num_comparisons_below=10).median()], \\\n",
    "                     axis=1, join=\"inner\", sort=False).apply(lambda r: r.sum(), axis=1).sort_values(ascending=False)\n",
    "    tempsum = temp.sum()\n",
    "    # Normalize the top medians to have sum of 1 for comparison with Wasserstein\n",
    "    temp = temp.apply(lambda r: r/tempsum)    \n",
    "    temp_keys = [np.uint8(r) for r in temp.keys()]\n",
    "    top_regions = temp\n",
    "    top_regions_desc = np.array(temp_keys)\n",
    "elif use == \"hellinger_se\":\n",
    "    temp = pd.concat([\\\n",
    "                              drop_regions_with_few_comparisons(raw_vs_topup_e2_hellinger_df, num_comparisons_below=10).median(), \\\n",
    "                              drop_regions_with_few_comparisons(raw_vs_epic_e2_hellinger_df, num_comparisons_below=10).median()], \\\n",
    "                             axis=1, join=\"inner\", sort=False).apply(lambda r: r.sum(), axis=1).sort_values(ascending=False)\n",
    "    tempsum = temp.sum()\n",
    "    # Normalize the top medians to have sum of 1 for comparison with Wasserstein\n",
    "    temp = temp.apply(lambda r: r/tempsum)\n",
    "    temp_keys = [np.uint8(r) for r in temp.keys()]\n",
    "    top_regions = temp\n",
    "    top_regions_desc = np.array(temp_keys)\n",
    "elif use == \"wasserstein_ge\":\n",
    "    temp = pd.concat([\\\n",
    "                              drop_regions_with_few_comparisons(raw_vs_topup_e1_wasserstein_df, num_comparisons_below=10).median(), \\\n",
    "                              drop_regions_with_few_comparisons(raw_vs_epic_e1_wasserstein_df, num_comparisons_below=10).median()], \\\n",
    "                             axis=1, join=\"inner\", sort=False).apply(lambda r: r.sum(), axis=1).sort_values(ascending=False)\n",
    "    tempsum = temp.sum()\n",
    "    # Normalize the top medians to have sum of 1 for comparison with Wasserstein\n",
    "    temp = temp.apply(lambda r: r/tempsum)\n",
    "    temp_keys = [np.uint8(r) for r in temp.keys()]\n",
    "    top_regions = temp\n",
    "    top_regions_desc = np.array(temp_keys)\n",
    "elif use == \"wasserstein_se\":\n",
    "    temp = pd.concat([\\\n",
    "                              drop_regions_with_few_comparisons(raw_vs_topup_e2_wasserstein_df, num_comparisons_below=10).median(), \\\n",
    "                              drop_regions_with_few_comparisons(raw_vs_epic_e2_wasserstein_df, num_comparisons_below=10).median()], \\\n",
    "                             axis=1, join=\"inner\", sort=False).apply(lambda r: r.sum(), axis=1).sort_values(ascending=False)\n",
    "    tempsum = temp.sum()\n",
    "    # Normalize the top medians to have sum of 1 for comparison with Wasserstein\n",
    "    temp = temp.apply(lambda r: r/tempsum)\n",
    "    temp_keys = [np.uint8(r) for r in temp.keys()]\n",
    "    top_regions = temp\n",
    "    top_regions_desc = np.array(temp_keys)\n",
    "elif use == \"wasserstein\":\n",
    "    top_regions_desc = np.array(topwasserstein_keys)\n",
    "    top_regions = topwasserstein\n",
    "elif use == \"combined\":\n",
    "    top_regions_desc = np.array(overalltop_keys)\n",
    "    top_regions = overalltop\n",
    "elif use == \"increase\":\n",
    "    top_regions_desc = np.array(toprrCBV_increase_keys)\n",
    "    top_regions = toprrCBV_increase\n",
    "elif use == \"decrease\":\n",
    "    top_regions_desc = np.array(toprrCBV_decrease_keys)\n",
    "    top_regions = toprrCBV_decrease\n",
    "elif use == \"combined_picked\":\n",
    "    # Picked from overalltop\n",
    "    #top_regions_desc = [75, 76, 50, 49, 30, 23, 4, 11, 32, 31, 46, 117, 116]\n",
    "    # Picked from overalltop when tumor excluded and csf and ventricles removed (ESNR poster)\n",
    "    #top_regions_desc = [75, 76, 30, 23, 31, 32, 116, 117, 55, 148, 56, 149, 164, 170, 165, 141, 125, 124, 206, 140, 171, 207, 179, 157, 105, 72, 178, 173]\n",
    "    # Picked from overalltop when tumor excluded and csf and ventricles removed (Manuscript)\n",
    "    top_regions_desc = [75, 76, 30, 23, 31, 32, 116, 117, 55, 148, 56, 149, 164, 170, 165, 141, 125, 124, 206, 140, 171, 207, 179, 157, 105, 72, 178, 173, 172, 104, 156]\n",
    "    \n",
    "    \"\"\"\n",
    "    # Weight according to number of observations\n",
    "    top_regions_desc_df = pd.DataFrame(index=top_regions_desc, data=range(len(top_regions_desc))[::-1])\n",
    "    top_regions_desc_df = top_regions_desc_df.apply(lambda r: r/r.sum())\n",
    "    # \n",
    "    tophellinger_numobs = pd.concat([\\\n",
    "                      raw_vs_topup_e1_hellinger_df.notna().sum().to_frame(), \\\n",
    "                      raw_vs_topup_e2_hellinger_df.notna().sum().to_frame(), \\\n",
    "                      raw_vs_epic_e1_hellinger_df.notna().sum().to_frame(), \\\n",
    "                      raw_vs_epic_e2_hellinger_df.notna().sum().to_frame()], \\\n",
    "                     axis=1, sort=False).apply(lambda r: r.sum(), axis=1)\n",
    "    # Extract observations only from top_regions_desc\n",
    "    tophellinger_numobs = tophellinger_numobs.loc[[True if int(i) in top_regions_desc else False for i in tophellinger_numobs.index]].to_frame()\n",
    "    tophellinger_numobs.index = tophellinger_numobs.index.astype(np.int64)\n",
    "    # Normalize\n",
    "    tophellinger_numobs = tophellinger_numobs.apply(lambda r: r/r.sum())\n",
    "    # Sort by observations\n",
    "    tophellinger_numobs = tophellinger_numobs.sort_values(by=0, ascending=False)\n",
    "    # Weighted by numobs\n",
    "    tophellinger_weighted = pd.concat([top_regions_desc_df, tophellinger_numobs], axis=1, sort=False).apply(lambda r: r.sum(), axis=1).sort_values(ascending=False).to_frame()\n",
    "    # \n",
    "    topwasserstein_numobs = pd.concat([\\\n",
    "                      raw_vs_topup_e1_wasserstein_df.notna().sum().to_frame(), \\\n",
    "                      raw_vs_topup_e2_wasserstein_df.notna().sum().to_frame(), \\\n",
    "                      raw_vs_epic_e1_wasserstein_df.notna().sum().to_frame(), \\\n",
    "                      raw_vs_epic_e2_wasserstein_df.notna().sum().to_frame()], \\\n",
    "                     axis=1, sort=False).apply(lambda r: r.sum(), axis=1)\n",
    "    # Extract observations only from top_regions_desc\n",
    "    topwasserstein_numobs = topwasserstein_numobs.loc[[True if int(i) in top_regions_desc else False for i in topwasserstein_numobs.index]].to_frame()\n",
    "    topwasserstein_numobs.index = topwasserstein_numobs.index.astype(np.int64)\n",
    "    # Normalize\n",
    "    topwasserstein_numobs = topwasserstein_numobs.apply(lambda r: r/r.sum())\n",
    "    # Sort by observations\n",
    "    topwasserstein_numobs = topwasserstein_numobs.sort_values(by=0, ascending=False)\n",
    "    # Weighted by numobs\n",
    "    topwasserstein_weighted = pd.concat([top_regions_desc_df, topwasserstein_numobs], axis=1, sort=False).apply(lambda r: r.sum(), axis=1).sort_values(ascending=False).to_frame()\n",
    "    \n",
    "    # Final weighting\n",
    "    top_regions_desc_weighted = pd.concat([tophellinger_weighted, topwasserstein_weighted], axis=1, sort=False).apply(lambda r: r.sum(), axis=1).sort_values(ascending=False).index\n",
    "    # Make into a list\n",
    "    top_regions_desc_weighted = [int(v) for v in top_regions_desc_weighted]\n",
    "    \n",
    "    top_regions_desc = top_regions_desc_weighted\n",
    "    \"\"\""
   ]
  },
  {
   "cell_type": "code",
   "execution_count": 82,
   "metadata": {},
   "outputs": [
    {
     "data": {
      "text/plain": [
       "'\\nfig = plt.figure(figsize=np.array([12, 8]))\\ngs1 = gridspec.GridSpec(2, 3)\\ngs1.update(left=0.06, right=0.98, bottom=0.07, top=0.94, hspace=0, wspace=0)\\nax1 = plt.subplot(gs1[0, :])\\n\\nregion_values_to_drop = [str(region_values[np.where(region_names_clean == region_name)[0][0]]) for region_name in regions_excluded_clean if str(region_values[np.where(region_names_clean == region_name)[0][0]]) in toprrCBV_increase.keys()]\\nrrCBV_dropped = toprrCBV_increase.drop(region_values_to_drop, axis=0).drop([[\"19\"] if \"19\" in toprrCBV_increase.keys() else []][0])\\n#rrCBV_dropped = toprrCBV_increase.drop([str(region_values[np.where(region_names_clean == region_name)[0][0]]) for region_name in regions_excluded_clean if str(\"11\") in toprrCBV_increase.keys()], axis=0).drop([\"19\" if \"19\" in toprrCBV_increase.keys()][0])\\n\\nplt.xticks(np.arange(0, len(rrCBV_dropped.keys())+1, 1.0))\\n\\nax1.plot(rrCBV_dropped.keys(), [1]*len(rrCBV_dropped.keys())) # Line indicating no rCBV change\\n\\nax1.plot(rrCBV_dropped.keys(), [rrCBV_dropped.mean()]*len(rrCBV_dropped.keys()), linestyle=\"--\") # Line indicating mean\\n\\nax1.plot(rrCBV_dropped.keys(), [rrCBV_dropped.mean() + 0.96*rrCBV_dropped.std()]*len(rrCBV_dropped.keys()), linestyle=\"-.\")\\n\\nax1.plot(rrCBV_dropped.keys(), [rrCBV_dropped.mean() - 0.96*rrCBV_dropped.std()]*len(rrCBV_dropped.keys()), linestyle=\"-.\")\\n\\nrrCBV_dropped.plot(ax=ax1)\\n\\nax1.set_xticklabels([region_names_clean[np.where(region_values == np.uint8(value))[0][0]] for value in rrCBV_dropped.keys()], rotation=-90)\\n\\nax1.legend([\"no change\", \"mean\", \"mean + 0.96 * std.\", \"mean - 0.96 * std.\"])\\n\\nax1.set_ylabel(\"rCBV change\")\\n\\nax1.set_title(\"Overall rCBV change from EPI distortion correction\")\\n'"
      ]
     },
     "execution_count": 82,
     "metadata": {},
     "output_type": "execute_result"
    }
   ],
   "source": [
    "#len(top_regions_desc)\n",
    "\"\"\"\n",
    "fig = plt.figure(figsize=np.array([12, 8]))\n",
    "gs1 = gridspec.GridSpec(2, 3)\n",
    "gs1.update(left=0.06, right=0.98, bottom=0.07, top=0.94, hspace=0, wspace=0)\n",
    "ax1 = plt.subplot(gs1[0, :])\n",
    "\n",
    "region_values_to_drop = [str(region_values[np.where(region_names_clean == region_name)[0][0]]) for region_name in regions_excluded_clean if str(region_values[np.where(region_names_clean == region_name)[0][0]]) in toprrCBV_increase.keys()]\n",
    "rrCBV_dropped = toprrCBV_increase.drop(region_values_to_drop, axis=0).drop([[\"19\"] if \"19\" in toprrCBV_increase.keys() else []][0])\n",
    "#rrCBV_dropped = toprrCBV_increase.drop([str(region_values[np.where(region_names_clean == region_name)[0][0]]) for region_name in regions_excluded_clean if str(\"11\") in toprrCBV_increase.keys()], axis=0).drop([\"19\" if \"19\" in toprrCBV_increase.keys()][0])\n",
    "\n",
    "plt.xticks(np.arange(0, len(rrCBV_dropped.keys())+1, 1.0))\n",
    "\n",
    "ax1.plot(rrCBV_dropped.keys(), [1]*len(rrCBV_dropped.keys())) # Line indicating no rCBV change\n",
    "\n",
    "ax1.plot(rrCBV_dropped.keys(), [rrCBV_dropped.mean()]*len(rrCBV_dropped.keys()), linestyle=\"--\") # Line indicating mean\n",
    "\n",
    "ax1.plot(rrCBV_dropped.keys(), [rrCBV_dropped.mean() + 0.96*rrCBV_dropped.std()]*len(rrCBV_dropped.keys()), linestyle=\"-.\")\n",
    "\n",
    "ax1.plot(rrCBV_dropped.keys(), [rrCBV_dropped.mean() - 0.96*rrCBV_dropped.std()]*len(rrCBV_dropped.keys()), linestyle=\"-.\")\n",
    "\n",
    "rrCBV_dropped.plot(ax=ax1)\n",
    "\n",
    "ax1.set_xticklabels([region_names_clean[np.where(region_values == np.uint8(value))[0][0]] for value in rrCBV_dropped.keys()], rotation=-90)\n",
    "\n",
    "ax1.legend([\"no change\", \"mean\", \"mean + 0.96 * std.\", \"mean - 0.96 * std.\"])\n",
    "\n",
    "ax1.set_ylabel(\"rCBV change\")\n",
    "\n",
    "ax1.set_title(\"Overall rCBV change from EPI distortion correction\")\n",
    "\"\"\"\n",
    "#p_values_df.sort_values(by=selected_comparison, ascending=True)[selected_comparison].name\n",
    "#temp = raw_vs_topup_e2_total_rcbv_change_p_values_series.sort_values(ascending=True)\n",
    "#temp.name = selected_comparison\n",
    "#temp.name"
   ]
  },
  {
   "cell_type": "code",
   "execution_count": 83,
   "metadata": {},
   "outputs": [
    {
     "name": "stdout",
     "output_type": "stream",
     "text": [
      "Comparison rvee2 has the smallest p-value\n"
     ]
    }
   ],
   "source": [
    "\"\"\"\n",
    "region_values_temp\n",
    "region_names\n",
    "for r_val in top_regions_desc:\n",
    "    print(\"%s: %s\" % (str(r_val), region_names_clean[np.where(region_values_temp == r_val)[0][0]]))\n",
    "\n",
    "#bp = raw_vs_topup_e1_relative_rcbv_change_df.boxplot(rot=-90, ax=ax, grid=False)\n",
    "\n",
    "all_total_rcbv_medians_df = raw_vs_topup_e1_relative_rcbv_change_df.median()\n",
    "\n",
    "all_total_rcbv_medians_df.sort_values(ascending=False, inplace=True)\n",
    "\n",
    "all_total_rcbv_sorted_df = raw_vs_topup_e1_relative_rcbv_change_df[all_total_rcbv_medians_df.index]\n",
    "\n",
    "bp = all_total_rcbv_sorted_df.boxplot(rot=-90, grid=False)\n",
    "#raw_vs_topup_e1_relative_rcbv_change_df.median().mean()\n",
    "#raw_vs_topup_e1_relative_rcbv_change_df.keys()\n",
    "\n",
    "\n",
    "\n",
    "\n",
    "bp.plot(all_total_rcbv_sorted_df.keys(), \\\n",
    "        [all_total_rcbv_sorted_df.median().mean() + 0.96 * all_total_rcbv_sorted_df.median().std()]*len(all_total_rcbv_sorted_df.keys()), \\\n",
    "       linestyle=\"--\")\n",
    "\n",
    "\"\"\"\n",
    "\n",
    "#[str(region_values[np.where(region_names_clean == region_name)[0][0]]) for region_name in regions_excluded_clean if str(\"11\") in toprrCBV_increase.keys()]\n",
    "#[str(region_values[np.where(region_names_clean == region_name)[0][0]]) for region_name in regions_excluded_clean if str(region_values[np.where(region_names_clean == region_name)[0][0]]) in toprrCBV_increase.keys()]\n",
    "#[[\"19\"] if \"19\" in toprrCBV_increase.keys() else []][0]\n",
    "#drop_regions_with_few_comparisons(raw_vs_topup_e1_relative_rcbv_change_df, num_comparisons_below=10).median()\n",
    "\"\"\"\n",
    "raw_vs_topup_e1_total_rcbv_change_significant_series = raw_vs_topup_e1_total_rcbv_change_p_values_series[raw_vs_topup_e1_total_rcbv_change_p_values_series < p_alpha]\n",
    "raw_vs_topup_e2_total_rcbv_change_significant_series = raw_vs_topup_e2_total_rcbv_change_p_values_series[raw_vs_topup_e2_total_rcbv_change_p_values_series < p_alpha]\n",
    "raw_vs_epic_e1_total_rcbv_change_significant_series = raw_vs_epic_e1_total_rcbv_change_p_values_series[raw_vs_epic_e1_total_rcbv_change_p_values_series < p_alpha]\n",
    "raw_vs_epic_e2_total_rcbv_change_significant_series = raw_vs_epic_e2_total_rcbv_change_p_values_series[raw_vs_epic_e2_total_rcbv_change_p_values_series < p_alpha]\n",
    "\"\"\"\n",
    "comparison_short_names = [\"rvte1\", \"rvte2\", \"rvee1\", \"rvee2\"]\n",
    "comparison_long_names = [\"Uncorrected vs. TOPUP corrected gradient echo\", \\\n",
    "                         \"Uncorrected vs. TOPUP corrected spin echo\", \\\n",
    "                         \"Uncorrected vs. EPIC corrected gradient echo\", \\\n",
    "                         \"Uncorrected vs. EPIC corrected spin echo\"]\n",
    "\n",
    "# Find common significant p-values (regions)\n",
    "p_values_df = pd.concat([\\\n",
    "                            raw_vs_topup_e1_total_rcbv_change_p_values_series, \\\n",
    "                            raw_vs_topup_e2_total_rcbv_change_p_values_series, \\\n",
    "                            raw_vs_epic_e1_total_rcbv_change_p_values_series, \\\n",
    "                            raw_vs_epic_e2_total_rcbv_change_p_values_series], \\\n",
    "                           axis=1, join=\"inner\", sort=False, keys=comparison_short_names)\n",
    "\n",
    "\n",
    "#print(\"p < %s\" % p_alpha)\n",
    "#print(significant_df)\n",
    "\"\"\"\n",
    "print(\"\\nSorted by rvte1\")\n",
    "print(significant_df.sort_values(by=\"rvte1\", ascending=True))\n",
    "\n",
    "print(\"\\nSorted by rvte2\")\n",
    "print(significant_df.sort_values(by=\"rvte2\", ascending=True))\n",
    "\n",
    "print(\"\\nSorted by rvee1\")\n",
    "print(significant_df.sort_values(by=\"rvee1\", ascending=True))\n",
    "\n",
    "print(\"\\nSorted by rvee2\")\n",
    "print(significant_df.sort_values(by=\"rvee2\", ascending=True))\n",
    "\n",
    "\"\"\"\n",
    "\n",
    "comparison_having_smallest_p_value = \\\n",
    "comparison_short_names[np.argmin([p_values_df.sort_values(by=col_name, ascending=True)[col_name][0] for col_name in comparison_short_names])]\n",
    "\n",
    "print(\"Comparison %s has the smallest p-value\" % comparison_having_smallest_p_value)\n",
    "\n",
    "selected_comparison = comparison_short_names[1]\n",
    "#selected_comparison = comparison_having_smallest_p_value\n",
    "\n",
    "#ser = p_values_df.sort_values(by=selected_comparison, ascending=True)[selected_comparison]\n",
    "\n",
    "if selected_comparison == \"rvte1\":\n",
    "    ser = raw_vs_topup_e1_total_rcbv_change_p_values_series.sort_values(ascending=True)\n",
    "elif selected_comparison == \"rvte2\":\n",
    "    ser = raw_vs_topup_e2_total_rcbv_change_p_values_series.sort_values(ascending=True)\n",
    "elif selected_comparison == \"rvee1\":\n",
    "    ser = raw_vs_epic_e1_total_rcbv_change_p_values_series.sort_values(ascending=True)\n",
    "elif selected_comparison == \"rvee2\":\n",
    "    ser = raw_vs_epic_e2_total_rcbv_change_p_values_series.sort_values(ascending=True)\n",
    "ser.name = selected_comparison\n",
    "\n",
    "#er_joined_df = ser.to_frame().join(rrCBV_dropped.to_frame(), how=\"inner\")\n",
    "\n",
    "#top_regions_desc = np.array([np.uint8(v) for v in ser_joined_df[0].keys()])\n",
    "#top_regions = ser_joined_df[0]\n",
    "\n",
    "#top_regions_desc = np.array([np.uint8(v) for v in ser.keys()])\n",
    "#top_regions = -1*ser.map(lambda v: (v - ser.mean())/ser.std())\n",
    "\n",
    "\n",
    "#significant_df.sort_values(by=\"rvte2\", ascending=True)[\"rvte2\"].keys()\n",
    "#top_regions_desc\n",
    "#significant_df.sort_values(by=\"rvte2\", ascending=True)[\"rvte2\"].to_frame().index\n",
    "#(ser - ser.mean())/ser.std()\n",
    "#1/-1*ser.map(lambda v: (v - ser.mean())/ser.std())\n",
    "#-1*ser.map(lambda v: (v - ser.mean())/ser.std()).to_frame()\n",
    "#ser\n",
    "#top_regions\n",
    "\n",
    "\n",
    "#rrCBV_dropped[ser.keys()]\n",
    "#np.array([np.uint8(v) for v in ser.keys()])\n",
    "#rrCBV_dropped.to_frame().join(ser.to_frame(), how=\"left\")\n",
    "\n",
    "#d.concat([ser_joined_df[0]]).keys()\n",
    "#selected_comparison\n",
    "#comparison_long_names[np.argwhere(comparison_short_names == selected_comparison)]\n",
    "\n",
    "#selected_comparison\n",
    "#comparison_short_names\n",
    "#np.argwhere()"
   ]
  },
  {
   "cell_type": "code",
   "execution_count": 84,
   "metadata": {},
   "outputs": [
    {
     "name": "stdout",
     "output_type": "stream",
     "text": [
      "53\n",
      "0.0009433962264150943\n",
      "1.057226298693433\n",
      "39    1.087072\n",
      "35    1.218101\n",
      "59    1.042190\n",
      "71    1.036547\n",
      "41    1.031901\n",
      "6     1.071654\n",
      "48    1.030249\n",
      "32    1.014998\n",
      "17    1.041555\n",
      "52    1.042614\n",
      "69    1.014793\n",
      "3     1.031655\n",
      "15    1.152350\n",
      "37    1.110875\n",
      "34    1.047881\n",
      "20    1.024604\n",
      "38    1.015154\n",
      "29    1.015881\n",
      "Name: 0, dtype: float64\n"
     ]
    },
    {
     "data": {
      "text/plain": [
       "'\\nelif use == \"hellinger_significant\":\\n    region_values_to_drop = [str(region_values[np.where(region_names_clean == region_name)[0][0]]) for region_name in regions_excluded_clean if str(region_values[np.where(region_names_clean == region_name)[0][0]]) in tophellinger.keys()]\\n    dropped = tophellinger.drop(region_values_to_drop, axis=0).drop([[\"19\"] if \"19\" in tophellinger.keys() else []][0])\\n\\n    upper = dropped[dropped > dropped.mean() + 0.96*dropped.std()]\\n    #lower = dropped[rrCBV_dropped < dropped.mean() - 0.96*dropped.std()]\\n    #combined = pd.concat([upper, lower])\\n    combined = pd.concat([upper])\\n\\n    fig = plt.figure(figsize=np.array([6, 4]))\\n    gs1 = gridspec.GridSpec(2, 3)\\n    gs1.update(left=0.06, right=0.98, bottom=0.07, top=0.94, hspace=0, wspace=0)\\n    ax1 = plt.subplot(gs1[0, :])\\n\\n    plt.xticks(np.arange(0, len(combined.keys())+1, 1.0))\\n\\n    combined.plot(ax=ax1, kind=\"bar\")\\n\\n    ax1.set_xticklabels([region_names_clean[np.where(region_values == np.uint8(value))[0][0]] for value in combined.keys()], rotation=-90)\\n\\n    ax1.set_ylabel(\"Hellinger distance\")\\n    ax1.set_title(\"Overall significant Hellinger distances from EPI distortion correction\")\\n    top_regions_desc = np.array([np.uint8(r) for r in combined.keys()])\\n    top_regions = combined\\n    print(combined)\\nelif use == \"wasserstein_significant\":\\n    region_values_to_drop = [str(region_values[np.where(region_names_clean == region_name)[0][0]]) for region_name in regions_excluded_clean if str(region_values[np.where(region_names_clean == region_name)[0][0]]) in topwasserstein.keys()]\\n    dropped = topwasserstein.drop(region_values_to_drop, axis=0).drop([[\"19\"] if \"19\" in topwasserstein.keys() else []][0])\\n\\n    upper = dropped[dropped > dropped.mean() + 0.96*dropped.std()]\\n    #lower = dropped[rrCBV_dropped < dropped.mean() - 0.96*dropped.std()]\\n    #combined = pd.concat([upper, lower])\\n    combined = pd.concat([upper])\\n\\n    fig = plt.figure(figsize=np.array([6, 4]))\\n    gs1 = gridspec.GridSpec(2, 3)\\n    gs1.update(left=0.06, right=0.98, bottom=0.07, top=0.94, hspace=0, wspace=0)\\n    ax1 = plt.subplot(gs1[0, :])\\n\\n    plt.xticks(np.arange(0, len(combined.keys())+1, 1.0))\\n\\n    combined.plot(ax=ax1, kind=\"bar\")\\n\\n    ax1.set_xticklabels([region_names_clean[np.where(region_values == np.uint8(value))[0][0]] for value in combined.keys()], rotation=-90)\\n\\n    ax1.set_ylabel(\"Wasserstein distance\")\\n    ax1.set_title(\"Overall significant Wasserstein distances from EPI distortion correction\")\\n    top_regions_desc = np.array([np.uint8(r) for r in combined.keys()])\\n    top_regions = combined\\n    print(combined)\\n'"
      ]
     },
     "execution_count": 84,
     "metadata": {},
     "output_type": "execute_result"
    }
   ],
   "source": [
    "if use == \"increase_significant\":\n",
    "    if selected_comparison == \"rvte1\":\n",
    "        rrCBV = drop_regions_with_few_comparisons(raw_vs_topup_e1_relative_rcbv_change_df, num_comparisons_below=10).median()\n",
    "        noofobs = drop_regions_with_few_comparisons(raw_vs_topup_e1_relative_rcbv_change_df, num_comparisons_below=10).notna().sum()\n",
    "    elif selected_comparison == \"rvte2\":\n",
    "        rrCBV = drop_regions_with_few_comparisons(raw_vs_topup_e2_relative_rcbv_change_df, num_comparisons_below=10).median()\n",
    "        noofobs = drop_regions_with_few_comparisons(raw_vs_topup_e2_relative_rcbv_change_df, num_comparisons_below=10).notna().sum()\n",
    "    elif selected_comparison == \"rvee1\":\n",
    "        rrCBV = drop_regions_with_few_comparisons(raw_vs_epic_e1_relative_rcbv_change_df, num_comparisons_below=10).median()\n",
    "        noofobs = drop_regions_with_few_comparisons(raw_vs_epic_e1_relative_rcbv_change_df, num_comparisons_below=10).notna().sum()\n",
    "    elif selected_comparison == \"rvee2\":\n",
    "        rrCBV = drop_regions_with_few_comparisons(raw_vs_epic_e2_relative_rcbv_change_df, num_comparisons_below=10).median()\n",
    "        noofobs = drop_regions_with_few_comparisons(raw_vs_epic_e2_relative_rcbv_change_df, num_comparisons_below=10).notna().sum()\n",
    "    \n",
    "    region_values_to_drop = [str(region_values[np.where(region_names_clean == region_name)[0][0]]) for region_name in regions_excluded_clean if str(region_values[np.where(region_names_clean == region_name)[0][0]]) in rrCBV.keys()]\n",
    "    rrCBV_dropped = rrCBV.drop(region_values_to_drop, axis=0).drop([[\"19\"] if \"19\" in rrCBV.keys() else []][0])\n",
    "    \n",
    "    #upper = rrCBV_dropped[rrCBV_dropped > rrCBV_dropped.mean() + 0.96*rrCBV_dropped.std()]\n",
    "    #lower = rrCBV_dropped[rrCBV_dropped < rrCBV_dropped.mean() - 0.96*rrCBV_dropped.std()]\n",
    "    #combined = pd.concat([upper, lower])\n",
    "    \n",
    "    upper = ser.to_frame().join(rrCBV_dropped.to_frame(), how=\"inner\")\n",
    "    \n",
    "    #p_values_joined_ser = pvalues_ser.to_frame().join(all_total_rcbv_medians_rdropped_ser.to_frame(), how=\"inner\", rsuffix='_right')[\"0\"]\n",
    "    \n",
    "    p_values_joined_significant_ser = upper[selected_comparison][upper[selected_comparison] < p_alpha/len(upper[selected_comparison])] # Bonferroni correction for multiple tests. https://en.wikipedia.org/wiki/Bonferroni_correction    \n",
    "    \n",
    "    print(len(upper[selected_comparison]))\n",
    "    print(p_alpha/len(upper[selected_comparison]))\n",
    "    \n",
    "    p_values_joined_significant_sorted_ser = p_values_joined_significant_ser.sort_values(ascending=True)\n",
    "    \n",
    "    upper_rrCBV = pd.concat([upper[0][p_values_joined_significant_sorted_ser.index]]) # Remains being a pd-.series\n",
    "    \n",
    "    #upper_rrCBV = upper_rrCBV[upper_rrCBV > 1]\n",
    "    \n",
    "    fig = plt.figure(figsize=np.array([6, 5.3]))\n",
    "    gs1 = gridspec.GridSpec(2, 3)\n",
    "    gs1.update(left=0.12, right=0.92, bottom=0.02, top=0.98, hspace=0, wspace=0)\n",
    "    ax1 = plt.subplot(gs1[0, :])\n",
    "    \n",
    "    plt.xticks(np.arange(0, len(upper_rrCBV.keys())+1, 1.0))\n",
    "    \n",
    "    ax1.plot(upper_rrCBV.keys(), [upper_rrCBV.mean()]*len(upper_rrCBV.keys()), linestyle=\"--\") # Line indicating mean\n",
    "    \n",
    "    print(upper_rrCBV.mean())\n",
    "    \n",
    "    upper_rrCBV.plot(ax=ax1)\n",
    "    \n",
    "    xticklabels = []\n",
    "    for tick, value in zip(np.arange(0, len(upper_rrCBV.keys())), upper_rrCBV.keys()):\n",
    "        \n",
    "        \n",
    "        region_name = region_names_clean[np.where(region_values == np.uint8(value))[0][0]]\n",
    "        \n",
    "        if region_name[0:len(\"Left & right\")] == \"Left & right\":\n",
    "            region_name = region_name[len(\"Left & right\"):len(region_name)]\n",
    "        \n",
    "        region_text_space = [\" \" for s in range(52-len(\"Left & right\"))]\n",
    "        \n",
    "        if len(region_name) > len(region_text_space):\n",
    "            for i in range(len(region_name)//2, len(region_text_space)):\n",
    "                if region_name[i] == \" \":\n",
    "                    newline_index = i\n",
    "                    region_name_line_1 = region_name[0:newline_index]\n",
    "                    region_name_line_2 = region_name[newline_index+1:len(region_name)]\n",
    "                    break\n",
    "            \n",
    "            #region_name = region_name[0:len(region_text_space)]\n",
    "            #region_text_space[0:len(region_name)] = region_name\n",
    "            #region_text_space[-3:] = \"...\"\n",
    "            region_text = region_name_line_1 + \"\\n     \" + region_name_line_2\n",
    "        else:\n",
    "            region_text_space[0:len(region_name)] = region_name\n",
    "            region_text = \"\".join(region_text_space)\n",
    "        \n",
    "        #description_text = str(tick+1) + \". \" + region_text + \"\\n    (n=\" + \\\n",
    "        #format(noofobs[value], '02d') + \", p=\" + \"{0:.6f}\".format(upper[selected_comparison][value]) + \")\"\n",
    "        \n",
    "        description_text = str(tick+1) + \". \" + region_text\n",
    "        \n",
    "        xticklabels += [description_text]\n",
    "    \n",
    "    \n",
    "    #ax1.set_xticklabels([region_names_clean[np.where(region_values == np.uint8(value))[0][0]] + \"\\n(n=\" + str(noofobs[value]) + \", p=\" + \"{0:.6f}\".format(upper[selected_comparison][value]) + \")\" for value in upper_rrCBV.keys()], rotation=-90, multialignment=\"left\")\n",
    "    ax1.set_xticklabels(xticklabels, rotation=-90, multialignment=\"left\")\n",
    "    #ax1.set_ylim(auto=True)\n",
    "    \n",
    "    ax1.set_ylabel(\"rCBV change (1 = no change)\", rotation=-90, labelpad=11)\n",
    "    #ax1.set_title(comparison_long_names[np.argwhere(np.array(comparison_short_names) == selected_comparison)[0][0]] + \" significant rCBV increase\")\n",
    "    \n",
    "    ax_sec = ax1.twinx()\n",
    "    ax_sec.set_yticklabels([])\n",
    "    ax_sec.yaxis.set_ticks_position('none')\n",
    "    ax_sec.set_ylabel(comparison_long_names[np.argwhere(np.array(comparison_short_names) == selected_comparison)[0][0]] + \" significant rCBV change\", color='b', rotation=-90, labelpad=17, position=(2, 0))\n",
    "    \n",
    "    ax1.legend([\"mean rCBV change\"], loc=\"upper center\")\n",
    "    \n",
    "    top_regions_desc = np.array([np.uint8(r) for r in upper_rrCBV.keys()])\n",
    "    top_regions = upper_rrCBV\n",
    "    print(upper_rrCBV)\n",
    "elif use == \"decrease_significant\":\n",
    "    if selected_comparison == \"rvte1\":\n",
    "        rrCBV = drop_regions_with_few_comparisons(raw_vs_topup_e1_relative_rcbv_change_df, num_comparisons_below=10).median()\n",
    "    elif selected_comparison == \"rvte2\":\n",
    "        rrCBV = drop_regions_with_few_comparisons(raw_vs_topup_e2_relative_rcbv_change_df, num_comparisons_below=10).median()\n",
    "    elif selected_comparison == \"rvee1\":\n",
    "        rrCBV = drop_regions_with_few_comparisons(raw_vs_epic_e1_relative_rcbv_change_df, num_comparisons_below=10).median()\n",
    "    elif selected_comparison == \"rvee2\":\n",
    "        rrCBV = drop_regions_with_few_comparisons(raw_vs_epic_e2_relative_rcbv_change_df, num_comparisons_below=10).median()\n",
    "        \n",
    "    rrCBV = 1/rrCBV\n",
    "    \n",
    "    region_values_to_drop = [str(region_values[np.where(region_names_clean == region_name)[0][0]]) for region_name in regions_excluded_clean if str(region_values[np.where(region_names_clean == region_name)[0][0]]) in rrCBV.keys()]\n",
    "    rrCBV_dropped = rrCBV.drop(region_values_to_drop, axis=0).drop([[\"19\"] if \"19\" in rrCBV.keys() else []][0])\n",
    "    \n",
    "    #upper = rrCBV_dropped[rrCBV_dropped > rrCBV_dropped.mean() + 0.96*rrCBV_dropped.std()]\n",
    "    #lower = rrCBV_dropped[rrCBV_dropped < rrCBV_dropped.mean() - 0.96*rrCBV_dropped.std()]\n",
    "    #combined = pd.concat([upper, lower])\n",
    "    upper = ser.to_frame().join(rrCBV_dropped.to_frame(), how=\"inner\")\n",
    "    \n",
    "    p_values_joined_significant_ser = upper[selected_comparison][upper[selected_comparison] < p_alpha/len(upper[selected_comparison])] # Bonferroni correction for multiple tests. https://en.wikipedia.org/wiki/Bonferroni_correction    \n",
    "    \n",
    "    p_values_joined_significant_sorted_ser = p_values_joined_significant_ser.sort_values(ascending=True)\n",
    "    \n",
    "    upper_rrCBV = pd.concat([upper[0][p_values_joined_significant_sorted_ser.index]]) # Remains being a pd-.series\n",
    "    \n",
    "    upper_rrCBV = upper_rrCBV[upper_rrCBV > 1]\n",
    "        \n",
    "    fig = plt.figure(figsize=np.array([8, 7]))\n",
    "    gs1 = gridspec.GridSpec(2, 3)\n",
    "    gs1.update(left=0.11, right=0.97, bottom=0.07, top=0.94, hspace=0, wspace=0)\n",
    "    ax1 = plt.subplot(gs1[0, :])\n",
    "    \n",
    "    plt.xticks(np.arange(0, len(upper_rrCBV.keys())+1, 1.0))\n",
    "    \n",
    "    upper_rrCBV.plot(ax=ax1)\n",
    "    \n",
    "    ax1.set_xticklabels([\"(p=\" + \"{0:.6f}\".format(upper[selected_comparison][value]) + \") \" + region_names_clean[np.where(region_values == np.uint8(value))[0][0]] for value in upper_rrCBV.keys()], rotation=-90)\n",
    "    \n",
    "    ax1.set_ylabel(\"rCBV change\")\n",
    "    ax1.set_title(comparison_long_names[np.argwhere(np.array(comparison_short_names) == selected_comparison)[0][0]] + \" significant rCBV decrease\")\n",
    "    top_regions_desc = np.array([np.uint8(r) for r in upper_rrCBV.keys()])\n",
    "    \n",
    "    top_regions = upper_rrCBV\n",
    "    print(upper_rrCBV)\n",
    "\"\"\"\n",
    "elif use == \"hellinger_significant\":\n",
    "    region_values_to_drop = [str(region_values[np.where(region_names_clean == region_name)[0][0]]) for region_name in regions_excluded_clean if str(region_values[np.where(region_names_clean == region_name)[0][0]]) in tophellinger.keys()]\n",
    "    dropped = tophellinger.drop(region_values_to_drop, axis=0).drop([[\"19\"] if \"19\" in tophellinger.keys() else []][0])\n",
    "\n",
    "    upper = dropped[dropped > dropped.mean() + 0.96*dropped.std()]\n",
    "    #lower = dropped[rrCBV_dropped < dropped.mean() - 0.96*dropped.std()]\n",
    "    #combined = pd.concat([upper, lower])\n",
    "    combined = pd.concat([upper])\n",
    "\n",
    "    fig = plt.figure(figsize=np.array([6, 4]))\n",
    "    gs1 = gridspec.GridSpec(2, 3)\n",
    "    gs1.update(left=0.06, right=0.98, bottom=0.07, top=0.94, hspace=0, wspace=0)\n",
    "    ax1 = plt.subplot(gs1[0, :])\n",
    "\n",
    "    plt.xticks(np.arange(0, len(combined.keys())+1, 1.0))\n",
    "\n",
    "    combined.plot(ax=ax1, kind=\"bar\")\n",
    "\n",
    "    ax1.set_xticklabels([region_names_clean[np.where(region_values == np.uint8(value))[0][0]] for value in combined.keys()], rotation=-90)\n",
    "\n",
    "    ax1.set_ylabel(\"Hellinger distance\")\n",
    "    ax1.set_title(\"Overall significant Hellinger distances from EPI distortion correction\")\n",
    "    top_regions_desc = np.array([np.uint8(r) for r in combined.keys()])\n",
    "    top_regions = combined\n",
    "    print(combined)\n",
    "elif use == \"wasserstein_significant\":\n",
    "    region_values_to_drop = [str(region_values[np.where(region_names_clean == region_name)[0][0]]) for region_name in regions_excluded_clean if str(region_values[np.where(region_names_clean == region_name)[0][0]]) in topwasserstein.keys()]\n",
    "    dropped = topwasserstein.drop(region_values_to_drop, axis=0).drop([[\"19\"] if \"19\" in topwasserstein.keys() else []][0])\n",
    "\n",
    "    upper = dropped[dropped > dropped.mean() + 0.96*dropped.std()]\n",
    "    #lower = dropped[rrCBV_dropped < dropped.mean() - 0.96*dropped.std()]\n",
    "    #combined = pd.concat([upper, lower])\n",
    "    combined = pd.concat([upper])\n",
    "\n",
    "    fig = plt.figure(figsize=np.array([6, 4]))\n",
    "    gs1 = gridspec.GridSpec(2, 3)\n",
    "    gs1.update(left=0.06, right=0.98, bottom=0.07, top=0.94, hspace=0, wspace=0)\n",
    "    ax1 = plt.subplot(gs1[0, :])\n",
    "\n",
    "    plt.xticks(np.arange(0, len(combined.keys())+1, 1.0))\n",
    "\n",
    "    combined.plot(ax=ax1, kind=\"bar\")\n",
    "\n",
    "    ax1.set_xticklabels([region_names_clean[np.where(region_values == np.uint8(value))[0][0]] for value in combined.keys()], rotation=-90)\n",
    "\n",
    "    ax1.set_ylabel(\"Wasserstein distance\")\n",
    "    ax1.set_title(\"Overall significant Wasserstein distances from EPI distortion correction\")\n",
    "    top_regions_desc = np.array([np.uint8(r) for r in combined.keys()])\n",
    "    top_regions = combined\n",
    "    print(combined)\n",
    "\"\"\""
   ]
  },
  {
   "cell_type": "code",
   "execution_count": 85,
   "metadata": {},
   "outputs": [
    {
     "data": {
      "text/plain": [
       "39    0.919902\n",
       "35    0.820950\n",
       "59    0.959518\n",
       "71    0.964742\n",
       "41    0.969085\n",
       "6     0.933137\n",
       "48    0.970639\n",
       "32    0.985224\n",
       "17    0.960103\n",
       "52    0.959128\n",
       "69    0.985423\n",
       "3     0.969317\n",
       "15    0.867792\n",
       "37    0.900191\n",
       "34    0.954306\n",
       "20    0.975986\n",
       "38    0.985073\n",
       "29    0.984367\n",
       "Name: 0, dtype: float64"
      ]
     },
     "execution_count": 85,
     "metadata": {},
     "output_type": "execute_result"
    }
   ],
   "source": [
    "labels_path\n",
    "type(region_values[0])\n",
    "1/upper_rrCBV"
   ]
  },
  {
   "cell_type": "code",
   "execution_count": 86,
   "metadata": {},
   "outputs": [
    {
     "data": {
      "text/plain": [
       "18"
      ]
     },
     "execution_count": 86,
     "metadata": {},
     "output_type": "execute_result"
    }
   ],
   "source": [
    "len(top_regions_desc)"
   ]
  },
  {
   "cell_type": "code",
   "execution_count": 87,
   "metadata": {},
   "outputs": [],
   "source": [
    "#new_labels_path = '/run/user/1000/gvfs/smb-share:server=192.168.1.207,share=hdd3tb1/data/IVS_EPI_BASELINE/epi_corrections_out_2019_07_02/EPI_applyepic/Anonymized/DEFACED_IVS/682599102/DAY_0000/No_DeFacing_WIP_GE-SE_EPI_SSH_v1_32CH_SENSE/_e1_labels_Neuromorphometrics.nii'"
   ]
  },
  {
   "cell_type": "code",
   "execution_count": 88,
   "metadata": {},
   "outputs": [
    {
     "name": "stdout",
     "output_type": "stream",
     "text": [
      "Excluding region values:\n",
      "[1, 2, 10, 12, 13]\n"
     ]
    }
   ],
   "source": [
    "#Find the top regions from the regions file\n",
    "labels_data, labels_dims, labels_hdr = load_nifti(str(labels_path))\n",
    "labels_data = xyz_to_zyx(labels_data)\n",
    "\n",
    "labels_data_copy = labels_data.copy().astype(np.float64)\n",
    "\n",
    "#value = len(top_regions_desc)\n",
    "\n",
    "to_exclude = [np.uint8(region_values[np.where(region_names_clean == name)[0][0]]) for name in regions_excluded_clean]# + [np.uint8(18)] # 18 was excluded from histogram analysis\n",
    "# and it exists in labels_data_copy, but not in region_values , thus it should be removed from labels_data_copy\n",
    "print(\"Excluding region values:\")\n",
    "print(to_exclude)\n",
    "\n",
    "for n in np.array(np.unique(labels_data_copy)):\n",
    "    if np.uint8(n) not in top_regions_desc:\n",
    "        labels_data_copy[labels_data_copy == np.float64(n)] = 0\n",
    "    elif np.uint8(n) in to_exclude:\n",
    "        labels_data_copy[labels_data_copy == np.float64(n)] = 0\n",
    "\n",
    "for n in top_regions_desc:\n",
    "    if not n in to_exclude:\n",
    "        #labels_data_copy[labels_data == n] = value\n",
    "        #value -= 1\n",
    "        labels_data_copy[labels_data == np.float64(n)] = top_regions[str(n)]"
   ]
  },
  {
   "cell_type": "code",
   "execution_count": 89,
   "metadata": {},
   "outputs": [
    {
     "data": {
      "text/plain": [
       "array([0.        , 1.01479311, 1.01499798, 1.0151536 , 1.01588113,\n",
       "       1.02460439, 1.03024915, 1.03165468, 1.03190087, 1.03654673,\n",
       "       1.04155477, 1.04218981, 1.04261364, 1.04788147, 1.07165364,\n",
       "       1.08707178, 1.11087519, 1.15235025, 1.2181012 ])"
      ]
     },
     "execution_count": 89,
     "metadata": {},
     "output_type": "execute_result"
    }
   ],
   "source": [
    "np.unique(labels_data_copy)"
   ]
  },
  {
   "cell_type": "code",
   "execution_count": 90,
   "metadata": {},
   "outputs": [],
   "source": [
    "labels_affine = nib.load(str(labels_path)).affine"
   ]
  },
  {
   "cell_type": "code",
   "execution_count": 91,
   "metadata": {},
   "outputs": [
    {
     "name": "stdout",
     "output_type": "stream",
     "text": [
      "Number of regions excluded: 53\n"
     ]
    }
   ],
   "source": [
    "print(\"Number of regions excluded: %i\" % (np.unique(labels_data).shape[0] - np.unique(labels_data_copy).shape[0]))"
   ]
  },
  {
   "cell_type": "code",
   "execution_count": 92,
   "metadata": {},
   "outputs": [],
   "source": [
    "# For saving to nifti\n",
    "img = nib.spatialimages.SpatialImage(xyz_to_zyx(labels_data_copy), affine=labels_affine, header=labels_hdr)"
   ]
  },
  {
   "cell_type": "code",
   "execution_count": 93,
   "metadata": {},
   "outputs": [
    {
     "data": {
      "text/plain": [
       "'../../epi_corrections_out_2019_12_03_tumor_exluded_from_rcbv_better_rois/CBV_histograms_bins_64_min_0_max_12_region_rec_c_frac_0.7_region_min_vox_30'"
      ]
     },
     "execution_count": 93,
     "metadata": {},
     "output_type": "execute_result"
    }
   ],
   "source": [
    "CBV_out_dir"
   ]
  },
  {
   "cell_type": "code",
   "execution_count": 94,
   "metadata": {},
   "outputs": [],
   "source": [
    "output_rel_dir = CBV_out_dir\n",
    "png_prefix = \"top-\" + str(len(top_regions_desc)) + \"-\" + use\n",
    "png_file_1 = output_rel_dir + \"/\" + png_prefix + \"-axial-inferior-superior.png\"\n",
    "png_file_2 = output_rel_dir + \"/\" + png_prefix + \"-sagittal-r-l.png\"\n",
    "png_file_3 = output_rel_dir + \"/\" + png_prefix + \"-mixed-r-l-anterior-posterior.png\""
   ]
  },
  {
   "cell_type": "code",
   "execution_count": 95,
   "metadata": {},
   "outputs": [],
   "source": [
    "nifti_file = output_rel_dir + \"/\" + png_prefix + \".nii\""
   ]
  },
  {
   "cell_type": "code",
   "execution_count": 96,
   "metadata": {},
   "outputs": [],
   "source": [
    "# Write the nifti file\n",
    "#nib.save(img, nifti_file)\n",
    "#orig = Quaternion(0.0019763238787262496,4.9112439271825864e-05,0.9999852343690417,0.0050617341749588825)\n",
    "#rotate_180 = Quaternion(0.9992201904128482,-0.03947550483899071,0.0006677546500783195,0.0004979064588126062)\n",
    "#rotate_360 = Quaternion(0.007896817828317755,0.0006552067080306988,-0.999956155951591,-0.004989540514125373)\n",
    "#spim_widget.transform.toTransformData()\n",
    "#spim_widget.transform.setQuaternion(orig)\n",
    "#spim_widget.transform.setQuaternion(rotate_180)\n",
    "#spim_widget.transform.setQuaternion(rotate_360)"
   ]
  },
  {
   "cell_type": "code",
   "execution_count": 97,
   "metadata": {},
   "outputs": [
    {
     "data": {
      "text/plain": [
       "'\\n# Third view\\nspim_widget.transform.setQuaternion(Quaternion(0.15439557175611332,0.7306565059064623,0.5147772256894417,0.4210789500980262))\\n# Take snapshot\\nspim_widget.saveFrame(png_file_3)\\n'"
      ]
     },
     "execution_count": 97,
     "metadata": {},
     "output_type": "execute_result"
    }
   ],
   "source": [
    "# Visualize/save the top regions as pngs\n",
    "volfig()\n",
    "spim_widget = \\\n",
    "volshow(labels_data_copy, stackUnits=labels_dims, interpolation=\"nearest\")\n",
    "spim_widget.set_colormap(\"hot\")\n",
    "\n",
    "# Set bounding box not visible\n",
    "spim_widget.transform.setBox(False)\n",
    "\n",
    "# Zoom\n",
    "spim_widget.transform.setZoom(1.4)\n",
    "# NB: The rotations are not adding up.\n",
    "# each spim_widget.transform.setRotation call\n",
    "# rotates from original orientation given by volshow()\n",
    "\n",
    "#\"\"\"\n",
    "# First view\n",
    "spim_widget.transform.setQuaternion(Quaternion(0.0019763238787262496,4.9112439271825864e-05,0.9999852343690417,0.0050617341749588825)) # Up\n",
    "#spim_widget.transform.setQuaternion(Quaternion(-0.018120594789136298,0.708165522710642,0.7057824278204939,0.006663271093062176))\n",
    "# Take snapshot\n",
    "#spim_widget.saveFrame(png_file_1)\n",
    "#\"\"\"\n",
    "\n",
    "\"\"\" \n",
    "# Second view\n",
    "spim_widget.transform.setQuaternion(Quaternion(-0.0020183487063897406,0.7073151860516024,-0.0032067927203972405,0.7068881584667737))\n",
    "# Take snapshot\n",
    "spim_widget.saveFrame(png_file_2)\n",
    "\"\"\"\n",
    "\n",
    "\"\"\"\n",
    "# Third view\n",
    "spim_widget.transform.setQuaternion(Quaternion(0.15439557175611332,0.7306565059064623,0.5147772256894417,0.4210789500980262))\n",
    "# Take snapshot\n",
    "spim_widget.saveFrame(png_file_3)\n",
    "\"\"\"\n",
    "\n",
    "#spim_widget.closeMe()"
   ]
  },
  {
   "cell_type": "markdown",
   "metadata": {},
   "source": [
    "```bash\n",
    "# Converting and merging top gifs to powerpoint .mp4\n",
    "\n",
    "ls top-134-combined-*.png | xargs -I file convert file -fill \"rgb(173, 216, 230)\" -opaque black file\n",
    "\n",
    "ffmpeg -i top-134-3d.gif -vf \"pad=ceil(iw/2)*2:ceil(ih/2)*2\" -c:v libx264 -preset slow -profile:v high -level:v 4.0 -pix_fmt yuv420p -crf 1 top-134-3d.mp4\n",
    "\n",
    "ffmpeg -i top-134-3d-picked.gif -vf \"pad=ceil(iw/2)*2:ceil(ih/2)*2\" -c:v libx264 -preset slow -profile:v high -level:v 4.0 -pix_fmt yuv420p -crf 1 top-134-3d-picked.mp4\n",
    "\n",
    "ffmpeg -i top-134-3d-picked-2.gif -vf \"pad=ceil(iw/2)*2:ceil(ih/2)*2\" -c:v libx264 -preset slow -profile:v high -level:v 4.0 -pix_fmt yuv420p -crf 1 top-134-3d-picked-2.mp4\n",
    "\n",
    "\n",
    "cat concat-mp4-list.txt\n",
    "file top-134-3d.mp4\n",
    "top-134-3d-picked.mp4\n",
    "ffmpeg -f concat -i concat-mp4-list.txt -c copy top-134-3d-all.mp4\n",
    "\n",
    "# Commands for Figure 1 in the ESNR poster\n",
    "\n",
    "ffmpeg -framerate 1 -pattern_type glob -i 'e1-dist-ax-*.png' -vf \"pad=ceil(iw/2)*2:ceil(ih/2)*2\" -c:v libx264 -preset slow -profile:v high -level:v 4.0 -pix_fmt yuv420p -crf 1 e1-dist-ax-neg-pos.mp4\n",
    "\n",
    "ffmpeg -framerate 1 -pattern_type glob -i 'e2-dist-ax-*.png' -vf \"pad=ceil(iw/2)*2:ceil(ih/2)*2\" -c:v libx264 -preset slow -profile:v high -level:v 4.0 -pix_fmt yuv420p -crf 1 e2-dist-ax-neg-pos.mp4\n",
    "\n",
    "cd direct\n",
    "ffmpeg -framerate 1 -pattern_type glob -i '*.png' -vf \"pad=ceil(iw/2)*2:ceil(ih/2)*2\" -c:v libx264 -preset slow -profile:v high -level:v 4.0 -pix_fmt yuv420p -crf 1 neg-pos.mp4\n",
    "\n",
    "cd ..\n",
    "\n",
    "# 488 was height of the other videos\n",
    "\n",
    "# resize preserving aspect ratio\n",
    "ffmpeg -i neg-pos.mp4 -filter_complex [0:v]scale=-2:488[Scaled] -map [Scaled] neg-pos-scaled.mp4\n",
    "\n",
    "# stack videos\n",
    "ffmpeg -i e1-dist-ax-neg-pos.mp4 -i e2-dist-ax-neg-pos.mp4 -i neg-pos-scaled.mp4 -filter_complex hstack=inputs=3 e1-e2-dist-ax-neg-pos.mp4\n",
    "\n",
    "# convert to gif\n",
    "ffmpeg -i e1-e2-dist-ax-neg-pos.mp4 e1-e2-dist-ax-neg-pos.gif\n",
    "\n",
    "\n",
    "# Only frame with positive phase encoding\n",
    "ffmpeg -i direct/pos.png -filter_complex [0:v]scale=-2:488[Scaled] -map [Scaled] pos-scaled.png\n",
    "\n",
    "ffmpeg -i e1-dist-ax-pos.png -i e2-dist-ax-pos.png -i pos-scaled.png -filter_complex hstack=inputs=3 e1-e2-dist-ax-pos.png\n",
    "\n",
    "# Count the number of scans with Philips SENSE\n",
    "ls -d Anonymized/DEFACED_IVS/*/*/* | grep -i sense | wc -l\n",
    "```"
   ]
  }
 ],
 "metadata": {
  "kernelspec": {
   "display_name": "Python 3",
   "language": "python",
   "name": "python3"
  },
  "language_info": {
   "codemirror_mode": {
    "name": "ipython",
    "version": 3
   },
   "file_extension": ".py",
   "mimetype": "text/x-python",
   "name": "python",
   "nbconvert_exporter": "python",
   "pygments_lexer": "ipython3",
   "version": "3.6.7"
  }
 },
 "nbformat": 4,
 "nbformat_minor": 4
}
