{
 "cells": [
  {
   "cell_type": "markdown",
   "metadata": {},
   "source": [
    "This notebook contains code for computing mean tumor ROIs from the ONCOHabitats pipeline."
   ]
  },
  {
   "cell_type": "markdown",
   "metadata": {},
   "source": [
    "1. Specify epi_corrections output directory"
   ]
  },
  {
   "cell_type": "code",
   "execution_count": 17,
   "metadata": {},
   "outputs": [
    {
     "data": {
      "text/plain": [
       "'../../epi_corrections_out_2019_07_02'"
      ]
     },
     "execution_count": 17,
     "metadata": {},
     "output_type": "execute_result"
    }
   ],
   "source": [
    "output_directory_suffix = \"2019_07_02\"\n",
    "# On local file system:\n",
    "corrections_base_directory = \"../../epi_corrections_out_\" + output_directory_suffix\n",
    "# On samba share (remote file sytem):\n",
    "#corrections_base_directory = \"/run/user/1000/gvfs/smb-share:server=192.168.1.207,share=hdd3tb1/data/IVS_EPI_BASELINE/epi_corrections_out_\" + output_directory_suffix\n",
    "corrections_base_directory"
   ]
  },
  {
   "cell_type": "markdown",
   "metadata": {},
   "source": [
    "2. Find the MNI-normalized ROIs."
   ]
  },
  {
   "cell_type": "code",
   "execution_count": 18,
   "metadata": {},
   "outputs": [],
   "source": [
    "%run utils.py\n",
    "%run search.py"
   ]
  },
  {
   "cell_type": "code",
   "execution_count": 19,
   "metadata": {},
   "outputs": [],
   "source": [
    "ONCOHabitats_results_folder = \"ONCOHabitats_results\"\n",
    "segment_files_relative = find_segment_files(corrections_base_directory + \"/\" + ONCOHabitats_results_folder)\n",
    "segment_paths_relative = [Path(file) for file in segment_files_relative]\n",
    "segments_files_full = [str(Path.joinpath(Path.cwd().parent.parent, *relative.parts[2:])) for relative in segment_paths_relative]"
   ]
  },
  {
   "cell_type": "code",
   "execution_count": 20,
   "metadata": {},
   "outputs": [
    {
     "data": {
      "text/plain": [
       "45"
      ]
     },
     "execution_count": 20,
     "metadata": {},
     "output_type": "execute_result"
    }
   ],
   "source": [
    "len(segments_files_full)"
   ]
  },
  {
   "cell_type": "markdown",
   "metadata": {},
   "source": [
    "3. Compute means"
   ]
  },
  {
   "cell_type": "code",
   "execution_count": 14,
   "metadata": {},
   "outputs": [],
   "source": [
    "mean_rois_rel_odir = corrections_base_directory + \"/render_rois\"\n",
    "\n",
    "tm1file = mean_rois_rel_odir + \"/\" + \"mean.nii\"\n",
    "\n",
    "tm1 = combine_and_compute_mean(segments_files_full, _, apply_brain_mask=False)\n",
    "nib.save(tm1, tm1file)"
   ]
  },
  {
   "cell_type": "code",
   "execution_count": 21,
   "metadata": {},
   "outputs": [],
   "source": [
    "# Only enhancing tumor\n",
    "mean_rois_rel_odir = corrections_base_directory + \"/render_rois\"\n",
    "\n",
    "tm1file = mean_rois_rel_odir + \"/\" + \"mean_necrotic_tumor.nii\"\n",
    "\n",
    "tm1 = combine_and_compute_mean_for_roi(segments_files_full, _, roi_value=1, apply_brain_mask=False)\n",
    "nib.save(tm1, tm1file)"
   ]
  },
  {
   "cell_type": "markdown",
   "metadata": {},
   "source": [
    "4. Compute medians"
   ]
  },
  {
   "cell_type": "code",
   "execution_count": 15,
   "metadata": {},
   "outputs": [],
   "source": [
    "median_rois_rel_odir = corrections_base_directory + \"/render_rois\"\n",
    "\n",
    "tm1 = mean_rois_rel_odir + \"/\" + \"median.nii\"\n",
    "\n",
    "tm1 = combine_and_compute_median(segments_files_full, _, apply_brain_mask=False)\n",
    "nib.save(tm1, tm1file)"
   ]
  },
  {
   "cell_type": "code",
   "execution_count": null,
   "metadata": {},
   "outputs": [],
   "source": []
  }
 ],
 "metadata": {
  "kernelspec": {
   "display_name": "Python 3",
   "language": "python",
   "name": "python3"
  },
  "language_info": {
   "codemirror_mode": {
    "name": "ipython",
    "version": 3
   },
   "file_extension": ".py",
   "mimetype": "text/x-python",
   "name": "python",
   "nbconvert_exporter": "python",
   "pygments_lexer": "ipython3",
   "version": "3.7.3"
  }
 },
 "nbformat": 4,
 "nbformat_minor": 4
}
