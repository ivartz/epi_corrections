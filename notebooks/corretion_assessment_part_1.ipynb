{
 "cells": [
  {
   "cell_type": "markdown",
   "metadata": {},
   "source": [
    "# Evaluating effects of FSL TOPUP and EPIC\n",
    "..on individual MNI regions provided by Neuromorphometrics, Inc. (http://Neuromorphometrics.com/)\n",
    "# Part 1: Running all corrections."
   ]
  },
  {
   "cell_type": "markdown",
   "metadata": {},
   "source": [
    "Printing settings"
   ]
  },
  {
   "cell_type": "code",
   "execution_count": 1,
   "metadata": {},
   "outputs": [],
   "source": [
    "# Run once to store stdout\n",
    "import sys\n",
    "nb_stdout = sys.stdout"
   ]
  },
  {
   "cell_type": "code",
   "execution_count": 2,
   "metadata": {},
   "outputs": [],
   "source": [
    "# Redirect stdout to console, to not get too much text output in the notebook\n",
    "# This means that the notebook will not output any text. Text will be redirected\n",
    "# to the terminal where the notebook was started.\n",
    "sys.stdout = open(1, 'w')"
   ]
  },
  {
   "cell_type": "code",
   "execution_count": 3,
   "metadata": {},
   "outputs": [],
   "source": [
    "# A print test\n",
    "print(\"Hei!\")"
   ]
  },
  {
   "cell_type": "code",
   "execution_count": 4,
   "metadata": {},
   "outputs": [],
   "source": [
    "# Get printing back to the notebook if preferred\n",
    "# Run once\n",
    "#sys.stdout = nb_stdout"
   ]
  },
  {
   "cell_type": "markdown",
   "metadata": {},
   "source": [
    "### __Procedure leading up to this assessment__:"
   ]
  },
  {
   "cell_type": "markdown",
   "metadata": {},
   "source": [
    "Relative to the location of main.py (not the notebook), specify parameters of the main program run:"
   ]
  },
  {
   "cell_type": "code",
   "execution_count": 4,
   "metadata": {},
   "outputs": [],
   "source": [
    "DICOM_directory = \"../DICOM_no_spaces\"\n",
    "output_directory_suffix = \"2019_04_25\""
   ]
  },
  {
   "cell_type": "markdown",
   "metadata": {},
   "source": [
    "The corrections output base directory from main.py is then in this toturial (relative path from main.py directory):"
   ]
  },
  {
   "cell_type": "code",
   "execution_count": 5,
   "metadata": {},
   "outputs": [
    {
     "data": {
      "text/plain": [
       "'../epi_corrections_out_2019_04_25'"
      ]
     },
     "execution_count": 5,
     "metadata": {},
     "output_type": "execute_result"
    }
   ],
   "source": [
    "corrections_base_directory = \"../epi_corrections_out_\" + output_directory_suffix\n",
    "corrections_base_directory"
   ]
  },
  {
   "cell_type": "markdown",
   "metadata": {},
   "source": [
    "Get the (full) path to the epi_corrections root directory:"
   ]
  },
  {
   "cell_type": "code",
   "execution_count": 6,
   "metadata": {},
   "outputs": [
    {
     "data": {
      "text/plain": [
       "'/media/loek/HDD3TB1/data/IVS_EPI_BASELINE/epi_corrections'"
      ]
     },
     "execution_count": 6,
     "metadata": {},
     "output_type": "execute_result"
    }
   ],
   "source": [
    "from os import getcwd\n",
    "from os.path import abspath\n",
    "epi_corrections_root_directory = abspath(getcwd() + \"/..\") # Go one directory up from current working directory\n",
    "epi_corrections_root_directory"
   ]
  },
  {
   "cell_type": "markdown",
   "metadata": {},
   "source": [
    "0. Verify that epi_corrections successfully detects EPI pairs. This will also perform the dicom -> nifti conversion."
   ]
  },
  {
   "cell_type": "code",
   "execution_count": 41,
   "metadata": {},
   "outputs": [],
   "source": [
    "%%bash -s \"$epi_corrections_root_directory\" \"$DICOM_directory\" \"$output_directory_suffix\" \"$corrections_base_directory\"\n",
    "epi_corrections_root_directory=$1\n",
    "DICOM_directory=$2\n",
    "output_directory_suffix=$3\n",
    "corrections_base_directory=$4\n",
    "cd $epi_corrections_root_directory\n",
    "mkdir -p $corrections_base_directory\n",
    "pipeline_report_file=$corrections_base_directory/pipeline_report_$output_directory_suffix.txt\n",
    "full_command='python3 main.py \n",
    "                    --DICOM_directory='\"'$DICOM_directory'\"'\n",
    "                    --output_directory_suffix='\"'$output_directory_suffix'\"'\n",
    "                    --run_dcm2niix\n",
    "                    --print_epi_pairs\n",
    "                    2>&1 | tee $pipeline_report_file'\n",
    "eval $full_command"
   ]
  },
  {
   "cell_type": "markdown",
   "metadata": {},
   "source": [
    "See the pipeline reports:\n",
    "\n",
    "corrections_base_directory/pipeline_report_*.txt\n",
    "\n",
    "corrections_base_directory/EPI/DICOM to NIFTI conversion report with keyword epi.txt\n",
    "\n",
    "corrections_base_directory/FLAIR_3D/DICOM to NIFTI conversion report with keyword flair_3d.txt\n",
    "\n",
    "for logs of the dcm2niix conversions.\n",
    "\n",
    "stdout + stderr for the run preparation script scripts/EPI_hmc_nICE_prepare_dir.sh\n",
    "is not saved to a file."
   ]
  },
  {
   "cell_type": "markdown",
   "metadata": {},
   "source": [
    "__Inspect__\n",
    "\n",
    "corrections_base_directory/pipeline_report_*.txt\n",
    "\n",
    "to verify that __blip-down, blip-up EPI pairs__ have been successfully identified."
   ]
  },
  {
   "cell_type": "markdown",
   "metadata": {},
   "source": [
    "#### Nordic ICE (nICE) Batch Head Motion Correction (BHMC):\n",
    "1. epi_corrections is used to create an EPI directory for nICE BHMC only. It will use scripts/EPI_hmc_nICE_prepare_dir.sh"
   ]
  },
  {
   "cell_type": "code",
   "execution_count": 42,
   "metadata": {},
   "outputs": [],
   "source": [
    "%%bash -s \"$epi_corrections_root_directory\" \"$DICOM_directory\" \"$output_directory_suffix\" \"$corrections_base_directory\"\n",
    "epi_corrections_root_directory=$1\n",
    "DICOM_directory=$2\n",
    "output_directory_suffix=$3\n",
    "corrections_base_directory=$4\n",
    "cd $epi_corrections_root_directory\n",
    "mkdir -p $corrections_base_directory\n",
    "pipeline_report_file=$corrections_base_directory/pipeline_report_$output_directory_suffix.txt\n",
    "full_command='python3 main.py \n",
    "                    --DICOM_directory='\"'$DICOM_directory'\"'\n",
    "                    --output_directory_suffix='\"'$output_directory_suffix'\"'\n",
    "                    --epi_hmc\n",
    "                    --epi_nICE_hmc_not_done\n",
    "                    2>&1 | tee -a $pipeline_report_file'\n",
    "eval $full_command"
   ]
  },
  {
   "cell_type": "markdown",
   "metadata": {},
   "source": [
    "2. nICE BHMC is run on the prepared directory. See scripts/nICE_batch_hmc_example.PNG\n",
    "for the necessary settings:"
   ]
  },
  {
   "cell_type": "markdown",
   "metadata": {},
   "source": [
    "![title](../scripts/nICE_batch_hmc_example.PNG)"
   ]
  },
  {
   "cell_type": "markdown",
   "metadata": {},
   "source": [
    "#### FSL TOPUP and EPIC intensity and distortion corrections:\n",
    "3. epi_corrections is run completely, performing FSL TOPUP and EPIC corrections on the BHMC epi images. It will first use scripts/EPI_hmc_nICE_prepare_copy_back.sh to get the BHMC EPIs. After performing FSL TOPUP and EPIC corrections, respectively, it will perform FreeSurfer mri_robust_register to a structural image (FLAIR 3D) of EPI images, and assess similarities between combinations of corrected and non-corrected EPIs, using Normalized Mutual Information. Results should be in `<corrections_base_directory>`/TOPUP/topup_performance_metrics.txt and `<corrections_base_directory>`/EPIC/epic_performance_metrics.txt ."
   ]
  },
  {
   "cell_type": "code",
   "execution_count": 43,
   "metadata": {},
   "outputs": [],
   "source": [
    "%%bash -s \"$epi_corrections_root_directory\" \"$DICOM_directory\" \"$output_directory_suffix\" \"$corrections_base_directory\"\n",
    "epi_corrections_root_directory=$1\n",
    "DICOM_directory=$2\n",
    "output_directory_suffix=$3\n",
    "corrections_base_directory=$4\n",
    "cd $epi_corrections_root_directory\n",
    "pipeline_report_file=$corrections_base_directory/pipeline_report_$output_directory_suffix.txt\n",
    "full_command='python3 main.py \n",
    "                    --DICOM_directory='\"'$DICOM_directory'\"'\n",
    "                    --output_directory_suffix='\"'$output_directory_suffix'\"'\n",
    "                    --epi_hmc\n",
    "                    --run_topup\n",
    "                    --run_epic\n",
    "                    2>&1 | tee -a $pipeline_report_file'\n",
    "eval $full_command"
   ]
  },
  {
   "cell_type": "markdown",
   "metadata": {},
   "source": [
    "See the appended pipeline report:\n",
    "\n",
    "corrections_base_directory/pipeline_report_*.txt\n",
    "\n",
    "for correction logs.\n",
    "\n",
    "To see what's happening during the run, you can follow the changes of the file by running the terminal command from corrections_base_directory:\n",
    "\n",
    "tail -f pipeline_report_*.txt\n"
   ]
  },
  {
   "cell_type": "markdown",
   "metadata": {},
   "source": [
    "#### nICE Batch Perfusion Analysis (BPA) on uncorrected, TOPUP corrected and EPIC corrected EPIs:\n",
    "4. ../scripts/EPI_perfusion_anal_nICE_make_uncorr_dir.sh is run to make a directory containing uncorrected EPIs of interest (thus containing the DSC EPIs only and not also the opposite phase encoded EPIs):"
   ]
  },
  {
   "cell_type": "code",
   "execution_count": 58,
   "metadata": {},
   "outputs": [],
   "source": [
    "%%bash -s \"$epi_corrections_root_directory\" \"$corrections_base_directory\"\n",
    "epi_corrections_root_directory=$1\n",
    "corrections_base_directory=$2\n",
    "cd $epi_corrections_root_directory\n",
    "full_command='bash scripts/EPI_perfusion_anal_nICE_make_uncorr_dir.sh \n",
    "            \"'$corrections_base_directory'/EPI\"'\n",
    "eval $full_command"
   ]
  },
  {
   "cell_type": "markdown",
   "metadata": {},
   "source": [
    "The raw DSC should now be copied into the directory\n",
    "\n",
    "corrections_base_directory/EPI_raw_DSC\n",
    "\n",
    "for easier raw DSC Perfusion analysis."
   ]
  },
  {
   "cell_type": "markdown",
   "metadata": {},
   "source": [
    "5. ../scripts/EPI_perfusion_anal_nICE_prepare_dir.sh is run three times to prepare directories for nICE BPA:"
   ]
  },
  {
   "cell_type": "code",
   "execution_count": 59,
   "metadata": {},
   "outputs": [],
   "source": [
    "%%bash -s \"$epi_corrections_root_directory\" \"$corrections_base_directory\"\n",
    "epi_corrections_root_directory=$1\n",
    "corrections_base_directory=$2\n",
    "cd $epi_corrections_root_directory\n",
    "\n",
    "command_raw='bash scripts/EPI_perfusion_anal_nICE_prepare_dir.sh \n",
    "            \"'$corrections_base_directory'/EPI_raw_DSC\" raw'\n",
    "eval $command_raw\n",
    "\n",
    "command_topup='bash scripts/EPI_perfusion_anal_nICE_prepare_dir.sh \n",
    "            \"'$corrections_base_directory'/EPI_applytopup\" topup'\n",
    "eval $command_topup\n",
    "\n",
    "command_epic='bash scripts/EPI_perfusion_anal_nICE_prepare_dir.sh \n",
    "            \"'$corrections_base_directory'/EPI_applyepic\" epic'\n",
    "eval $command_epic"
   ]
  },
  {
   "cell_type": "markdown",
   "metadata": {},
   "source": [
    "A directory suited for NordicICE Batch Perfusion Analysis should now have been created:\n",
    "\n",
    "corrections_base_directory/EPI_for_nICE_batch_perfusion_analysis\n",
    "\n",
    "that contains raw, topup and epic corrected DSC files."
   ]
  },
  {
   "cell_type": "markdown",
   "metadata": {},
   "source": [
    "6. nICE BPA is run. Let most of the settings to default settings. See scripts/nICE batch_perfusion_example.PNG . The only change in Main settings from this nICE version (4.0) was to remove the text \"prefix_\" in the \"Output image prefix:\" box. Only rCBV is analysed further, so only rCBV needs to be ticked. Under AIF, check off No AIF. Under option, under Normalization tick Normalize CBV and CBF. Under Leakage correction, tick Apply leakage (extravasation) correction. Under Signal conversion, Signal conversion type is \"SI to delR2\"."
   ]
  },
  {
   "cell_type": "markdown",
   "metadata": {},
   "source": [
    "![title](../scripts/nICE_batch_perfusion_example.PNG)"
   ]
  },
  {
   "cell_type": "markdown",
   "metadata": {},
   "source": [
    "nICE should now have created a Perf folder within each of the random number named folders in EPI_for_nICE_batch_perfusion_analysis ."
   ]
  },
  {
   "cell_type": "markdown",
   "metadata": {},
   "source": [
    "7. The commands in the following cell copy back images in Perf folders to repsective *perf folders within EPI_raw_DSC, EPI_applytopup and EPI_applyepic ."
   ]
  },
  {
   "cell_type": "code",
   "execution_count": 60,
   "metadata": {},
   "outputs": [],
   "source": [
    "%%bash -s \"$epi_corrections_root_directory\" \"$corrections_base_directory\"\n",
    "epi_corrections_root_director=$1\n",
    "corrections_base_directory=$2\n",
    "cd $epi_corrections_root_director\n",
    "\n",
    "command_raw='bash scripts/EPI_perfusion_anal_nICE_prepare_copy_back.sh \n",
    "            \"'$corrections_base_directory'/EPI_raw_DSC\"'\n",
    "eval $command_raw\n",
    "\n",
    "command_topup='bash scripts/EPI_perfusion_anal_nICE_prepare_copy_back.sh \n",
    "            \"'$corrections_base_directory'/EPI_applytopup\"'\n",
    "eval $command_topup\n",
    "\n",
    "command_epic='bash scripts/EPI_perfusion_anal_nICE_prepare_copy_back.sh \n",
    "            \"'$corrections_base_directory'/EPI_applyepic\"'\n",
    "eval $command_epic"
   ]
  },
  {
   "cell_type": "markdown",
   "metadata": {},
   "source": [
    "#### Matlab SPM coregistration + MNI normalization\n",
    "8. som_pipeline/coreg_norm_images.m is run to perform coregistration (to FLAIR 3D) (again, but now using SPM) and MNI normalization of raw, TOPUP and EPIC corrected EPIs, off-resonance fields (TOPUP), displacement fields (EPIC), as well as associated Normalized Relative CBV maps from BPA (not the the orther Perfusion images). Verify that epi_corrections_out_dir in ../spm_pipeline/coreg_norm_images.m is set to the correct directory then run:"
   ]
  },
  {
   "cell_type": "code",
   "execution_count": 11,
   "metadata": {},
   "outputs": [],
   "source": [
    "%%bash -s \"$epi_corrections_root_directory\" \"$corrections_base_directory\" \"$output_directory_suffix\"\n",
    "epi_corrections_root_directory=$1\n",
    "corrections_base_directory=../$2\n",
    "output_directory_suffix=$3\n",
    "\n",
    "spm_path=/media/loek/HDD3TB1/apps/spm12 # This needs to be changed\n",
    "cd $epi_corrections_root_directory\n",
    "pipeline_report_file=$2/pipeline_report_spm_$output_directory_suffix.txt\n",
    "run_command='matlab \n",
    "                -nodisplay \n",
    "                -nosplash \n",
    "                -nodesktop \n",
    "                -r \"cd('\"'spm_pipeline'\"'); \n",
    "                    addpath('\"'$spm_path'\"'); \n",
    "                    myCluster = parcluster; \n",
    "                    myCluster.NumWorkers = 6; \n",
    "                    saveProfile(myCluster); \n",
    "                    parpool(6); \n",
    "                    coreg_norm_images('\"'$corrections_base_directory'\"'); \n",
    "                    exit;\" \n",
    "                2>&1 | tee -a $pipeline_report_file'\n",
    "eval $run_command"
   ]
  },
  {
   "cell_type": "markdown",
   "metadata": {},
   "source": [
    "To see the log, run from corrections_base_directory\n",
    "\n",
    "tail -f pipeline_report_spm*.txt"
   ]
  },
  {
   "cell_type": "markdown",
   "metadata": {},
   "source": [
    "https://se.mathworks.com/matlabcentral/answers/72661-starting-multiple-workers-from-the-command-prompt\n",
    "\n",
    "https://se.mathworks.com/help/parallel-computing/run-code-on-parallel-pools.html"
   ]
  },
  {
   "cell_type": "markdown",
   "metadata": {},
   "source": [
    "#### Calculate MNI CBV region histograms\n",
    "9. Run:"
   ]
  },
  {
   "cell_type": "code",
   "execution_count": 24,
   "metadata": {},
   "outputs": [],
   "source": [
    "%%bash -s \"$epi_corrections_root_directory\" \"$corrections_base_directory\" \"$output_directory_suffix\"\n",
    "epi_corrections_root_directory=$1\n",
    "corrections_base_directory=../$2\n",
    "output_directory_suffix=$3\n",
    "cd $epi_corrections_root_directory\n",
    "pipeline_report_file=$2/pipeline_report_spm_$output_directory_suffix.txt\n",
    "run_command='matlab \n",
    "                -nojvm \n",
    "                -nodisplay \n",
    "                -nosplash \n",
    "                -nodesktop \n",
    "                -r \"cd('\"'spm_pipeline'\"'); \n",
    "                    compute_and_save_CBV_region_histograms('\"'$corrections_base_directory'\"'); \n",
    "                    exit;\" \n",
    "                2>&1 | tee -a $pipeline_report_file'\n",
    "eval $run_command"
   ]
  },
  {
   "cell_type": "markdown",
   "metadata": {},
   "source": [
    "To see the log, run from corrections_base_directory\n",
    "\n",
    "tail -f pipeline_report_spm*.txt"
   ]
  },
  {
   "cell_type": "markdown",
   "metadata": {},
   "source": [
    "__NOTE:__ This command assumes that there exist a (resliced to DSC voxel resolution) rlabels_Neuromorphometrics.nii in corrections_base_directory from previous step (8.)"
   ]
  },
  {
   "cell_type": "markdown",
   "metadata": {},
   "source": [
    "Matlab .mat files of MNI region histograms should now be saved to `<corrections_base_directory>`/CBV_histograms ."
   ]
  },
  {
   "cell_type": "markdown",
   "metadata": {},
   "source": [
    "http://mmcdan.github.io/posts/interacting-with-the-shell-via-jupyter-notebook/"
   ]
  }
 ],
 "metadata": {
  "kernelspec": {
   "display_name": "Python 3",
   "language": "python",
   "name": "python3"
  },
  "language_info": {
   "codemirror_mode": {
    "name": "ipython",
    "version": 3
   },
   "file_extension": ".py",
   "mimetype": "text/x-python",
   "name": "python",
   "nbconvert_exporter": "python",
   "pygments_lexer": "ipython3",
   "version": "3.6.8"
  }
 },
 "nbformat": 4,
 "nbformat_minor": 2
}
